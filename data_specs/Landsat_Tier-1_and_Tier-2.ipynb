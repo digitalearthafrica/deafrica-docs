{
 "cells": [
  {
   "cell_type": "markdown",
   "id": "97ca5bbb-e0f1-4bae-8d10-b483cbe7124a",
   "metadata": {},
   "source": [
    "# Landsat Collection 2 Tiers"
   ]
  },
  {
   "cell_type": "markdown",
   "id": "62baaa11-7405-40ba-9de3-9495b0119d09",
   "metadata": {},
   "source": [
    "The Landsat Collection 2 Tiers are the inventory structure used to categorize Level 1 data products based on the data quality and level of processing. \n",
    "The purpose of the tiers is to support easier identification of suitable scenes for time-series pixel-level analysis and data stacking. "
   ]
  },
  {
   "cell_type": "markdown",
   "id": "ebba4b05-6b18-4a39-a265-323ec923310f",
   "metadata": {},
   "source": [
    "The Landsat Collection 2 scenes are evaluated and categorized into 3 tiers:\n",
    "* Real time\n",
    "* Tier 1\n",
    "* Tier 2 \n",
    "\n",
    "## Real Time Tier \n",
    "\n",
    "This tier contains newly acquired imagery as all the scenes go here immediately after acquisition. \n",
    "After the final calibration, the scenes are transitioned to either Tier 1 or Tier 2 and removed from the Real-Time Tier. \n",
    "The radial Root Mean Square Error (RMSE) threshold of 12 meters for the georegestration image-to-image tolerances is used to determine whether the data goes into Tier 1 or Tier 2. \n",
    "Landsat 8 scenes are placed into the final tier within 14 to 16 days after acquisition while Landsat 7 scenes are placed within 26 days after acquisition.\n",
    "\n",
    "## Tier 1 \n",
    "\n",
    "Landsat scenes whose RMSE is less than or equal to 12 metres are categorized into Tier 1.\n",
    "This tier contains Landsat scenes with the highest available radiometric and positional data quality and are considered suitable for time-series analysis.  \n",
    "\n",
    "## Tier 2 \n",
    "\n",
    "Landsat scenes whose RMSE is greater than 12 metres are categorized into Tier 2.\n",
    "This tier contains all the scenes that fail to meet the Tier 1 criteria during processing.\n",
    "This failure to meet the RMSE 12 meter threshold could be due to less accurate orbital information (specific to older Landsat sensors), significant cloud cover which affects the radiometric calibration and  insufficient ground control points within the scenes."
   ]
  },
  {
   "cell_type": "markdown",
   "id": "df497b8c-6398-4161-93ec-17e61e58b42c",
   "metadata": {},
   "source": [
    "Digital Earth Africa (DE Africa) provides free and open access to a copy of [Landsat Collection 2 Level-2 Tier 1](https://www.usgs.gov/core-science-systems/nli/landsat/landsat-collection-2-level-2-science-products) products over Africa. These products are produced and provided by the United States Geological Survey (USGS). \n",
    "\n",
    "USGS Landsat Collection 2 Level-2 includes:\n",
    "* Surface Reflectance\n",
    "* Surface Temperature"
   ]
  },
  {
   "cell_type": "markdown",
   "id": "439788d4-74b9-412e-bd0e-64c116cdf471",
   "metadata": {},
   "source": [
    "### References\n",
    "[USGS Landsat Collections - What are Tiers website](https://www.usgs.gov/media/videos/landsat-collections-what-are-tiers)\n",
    "\n",
    "[USGS Landsat Collection 2 website](https://www.usgs.gov/landsat-missions/landsat-collection-2)\n",
    "\n",
    "[Yale Center for Earth Observation Landsat Collection website](https://yceo.yale.edu/landsat-collections)\n"
   ]
  }
 ],
 "metadata": {
  "kernelspec": {
   "display_name": "Python 3 (ipykernel)",
   "language": "python",
   "name": "python3"
  },
  "language_info": {
   "codemirror_mode": {
    "name": "ipython",
    "version": 3
   },
   "file_extension": ".py",
   "mimetype": "text/x-python",
   "name": "python",
   "nbconvert_exporter": "python",
   "pygments_lexer": "ipython3",
   "version": "3.8.10"
  }
 },
 "nbformat": 4,
 "nbformat_minor": 5
}
