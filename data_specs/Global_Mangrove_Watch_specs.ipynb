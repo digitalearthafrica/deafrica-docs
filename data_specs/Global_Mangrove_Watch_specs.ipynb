{
 "cells": [
  {
   "cell_type": "markdown",
   "id": "0d6776be-5362-4d87-801b-4ccea36527d5",
   "metadata": {},
   "source": [
    "# Global Mangrove Watch"
   ]
  },
  {
   "cell_type": "markdown",
   "id": "519487a3-9c23-4c9c-8291-9b16612b1a2f",
   "metadata": {},
   "source": [
    "## Product Overview"
   ]
  },
  {
   "cell_type": "markdown",
   "id": "970c12aa-bf81-4437-9cd0-c5c6781d8569",
   "metadata": {},
   "source": [
    "### Background"
   ]
  },
  {
   "cell_type": "markdown",
   "id": "1683666f-d4f6-4e9e-b91c-e37fb3d2fcc4",
   "metadata": {},
   "source": [
    "The Global Mangrove Watch (GMW) dataset is a result of the collaboration between Aberystwyth University (U.K.), solo Earth Observation (soloEO; Japan), Wetlands International the World Conservation Monitoring Centre (UNEP-WCMC) and the Japan Aerospace Exploration Agency (JAXA).\n",
    "The primary objective of producing this dataset is to provide countries lacking a national mangrove monitoring system with first cut mangrove extent and change maps, to help safeguard against further mangrove forest loss and degradation.\n",
    "\n",
    "The Global Mangrove Watch dataset consists of a global baseline map of mangroves for 2010 and changes from this baseline for six epochs i.e. 1996, 2007, 2008, 2009, 2015 and 2016.\n",
    "Annual maps are planned from 2018 and onwards.\n",
    "The dataset can be used to identify mangrove ecosystems and monitor changes in mangrove extent. This is important in applications such as quantifying 'blue carbon', mitigating risks from natural disasters, and prioritising restoration activities. For more information on the Global Watch Mangrove product see the [Global Mangrove Watch website](https://www.globalmangrovewatch.org/?map=eyJiYXNlbWFwIjoibGlnaHQiLCJ2aWV3cG9ydCI6eyJsYXRpdHVkZSI6MjAsImxvbmdpdHVkZSI6MCwiem9vbSI6MiwiYmVhcmluZyI6MCwicGl0Y2giOjB9fQ%3D%3D). \n",
    "\n",
    "Digital Earth Africa provides free and open access to a copy of the Global Mangrove Watch product over Africa for the period 1996 to 2016 sourced from the UN Environment Program at https://data.unep-wcmc.org/datasets/45.\n",
    "\n",
    "A [Jupyter Notebook](https://github.com/digitalearthafrica/deafrica-sandbox-notebooks/blob/main/Datasets/Global_Mangrove_Watch.ipynb) which demonstrates loading and using this dataset in the Sandbox is also available."
   ]
  },
  {
   "cell_type": "markdown",
   "id": "44aedb45-1c26-44f0-addb-867fb0d626f3",
   "metadata": {},
   "source": [
    "### Specifications"
   ]
  },
  {
   "cell_type": "markdown",
   "id": "71456da9-c744-4c4e-a063-f7ae0d16787c",
   "metadata": {},
   "source": [
    "#### Spatial and temporal coverage"
   ]
  },
  {
   "cell_type": "markdown",
   "id": "6f26476c-bc2d-4b44-9b7d-b4b45af4bf0b",
   "metadata": {},
   "source": [
    "Relevant metadata for the Global Mangrove Watch product can be viewed on the DE Africa [Metadata Explorer](https://explorer.digitalearth.africa/products/gmw)."
   ]
  },
  {
   "cell_type": "markdown",
   "id": "45aced11-6283-459c-9a7d-d706591f89a8",
   "metadata": {},
   "source": [
    "**Table 1: Global Mangrove Watch product specifications.**"
   ]
  },
  {
   "cell_type": "markdown",
   "id": "60926a69-5dc6-4e3b-a5a4-c407f9ddda23",
   "metadata": {},
   "source": [
    "| Specification | |\n",
    "| :-- | :-- |\n",
    "| Product Name | `gmw` |\n",
    "| Cell size - X (degrees) | 0.0002 (~20m) |\n",
    "| Cell size - Y (degrees) | 0.0002 (~20m) |\n",
    "| Coordinate reference system | `EPSG:4326` |\n",
    "| Temporal Extent | 1996 - 2016 |\n",
    "| Update frequency | Annual | "
   ]
  },
  {
   "cell_type": "markdown",
   "id": "fd237387-415f-4a10-afae-7ed25c2c1cff",
   "metadata": {},
   "source": [
    "The specific temporal and geographical extents for the product can be explored as an interactive map on the DE Africa [Metadata Explorer](https://explorer.digitalearth.africa/products/gmw). Data is available for the region shaded in blue."
   ]
  },
  {
   "cell_type": "markdown",
   "id": "4b8ef36a-9b8c-4dac-890a-2a42774bc911",
   "metadata": {},
   "source": [
    "**Figure 1: Global Mangrove Watch product geographic extent.**"
   ]
  },
  {
   "cell_type": "markdown",
   "id": "2cd96741-c17d-4461-a619-52329c93fdfb",
   "metadata": {},
   "source": [
    "<img src=\"../_static/data_specs/Global_Mangrove_Watch_specs/gmw_geographic_extent.png\"  alt=\"GMW Geographic Extent\" width=\"300\" align=\"left\"/>"
   ]
  },
  {
   "cell_type": "markdown",
   "id": "57054935-e7fe-4689-8016-cb666832f1d3",
   "metadata": {},
   "source": [
    "#### Measurements"
   ]
  },
  {
   "cell_type": "markdown",
   "id": "c0a4ae87-7792-47c4-b521-3644938374dd",
   "metadata": {},
   "source": [
    "**Table 2: Global Mangrove Watch product measurements.**"
   ]
  },
  {
   "cell_type": "markdown",
   "id": "bbde54f6-3c6c-4010-a7c8-1e2022d0e7e9",
   "metadata": {},
   "source": [
    "| Band ID | Description | Units | Data type | No data$^\\dagger$ |\n",
    "| :-- | :-- | :-- | :-- | :-- |\n",
    "| mangrove | Binary classification where 1 corresponds to mangroves and 0 is no mangroves. | `1` | `uint8` | ` 0.0` | "
   ]
  },
  {
   "cell_type": "markdown",
   "id": "1666166d-ebc4-4538-8396-5cc9888738f6",
   "metadata": {},
   "source": [
    "$^\\dagger$ No data or fill value."
   ]
  },
  {
   "cell_type": "markdown",
   "id": "4fb543db-4aa7-4e85-8b41-23ccb3c273fc",
   "metadata": {},
   "source": [
    "### Processing"
   ]
  },
  {
   "cell_type": "markdown",
   "id": "4ff68827-11da-4099-8da7-9109b4676535",
   "metadata": {},
   "source": [
    "The Global Mangrove Watch global baseline map of mangroves for 2010 was generated by Extremely Randomized Trees classification of a combination of L-band ALOS PALSAR (radar) and Landsat-5 and Landsat-7 (optical) satellite data covering the coastlines along the tropical and sub-tropical coastlines in the Americas, Africa, Asia and Oceania. The classification was constrained using a mangrove habitat mask, which defined regions where mangrove ecosystems likely exist. This definition was based on geographical parameters such as latitude, elevation and distance from ocean water. Mangrove pixels forming the classification training data were randomly extracted from a union of existing global mangrove maps from [Giri et al., 2011](https://doi.org/10.1111/j.1466-8238.2010.00584.x) and [Spalding et al. 2010](https://doi.org/10.4324/9781849776608). The generation of the global baseline map is covered in [Bunting, P. et al., 2018](https://www.mdpi.com/2072-4292/10/10/1669)."
   ]
  },
  {
   "cell_type": "markdown",
   "id": "6d53a11f-dd01-449f-b8fb-5baf8b63e41e",
   "metadata": {},
   "source": [
    "The changes in mangrove forest extent from the 2010 baseline map to 2014 and after, were derived from ALOS-2 PALSAR-2 (radar) data whereas historic changes in mangrove forest exent were derived from JERS-1 and ALOS PALSAR (radar) data using a histogram thresholding approach [Thomas et al., 2017](https://doi.org/10.1371/journal.pone.0179302).\n"
   ]
  },
  {
   "cell_type": "markdown",
   "id": "4c7760d6-db60-4e81-b173-440aaa2ffd91",
   "metadata": {},
   "source": [
    "### Media and example images"
   ]
  },
  {
   "cell_type": "markdown",
   "id": "3e203587-9622-4f93-9ba4-d83bbbd7c39d",
   "metadata": {},
   "source": [
    "**Figure 2: Global Mangrove Watch mangrove extent along the coast of Mozambique in the year 1996.**"
   ]
  },
  {
   "cell_type": "markdown",
   "id": "c69910e3-529a-415c-a04d-1aa3ca58bb4e",
   "metadata": {},
   "source": [
    "<img src=\"../_static/data_specs/Global_Mangrove_Watch_specs/gmw_mozambique.png\"  alt=\"GMW Mozambique\" width=\"500\" align=\"left\"/>"
   ]
  },
  {
   "cell_type": "markdown",
   "id": "a397b9d1-96af-4fc9-a881-f1ac96221d03",
   "metadata": {},
   "source": [
    "*Credit: Contains the Global Mangrove Watch product courtesy of the UN Environment World Conservation Monitoring Centre processed by Digital Earth Africa.*"
   ]
  },
  {
   "cell_type": "markdown",
   "id": "e155a435-b5ac-4774-ab52-b90a9163f0a4",
   "metadata": {},
   "source": [
    "### References"
   ]
  },
  {
   "cell_type": "markdown",
   "id": "61b6c161-616b-4edc-bb27-f8ac27a40595",
   "metadata": {},
   "source": [
    "Bunting P., Rosenqvist A., Lucas R., Rebelo L-M., Hilarides L., Thomas N., Hardy A.,\n",
    "Itoh T., Shimada M. and Finlayson C.M. (2018). The Global Mangrove Watch – a\n",
    "New 2010 Global Baseline of Mangrove Extent. Remote Sensing 10(10): 1669. doi:\n",
    "10.3390/rs1010669."
   ]
  },
  {
   "cell_type": "markdown",
   "id": "93960d70-e5f8-4014-bf87-5cdb85c8dee9",
   "metadata": {},
   "source": [
    "Thomas N, Lucas R, Bunting P, Hardy A, Rosenqvist A, Simard M. (2017).\n",
    "Distribution and drivers of global mangrove forest change, 1996-2010. PLOS ONE\n",
    "12: e0179302. doi: 10.1371/journal.pone.0179302"
   ]
  },
  {
   "cell_type": "markdown",
   "id": "f60d1576-3320-4736-853d-f9ced6a4c892",
   "metadata": {},
   "source": [
    "[Global Mangrove Watch Metadata](https://data.unep-wcmc.org/pdfs/45/GMW_001_Metadata.pdf?1560444488)"
   ]
  },
  {
   "cell_type": "markdown",
   "id": "24a260b7-453b-48c8-8d44-05ae9ecab59c",
   "metadata": {},
   "source": [
    "[Global Mangrove Watch (GMW) online platform](https://www.globalmangrovewatch.org/)"
   ]
  },
  {
   "cell_type": "markdown",
   "id": "2b1e043a-5d55-4d88-aa74-43fd249d8416",
   "metadata": {},
   "source": [
    "### License"
   ]
  },
  {
   "cell_type": "markdown",
   "id": "f4dd2fb8-1c68-436e-a474-93eeb198d271",
   "metadata": {},
   "source": [
    "The Global Mangrove Watch dataset is available under a Creative Commons Attribution 4.0 International (CC BY 4.0) license. See https://creativecommons.org/licenses/by/4.0/ for details."
   ]
  },
  {
   "cell_type": "markdown",
   "id": "b5044771-e040-4722-9f9f-5c2cef69b1f5",
   "metadata": {},
   "source": [
    "### Acknowledgements"
   ]
  },
  {
   "cell_type": "markdown",
   "id": "8f59012d-490c-4578-8be1-0defced4bd3c",
   "metadata": {},
   "source": [
    "The Global Mangrove Watch dataset was generated by Aberystwyth University and soloEO within the framework of the Global Mangrove Watch (GMW) project, which is a part of the Japan Aerospace Exploration Agency’s (JAXA) Kyoto & Carbon Initiative and the Mangrove Capital Africa Programme coordinated by Wetlands International and financed by DOB Ecology."
   ]
  },
  {
   "cell_type": "markdown",
   "id": "bcba4446-4da4-491b-b73a-e84e62d4ff9e",
   "metadata": {},
   "source": [
    "## Data access"
   ]
  },
  {
   "cell_type": "markdown",
   "id": "ee476344-70a0-4884-a216-6541405d9b09",
   "metadata": {},
   "source": [
    "### Amazon Web Services S3"
   ]
  },
  {
   "cell_type": "markdown",
   "id": "77629800-1c1c-45e5-bc8b-b4decdf7f9a0",
   "metadata": {},
   "source": [
    "The Global Mangrove Watch product is available in AWS S3."
   ]
  },
  {
   "cell_type": "markdown",
   "id": "1a6e6dd2-f738-4a82-82c6-6621f9636b68",
   "metadata": {},
   "source": [
    "**Table 3: AWS data acess details.**"
   ]
  },
  {
   "cell_type": "markdown",
   "id": "beafb72d-c891-4266-8896-9a3144fcc415",
   "metadata": {},
   "source": [
    "|AWS S3 details | |\n",
    "|----------|-------------|\n",
    "|Bucket ARD | `arn:aws:s3:::deafrica-input-datasets`|\n",
    "|Region | `af-south-1` |"
   ]
  },
  {
   "cell_type": "markdown",
   "id": "4caaafc5-e55b-4d39-9e7e-34c391b1e494",
   "metadata": {},
   "source": [
    "The bucket is in the AWS region `af-south-1` (Cape Town). Additional region specifications can be applied as follows:\n",
    "\n",
    "`aws s3 ls --region=af-south-1 s3://deafrica-input-datasets/`\n",
    "\n",
    "The file paths follow the format: \n",
    "`s3://deafrica-input-datasets/gmw/<year>/`.\n"
   ]
  },
  {
   "cell_type": "markdown",
   "id": "61a65459-3579-44db-9a64-c6e438489b24",
   "metadata": {},
   "source": [
    "### OGC Web Services (OWS)"
   ]
  },
  {
   "cell_type": "markdown",
   "id": "805f71be-553d-411b-b9e8-2dd2c46b82ff",
   "metadata": {},
   "source": [
    "The Global Mangrove Watch product `gmw`  is available through the Digital Earth Africa's OWS. "
   ]
  },
  {
   "cell_type": "markdown",
   "id": "ab678218-c60a-4f89-9cb9-56bded30ee0d",
   "metadata": {},
   "source": [
    "**Table 3: OWS data access details.**"
   ]
  },
  {
   "cell_type": "markdown",
   "id": "c5d0de8e-b859-4573-a278-d6bd9a6da6ad",
   "metadata": {},
   "source": [
    "|OWS details | |\n",
    "|----------|-------------|\n",
    "|Name | `DE Africa Services` |\n",
    "|Web Map Services (WMS) URL | `https://ows.digitalearth.africa/wms?version=1.3.0` |\n",
    "| Web Coverage Service (WCS) URL | `https://ows.digitalearth.africa/wcs?version=2.1.0`|\n",
    "| Layer name | `gmw`|"
   ]
  },
  {
   "cell_type": "markdown",
   "id": "b2535fc8-6934-4063-ad87-c4abd6d17ef4",
   "metadata": {},
   "source": [
    "Digital Earth Africa OWS details can be found at [https://ows.digitalearth.africa/](https://ows.digitalearth.africa/).\n",
    "\n",
    "For instructions on how to connect to OWS, see [this tutorial](../web_services/index.ipynb)."
   ]
  },
  {
   "cell_type": "markdown",
   "id": "3a99c94c-24d3-4204-b5c7-615a24a33083",
   "metadata": {},
   "source": [
    "### Open Data Cube (ODC)"
   ]
  },
  {
   "cell_type": "markdown",
   "id": "9b902267-51f3-40cd-b7ad-0de44ead50b3",
   "metadata": {},
   "source": [
    "The Global Forest Watch product can be accessed through the Digital Earth Africa ODC API, which is available through the [Digital Earth Africa Sandbox](https://sandbox.digitalearth.africa/hub/login).\n"
   ]
  },
  {
   "cell_type": "markdown",
   "id": "acb18d70-7952-4152-99ea-a16024c9eb87",
   "metadata": {},
   "source": [
    "**ODC product name:** `gmw`"
   ]
  },
  {
   "cell_type": "markdown",
   "id": "9d55f57b-7efa-4c8c-b18e-d56893425180",
   "metadata": {},
   "source": [
    "The `gmw` product has only one specific band of data which can be called by using the default name, `mangrove`,  or by the band’s alternative name, `classification`, as listed in the table below. \n",
    "ODC `Datacube.load` commands without specified bands will load the  `mangrove`  band."
   ]
  },
  {
   "cell_type": "markdown",
   "id": "6e3a5cb7-26ae-49be-b5c6-8987ccc7889a",
   "metadata": {},
   "source": [
    "**Table 4: ODC product gmw band names.**"
   ]
  },
  {
   "cell_type": "markdown",
   "id": "a0a8b823-ac60-4bad-bcfe-3806c035e057",
   "metadata": {},
   "source": [
    "| Band name | Alternative names | Fill value |\n",
    "| :-: | :-: | :-: | \n",
    "| mangrove | classification | 0.0 |"
   ]
  },
  {
   "cell_type": "markdown",
   "id": "6e0bcda8-427c-4699-82b1-c81bcf060917",
   "metadata": {},
   "source": [
    "## Technical information"
   ]
  },
  {
   "cell_type": "markdown",
   "id": "50546dd8-eb3b-4fa3-ba8d-9674b3c6bce9",
   "metadata": {},
   "source": [
    "The quality of Global Mangrove Watch was assessed in 2018 by assessing the classification accuracy over 53,800 randomly sampled points accross 20 randomly selected regions. The global overall accuracy was found to be 95.25% with the user's and producer's accuracies for the mangrove class estimated at 97.5% and 94.0% respectively. The validation method is described in [Bunting, P. et al., 2018](https://www.mdpi.com/2072-4292/10/10/1669)."
   ]
  }
 ],
 "metadata": {
  "kernelspec": {
   "display_name": "Python 3 (ipykernel)",
   "language": "python",
   "name": "python3"
  },
  "language_info": {
   "codemirror_mode": {
    "name": "ipython",
    "version": 3
   },
   "file_extension": ".py",
   "mimetype": "text/x-python",
   "name": "python",
   "nbconvert_exporter": "python",
   "pygments_lexer": "ipython3",
   "version": "3.8.10"
  }
 },
 "nbformat": 4,
 "nbformat_minor": 5
}
