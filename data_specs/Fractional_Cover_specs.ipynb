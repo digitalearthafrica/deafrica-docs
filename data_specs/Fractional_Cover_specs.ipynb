{
 "cells": [
  {
   "cell_type": "markdown",
   "metadata": {},
   "source": [
    "# Fractional Cover"
   ]
  },
  {
   "cell_type": "raw",
   "metadata": {
    "raw_mimetype": "text/restructuredtext"
   },
   "source": [
    ".. contents::\n",
    "   :local:"
   ]
  },
  {
   "cell_type": "markdown",
   "metadata": {},
   "source": [
    "**Date modified:** 29 September 2021 "
   ]
  },
  {
   "cell_type": "markdown",
   "metadata": {},
   "source": [
    "> Due to unavailability of suitable field data from Africa, the FC service hasn't been quantitatively evaluated in Africa and therefore is provided as a _provisional_ service. We welcome feedback from users. "
   ]
  },
  {
   "cell_type": "markdown",
   "metadata": {
    "tags": []
   },
   "source": [
    "## Service overview"
   ]
  },
  {
   "cell_type": "markdown",
   "metadata": {},
   "source": [
    "### Background\n",
    "\n",
    "The Fractional Cover (FC) service provides estimates of the proportions of green vegetation, non-green vegetation (including deciduous trees during autumn, dry grass, etc.), and bare soils for every Landsat pixel. Fractional cover provides valuable information for a range of environmental and agricultural applications, including:\n",
    "\n",
    "* soil erosion monitoring\n",
    "* land surface process modelling\n",
    "* land management practices (e.g. crop rotation, stubble management, rangeland management)\n",
    "* vegetation studies\n",
    "* fuel load estimation\n",
    "* ecosystem modelling\n",
    "* land cover mapping\n",
    "\n",
    "The algorithm is developed by the [Joint Remote Sensing Research Program](https://www.jrsrp.org.au/) (JRSRP) and is described in Scarth et al. (2010). Field data collected across Australia have been used to calibrate and validate the unmixing model.\n"
   ]
  },
  {
   "cell_type": "markdown",
   "metadata": {},
   "source": [
    "### Specifications"
   ]
  },
  {
   "cell_type": "markdown",
   "metadata": {},
   "source": [
    "Coverage and metadata of Fractional Cover can be viewed on DE Africa [Metadata Explorer](https://explorer.digitalearth.africa/products/fc_ls)."
   ]
  },
  {
   "cell_type": "markdown",
   "metadata": {},
   "source": [
    "**Table 1: Fractional Cover specifications** "
   ]
  },
  {
   "cell_type": "markdown",
   "metadata": {},
   "source": [
    "|Specification | |\n",
    "|----------|-------------|\n",
    "|Product name| Fractonal Cover |\n",
    "|Cell size - X (metres) | 30 |\n",
    "|Cell size - Y (metres) | 30 |\n",
    "|Coordinate reference system | Universal Transverse Mercator (UTM) |\n",
    "|Temporal resolution | 16 days |\n",
    "|Temporal range| 1984 &ndash; present |\n",
    "|Parent dataset| Landsat Collection 2 Surface Reflectance |\n",
    "|Update frequency| Daily |"
   ]
  },
  {
   "cell_type": "markdown",
   "metadata": {},
   "source": [
    "**Table 2: Fractional Cover measurements**"
   ]
  },
  {
   "cell_type": "markdown",
   "metadata": {},
   "source": [
    "|Band ID| Description |Value range| Data type| No data value|\n",
    "|----------|-------------|----------------|:---------:|:----------:|\n",
    "|bs | Bare soil percentage |`0 - 100`| `uint8` | `255` |\n",
    "|pv | Photosynthetic (green) vegetation percentage |`0 - 100`| `uint8` | `255` |\n",
    "|npv | Non-photosynthetic (non-green) vegetation percentage |`0 - 100`| `uint8` | `255` |\n",
    "|ue | Unmixing error |`0 - 127`| `uint8` | `255` |"
   ]
  },
  {
   "cell_type": "markdown",
   "metadata": {},
   "source": [
    "Due to model uncertainties, some areas may show cover values in excess of 100%.  These areas can either be excluded or treated as equivalent to 100%.\n",
    "\n",
    "For the unmixing error (ue) band, the values are scaled between 0 and 127. High unmixing error values represent areas of high model uncertainty (areas of water, cloud, cloud shadow or soil types/colours that were not included in the model training data). "
   ]
  },
  {
   "cell_type": "markdown",
   "metadata": {},
   "source": [
    "**Figure 1: Fractional Cover geographic extent**"
   ]
  },
  {
   "cell_type": "markdown",
   "metadata": {},
   "source": [
    "<img src=\"../_static/data_specs/Fractional_Cover_specs/fc_extent.JPG\" alt=\"Fractional Cover data extent\" width=\"500\" align=\"left\"/>"
   ]
  },
  {
   "cell_type": "markdown",
   "metadata": {},
   "source": [
    "### Processing\n",
    "\n",
    "The FC algorithm is developed by the [Joint Remote Sensing Research Program](https://www.jrsrp.org.au/) (JRSRP) and is described in Scarth et al. (2010). Field data collected across Australia have been used to calibrate and validate the unmixing model. \n"
   ]
  },
  {
   "cell_type": "markdown",
   "metadata": {},
   "source": [
    "### Media and example images"
   ]
  },
  {
   "cell_type": "markdown",
   "metadata": {},
   "source": [
    "**Image 1: Fractional Cover time series**"
   ]
  },
  {
   "cell_type": "markdown",
   "metadata": {},
   "source": [
    "Fractional cover time series for an area along Olifants river, South Africa. Images are selected every 3 months from year 2020 to show seasonal changes. Bare soil, green vegetation and non-green vegeation percentages are shown as Red, Green and Blue. Area identified as water are masked out.\n",
    "\n"
   ]
  },
  {
   "cell_type": "markdown",
   "metadata": {},
   "source": [
    "<img src=\"../_static/data_specs/Fractional_Cover_specs/fc_time_series.png\" alt=\"Fractional Cover along Dawa river.\" width=\"800\" align=\"left\"/>"
   ]
  },
  {
   "cell_type": "markdown",
   "metadata": {},
   "source": [
    "The chart below indicates how the RGB colour composition can be interpreted. \n",
    "\n",
    "<img src=\"../_static/data_specs/Fractional_Cover_specs/fc_legend.jpg\" width=\"200\" align=\"left\"/>\n"
   ]
  },
  {
   "cell_type": "markdown",
   "metadata": {},
   "source": [
    "### Related services\n",
    "\n",
    "* [Landsat Collection 2 Surface Reflectance](https://docs.digitalearthafrica.org/en/latest/data_specs/Landsat_C2_SR_specs.html)\n",
    "* [Water Observations from Space](https://docs.digitalearthafrica.org/en/latest/data_specs/Landsat_WOfS_specs.html)"
   ]
  },
  {
   "cell_type": "markdown",
   "metadata": {},
   "source": [
    "### References\n",
    "\n",
    "Flood, N. (2014). Continuity of reflectance data between Landsat-7 ETM+ and Landsat-8 OLI, for both top-of-atmosphere and surface reflectance: A study in the Australian landscape. Remote Sensing, 6(9), 7952–7970. https://doi.org/10.3390/rs6097952\n",
    "\n",
    "Muir, J., Schmidt, M., Tindall, D., Trevithick, R., Scarth, P. and Stewart, J.B. (2011). Guidelines for field measurement of fractional ground cover: a technical handbook supporting the Australian Collaborative Land Use and Management Program. Queensland Department of Environment and Resource Management for the Australian Bureau of Agricultural and Resource Economics and Sciences. \n",
    "\n",
    "Scarth, P., Roder, A. and Schmidt, M. (2010). Tracking grazing pressure and climate interaction - the role of Landsat fractional cover in time series analysis. Proceedings of the 15th Australasian Remote Sensing & Photogrammetry Conference.\n",
    "\n",
    "Schmidt, M., Denham, R. and Scarth, P. (2010), Fractional ground cover monitoring of pastures and agricultural areas in Queensland. Proceedings of the 15th Australasian Remote Sensing & Photogrammetry Conference."
   ]
  },
  {
   "cell_type": "markdown",
   "metadata": {},
   "source": [
    "### License\n",
    "\n",
    "CC BY Attribution 4.0 International License"
   ]
  },
  {
   "cell_type": "markdown",
   "metadata": {},
   "source": [
    "### Acknowledgments\n",
    "\n",
    "The FC algorithms incorporated in this product are the work of Peter Scarth, Joint Remote Sensing Research Program."
   ]
  },
  {
   "cell_type": "markdown",
   "metadata": {},
   "source": [
    "## Data Access"
   ]
  },
  {
   "cell_type": "markdown",
   "metadata": {},
   "source": [
    "### Amazon Web Services S3"
   ]
  },
  {
   "cell_type": "markdown",
   "metadata": {},
   "source": [
    "The Digital Earth Africa Fractional Cover data can be accessed from the associated S3 bucket."
   ]
  },
  {
   "cell_type": "markdown",
   "metadata": {},
   "source": [
    "**Table 3: AWS data access details**"
   ]
  },
  {
   "cell_type": "markdown",
   "metadata": {},
   "source": [
    "|AWS S3 details | |\n",
    "|----------|-------------|\n",
    "|Bucket ARN | `arn:aws:s3:::deafrica-services`|\n",
    "| Product names| `fc_ls` |"
   ]
  },
  {
   "cell_type": "markdown",
   "metadata": {},
   "source": [
    "The bucket is located in the region `af-south-1` (Cape Town)"
   ]
  },
  {
   "cell_type": "markdown",
   "metadata": {},
   "source": [
    "The following file path convention applies to Fractional Cover scenes:\n",
    "\n",
    "`fc_ls/<version>/<path>/<row>/<year>/<month>/<day>/`\n"
   ]
  },
  {
   "cell_type": "markdown",
   "metadata": {},
   "source": [
    "**Table 4: AWS file path convention**\n",
    "\n",
    "|File path element |  Description |Example |\n",
    "|----------|-------------|-----------------|\n",
    "|`product name`|`fc_ls` | `fc_ls` |\n",
    "|`version`| Product version | `1-0-0` |\n",
    "| `path` | Landsat path number ranging from `157` to `206`.|`165` | \n",
    "| `row` | Landsat row number ranging from `052` to `072`. | `052` |\n",
    "| `year` | Year the data was collected |`2019` |\n",
    "| `month`|  Month of the year the data was collected (with leading zeros)|`03`|\n",
    "|`day`| Day of the month the data was collected (with leading zeros)|`28` |"
   ]
  },
  {
   "cell_type": "markdown",
   "metadata": {},
   "source": [
    "### OGC Web Services (OWS)\n",
    "\n",
    "This product is available through DE Africa's OWS.\n",
    "\n",
    "**Table5: OWS data access details.**\n",
    "\n",
    "|OWS details | |\n",
    "|----------|-------------|\n",
    "|Name | `DE Africa Services` |\n",
    "|Web Map Services (WMS) URL | `https://ows.digitalearth.africa/wms?version=1.3.0` |\n",
    "| Web Coverage Service (WCS) URL | `https://ows.digitalearth.africa/wcs?version=2.1.0`|\n",
    "| Layer names | `fc_ls` |\n",
    "\n",
    "Digital Earth Africa OWS details can be found at [https://ows.digitalearth.africa/](https://ows.digitalearth.africa/).\n",
    "\n",
    "For instructions on how to connect to OWS, see [this tutorial](https://training.digitalearthafrica.org/en/latest/OWS_tutorial.html)."
   ]
  },
  {
   "cell_type": "markdown",
   "metadata": {},
   "source": [
    "### Open Data Cube (ODC)\n",
    "\n",
    "The FC datasets can be accessed through the Digital Earth Africa ODC API, which is available through the [Digital Earth Africa Sandbox](https://sandbox.digitalearth.africa/hub/login).\n",
    "\n",
    "**ODC product name:** `fc_ls`"
   ]
  },
  {
   "cell_type": "markdown",
   "metadata": {},
   "source": [
    "**Table 6: Fractional Cover ODC band names**"
   ]
  },
  {
   "cell_type": "markdown",
   "metadata": {},
   "source": [
    "|Band name| Alternative names|\n",
    "|----------|-------------|\n",
    "|bs | bare |\n",
    "|pv | green_veg |\n",
    "|npv | dead_veg |\n",
    "|ue | err |"
   ]
  },
  {
   "cell_type": "markdown",
   "metadata": {},
   "source": [
    "For examples on how to use the ODC API, see the DE Africa [example notebook repository](https://github.com/digitalearthafrica/deafrica-sandbox-notebooks)."
   ]
  },
  {
   "cell_type": "markdown",
   "metadata": {},
   "source": [
    "\n",
    "## Technical information"
   ]
  },
  {
   "cell_type": "markdown",
   "metadata": {},
   "source": [
    "### Accuracy estimate\n",
    "\n",
    "The bare soil, green vegetation and non-green vegetation endmembers are calculated using models linked to an intensive field sampling program that covers a wide range of Australian landscapes covering a wide variety of vegetation, soil and climate types were sampled to measure overstorey and ground cover following the procedure outlined in Muir et al (2011).\n",
    "\n",
    "To provide an estimate of accuracy, the FC algorithm results were compared with 1565 field sites collected in Australia that were not used to train the FC model. Based on the comparison with this independent field data, the FC product has an overall Root Mean Squared Error (RMSE) of 12%. The error margins vary for the three different layers: green RMSE: 12%, non-green RMSE: 17% and bare RMSE: 15%.\n",
    "\n",
    "Due to unavailability of comparable field data from Africa, we have not been able to quantitatively evaluate the accuracy of the FC measurements for Africa. We therefore provide the service as provisional and welcome feedback from users. \n",
    "\n",
    "### Limitations\n",
    "\n",
    "The effect of soil moisture may impact the accuracy of the FC product, and the similarity between some bare soil endmembers and non-photosynthetic vegetation endmembers can lead to model instability.  Soil types/colours that were not included in the model training data may also be error prone. Pixels that show poor model stability are flagged in the model error band, and can be omitted from further analysis if necessary.\n",
    "\n",
    "FC products have no water masking applied, so erroneous values for green vegetation over the water may appear. These should be ignored and can be masked out by applying the [Water Observations from Space](https://docs.digitalearthafrica.org/en/latest/data_specs/Landsat_WOfS_specs.html) Feature layer. An example of masking cloud and water is available [here](https://github.com/digitalearthafrica/deafrica-sandbox-notebooks/blob/master/Datasets/Fractional_Cover.ipynb).\n",
    "\n",
    "Occasionally the sum of the three components is not equal to 100%. Differences are usually small and are not rounded in order to preserve what may be useful seasonal indicators.\n",
    "\n",
    "Landsat 8 OLI has different relative spectral response curves to the Landsat 5 TM and Landsat 7 ETM+ sensors. To account for this a spectral band adjustment factor is applied to the Landsat 8 data to make it more similar to reflectance as measured by Landsat 7. The adjustment factors are described in more detail in Flood (2014).\n",
    "\n",
    "Whilst the same training data has been used to train both the JRSRP fractional cover product and the DE Africa fractional cover product, differences in the surface reflectance data that are used as model inputs mean that the two products are not identical.\n"
   ]
  }
 ],
 "metadata": {
  "kernelspec": {
   "display_name": "Python 3 (ipykernel)",
   "language": "python",
   "name": "python3"
  },
  "language_info": {
   "codemirror_mode": {
    "name": "ipython",
    "version": 3
   },
   "file_extension": ".py",
   "mimetype": "text/x-python",
   "name": "python",
   "nbconvert_exporter": "python",
   "pygments_lexer": "ipython3",
   "version": "3.8.10"
  }
 },
 "nbformat": 4,
 "nbformat_minor": 4
}
