{
 "cells": [
  {
   "cell_type": "markdown",
   "metadata": {},
   "source": [
    "# Evapotranspiration Products"
   ]
  },
  {
   "cell_type": "raw",
   "metadata": {
    "raw_mimetype": "text/restructuredtext"
   },
   "source": [
    ".. contents::\n",
    "   :local:"
   ]
  },
  {
   "cell_type": "markdown",
   "metadata": {},
   "source": [
    "**Date modified:** July 2025"
   ]
  },
  {
   "cell_type": "markdown",
   "metadata": {},
   "source": [
    "## Overview"
   ]
  },
  {
   "cell_type": "markdown",
   "metadata": {},
   "source": [
    "### Background\n",
    "\n",
    "The evapotranspiration (ET) partitioned into two distinct components: blue evapotranspiration (Blue ET) and green evapotranspiration (Green ET). These products are developed by the International Water Management Institute (IWMI) through the Digital Innovation for Water Secure Africa (DIWASA) project using the SSEBop ET data by [USGS (Senay et al., 2013)](https://onlinelibrary.wiley.com/doi/10.1111/jawr.12057).\n",
    "\n",
    "Blue ET or incremental ET is a key component of blue water fluxes in water accounting. It accounts for the evaporation from irrigated fields, transpiration from irrigated crops, and water lost from artificial storage. Blue ET can be used to assess water productivity in irrigated agriculture, quantify consumptive water use, and support sustainable water resource management, particularly in water-scarce regions.\n",
    "\n",
    "Green ET or rainfall ET is the portion of ET derived from green water, which includes soil moisture and effective rainfall. It represents a key component of water fluxes in water accounting. Green ET consists of evaporation from the bare soil (soil moisture replenished by the rainfall directly), transpiration from rainfed crops and natural vegetation, and interception losses from precipitation on vegetation. It plays a crucial role in rainfed agriculture, drought monitoring, and sustainable water management by tracking how rainfall supports plant growth.\n",
    "\n",
    "Digital Earth Africa (DE Africa) hosts these datasets for the African region, providing free and open access to both the data and associated tools through the DE Africa Sandbox."
   ]
  },
  {
   "cell_type": "markdown",
   "metadata": {},
   "source": [
    "### Specifications"
   ]
  },
  {
   "cell_type": "markdown",
   "metadata": {},
   "source": [
    "Relevant coverage and metadata for each of the datasets can be viewed on DE Africa [Metadata Explorer](https://explorer.digitalearth.africa/products):\n",
    "\n",
    "- [Blue evapotranspiration](https://explorer.digitalearth.africa/products/iwmi_blue_et_monthly)\n",
    "- [Green evapotranspiration](https://explorer.digitalearth.africa/products/iwmi_green_et_monthly)\n",
    "\n",
    "\n",
    "A [Jupyter Notebook](https://github.com/digitalearthafrica/deafrica-sandbox-notebooks/blob/main/Datasets/) which demonstrates loading and using loading the products in the Sandbox is also available."
   ]
  },
  {
   "cell_type": "markdown",
   "metadata": {},
   "source": [
    "**Specifications** "
   ]
  },
  {
   "cell_type": "markdown",
   "metadata": {},
   "source": [
    "**Table 1: Blue ET and Green ET products’ specifications**\n",
    "\n",
    "| Specification                   | Value                          |\n",
    "| ------------------------------ | ------------------------------ |\n",
    "| **Product name**               | Blue ET, Green ET              |\n",
    "| **Cell size - X (degrees)**    | 0.00952 (~1000 meters)         |\n",
    "| **Cell size - Y (degrees)**    | 0.00952 (~1000 meters)         |\n",
    "| **Coordinate reference system**| EPSG:4326                      |\n",
    "| **Temporal resolution**        | Monthly                        |\n",
    "| **Temporal range**             | 2003 - 2021                    |\n",
    "| **Parent dataset**             | Evapotranspiration from Landsat|\n",
    "| **Update frequency**           | Annual                         |\n",
    "\n",
    "\n",
    "------------------------------------------------"
   ]
  },
  {
   "cell_type": "markdown",
   "metadata": {},
   "source": [
    "\n",
    "**Measurements**\n"
   ]
  },
  {
   "cell_type": "markdown",
   "metadata": {},
   "source": [
    "**Table 2: Blue ET and Green ET products’ measurements**\n",
    "\n",
    "| Product Name | Band ID | Description        | Units | Data Type | No Data Value | Scale Factor |\n",
    "|--------------|--------:|--------------------|:-----:|:---------:|:-------------:|:------------:|\n",
    "| **Blue ET**  | blueet  | Monthly Blue ET    |  mm   |   Int16   |     -9999     |     0.1      |\n",
    "| **Green ET** | greenet | Monthly Green ET   |  mm   |   Int16   |     -9999     |     0.1      |\n"
   ]
  },
  {
   "cell_type": "markdown",
   "metadata": {},
   "source": [
    "### Geographic Extent\n",
    "\n",
    "The spatial and temporal coverage of both Blue ET and Green ET datasets can be explored on the DE Africa [Metadata Explorer](https://explorer.digitalearth.africa/products), and data is available for the shaded blue region in Figure 1. Different products can be selected from the horizontal dropdown menu at the top of the page."
   ]
  },
  {
   "cell_type": "markdown",
   "metadata": {},
   "source": [
    "**Figure 1: Blue ET and Green ET**"
   ]
  },
  {
   "cell_type": "markdown",
   "metadata": {},
   "source": [
    "<img src=\"../_static/data_specs/CGLM_Lake_Water_Quality_specs/cgls_extent.png\" alt=\"Lake Water Quality data extent\" width=\"500\" align=\"left\"/>"
   ]
  },
  {
   "cell_type": "markdown",
   "metadata": {},
   "source": [
    "### Processing\n",
    "\n",
    "WA+ employs a mass water balance approach, where\n",
    "\n",
    "$$\n",
    "P - ET - Q_P - Q_S = \\Delta SM  \\tag{1}\n",
    "$$\n",
    "\n",
    "P is precipitation, ET is actual evapotranspiration, QP denotes deep percolation, QS is surface runoff, and ΔSM is the change in soil moisture within the root zone at the pixel level. ET is then partitioned into green and blue ET using the soil moisture balance, first by estimating blue ET (ETb) as:\n",
    "\n",
    "\\begin{equation}\n",
    "\\begin{split}\n",
    "    a &= b + c \\\\\n",
    "      &= d + e\n",
    "\\end{split}\n",
    "\\tag{1.1}\n",
    "\\end{equation}\n",
    "\n",
    "\n",
    "$$\n",
    "ET_b = \\begin{cases} 0 & \\text{if } SM_t \\geq 0 \\\\ -SM_t & \\text{if } SM_t < 0 \\end{cases}  \\tag{2}\n",
    "$$\n",
    "\n",
    "This method assumes that when the soil moisture exceeds the amount provided by rainfall, the excess moisture originates from external sources such as rivers, groundwater, or lakes (van Eekelen et al., 2015). The green ET (ETg) component is then derived by subtracting blue ET from the total ET:\n",
    "\n",
    "$$\n",
    "ET_g = ET - ET_b \\tag{3}\n",
    "$$\n",
    "\n",
    "\n",
    "The WA+ framework and the methodology for separating Blue ET and Green ET from total ET was developed by [Karimi et al. (2013)](https://hdl.handle.net/10568/40212) at [UNESCO-IHE (IHE Delft Institute for Water Education)](https://www.un-ihe.org/) in collaboration with IWMI, and [Food and Agriculture Organization (FAO)](https://www.fao.org/).\n"
   ]
  },
  {
   "cell_type": "markdown",
   "metadata": {},
   "source": [
    "### Media and example images"
   ]
  },
  {
   "cell_type": "markdown",
   "metadata": {},
   "source": [
    "**Image 1: Mean annual SSEBop ET from 2003 to 2021**"
   ]
  },
  {
   "cell_type": "markdown",
   "metadata": {},
   "source": [
    "<img src=\"../_static/data_specs/DIWASA_Blue_Green_specs/DIWASA_image1.png\" alt=\"Mean annual SSEBop ET from 2003 to 2021\" width=\"550\" align=\"left\"/>"
   ]
  },
  {
   "cell_type": "markdown",
   "metadata": {},
   "source": [
    "*Credit: Total ET product  courtesy of USGS*"
   ]
  },
  {
   "cell_type": "markdown",
   "metadata": {},
   "source": [
    "**Image 2: Mean annual Green ET and Blue ET for 2003 to 2021, computed from annual SSEBop ET**"
   ]
  },
  {
   "cell_type": "markdown",
   "metadata": {},
   "source": [
    "<img src=\"../_static/data_specs/DIWASA_Blue_Green_specs/DIWASA_image2.png\" alt=\"Mean annual Green ET and Blue ET for 2003 to 2021, computed from annual SSEBop ET\" width=\"550\" align=\"left\"/>"
   ]
  },
  {
   "cell_type": "markdown",
   "metadata": {},
   "source": [
    "*Credit: Generated by IWMI’s DIWASA team from SSEBop ET*"
   ]
  },
  {
   "cell_type": "markdown",
   "metadata": {},
   "source": [
    "### Technical information"
   ]
  },
  {
   "cell_type": "markdown",
   "metadata": {},
   "source": [
    "The dataset has been generated at a high-resolution grid of 1 km by 1 km, on a monthly basis from 2003 to 2021, covering the entire African continent.\n",
    "The accuracy of the generated Blue ET and Green ET datasets depends critically on the performance of both the SSEBop model and the WA+ separation methodology. Inherent limitations of the SSEBop model, such as model errors and uncertainties in input parameters, directly impact the accuracy of its total ET estimates. Moreover, the WA+ methodology can introduce errors during the partitioning of total ET into its Blue and Green components. This is particularly true in situations where significant soil moisture storage, capillary rise, or non-rainfall water sources can lead to misclassifications ([Karimi et al., 2013](https://doi.org/10.5194/hess-17-2459-2013), [Owusu et al., 2025](https://doi.org/10.1016/j.ejrh.2025.102377)). The SSEBop model's sensitivity to input data and parameter assumptions was further elaborated by a detailed uncertainty analysis conducted by [Chen et al. (2016)](https://doi.org/10.1016/j.jhydrol.2016.02.026) across various flux tower sites."
   ]
  },
  {
   "cell_type": "markdown",
   "metadata": {},
   "source": [
    "### References\n",
    "\n",
    "Chen, M., Senay, G.B., Singh, R.K., Verdin, J.P.  2016. Uncertainty analysis of the Operational Simplified Surface Energy Balance (SSEBop) model at multiple flux tower sites. Journal of Hydrology. Volume 536. 2016. Pages 384-399. ISSN 0022-1694.  https://doi.org/10.1016/j.jhydrol.2016.02.026.\n",
    "\n",
    "Senay, G.B., Bohms, S., Singh, R.K., Gowda, P.H., Velpuri, N.M., Alemu, H., and Verdin, J.P. 2013. Operational Evapotranspiration Mapping Using Remote Sensing and Weather Datasets: A New Parameterization for the SSEB Approach. Journal of the American Water Resources Association (JAWRA) 49(3): 577-591. DOI: 10.1111/jawr.12057\n",
    "\n",
    "Karimi, P., Bastiaanssen, W. G. M., and Molden, D. 2013. Water Accounting Plus (WA+) – a water accounting procedure for complex river basins based on satellite measurements. Hydrol. Earth Syst. Sci. 17. 2459–2472. https://doi.org/10.5194/hess-17-2459-2013, 2013.\n",
    "\n",
    "Owusu, A., Akpoti, K., Leh, M., Perera, T., Madushanka, L., Mekonnen, K., Tinonetsana, P., Tayebi, N., Escalera-Rodriguez, A.C., Fofana, R., Velpuri, N.M. 2025. Bridging scales and borders on water availability and use in the transboundary Volta River Basin: A water accounting approach. Journal of Hydrology: Regional Studies, Volume 59, 2025, 102377, ISSN 2214-5818. https://doi.org/10.1016/j.ejrh.2025.102377. \n",
    "\n",
    "Van Eekelen, M.W., Bastiaanssen, W.G.M., Jarmain, C., Jackson, B., Ferreira, F., van der Zaag, P., Saraiva Okello, A., Bosch, J., Dye, P., Bastidas-Obando, E., Dost, R.J.J., Luxemburg, W.M.J., 2015. A novel approach to estimate direct and indirect water withdrawals from satellite measurements: A case study from the Incomati basin. Agric Ecosyst Environ 200, 126–142. https://doi.org/10.1016/J.AGEE.2014.10.023"
   ]
  },
  {
   "cell_type": "markdown",
   "metadata": {},
   "source": [
    "### License\n",
    "\n",
    "The USGS ET data are in the public domain and are freely available for public use. The IWMI data is shared under a Creative Commons open license. Users of these datasets are encouraged to cite Karimi et al. (2013) and Owusu et al. (2025) papers."
   ]
  },
  {
   "cell_type": "markdown",
   "metadata": {},
   "source": [
    "### Acknowledgments\n",
    "\n",
    "The total monthly ET product is provided by USGS. The Blue ET and Green ET products are generated by IWMI’s DIWASA project with financial support from the Helmsley Charitable Trust. Data access and regional support were enabled by Digital Earth Africa."
   ]
  },
  {
   "cell_type": "markdown",
   "metadata": {},
   "source": [
    "## Data Access"
   ]
  },
  {
   "cell_type": "markdown",
   "metadata": {},
   "source": [
    "### Amazon Web Services S3"
   ]
  },
  {
   "cell_type": "markdown",
   "metadata": {},
   "source": [
    "The Digital Earth Africa Copernicus Global Land Service Lake Water Quality products can be accessed from the associated S3 bucket."
   ]
  },
  {
   "cell_type": "markdown",
   "metadata": {},
   "source": [
    "**Table 3: AWS data access details**"
   ]
  },
  {
   "cell_type": "markdown",
   "metadata": {},
   "source": [
    "|AWS S3 details | |\n",
    "|----------|-------------|\n",
    "|Bucket ARN | `arn:aws:s3:::iwmi-datasets/Water_accounting_plus/Rainfall_ET_M/`|\n",
    "| Product names| `iwmi_blue_et_monthly`, `iwmi_green_et_monthly` |"
   ]
  },
  {
   "cell_type": "markdown",
   "metadata": {},
   "source": [
    "### OGC Web Services (OWS)\n",
    "\n",
    "This product is available through DE Africa's OWS.\n",
    "\n",
    "**Table 4: OWS data access details.**\n",
    "\n",
    "|OWS details | |\n",
    "|----------|-------------|\n",
    "|Name | `DE Africa Services` |\n",
    "|Web Map Services (WMS) URL | `https://ows.digitalearth.africa/wms?version=1.3.0` |\n",
    "| Web Coverage Service (WCS) URL | `https://ows.digitalearth.africa/wcs?version=2.1.0`|\n",
    "| Layer names |  `iwmi_blue_et_monthly`, `iwmi_green_et_monthly` |\n",
    "\n",
    "Digital Earth Africa OWS details can be found at [https://ows.digitalearth.africa/](https://ows.digitalearth.africa/).\n",
    "\n",
    "For instructions on how to connect to OWS, see [this tutorial](../web_services/index.ipynb)."
   ]
  },
  {
   "cell_type": "markdown",
   "metadata": {},
   "source": [
    "### Open Data Cube (ODC)\n",
    "\n",
    "The Lake Water Quality collection can be accessed through the Digital Earth Africa ODC API, which is available through the [Digital Earth Africa Sandbox](https://sandbox.digitalearth.africa/hub/login).\n",
    "\n",
    "**ODC product name:**  `iwmi_blue_et_monthly`, `iwmi_green_et_monthly`"
   ]
  }
 ],
 "metadata": {
  "kernelspec": {
   "display_name": "Python 3 (ipykernel)",
   "language": "python",
   "name": "python3"
  },
  "language_info": {
   "codemirror_mode": {
    "name": "ipython",
    "version": 3
   },
   "file_extension": ".py",
   "mimetype": "text/x-python",
   "name": "python",
   "nbconvert_exporter": "python",
   "pygments_lexer": "ipython3",
   "version": "3.12.3"
  }
 },
 "nbformat": 4,
 "nbformat_minor": 4
}
