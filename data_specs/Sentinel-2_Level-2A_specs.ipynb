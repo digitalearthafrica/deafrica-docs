{
 "cells": [
  {
   "cell_type": "markdown",
   "metadata": {},
   "source": [
    "# Sentinel-2 Level-2A Surface Reflectance"
   ]
  },
  {
   "cell_type": "raw",
   "metadata": {
    "raw_mimetype": "text/restructuredtext"
   },
   "source": [
    ".. contents::\n",
    "   :local:"
   ]
  },
  {
   "cell_type": "markdown",
   "metadata": {},
   "source": [
    "**Date modified:** 21 April 2021"
   ]
  },
  {
   "cell_type": "markdown",
   "metadata": {},
   "source": [
    "## Product overview"
   ]
  },
  {
   "cell_type": "markdown",
   "metadata": {},
   "source": [
    "### Background"
   ]
  },
  {
   "cell_type": "markdown",
   "metadata": {},
   "source": [
    "The Sentinel-2 mission is part of the European Union Copernicus programme for Earth observations. Sentinel-2 consists of twin satellites, Sentinel-2A (launched 23 June 2015) and Sentinel-2B (launched 7 March 2017). The two satellites have the same orbit, but 180° apart for optimal coverage and data delivery. Their combined data is used in the Digital Earth Africa Sentinel-2 product. \n",
    "\n",
    "Together, they cover all Earth's land surfaces, large islands, inland and coastal waters every 3-5 days. \n",
    "\n",
    "Sentinel-2 data is tiered by level of pre-processing. Level-0, Level-1A and Level-1B data contain raw data from the satellites, with little to no pre-processing. Level-1C data is surface reflectance measured at the top of the atmosphere. This is processed using the Sen2Cor algorithm to give Level-2A, the bottom-of-atmosphere reflectance ([Obregón et al, 2019](https://www.mdpi.com/2072-4292/11/14/1649)). Level-2A data is the most ideal for research activities as it allows further analysis without applying additional atmospheric corrections.\n",
    "\n",
    "The Digital Earth Africa Sentinel-2 dataset contains Level-2A data of the African continent. Digital Earth Africa does not host any lower-level Sentinel-2 data."
   ]
  },
  {
   "cell_type": "markdown",
   "metadata": {},
   "source": [
    "### Specifications"
   ]
  },
  {
   "cell_type": "markdown",
   "metadata": {},
   "source": [
    "**Table 1: Sentinel-2 Level-2A product specifications**"
   ]
  },
  {
   "cell_type": "markdown",
   "metadata": {},
   "source": [
    "|Specification | |\n",
    "|----------|-------------|\n",
    "|Product name|Sentinel-2 Level-2A | \n",
    "|Number of bands | 15 |\n",
    "|Cell size - X (metres) | 10, 20, 60 (band-dependent, see Table 2)  |\n",
    "|Cell size - Y (metres) | 10, 20, 60 (band-dependent, see Table 2) |\n",
    "|Coordinate reference system | EPSG: 6933 |\n",
    "|Temporal resolution | Every 5 days |\n",
    "|Temporal range|  2017-01-01 &ndash; present |\n",
    "|Parent dataset|  Sentinel-2 Level-1C (external to DE Africa) |\n",
    "|Update frequency| Daily |"
   ]
  },
  {
   "cell_type": "markdown",
   "metadata": {},
   "source": [
    "**Figure 1: Sentinel-2 Level-2A geographic extent**"
   ]
  },
  {
   "cell_type": "markdown",
   "metadata": {},
   "source": [
    "<img src=\"../_static/data_specs/Sentinel-2_Level-2A_specs/S-2_extent.JPG\" alt=\"Sentinel-2 data extent\" width=\"400\" align=\"left\"/>"
   ]
  },
  {
   "cell_type": "markdown",
   "metadata": {},
   "source": [
    "Digital Earth Africa Sentinel-2 data is available for the regions shaded in blue. Specific temporal and geographic extents can be explored as an interactive map on the Digital Earth Africa [Metadata Explorer](https://explorer.digitalearth.africa/products/s2_l2a/extents)."
   ]
  },
  {
   "cell_type": "markdown",
   "metadata": {},
   "source": [
    "**Table 2: Sentinel-2 Level-2A measurements**"
   ]
  },
  {
   "cell_type": "markdown",
   "metadata": {},
   "source": [
    "|Band ID| Description |Spatial resolution (m)|Value range| Data type| No data value|\n",
    "|----------|-------------|:------:|----------|:---------:|:----------:|\n",
    "|B01 | Coastal aerosol | 60|`1 - 10000` |`uint16`| `0`|\n",
    "|B02 | Blue |10|`1 - 10000`| `uint16` | `0` |\n",
    "|B03 | Green |10|`1 - 10000`| `uint16` | `0` |\n",
    "|B04 | Red |10|`1 - 10000`| `uint16` | `0` |\n",
    "|B05 | Red edge 1 |20|`1 - 10000`| `uint16` | `0` |\n",
    "|B06 | Red edge 2 |20|`1 - 10000`| `uint16` | `0` |\n",
    "|B07 | Red edge 3 |20|`1 - 10000`| `uint16` | `0` |\n",
    "|B08 | Near infrared (NIR) 1 |10|`1 - 10000`| `uint16` | `0` |\n",
    "|B8A | NIR 2 |20|`1 - 10000`|`uint16` | `0` |\n",
    "|B09 | Water vapour |60|`1 - 10000` | `uint16` | `0` |\n",
    "|B11 | Short-wave infrared (SWIR) 1 |20|`1 - 10000`| `uint16` | `0` |\n",
    "|B12 | SWIR 2 |20| `1 - 10000`| `uint16` | `0` |\n",
    "|AOT| Aerosol optical thickness | 20| `1 - 65535` |`uint16`|`0`|\n",
    "|WVP| Scene average water vapour| 20| `1 - 65535` | `uint16`| `0`|\n",
    "|SCL| Scene classification layer | 20| `0 - 255` | `uint8`|`0`|\n"
   ]
  },
  {
   "cell_type": "markdown",
   "metadata": {},
   "source": [
    "The Digital Earth Africa Sentinel-2 Level-2A dataset has fifteen bands of data, which can be grouped into the multispectral bands, and the auxilary quality assurance bands.\n",
    "\n",
    "* **Multispectral observations &mdash; 12 bands:** Sentinel-2 satellites carry a multispectral instrument that measures in the visible, near infrared, and short-wave infrared ranges. These are indexed as `B01 - B12`. The band B10 is not included in the DE Africa Sentinel-2 Level-2A product as it does not contain surface information.\n",
    "    \n",
    "    Surface reflectance values are scaled between `1` and `10000`. Note different spectral bands have different native resolutions.\n",
    "\n",
    "\n",
    "* **Quality assurance &mdash; 3 bands:** The Sentinel-2 Level-2A product also includes three auxilary data bands which are used to improve the accuracy of surface reflectance-derived products. These corrections were applied as part of the Sen2Cor conversion from Level-1C (top-of-atmosphere) to Level-2A (bottom-of-atmosphere) data.\n",
    "\n",
    "    * Scene Classification Layer (`SCL`) distinguishes between cloudy, clear and water pixels. The algorithm identifies areas as clouds, snow, cloud shadows, vegetation, bare soil and water. The resulting SCL is used for cirrus cloud correction in the processing chain. It is also commonly applied in further analysis as a cloud mask, which removes unwanted cloudy pixels from the multispectral observations. SCL bit values are defined in Table 3.\n",
    "    \n",
    "    * Aerosol Optical Thickness (`AOT`) is a measure of haze, or visibility through the atmosphere. In Sentinel-2 Level-2A data, this is derived using the Dark Dense Vegetation pixel method, which relies on calibrating reflectance against dark vegetation and using the estimated atmospheric thickness to correct the rest of the measurements.\n",
    "    \n",
    "    * Water Vapour (`WVP`), also referred to in literature as Integrated Water Vapour (IWV) or Water Vapour (WV), is the total water vapour integrated over an atmospheric column. It is calculated using an atmospheric pre-corrected differential absorption algorithm ([Schläpfer et al, 1998](https://www.sciencedirect.com/science/article/pii/S0034425798000443?via%3Dihub)). Like AOT, it is a key component of atmospheric correction.\n",
    "\n"
   ]
  },
  {
   "cell_type": "markdown",
   "metadata": {},
   "source": [
    "**Table 3: SCL bit values**"
   ]
  },
  {
   "cell_type": "markdown",
   "metadata": {},
   "source": [
    "|Bit value | Classification |\n",
    "|----------|-------------|\n",
    "|0| No data| \n",
    "|1 | Saturated or defective |\n",
    "|2 | Dark area  pixels |\n",
    "|3 | Cloud shadows |\n",
    "|4 | Vegetation |\n",
    "| 5| Bare soils |\n",
    "| 6| Water |\n",
    "| 7| Unclassified |\n",
    "|8 | Cloud medium probability |\n",
    "|9 | Cloud high probability |\n",
    "|10| Thin cirrus |\n",
    "|11|  Snow or ice |"
   ]
  },
  {
   "cell_type": "markdown",
   "metadata": {},
   "source": [
    "Sentinel-2 Level-2A metadata can also be viewed on Digital Earth Africa's [Metadata Explorer](https://explorer.digitalearth.africa/products/s2_l2a)."
   ]
  },
  {
   "cell_type": "markdown",
   "metadata": {},
   "source": [
    "### Processing"
   ]
  },
  {
   "cell_type": "markdown",
   "metadata": {},
   "source": [
    "Each observation from the parent dataset, Level-1C, is processed by the European Space Agency (ESA) through the Sen2Cor algorithm. First, cloud detection is performed using SCL, then AOT and WVP are calculated. These are  applied to give the resultant bottom-of-atmosphere Level-2A observations. \n",
    "\n",
    "More details on Sentinel-2 Level-2A processing can be found in [Gascon et al, 2017](https://www.mdpi.com/2072-4292/9/6/584)."
   ]
  },
  {
   "cell_type": "markdown",
   "metadata": {},
   "source": [
    "### Media and example images"
   ]
  },
  {
   "cell_type": "markdown",
   "metadata": {},
   "source": [
    "**Image 1: The Eye of Africa, Mauritania. 2021 Sentinel-2, true-colour (RGB).**\n",
    "\n",
    "Credit: Contains modified Copernicus Sentinel data 2021, processed by Digital Earth Africa."
   ]
  },
  {
   "cell_type": "markdown",
   "metadata": {},
   "source": [
    "<img src=\"../_static/data_specs/Sentinel-2_Level-2A_specs/Eye_of_Sahara_Sentinel2_20210101_truecolor.jpeg\" alt=\"Sentinel-2 true-colour image\" width=\"500\" align=\"left\"/>"
   ]
  },
  {
   "cell_type": "markdown",
   "metadata": {},
   "source": [
    "**Image 2: Bazaruto Archipelago, Mozambique. 2020 Sentinel-2, true-colour (RGB).**\n",
    "\n",
    "Credit: Contains modified Copernicus Sentinel data 2020, processed by Digital Earth Africa."
   ]
  },
  {
   "cell_type": "markdown",
   "metadata": {},
   "source": [
    "<img src=\"../_static/data_specs/Sentinel-2_Level-2A_specs/Bazaruto_Archipelago_Sentinel2_2020_truecolor.jpeg\" alt=\"Sentinel-2 true-colour image\" width=\"400\" align=\"left\"/>"
   ]
  },
  {
   "cell_type": "markdown",
   "metadata": {},
   "source": [
    "### Related services"
   ]
  },
  {
   "cell_type": "markdown",
   "metadata": {},
   "source": [
    "* [GeoMAD cloud-free composite services](https://docs.digitalearthafrica.org/en/latest/data_specs/GeoMAD_specs.html)"
   ]
  },
  {
   "cell_type": "markdown",
   "metadata": {},
   "source": [
    "### References\n",
    "\n",
    "Obregón, M.A., Rodrigues, G., Costa, M.J., et al. (2019). Validation of ESA Sentinel-2 L2A aerosol optical thickness and columnar water vapour during 2017-2018. *Remote Sensing*, 11(14), 1649. https://doi.org/10.3390/rs11141649\n",
    "\n",
    "Schläpfer, D., Borel, C.C., Keller, J., et al. (1998). Atmospheric precorrected differential absorption technique to retrieve columnar water vapor. *Remote Sensing of Environment*, 65(3), 353-366. https://doi.org/10.1016/S0034-4257(98)00044-3.\n",
    "\n",
    "Gascon F., Bouzinac C., Thépaut O., et al. (2017). Copernicus Sentinel-2A calibration and products validation status. *Remote Sensing*, 9(6), 584. https://doi.org/10.3390/rs9060584\n"
   ]
  },
  {
   "cell_type": "markdown",
   "metadata": {},
   "source": [
    "### License\n",
    "\n",
    "Access to Sentinel data is free, full and open for the broad Regional, National, European and International user community. View [Terms and Conditions](https://scihub.copernicus.eu/twiki/do/view/SciHubWebPortal/TermsConditions)."
   ]
  },
  {
   "cell_type": "markdown",
   "metadata": {},
   "source": [
    "### Acknowledgements"
   ]
  },
  {
   "cell_type": "markdown",
   "metadata": {},
   "source": [
    "The Sentinel-2 Level-2A product is provided by the European Space Agency."
   ]
  },
  {
   "cell_type": "markdown",
   "metadata": {},
   "source": [
    "## Data access"
   ]
  },
  {
   "cell_type": "markdown",
   "metadata": {},
   "source": [
    "### Amazon Web Services S3 "
   ]
  },
  {
   "cell_type": "markdown",
   "metadata": {},
   "source": [
    "Sentinel-2 Level-2A is available in AWS S3, sponsored by the [Public Dataset Program](https://registry.opendata.aws/deafrica-sentinel-2/)."
   ]
  },
  {
   "cell_type": "markdown",
   "metadata": {},
   "source": [
    "**Table 4: AWS data access details**"
   ]
  },
  {
   "cell_type": "markdown",
   "metadata": {},
   "source": [
    "|AWS S3 details | |\n",
    "|----------|-------------|\n",
    "|Bucket ARN | `arn:aws:s3:::deafrica-sentinel-2`|\n",
    "| Product name| `s2_l2a`|"
   ]
  },
  {
   "cell_type": "markdown",
   "metadata": {},
   "source": [
    "The bucket is in the AWS region `af-south-1` (Cape Town). Additional region specifications can be applied as follows:\n",
    "\n",
    "`aws s3 ls --region=af-south-1 s3://deafrica-sentinel-2/`\n",
    "\n",
    "The data is organised per tiles using Military Grid Reference System. The file paths follow the format \n",
    "\n",
    "`<utm_zone>/<latitude_band>/<grid_square>/<year>/<month>/<scene_ID>`.\n"
   ]
  },
  {
   "cell_type": "markdown",
   "metadata": {},
   "source": [
    "**Table 5: AWS file path convention**\n",
    "\n",
    "|File path element |  Description |Example |\n",
    "|----------|-------------|-----------------|\n",
    "|`utm_zone`|Grid zone designator | `10` | \n",
    "|`latitude band` | Latitude band are lettered C- X, omitting the letters \"I\" and \"O\" |`S` | \n",
    "| `square` | Pair of letters designating one of the 100,000-meter side grid squares inside the grid zone| `DG` |\n",
    "| `year` | Year the data was collected, `YYYY` |`2018` |\n",
    "| `month`|  Month of the year the data was collected (without leading zeros)|`3`|\n",
    "|`scene_ID`| All files corresponding to a scene|`ccc27a76-71ab-5da9-9d88-4f2c3e874ef3` |"
   ]
  },
  {
   "cell_type": "markdown",
   "metadata": {},
   "source": [
    "### OGC Web Services (OWS)"
   ]
  },
  {
   "cell_type": "markdown",
   "metadata": {},
   "source": [
    "This product is available through DE Africa's OWS."
   ]
  },
  {
   "cell_type": "markdown",
   "metadata": {},
   "source": [
    "**Table 6: OWS data access details**\n",
    "\n",
    "|OWS details | |\n",
    "|----------|-------------|\n",
    "|Name | `DE Africa Services` |\n",
    "|Web Map Services (WMS) URL | `https://ows.digitalearth.africa/wms?version=1.3.0` |\n",
    "| Web Coverage Service (WCS) URL | `https://ows.digitalearth.africa/wcs?version=2.1.0`|\n",
    "| Layer name | `s2_l2a`|"
   ]
  },
  {
   "cell_type": "markdown",
   "metadata": {},
   "source": [
    "Digital Earth Africa OWS details can be found at [https://ows.digitalearth.africa/](https://ows.digitalearth.africa/).\n",
    "\n",
    "For instructions on how to connect to OWS, see [this tutorial](../web_services/index.ipynb)."
   ]
  },
  {
   "cell_type": "markdown",
   "metadata": {},
   "source": [
    "### Open Data Cube (ODC)"
   ]
  },
  {
   "cell_type": "markdown",
   "metadata": {},
   "source": [
    "The Sentinel-2 Level-2A dataset can be accessed through the Digital Earth Africa ODC API, which is available through the [Digital Earth Africa Sandbox](https://sandbox.digitalearth.africa/hub/login).\n",
    "\n",
    "**ODC product name:** `s2_l2a`\n",
    "\n",
    "> The ODC product name is derived from **S**entinel-**2** **L**evel-**2A**. Some typefaces obscure the fourth character, which is a lowercase L.\n",
    "\n",
    "Specific bands of data can be called by using either the default names or any of a band's alternative names, as listed in the table below. ODC `datacube.Datacube.load` commands without specified bands will load all bands; see [ODC documentation](https://datacube-core.readthedocs.io/en/latest/dev/api/generate/datacube.Datacube.load.html)."
   ]
  },
  {
   "cell_type": "markdown",
   "metadata": {},
   "source": [
    "**Table 7: Sentinel-2 ODC band names**"
   ]
  },
  {
   "cell_type": "markdown",
   "metadata": {},
   "source": [
    "|Band name| Alternative names|\n",
    "|----------|-------------|\n",
    "|B01 | band_01, coastal_aerosol|\n",
    "|B02 | band_02, blue |\n",
    "|B03 | band_03, green |\n",
    "|B04 | band_04, red |\n",
    "|B05 | band_05, red_edge_1 |\n",
    "|B06 | band_06, red_edge_2 |\n",
    "|B07 | band_07, red_edge_3 |\n",
    "|B08 | band_08, nir, nir_1 |\n",
    "|B8A | band_8a, nir_narrow, nir_2 |\n",
    "|B09 | band_09, water_vapour\n",
    "|B11 | band_11, swir_1, swir_16 |\n",
    "|B12 | band_12, swir_2, swir_22 |\n",
    "|SCL | mask, qa |\n",
    "|AOT | aerosol_optical_thickness|\n",
    "|WVP | scene_average_water_vapour|"
   ]
  },
  {
   "cell_type": "markdown",
   "metadata": {},
   "source": [
    "Product names and band names are case-sensitive. \n",
    "\n",
    "For examples on how to use the ODC API, see the DE Africa [example notebook repository](https://github.com/digitalearthafrica/deafrica-sandbox-notebooks)."
   ]
  },
  {
   "cell_type": "markdown",
   "metadata": {},
   "source": [
    "## Technical information"
   ]
  },
  {
   "cell_type": "markdown",
   "metadata": {},
   "source": [
    "Additional information about the Sentinel-2 instrumentation can be found on the [ESA Sentinel-2 User Guide](https://sentinel.esa.int/web/sentinel/user-guides/sentinel-2-msi)."
   ]
  }
 ],
 "metadata": {
  "kernelspec": {
   "display_name": "Python 3 (ipykernel)",
   "language": "python",
   "name": "python3"
  },
  "language_info": {
   "codemirror_mode": {
    "name": "ipython",
    "version": 3
   },
   "file_extension": ".py",
   "mimetype": "text/x-python",
   "name": "python",
   "nbconvert_exporter": "python",
   "pygments_lexer": "ipython3",
   "version": "3.8.10"
  }
 },
 "nbformat": 4,
 "nbformat_minor": 4
}
