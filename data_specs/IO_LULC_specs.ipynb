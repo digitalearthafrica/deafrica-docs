{
 "cells": [
  {
   "cell_type": "markdown",
   "id": "d3e362b0-dbd2-424b-93fc-d8c6940b5ae4",
   "metadata": {},
   "source": [
    "# ESRI 2020 Global Land Use Land Cover "
   ]
  },
  {
   "cell_type": "raw",
   "id": "e0c1ae98-4f5f-45ba-977d-9c513390348b",
   "metadata": {
    "raw_mimetype": "text/restructuredtext",
    "tags": []
   },
   "source": [
    ".. contents::\n",
    "   :local:"
   ]
  },
  {
   "cell_type": "markdown",
   "id": "0a7cc6df-948d-4559-92f4-39d3f0b6aebc",
   "metadata": {},
   "source": [
    "**Date modified:** 01 February 2022"
   ]
  },
  {
   "cell_type": "markdown",
   "id": "c09eee97-0c8a-4f17-93c7-f2bccd6cd48c",
   "metadata": {},
   "source": [
    "## Product Overview"
   ]
  },
  {
   "cell_type": "markdown",
   "id": "3ca72a64-3677-4c0e-a407-fcd07f39174e",
   "metadata": {},
   "source": [
    "### Background"
   ]
  },
  {
   "cell_type": "markdown",
   "id": "c03b3437-c6a7-4081-8daf-e49ba3578639",
   "metadata": {},
   "source": [
    "The ESRI 10 class global land use land cover (LULC) map at 10 meter resolution was developed by the [Impact Observatory (IO)](https://www.impactobservatory.com/lulc_map/) with the [Environmental Systems Research Institute (ESRI)](https://livingatlas.arcgis.com/landcover/) and in patnership with [Microsoft AI for Earth](https://www.microsoft.com/en-us/ai/ai-for-earth). \n",
    "\n",
    "Digital Earth Africa provides free and open access to a copy of the ESRI 2020 Land Cover product over Africa.\n",
    "\n",
    "A [Jupyter Notebook](https://github.com/digitalearthafrica/deafrica-sandbox-notebooks/blob/main/Datasets/Landcover_Classification.ipynb) which demonstrates loading and using landcover datasets in the Sandbox is also available."
   ]
  },
  {
   "cell_type": "markdown",
   "id": "3d0d5edd-f9af-41c1-9c46-a2eb300cc713",
   "metadata": {},
   "source": [
    "### Specifications"
   ]
  },
  {
   "cell_type": "markdown",
   "id": "9b069fc5-59d1-41c2-9682-a99019391ab0",
   "metadata": {},
   "source": [
    "#### Spatial and temporal coverage"
   ]
  },
  {
   "cell_type": "markdown",
   "id": "2f1fd227-5b30-4bcb-9609-ee82b2a89dd6",
   "metadata": {},
   "source": [
    "Relevant metadata for the ESRI 2020 Land Cover product can be viewed on the DE Africa [Metadata Explorer](https://explorer.digitalearth.africa/products/io_lulc)."
   ]
  },
  {
   "cell_type": "markdown",
   "id": "a9160c67-503f-4830-a96d-1bf793a62a85",
   "metadata": {},
   "source": [
    "**Table 1: ESRI 2020 Land Cover product specifications**"
   ]
  },
  {
   "cell_type": "markdown",
   "id": "6c7c0d62-4edc-4105-b584-d39e45360653",
   "metadata": {},
   "source": [
    "|Specification | |\n",
    "|----------|-------------|\n",
    "|Product name|  `io_lulc` |\n",
    "|Cell size - X (degrees) | 0.0000898° (~10m)| \n",
    "|Cell size - Y (degrees) | 0.0000898° (~10m) | \n",
    "|Coordinate reference system | `Product has no default CRS.` | \n",
    "|Temporal resolution | Annual | \n",
    "|Temporal range| 2020 |\n",
    "|Update frequency| Annual |"
   ]
  },
  {
   "cell_type": "markdown",
   "id": "62fdbe5b-b3af-4e6d-9866-a0393e4b66df",
   "metadata": {},
   "source": [
    "The specific temporal and geographic extents for the product can be explored as an interactive map on the [DE Africa Metadata Explorer](https://explorer.digitalearth.africa/products/io_lulc). \n",
    "Data is available for the region shaded in blue."
   ]
  },
  {
   "cell_type": "markdown",
   "id": "3679367b-0b1b-435d-bbba-c1848d103a53",
   "metadata": {},
   "source": [
    "**Figure 1: ESRI 2020 Land Cover product geographic extent**"
   ]
  },
  {
   "cell_type": "markdown",
   "id": "d8b8526b-1a2f-4805-971c-28cb679dca53",
   "metadata": {},
   "source": [
    "<img src=\"../_static/data_specs/IO_LULC_specs/io_lulc_geographic_extent.png\" alt=\"ESRI LULC Geographic Extent\" width=\"300\" align=\"left\"/>"
   ]
  },
  {
   "cell_type": "markdown",
   "id": "bcf766b3-2367-4a97-8633-2612bd866623",
   "metadata": {},
   "source": [
    "#### Measurements"
   ]
  },
  {
   "cell_type": "markdown",
   "id": "c78884a5-32b8-4635-b92b-37e20e88bb2c",
   "metadata": {},
   "source": [
    "**Table 2: ESRI 2020 Land Cover product measurements**"
   ]
  },
  {
   "cell_type": "markdown",
   "id": "4e2340d9-885c-47ce-906a-e31348a0961d",
   "metadata": {},
   "source": [
    "| Band ID | Description | Units | Data type | No data$^\\dagger$ |\n",
    "|:------------------------------|:--------------|:--------|:--------|---------:|\n",
    "| data | Land cover classification | 1 | uint8 | 0 |"
   ]
  },
  {
   "cell_type": "markdown",
   "id": "adba0ca2-fd22-4d54-8979-be0b353ecb37",
   "metadata": {},
   "source": [
    "### Processing"
   ]
  },
  {
   "cell_type": "markdown",
   "id": "b93ccda6-be17-4f9e-a840-6b7d64d8e536",
   "metadata": {},
   "source": [
    "The ESRI 2020 global LULC map is derived from the European Space Agency (ESA) Sentinel-2 imagery. \n",
    "A deep learning AI land classification model was trained using a massive training dataset curated by the National Geographic Society. \n",
    "This dataset contains over 5 billion hand-labelled Sentinel-2 imagery pixels, from 6 bands of surface reflectance data: visible blue, green, red, near infrared, and two shortwave infrared bands. \n",
    "The pixels were sampled from over 20,000 sites distributed across all major biomes of the world. \n",
    "\n",
    "The UNET, deep learning model was applied to multiple ESA Sentinel-2 scenes accross the year 2020, accessed via Microsoft’s Planetary Computer and scaled using Microsoft Azure Batch. \n",
    "The images were classified into 10 discrete land use/land cover classes. \n",
    "The LULC predictions were then composited to generate a representative map of the year 2020. "
   ]
  },
  {
   "cell_type": "markdown",
   "id": "2c830377-198a-40c6-a7ca-c74d9a1f0531",
   "metadata": {},
   "source": [
    "### Media and example images"
   ]
  },
  {
   "cell_type": "markdown",
   "id": "48e89e84-0cd1-454f-962c-b16530f25c55",
   "metadata": {},
   "source": [
    "**Figure 2: ESRI 2020 Land Cover classification data for Madagascar**"
   ]
  },
  {
   "cell_type": "markdown",
   "id": "59000d3c-a17e-4561-9190-badd383ebf73",
   "metadata": {},
   "source": [
    "<img src=\"../_static/data_specs/IO_LULC_specs/io-lulc-madagascar-2020.png\" alt=\"IO LULC Geographic Extent\" width=\"500\" align=\"left\"/>"
   ]
  },
  {
   "cell_type": "markdown",
   "id": "7519d955-16f1-4f5a-908c-d8eb0964bbb0",
   "metadata": {},
   "source": [
    "### References"
   ]
  },
  {
   "cell_type": "markdown",
   "id": "ee1b71a1-222b-4ce7-9da2-aa3d83cbd1e0",
   "metadata": {
    "tags": []
   },
   "source": [
    "K. Karra, C. Kontgis, Z. Statman-Weil, J. C. Mazzariello, M. Mathis and S. P. Brumby, \"Global land use / land cover with Sentinel 2 and deep learning,\" 2021 *IEEE International Geoscience and Remote Sensing Symposium IGARSS*, 2021, pp. 4704-4707, doi: 10.1109/IGARSS47720.2021.9553499.\n",
    "\n",
    "Kontgis, C. (2021, June 24). [Mapping the world in unprecedented detail](https://caitlin-kontgis.medium.com/mapping-the-world-in-unprecedented-detail-7c0513205b90)\n"
   ]
  },
  {
   "cell_type": "markdown",
   "id": "da135198-725c-4ce9-8466-dbb85d1e42d6",
   "metadata": {},
   "source": [
    "### License and Acknowledgements"
   ]
  },
  {
   "cell_type": "markdown",
   "id": "481f8842-54ad-4b55-a806-5b428cf07eca",
   "metadata": {},
   "source": [
    "This dataset was produced by Impact Observatory for Esri. © 2021 Esri. This dataset is available under a Creative Commons BY-4.0 license and any copy of or work based on this dataset requires the following attribution: \n",
    "**This dataset is based on the dataset produced for the Dynamic World Project by National Geographic Society in partnership with Google and the World Resources Institute.**"
   ]
  },
  {
   "cell_type": "markdown",
   "id": "1a9d1ba4-af9c-4287-8346-2df56dd88a8b",
   "metadata": {},
   "source": [
    "## Data Acess"
   ]
  },
  {
   "cell_type": "markdown",
   "id": "2be1d378-0d77-4da6-bd7a-42dcbd7429fe",
   "metadata": {},
   "source": [
    "### OGC Web Services (OWS)"
   ]
  },
  {
   "cell_type": "markdown",
   "id": "1b829dc7-a1dd-4c9e-b692-8acb125b7111",
   "metadata": {},
   "source": [
    "The ESRI 2020 Land Cover product `io_lulc`  is available through the Digital Earth Africa's OWS. "
   ]
  },
  {
   "cell_type": "markdown",
   "id": "e1dbadfa-634b-4cca-8dc2-8305d3c69ff3",
   "metadata": {},
   "source": [
    "**Table 3: OWS data access details.**"
   ]
  },
  {
   "cell_type": "markdown",
   "id": "bb548dd2-75af-42ac-b4aa-372d23ef3511",
   "metadata": {},
   "source": [
    "|OWS details | |\n",
    "|----------|-------------|\n",
    "|Name | `DE Africa Services` |\n",
    "|Web Map Services (WMS) URL | `https://ows.digitalearth.africa/wms?version=1.3.0` |\n",
    "| Web Coverage Service (WCS) URL | `https://ows.digitalearth.africa/wcs?version=2.1.0`|\n",
    "| Layer name | `io_lulc`|"
   ]
  },
  {
   "cell_type": "markdown",
   "id": "bd8f6cf5-63d6-47bb-8099-9cba792d91ba",
   "metadata": {},
   "source": [
    "Digital Earth Africa OWS details can be found at [https://ows.digitalearth.africa/](https://ows.digitalearth.africa/).\n",
    "\n",
    "For instructions on how to connect to OWS, see [this tutorial](../web_services/index.ipynb)."
   ]
  },
  {
   "cell_type": "markdown",
   "id": "929404c6-eb18-4f7e-989a-982d1e293af4",
   "metadata": {
    "tags": []
   },
   "source": [
    "### Open Data Cube (ODC)"
   ]
  },
  {
   "cell_type": "markdown",
   "id": "fb174cbf-e68e-4498-b99d-fd5fbbdd76c8",
   "metadata": {},
   "source": [
    "The ESRI 2020 Land Cover product can be accessed through the Digital Earth Africa ODC API, which is available through the [Digital Earth Africa Sandbox](https://sandbox.digitalearth.africa/hub/login).\n",
    "\n",
    "**ODC product name:** `io_lulc`"
   ]
  },
  {
   "cell_type": "markdown",
   "id": "97de7070-4c2e-4f52-ad07-d6d4bfa35bdb",
   "metadata": {},
   "source": [
    "The `io_lulc` product has only one specific band of data which can be called by using the default name, `data`,  or by the band’s alternative name, `classification`, as listed in the table below. \n",
    "ODC `Datacube.load` commands without specified bands will load the  `data`  band."
   ]
  },
  {
   "cell_type": "markdown",
   "id": "cede81bd-370a-41bf-87c4-436f75019dc3",
   "metadata": {},
   "source": [
    "**Table 4: ODC product io_lulc band names.**"
   ]
  },
  {
   "cell_type": "markdown",
   "id": "0056560e-fa48-4666-89da-e7b682e1b1a5",
   "metadata": {},
   "source": [
    "|Band name| Alternative names| Fill value |\n",
    "|:------------------------------|:-------------------|---------:|\n",
    "| data                | classification         |      `0` |"
   ]
  },
  {
   "cell_type": "markdown",
   "id": "6c428a8c-2a61-4b79-a01a-167a64f2ab92",
   "metadata": {},
   "source": [
    "## Technical information"
   ]
  },
  {
   "cell_type": "markdown",
   "id": "700dd66f-1d35-4ef4-9056-379d2d2b4130",
   "metadata": {},
   "source": [
    "Following best practices for accuracy assessment, Impact Observatory adjusted the acreage estimates for each land cover class in the ESRI 2020 Land Cover product using its respective user’s accuracy as computed from the comparison to the validation set. \n",
    "The deep learning land cover classification model achieved an overall accuracy of 86% on the validation set.\n",
    "This approach also allowed Impact Observatory to produce a 95% confidence interval for each acreage estimate, providing users with a clearer picture of the accuracy and total area for each class. (From the [ESRI release page](https://www.arcgis.com/home/item.html?id=d6642f8a4f6d4685a24ae2dc0c73d4ac))"
   ]
  },
  {
   "cell_type": "markdown",
   "id": "92b71d3f-ba94-4e57-a3f5-a47d6ae9c32b",
   "metadata": {},
   "source": [
    "**Figure 3: Confusion matrix of pixel counts evaluated against \"three expert strict\" gold standard validation tiles**"
   ]
  },
  {
   "cell_type": "markdown",
   "id": "d791352e-0ba8-4b16-8ecf-3a16f38f4d87",
   "metadata": {},
   "source": [
    "<img src=\"../_static/data_specs/IO_LULC_specs/io-lulc-accuracy-assessment-2020.png\" alt=\"IO LULC Geographic Extent\" width=\"1000\" align=\"left\"/>"
   ]
  },
  {
   "cell_type": "markdown",
   "id": "7f6f4fb8-7107-436d-8962-00e24112fdf4",
   "metadata": {},
   "source": [
    "*Image courtesy of ESRI.*"
   ]
  }
 ],
 "metadata": {
  "kernelspec": {
   "display_name": "Python 3 (ipykernel)",
   "language": "python",
   "name": "python3"
  },
  "language_info": {
   "codemirror_mode": {
    "name": "ipython",
    "version": 3
   },
   "file_extension": ".py",
   "mimetype": "text/x-python",
   "name": "python",
   "nbconvert_exporter": "python",
   "pygments_lexer": "ipython3",
   "version": "3.8.10"
  }
 },
 "nbformat": 4,
 "nbformat_minor": 5
}
