{
 "cells": [
  {
   "cell_type": "markdown",
   "id": "f027032b-53eb-43e6-9092-5745a1052546",
   "metadata": {},
   "source": [
    "# Copernicus DEM (COP-DEM)"
   ]
  },
  {
   "cell_type": "markdown",
   "id": "623b1e88-a52d-449f-b7ab-a308634aad0e",
   "metadata": {},
   "source": [
    "## Product overview"
   ]
  },
  {
   "cell_type": "markdown",
   "id": "a9caf3ae-a9e7-425b-88d8-530f3cf846eb",
   "metadata": {},
   "source": [
    "### Background"
   ]
  },
  {
   "cell_type": "markdown",
   "id": "898110f0-3733-4297-9aa5-658480f4b551",
   "metadata": {},
   "source": [
    "The Copernicus DEM is a Digital Surface Model (DSM) that represents the Earth's surface. The Copernicus DEM is provided by the European Space Agency (ESA) in 3 different instances:\n",
    "\n",
    "* COP-DEM-EEA-10 : provides coverage of the European Economic Area (EEA) member states and the 6 cooperating countries at 0.3 arc seconds (~10m) spatial resolution \n",
    "\n",
    "* COP-DEM-GLO-30 : provides global coverage at  1.0 arc seconds (~30m) spatial resolution\n",
    "\n",
    "* COP-DEM-GLO-90  : provides global coverage at 3.0 arc second (~90m)  spatial resolution\n",
    "\n",
    "\n",
    "There are two instances of the COP-DEM-GLO-30 Copernicus DEM: COP-DEM-GLO-30-R and COP-DEM-GLO-30 Public. \n",
    "COP-DEM-GLO-30 Public provides limited worldwide coverage at 1.0 arc seconds (~30m) spatial resolution because a small subset of tiles covering specific countries are not yet released to the public by the Copernicus Programme. \n",
    "The list of countries presenting constraints in terms of access rights is available [here](https://spacedata.copernicus.eu/documents/20126/0/Non-released-tiles_GLO-30_PUBLIC_Dec.xlsx/bcdd6cef-6379-4890-de8f-788daf41dce8?t=1608549440765). \n",
    "COP-DEM-GLO-30-R provides complete global coverage, but is only accessible to users belonging to the authorised users categories as defined in the [applicable license](https://spacedata.copernicus.eu/documents/20126/0/CSCDA_ESA_Mission-specific+Annex.pdf/5308d1e7-17de-b55b-2be8-8a3a286aa88b?t=1581077110498). "
   ]
  },
  {
   "cell_type": "markdown",
   "id": "cbf89951-0287-489d-9d45-7cd619ebc2cd",
   "metadata": {},
   "source": [
    "Digital Earth Africa provides free and open access to a copy of the COP-DEM-GLO-30 Public and COP-DEM-GLO-90 products over Africa. \n",
    "For more information on these products see the [Copernicus DEM website](https://spacedata.copernicus.eu/web/cscda/dataset-details?articleId=394198) and [Copernicus DEM Product Handbook](https://spacedata.copernicus.eu/documents/20126/0/GEO1988-CopernicusDEM-SPE-002_ProductHandbook_I3.0+%281%29.pdf/68854203-e022-1446-b216-41becd2399b5?t=1618937501277)."
   ]
  },
  {
   "cell_type": "markdown",
   "id": "1625cae9-0cae-4138-b431-9bec9fc6717d",
   "metadata": {},
   "source": [
    "### Specifications"
   ]
  },
  {
   "cell_type": "markdown",
   "id": "b6b798f5-a4b4-403f-8d43-6ba2dd0f221d",
   "metadata": {},
   "source": [
    "#### Spatial and temporal coverage"
   ]
  },
  {
   "cell_type": "markdown",
   "id": "07233424-1cbf-4591-9ad9-831ee90129c2",
   "metadata": {},
   "source": [
    "Relevant metadata for the COP-DEM-GLO-30 Public and COP-DEM-GLO-90 products can be viewed on the DE Africa Metadata Explorer [here](https://explorer.digitalearth.africa/products/dem_cop_30) and [here](https://explorer.digitalearth.africa/products/dem_cop_90)."
   ]
  },
  {
   "cell_type": "markdown",
   "id": "4f710059-83f8-48d0-8e3e-e2f4aa43441a",
   "metadata": {},
   "source": [
    "**Table 1: COP-DEM-GLO-30 Public and COP-DEM-GLO-90 product specifications**"
   ]
  },
  {
   "cell_type": "markdown",
   "id": "715d5963-e9bf-4a6e-98e5-eca3ddf271ad",
   "metadata": {},
   "source": [
    "|**Specification**|   |        |\n",
    "|----------|----------|-------------|\n",
    "| Product name | COP-DEM-GLO-30 Public | COP-DEM-GLO-90 |\n",
    "|Cell size - X (arc seconds) |  1.0 (~30 m) | 1.0 (~90 m) |\n",
    "|Cell size - Y (arc seconds) | 3.0 (~30 m) | 3.0 (~90 m) |\n",
    "|Coordinate reference system | EPSG: 4326 | EPSG: 4326 |\n",
    "|Update frequency| None, except if the public tile list changes. | None |"
   ]
  },
  {
   "cell_type": "markdown",
   "id": "0ab50612-09f8-4fd5-a68d-96cfc58e302e",
   "metadata": {},
   "source": [
    "The specific temporal and geographic extents for the products can be explored as an interactive map on the Metadata Explorer [here](https://explorer.digitalearth.africa/products/dem_cop_30) and [here](https://explorer.digitalearth.africa/products/dem_cop_90). Data is available for the regions shaded in blue."
   ]
  },
  {
   "cell_type": "markdown",
   "id": "a1595eca-d8c7-4869-b20f-aa54e1c60881",
   "metadata": {},
   "source": [
    "**Figure 1: COP-DEM-GLO-30 Public geographic extent**"
   ]
  },
  {
   "cell_type": "markdown",
   "id": "150106bf-9908-4946-8b79-990b69536608",
   "metadata": {},
   "source": [
    "<img src=\"../_static/data_specs/COP_DEM_specs/cop-dem-30-geographic_extent.png\" alt=\"COP-DEM-GLO-30 Public Geographic Extent\" width=\"300\" align=\"left\"/>"
   ]
  },
  {
   "cell_type": "markdown",
   "id": "02d02a92-c4e9-40ab-8348-bd23842d7094",
   "metadata": {},
   "source": [
    "**Figure 2: COP-DEM-GLO-90 geographic extent**"
   ]
  },
  {
   "cell_type": "markdown",
   "id": "07b2d9b0-d349-4458-ab08-34d429147dea",
   "metadata": {},
   "source": [
    "<img src=\"../_static/data_specs/COP_DEM_specs/cop-dem-90-geographic_extent.png\" alt=\"COP-DEM-GLO-90 Geographic Extent\" width=\"300\" align=\"left\"/>"
   ]
  },
  {
   "cell_type": "markdown",
   "id": "092bee4a-b64f-4687-bdde-75b9c6c1dc11",
   "metadata": {},
   "source": [
    "#### Measurements"
   ]
  },
  {
   "cell_type": "markdown",
   "id": "439c2084-7a8b-4f97-af32-2da757ae92e3",
   "metadata": {},
   "source": [
    "**Table 2: COP-DEM-GLO-30 Public and COP-DEM-GLO-90 product measurements**"
   ]
  },
  {
   "cell_type": "markdown",
   "id": "2408d496-f938-422f-a097-6233f135e06c",
   "metadata": {},
   "source": [
    "|Product name|Band ID| Description | Units | Data type| No data value|\n",
    "|----------|----------|-------------|----------------|:---------:|:----------:|\n",
    "| COP-DEM-GLO-30 Public | elevation | Elevation data |`1`| `float32` | `NaN` |\n",
    "| COP-DEM-GLO-90 | elevation | Elevation data |`1`| `float32` | `NaN` |"
   ]
  },
  {
   "cell_type": "markdown",
   "id": "30d418d2-9a4c-4633-8722-b9ab519d6c83",
   "metadata": {},
   "source": [
    "### Processing"
   ]
  },
  {
   "cell_type": "markdown",
   "id": "888f68ab-bf19-4dfd-ba89-2f9c09e88f19",
   "metadata": {},
   "source": [
    "The Copernicus DEM  is derived from an edited DSM named WorldDEM which was based on the radar satellite data acquired during the TanDEM-X Mission. \n",
    "For the edited WorldDEM, the flattening of water bodies and consistent flow of rivers has been included, and editing of shore- and coastlines, special features such as airports and implausible terrain structures has also been applied. \n",
    "The edited WorldDEM was also infilled on a local basis with the following DEMs: ASTER, SRTM90, SRTM30, SRTM30plus, GMTED2010, TerraSAR-X Radargrammetric DEM, ALOS World 3D-30m.\n",
    "The Copernicus DEM product generation and editing process is described in the [Product Handbook](https://spacedata.copernicus.eu/documents/20126/0/GEO1988-CopernicusDEM-SPE-002_ProductHandbook_I3.0+%281%29.pdf/68854203-e022-1446-b216-41becd2399b5?t=1618937501277)."
   ]
  },
  {
   "cell_type": "markdown",
   "id": "9deec135-2d6d-4995-8ab4-34c139b13581",
   "metadata": {},
   "source": [
    "### Media and example images"
   ]
  },
  {
   "cell_type": "markdown",
   "id": "719e774d-dda5-4aae-a008-83a7596100bd",
   "metadata": {},
   "source": [
    "**Figure 3: COP-DEM-GLO-30 Public elevation data for Mt. Kilimanjaro**"
   ]
  },
  {
   "cell_type": "markdown",
   "id": "6a477e85-949b-404e-b90d-0751be3b9aab",
   "metadata": {},
   "source": [
    "<img src=\"../_static/data_specs/COP_DEM_specs/cop-dem-30-mt_kilimanjaro.png\" alt=\"COP-DEM-GLO-30 Public Mt. Kilimanjaro\" width=\"500\" align=\"left\"/>"
   ]
  },
  {
   "cell_type": "markdown",
   "id": "3aa8074c-4b37-4b09-8ba3-ebeec438e15c",
   "metadata": {},
   "source": [
    "**Figure 4: COP-DEM-GLO-90 elevation data for Mt. Kenya**"
   ]
  },
  {
   "cell_type": "markdown",
   "id": "64500f8c-f760-4ef3-bdca-b5731e111741",
   "metadata": {},
   "source": [
    "<img src=\"../_static/data_specs/COP_DEM_specs/cop-dem-90-mt_kenya.png\" alt=\"COP-DEM-GLO-90 Mt. Kenya\" width=\"500\" align=\"left\"/>"
   ]
  },
  {
   "cell_type": "markdown",
   "id": "57f42d94-de20-4e9a-ba99-45a61750c562",
   "metadata": {},
   "source": [
    "### References"
   ]
  },
  {
   "cell_type": "markdown",
   "id": "329c0ceb-4622-493b-9cf0-0b64708f314f",
   "metadata": {},
   "source": [
    "The [Copernicus DEM website](https://spacedata.copernicus.eu/web/cscda/dataset-details?articleId=394198)"
   ]
  },
  {
   "cell_type": "markdown",
   "id": "7570c0e3-9c08-4433-9194-10b44d317f8a",
   "metadata": {},
   "source": [
    "The [Copernicus DEM Product Handbook](https://spacedata.copernicus.eu/documents/20126/0/GEO1988-CopernicusDEM-SPE-002_ProductHandbook_I3.0+%281%29.pdf/68854203-e022-1446-b216-41becd2399b5?t=1618937501277)"
   ]
  },
  {
   "cell_type": "markdown",
   "id": "08649c32-f014-4150-b388-51ea16f3cf44",
   "metadata": {},
   "source": [
    "### License and Acknowledgements"
   ]
  },
  {
   "cell_type": "markdown",
   "id": "b0a02f8b-fa23-4263-bdbf-de25dc7bb787",
   "metadata": {},
   "source": [
    "The GLO-90 dataset is available worldwide with a free license. The GLO-30 dataset is available worldwide with a free license with the exception of two countries, reported in a [dedicated list](https://spacedata.copernicus.eu/documents/20126/0/COP-DEM_delivery_sheet_v0.9.xlsx/9812e3a5-300d-a0ef-1c52-4d55391eaed8?t=1630080852713) and available within the datasets COP-DEM_GLO-30-R datasets. Full Licences are available [here](https://spacedata.copernicus.eu/documents/20126/0/CSCDA_ESA_Mission-specific+Annex+%281%29.pdf/83b44c0a-244a-7ba3-b00c-b578a34e88a7?t=1604070311399)."
   ]
  },
  {
   "cell_type": "markdown",
   "id": "71c9e4ed-3986-4264-a9b0-494fd3a722ba",
   "metadata": {},
   "source": [
    "## Data Access"
   ]
  },
  {
   "cell_type": "markdown",
   "id": "10ad6b40-e03b-44cd-985c-37d4cc55cfb6",
   "metadata": {},
   "source": [
    "### Amazon web services S3"
   ]
  },
  {
   "cell_type": "markdown",
   "id": "ac3e7723-24b9-4a19-ae61-6d024c81a53f",
   "metadata": {},
   "source": [
    "The GLO-30 Public and GLO-90 instances of the Copernicus DEM are available in AWS S3 sponsored by the [Public Dataset Program](https://registry.opendata.aws/copernicus-dem/)."
   ]
  },
  {
   "cell_type": "markdown",
   "id": "522455ca-57ee-48d4-adb2-901644c6d76f",
   "metadata": {},
   "source": [
    "**Table 3:  Copernicus DEM  GLO-30 Public and GLO-90 AWS data access details**"
   ]
  },
  {
   "cell_type": "markdown",
   "id": "e7685e46-324e-45dc-8b21-166587dff940",
   "metadata": {},
   "source": [
    "|AWS S3 details | | |\n",
    "| :-- | :-- | :-- |\n",
    "|Product | GLO-30 Public | GLO-90 | \n",
    "|Bucket ARD | `arn:aws:s3:::copernicus-dem-30m`| `arn:aws:s3:::copernicus-dem-90m` |\n",
    "|Region | `eu-central-1` | `eu-central-1` |"
   ]
  },
  {
   "cell_type": "markdown",
   "id": "cf24d8ac-bceb-4acc-a2de-d04bbd5c2e8d",
   "metadata": {},
   "source": [
    "The file paths follow the basic data formart: `Copernicus_DSM_COG_[resolution]_[northing]_[easting]_DEM/` e.g. `s3://copernicus-dem-90m/Copernicus_DSM_COG_30_S90_00_W178_00_DEM/`"
   ]
  },
  {
   "cell_type": "markdown",
   "id": "0929fa85-d89f-4426-af46-6f6a9415fe3e",
   "metadata": {},
   "source": [
    "**Table 4: AWS file path convention**"
   ]
  },
  {
   "cell_type": "markdown",
   "id": "a6619c1c-e039-423c-888d-b489d0c86e35",
   "metadata": {},
   "source": [
    "|File path element |  Description |Example |\n",
    "| :-- | :-- | :-- |\n",
    "|`resolution`| Resolution in arc seconds. | `10` for GLO-30, and `30` for GLO-90 | \n",
    "|`northing` | This is the northing of the center of the bottom-most pixels in the original files. | `S50_00 ` | \n",
    "|`easting` | This is the easting of the center of the left-most pixels. | `w125_00 ` | "
   ]
  },
  {
   "cell_type": "markdown",
   "id": "d74581ab-8865-488d-a31f-92b5d4665d1f",
   "metadata": {},
   "source": [
    "### OGC Web Services (OWS)"
   ]
  },
  {
   "cell_type": "markdown",
   "id": "97445c06-67fc-4c3f-880f-9a32abab502c",
   "metadata": {},
   "source": [
    "This GLO-30 Public and GLO-90 instances of the Copernicus DEM are available through DE Africa's OWS."
   ]
  },
  {
   "cell_type": "markdown",
   "id": "fdb005af-d29a-4154-b6c3-137849227909",
   "metadata": {},
   "source": [
    "**Table 5: OWS data access details.**"
   ]
  },
  {
   "cell_type": "markdown",
   "id": "bec94f29-6ed6-4c49-b5e7-255d02231d90",
   "metadata": {},
   "source": [
    "|OWS details | |\n",
    "|----------|-------------|\n",
    "|Name | `DE Africa Services` |\n",
    "|Web Map Services (WMS) URL | `https://ows.digitalearth.africa/wms?version=1.3.0` |\n",
    "| Web Coverage Service (WCS) URL | `https://ows.digitalearth.africa/wcs?version=2.1.0`|\n",
    "| Layer names | `dem_cop_30`, `dem_cop_90` |"
   ]
  },
  {
   "cell_type": "markdown",
   "id": "a8034811-972a-442f-a236-48459b8d0061",
   "metadata": {},
   "source": [
    "Digital Earth Africa OWS details can be found at [https://ows.digitalearth.africa/](https://ows.digitalearth.africa/)."
   ]
  },
  {
   "cell_type": "markdown",
   "id": "47ed7a83-9f7b-41c1-ae00-2f9789978f07",
   "metadata": {},
   "source": [
    "For instructions on how to connect to OWS, see [this tutorial](../web_services/index.ipynb)."
   ]
  },
  {
   "cell_type": "markdown",
   "id": "6423b519-c140-4e1c-8410-84333ba1fc64",
   "metadata": {},
   "source": [
    "### Open Data Cube (ODC)"
   ]
  },
  {
   "cell_type": "markdown",
   "id": "d1c755bf-bb37-4d28-a750-70efbc6e3bf2",
   "metadata": {},
   "source": [
    "The GLO-30 Public and GLO-90 instances of the Copernicus DEM can be accessed through the Digital Earth Africa ODC API, which is available through the [Digital Earth Africa Sandbox](https://sandbox.digitalearth.africa/hub/login).\n",
    "\n",
    "**ODC product names:** `dem_cop_30`, `dem_cop_90`"
   ]
  },
  {
   "cell_type": "markdown",
   "id": "030164f8-fb92-487c-8e54-329925f14f48",
   "metadata": {},
   "source": [
    "Specific bands of data can be called by using either the default names or any of a band's alternative names, as listed in the table below. ODC `Datacube.load` commands without specified bands will load all bands."
   ]
  },
  {
   "cell_type": "markdown",
   "id": "e209400f-ab21-474c-856c-3c3882f16726",
   "metadata": {},
   "source": [
    "**Table 6: ODC products dem_cop_30 and dem_cop_90 band names**"
   ]
  },
  {
   "cell_type": "markdown",
   "id": "680b8506-5997-4d9a-bdc1-af3eecd88103",
   "metadata": {},
   "source": [
    "|           Product           | Band name      |    Alternative names | Fill value | \n",
    "|-----------------------------|----------------|--------------|---------------------|\n",
    "| `dem_cop_30`   | elevation |       NaN |       NaN |               \n",
    "| `dem_cop_90`   | elevation |       NaN |       NaN |          "
   ]
  },
  {
   "cell_type": "markdown",
   "id": "d93684c2-8613-4e5d-9508-62584e86ad88",
   "metadata": {},
   "source": [
    "## Technical information"
   ]
  },
  {
   "cell_type": "markdown",
   "id": "43cbe5a3-025b-42e6-9c49-ffbabfe8aa94",
   "metadata": {},
   "source": [
    "The Copernicus DEM was validated using the Geoscience Laser Altimeter System (GLAS) of NASA’s Ice, Cloud and land Elevation Satellite (ICESat). \n",
    "The Global *RMSE* is 1.68 metres. \n",
    "The accuracy assessment is split into two parts, since the ice-covered regions have to be treated differently from the non-ice-covered regions, which are described in the [Validation Report](https://spacedata.copernicus.eu/documents/20126/0/GEO1988-CopernicusDEM-RP-001_ValidationReport_I3.0.pdf/996b90c4-49b1-0883-5553-4e29a29c4bd5?t=1609340156005)"
   ]
  }
 ],
 "metadata": {
  "kernelspec": {
   "display_name": "Python 3 (ipykernel)",
   "language": "python",
   "name": "python3"
  },
  "language_info": {
   "codemirror_mode": {
    "name": "ipython",
    "version": 3
   },
   "file_extension": ".py",
   "mimetype": "text/x-python",
   "name": "python",
   "nbconvert_exporter": "python",
   "pygments_lexer": "ipython3",
   "version": "3.8.10"
  }
 },
 "nbformat": 4,
 "nbformat_minor": 5
}
