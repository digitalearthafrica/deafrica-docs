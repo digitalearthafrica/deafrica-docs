{
 "cells": [
  {
   "cell_type": "markdown",
   "metadata": {},
   "source": [
    "# Landsat Collection 2 Level-2 Surface Reflectance"
   ]
  },
  {
   "cell_type": "raw",
   "metadata": {
    "raw_mimetype": "text/restructuredtext"
   },
   "source": [
    ".. contents::\n",
    "   :local:"
   ]
  },
  {
   "cell_type": "markdown",
   "metadata": {},
   "source": [
    "**Date modified:** 28 April 2021"
   ]
  },
  {
   "cell_type": "markdown",
   "metadata": {},
   "source": [
    "> This dataset is expected to be available to users second quarter of 2021."
   ]
  },
  {
   "cell_type": "markdown",
   "metadata": {},
   "source": [
    "## Product overview"
   ]
  },
  {
   "cell_type": "markdown",
   "metadata": {},
   "source": [
    "### Background"
   ]
  },
  {
   "cell_type": "markdown",
   "metadata": {},
   "source": [
    "Digital Earth Africa (DE Africa) provides free and open access to a copy of [Landsat Collection 2 Level-2](https://www.usgs.gov/core-science-systems/nli/landsat/landsat-collection-2-level-2-science-products) products over Africa. These products are produced and provided by the United States Geological Survey (USGS).\n",
    "\n",
    "The [Landsat series](https://www.usgs.gov/core-science-systems/nli/landsat) of Earth Observation satellites, jointly led by USGS and NASA, have been continuously acquiring images of the Earth’s land surface since 1972. DE Africa provides data from Landsat 5, 7 and 8 satellites, including historical observations dating back to late 1980s and regularly updated new acquisitions.\n",
    "\n",
    "New Level-2 Landsat 7 and Landsat 8 data are available after 15 to 27 days from acquisition. See [Landsat Collection 2 Generation Timeline](https://www.usgs.gov/media/images/landsat-collection-2-generation-timeline) for details.\n",
    "\n",
    "USGS Landsat Collection 2 was released early 2021 and offers improved processing, geometric accuracy, and radiometric calibration compared to previous Collection 1 products. The Level-2 products are endorsed by the Committee on Earth Observation Satellites (CEOS) to be Analysis Ready Data for Land ([CARD4L](https://ceos.org/ard/))-compliant. This internationally-recognised certification ensures these products have been processed to a minimum set of requirements and organised into a form that allows immediate analysis with a minimum of additional user effort and interoperability both through time and with other datasets.\n",
    "\n",
    "USGS Landsat Collection 2 Level-2 includes:\n",
    "\n",
    "* Surface Reflectance\n",
    "* Surface Temperature\n",
    "\n",
    "This document provides technical specifications for the Surface Reflectance product.\n",
    "\n",
    "Surface reflectance is the fraction of incoming solar radiation that is reflected from Earth's surface. Variations in satellite measured radiance due to atmospheric properties have been corrected for so images acquired over the same area at different times are comparable and can be used readily to detect changes on Earth’s surface. \n"
   ]
  },
  {
   "cell_type": "markdown",
   "metadata": {},
   "source": [
    "### Specifications"
   ]
  },
  {
   "cell_type": "markdown",
   "metadata": {},
   "source": [
    "#### Spatial and temporal coverage"
   ]
  },
  {
   "cell_type": "markdown",
   "metadata": {},
   "source": [
    "DE Africa provides Landsat Collection 2 Level-2 from Landsat 5, 7 and 8 as seperate products. Relevant coverage and metadata can be viewed on DE Africa Metadata Exploer:\n",
    "\n",
    "* [Landsat 5 Collection 2 Level-2 Surface Reflectance](https://explorer.digitalearth.africa/products/ls5_c2l2_sr)\n",
    "* [Landsat 7 Collection 2 Level-2 Surface Reflectance](https://explorer.digitalearth.africa/products/ls7_c2l2_sr)\n",
    "* [Landsat 8 Collection 2 Level-2 Surface Reflectance](https://explorer.digitalearth.africa/products/ls8_c2l2_sr)"
   ]
  },
  {
   "cell_type": "markdown",
   "metadata": {},
   "source": [
    "**Table 1: Landsat Collection 2 Level-2 product specifications**"
   ]
  },
  {
   "cell_type": "markdown",
   "metadata": {},
   "source": [
    "|Satellite | Landsat 5 | Landsat 7 | Landsat 8 | \n",
    "|----------|:---------:|:---------:|:---------:|\n",
    "|Instrument| Multispectral Scanner (MSS), Thematic Mapper (TM)| Enhanced Thematic Mapper (ETM+)| Operational Land Imager (OLI), Thermal Infrared Sensor (TIRS) |\n",
    "|Number of bands | 19 | 19 | 19 |\n",
    "|Cell size - X (metres) | 30 | 30 | 30 |\n",
    "|Cell size - Y (metres) | 30 | 30 | 30 |\n",
    "|Coordinate reference system |Universal Transverse Mercator (UTM) | UTM | UTM |\n",
    "|Temporal resolution | Every 16 days | Every 16 days | Every 16 days |\n",
    "|Temporal range| 1984 &ndash; 2012 | 1999 &ndash; present | 2013 &ndash; present |\n",
    "|Parent dataset| [Landsat Collection 2 Level-1](https://www.usgs.gov/land-resources/nli/landsat/landsat-collection-2-level-1-data) | [Landsat Collection 2 Level-1](https://www.usgs.gov/land-resources/nli/landsat/landsat-collection-2-level-1-data) | [Landsat Collection 2 Level-1](https://www.usgs.gov/land-resources/nli/landsat/landsat-collection-2-level-1-data) |\n",
    "|Update frequency| NA (archive)| Daily | Daily |"
   ]
  },
  {
   "cell_type": "markdown",
   "metadata": {},
   "source": [
    "#### Measurements"
   ]
  },
  {
   "cell_type": "markdown",
   "metadata": {},
   "source": [
    "**Table 2: Landsat 5 and Landsat 7 Level-2 measurements**\n",
    "\n",
    "|Band ID|Description |Units | Range | Data type| No data$^\\dagger$ | Conversion$^\\ddagger$ |\n",
    "|----------|-------------|----------------|----------------|:---------:|:----------:|:----------:|\n",
    "|SR_B1 | Surface reflectance band 1 (Blue) | Unitless | `1-65455`| `uint16` | `0` | 2.75e-05 \\* DN - 0.2 |\n",
    "|SR_B2 | Surface reflectance band 2 (Green) | Unitless | `1-65455`| `uint16` | `0` | 2.75e-05 \\* DN - 0.2 |\n",
    "|SR_B3 | Surface reflectance band 3 (Red) | Unitless | `1-65455`| `uint16` | `0` | 2.75e-05 \\* DN - 0.2 |\n",
    "|SR_B4 | Surface reflectance band 4 (Near-Infrared (NIR)) | Unitless | `1-65455`| `uint16` | `0` | 2.75e-05 \\* DN - 0.2 |\n",
    "|SR_B5 | Surface reflectance band 5 (Short Wavelength Infrared (SWIR) 1) | Unitless | `1-65455`| `uint16` | `0` | 2.75e-05 \\* DN - 0.2 |\n",
    "|SR_B7 | Surface reflectance band 7 (SWIR 2) | Unitless | `1-65455`| `uint16` | `0` | 2.75e-05 \\* DN - 0.2 |\n",
    "|ST_B6 | Surface temperature band 6 (Thermal Infrared (TIR)) | Kelvin | `1-65535`| `uint16` | `0` | 0.00341802 \\* DN + 149.0 |\n",
    "|ST_TRAD | Thermal radiance | Wm$^{-2}$sr$^{-1}$$\\mu$m$^{-1}$ | `0-22000` | `int16` | `-9999` | 0.001 \\* DN |\n",
    "|ST_URAD | Upwell radiance | Wm$^{-2}$sr$^{-1}$$\\mu$m$^{-1}$ | `0-28000` | `int16` | `-9999` | 0.001 \\* DN |\n",
    "|ST_DRAD | Downwell radiance | Wm$^{-2}$sr$^{-1}$$\\mu$m$^{-1}$ | `0-28000` | `int16` | `-9999` | 0.001 \\* DN |\n",
    "|ST_ATRAN | Atmospheric transmittance | Unitless | `0-10000` | `int16` | `-9999` | 0.0001 \\* DN |\n",
    "|ST_EMIS | Emissivity | Unitless | `0-10000` | `int16` | `-9999` | 0.0001 \\* DN |\n",
    "|ST_EMSD | Emissivity standard deviation | Unitless | `0-10000` | `int16` | `-9999` | 0.0001 \\* DN |\n",
    "|ST_CDIST | Distance to cloud | Kilometers | `0-24000` | `int16` | `-9999` | 0.01 \\* DN |\n",
    "|QA_PIXEL | Pixel quality | Bit Index | `0-65535` | `uint16` | `1` | NA |\n",
    "|QA_RADSAT | Radiometric saturation | Bit Index | `0-65535` | `uint16` | `0` | NA |\n",
    "|SR_ATMOS \\_OPACITY | Atmospheric opacity | Unitless | `0-32767` | `int16` | `-9999` | 0.001 \\* DN |\n",
    "|SR_CLOUD \\_QA | Cloud mask quality | Bit Index | `0-255` | `uint8` | `0` | NA |\n",
    "|ST_QA | Surface temperature uncertainty | Kelvin | `0-32767` | `int16` | `-9999` | 0.01 \\* DN |\n",
    "\n",
    "$^\\dagger$ No data or fill value.\n",
    "\n",
    "$^\\ddagger$ Physical measurement can be derived from the Digital Number (DN) stored in the product using the conversion equation listed. \n",
    "\n",
    "More inforamtion can be found from the [Landsat 4-7 Collection 2 Surface Reflectance Product Guide](https://www.usgs.gov/media/files/landsat-4-7-collection-2-level-2-science-product-guide)."
   ]
  },
  {
   "cell_type": "markdown",
   "metadata": {},
   "source": [
    "**Table 3: Landsat 8 Level-2 measurements**\n",
    "\n",
    "Landsat 8 Level-2 science product is generated using a different algorithm and has different output measurements compared to Landsat 5 and Landsat 7.\n",
    "\n",
    "|Band ID|Description |Units | Range | Data type| No data$^\\dagger$ | Conversion$^\\ddagger$ |\n",
    "|----------|-------------|----------------|----------------|:---------:|:----------:|:----------:|\n",
    "|SR_B1 | Surface reflectance band 1 (Coastal Aerosol) | Unitless | `1-65455`| `uint16` | `0` | 2.75e-05 \\* DN - 0.2 |\n",
    "|SR_B2 | Surface reflectance band 2 (Blue) | Unitless | `1-65455`| `uint16` | `0` | 2.75e-05 \\* DN - 0.2 |\n",
    "|SR_B3 | Surface reflectance band 3 (Green) | Unitless | `1-65455`| `uint16` | `0` | 2.75e-05 \\* DN - 0.2 |\n",
    "|SR_B4 | Surface reflectance band 4 (Red) | Unitless | `1-65455`| `uint16` | `0` | 2.75e-05 \\* DN - 0.2 |\n",
    "|SR_B5 | Surface reflectance band 5 (NIR) | Unitless | `1-65455`| `uint16` | `0` | 2.75e-05 \\* DN - 0.2 |\n",
    "|SR_B6 | Surface reflectance band 6 (SWIR 1) | Unitless | `1-65455`| `uint16` | `0` | 2.75e-05 \\* DN - 0.2 |\n",
    "|SR_B7 | Surface reflectance band 7 (SWIR 2) | Unitless | `1-65455`| `uint16` | `0` | 2.75e-05 \\* DN - 0.2 |\n",
    "|ST_B10 | Surface temperature band 10 (TIR) | Kelvin | `1-65535`| `uint16` | `0` | 0.00341802 \\* DN + 149.0 |\n",
    "|ST_TRAD | Thermal radiance | Wm$^{-2}$sr$^{-1}$$\\mu$m$^{-1}$ | `0-22000` | `int16` | `-9999` | 0.001 \\* DN |\n",
    "|ST_URAD | Upwell radiance | Wm$^{-2}$sr$^{-1}$$\\mu$m$^{-1}$ | `0-28000` | `int16` | `-9999` | 0.001 \\* DN |\n",
    "|ST_DRAD | Downwell radiance | Wm$^{-2}$sr$^{-1}$$\\mu$m$^{-1}$ | `0-28000` | `int16` | `-9999` | 0.001 \\* DN |\n",
    "|ST_ATRAN | Atmospheric transmittance | Unitless | `0-10000` | `int16` | `-9999` | 0.0001 \\* DN |\n",
    "|ST_EMIS | Emissivity | Unitless | `0-10000` | `int16` | `-9999` | 0.0001 \\* DN |\n",
    "|ST_EMSD | Emissivity standard deviation | Unitless | `0-10000` | `int16` | `-9999` | 0.0001 \\* DN |\n",
    "|ST_CDIST | Distance to cloud | Kilometers | `0-24000` | `int16` | `-9999` | 0.01 \\* DN |\n",
    "|QA_PIXEL | Pixel quality | Bit Index | `0-65535` | `uint16` | `1` | NA |\n",
    "|QA_RADSAT | Radiometric saturation | Bit Index | `0-65535` | `uint16` | `0` | NA |\n",
    "|SR_QA \\_AEROSOL | Aerosol level | Bit Index | `0-255` | `uint8` | `1` | NA |\n",
    "|ST_QA | Surface temperature uncertainty | Kelvin | `0-32767` | `int16` | `-9999` | 0.01 \\* DN |\n",
    "\n",
    "$^\\dagger$ No data or fill value.\n",
    "\n",
    "$^\\ddagger$ Physical measurement can be derived from the Digital Number (DN) stored in the product using the conversion equation listed. \n",
    "\n",
    "More inforamtion can be found from [Landsat 8 OLI/TIRS Collection 2 Surface Reflectance Product Guide](https://www.usgs.gov/media/files/landsat-8-collection-2-level-2-science-product-guide) and [Landsat 8-9 OLI/TIRS Collection 2 Level 2 Data Format Control Book](https://www.usgs.gov/media/files/landsat-8-9-olitirs-collection-2-level-2-data-format-control-book)"
   ]
  },
  {
   "cell_type": "markdown",
   "metadata": {},
   "source": [
    "#### Quality assessment bands"
   ]
  },
  {
   "cell_type": "markdown",
   "metadata": {},
   "source": [
    "Pixel quality assessment (QA_PIXEL) bands for Landsat 5, 7 and 8 are generated by the CFMask algorithm. Different bit definitions are used because the cirrus band is only available on Landsat 8.\n",
    "\n",
    "**Table 4: Pixel quality assessment (QA_PIXEL) bit index.**\n",
    "\n",
    "| Bit | Landat 5 & 7 | Landsat 8 | Description Values |\n",
    "|-----|------|------------|-------------------|\n",
    "| 0 | Fill | Fill | 0 for image data; 1 for fill data |\n",
    "| 1 | Dilated Cloud | Dilated Cloud | 0 for cloud is not dilated or no cloud; 1 for cloud dilation |\n",
    "| 2 | Unused | Cirrus | 0 for cirrus confidence is not; 1 for high confidence cirrus |\n",
    "| 3 | Cloud | Cloud | 0 for cloud confidence is not high; 1 for high confidence cloud |\n",
    "| 4 | Cloud Shadow | Cloud Shadow | 0 for Cloud Shadow Confidence is not high; 1 for high confidence cloud shadow |\n",
    "| 5 | Snow | Snow | 0 for Snow/Ice Confidence is not high; 1 for high confidence snow cover |\n",
    "| 6 | Clear | Clear | 0 if Cloud or Dilated Cloud bits are set; 1 if Cloud and Dilated Cloud bits are not set |\n",
    "| 7 | Water | Water | 0 for land or cloud; 1 for water |\n",
    "| 8-9 | Cloud Confidence | Cloud Confidence | 00 for no confidence level set; 01 Low confidence; 10 Medium confidence; 11 High confidence |\n",
    "| 10-11 | Cloud Shadow Confidence | Cloud Shadow Confidence | 00 for no confidence level set; 01 Low confidence; 10 Reserved; 11 High confidence |\n",
    "| 12-13 | Snow/Ice Confidence | Snow/Ice Confidence | 00 for no confidence level set; 01 Low confidence; 10 Reserved; 11 High confidence |\n",
    "| 14-15 | Unused | Cirrus Confidence | 00 for no confidence level set; 01 Low confidence; 10 Reserved; 11 High confidence |"
   ]
  },
  {
   "cell_type": "markdown",
   "metadata": {},
   "source": [
    "Radiometric saturation quality assessment (QA_RADSAT) bands are different for Landsat 5, 7 and 8 because the sensors have different spectral bands.\n",
    "\n",
    "**Table 5: Radiometric saturation quality assessment (QA_RADSAT) bit index.**\n",
    "    \n",
    "| Bit | Landsat 5 | Landsat 7 | Landsat 8 | Description Values |\n",
    "|-----|-----------|-----------|-----------|--------------------|\n",
    "| 0 | Band 1 (Blue) | Band 1 (Blue) | Band 1 (Coastal)| 0 no saturation; 1 saturated data |\n",
    "| 1 | Band 2 (Green) | Band 2 (Green) | Band 2 (Blue) | 0 no saturation; 1 saturated data |\n",
    "| 2 | Band 3 (Red) | Band 3 (Red) | Band 3 (Green) | 0 no saturation; 1 saturated data |\n",
    "| 3 | Band 4 (NIR) | Band 4 (NIR) | Band 4 (Red) | 0 no saturation; 1 saturated data |\n",
    "| 4 | Band 5 (SWIR1) | Band 5 (SWIR1) | Band 5 (NIR) | 0 no saturation; 1 saturated data |\n",
    "| 5 | Band 6 (TIR) | Band 6L (TIR)&dagger; | Band 6 (SWIR1)  | 0 no saturation; 1 saturated data |\n",
    "| 6 | Band 7 (SWIR2) | Band 7 (SWIR2) | Band 7 (SWIR2) | 0 no saturation; 1 saturated data |\n",
    "| 7 | Unused | Unused | Unused | 0 |\n",
    "| 8 | Unused | Band 6H (TIR)&ddagger; | Band 9 (Cirrus) | 0 no saturation; 1 saturated data |\n",
    "| 9 | Dropped Pixel | Dropped Pixel | Unused | 0 Pixel present; 1 detector doesn’t have a value – no data |\n",
    "| 10 | Unused | Unused | Unused | 0 |\n",
    "| 11 | Unused | Unused | Terrain occlusion | 0 no terrain occlusion; 1 terrain occlusion |\n",
    "| 12 | Unused | Unused | Unused | 0 |\n",
    "| 13 | Unused | Unused | Unused | 0 |\n",
    "| 14 | Unused | Unused | Unused | 0 |\n",
    "| 15 | Unused | Unused |Unused | 0 |\n",
    "\n",
    "$^\\dagger$, $^\\ddagger$ For Landsat 7 products, the Band 6 TOA brightness temperature product is generated from ETM+ Band 6 High gain (6H) and Band 6 Low gain (6L) merged together. The merged Band 6 is comprised of pixels that are not saturated in Band 6H. When Band 6H pixels are saturated with a brightness temperature outside of the 6H dynamic range (from 240K to 322K), they will be filled with pixels from the 6L band even if those pixels are saturated."
   ]
  },
  {
   "cell_type": "markdown",
   "metadata": {},
   "source": [
    "For Landsat 5 and 7, another cloud mask band (SR_CLOUD_QA) is available but is less accurate than the QA_PIXEL band.\n",
    "\n",
    "**Table 6: Landsat 5 and Landsat 7 cloud mask (SR_CLOUD_QA) bit index.**\n",
    "    \n",
    "| Bit | Attribute |\n",
    "|-----|-----------|\n",
    "| 0 | Dark Dense Vegetation (DDV) |\n",
    "| 1 | Cloud | \n",
    "| 2 | Cloud shadow |\n",
    "| 3 | Adjacent to cloud |\n",
    "| 4 | Snow |\n",
    "| 5 | Water |\n",
    "| 6 | Unused |\n",
    "| 7 | Unused |"
   ]
  },
  {
   "cell_type": "markdown",
   "metadata": {},
   "source": [
    "For Landsat 8, aeresol retrieval information that may have impacted the product is provided in a SR_Aerosol_QA band. The default “Aerosol Level” is Climatology (00), which means no aerosol correction was applied. Pixels with an “Aerosol Level” classified as high are not recommended for use.\n",
    "\n",
    "**Table 7: Landsat 8 aerosol level (SR_Aerosol_QA) bit index.**\n",
    "\n",
    "| Bit | Flag | Description Values |\n",
    "|-----|------|--------------------|\n",
    "| 0 | Fill | 0 Pixel is not fill; 1 Pixel is fill |\n",
    "| 1 | Valid aerosol retrieval | 0 Pixel retrieval is not valid; 1 Pixel retrieval is valid |\n",
    "| 2 | Water | 0 Pixel is not water; 1 Pixel is water |\n",
    "| 3 | Unused | 0 |\n",
    "| 4 | Unused | 0 |\n",
    "| 5 | Interpolated Aerosol | 0 Pixel is not aerosol interpolated; 1 Pixel is aerosol interpolated |\n",
    "| 6-7 | Aerosol Level | 00 Climatology; 01 Low; 10 Medium; 11 High |"
   ]
  },
  {
   "cell_type": "markdown",
   "metadata": {},
   "source": [
    "### Processing"
   ]
  },
  {
   "cell_type": "markdown",
   "metadata": {},
   "source": [
    "Landsat Collection 2 Level-2 products are processed by the USGS from Collection 2 Level-1 inputs.\n",
    "Landsat 8 OLI surface reflectance products are generated using the Land Surface Reflectance Code (LaSRC) algorithm. Landsat 4-5 TM and Landsat 7 ETM+ surface reflectance products are generated using the Landsat Ecosystem Disturbance Adaptive Processing System (LEDAPS) algorithm.\n",
    "Landsat 5, 7 and 8 surface temperature products are generated using the Landsat surface temperature algorithm."
   ]
  },
  {
   "cell_type": "markdown",
   "metadata": {},
   "source": [
    "### Media and example images"
   ]
  },
  {
   "cell_type": "markdown",
   "metadata": {},
   "source": [
    "<img src=\"../_static/data_specs/Landsat_C2_specs/ls_libya.png\" alt=\"Landsat composites for Libya\" width=\"600\" align=\"left\"/>"
   ]
  },
  {
   "cell_type": "markdown",
   "metadata": {},
   "source": [
    "**Figure 1: Landsat false color composites (highlighting vegetation) over an area in Tripoli District, Libya, showing changes between selected dates from 1984 to 2021.**"
   ]
  },
  {
   "cell_type": "markdown",
   "metadata": {},
   "source": [
    "### Related services"
   ]
  },
  {
   "cell_type": "markdown",
   "metadata": {},
   "source": [
    "* [Water Observations from Space](https://docs.digitalearthafrica.org/en/latest/data_specs/WOfS_specs.html)"
   ]
  },
  {
   "cell_type": "markdown",
   "metadata": {},
   "source": [
    "### References\n",
    "\n",
    "[USGS Collection Level-2 website](https://www.usgs.gov/core-science-systems/nli/landsat/landsat-collection-2)\n"
   ]
  },
  {
   "cell_type": "markdown",
   "metadata": {},
   "source": [
    "### License\n",
    "\n",
    "There are no restrictions on Landsat data downloaded from the USGS; it can be used or redistributed as desired. USGS request that you include a [statement of the data source](https://www.usgs.gov/centers/eros/data-citation?qt-science_support_page_related_con=0#qt-science_support_page_related_con) when citing, copying, or reprinting USGS Landsat data or images."
   ]
  },
  {
   "cell_type": "markdown",
   "metadata": {},
   "source": [
    "### Acknowledgements\n",
    "\n",
    "Landsat Level- 2 Surface Reflectance and Surface Temperature Science Product courtesy of the U.S. Geological Survey."
   ]
  },
  {
   "cell_type": "markdown",
   "metadata": {},
   "source": [
    "## Data access"
   ]
  },
  {
   "cell_type": "markdown",
   "metadata": {},
   "source": [
    "### Amazon Web Services S3 "
   ]
  },
  {
   "cell_type": "markdown",
   "metadata": {},
   "source": [
    "Landsat Collection 2 Level-2 is available in AWS S3 thanks to the Public Dataset Program."
   ]
  },
  {
   "cell_type": "markdown",
   "metadata": {},
   "source": [
    "**Table 8: AWS data access details.**"
   ]
  },
  {
   "cell_type": "markdown",
   "metadata": {},
   "source": [
    "|AWS S3 details | |\n",
    "|----------|-------------|\n",
    "|Bucket ARD | `arn:aws:s3:::deafrica-landsat`|\n",
    "|Region | `af-south-1` |"
   ]
  },
  {
   "cell_type": "markdown",
   "metadata": {},
   "source": [
    "The bucket is in the AWS region `af-south-1` (Cape Town). Additional region specifications can be applied as follows:\n",
    "\n",
    "`aws s3 ls --region=af-south-1 s3://deafrica-landsat/`\n",
    "\n",
    "The file paths follow the format `collection02/level-2/standard/<sensor>/<year>/<path>/<row>/<scene_id>/`.\n"
   ]
  },
  {
   "cell_type": "markdown",
   "metadata": {},
   "source": [
    "**Table 9: AWS file path convention.**\n",
    "\n",
    "|File path element |  Description |Example |\n",
    "|----------|-------------|-----------------|\n",
    "|`sensor`| Landsat sensor name, `tm`, `etm` or `oli-tirs` for landsat 5, 7 and 8 | `oli-tirs` | \n",
    "|`year` | Observation year | `2021` | \n",
    "|`path` | Landsat orbit path id | `172` | \n",
    "|`row` | Landsat orbit row id | `057` | \n",
    "|`scene_id` | Landsat scene id | `LC08_L2SP_172057_20210101_20210308_02_T1` |"
   ]
  },
  {
   "cell_type": "markdown",
   "metadata": {},
   "source": [
    "### OGC Web Services (OWS)"
   ]
  },
  {
   "cell_type": "markdown",
   "metadata": {},
   "source": [
    "This product is available through DE Africa's OWS."
   ]
  },
  {
   "cell_type": "markdown",
   "metadata": {},
   "source": [
    "**Table 10: OWS data access details.**\n",
    "\n",
    "|OWS details | |\n",
    "|----------|-------------|\n",
    "|Name | `DE Africa Services` |\n",
    "|Web Map Services (WMS) URL | `https://ows.digitalearth.africa/wms?version=1.3.0` |\n",
    "| Web Coverage Service (WCS) URL | `https://ows.digitalearth.africa/wcs?version=2.1.0`|\n",
    "| Layer name | `ls5_c2l2`, `ls7_c2l2`, `ls8_c2l2` |"
   ]
  },
  {
   "cell_type": "markdown",
   "metadata": {},
   "source": [
    "Digital Earth Africa OWS details can be found at [https://ows.digitalearth.africa/](https://ows.digitalearth.africa/).\n",
    "\n",
    "For instructions on how to connect to OWS, see [this tutorial](https://training.digitalearthafrica.org/en/latest/OWS_tutorial.html)."
   ]
  },
  {
   "cell_type": "markdown",
   "metadata": {},
   "source": [
    "### Open Data Cube (ODC)"
   ]
  },
  {
   "cell_type": "markdown",
   "metadata": {},
   "source": [
    "The Landsat Collection 2 Level-2 products can be accessed through the Digital Earth Africa ODC API, which is available through the [Digital Earth Africa Sandbox](https://sandbox.digitalearth.africa/hub/login).\n",
    "\n",
    "**ODC product names:** `ls5_c2l2`, `ls7_c2l2`, `ls8_c2l2`\n",
    "\n",
    "Specific bands of data can be called by using either the default names or any of a band's alternative names, as listed in the table below. ODC `Datacube.load` commands without specified bands will load all bands."
   ]
  },
  {
   "cell_type": "markdown",
   "metadata": {},
   "source": [
    "**Table 11: Landsat 5 and Landsat 7 Level-2 (ODC product ls5_c2l2 and ls7_c2l2) band names.**\n",
    "\n",
    "|Band name| Alternative names| Fill value |\n",
    "|----------|-------------|:------:|\n",
    "|SR_B1 | B1, band_1, blue | `0` |\n",
    "|SR_B2 | B2, band_2, green | `0` |\n",
    "|SR_B3 | B3, band_3, red | `0` |\n",
    "|SR_B4 | B4, band_4, nir | `0` |\n",
    "|SR_B5 | B5, band_5, swir_1 | `0` |\n",
    "|SR_B7 | B7, band_7, swir_2 | `0` |\n",
    "|ST_B6 | B6, band_6, surface_temperature, land_surface_temperature | `0` |\n",
    "|ST_TRAD | st_trad, thermal_radiance | `-9999` |\n",
    "|ST_URAD | st_urad, upwell_radiance | `-9999` |\n",
    "|ST_DRAD | st_drad, downwell_radiance | `-9999` |\n",
    "|ST_ATRAN | st_atran, atmospheric_transmittance | `-9999` |\n",
    "|ST_EMIS | st_emis, emissivity | `-9999` |\n",
    "|ST_EMSD | st_emsd, emissivity_stddev, emissivity_standard_deviation | `-9999` |\n",
    "|ST_CDIST | st_cdist, cloud_distance | `-9999` |\n",
    "|QA_PIXEL | quality_pixel, pixel_quality, pq | `1` |\n",
    "|QA_RADSAT | quality_radiometric_saturation, radiometric_saturation | `0` |\n",
    "|SR_ATMOS_OPACITY | atmos_op, atmospheric_opacity | `-9999` |\n",
    "|SR_CLOUD_QA | cloud_qa, qa_cloud | `0` |\n",
    "|ST_QA | quality_surface_temperature, surface_temperature_quality | `-9999` |\n"
   ]
  },
  {
   "cell_type": "markdown",
   "metadata": {},
   "source": [
    "**Table 12: Landsat 8 Level-2 (ODC product ls8_c2l2) band names.**\n",
    "\n",
    "|Band name| Alternative names| Fill value |\n",
    "|----------|-------------|:------:|\n",
    "|SR_B1 | B1, band_1, coastal_aerosol | `0` |\n",
    "|SR_B2 | B2, band_2, blue | `0` |\n",
    "|SR_B3 | B3, band_3, green | `0` |\n",
    "|SR_B4 | B4, band_4, red | `0` |\n",
    "|SR_B5 | B5, band_5, nir | `0` |\n",
    "|SR_B6 | B6, band_6, swir_1 | `0` |\n",
    "|SR_B7 | B7, band_7, swir_2 | `0` |\n",
    "|ST_B10 | B10, band_10, surface_temperature, land_surface_temperature | `0` |\n",
    "|ST_TRAD | st_trad, thermal_radiance | `-9999` |\n",
    "|ST_URAD | st_urad, upwell_radiance | `-9999` |\n",
    "|ST_DRAD | st_drad, downwell_radiance | `-9999` |\n",
    "|ST_ATRAN | st_atran, atmospheric_transmittance | `-9999` |\n",
    "|ST_EMIS | st_emis, emissivity | `-9999` |\n",
    "|ST_EMSD | st_emsd, emissivity_stddev, emissivity_standard_deviation | `-9999` |\n",
    "|ST_CDIST | st_cdist, cloud_distance | `-9999` |\n",
    "|QA_PIXEL | quality_pixel, pixel_quality, pq | `1` |\n",
    "|QA_RADSAT | quality_radiometric_saturation, radiometric_saturation | `0` |\n",
    "|SR_QA_AEROSOL | aerosol_qa, qa_aerosol | `1` |\n",
    "|ST_QA | quality_surface_temperature, surface_temperature_quality | `-9999` |\n"
   ]
  },
  {
   "cell_type": "markdown",
   "metadata": {},
   "source": [
    "Band names are case-sensitive. \n",
    "\n",
    "For examples on how to use the ODC API, see the DE Africa [example notebook repository](https://github.com/digitalearthafrica/deafrica-sandbox-notebooks)."
   ]
  },
  {
   "cell_type": "markdown",
   "metadata": {},
   "source": [
    "## Technical information"
   ]
  },
  {
   "cell_type": "markdown",
   "metadata": {},
   "source": [
    "### Surface Reflectance"
   ]
  },
  {
   "cell_type": "markdown",
   "metadata": {},
   "source": [
    "The surface reflectance products for Landat 5, 7 and 8 are generated using two different methods. \n",
    "\n",
    "Landsat 5 TM and Landsat 7 ETM+ Collection 2 Surface Reflectance are generated using the Landsat Ecosystem Disturbance Adaptive Processing System (LEDAPS) algorithm. The software applies Moderate Resolution Imaging Spectroradiometer (MODIS) atmospheric correction routines to Level-1 data products. Water vapor, ozone, atmospheric height, aerosol optical thickness, and digital elevation are input with Landsat data to the Second Simulation of a Satellite Signal in the Solar Spectrum (6S) radiative transfer models to generate top of atmosphere (TOA) reflectance, surface reflectance, TOA brightness temperature, and masks for clouds, cloud shadows, adjacent clouds, land, and water.\n",
    "\n",
    "Landsat 8 OLI Collection 2 Surface Reflectance data are generated using the Land Surface Reflectance Code (LaSRC), which makes use of the coastal aerosol band to perform aerosol inversion tests, uses auxiliary climate data from MODIS, and a unique radiative transfer model.\n",
    "\n",
    "For more information on the different processing algorithms and caveats of the products, visit the [Landsat Collection 2 Surface Reflectance webpage](https://www.usgs.gov/core-science-systems/nli/landsat/landsat-collection-2-surface-reflectance).\n"
   ]
  },
  {
   "cell_type": "markdown",
   "metadata": {},
   "source": [
    "### Surface Temperature"
   ]
  },
  {
   "cell_type": "markdown",
   "metadata": {},
   "source": [
    "The surface temperature product is generated from the Landsat Collection 2 Level-1 thermal infrared bands, Top of Atmosphere (TOA) reflectance, TOA brightness temperature, Advanced Spaceborne Thermal Emission and Reflection Radiometer (ASTER) Global Emissivity Database (GED) data, ASTER Normalized Difference Vegetation Index (NDVI) data, and atmospheric profiles of geopotential height, specific humidity, and air temperature extracted from Goddard Earth Observing System (GEOS) Model Version 5 Forward Processing Instrument Teams (FP-IT) (for acquisitions from 2000 to present) or Modern Era Retrospective analysis for Research and Applications Version 2 (MERRA-2) (for acquisitions from 1982 to 1999).\n",
    "\n",
    "For more information and caveats of the product, visit the [Landsat Collection 2 Surface Temperature webpage](https://www.usgs.gov/core-science-systems/nli/landsat/landsat-collection-2-surface-temperature)."
   ]
  },
  {
   "cell_type": "markdown",
   "metadata": {},
   "source": [
    "The surface temperature product is provided at 30 m spatial sampling, however, the thermal sensors vary in spectral response, sensitivity and resolution.\n",
    "\n",
    "**Table 13: Landsat thermal sensors specification.**\n",
    "\n",
    "| Satellite | Sensor | Spetral Band | Wavelength (µm) | Spatial Resolution (m) |\n",
    "|:-------:|:-------:|:-------:|:-------:|:-------:|\n",
    "|Landsat 8 | Thermal Infrared Sensor (TIRS) | 10 | 10.60 - 11.19 | 100 \n",
    "|  |  | 11 | 11.50 - 12.51 | 100 \n",
    "|Landsat 7 | Enhanced Thematic Mapper Plus (ETM+) | 6 | 10.31 - 12.36 | 60\n",
    "|Landsat 5 | Thematic Mapper (TM) | 6 | 10.40 - 12.50 | 120\n"
   ]
  },
  {
   "cell_type": "markdown",
   "metadata": {},
   "source": [
    "The Level-2 product provides a number of intermediate and quality bands for surface temperature measurement. These bands may help interpret the results.\n",
    "\n",
    "**Table 14: Surface temperature relevant bands.**\n",
    "\n",
    "| Name | Explanation |\n",
    "|----------|-------------|\n",
    "| Surface temperature (ST) | The temperature of the Earth’s surface in Kelvin (K).\n",
    "| Thermal radiance (ST_TRAD) | The values produced when thermal band reflectance is converted to radiance.\n",
    "| Upwell radiance (ST_URAD) | The amount of electromagnetic radiation reflected upward from the ground’s surface.\n",
    "| Downwellradiance (ST_DRAD) | The thermal energy radiated onto the ground by all objects in a hemisphere surrounding it.\n",
    "| Atmospheric transmittance (ST_ATRAN) | The ratio of the transmitted radiation to the total radiation incident upon the medium (atmosphere).\n",
    "| Emissivity (ST_EMIS) | The ratio of the energy radiated from a material’s surface to that radiated from a blackbody.\n",
    "| Emissivity_stdev (ST_EMSD) | The extent of deviation of the emissivity product. This layer is used along with cloud_distance to create the quality assessment product. \n",
    "| Distance to cloud (ST_CDIST) | The distance, in kilometers, that a pixel is from the nearest cloud pixel. This layer is used along with emissivity_stdev to create the quality assessment product.\n",
    "| Surface temperature uncertainty (ST_QA) | Provides the Surface Temperature product uncertainty using a combination of uncertainty values and distance to cloud values.\n"
   ]
  }
 ],
 "metadata": {
  "kernelspec": {
   "display_name": "Python 3",
   "language": "python",
   "name": "python3"
  },
  "language_info": {
   "codemirror_mode": {
    "name": "ipython",
    "version": 3
   },
   "file_extension": ".py",
   "mimetype": "text/x-python",
   "name": "python",
   "nbconvert_exporter": "python",
   "pygments_lexer": "ipython3",
   "version": "3.6.9"
  }
 },
 "nbformat": 4,
 "nbformat_minor": 4
}
