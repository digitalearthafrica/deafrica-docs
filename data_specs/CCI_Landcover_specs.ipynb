{
 "cells": [
  {
   "cell_type": "markdown",
   "id": "8127a8d5-2197-4a5a-b548-c0fd0d375aa3",
   "metadata": {},
   "source": [
    "#  ESA Climate Change Initiative Land Cover at 300m spatial resolution\n"
   ]
  },
  {
   "cell_type": "raw",
   "id": "463f1762-952b-4c52-922b-b3dd2b850c61",
   "metadata": {
    "raw_mimetype": "text/restructuredtext",
    "tags": []
   },
   "source": [
    ".. contents::\n",
    "   :local:"
   ]
  },
  {
   "cell_type": "markdown",
   "id": "1aab76f8-b484-488a-97cf-0369f177a926",
   "metadata": {},
   "source": [
    "**Date modified:**  October 2022"
   ]
  },
  {
   "cell_type": "markdown",
   "id": "cdf7b20e-aac4-400b-a181-d16a4db2ac6a",
   "metadata": {},
   "source": [
    "## Product Overview"
   ]
  },
  {
   "cell_type": "markdown",
   "id": "96e86988-2e8a-4d8c-92d9-0245090c708d",
   "metadata": {},
   "source": [
    "### Background"
   ]
  },
  {
   "cell_type": "markdown",
   "id": "9f478f52-f537-42ea-9753-c5d79596106a",
   "metadata": {},
   "source": [
    "Digital Earth Africa (DE Africa) provides free and open access to a copy of ESA's Climate Change Initiative Land Cover product over Africa for 1992-2022.  \n",
    "\n",
    "Among many potential uses, the CCI Land Cover product aims to:\n",
    "\n",
    "- build on the United Nations (UN) Food and Agriculture Organization (FAO) Land Cover Classification System (LCCS) for the sake of compatibility with other land cover products;\n",
    "\n",
    "- meet the needs of climate and global carbon flux modelling communities.\n",
    "\n",
    "The CCI maps were designed to be globally consistent. Therefore, their “level 1” legend was determined by the level of information that was available and that made sense at the scale of the entire world. This “level 1” legend is\n",
    "the one expressed by ten values (i.e. class values of 10, 20, 30, etc.). The land cover maps were\n",
    "also described by a more detailed legend, called “level 2” which corresponds to the non-ten values (i.e. class values of 11, 12, 61, 62, etc.). This “level 2” legend made use of more accurate and regional\n",
    "information where available. \n",
    "\n",
    "Further information is available at the [ESA landcover CCI website](https://www.esa-landcover-cci.org/) and in the [user manual](http://maps.elie.ucl.ac.be/CCI/viewer/download/ESACCI-LC-Ph2-PUGv2_2.0.pdf). A [Jupyter Notebook](https://github.com/digitalearthafrica/deafrica-sandbox-notebooks/blob/main/Datasets/Landcover_Classification.ipynb) which demonstrates loading and using landcover datasets in the Sandbox is also available."
   ]
  },
  {
   "cell_type": "markdown",
   "id": "e67bb21f-7d3e-4ba4-af07-a5a5b9f425fd",
   "metadata": {},
   "source": [
    "### Specifications"
   ]
  },
  {
   "cell_type": "markdown",
   "id": "6d8d1e1c-6aab-4ecb-9574-f524991a7659",
   "metadata": {},
   "source": [
    "#### Spatial and temporal coverage."
   ]
  },
  {
   "cell_type": "markdown",
   "id": "da69dc96-8e2e-4238-9973-a66cc1853f75",
   "metadata": {},
   "source": [
    "Relevant metadata for the ESA Climate Change Initiative Land Cover at 300m product can be viewed on the DE Africa [Metadata Explorer](https://explorer.digitalearth.africa/products/cci_landcover)."
   ]
  },
  {
   "cell_type": "markdown",
   "id": "575d1bd4-a7f9-4903-b442-e425e3ea6d24",
   "metadata": {},
   "source": [
    "**Table 1: ESA Climate Change Initiative Land Cover at 300 m product specifications.**"
   ]
  },
  {
   "cell_type": "markdown",
   "id": "557a76ce-4678-44b3-90c4-c84dfa41c7fe",
   "metadata": {},
   "source": [
    "|Specification | |\n",
    "|----------|-------------|\n",
    "|Product name|  `cci_landcover` |\n",
    "|Cell size - X (degrees) | -0.003° (~300m) | \n",
    "|Cell size - Y (degrees) | -0.003° (~300m) | \n",
    "|Coordinate reference system | EPSG:4326 | \n",
    "|Temporal resolution | Annual | \n",
    "|Temporal range| 1992-2022|\n",
    "|Update frequency| Annual |"
   ]
  },
  {
   "cell_type": "markdown",
   "id": "c47119a4-0c07-4e1d-a9db-0db900e99cac",
   "metadata": {},
   "source": [
    "The specific temporal and  geographic extents for the product can be explored as an interactive map on the DE Africa [Metadata Explorer](https://explorer.digitalearth.africa/products/cci_landcover).\n",
    "Data is available for the region shaded in blue. "
   ]
  },
  {
   "cell_type": "markdown",
   "id": "08bff1d8-819b-4140-964e-9612cecc284e",
   "metadata": {},
   "source": [
    "**Figure 1: ESA Climate Change Initiative Land Cover at 300 m product geographic extent.** "
   ]
  },
  {
   "cell_type": "markdown",
   "id": "7b29e822-ecca-451b-bb4e-1a677f331a44",
   "metadata": {},
   "source": [
    "<img src=\"../_static/data_specs/CGLS_LULC_specs/cgls_geographic_extent.png\" alt=\"CGLS Geographic Extent\" width=\"300\" align=\"left\"/>"
   ]
  },
  {
   "cell_type": "markdown",
   "id": "be97bcc4-2b39-46b7-ac38-ce15caff4f62",
   "metadata": {},
   "source": [
    "#### Measurements"
   ]
  },
  {
   "cell_type": "markdown",
   "id": "bd75c95d-4417-4e7a-9857-78622d3606bc",
   "metadata": {},
   "source": [
    "**Table 2: ESA Climate Change Initiative Land Cover at 300 m product measurements.**"
   ]
  },
  {
   "cell_type": "markdown",
   "id": "226342a2-6a9e-4ef7-9451-f4ae248c3286",
   "metadata": {},
   "source": [
    "| Band ID                   | Description   | Units   | Range   | Data type   |    No data$^\\dagger$ |\n",
    "|:------------------------------|:--------------|:--------|:--------|:--------|---------:|\n",
    "| classification                | LCCS Class  | 1       | 0 - 220        | uint8   |      255 |\n",
    "\n",
    "$^\\dagger$ No data or fill value."
   ]
  },
  {
   "cell_type": "markdown",
   "id": "b2796790-4151-4ea5-8e02-e844028a1c87",
   "metadata": {},
   "source": [
    "### Processing"
   ]
  },
  {
   "cell_type": "markdown",
   "id": "3e10bad4-6dba-4130-bef0-d8358b795126",
   "metadata": {},
   "source": [
    "The ESA Climate Change Initiative Land Cover maps were made with a dominance of MERIS FR imagery. The MERIS RR dataset was also used to\n",
    "compensate for a lack of MERIS FR acquisitions in some areas and observations acquired by the SPOT. Vegetation (SPOT-VGT) were used to extend the temporal coverage of the project over the years 1998-2002. \n",
    "\n",
    "The [multi-year global land cover mapping at 300 M and characterization for climate modelling document](https://research.wur.nl/en/publications/multi-year-global-land-cover-mapping-at-300-m-and-characterizatio) and [land cover mapping framework paper](https://ieeexplore.ieee.org/abstract/document/6351640) describe the pre-processing and classification chains used to produce the most recent distibution of land cover maps."
   ]
  },
  {
   "cell_type": "markdown",
   "id": "08590c87-e644-4b3a-a755-28c2d0024569",
   "metadata": {},
   "source": [
    "### Media and example images "
   ]
  },
  {
   "cell_type": "markdown",
   "id": "1c5dd3c0-faa8-41da-96cd-6fc1454e17d3",
   "metadata": {},
   "source": [
    "**Figure 2: CCI land cover classification data for Madagascar.**\n",
    "\n",
    "<img src=\"../_static/data_specs/CCI_LULC_specs/cci-madagascar-2019.PNG\" alt=\"CCI 2019 Madagascar\" width=\"800\" align=\"left\"/>"
   ]
  },
  {
   "cell_type": "markdown",
   "id": "10b4d47c-5462-4207-9d24-5bf1d9cf9313",
   "metadata": {},
   "source": [
    "*Credit: Contains the CCI Land Cover 300m product courtesy of the ESA Climate Change Initiative, processed by Digital Earth Africa.*"
   ]
  },
  {
   "cell_type": "markdown",
   "id": "e093d2e5-1d83-45e9-9df6-c3a749bb539f",
   "metadata": {},
   "source": [
    "### References"
   ]
  },
  {
   "cell_type": "markdown",
   "id": "0048d445-8603-4611-8d37-3f81ab4ce8dc",
   "metadata": {},
   "source": [
    "S. Bontemps, P. Defourny, C. Brockmann, M. Herold, V. Kalogirou and O. Arino, \"New global land cover mapping exercise in the framework of the ESA Climate Change Initiative,\" 2012 IEEE International Geoscience and Remote Sensing Symposium, 2012, pp. 44-47, https://doi.org/10.1109/IGARSS.2012.6351640."
   ]
  },
  {
   "cell_type": "markdown",
   "id": "bf5c6070-c71f-4c94-ab9c-a63417fc045d",
   "metadata": {},
   "source": [
    "Bontemps, S., Boettcher, M., Brockmann, C., Kirches, G., Lamarche, C., Radoux, J., Santoro, M., Van Bogaert, E., Wegmüller, U., Herold, M., Achard, F., Ramoino, F., Arino, O., & Defourny, P. (2015). Multi-year global land cover mapping at 300 M and characterization for climate modelling: Achievements of the land cover component of the ESA climate change initiative. In International Archives of the Photogrammetry, Remote Sensing and Spatial Information Sciences - ISPRS Archives (Vol. XL-7/W3, pp. 323-328). International Society for Photogrammetry and Remote Sensing. https://doi.org/10.5194/isprsarchives-XL-7-W3-323-2015"
   ]
  },
  {
   "cell_type": "markdown",
   "id": "377b704e-549b-477a-94f4-77b2e4a28834",
   "metadata": {},
   "source": [
    "### License "
   ]
  },
  {
   "cell_type": "markdown",
   "id": "eb216650-8c8d-4bb4-8ed9-9832e58502ab",
   "metadata": {},
   "source": [
    "As an official product of the ESA CCI Data Policy, access to this product is free and open to all users."
   ]
  },
  {
   "cell_type": "markdown",
   "id": "758ccc2a-f0f0-4cf5-9005-1b6398fde4c1",
   "metadata": {},
   "source": [
    "### Acknowledgements"
   ]
  },
  {
   "cell_type": "markdown",
   "id": "4db2e3f8-4c6a-4cd1-a88b-61ebaa8ae4e4",
   "metadata": {},
   "source": [
    "This CCI-LC database has been processed by the CCI-LC consortium led by UCL-Geomatics\n",
    "(Belgium). The research leading to the current version of the product was led by the ESA CCI Land Cover project."
   ]
  },
  {
   "cell_type": "markdown",
   "id": "91e4eca1-5b83-4bf1-9d86-547673801284",
   "metadata": {},
   "source": [
    "## Data Access "
   ]
  },
  {
   "cell_type": "markdown",
   "id": "a044bed3-1901-4bf1-a9f7-17a93d3f268f",
   "metadata": {},
   "source": [
    "### Amazon Web Service"
   ]
  },
  {
   "cell_type": "markdown",
   "id": "d81e137d-c2d3-485d-a9ab-cd577b4a91e5",
   "metadata": {},
   "source": [
    "The ESA Climate Change Initiative Land Cover at 300 m product is avaliable in AWS S3."
   ]
  },
  {
   "cell_type": "markdown",
   "id": "d55cd3f6-63ae-4281-9c54-84ea28bb6ba3",
   "metadata": {},
   "source": [
    "**Table 3: AWS data acess details.**"
   ]
  },
  {
   "cell_type": "markdown",
   "id": "6bff830b-6696-4403-baaa-5239539ec7eb",
   "metadata": {},
   "source": [
    "|AWS S3 details | |\n",
    "|----------|-------------|\n",
    "|Bucket ARD | `arn:aws:s3:::deafrica-input-datasets`|\n",
    "|Region | `af-south-1` |"
   ]
  },
  {
   "cell_type": "markdown",
   "id": "2eb5b8f1-bf41-4ba9-978e-b767bc3f54ad",
   "metadata": {},
   "source": [
    "The bucket is in the AWS region `af-south-1` (Cape Town). Additional region specifications can be applied as follows:\n",
    "\n",
    "`aws s3 ls --region=af-south-1 s3://deafrica-input-datasets/`\n",
    "\n",
    "The file paths follow the format: \n",
    "`s3://deafrica-input-datasets/cci_landcover/<year>/`.\n"
   ]
  },
  {
   "cell_type": "markdown",
   "id": "93010734-e864-460b-9c0c-2e8f2b5831b3",
   "metadata": {},
   "source": [
    "### OGC Web Services (OWS)"
   ]
  },
  {
   "cell_type": "markdown",
   "id": "b69871c3-99e4-4f7b-877f-e8d592d57236",
   "metadata": {},
   "source": [
    "The ESA Climate Change Initiative Land Cover at 300 m product is not yet avaliable through Digital Earth Africa’s OWS."
   ]
  },
  {
   "cell_type": "markdown",
   "id": "c36dfce0-3e07-4663-bcda-a2e60552b579",
   "metadata": {},
   "source": [
    "### Open Data Cube (ODC)"
   ]
  },
  {
   "cell_type": "markdown",
   "id": "b6131301-45ed-423d-bc94-556a7ebe35d1",
   "metadata": {},
   "source": [
    "The ESA Climate Change Initiative Land Cover at 300 m product can be accessed through the Digital Earth Africa ODC API, which is available through the [Digital Earth Africa Sandbox](https://sandbox.digitalearth.africa/hub/login).\n",
    "\n",
    "**ODC product name:** `cci_landcover`"
   ]
  },
  {
   "cell_type": "markdown",
   "id": "86e23b40-702e-4fb7-823f-a8e5d62b781c",
   "metadata": {},
   "source": [
    "Specific bands of data can be called by using either the default names or any of a band’s alternative names, as listed in the table below. \n",
    "ODC `Datacube.load` commands without specified bands will load all bands."
   ]
  },
  {
   "cell_type": "markdown",
   "id": "e813cda5-7244-485e-8f7d-8bbab0be211d",
   "metadata": {},
   "source": [
    "**Table 4: ODC product cci_landcover band names**."
   ]
  },
  {
   "cell_type": "markdown",
   "id": "7a8e79eb-4784-48c9-9eb5-4951c4f09226",
   "metadata": {},
   "source": [
    "|Band name| Alternative names| Fill value |\n",
    "|:------------------------------|:-------------------|---------:|\n",
    "| classification                | class         |      `255` |"
   ]
  },
  {
   "cell_type": "markdown",
   "id": "ef10dc5e-cc49-4a10-b663-ea1de87845fc",
   "metadata": {},
   "source": [
    "## Technical Information"
   ]
  },
  {
   "cell_type": "markdown",
   "id": "19c1be25-02c5-4277-b2c3-d1e6ed5fe96e",
   "metadata": {},
   "source": [
    "The 2015 global overall accuracy was `75.4 %`. \n",
    "\n",
    "Further information on validation and accuracy can be found in the [Land Cover CCI Product User Guide Version 2.0](http://maps.elie.ucl.ac.be/CCI/viewer/download/ESACCI-LC-Ph2-PUGv2_2.0.pdf)."
   ]
  }
 ],
 "metadata": {
  "kernelspec": {
   "display_name": "Python 3 (ipykernel)",
   "language": "python",
   "name": "python3"
  },
  "language_info": {
   "codemirror_mode": {
    "name": "ipython",
    "version": 3
   },
   "file_extension": ".py",
   "mimetype": "text/x-python",
   "name": "python",
   "nbconvert_exporter": "python",
   "pygments_lexer": "ipython3",
   "version": "3.12.3"
  }
 },
 "nbformat": 4,
 "nbformat_minor": 5
}
