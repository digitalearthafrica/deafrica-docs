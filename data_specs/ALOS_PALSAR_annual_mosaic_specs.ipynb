{
 "cells": [
  {
   "cell_type": "markdown",
   "metadata": {},
   "source": [
    "# ALOS PALSAR, ALOS-2 PALSAR-2 and JERS-1 SAR Annual Mosaic"
   ]
  },
  {
   "cell_type": "raw",
   "metadata": {
    "raw_mimetype": "text/restructuredtext"
   },
   "source": [
    ".. contents::\n",
    "   :local:"
   ]
  },
  {
   "cell_type": "markdown",
   "metadata": {},
   "source": [
    "**Date modified:** September 2023"
   ]
  },
  {
   "cell_type": "markdown",
   "metadata": {},
   "source": [
    "## Product overview"
   ]
  },
  {
   "cell_type": "markdown",
   "metadata": {},
   "source": [
    "### Background"
   ]
  },
  {
   "cell_type": "markdown",
   "metadata": {},
   "source": [
    "Synthetic Aperture Radar (SAR) data have been shown to provide different and complementary information to the more common optical remote sensing data. Radar backscatter response is a function of topography, land cover structure, orientation, and moisture characteristics-including vegetation biomass-and the radar signal can penetrate clouds, providing information about the earth’s surface where optical sensors cannot. Digital Earth Africa provides access to Normalized Radar Backscatter data, for which Radiometric Terrain Correction (RTC) has been applied so data acquired with different imaging geometries over the same region can be compared.\n",
    "\n",
    "The ALOS/PALSAR annual mosaic is a global 25 m resolution dataset that combines data from many images captured by JAXA's PALSAR and PALSAR-2 sensors on ALOS-1 and ALOS-2 satellites respectively. This product contains radar measurement in L-band and in HH and HV polarizations. It has a spatial resolution of 25 m and is available annually for 2007 to 2010 (ALOS/PALSAR) and 2015 to 2022 (ALOS-2/PALSAR-2). \n",
    "\n",
    "The JERS annual mosaic is generated from images acquired by the SAR sensor on the Japanese Earth Resources Satellite-1 (JERS-1) satellite. This product contains radar measurement in L-band and HH polarization. It has a spatial resolution of 25 m and is available for 1996. \n",
    "\n",
    "This mosaic data is part of a global dataset provided by the Japan Aerospace Exploration Agency (JAXA) Earth Observation Research Center.\n",
    "\n",
    "For more information on the products, see https://www.eorc.jaxa.jp/ALOS/en/index_e.htm. A [Jupyter Notebook](https://github.com/digitalearthafrica/deafrica-sandbox-notebooks/blob/main/Datasets/ALOS_PALSAR_Annual_Mosaic.ipynb) which demonstrates loading and using this data in the Sandbox is also available."
   ]
  },
  {
   "cell_type": "markdown",
   "metadata": {},
   "source": [
    "### Specifications"
   ]
  },
  {
   "cell_type": "markdown",
   "metadata": {},
   "source": [
    "DE Africa provides ALOS/ALOS-2 PALSAR/PALSAR-2 Mosaic and JERS-1 Mosaic as two seperate products. Relevant coverage and metadata can be viewed on DE Africa Metadata Exploer:\n",
    "\n",
    "* [ALOS/ALOS-2 PALSAR/PALSAR-2 Mosaic](https://explorer.digitalearth.africa/products/alos_palsar_mosaic)\n",
    "* [JERS-1 Mosaic](https://explorer.digitalearth.africa/products/jers_sar_mosaic)"
   ]
  },
  {
   "cell_type": "markdown",
   "metadata": {},
   "source": [
    "**Table 1: SAR annual mosaic product specifications**"
   ]
  },
  {
   "cell_type": "markdown",
   "metadata": {},
   "source": [
    "|Satellite | JERS-1 | ALOS | JERS-2 | \n",
    "|----------|:---------:|:---------:|:---------:|\n",
    "|Instrument| SAR | PALSAR | PALSAR-2 |\n",
    "|Launch date | Feb 11, 1992 | Jan 24, 2006 | May 24, 2014 |\n",
    "|Frequency | L-band (1.27 GHz) | L-band | L-band |\n",
    "|Polarisation | HH | HH + HV | HH + HV |\n",
    "|Number of bands | 4 | 5 | 5 |\n",
    "|Cell size - X (degree) | 0.00022 | 0.00022 | 0.00022 |\n",
    "|Cell size - Y (degree) | 0.00022 | 0.00022 | 0.00022 |\n",
    "|Coordinate reference system | EPSG:4326 | EPSG:4326 | EPSG:4326 |\n",
    "|Temporal resolution | Annual | Annual | Annual |\n",
    "|Temporal range| 1996 | 2007-2010 | 2015 - 2022 |"
   ]
  },
  {
   "cell_type": "markdown",
   "metadata": {},
   "source": [
    "More information about the dataset can be found in the [dataset description document](https://www.eorc.jaxa.jp/ALOS/en/palsar_fnf/DatasetDescription_PALSAR2_Mosaic_FNF_revI.pdf)"
   ]
  },
  {
   "cell_type": "markdown",
   "metadata": {},
   "source": [
    "**Table 2: ALOS/ALOS-2 annual mosaic measurements**\n",
    "\n",
    "|Band ID|Description | Data type| No data$^\\dagger$ |\n",
    "|----------|-------------|:----------:|:----------:|\n",
    "| HH | HH backscatter | uint16 | 0 | \n",
    "| HV | HV backscatter | uint16 | 0 |\n",
    "| date | Observation date (days since launch) | uint16 | 0 |\n",
    "| linci | Local incidence angle | uint8 | 0 | \n",
    "| mask | Processing mask information | uint8 | 0 \n",
    "\n",
    "$^\\dagger$ No data or fill value.\n",
    "\n",
    "Backscatter data is provided as digital number (DN), which can be converted to backscatter in decibel unit using $10*log10(𝐷𝑁^2)-83.0$.\n"
   ]
  },
  {
   "cell_type": "markdown",
   "metadata": {},
   "source": [
    "**Table 3: JERS annual mosaic measurements**\n",
    "\n",
    "|Band ID|Description | Data type| No data$^\\dagger$ |\n",
    "|----------|-------------|:----------:|:----------:|\n",
    "| HH | HH backscatter | uint16 | 0 | \n",
    "| date | Observation date (days since launch) | uint16 | 0 |\n",
    "| linci | Local incidence angle | uint8 | 0 | \n",
    "| mask | Processing mask information | uint8 | 0 \n",
    "\n",
    "$^\\dagger$ No data or fill value.\n",
    "\n",
    "Backscatter data is provided as digital number (DN), which can be converted to backscatter in decibel unit using $10*log10(𝐷𝑁^2)-84.66$."
   ]
  },
  {
   "cell_type": "markdown",
   "metadata": {},
   "source": [
    "For the ALOS and JERS mosaics, a data mask is provided that can be used to exclude pixels with potentially problematic measurements.\n",
    "\n",
    "**Table 4: Processing mask specification.**\n",
    "\n",
    "| Value | Description |\n",
    "|-----|---------------|\n",
    "| 0 | no_data |\n",
    "| 50 | water |\n",
    "| 100 | lay_over |\n",
    "| 150 | shadowing |\n",
    "| 255 | land |\n"
   ]
  },
  {
   "cell_type": "markdown",
   "metadata": {},
   "source": [
    "### Processing"
   ]
  },
  {
   "cell_type": "markdown",
   "metadata": {},
   "source": [
    "The ALOS/PALSAR annual mosaic is a global 25 m resolution dataset that combines data from many images captured by JAXA's PALSAR and PALSAR-2 sensors on ALOS-1 and ALOS-2 satellites respectively. \n",
    "The JERS annual mosaic is generated from images acquired by the SAR sensor on the Japanese Earth Resources Satellite-1 (JERS-1) satellite. "
   ]
  },
  {
   "cell_type": "markdown",
   "metadata": {},
   "source": [
    "### Media and example images"
   ]
  },
  {
   "cell_type": "markdown",
   "metadata": {},
   "source": [
    "<img src=\"../_static/data_specs/ALOS_PALSAR_annual_mosaic_specs/alos_cairo_crop.png\" alt=\"ALOS annual mosaics for crop near Cairo\" width=\"1000\" align=\"left\"/>"
   ]
  },
  {
   "cell_type": "markdown",
   "metadata": {},
   "source": [
    "**Figure 1: ALOS false color composites (HH, HV, HV/HH) over an area near Cairo, Egypt, showing changes in crop pattern from year to year.**"
   ]
  },
  {
   "cell_type": "markdown",
   "metadata": {},
   "source": [
    "### Related services"
   ]
  },
  {
   "cell_type": "markdown",
   "metadata": {},
   "source": [
    "* [Sentinel-1 SAR Backscatter](https://docs.digitalearthafrica.org/en/latest/data_specs/Sentinel-1_specs.html)"
   ]
  },
  {
   "cell_type": "markdown",
   "metadata": {},
   "source": [
    "### References\n",
    "\n",
    "[JAXA Global PALSAR-2/PALSAR/JERS-1 Mosaic](https://www.eorc.jaxa.jp/ALOS/en/palsar_fnf/fnf_index.htm)\n"
   ]
  },
  {
   "cell_type": "markdown",
   "metadata": {},
   "source": [
    "### License\n",
    "\n",
    "This dataset is available to use with no charge under the [Terms for Use](https://earth.jaxa.jp/policy/en.html)."
   ]
  },
  {
   "cell_type": "markdown",
   "metadata": {},
   "source": [
    "### Acknowledgements\n",
    "\n",
    "This dataset is part of a global product provided by the Japan Aerospace Exploration Agency (JAXA)."
   ]
  },
  {
   "cell_type": "markdown",
   "metadata": {},
   "source": [
    "## Data access"
   ]
  },
  {
   "cell_type": "markdown",
   "metadata": {},
   "source": [
    "### Amazon Web Services S3 "
   ]
  },
  {
   "cell_type": "markdown",
   "metadata": {},
   "source": [
    "This product is available in AWS S3."
   ]
  },
  {
   "cell_type": "markdown",
   "metadata": {},
   "source": [
    "**Table 5: AWS data access details.**"
   ]
  },
  {
   "cell_type": "markdown",
   "metadata": {},
   "source": [
    "|AWS S3 details | |\n",
    "|----------|-------------|\n",
    "|Bucket ARD | `arn:aws:s3:::deafrica-input-datasets`|\n",
    "|Region | `af-south-1` |"
   ]
  },
  {
   "cell_type": "markdown",
   "metadata": {},
   "source": [
    "The bucket is in the AWS region `af-south-1` (Cape Town). Additional region specifications can be applied as follows:\n",
    "\n",
    "`aws s3 ls --region=af-south-1 s3://deafrica-input-datasets/`\n",
    "\n",
    "The file paths follow the format `<productname>/<year>/<tile_id>/`.\n"
   ]
  },
  {
   "cell_type": "markdown",
   "metadata": {},
   "source": [
    "**Table 6: AWS file path convention.**\n",
    "\n",
    "|File path element |  Description |Example |\n",
    "|----------|-------------|-----------------|\n",
    "|`productname`| Product name, `alos_palsar_mosaic` or `jers_sar_mosaic` | `alos_palsar_mosaic` | \n",
    "| `year` | Observation year |  `2015` |\n",
    "| `tile_id` | 5x5 deg tile labeld by southwest corner coordinates  | `S20E020` | \n"
   ]
  },
  {
   "cell_type": "markdown",
   "metadata": {},
   "source": [
    "### OGC Web Services (OWS)"
   ]
  },
  {
   "cell_type": "markdown",
   "metadata": {},
   "source": [
    "This product is available through DE Africa's OWS."
   ]
  },
  {
   "cell_type": "markdown",
   "metadata": {},
   "source": [
    "**Table 7: OWS data access details.**\n",
    "\n",
    "|OWS details | |\n",
    "|----------|-------------|\n",
    "|Name | `DE Africa Services` |\n",
    "|Web Map Services (WMS) URL | `https://ows.digitalearth.africa/wms?version=1.3.0` |\n",
    "| Web Coverage Service (WCS) URL | `https://ows.digitalearth.africa/wcs?version=2.1.0`|\n",
    "| Layer name | `alos_palsar_mosaic`, `jers_sar_mosaic` |"
   ]
  },
  {
   "cell_type": "markdown",
   "metadata": {},
   "source": [
    "Digital Earth Africa OWS details can be found at [https://ows.digitalearth.africa/](https://ows.digitalearth.africa/).\n",
    "\n",
    "For instructions on how to connect to OWS, see [this tutorial](../web_services/index.ipynb)."
   ]
  },
  {
   "cell_type": "markdown",
   "metadata": {},
   "source": [
    "### Open Data Cube (ODC)"
   ]
  },
  {
   "cell_type": "markdown",
   "metadata": {},
   "source": [
    "The Landsat Collection 2 Level-2 products can be accessed through the Digital Earth Africa ODC API, which is available through the [Digital Earth Africa Sandbox](https://sandbox.digitalearth.africa/hub/login).\n",
    "\n",
    "**ODC product names:** `alos_palsar_mosaic`, `jers_sar_mosaic`\n",
    "\n",
    "Specific bands of data can be called by using either the default names or any of a band's alternative names, as listed in the table below. ODC `Datacube.load` commands without specified bands will load all bands."
   ]
  },
  {
   "cell_type": "markdown",
   "metadata": {},
   "source": [
    "**Table 8: ALOS/ALOS-2 annual mosaic (ODC product alos_palsar_mosaic) band names.**\n",
    "\n",
    "|Band name| Alternative names| Fill value |\n",
    "|----------|-------------|:------:|\n",
    "| hh | &ndash; | 0 |\n",
    "| hv | &ndash; | 0 |\n",
    "| date | &ndash; | 0 |\n",
    "| linci | local incidence angle, incidence | 0 |\n",
    "| mask | &ndash; | 0 |\n",
    "\n"
   ]
  },
  {
   "cell_type": "markdown",
   "metadata": {},
   "source": [
    "**Table 9: JERS-1 annual mosaic (ODC product jers_sar_mosaic) band names.**\n",
    "\n",
    "|Band name| Alternative names| Fill value |\n",
    "|----------|-------------|:------:|\n",
    "| hh | &ndash; | 0 |\n",
    "| date | &ndash; | 0 |\n",
    "| linci | local incidence angle, incidence | 0 |\n",
    "| mask | &ndash; | 0 |\n"
   ]
  },
  {
   "cell_type": "markdown",
   "metadata": {},
   "source": [
    "Band names are case-sensitive. \n",
    "\n",
    "For examples on how to use the ODC API, see the DE Africa [example notebook repository](https://github.com/digitalearthafrica/deafrica-sandbox-notebooks)."
   ]
  },
  {
   "cell_type": "markdown",
   "metadata": {},
   "source": [
    "## Technical information"
   ]
  },
  {
   "cell_type": "markdown",
   "metadata": {},
   "source": [
    "### Radiometric terrain correction"
   ]
  },
  {
   "cell_type": "markdown",
   "metadata": {},
   "source": [
    "See relevant section in the [Sentinel-1 SAR backscatter product specification](https://docs.digitalearthafrica.org/en/latest/data_specs/Sentinel-1_specs.html#Radiometric-terrain-correction)."
   ]
  }
 ],
 "metadata": {
  "kernelspec": {
   "display_name": "Python 3 (ipykernel)",
   "language": "python",
   "name": "python3"
  },
  "language_info": {
   "codemirror_mode": {
    "name": "ipython",
    "version": 3
   },
   "file_extension": ".py",
   "mimetype": "text/x-python",
   "name": "python",
   "nbconvert_exporter": "python",
   "pygments_lexer": "ipython3",
   "version": "3.10.12"
  }
 },
 "nbformat": 4,
 "nbformat_minor": 4
}
