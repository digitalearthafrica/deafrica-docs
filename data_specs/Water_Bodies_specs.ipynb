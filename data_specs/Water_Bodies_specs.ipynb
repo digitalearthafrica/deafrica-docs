{
 "cells": [
  {
   "cell_type": "markdown",
   "id": "599393ef-6324-441b-b2c5-4c376f714fcc",
   "metadata": {},
   "source": [
    "# DE Africa Water Bodies: A Waterbody Monitoring Service"
   ]
  },
  {
   "cell_type": "raw",
   "id": "ba88292a-5ae4-42ac-8280-5b26759cbd47",
   "metadata": {},
   "source": [
    ".. contents::\n",
    "   :local:"
   ]
  },
  {
   "cell_type": "markdown",
   "id": "2b2bd1c9-d502-443e-b88b-ee03e48bf5e9",
   "metadata": {},
   "source": [
    "**Date modified:** 25 October 2023"
   ]
  },
  {
   "cell_type": "markdown",
   "id": "8d315355-213a-4eed-ad49-124b2b14614b",
   "metadata": {},
   "source": [
    "## Service Overview"
   ]
  },
  {
   "cell_type": "markdown",
   "id": "62a15e96-abcc-4a11-b965-4fcb7871fc79",
   "metadata": {},
   "source": [
    "### Background\n",
    "\n",
    "The Digital Earth Africa continental Water Bodies Monitoring Service identifies over X water bodies from over three decades of satellite observations. This service maps persistent water bodies and their associated water surface area change over time. Mapped water bodies may include, but are not limited to, lakes, man-made reservoirs, wetlands, and segments of some river systems.\n",
    " \n",
    "On a local, regional, and continental scale, this service helps improve our understanding of surface water dynamics, water availability and the impact of change over time. This service can be used by environmental monitoring agencies (including government departments), water resource management authorities, managers of national parks, and the agricultural and pastoral sector. Additionally, this service can be used for the monitoring of lakes and dams, including water bodies in remote areas."
   ]
  },
  {
   "cell_type": "markdown",
   "id": "4e34fd4f-1953-45c5-bdd8-2090c2e7eb37",
   "metadata": {},
   "source": [
    "### Specifications"
   ]
  },
  {
   "cell_type": "markdown",
   "id": "ac47b52d-d05c-4f42-adfe-439685a56f21",
   "metadata": {},
   "source": [
    "There are several product types that are available as part of the Water Bodies service.\n",
    "\n",
    "A [Jupyter Notebook]() which demonstrates loading and using the Water Bodies data in the Sandbox is also available. "
   ]
  },
  {
   "cell_type": "markdown",
   "id": "706b27e6-6793-4066-ab18-52057e47e119",
   "metadata": {},
   "source": [
    "**Table 1: Water Bodies Service datasets** "
   ]
  },
  {
   "cell_type": "markdown",
   "id": "edd93415-74d7-4213-b59d-1325e34fc5a7",
   "metadata": {},
   "source": [
    "|Product type |Description |Data type|\n",
    "|:-------------|:-------------|:-------------|\n",
    "|Water Bodies Locations |Static mapped water bodies outlines |Vector - polygon |\n",
    "|Water Bodies Surface Area Change |Dynamic time series of waterbody wet surface area |CSV |"
   ]
  },
  {
   "cell_type": "markdown",
   "id": "ad948c24-34fe-4fd2-81ee-33342a0f07cf",
   "metadata": {},
   "source": [
    "**Table 2: Water Bodies Service specifications** "
   ]
  },
  {
   "cell_type": "markdown",
   "id": "4fded38c-9bc7-4921-89a6-bf3dc10397b2",
   "metadata": {},
   "source": [
    "||||\n",
    "|-------------|-------------|-------------|\n",
    "|**Service name** |DE Africa Water Bodies Service |DE Africa Water Bodies Service|\n",
    "|**Product name** |Water Bodies Locations |Water Bodies Surface Area Change |\n",
    "|**Cell size – X (metres)** |30 |30 |\n",
    "|**Cell size – Y (metres)** |30 |30 |\n",
    "|**Coordinate reference system** |ESPG:6933 |ESPG:6933 |\n",
    "|**Temporal resolution** |Alltime* |Every 8 or 16 days |\n",
    "|**Temporal range** |1987 - 2021 |1987 - present |\n",
    "|**Parent dataset** |[wofs_ls_summary_alltime](https://explorer.digitalearth.africa/products/wofs_ls_summary_alltime) |[wofs_ls](https://explorer.digitalearth.africa/products/wofs_ls) |\n",
    "|**Update frequency** |TBD |TBD |"
   ]
  },
  {
   "cell_type": "markdown",
   "id": "781835e7-455d-41bc-888f-8a3feb9ffcc7",
   "metadata": {},
   "source": [
    "*Current water bodies are defined using [WOfS AllTime Summary](https://docs.digitalearthafrica.org/en/latest/data_specs/Landsat_WOfS_specs.html#WOfS-All-Time-Summary) from 1987 to 2021."
   ]
  },
  {
   "cell_type": "markdown",
   "id": "0747039c-e465-401a-acd9-cbf96e874d8c",
   "metadata": {},
   "source": [
    "**Table 3: Water Bodies Service extent** "
   ]
  },
  {
   "cell_type": "markdown",
   "id": "150ed36a-5d9c-4e86-9e32-a8f0b0b3560d",
   "metadata": {},
   "source": [
    "|Specification | |\n",
    "|:-------------|:-------------|\n",
    "|Product name|DE Africa Water Bodies |\n",
    "|Cell size - X (metres) | 30 |\n",
    "|Cell size - Y (metres) | 30 |\n",
    "|Coordinate reference system | ESPG:6933 |\n",
    "|Temporal resolution | Every 8 or 16 days |\n",
    "|Temporal range| 1987 - present |\n",
    "|Parent dataset| [Water Observations from Space](https://explorer.digitalearth.africa/products/wofs_ls) |\n",
    "|Update frequency| TBD |"
   ]
  },
  {
   "cell_type": "markdown",
   "id": "05b2612c-82d9-4674-8e2a-1f0e9534dfe7",
   "metadata": {},
   "source": [
    "**Figure 1: DE Africa Water Bodies service geographic extent**"
   ]
  },
  {
   "cell_type": "markdown",
   "id": "1209db01-fbe3-4b5f-9eb1-f372076436d4",
   "metadata": {},
   "source": [
    "<img src=\"../_static/data_specs/Water_Bodies_specs/water_bodies_extent.png\" alt=\"Coastlines data extent.\" width=\"500\" align=\"left\"/>"
   ]
  },
  {
   "cell_type": "markdown",
   "id": "0d951dd5-520f-4151-a3a1-10a9c2a06e3b",
   "metadata": {},
   "source": [
    "DE Africa Water Bodies is a continental service that includes water bodies locations and water bodies surface area change. This service uses [Water Observations from Space](https://explorer.digitalearth.africa/products/wofs_ls) data within the extent of the [HydroSHEDS land mask](https://www.hydrosheds.org/hydrosheds-core-downloads)."
   ]
  },
  {
   "cell_type": "markdown",
   "id": "918be14c-1e6e-4318-b476-1478e57ba4f2",
   "metadata": {},
   "source": [
    "#### Attributes"
   ]
  },
  {
   "cell_type": "markdown",
   "id": "08dc0673-31d3-49ad-aaa0-6aa65858fc8e",
   "metadata": {},
   "source": [
    "##### Water Bodies Locations"
   ]
  },
  {
   "cell_type": "markdown",
   "id": "c8faf09c-cd42-4bbe-ba19-60bac3c1cc9f",
   "metadata": {},
   "source": [
    "**Table 4: Water Bodies Location attribute descriptions**"
   ]
  },
  {
   "cell_type": "markdown",
   "id": "6e1f1b62-730a-4e4b-8d63-175c8ce200fb",
   "metadata": {},
   "source": [
    "| Attribute | |\n",
    "|-------------|-------------|\n",
    "|*UID* | The unique identifier is determined from the location of the waterbody. Each polygon is named using a geohash, which represents the lat/lon coordinates of the centre of a polygon mapped into a shorter character string. A geohash can be converted back into a lat/lon pair. |\n",
    "|*WB_ID* | TBD |\n",
    "|*perim_m* | The perimeter of the water body, measured in metres. |\n",
    "|*area_m2* | The area of the waterbody, measured in metres squared. |\n",
    "|*timeseries* | The Amazon S3 location of the wet percentage timeseries for a given waterbody. |"
   ]
  },
  {
   "cell_type": "markdown",
   "id": "11feca65-db18-4e4f-a3ba-1e433dbd222b",
   "metadata": {},
   "source": [
    "##### Water Bodies Surface Area Change"
   ]
  },
  {
   "cell_type": "markdown",
   "id": "fd9eae04-e898-458d-becf-7067f697247a",
   "metadata": {},
   "source": [
    "**Table 5: Water Bodies Surface Area Change attribute descriptions**"
   ]
  },
  {
   "cell_type": "markdown",
   "id": "36b8af9b-689e-4e35-b9d8-ecbd68c2ff95",
   "metadata": {},
   "source": [
    "| Attribute | |\n",
    "|-------------|-------------|\n",
    "|*date* | The date the satellite passed over the waterbody. |\n",
    "|*pc_wet* | The percentage of the total surface area of a waterbody that has been classified as 'wet'. |\n",
    "|*px_wet* | The total number of pixels that have been classified as 'wet' within a waterbody’s extent. |\n",
    "|*area_wet_m2* | The area of a waterbody classified as wet. |\n",
    "|*pc_dry* | The percentage of the total surface area of a waterbody that has been classified as 'dry'. |\n",
    "|*px_dry* | The total number of pixels that have been classified as 'dry' within a waterbody’s extent. |\n",
    "|*area_dry_m2* | The area of a waterbody classified as dry. |\n",
    "|*pc_invalid* | The percentage of the total surface area of a waterbody that has been classified as 'invalid’. |\n",
    "|*px_invalid* | The total number of pixels that have been classified as 'invalid' within a waterbody’s extent. |\n",
    "|*area_invalid_m2* | The area of a waterbody classified as invalid. |"
   ]
  },
  {
   "cell_type": "markdown",
   "id": "b8fa751d-9c1c-4054-aba1-a8e87858a48e",
   "metadata": {},
   "source": [
    "### Processing"
   ]
  },
  {
   "cell_type": "markdown",
   "id": "ead03eb3-9d4c-47b3-9e70-7f4adab48043",
   "metadata": {},
   "source": [
    "DE Africa Water Bodies Locations is a static polygon-based view of DE Africa Water Observations from Space Alltime Statistics, derived through the automatic processing of Water Observations from Space Alltime Statistics to identify the outlines of persistent water bodies, that have been observed as wet more than 10% of the time, across Africa.\n",
    " \n",
    "For each waterbody, the Surface Area Change dataset provides a time series of wet and dry surface area through time. The Water Bodies Locations dataset is used to perform a polygon drill, where an individual waterbody extent is used to drill through a stack of water classified Landsat scenes. Only scenes that clearly observed more than 80% of a waterbody were included.\n",
    "\n",
    "The scripts used to produce the DE Africa Water Bodies Service are available from the [DE Africa Water Bodies GitHub repository](https://github.com/digitalearthafrica/deafrica-waterbodies)."
   ]
  },
  {
   "cell_type": "markdown",
   "id": "d4bd8f41-fccf-4e8f-9259-e5463fd7056f",
   "metadata": {},
   "source": [
    "### Related services\n",
    "\n",
    "* [Water Observations from Space](https://explorer.digitalearth.africa/products/wofs_ls)\n",
    "* [Water Observations from Space Alltime Statistics](https://explorer.digitalearth.africa/products/wofs_ls_summary_alltime)"
   ]
  },
  {
   "cell_type": "markdown",
   "id": "46a97f0d-d534-4a52-9552-ec6594e96478",
   "metadata": {},
   "source": [
    "### References\n",
    "Krause, Claire E.; Newey, Vanessa; Alger, Matthew J.; Lymburner, Leo. 2021. \"Mapping and Monitoring the Multi-Decadal Dynamics of Australia’s Open Waterbodies Using Landsat\" Remote Sens. 13, no. 8: 1437. https://doi.org/10.3390/rs13081437\n",
    " \n",
    "Mueller, N., Lewis, A., Roberts, D., Ring, S., Melrose, R., Sixsmith, J., Lymburner, L., McIntyre, A., Tan, P., Curnow, S., & Ip, A. (2016). Water observations from space: Mapping surface water from 25 years of Landsat imagery across Australia. Remote Sensing of Environment, 174, 341–352. https://doi.org/10.1016/j.rse.2015.11.003\n"
   ]
  },
  {
   "cell_type": "markdown",
   "id": "ffc39b96-0893-43d4-87db-065a109a4ec7",
   "metadata": {},
   "source": [
    "### License\n",
    "\n",
    "CC BY Attribution 4.0 International License"
   ]
  },
  {
   "cell_type": "markdown",
   "id": "fe43c1fd-c6ac-4301-a12b-7313189345e7",
   "metadata": {},
   "source": [
    "### Acknowledgments\n",
    "\n",
    "The DE Africa Water Bodies algorithm is adapted from the workflow originally developed by Geoscience Australia. Digital Earth Africa thanks the Digital Earth Africa Product Development task team for the co-design, the co-development and early feedback on the Service."
   ]
  },
  {
   "cell_type": "markdown",
   "id": "008e899a-4cb3-4b02-95dd-cfbb4b96da52",
   "metadata": {},
   "source": [
    "## Data Access"
   ]
  },
  {
   "cell_type": "markdown",
   "id": "6c2e9554-1dd9-455d-90f8-10bd375d023c",
   "metadata": {},
   "source": [
    "### Amazon Web Service S3\n",
    "The Digital Earth Africa Water Bodies data can be accessed from the associated S3 bucket."
   ]
  },
  {
   "cell_type": "markdown",
   "id": "7ae87c67-33db-472f-b152-5a74160c2fe7",
   "metadata": {},
   "source": [
    "**Table 6: AWS data access details**"
   ]
  },
  {
   "cell_type": "markdown",
   "id": "56da188a-13ff-4d7b-9162-b57d2699e5d7",
   "metadata": {},
   "source": [
    "|AWS S3 details | |\n",
    "|----------|-------------|\n",
    "|Bucket ARN | `TBD`|\n",
    "| Product names| `waterbodies` |\n",
    "| Region| `af-south-1` |"
   ]
  },
  {
   "cell_type": "markdown",
   "id": "99e3781a-20f1-4d0d-a262-23cba34c895f",
   "metadata": {},
   "source": [
    "Latest version of the Water Bodies Location product can be downloaded from the link/s: below:\n",
    "* DE Africa Water Bodies Location as a Geopackage\n",
    "* DE Africa Water Bodies Location as a Shapefile\n"
   ]
  },
  {
   "cell_type": "markdown",
   "id": "44ce9654-4a35-49a3-a195-00b5834baf46",
   "metadata": {},
   "source": [
    "### OGC Web Services (OWS)\n",
    "\n",
    "This product is available through DE Africa's OWS."
   ]
  },
  {
   "cell_type": "markdown",
   "id": "a1b3a428-e15a-455f-8a2e-bf9043d8d636",
   "metadata": {},
   "source": [
    "**Table 7: OWS data access details**"
   ]
  },
  {
   "cell_type": "markdown",
   "id": "b3f6d454-0c27-4277-b2c4-917cd19f658c",
   "metadata": {},
   "source": [
    "|OWS details | |\n",
    "|----------|-------------|\n",
    "|Name | `DE Africa Services` |\n",
    "|Web Map Services (WMS) URL | `https://geoserver.digitalearth.africa/geoserver/wms` |\n",
    "| Web Feature Services (WFS) URL | `https://geoserver.digitalearth.africa/geoserver/wfs`|\n",
    "| Layer names | `waterbodies_v1_0_0` |"
   ]
  },
  {
   "cell_type": "markdown",
   "id": "21d9f7f3-be46-42f3-9e96-4648d20230c9",
   "metadata": {},
   "source": [
    "### DE Africa Sandbox\n",
    "\n",
    "The Water Bodies Service can be loaded and analysed in the DE Africa Sandbox following the example Jupyter Notebook.\n",
    " \n",
    "For further information regarding the use of DE Africa Water Bodies Service, visit the Digital Earth Africa Help Desk."
   ]
  },
  {
   "cell_type": "markdown",
   "id": "99d0f43d-2378-4411-afb0-2aae96290559",
   "metadata": {},
   "source": [
    "## Technical information "
   ]
  },
  {
   "cell_type": "markdown",
   "id": "80e3638d-b6c0-489e-99ef-8449fc400242",
   "metadata": {},
   "source": [
    "The DE Africa Water Bodies Service is comprised of two main products:\n",
    "* **Water Bodies Locations:** a polygon dataset of static mapped waterbody outlines.\n",
    "* **Water Bodies Surface Area Change:** a CSV time series capturing the surface area of water for each individual waterbody polygon, at every available Landsat observation.  "
   ]
  },
  {
   "cell_type": "markdown",
   "id": "359c1b7e-08ca-4277-ab79-a3a6dc6ce8fa",
   "metadata": {},
   "source": [
    "### Water Bodies Locations"
   ]
  },
  {
   "cell_type": "markdown",
   "id": "58195a5e-58b4-4b8d-bb53-53e197a9ee5c",
   "metadata": {},
   "source": [
    "#### Update frequency\n",
    "DE Africa Water Bodies Locations is currently generated as a one-off product from the DE Africa Water Observations from Space Alltime Statistics.\n",
    " \n",
    "#### Inaccuracies and limitations\n",
    "\n",
    "##### Missing water bodies\n",
    "There are a few factors why a water body might be missing from this service.\n",
    "* **It might be too small:** DE Africa Water Bodies only maps water bodies larger than 4,500m2 (5 Landsat pixels).\n",
    "* **It might not be wet enough:** DE Africa Water Bodies only maps water bodies that have been observed as wet 10% of the time between 1987 to 2021. If a water body fills infrequently, it may not meet this threshold.\n",
    "* **The waterbody might have too much vegetation surrounding it:** the DE Africa Water Observations classifier that determines where water is observed does not work well where water is mixed with vegetation. If there is vegetation obscuring the water (like a tree leaning across a river or a wetland), the classifier will not see this as water and the water body may not be mapped.\n",
    "* **The water in the water body does not look like water:** dense sediment-filled water is often misclassified as land.\n",
    "* **The water body might be new:** newly constructed/formed water bodies will not be included in this service as they will not have been observed as wet at least 10% of the time between 1987 to 2021.\n",
    "\n",
    "##### Missing river segments\n",
    "The DE Africa Water Observations Classifier that determines where water is observed does not work well where water is combined with vegetation. If there is vegetation obscuring the water (like a tree leaning across a river), the classifier will not see this as water, and the waterbody will be cut short, even though the river continues along underneath the vegetation.\n",
    "\n",
    "Additionally, the Landsat satellite data on which this dataset is based has a pixel resolution of 30 metres by 30 metres. A pixel will only be classified as water where the pixel is almost entirely made up of water. For example, where rivers narrow or contain large sandbanks the pixel will incorporate these other signatures, and not be classified as water. Both of these factors mean that rivers are not seen as continuous features throughout DE Africa Water Bodies.\n",
    "\n",
    "##### Incomplete water bodies extent\n",
    "Some of the waterbody polygons contain holes or are quite irregularly shaped. This is caused by the DE Africa Water Observations classifier not seeing these ‘missing bits’ as water frequently enough, and so they are excluded. Additionally the DE Africa Water Observations classifier that determines where water is observed does not work well where water is combined with vegetation. If there is vegetation obscuring the water (like a tree leaning across a river or a wetland), the classifier will not see this as water and the resulting mapped waterbody may be patchy.\n",
    "\n",
    "##### Water bodies fused instead of being separate\n",
    "DE Arica Water Bodies polygons are mapped using water classified pixels. If a pixel is predominantly water, it will be mapped as water. Small levees or roads between adjacent water bodies will not necessarily separate the mapped water bodies if they are not large enough to influence the total make up of their pixel. This means that some separate water bodies are mapped as a single waterbody within DE Africa Water Bodies.\n",
    " \n",
    "##### Mapping flooded areas\n",
    "By design, we have excluded locations where water is seen only during extreme flood events. A wetness threshold of 10% was applied to the data, meaning that only water bodies observed as wet at least 10% of the time between 1987 and 2021 have been included. This threshold was determined to be sensitive enough to capture the locations of persistent water bodies, but not so sensitive as to pick up too many false positives like flood irrigation, flood events or soggy areas in the landscape."
   ]
  },
  {
   "cell_type": "markdown",
   "id": "3da9d36b-8246-4c3e-b3fd-5d14a82a0e2d",
   "metadata": {},
   "source": [
    "### Water Bodies Surface Area Change"
   ]
  },
  {
   "cell_type": "markdown",
   "id": "1dbbb4bb-72a4-4207-92f5-7825178720a1",
   "metadata": {},
   "source": [
    "#### Update frequency\n",
    "The DE Africa Water Bodies time series will be updated regularly once the service becomes operational. An individual time series may not be updated as frequently if it was cloudy on the days the satellite was overhead. Landsat satellites do not observe all of Africa at the same time. The dates of satellite observations are dependent on the date that the satellite observed that waterbody. Currently, the Landsat satellites collect data every 8 days for any location. \n",
    "\n",
    "All usable observations for each water body have been included in the individual water body time series. Short or missing time series can result from frequent cloud cover, misclassification, or other processing issues. If less than 90% of the total water body is observed on any one day, due to cloud cover or missing data, then the wet and dry percentages are not calculated in the CSV file. Cloud cover leading to invalid data can be a particular problem in coastal regions.\n",
    "\n",
    "#### Inaccuracies\n",
    "\n",
    "##### Dealing with cloud cover\n",
    "Data used within DE Africa Water Bodies is cloud masked. When a significant fraction of a water body is not observed, due to cloud cover or missing data, estimation of wet area as a percentage of total area is not reliable. Therefore, the wet and dry percentages are not calculated when less than 90% of the total water body is observed on any one day.\n",
    " \n",
    "##### Irregularly spaced time series\n",
    "Landsat satellites do not observe all of Africa at the same time. The dates of satellite observations are dependent on the date that the satellite observed that water body. Currently, the Landsat satellites take 8 days to collect data across Africa, with different locations being collected on different days within that 8 days. This means that the date stamps of each time series are not common across all water bodies.\n",
    "\n",
    "#### Limitations\n",
    "This service does not differentiate between water sources, whether the water is from a natural or artificial water supply\n",
    "This service does not measure the volume of water in any waterbody. This tool detects the wet surface area of a waterbody. The wet surface area does not necessarily correlate to the volume of water in a storage. For example, a waterbody can be observed as wet with just a shallow covering of water."
   ]
  },
  {
   "cell_type": "code",
   "execution_count": null,
   "id": "6b4d566f-6804-4ea6-a07e-18906a4c7dfd",
   "metadata": {},
   "outputs": [],
   "source": []
  }
 ],
 "metadata": {
  "kernelspec": {
   "display_name": "Python 3 (ipykernel)",
   "language": "python",
   "name": "python3"
  },
  "language_info": {
   "codemirror_mode": {
    "name": "ipython",
    "version": 3
   },
   "file_extension": ".py",
   "mimetype": "text/x-python",
   "name": "python",
   "nbconvert_exporter": "python",
   "pygments_lexer": "ipython3",
   "version": "3.10.12"
  }
 },
 "nbformat": 4,
 "nbformat_minor": 5
}
