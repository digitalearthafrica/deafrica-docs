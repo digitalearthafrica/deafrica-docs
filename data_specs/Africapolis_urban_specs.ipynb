{
 "cells": [
  {
   "cell_type": "markdown",
   "id": "d3e362b0-dbd2-424b-93fc-d8c6940b5ae4",
   "metadata": {},
   "source": [
    "# Africapolis "
   ]
  },
  {
   "cell_type": "raw",
   "id": "e0c1ae98-4f5f-45ba-977d-9c513390348b",
   "metadata": {
    "raw_mimetype": "text/restructuredtext",
    "tags": []
   },
   "source": [
    ".. contents::\n",
    "   :local:"
   ]
  },
  {
   "cell_type": "markdown",
   "id": "0a7cc6df-948d-4559-92f4-39d3f0b6aebc",
   "metadata": {},
   "source": [
    "**Date modified:** 21 December 2024"
   ]
  },
  {
   "cell_type": "markdown",
   "id": "c09eee97-0c8a-4f17-93c7-f2bccd6cd48c",
   "metadata": {},
   "source": [
    "## Product Overview"
   ]
  },
  {
   "cell_type": "markdown",
   "id": "3ca72a64-3677-4c0e-a407-fcd07f39174e",
   "metadata": {},
   "source": [
    "### Background"
   ]
  },
  {
   "cell_type": "markdown",
   "id": "3f8a492f-7ba6-4011-8238-3276d764621e",
   "metadata": {},
   "source": [
    "[Africapolis](https://africapolis.org/en) is a dataset designed by the [Sahel and West Africa Club](https://www.oecd.org/swac/) to provide a much needed standardised and geospatial database on urbanisation dynamics in Africa, with the aim of making urban data in Africa comparable across countries and across time. This version of Africapolis is the first time that the data for the 54 countries currently covered are available for the same base year — 2015. In addition, Africapolis closes one major data gap by integrating 7,496 small towns and intermediary cities between 10,000 and 300,000 inhabitants.\n",
    "\n",
    "Africapolis will remain an ongoing endeavour, providing data and evidence to support cities and governments to make **[urban areas](https://africapolis.org/en/data?menu=about)** more inclusive, productive and sustainable. Africapolis team will keep looking for new ways and new data to improve Africapolis data and its relevance for the African continent."
   ]
  },
  {
   "cell_type": "markdown",
   "id": "3d0d5edd-f9af-41c1-9c46-a2eb300cc713",
   "metadata": {
    "tags": []
   },
   "source": [
    "### Specifications"
   ]
  },
  {
   "cell_type": "markdown",
   "id": "9b069fc5-59d1-41c2-9682-a99019391ab0",
   "metadata": {},
   "source": [
    "#### Spatial and temporal coverage"
   ]
  },
  {
   "cell_type": "markdown",
   "id": "2f1fd227-5b30-4bcb-9609-ee82b2a89dd6",
   "metadata": {},
   "source": [
    "There are two layers available: `africapolis_2015` and `africapolis_2020`."
   ]
  },
  {
   "cell_type": "markdown",
   "id": "a9160c67-503f-4830-a96d-1bf793a62a85",
   "metadata": {},
   "source": [
    "**Table 1: World Settlement Footprint product specifications**"
   ]
  },
  {
   "cell_type": "markdown",
   "id": "6c7c0d62-4edc-4105-b584-d39e45360653",
   "metadata": {},
   "source": [
    "|Specification | | |\n",
    "|----------|-------------|-------------|\n",
    "|Product name|  `africapolis_2015` | `africapolis_2020` |\n",
    "|Coordinate reference system | `EPSG:4326`  | `EPSG:4326` |\n",
    "|Spatial Coverage | Africa |  Africa |\n",
    "|Temporal range| 2015 |  2020 |\n",
    "|Data Format| Vector | Vector |"
   ]
  },
  {
   "cell_type": "markdown",
   "id": "89a204f1-0e07-43c2-bc35-8cc5d883d7e5",
   "metadata": {},
   "source": [
    "**Figure 1: The geographic extent of Africapolis data**"
   ]
  },
  {
   "cell_type": "markdown",
   "id": "6601432b-4c41-4e4a-b5ef-bff254f65836",
   "metadata": {},
   "source": [
    "<img src=\"../_static/data_specs/Africapolis_urban_specs/Africapolis_urban_specs.png\" alt=\"Africapolis_urban Geographic Extent\" width=\"300\" align=\"center\"/>"
   ]
  },
  {
   "cell_type": "markdown",
   "id": "adba0ca2-fd22-4d54-8979-be0b353ecb37",
   "metadata": {},
   "source": [
    "### Processing"
   ]
  },
  {
   "cell_type": "markdown",
   "id": "6dcc1738-fa41-4584-a5dc-4ca14ccd4318",
   "metadata": {},
   "source": [
    "[Africapolis data](https://africapolis.org/en/data?menu=about) is based on a large inventory of housing and population censuses, electoral registers and other official population sources, in some cases dating back to the beginning of the 20th century. While essential for building any database, the regularity, the detail and the reliability of these sources vary from country to country, and from period to period. Census data or official population records are often more than 10 years old and, in certain cases, go back 30 or more years. Given the pace of demographic and urban change these are significant periods. \n",
    "\n",
    "Satellite and aerial images are then used to fill in and complete the gaps and inconsistencies in official records, by capturing the physical evidence on the ground, that is the built-up area and the precise location of settlements. Other official cartographic resources, such as administrative boundaries, are also used to link population data to observed information on the built-up areas. \n",
    "\n",
    "The teams working on Africapolis, at e-Geopolis and at the OECD Sahel and West Africa Club, have worked for years to build the Africapolis database, learning during the process, adding new sources and improving on the tools and methodology used to make the data as precise as possible."
   ]
  },
  {
   "cell_type": "markdown",
   "id": "7519d955-16f1-4f5a-908c-d8eb0964bbb0",
   "metadata": {},
   "source": [
    "### References"
   ]
  },
  {
   "cell_type": "markdown",
   "id": "ee1b71a1-222b-4ce7-9da2-aa3d83cbd1e0",
   "metadata": {},
   "source": [
    "[Sahel and West Africa Club (SWAC)](https://www.oecd.org/en/about/directorates/sahel-and-west-africa-club.html)\n",
    "\n",
    "[Africapolis](https://africapolis.org/en)\n",
    "\n",
    "[Africa's Urbanisation Dynamics 2020: Africapolis, Mapping a New Urban Geography](https://www.oecd-ilibrary.org/development/africa-s-urbanisation-dynamics-2020_b6bccb81-en)"
   ]
  },
  {
   "cell_type": "markdown",
   "id": "da135198-725c-4ce9-8466-dbb85d1e42d6",
   "metadata": {},
   "source": [
    "### License"
   ]
  },
  {
   "cell_type": "markdown",
   "id": "052ebd65-218b-4c9e-b3be-0874b7164684",
   "metadata": {},
   "source": [
    "The Africapolis is provided free of charge, without restriction of use. For the full license information see the [Creative Commons Attribution 4.0 International License](https://creativecommons.org/licenses/by/4.0/)."
   ]
  },
  {
   "cell_type": "markdown",
   "id": "f8a32174-1e8e-4cff-a904-23bf684d7718",
   "metadata": {},
   "source": [
    "### Acknowledgements"
   ]
  },
  {
   "cell_type": "markdown",
   "id": "789fc77f-f9a6-464f-a9b0-918ef0c05703",
   "metadata": {},
   "source": [
    "Africapolis is produced by the Sahel and West Africa Club (SWAC) in collaboration with e-Geopolis.org."
   ]
  },
  {
   "cell_type": "markdown",
   "id": "1a9d1ba4-af9c-4287-8346-2df56dd88a8b",
   "metadata": {},
   "source": [
    "## Data Acess"
   ]
  },
  {
   "cell_type": "markdown",
   "id": "2be1d378-0d77-4da6-bd7a-42dcbd7429fe",
   "metadata": {},
   "source": [
    "### OGC Web Services (OWS)"
   ]
  },
  {
   "cell_type": "markdown",
   "id": "1b829dc7-a1dd-4c9e-b692-8acb125b7111",
   "metadata": {},
   "source": [
    "The Africapolis product `africapolis_2015`, `africapolis_2020` are available through the Digital Earth Africa's geosever. "
   ]
  },
  {
   "cell_type": "markdown",
   "id": "e1dbadfa-634b-4cca-8dc2-8305d3c69ff3",
   "metadata": {},
   "source": [
    "**Table 4: Geoserver data access details.**"
   ]
  },
  {
   "cell_type": "markdown",
   "id": "bb548dd2-75af-42ac-b4aa-372d23ef3511",
   "metadata": {},
   "source": [
    "|OWS details | |\n",
    "|----------|-------------|\n",
    "|Name | `DE Africa Services` |\n",
    "|Web Map Services (WFS) URL | `https://geoserver.dev.digitalearth.africa/geoserver/wfs` |\n",
    "| Layer name | `africapolis_2015`,`africapolis_2020`|"
   ]
  }
 ],
 "metadata": {
  "kernelspec": {
   "display_name": "Python 3 (ipykernel)",
   "language": "python",
   "name": "python3"
  },
  "language_info": {
   "codemirror_mode": {
    "name": "ipython",
    "version": 3
   },
   "file_extension": ".py",
   "mimetype": "text/x-python",
   "name": "python",
   "nbconvert_exporter": "python",
   "pygments_lexer": "ipython3",
   "version": "3.10.12"
  }
 },
 "nbformat": 4,
 "nbformat_minor": 5
}
