{
 "cells": [
  {
   "cell_type": "markdown",
   "id": "d3e362b0-dbd2-424b-93fc-d8c6940b5ae4",
   "metadata": {},
   "source": [
    "# Water Productivity through Open-access of Remotely sensed derived data (WaPOR)"
   ]
  },
  {
   "cell_type": "raw",
   "id": "e0c1ae98-4f5f-45ba-977d-9c513390348b",
   "metadata": {
    "raw_mimetype": "text/restructuredtext",
    "tags": []
   },
   "source": [
    ".. contents::\n",
    "   :local:"
   ]
  },
  {
   "cell_type": "markdown",
   "id": "0a7cc6df-948d-4559-92f4-39d3f0b6aebc",
   "metadata": {},
   "source": [
    "**Date modified:** 21 December 2024"
   ]
  },
  {
   "cell_type": "markdown",
   "id": "c09eee97-0c8a-4f17-93c7-f2bccd6cd48c",
   "metadata": {},
   "source": [
    "## Product Overview"
   ]
  },
  {
   "cell_type": "markdown",
   "id": "3ca72a64-3677-4c0e-a407-fcd07f39174e",
   "metadata": {},
   "source": [
    "### Background"
   ]
  },
  {
   "cell_type": "markdown",
   "id": "3f8a492f-7ba6-4011-8238-3276d764621e",
   "metadata": {},
   "source": [
    "The **Wa**ter **P**roductivity through **O**pen access of **R**emotely sensed derived data **(WaPOR)** monitors and reports on agricultural water productivity through biophysical measures with a focus on Africa and the Near East. This information assists partner countries improve land and water productivity in both rainfed and irrigated agriculture. WaPOR is developed and produced by the Food and Agriculture Organisation (FAO) of the United Nations.\n",
    "\n",
    "WaPOR provides numerous datasets related to vegetation productivity and water consumption, and associated meteorological and physical conditions such as soil moisture and precipitation. These datasets can be combined with Digital Earth Africa products, services, and workflows for numerous applications including:\n",
    "\n",
    "* Monitoring drought conditions\n",
    "* Monitoring the water use efficiency of crops\n",
    "* Mapping irrigated areas\n",
    "* Estimating crop water requirements\n",
    "* Irrigation scheduling and budgeting\n",
    "\n",
    "The applications of WaPOR data go beyond water productivity and agriculture. Any application that would benefit from hydrological information and/or vegetation productivity could use WaPOR data."
   ]
  },
  {
   "cell_type": "markdown",
   "id": "3d0d5edd-f9af-41c1-9c46-a2eb300cc713",
   "metadata": {
    "tags": []
   },
   "source": [
    "### Specifications"
   ]
  },
  {
   "cell_type": "markdown",
   "id": "9b069fc5-59d1-41c2-9682-a99019391ab0",
   "metadata": {},
   "source": [
    "#### Spatial and temporal coverage"
   ]
  },
  {
   "cell_type": "markdown",
   "id": "2f1fd227-5b30-4bcb-9609-ee82b2a89dd6",
   "metadata": {},
   "source": [
    "WaPOR data has three levels:\n",
    "\n",
    "1. Global 300m resolution\n",
    "2. National 100m resolution (note that this now covers the African continent)\n",
    "3. Sub-national 20m resolution"
   ]
  },
  {
   "cell_type": "markdown",
   "id": "a9160c67-503f-4830-a96d-1bf793a62a85",
   "metadata": {},
   "source": [
    "The table below covers L1 and L2 datasets. L3 datasets can be viewed in the [WaPOR maps platform](https://data.apps.fao.org/wapor/?lang=en) which is built with the same software as [Digital Earth Africa Maps](https://maps.digitalearth.africa/). L3 datasets cover several regions of interest in northern and eastern Africa. This notebook loads level 3 20m data for Egypt. It is recommended that the [WaPOR maps platform](https://data.apps.fao.org/wapor) is inspected to check the availability of level, variable, and temporal frequency combinations for your area of interest. The maps platform also shows map codes in the data description.\n",
    "\n",
    "Mapset codes are structured as `level-variable-temporal` frequency as shown below. The temporal frequencies available are:\n",
    "\n",
    "* A - annual\n",
    "* M - monthly\n",
    "* D - dekadal (10 days)\n",
    "\n",
    "So, for level 3 net primary productivity at dekadal intervals the code is `L3-NPP-D`."
   ]
  },
  {
   "cell_type": "markdown",
   "id": "6c7c0d62-4edc-4105-b584-d39e45360653",
   "metadata": {},
   "source": [
    "**Table 1: L1 and L2 dataset details.**\n",
    "\n",
    "|Mapset Code|Mapset Description|Units|Scale Factor|\n",
    "|---|---|--------------|----|\n",
    "|L1-AETI-A|Actual EvapoTranspiration and Interception (Global - Annual - 300m)|mm/year|0.1|\n",
    "|L1-AETI-D|Actual EvapoTranspiration and Interception (Global - Dekadal - 300m)|mm/day|0.1|\n",
    "|L1-AETI-M|Actual EvapoTranspiration and Interception (Global - Monthly - 300m)|mm/month|0.1|\n",
    "|L1-E-A|Evaporation (Global - Annual - 300m)|mm/year|0.1|\n",
    "|L1-E-D|Evaporation (Global - Dekadal - 300m)|mm/day|0.1|\n",
    "|L1-GBWP-A|\tGross biomass water productivity (Annual - 300m)|kg/m$^3$|0.001|\n",
    "|L1-I-A|Interception (Global - Annual - 300m)|mm/year|0.1|\n",
    "|L1-I-D|Interception (Global - Dekadal - 300m)|mm/year|0.1|\n",
    "|L1-NBWP-A|Net biomass water productivity (Annual - 300m)|kg/m$^3$|0.001|\n",
    "|L1-NPP-D|Net Primary Production (Global - Dekadal - 300m)|gC/m$^2$/day|0.001|\n",
    "|L1-NPP-M|Net Primary Production (Global - Monthly - 300m)|gC/m$^2$/month|0.001|\n",
    "|L1-PCP-A|Precipitation (Global - Annual - Approximately 5km)|mm/year|0.1|\n",
    "|L1-PCP-D|Precipitation (Global - Dekadal - Approximately 5km)|mm/day|0.1|\n",
    "|L1-PCP-E|Precipitation (Global - Daily - Approximately 5km)|mm|0.1|\n",
    "|L1-PCP-M|Precipitation (Global - Monthly - Approximately 5km)|mm/month|0.1|\n",
    "|L1-QUAL-LST-D|Quality land surface temperature (Global - Dekadal - 300m)|d|1|\n",
    "|L1-QUAL-NDVI-D|Quality of Normalized Difference Vegetation Index (Global - Dekadal - 300m)|Number of dekads (D)||\n",
    "|L1-RET-A|Reference Evapotranspiration (Global - Annual - Approximately 30km)|mm/year|0.1|\n",
    "|L1-RET-D|Reference Evapotranspiration (Global - Dekadal - Approximately 30km)|mm/day|0.1|\n",
    "|L1-RET-E|Reference Evapotranspiration (Global - Daily - Approximately 30km)|mm/day|0.1|\n",
    "|L1-RET-M|Reference Evapotranspiration (Global - Monthly - Approximately 30km)|mm/month|0.1|\n",
    "|L1-RSM-D|Relative Soil Moisture (Global - Dekadal - 300m)|%|0.001|\n",
    "|L1-T-A|Transpiration (Global - Annual - 300m)|mm/year|0.1|\n",
    "|L1-T-D|Transpiration (Global - Dekadal - 300m)|mm/day|0.1|\n",
    "|L1-TBP-A|Total Biomass Production (Global - Annual - 300m)|kg/ha|1|\n",
    "|L2-AETI-A|Actual EvapoTranspiration and Interception (National - Annual - 100m)|mm/year|0.1|\n",
    "|L2-AETI-D|Actual EvapoTranspiration and Interception (National - Annual - 100m)|mm/day|0.1|\n",
    "|L2-AETI-M|Actual EvapoTranspiration and Interception (National - Annual - 100m)|mm/month|0.1|\n",
    "|L2-E-A|Evaporation (National - Annual - 100m)|mm/year|0.1|\n",
    "|L2-E-D|Evaporation (National - Dekadal - 100m)|mm/day|0.1|\n",
    "|L2-GBWP-A|Gross biomass water productivity (Annual - 100m)|kg/m$^3$|0.001|\n",
    "|L2-I-A|Interception (National - Annual - 100m)|mm/year|0.1|\n",
    "|L2-I-D|Interception (National - Dekadal - 100m)|mm/day|0.1|\n",
    "|L2-NBWP-A|Net biomass water productivity (Annual - 100m)|kg/m$^3$|0.001|\n",
    "|L2-NPP-D|Net Primary Production (National - Dekadal - 100m)|gC/m$^2$/day|0.001|\n",
    "|L2-NPP-M|Net Primary Production (National - Monthly - 100m)|gC/m$^2$/month|0.001|\n",
    "|L2-QUAL-NDVI-D|Quality of normalized difference vegetation index (National - Dekadal - 100m)|d|1|\n",
    "|L2-RSM-D|Relative Soil Moisture (National - Dekadal - 100m)|%|0.001|\n",
    "|L2-T-A|Transpiration (National - Annual - 100m)|mm/year|0.1|\n",
    "|L2-T-D|Transpiration (National - Dekadal - 100m)|mm/day|0.1|\n",
    "|L2-TBP-A|Total Biomass Production (National - Annual - 100m)|kg/ha|1|"
   ]
  },
  {
   "cell_type": "markdown",
   "id": "88f87d75-31db-4da4-b06a-8e187c912501",
   "metadata": {},
   "source": [
    "### Technical information"
   ]
  },
  {
   "cell_type": "markdown",
   "id": "97783125-538b-4085-b561-26f5facd5d5e",
   "metadata": {},
   "source": [
    "WaPOR products are dervied from various complex methods, including surface energy balance models for evapotranspiration and light use efficiency models for primary productivity. Methodology is published and updated with each version release in [Peiser et al. (2017)](https://doi.org/10.4060/ca9894en)."
   ]
  },
  {
   "cell_type": "markdown",
   "id": "7519d955-16f1-4f5a-908c-d8eb0964bbb0",
   "metadata": {},
   "source": [
    "### References"
   ]
  },
  {
   "cell_type": "markdown",
   "id": "ee1b71a1-222b-4ce7-9da2-aa3d83cbd1e0",
   "metadata": {},
   "source": [
    "[FAO. 2020. WaPOR database methodology: Version 2 release, April 2020. Rome. ](https://doi.org/10.4060/ca9894en)"
   ]
  },
  {
   "cell_type": "markdown",
   "id": "da135198-725c-4ce9-8466-dbb85d1e42d6",
   "metadata": {},
   "source": [
    "### License"
   ]
  },
  {
   "cell_type": "markdown",
   "id": "052ebd65-218b-4c9e-b3be-0874b7164684",
   "metadata": {},
   "source": [
    "The data is provided free of charge, without restriction of use. For the full license information see the [Creative Commons Attribution 4.0 International License](https://creativecommons.org/licenses/by/4.0/)."
   ]
  },
  {
   "cell_type": "markdown",
   "id": "2c55799e-2730-457c-9e56-0ff995a94420",
   "metadata": {},
   "source": [
    "### Acknowledgements"
   ]
  },
  {
   "cell_type": "markdown",
   "id": "02ea0f28-caeb-48fb-93a5-f2a5ceac89b6",
   "metadata": {},
   "source": [
    "Food and Agriculture Organization"
   ]
  },
  {
   "cell_type": "markdown",
   "id": "1a9d1ba4-af9c-4287-8346-2df56dd88a8b",
   "metadata": {},
   "source": [
    "## Data Acess"
   ]
  },
  {
   "cell_type": "markdown",
   "id": "07582425-6810-47a1-9d15-6277f05e2817",
   "metadata": {},
   "source": [
    "### Amazon Web Service"
   ]
  },
  {
   "cell_type": "markdown",
   "id": "c2eb0c94-00e3-49cd-b21f-9cb4cdaf5483",
   "metadata": {},
   "source": [
    "**Table 2: AWS data acess details.**"
   ]
  },
  {
   "cell_type": "markdown",
   "id": "5576cd24-ae31-4d90-a1f2-a6ad20ab16a3",
   "metadata": {},
   "source": [
    "|AWS S3 details | |\n",
    "|----------|-------------|\n",
    "|Bucket ARD | `s3://wapor-v3//`|\n",
    "|Bucket | `wapor-v3` |"
   ]
  }
 ],
 "metadata": {
  "kernelspec": {
   "display_name": "Python 3 (ipykernel)",
   "language": "python",
   "name": "python3"
  },
  "language_info": {
   "codemirror_mode": {
    "name": "ipython",
    "version": 3
   },
   "file_extension": ".py",
   "mimetype": "text/x-python",
   "name": "python",
   "nbconvert_exporter": "python",
   "pygments_lexer": "ipython3",
   "version": "3.10.12"
  }
 },
 "nbformat": 4,
 "nbformat_minor": 5
}
