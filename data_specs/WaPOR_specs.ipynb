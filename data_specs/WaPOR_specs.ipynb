{
 "cells": [
  {
   "cell_type": "markdown",
   "id": "8a4807bc-69b2-47b6-87bd-a214620f91ba",
   "metadata": {
    "tags": []
   },
   "source": [
    "# Water Productivity through Open-access of Remotely sensed derived data (WaPOR)\n",
    "\n",
    "* **Products used:** WaPOR"
   ]
  },
  {
   "cell_type": "markdown",
   "id": "e7883387-d769-4de1-a031-1d8e2955fa6a",
   "metadata": {},
   "source": [
    "**Date modified:** 25 November 2024"
   ]
  },
  {
   "cell_type": "markdown",
   "id": "ebb5fa6b-e955-452e-9876-0864c4303cd6",
   "metadata": {},
   "source": [
    "## Background\n",
    "\n",
    "The **Wa**ter **P**roductivity through **O**pen access of **R**emotely sensed derived data **(WaPOR)** monitors and reports on agricultural water productivity through biophysical measures with a focus on Africa and the Near East. This information assists partner countries improve land and water productivity in both rainfed and irrigated agriculture. WaPOR is developed and produced by the Food and Agriculture Organisation (FAO) of the United Nations.\n",
    "\n",
    "WaPOR provides numerous datasets related to vegetation productivity and water consumption, and associated meteorological and physical conditions such as soil moisture and precipitation. These datasets can be combined with Digital Earth Africa products, services, and workflows for numerous applications including:\n",
    "\n",
    "* Monitoring drought conditions\n",
    "* Monitoring the water use efficiency of crops\n",
    "* Mapping irrigated areas\n",
    "* Estimating crop water requirements\n",
    "* Irrigation scheduling and budgeting\n",
    "\n",
    "The applications of WaPOR data go beyond water productivity and agriculture. Any application that would benefit from hydrological information and/or vegetation productivity could use WaPOR data."
   ]
  },
  {
   "cell_type": "markdown",
   "id": "9370490c-11c3-4d43-ad42-eedf9c6aa5a0",
   "metadata": {},
   "source": [
    "## Specifications\n",
    "\n",
    "### Spatial and temporal coverage\n",
    "WaPOR data has three levels:\n",
    "\n",
    "1. Global 300m resolution\n",
    "2. National 100m resolution (note that this now covers the African continent)\n",
    "3. Sub-national 20m resolution\n",
    "\n",
    "The table below covers L1 and L2 datasets. L3 datasets can be viewed in the [WaPOR maps platform](https://data.apps.fao.org/wapor/?lang=en) which is built with the same software as [Digital Earth Africa Maps](https://maps.digitalearth.africa/). L3 datasets cover several regions of interest in northern and eastern Africa. This notebook loads level 3 20m data for Egypt. It is recommended that the [WaPOR maps platform](https://data.apps.fao.org/wapor) is inspected to check the availability of level, variable, and temporal frequency combinations for your area of interest. The maps platform also shows map codes in the data description.\n",
    "\n",
    "Mapset codes are structured as `level-variable-temporal` frequency as shown below. The temporal frequencies available are:\n",
    "\n",
    "* A - annual\n",
    "* M - monthly\n",
    "* D - dekadal (10 days)\n",
    "\n",
    "So, for level 3 net primary productivity at dekadal intervals the code is `L3-NPP-D`.\n",
    "\n",
    "|Mapset Code|Mapset Description|Units|Scale Factor|\n",
    "|---|---|--------------|----|\n",
    "|L1-AETI-A|Actual EvapoTranspiration and Interception (Global - Annual - 300m)|mm/year|0.1|\n",
    "|L1-AETI-D|Actual EvapoTranspiration and Interception (Global - Dekadal - 300m)|mm/day|0.1|\n",
    "|L1-AETI-M|Actual EvapoTranspiration and Interception (Global - Monthly - 300m)|mm/month|0.1|\n",
    "|L1-E-A|Evaporation (Global - Annual - 300m)|mm/year|0.1|\n",
    "|L1-E-D|Evaporation (Global - Dekadal - 300m)|mm/day|0.1|\n",
    "|L1-GBWP-A|\tGross biomass water productivity (Annual - 300m)|kg/m$^3$|0.001|\n",
    "|L1-I-A|Interception (Global - Annual - 300m)|mm/year|0.1|\n",
    "|L1-I-D|Interception (Global - Dekadal - 300m)|mm/year|0.1|\n",
    "|L1-NBWP-A|Net biomass water productivity (Annual - 300m)|kg/m$^3$|0.001|\n",
    "|L1-NPP-D|Net Primary Production (Global - Dekadal - 300m)|gC/m$^2$/day|0.001|\n",
    "|L1-NPP-M|Net Primary Production (Global - Monthly - 300m)|gC/m$^2$/month|0.001|\n",
    "|L1-PCP-A|Precipitation (Global - Annual - Approximately 5km)|mm/year|0.1|\n",
    "|L1-PCP-D|Precipitation (Global - Dekadal - Approximately 5km)|mm/day|0.1|\n",
    "|L1-PCP-E|Precipitation (Global - Daily - Approximately 5km)|mm|0.1|\n",
    "|L1-PCP-M|Precipitation (Global - Monthly - Approximately 5km)|mm/month|0.1|\n",
    "|L1-QUAL-LST-D|Quality land surface temperature (Global - Dekadal - 300m)|d|1|\n",
    "|L1-QUAL-NDVI-D|Quality of Normalized Difference Vegetation Index (Global - Dekadal - 300m)|Number of dekads (D)||\n",
    "|L1-RET-A|Reference Evapotranspiration (Global - Annual - Approximately 30km)|mm/year|0.1|\n",
    "|L1-RET-D|Reference Evapotranspiration (Global - Dekadal - Approximately 30km)|mm/day|0.1|\n",
    "|L1-RET-E|Reference Evapotranspiration (Global - Daily - Approximately 30km)|mm/day|0.1|\n",
    "|L1-RET-M|Reference Evapotranspiration (Global - Monthly - Approximately 30km)|mm/month|0.1|\n",
    "|L1-RSM-D|Relative Soil Moisture (Global - Dekadal - 300m)|%|0.001|\n",
    "|L1-T-A|Transpiration (Global - Annual - 300m)|mm/year|0.1|\n",
    "|L1-T-D|Transpiration (Global - Dekadal - 300m)|mm/day|0.1|\n",
    "|L1-TBP-A|Total Biomass Production (Global - Annual - 300m)|kg/ha|1|\n",
    "|L2-AETI-A|Actual EvapoTranspiration and Interception (National - Annual - 100m)|mm/year|0.1|\n",
    "|L2-AETI-D|Actual EvapoTranspiration and Interception (National - Annual - 100m)|mm/day|0.1|\n",
    "|L2-AETI-M|Actual EvapoTranspiration and Interception (National - Annual - 100m)|mm/month|0.1|\n",
    "|L2-E-A|Evaporation (National - Annual - 100m)|mm/year|0.1|\n",
    "|L2-E-D|Evaporation (National - Dekadal - 100m)|mm/day|0.1|\n",
    "|L2-GBWP-A|Gross biomass water productivity (Annual - 100m)|kg/m$^3$|0.001|\n",
    "|L2-I-A|Interception (National - Annual - 100m)|mm/year|0.1|\n",
    "|L2-I-D|Interception (National - Dekadal - 100m)|mm/day|0.1|\n",
    "|L2-NBWP-A|Net biomass water productivity (Annual - 100m)|kg/m$^3$|0.001|\n",
    "|L2-NPP-D|Net Primary Production (National - Dekadal - 100m)|gC/m$^2$/day|0.001|\n",
    "|L2-NPP-M|Net Primary Production (National - Monthly - 100m)|gC/m$^2$/month|0.001|\n",
    "|L2-QUAL-NDVI-D|Quality of normalized difference vegetation index (National - Dekadal - 100m)|d|1|\n",
    "|L2-RSM-D|Relative Soil Moisture (National - Dekadal - 100m)|%|0.001|\n",
    "|L2-T-A|Transpiration (National - Annual - 100m)|mm/year|0.1|\n",
    "|L2-T-D|Transpiration (National - Dekadal - 100m)|mm/day|0.1|\n",
    "|L2-TBP-A|Total Biomass Production (National - Annual - 100m)|kg/ha|1|"
   ]
  },
  {
   "cell_type": "markdown",
   "id": "0789ec6b-6a85-4179-941d-7f6da7181208",
   "metadata": {},
   "source": [
    "#### Technical information\n",
    "\n",
    "WaPOR products are dervied from various complex methods, including surface energy balance models for evapotranspiration and light use efficiency models for primary productivity. Methodology is published and updated with each version release in [Peiser et al. (2017)](https://doi.org/10.4060/ca9894en).\n",
    "\n",
    "#### References\n",
    "FAO. 2020. WaPOR database methodology: Version 2 release, April 2020. Rome. https://doi.org/10.4060/ca9894en\n",
    "\n",
    "\n",
    "\n",
    "#### License and Acknowledgements\n",
    "This data is licensed under a Creative Commons Attribution-NonCommercial-ShareAlike (CC BY-NC-SA 4.0) license.\n",
    "\n",
    "Credits: FAO\n",
    "\n",
    "------------------------------------------------------------------"
   ]
  }
 ],
 "metadata": {
  "kernelspec": {
   "display_name": "Python 3 (ipykernel)",
   "language": "python",
   "name": "python3"
  },
  "language_info": {
   "codemirror_mode": {
    "name": "ipython",
    "version": 3
   },
   "file_extension": ".py",
   "mimetype": "text/x-python",
   "name": "python",
   "nbconvert_exporter": "python",
   "pygments_lexer": "ipython3",
   "version": "3.10.12"
  }
 },
 "nbformat": 4,
 "nbformat_minor": 5
}
