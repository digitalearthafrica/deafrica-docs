{
 "cells": [
  {
   "cell_type": "markdown",
   "id": "8a4807bc-69b2-47b6-87bd-a214620f91ba",
   "metadata": {
    "tags": []
   },
   "source": [
    "# Water Productivity through Open-access of Remotely sensed derived data (WaPOR)\n",
    "\n",
    "* **Products used:** WaPOR"
   ]
  },
  {
   "cell_type": "markdown",
   "id": "e7883387-d769-4de1-a031-1d8e2955fa6a",
   "metadata": {},
   "source": [
    "**Date modified:** 25 November 2024"
   ]
  },
  {
   "cell_type": "markdown",
   "id": "ebb5fa6b-e955-452e-9876-0864c4303cd6",
   "metadata": {},
   "source": [
    "## Background\n",
    "\n",
    "The **Wa**ter **P**roductivity through **O**pen access of **R**emotely sensed derived data **(WaPOR)** monitors and reports on agricultural water productivity through biophysical measures with a focus on Africa and the Near East. This information assists partner countries improve land and water productivity in both rainfed and irrigated agriculture. WaPOR is developed and produced by the Food and Agriculture Organisation (FAO) of the United Nations.\n",
    "\n",
    "WaPOR provides numerous datasets related to vegetation productivity and water consumption, and associated meteorological and physical conditions such as soil moisture and precipitation. These datasets can be combined with Digital Earth Africa products, services, and workflows for numerous applications including:\n",
    "\n",
    "* Monitoring drought conditions\n",
    "* Monitoring the water use efficiency of crops\n",
    "* Mapping irrigated areas\n",
    "* Estimating crop water requirements\n",
    "* Irrigation scheduling and budgeting\n",
    "\n",
    "The applications of WaPOR data go beyond water productivity and agriculture. Any application that would benefit from hydrological information and/or vegetation productivity could use WaPOR data."
   ]
  },
  {
   "cell_type": "markdown",
   "id": "9370490c-11c3-4d43-ad42-eedf9c6aa5a0",
   "metadata": {},
   "source": [
    "## Specifications\n",
    "\n",
    "### Spatial and temporal coverage\n",
    "WaPOR data has three levels:\n",
    "\n",
    "1. Global 300m resolution\n",
    "2. National 100m resolution\n",
    "3. Sub-national 20m resolution\n",
    "\n",
    "The table below covers L1 and L2 datasets. L3 datasets can be viewed in the [WaPOR maps platform](https://data.apps.fao.org/wapor/?lang=en) which is built with the same software as [Digital Earth Africa Maps](https://maps.digitalearth.africa/). L3 datasets cover several regions of interest in northern and eastern Africa. This notebook loads level 3 20m data for Egypt. It is recommended that the [WaPOR maps platform](https://data.apps.fao.org/wapor) is inspected to check the availability of level, variable, and temporal frequency combinations for your area of interest. The maps platform also shows map codes in the data description.\n",
    "\n",
    "Mapset codes are structured as `level-variable-temporal` frequency as shown below. The temporal frequencies available are:\n",
    "\n",
    "* A - annual\n",
    "* M - monthly\n",
    "* D - dekadal (10 days)\n",
    "\n",
    "So, for level 3 net primary productivity at dekadal intervals the code is `L3-NPP-D`.\n",
    "\n",
    "|Mapset Code|Mapset Description|\n",
    "|---|--------------|\n",
    "|L1-AETI-A|Actual EvapoTranspiration and Interception (Global - Annual - 300m)|\n",
    "|L1-AETI-D|Actual EvapoTranspiration and Interception (Global - Dekadal - 300m)|\n",
    "|L1-AETI-M|Actual EvapoTranspiration and Interception (Global - Monthly - 300m)|\n",
    "|L1-E-A|Evaporation (Global - Annual - 300m)|\n",
    "|L1-E-D|Evaporation (Global - Dekadal - 300m)|\n",
    "|L1-GBWP-A|\tGross biomass water productivity (Annual - 300m)|\n",
    "|L1-I-A|Interception (Global - Annual - 300m)|\n",
    "|L1-I-D|Interception (Global - Dekadal - 300m)|\n",
    "|L1-NBWP-A|Net biomass water productivity (Annual - 300m)|\n",
    "|L1-NPP-D|Net Primary Production (Global - Dekadal - 300m)|\n",
    "|L1-NPP-M|Net Primary Production (Global - Monthly - 300m)|\n",
    "|L1-PCP-A|Precipitation (Global - Annual - Approximately 5km|\n",
    "|L1-PCP-D|Precipitation (Global - Dekadal - Approximately 5km|\n",
    "|L1-PCP-E|Precipitation (Global - Daily - Approximately 5km|\n",
    "|L1-PCP-M|Precipitation (Global - Monthly - Approximately 5km|\n",
    "|L1-QUAL-LST-D|Quality land surface temperature (Global - Dekadal - 300m)|\n",
    "|L1-QUAL-NDVI-D|Quality of Normalized Difference Vegetation Index (Global - Dekadal - 300m)|\n",
    "|L1-RET-A|Reference Evapotranspiration (Global - Annual - Approximately 30km)|\n",
    "|L1-RET-D|Reference Evapotranspiration (Global - Dekadal - Approximately 30km)|\n",
    "|L1-RET-E|Reference Evapotranspiration (Global - Daily - Approximately 30km)|\n",
    "|L1-RET-M|Reference Evapotranspiration (Global - Monthly - Approximately 30km)|\n",
    "|L1-RSM-D|Relative Soil Moisture (Global - Dekadal - 300m)|\n",
    "|L1-T-A|Transpiration (Global - Annual - 300m)|\n",
    "|L1-T-D|Transpiration (Global - Dekadal - 300m)|\n",
    "24\tL1-TBP-A\tTotal Biomass Production (Global - Annual - 300m)\n",
    "25\tL2-AETI-A\tActual EvapoTranspiration and Interception (Na...\n",
    "26\tL2-AETI-D\tActual EvapoTranspiration and Interception (Na...\n",
    "27\tL2-AETI-M\tActual EvapoTranspiration and Interception (Na...\n",
    "28\tL2-E-A\tEvaporation (National - Annual - 100m)\n",
    "29\tL2-E-D\tEvaporation (National - Dekadal - 100m)\n",
    "30\tL2-GBWP-A\tGross biomass water productivity (Annual - 100m)\n",
    "31\tL2-I-A\tInterception (National - Annual - 100m)\n",
    "32\tL2-I-D\tInterception (National - Dekadal - 100m)\n",
    "33\tL2-NBWP-A\tNet biomass water productivity (Annual - 100m)\n",
    "34\tL2-NPP-D\tNet Primary Production (National - Dekadal - 1...\n",
    "35\tL2-NPP-M\tNet Primary Production (National - Monthly - 1...\n",
    "36\tL2-QUAL-NDVI-D\tQuality of normalized difference vegetation in...\n",
    "37\tL2-RSM-D\tRelative Soil Moisture (National - Dekadal - 1...\n",
    "38\tL2-T-A\tTranspiration (National - Annual - 100m)\n",
    "39\tL2-T-D\tTranspiration (National - Dekadal - 100m)\n",
    "40\tL2-TBP-A\tTotal Biomass Production (Global - Annual - 100m)"
   ]
  },
  {
   "cell_type": "markdown",
   "id": "0789ec6b-6a85-4179-941d-7f6da7181208",
   "metadata": {},
   "source": [
    "Relevant metadata for the iSDA soil products, as well as the specific temporal and geographic extents for the product can be explored as an interactive map on the [DE Africa Metadata Explorer](https://explorer.digitalearth.africa/products/isda_soil_bedrock_depth). \n",
    "Data is available for the shaded region. A [Jupyter Notebook](https://docs.digitalearthafrica.org/en/latest/sandbox/notebooks/Datasets/iSDAsoil.html) which demonstrates loading and using iSDA soil products in the Sandbox is also available.\n",
    "\n",
    "\n",
    "\n",
    "\n",
    "#### Technical information\n",
    "\n",
    "Spatial prediction of soil properties in the iSDA product suite was undertaken with five regression modelling algorithms. The prediction process utilises field data in combination with covariates such as topographic and surface reflectance data. Further technical information on iSDA products, and links to academic papers describing the methodology, can be found on the [iSDA technical information page](https://www.isda-africa.com/isdasoil/technical-information/).\n",
    "\n",
    "#### References\n",
    "Miller MAE, Shepherd KD, Kisitu B, Collinson J (2021) iSDAsoil: The first continent-scale soil property map at 30 m resolution provides a soil information revolution for Africa. PLoS Biol 19(11): e3001441. https://doi.org/10.1371/journal.pbio.3001441\n",
    "\n",
    "#### License and Acknowledgements\n",
    "This data is licensed under a Creative Commons by Attribution (CC BY 4.0) license.\n",
    "\n",
    "Credits: iSDA\n",
    "\n",
    "#### Product Details\n",
    "The specifications for the six products listed above in Table 1 are described in succession below.\n",
    "\n",
    "------------------------------------------------------------------"
   ]
  }
 ],
 "metadata": {
  "kernelspec": {
   "display_name": "Python 3 (ipykernel)",
   "language": "python",
   "name": "python3"
  },
  "language_info": {
   "codemirror_mode": {
    "name": "ipython",
    "version": 3
   },
   "file_extension": ".py",
   "mimetype": "text/x-python",
   "name": "python",
   "nbconvert_exporter": "python",
   "pygments_lexer": "ipython3",
   "version": "3.10.12"
  }
 },
 "nbformat": 4,
 "nbformat_minor": 5
}
