{
 "cells": [
  {
   "cell_type": "markdown",
   "id": "d3e362b0-dbd2-424b-93fc-d8c6940b5ae4",
   "metadata": {},
   "source": [
    "# Water Productivity through Open-access of Remotely sensed derived data (WaPOR)"
   ]
  },
  {
   "cell_type": "raw",
   "id": "e0c1ae98-4f5f-45ba-977d-9c513390348b",
   "metadata": {
    "raw_mimetype": "text/restructuredtext",
    "tags": []
   },
   "source": [
    ".. contents::\n",
    "   :local:"
   ]
  },
  {
   "cell_type": "markdown",
   "id": "0a7cc6df-948d-4559-92f4-39d3f0b6aebc",
   "metadata": {},
   "source": [
    "**Date modified:** 21 December 2024"
   ]
  },
  {
   "cell_type": "markdown",
   "id": "c09eee97-0c8a-4f17-93c7-f2bccd6cd48c",
   "metadata": {},
   "source": [
    "## Product Overview"
   ]
  },
  {
   "cell_type": "markdown",
   "id": "3ca72a64-3677-4c0e-a407-fcd07f39174e",
   "metadata": {},
   "source": [
    "### Background"
   ]
  },
  {
   "cell_type": "markdown",
   "id": "3f8a492f-7ba6-4011-8238-3276d764621e",
   "metadata": {},
   "source": [
    "The **Wa**ter **P**roductivity through **O**pen access of **R**emotely sensed derived data **(WaPOR)** monitors and reports on agricultural water productivity through biophysical measures with a focus on Africa and the Near East. This information assists partner countries improve land and water productivity in both rainfed and irrigated agriculture. WaPOR is developed and produced by the Food and Agriculture Organisation (FAO) of the United Nations.\n",
    "\n",
    "WaPOR provides numerous datasets related to vegetation productivity and water consumption, and associated meteorological and physical conditions such as soil moisture and precipitation. These datasets can be combined with Digital Earth Africa products, services, and workflows for numerous applications including:\n",
    "\n",
    "* Monitoring drought conditions\n",
    "* Monitoring the water use efficiency of crops\n",
    "* Mapping irrigated areas\n",
    "* Estimating crop water requirements\n",
    "* Irrigation scheduling and budgeting\n",
    "\n",
    "The applications of WaPOR data go beyond water productivity and agriculture. Any application that would benefit from hydrological information and/or vegetation productivity could use WaPOR data."
   ]
  },
  {
   "cell_type": "markdown",
   "id": "3d0d5edd-f9af-41c1-9c46-a2eb300cc713",
   "metadata": {
    "tags": []
   },
   "source": [
    "### Specifications"
   ]
  },
  {
   "cell_type": "markdown",
   "id": "9b069fc5-59d1-41c2-9682-a99019391ab0",
   "metadata": {},
   "source": [
    "#### Spatial and temporal coverage"
   ]
  },
  {
   "cell_type": "markdown",
   "id": "2f1fd227-5b30-4bcb-9609-ee82b2a89dd6",
   "metadata": {},
   "source": [
    "WaPOR data has three levels:\n",
    "\n",
    "1. Global 300m resolution\n",
    "2. National 100m resolution (note that this now covers the African continent)\n",
    "3. Sub-national 20m resolution"
   ]
  },
  {
   "cell_type": "markdown",
   "id": "a9160c67-503f-4830-a96d-1bf793a62a85",
   "metadata": {},
   "source": [
    "The table below covers L1 and L2 datasets. L3 datasets can be viewed in the [WaPOR maps platform](https://data.apps.fao.org/wapor/?lang=en) which is built with the same software as [Digital Earth Africa Maps](https://maps.digitalearth.africa/). L3 datasets cover several regions of interest in northern and eastern Africa. This notebook loads level 3 20m data for Egypt. It is recommended that the [WaPOR maps platform](https://data.apps.fao.org/wapor) is inspected to check the availability of level, variable, and temporal frequency combinations for your area of interest. The maps platform also shows map codes in the data description.\n",
    "\n",
    "Mapset codes are structured as `level-variable-temporal` frequency as shown below. The temporal frequencies available are:\n",
    "\n",
    "* A - annual\n",
    "* M - monthly\n",
    "* D - dekadal (10 days)\n",
    "\n",
    "So, for level 3 net primary productivity at dekadal intervals the code is `L3-NPP-D`."
   ]
  },
  {
   "cell_type": "markdown",
   "id": "6c7c0d62-4edc-4105-b584-d39e45360653",
   "metadata": {},
   "source": [
    "**Table 1: L1 and L2 dataset details.**\n",
    "\n",
    "|Mapset Code|Mapset Description|Units|Scale Factor|\n",
    "|---|---|--------------|----|\n",
    "|L1-AETI-A|Actual EvapoTranspiration and Interception (Global - Annual - 300m)|mm/year|0.1|\n",
    "|L1-AETI-D|Actual EvapoTranspiration and Interception (Global - Dekadal - 300m)|mm/day|0.1|\n",
    "|L1-AETI-M|Actual EvapoTranspiration and Interception (Global - Monthly - 300m)|mm/month|0.1|\n",
    "|L1-E-A|Evaporation (Global - Annual - 300m)|mm/year|0.1|\n",
    "|L1-E-D|Evaporation (Global - Dekadal - 300m)|mm/day|0.1|\n",
    "|L1-GBWP-A|\tGross biomass water productivity (Annual - 300m)|kg/m$^3$|0.001|\n",
    "|L1-I-A|Interception (Global - Annual - 300m)|mm/year|0.1|\n",
    "|L1-I-D|Interception (Global - Dekadal - 300m)|mm/year|0.1|\n",
    "|L1-NBWP-A|Net biomass water productivity (Annual - 300m)|kg/m$^3$|0.001|\n",
    "|L1-NPP-D|Net Primary Production (Global - Dekadal - 300m)|gC/m$^2$/day|0.001|\n",
    "|L1-NPP-M|Net Primary Production (Global - Monthly - 300m)|gC/m$^2$/month|0.001|\n",
    "|L1-PCP-A|Precipitation (Global - Annual - Approximately 5km)|mm/year|0.1|\n",
    "|L1-PCP-D|Precipitation (Global - Dekadal - Approximately 5km)|mm/day|0.1|\n",
    "|L1-PCP-E|Precipitation (Global - Daily - Approximately 5km)|mm|0.1|\n",
    "|L1-PCP-M|Precipitation (Global - Monthly - Approximately 5km)|mm/month|0.1|\n",
    "|L1-QUAL-LST-D|Quality land surface temperature (Global - Dekadal - 300m)|d|1|\n",
    "|L1-QUAL-NDVI-D|Quality of Normalized Difference Vegetation Index (Global - Dekadal - 300m)|Number of dekads (D)||\n",
    "|L1-RET-A|Reference Evapotranspiration (Global - Annual - Approximately 30km)|mm/year|0.1|\n",
    "|L1-RET-D|Reference Evapotranspiration (Global - Dekadal - Approximately 30km)|mm/day|0.1|\n",
    "|L1-RET-E|Reference Evapotranspiration (Global - Daily - Approximately 30km)|mm/day|0.1|\n",
    "|L1-RET-M|Reference Evapotranspiration (Global - Monthly - Approximately 30km)|mm/month|0.1|\n",
    "|L1-RSM-D|Relative Soil Moisture (Global - Dekadal - 300m)|%|0.001|\n",
    "|L1-T-A|Transpiration (Global - Annual - 300m)|mm/year|0.1|\n",
    "|L1-T-D|Transpiration (Global - Dekadal - 300m)|mm/day|0.1|\n",
    "|L1-TBP-A|Total Biomass Production (Global - Annual - 300m)|kg/ha|1|\n",
    "|L2-AETI-A|Actual EvapoTranspiration and Interception (National - Annual - 100m)|mm/year|0.1|\n",
    "|L2-AETI-D|Actual EvapoTranspiration and Interception (National - Annual - 100m)|mm/day|0.1|\n",
    "|L2-AETI-M|Actual EvapoTranspiration and Interception (National - Annual - 100m)|mm/month|0.1|\n",
    "|L2-E-A|Evaporation (National - Annual - 100m)|mm/year|0.1|\n",
    "|L2-E-D|Evaporation (National - Dekadal - 100m)|mm/day|0.1|\n",
    "|L2-GBWP-A|Gross biomass water productivity (Annual - 100m)|kg/m$^3$|0.001|\n",
    "|L2-I-A|Interception (National - Annual - 100m)|mm/year|0.1|\n",
    "|L2-I-D|Interception (National - Dekadal - 100m)|mm/day|0.1|\n",
    "|L2-NBWP-A|Net biomass water productivity (Annual - 100m)|kg/m$^3$|0.001|\n",
    "|L2-NPP-D|Net Primary Production (National - Dekadal - 100m)|gC/m$^2$/day|0.001|\n",
    "|L2-NPP-M|Net Primary Production (National - Monthly - 100m)|gC/m$^2$/month|0.001|\n",
    "|L2-QUAL-NDVI-D|Quality of normalized difference vegetation index (National - Dekadal - 100m)|d|1|\n",
    "|L2-RSM-D|Relative Soil Moisture (National - Dekadal - 100m)|%|0.001|\n",
    "|L2-T-A|Transpiration (National - Annual - 100m)|mm/year|0.1|\n",
    "|L2-T-D|Transpiration (National - Dekadal - 100m)|mm/day|0.1|\n",
    "|L2-TBP-A|Total Biomass Production (National - Annual - 100m)|kg/ha|1|"
   ]
  },
  {
   "cell_type": "markdown",
   "id": "62fdbe5b-b3af-4e6d-9866-a0393e4b66df",
   "metadata": {},
   "source": [
    "Data is available for the region shaded in blue."
   ]
  },
  {
   "cell_type": "markdown",
   "id": "3679367b-0b1b-435d-bbba-c1848d103a53",
   "metadata": {},
   "source": [
    "**Figure 1: World Settlement Footprint product geographic extent**"
   ]
  },
  {
   "cell_type": "markdown",
   "id": "d8b8526b-1a2f-4805-971c-28cb679dca53",
   "metadata": {},
   "source": [
    "<img src=\"../_static/data_specs/ESA_WorldCover_specs/esa_worldcover_geographic_extent.png\" alt=\"ESA WorldCover Geographic Extent\" width=\"300\" align=\"left\"/>"
   ]
  },
  {
   "cell_type": "markdown",
   "id": "bcf766b3-2367-4a97-8633-2612bd866623",
   "metadata": {},
   "source": [
    "#### Measurements"
   ]
  },
  {
   "cell_type": "markdown",
   "id": "c78884a5-32b8-4635-b92b-37e20e88bb2c",
   "metadata": {},
   "source": [
    "**Table 2: World Settlement Footprint product measurements**"
   ]
  },
  {
   "cell_type": "markdown",
   "id": "4e2340d9-885c-47ce-906a-e31348a0961d",
   "metadata": {},
   "source": [
    "| Band ID | Description | Units | Data type | No data$^\\dagger$ |\n",
    "|:------------------------------|:--------------|:--------|:--------|---------:|\n",
    "| wsf_2015 | World Settlement Footprint 2015 | 1 | uint8 | 0.0 |\n",
    "| wsf_2019 | World Settlement Footprint 2019 | 1 | uint8 | 0.0 |\n",
    "| wsfevolution | World Settlement Footprint Evolution | 1 | uint8 | 0.0 |\n",
    "| idcscore | Input Data Consistency score | 1 | uint8 | 0.0 |"
   ]
  },
  {
   "cell_type": "markdown",
   "id": "adba0ca2-fd22-4d54-8979-be0b353ecb37",
   "metadata": {},
   "source": [
    "### Processing"
   ]
  },
  {
   "cell_type": "markdown",
   "id": "6dcc1738-fa41-4584-a5dc-4ca14ccd4318",
   "metadata": {},
   "source": [
    "The **World Settlement Footprint WSF 2015 version 2** (WSF2015 v2) is a 10m resolution binary mask outlining the extent of human settlements globally for the year 2015. Specifically, the WSF2015 v2 is a pilot product generated by combining multiple datasets.The **World Settlement Footprint (WSF) 2015** derived at 10m spatial resolution by means of 2014-2015 multitemporal Landsat-8 and Sentinel-1 imagery (of which ~217K and ~107K scenes have been processed, respectively). The High Resolution Settlement Layer (HRSL) generated by the Connectivity Lab team at Facebook through the employment of 2016 DigitalGlobe VHR satellite imagery and publicly released at 30m spatial resolution for 214 countries (Marconcini et al., 2020).\n",
    "\n",
    "The **World Settlement Footprint (WSF) 2019** is a 10m resolution binary mask outlining the extent of human settlements globally derived by means of 2019 multitemporal Sentinel-1 (S1) and Sentinel-2 (S2) imagery. Based on the hypothesis that settlements generally show a more stable behavior with respect to most land-cover classes, temporal statistics are calculated for both S1- and S2-based indices. In particular, a comprehensive analysis has been performed by exploiting a number of reference building outlines to identify the most suitable set of temporal features (ultimately including 6 from S1 and 25 from S2). Training points for the settlement and non-settlement class are then generated by thresholding specific features, which varies depending on the 30 climate types of the well-established Köppen Geiger scheme. Next, binary classification based on Random Forest is applied and, finally, a dedicated post-processing is performed where ancillary datasets are employed to further reduce omission and commission errors. Here, the whole classification process has been entirely carried out within the Google Earth Engine platform. To assess the high accuracy and reliability of the WSF2019, two independent crowd-sourcing-based validation exercises have been carried out with the support of Google and Mapswipe, respectively, where overall 1M reference labels have been collected based photointerpretation of very high-resolution optical imagery (Marconcini et al., 2021).\n",
    "\n",
    "The **World Settlement Footprint (WSF Evolution)** is a 30m resolution dataset outlining the global settlement extent on a yearly basis from 1985 to 2015. Based on the assumption that settlement growth occurred over time, all pixels categorized as non-settlement in the WSF2015 (Marconcini et al., 2020) are excluded a priori from the analysis. Next, for each target year in the past, all available Landsat-5/7 scenes acquired over the given area of interest are gathered and key temporal statistics (i.e., temporal mean, minimum, maximum, etc.) are then extracted for different spectral indices. Among others, these include: the normalized difference built-up index (NDBI), normalized difference vegetation index (NDVI) and modified normalized difference water index (MNDWI). Temporal features proved generally robust if computed over at least 7 clear cloud-/cloud-shadow-free observations; accordingly, if for a given pixel in the target year this constraint is not satisfied, the time frame is enlarged backwards (at 1-year steps) as long as the condition is met.\n",
    "\n",
    "Starting backwards from the year 2015 - for which the WSF2015 is used as a reference - settlement and non-settlement training samples for the given target year t are iteratively extracted by applying morphological filtering to the settlement mask derived for the year t+1, as well as excluding potentially mislabeled samples by adaptively thresholding the temporal mean NDBI, MNDWI and NDVI. Finally, binary Random Forest classification in performed.\n",
    "\n",
    "To quantitatively assess the high accuracy and reliability of the dataset, an extensive campaign based on crowdsourcing photointerpretation of very high-resolution airborne and satellite historical imagery has been performed with the support of Google. In particular, for the years 1990, 1995, 2000, 2005, 2010 and 2015, ~200K reference cells of 30x30m size distributed over 100 sites around the world have been labelled, hence summing up to overall ~1.2M validation samples.\n",
    "\n",
    "It is worth noting that past Landsat-5/7 availability considerably varies across the world and over time. Independently from the implemented approach, this might then result in a lower quality of the final product where few/no scenes have been collected. Accordingly, to provide the users with a suitable and intuitive measure that accounts for the goodness of the Landsat imagery, we conceived the Input Data Consistency (IDC) score, which ranges from 6 to 1 with: 6) very good; 5) good; 4) fair; 3) moderate; 2) low; 1) very low. The IDC score is available on a yearly basis between 1985 and 2015 and supports a proper interpretation of the WSF evolution product.\n",
    "\n",
    "The WSF evolution and IDC score datasets are organized in 5138 GeoTIFF files (EPSG4326 projection) each one referring to a portion of 2 x 2 degree size (~222 x 222 km) on the ground. WSF evolution values range between 1985 and 2015 corresponding to the estimated year of settlement detection, whereas 0 is no data. A comprehensive publication with all technical details and accuracy figures is currently being finalized. For the time being, please refer to [Marconcini et al,. 2021](https://austriaca.at/0xc1aa5576%200x003c9b4c.pdf)."
   ]
  },
  {
   "cell_type": "markdown",
   "id": "2c830377-198a-40c6-a7ca-c74d9a1f0531",
   "metadata": {},
   "source": [
    "### Media and example images"
   ]
  },
  {
   "cell_type": "markdown",
   "id": "48e89e84-0cd1-454f-962c-b16530f25c55",
   "metadata": {},
   "source": [
    "**Figure 2: World Settlement Footprint over Kumasi, Ghana**"
   ]
  },
  {
   "cell_type": "markdown",
   "id": "59000d3c-a17e-4561-9190-badd383ebf73",
   "metadata": {},
   "source": [
    "<img src=\"../_static/data_specs/WSF/WorldSettlementFootprint_1.png\" alt=\"wsf 2015 and 2019\" width=\"600\" align=\"left\"/>"
   ]
  },
  {
   "cell_type": "markdown",
   "id": "665e68a2-8de2-43e6-bbdb-8c6c447f433d",
   "metadata": {},
   "source": [
    "**Figure 3: World Settlement Footprint over Harare, Zimbabwe**"
   ]
  },
  {
   "cell_type": "markdown",
   "id": "c5c2592b-c78d-44bf-8739-b79a66a7e2ec",
   "metadata": {},
   "source": [
    "<img src=\"../_static/data_specs/WSF/WorldSettlementFootprint_2.png\" alt=\"wsf 2015 and 2019\" width=\"600\" align=\"left\"/>"
   ]
  },
  {
   "cell_type": "markdown",
   "id": "5b84728b-bcdf-42ab-9e0d-cc85191b0e78",
   "metadata": {},
   "source": [
    "**Figure 4: World Settlement Footprint Evolution over Mansoura, Egypt with IDC score for the image**"
   ]
  },
  {
   "cell_type": "markdown",
   "id": "8341d1ed-111b-4e5c-9248-7aad93f90a67",
   "metadata": {},
   "source": [
    "<img src=\"../_static/data_specs/WSF/WorldSettlementFootprinEvolution.png\" alt=\"World Settlement Footprint Evolution\" width=\"600\" align=\"left\"/>"
   ]
  },
  {
   "cell_type": "markdown",
   "id": "7519d955-16f1-4f5a-908c-d8eb0964bbb0",
   "metadata": {},
   "source": [
    "### References"
   ]
  },
  {
   "cell_type": "markdown",
   "id": "ee1b71a1-222b-4ce7-9da2-aa3d83cbd1e0",
   "metadata": {},
   "source": [
    "Mapping our human footprint from space(Accessed on 2023 August). ESA - Mapping Our Human Footprint From Space. https://www.esa.int/Applications/Observing_the_Earth/Mapping_our_human_footprint_from_space\n",
    "\n",
    "Marconcini, M., Metz-Marconcini, A., Üreyen, S. et al. Outlining where humans live, the World Settlement Footprint 2015. Sci Data 7, 242 (2020). https://doi.org/10.1038/s41597-020-00580-5\n",
    "\n",
    "Mattia Marconcini, Annekatrin Metz-Marconcini, Thomas Esch and Noel Gorelick. Understanding Current Trends in Global Urbanisation - The World Settlement Footprint Suite. GI_Forum 2021, Issue 1, 33-38 (2021) https://austriaca.at/0xc1aa5576%200x003c9b4c.pdf\n",
    "\n",
    "G.D.Team (Accessed on 2023 August). EOC Geoservice Map Contexts. EOC Geoservice Map Contexts. https://geoservice.dlr.de/web/maps"
   ]
  },
  {
   "cell_type": "markdown",
   "id": "da135198-725c-4ce9-8466-dbb85d1e42d6",
   "metadata": {},
   "source": [
    "### License and Acknowledgements"
   ]
  },
  {
   "cell_type": "markdown",
   "id": "052ebd65-218b-4c9e-b3be-0874b7164684",
   "metadata": {},
   "source": [
    "The World Settlement Footprint is provided free of charge, without restriction of use. For the full license information see the [Creative Commons Attribution 4.0 International License](https://creativecommons.org/licenses/by/4.0/)."
   ]
  },
  {
   "cell_type": "markdown",
   "id": "1a9d1ba4-af9c-4287-8346-2df56dd88a8b",
   "metadata": {},
   "source": [
    "## Data Acess"
   ]
  },
  {
   "cell_type": "markdown",
   "id": "07582425-6810-47a1-9d15-6277f05e2817",
   "metadata": {},
   "source": [
    "### Amazon Web Service"
   ]
  },
  {
   "cell_type": "markdown",
   "id": "d601693c-c60a-436b-81c4-64277a468fcf",
   "metadata": {},
   "source": [
    "The World Settlement Footprint 10m 2015 2019, Evolution products are avaliable in AWS S3."
   ]
  },
  {
   "cell_type": "markdown",
   "id": "c2eb0c94-00e3-49cd-b21f-9cb4cdaf5483",
   "metadata": {},
   "source": [
    "**Table 3: AWS data acess details.**"
   ]
  },
  {
   "cell_type": "markdown",
   "id": "5576cd24-ae31-4d90-a1f2-a6ad20ab16a3",
   "metadata": {},
   "source": [
    "|AWS S3 details | |\n",
    "|----------|-------------|\n",
    "|Bucket ARD | `arn:aws:s3:::wsf_{year}`|\n",
    "|Bucket | `deafrica-input-datasets` |"
   ]
  },
  {
   "cell_type": "markdown",
   "id": "e2899e73-5710-4306-9b4d-fbc887736ab2",
   "metadata": {},
   "source": [
    "The products are hosted on the `wsf_{year}` S3 bucket in the AWS `deafrica-input-datasets`. \n",
    "\n",
    "The file paths follow the format:\n",
    "`s3://deafrica-input-datasets/wsf_{year}/`"
   ]
  },
  {
   "cell_type": "markdown",
   "id": "2be1d378-0d77-4da6-bd7a-42dcbd7429fe",
   "metadata": {},
   "source": [
    "### OGC Web Services (OWS)"
   ]
  },
  {
   "cell_type": "markdown",
   "id": "1b829dc7-a1dd-4c9e-b692-8acb125b7111",
   "metadata": {},
   "source": [
    "The World Settlement Footprint 10m product `wsf_2015`, `wsf_2019`, `wsf_evolution` are available through the Digital Earth Africa's OWS. "
   ]
  },
  {
   "cell_type": "markdown",
   "id": "e1dbadfa-634b-4cca-8dc2-8305d3c69ff3",
   "metadata": {},
   "source": [
    "**Table 4: OWS data access details.**"
   ]
  },
  {
   "cell_type": "markdown",
   "id": "bb548dd2-75af-42ac-b4aa-372d23ef3511",
   "metadata": {},
   "source": [
    "|OWS details | |\n",
    "|----------|-------------|\n",
    "|Name | `DE Africa Services` |\n",
    "|Web Map Services (WMS) URL | `https://ows.digitalearth.africa/wms` |\n",
    "| Web Coverage Service (WCS) URL | `https://ows.digitalearth.africa/wcs`|\n",
    "| Layer name | `wsf_{year}` |"
   ]
  },
  {
   "cell_type": "markdown",
   "id": "bd8f6cf5-63d6-47bb-8099-9cba792d91ba",
   "metadata": {},
   "source": [
    "Digital Earth Africa OWS details can be found at [https://ows.digitalearth.africa/](https://ows.digitalearth.africa/).\n",
    "\n",
    "For instructions on how to connect to OWS, see [this tutorial](../web_services/index.ipynb)."
   ]
  },
  {
   "cell_type": "markdown",
   "id": "929404c6-eb18-4f7e-989a-982d1e293af4",
   "metadata": {
    "tags": []
   },
   "source": [
    "### Open Data Cube (ODC)"
   ]
  },
  {
   "cell_type": "markdown",
   "id": "fb174cbf-e68e-4498-b99d-fd5fbbdd76c8",
   "metadata": {},
   "source": [
    "The World Settlement Footprint product can be accessed through the Digital Earth Africa ODC API, which is available through the [Digital Earth Africa Sandbox](https://sandbox.digitalearth.africa/hub/login).\n",
    "\n",
    "**ODC product name:** `wsf_{year}` and `wsf_evolution`"
   ]
  },
  {
   "cell_type": "markdown",
   "id": "97de7070-4c2e-4f52-ad07-d6d4bfa35bdb",
   "metadata": {},
   "source": [
    "The `wsf_{year}` product has only one specific band of data which can be called by using the default name, `wsf{year}`, as listed in the table below. \n",
    "ODC `Datacube.load` commands without specified bands will load the  `wsf_{year}`  band."
   ]
  },
  {
   "cell_type": "markdown",
   "id": "dfc010e6-5f0c-4804-979c-b374c669fb85",
   "metadata": {},
   "source": [
    "**Table 5: ODC product World Settlement Footprint band names.**"
   ]
  },
  {
   "cell_type": "markdown",
   "id": "0056560e-fa48-4666-89da-e7b682e1b1a5",
   "metadata": {},
   "source": [
    "|Band name| Alternative names| Fill value |\n",
    "| :-: | :-: | :-: |\n",
    "| wsf{year}                | NaN        |      `0.0` |\n",
    "| wsfevolution                | NaN        |      `0.0` |"
   ]
  }
 ],
 "metadata": {
  "kernelspec": {
   "display_name": "Python 3 (ipykernel)",
   "language": "python",
   "name": "python3"
  },
  "language_info": {
   "codemirror_mode": {
    "name": "ipython",
    "version": 3
   },
   "file_extension": ".py",
   "mimetype": "text/x-python",
   "name": "python",
   "nbconvert_exporter": "python",
   "pygments_lexer": "ipython3",
   "version": "3.10.12"
  }
 },
 "nbformat": 4,
 "nbformat_minor": 5
}
