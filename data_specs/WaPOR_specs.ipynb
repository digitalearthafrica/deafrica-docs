{
 "cells": [
  {
   "cell_type": "markdown",
   "id": "8a4807bc-69b2-47b6-87bd-a214620f91ba",
   "metadata": {
    "tags": []
   },
   "source": [
    "# Water Productivity through Open-access of Remotely sensed derived data (WaPOR)\n",
    "\n",
    "* **Products used:** WaPOR"
   ]
  },
  {
   "cell_type": "markdown",
   "id": "e7883387-d769-4de1-a031-1d8e2955fa6a",
   "metadata": {},
   "source": [
    "**Date modified:** 25 November 2024"
   ]
  },
  {
   "cell_type": "markdown",
   "id": "ebb5fa6b-e955-452e-9876-0864c4303cd6",
   "metadata": {},
   "source": [
    "## Background\n",
    "\n",
    "The **Wa**ter **P**roductivity through **O**pen access of **R**emotely sensed derived data **(WaPOR)** monitors and reports on agricultural water productivity through biophysical measures with a focus on Africa and the Near East. This information assists partner countries improve land and water productivity in both rainfed and irrigated agriculture.\n",
    "\n",
    "WaPOR provides numerous datasets related to vegetation productivity and water consumption, and associated meteorological and physical conditions such as soil moisture and precipitation. These datasets can be combined with Digital Earth Africa products, services, and workflows for numerous applications including:\n",
    "\n",
    "* Monitoring drought conditions\n",
    "* Monitoring the water use efficiency of crops\n",
    "* Mapping irrigated areas\n",
    "* Estimating crop water requirements\n",
    "* Irrigation scheduling and budgeting\n",
    "\n",
    "The applications of WaPOR data go beyond water productivity and agriculture. Any application that would benefit from hydrological information and/or vegetation productivity could use WaPOR data."
   ]
  },
  {
   "cell_type": "markdown",
   "id": "9370490c-11c3-4d43-ad42-eedf9c6aa5a0",
   "metadata": {},
   "source": [
    "## Specifications\n",
    "\n",
    "### Spatial and temporal coverage\n",
    "WaPOR data has three levels:\n",
    "\n",
    "1. Global 300m resolution\n",
    "2. National 100m resolution\n",
    "3. Sub-national 20m resolution\n",
    "\n",
    "**Figure 1: WaPOR data spatial coverage.**\n",
    "\n",
    "<img src=\"../_static/data_specs/iSDA_Soil_Bedrock_Depth_specs/isda_geographic_extent.png\" alt=\"iSDA Soil Geographic Extent\" width=\"300\" align=\"left\"/>\n",
    "\n",
    "<div style=\"clear: left;\"></div> <!-- Add this to clear the left float -->\n",
    "### Products"
   ]
  },
  {
   "cell_type": "markdown",
   "id": "414837e0-cb2c-4a30-97ac-9c398c42777f",
   "metadata": {},
   "source": [
    "**Table 1: iSDA soil products available on the DE Africa platform.**\n",
    "\n",
    "|Variable|Access Name|Layers|\n",
    "|---|---|---|\n",
    "|Depth to bedrock|bedrock_depth|0-200cm depth, predicted mean and standard deviation|\n",
    "|Bulk density, <2mm fraction|bulk_density|0-20cm and 20-50cm, predicted mean and standard deviation|\n",
    "|Carbon, total|carbon_total|0-20cm and 20-50cm, predicted mean and standard deviation|\n",
    "|Clay content|clay_content|0-20 cm and 20-50 cm, predicted mean and standard deviation|\n",
    "|Sand content|sand_content|0-20cm and 20-50cm, predicted mean and standard deviation|\n",
    "|Silt content|silt_content|0-20cm and 20-50cm, predicted mean and standard deviation|"
   ]
  },
  {
   "cell_type": "markdown",
   "id": "0789ec6b-6a85-4179-941d-7f6da7181208",
   "metadata": {},
   "source": [
    "Relevant metadata for the iSDA soil products, as well as the specific temporal and geographic extents for the product can be explored as an interactive map on the [DE Africa Metadata Explorer](https://explorer.digitalearth.africa/products/isda_soil_bedrock_depth). \n",
    "Data is available for the shaded region. A [Jupyter Notebook](https://docs.digitalearthafrica.org/en/latest/sandbox/notebooks/Datasets/iSDAsoil.html) which demonstrates loading and using iSDA soil products in the Sandbox is also available.\n",
    "\n",
    "\n",
    "\n",
    "\n",
    "#### Technical information\n",
    "\n",
    "Spatial prediction of soil properties in the iSDA product suite was undertaken with five regression modelling algorithms. The prediction process utilises field data in combination with covariates such as topographic and surface reflectance data. Further technical information on iSDA products, and links to academic papers describing the methodology, can be found on the [iSDA technical information page](https://www.isda-africa.com/isdasoil/technical-information/).\n",
    "\n",
    "#### References\n",
    "Miller MAE, Shepherd KD, Kisitu B, Collinson J (2021) iSDAsoil: The first continent-scale soil property map at 30 m resolution provides a soil information revolution for Africa. PLoS Biol 19(11): e3001441. https://doi.org/10.1371/journal.pbio.3001441\n",
    "\n",
    "#### License and Acknowledgements\n",
    "This data is licensed under a Creative Commons by Attribution (CC BY 4.0) license.\n",
    "\n",
    "Credits: iSDA\n",
    "\n",
    "#### Product Details\n",
    "The specifications for the six products listed above in Table 1 are described in succession below.\n",
    "\n",
    "------------------------------------------------------------------"
   ]
  }
 ],
 "metadata": {
  "kernelspec": {
   "display_name": "Python 3 (ipykernel)",
   "language": "python",
   "name": "python3"
  },
  "language_info": {
   "codemirror_mode": {
    "name": "ipython",
    "version": 3
   },
   "file_extension": ".py",
   "mimetype": "text/x-python",
   "name": "python",
   "nbconvert_exporter": "python",
   "pygments_lexer": "ipython3",
   "version": "3.10.12"
  }
 },
 "nbformat": 4,
 "nbformat_minor": 5
}
