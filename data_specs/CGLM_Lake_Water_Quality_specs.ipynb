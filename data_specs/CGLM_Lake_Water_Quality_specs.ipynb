{
 "cells": [
  {
   "cell_type": "markdown",
   "metadata": {},
   "source": [
    "# Copernicus Global Land Service Lake Water Quality"
   ]
  },
  {
   "cell_type": "raw",
   "metadata": {
    "raw_mimetype": "text/restructuredtext"
   },
   "source": [
    ".. contents::\n",
    "   :local:"
   ]
  },
  {
   "cell_type": "markdown",
   "metadata": {},
   "source": [
    "**Date modified:** 23 July 2025"
   ]
  },
  {
   "cell_type": "markdown",
   "metadata": {},
   "source": [
    "## Overview"
   ]
  },
  {
   "cell_type": "markdown",
   "metadata": {},
   "source": [
    "### Background\n",
    "The Copernicus Global Land Service – Lake Water Quality products offer a comprehensive, satellite-derived monitoring system for assessing key water quality indicators in major large lakes, typically those greater than 50 hectares. These datasets are generated using optical satellite sensors, primarily Sentinel-2 MSI and Sentinel-3 OLCI, with earlier archives derived from Envisat MERIS. Spanning multiple spatial resolutions (100 m and 300 m) and temporal scales (10-day composites), they support both near-real-time and retrospective assessments of inland water quality.\n",
    "\n",
    "Key parameters include surface reflectance, turbidity, total suspended matter (TSM), chlorophyll-a concentration, trophic state index, and floating cyanobacteria risk—all essential for monitoring eutrophication, ecological health, and harmful algal blooms (HABs). The datasets cover the period from 2002 to the present, providing long-term continuity for environmental monitoring and scientific research, with focused coverage in Europe and Africa.\n",
    "\n",
    "All products are delivered using standardized geospatial grids (EPSG:4326) and include quality flags, detailed metadata, and validation against in situ observations to ensure reliability. Continuous improvements across product versions—such as enhanced atmospheric correction and updated retrieval algorithms—have significantly improved accuracy and usability. In addition, comprehensive user manuals, technical documentation, and support materials are available, making the data highly accessible to researchers, policymakers, and environmental managers.\n",
    "\n",
    "Digital Earth Africa (DE Africa) hosts these datasets for the African region, providing free and open access to both the data and associated tools through the DE Africa Sandbox. Below are the Copernicus Global Land Service Lake Water Quality products available via DE Africa."
   ]
  },
  {
   "cell_type": "markdown",
   "metadata": {},
   "source": [
    "- **Copernicus Global Land Service – Lake Water Quality 2019-2024 (raster 100 m), global, 10-daily – version 1**\n",
    "\n",
    "  The dataset provides high-resolution composites of key lake water quality parameters—such as turbidity, trophic state index, and surface reflectance—derived from Sentinel-2 MSI observations. Covering the period from 2019 to 2024, it offers global data with a focus on Africa, updated within four days after each dekad. This version is designed for retrospective environmental monitoring and supports long-term assessment of lake ecosystem health and water clarity trends. For more details, general information is available [here](https://land.copernicus.eu/en/products/water-bodies/lake-water-quality-v1-0-100m), and the [Product Manual](https://land.copernicus.eu/en/technical-library/product-user-manual-lake-water-quality-v1.0/@@download/file) provides comprehensive technical guidance.\n",
    "\n",
    "- **Copernicus Global Land Service – Lake Water Quality 2024 - present (raster 100 m), 10-daily – version 2**\n",
    "\n",
    "  This is a high-resolution Earth observation dataset designed to monitor the ecological status of inland water bodies. Based on Sentinel-2 MSI imagery, it provides 10-day composites of key lake water quality parameters—including turbidity, chlorophyll‑a concentration, total suspended matter, and cyanobacteria risk—at a 100 m spatial resolution. This second version introduces improved atmospheric correction, direct retrieval of turbidity from water-leaving reflectance, and additional quality flags to enhance the reliability of observations. With near-real-time updates available within three days after each dekad, the dataset supports environmental monitoring, water resource management, and early warning systems for water-related hazards across diverse lake systems globally. For more details, general information is available [here](https://land.copernicus.eu/en/products/water-bodies/lake-water-quality-v2-0-100m), and the [Product Manual](https://land.copernicus.eu/en/technical-library/product-user-manual-lake-water-quality-100m-version-2.0/@@download/file) provides comprehensive technical guidance.\n",
    "\n",
    "- **Copernicus Global Land Service – Lake Water Quality 2002-2012 (raster 300 m), global, 10-daily – version 1**\n",
    "\n",
    "  This dataset provides 10-day composites of water quality parameters—such as turbidity, trophic state index, and surface reflectance—at 300 m resolution for lakes globally. Based on MERIS satellite observations, it supports historical analysis of lake ecosystem health and water clarity. The archive is especially valuable for long-term monitoring and retrospective studies of medium to large lakes worldwide. For more details, general information is available [here]( https://land.copernicus.eu/en/products/water-bodies/lake-water-quality-offline-v1-0-300m), and the [Product Manual](https://land.copernicus.eu/en/technical-library/product-user-manual-lake-water-quality-v1-1.0/@@download/file) provides comprehensive technical guidance.\n",
    "  \n",
    "- **Copernicus Global Land Service – Lake Water Quality 2016-2024 (raster 300 m), global, 10-daily – version 1**\n",
    "\n",
    "  This global product delivers 10-day composites of key lake water quality parameters—including turbidity, trophic state index, and surface reflectance—on a 300 m grid derived from Sentinel‑3 OLCI data. Available from April 30, 2016, through October 2024, it provides near-real-time updates within three days after each dekad and covers medium to large lakes worldwide. Designed for monitoring ecosystem health and water clarity trends, it supports applications in environmental management, research, and water quality assessment. For more details, general information is available [here](https://land.copernicus.eu/en/products/water-bodies/lake-water-quality-near-real-time-v1-0-300m), and the [Product Manual](https://land.copernicus.eu/en/technical-library/product-user-manual-lake-water-quality-v1-1.0/@@download/file)  provides comprehensive technical guidance.\n",
    "  \n",
    "- **Copernicus Global Land Service – Lake Water Quality 2024 - present (raster 300 m), global, 10-daily – version 2**\n",
    "\n",
    "  The Lake Water Quality 2024–present dataset provides global 10-day composites of key water quality parameters at 300 m resolution, derived from Sentinel-3 OLCI observations. Version 2 enhances the dataset by introducing additional indicators such as chlorophyll‑a, total suspended matter, cyanobacteria risk, and associated quality metrics. It supports real-time monitoring of freshwater ecosystems and is updated within three days of each dekad, enabling timely assessment of water clarity and biological activity in lakes worldwide. For more details, general information is available [here](https://land.copernicus.eu/en/products/water-bodies/lake-water-quality-near-real-time-v2-0-300m), and the [Product Manual]( https://land.copernicus.eu/en/technical-library/product-user-manual-lake-water-quality-v2/@@download/file) provides comprehensive technical guidance."
   ]
  },
  {
   "cell_type": "markdown",
   "metadata": {},
   "source": [
    "### Specifications"
   ]
  },
  {
   "cell_type": "markdown",
   "metadata": {},
   "source": [
    "Relevant coverage and metadata for each of the datasets can be viewed on DE Africa [Metadata Explorer](https://explorer.digitalearth.africa/products):\n",
    "\n",
    "- [Copernicus Global Land Service – Lake Water Quality 2019-2024 (raster 100 m), global, 10-daily – version 1](https://explorer.digitalearth.africa/products/cgls_lwq100_2019_2024)\n",
    "- [Copernicus Global Land Service – Lake Water Quality 2024 - present (raster 100 m), 10-daily – version 2](https://explorer.digitalearth.africa/products/cgls_lwq100_2024_nrt)\n",
    "- [Copernicus Global Land Service – Lake Water Quality 2002-2012 (raster 300 m), global, 10-daily – version 1](https://explorer.digitalearth.africa/products/cgls_lwq300_2002_2012)\n",
    "- [Copernicus Global Land Service – Lake Water Quality 2016-2024 (raster 300 m), global, 10-daily – version 1](https://explorer.digitalearth.africa/products/cgls_lwq300_2016_2024)\n",
    "- [Copernicus Global Land Service – Lake Water Quality 2024 - present (raster 300 m), global, 10-daily – version 2](https://explorer.digitalearth.africa/products/cgls_lwq300_2024_nrt)\n",
    "\n",
    "A [Jupyter Notebook](https://github.com/digitalearthafrica/deafrica-sandbox-notebooks/blob/main/Datasets/CGLM_Lake_Water_Quality.ipynb) which demonstrates loading and using loading the products in the Sandbox is also available."
   ]
  },
  {
   "cell_type": "markdown",
   "metadata": {},
   "source": [
    "#### Copernicus Global Land Service – Lake Water Quality Products"
   ]
  },
  {
   "cell_type": "markdown",
   "metadata": {},
   "source": [
    "**Specifications** "
   ]
  },
  {
   "cell_type": "markdown",
   "metadata": {},
   "source": [
    "**Table 1: 100m Products**\n",
    "\n",
    "| Specification                   |     LWQ 2019–2024 (100 m) v1    |      LWQ 2024–present (100 m) v2     |\n",
    "| ------------------------------- | :-----------------------------: | :----------------------------------: |\n",
    "| **Cell size (metres)**          |            100 x 100            |               100 x 100              |\n",
    "| **Coordinate Reference System** |        EPSG:4326 (WGS 84)       |          EPSG:4326 (WGS 84)          |\n",
    "| **Temporal resolution**         |             10 days             |                10 days               |\n",
    "| **Temporal range**              |            2019–2024            |          2024–present (NRT)          |\n",
    "| **Version**                     |                1                |                   2                  |\n",
    "| **Parent dataset**              | Sentinel-2 MSI, Sentinel-3 OLCI |    Sentinel-2 MSI, Sentinel-3 OLCI   |\n",
    "| **Update frequency**            |       10-daily composites       | 10-daily composites (Near real-time) |\n",
    "| **Access**                      |   Free and open via DE Africa   |      Free and open via DE Africa     |\n",
    "\n",
    "---------------------------------\n",
    "\n",
    "**Table 2: 300m Products**\n",
    "\n",
    "| Specification                   |   LWQ 2002–2012 (300 m) v1  |    LWQ 2016–2024 (300 m) v1    |      LWQ 2024–present (300 m) v2     |\n",
    "| ------------------------------- | :-------------------------: | :----------------------------: | :----------------------------------: |\n",
    "| **Cell size (metres)**          |          300 x 300          |            300 x 300           |               300 x 300              |\n",
    "| **Coordinate Reference System** |      EPSG:4326 (WGS 84)     |       EPSG:4326 (WGS 84)       |          EPSG:4326 (WGS 84)          |\n",
    "| **Temporal resolution**         |           10 days           |             10 days            |                10 days               |\n",
    "| **Temporal range**              |          2002–2012          |            2016–2024           |          2024–present (NRT)          |\n",
    "| **Version**                     |              1              |                1               |                   2                  |\n",
    "| **Parent dataset**              |        Envisat MERIS        | Sentinel-3 OLCI, Envisat MERIS |            Sentinel-3 OLCI           |\n",
    "| **Update frequency**            |     10-daily composites     |       10-daily composites      | 10-daily composites (Near real-time) |\n",
    "| **Access**                      | Free and open via DE Africa |   Free and open via DE Africa  |      Free and open via DE Africa     |\n",
    "\n",
    "------------------------------------------------"
   ]
  },
  {
   "cell_type": "markdown",
   "metadata": {},
   "source": [
    "\n",
    "**Measurements**\n"
   ]
  },
  {
   "cell_type": "markdown",
   "metadata": {},
   "source": [
    "**Table 3: 100m Products**\n",
    "\n",
    "| Measurement                      | cgls\\_lwq100\\_2019\\_2024 | cgls\\_lwq100\\_2024\\_nrt |\n",
    "| -------------------------------- | :----------------------: | :---------------------: |\n",
    "| **Turbidity**                    |             ✅            |            ✅            |\n",
    "| **Trophic State Index**          |             ✅            |            ✅            |\n",
    "| **Surface Reflectance**          |             ✅            |            ✅            |\n",
    "| **Chlorophyll-a**                |             ❌            |            ✅            |\n",
    "| **Total Suspended Matter (TSM)** |             ❌            |            ✅            |\n",
    "| **Cyanobacteria Risk**           |             ❌            |            ✅            |\n",
    "| **Quality Flags**                |             ❌            |            ✅            |"
   ]
  },
  {
   "cell_type": "markdown",
   "metadata": {},
   "source": [
    "**Table 4: 300m Products**\n",
    "\n",
    "| Measurement                      | cgls\\_lwq300\\_2002\\_2012 | cgls\\_lwq300\\_2016\\_2024 | cgls\\_lwq300\\_2024\\_nrt |\n",
    "| -------------------------------- | :----------------------: | :----------------------: | :---------------------: |\n",
    "| **Turbidity**                    |             ✅            |             ✅            |            ✅            |\n",
    "| **Trophic State Index**          |             ✅            |             ✅            |            ✅            |\n",
    "| **Surface Reflectance**          |             ✅            |             ✅            |            ✅            |\n",
    "| **Chlorophyll-a**                |             ❌            |             ❌            |            ✅            |\n",
    "| **Total Suspended Matter (TSM)** |             ❌            |             ❌            |            ✅            |\n",
    "| **Cyanobacteria Risk**           |             ❌            |             ❌            |            ✅            |\n",
    "| **Quality Flags**                |             ❌            |             ❌            |            ✅            |\n",
    "\n",
    "\n",
    "\n",
    "-----------------------------"
   ]
  },
  {
   "cell_type": "markdown",
   "metadata": {},
   "source": [
    "### Geographic Extent\n",
    "\n",
    "All products in the Copernicus Lake Water Quality collection share the same geographic extent, as illustrated in Figure 1; data are available for the regions shaded in blue. Specific temporal and geographic extents for each product can be explored interactively using the Digital Earth Africa [Metadata Explorer](https://explorer.digitalearth.africa/products). Different Lake Water Quality products can be selected from the horizontal dropdown menu at the top of the page."
   ]
  },
  {
   "cell_type": "markdown",
   "metadata": {},
   "source": [
    "**Figure 1: Copernicus Lake Water Quality geographic extent**"
   ]
  },
  {
   "cell_type": "markdown",
   "metadata": {},
   "source": [
    "<img src=\"../_static/data_specs/CGLM_Lake_Water_Quality_specs/cgls_extent.png\" alt=\"Lake Water Quality data extent\" width=\"500\" align=\"left\"/>"
   ]
  },
  {
   "cell_type": "markdown",
   "metadata": {},
   "source": [
    "### Processing\n",
    "\n",
    "The complete processing methodology for these products is detailed in the Technical Manual."
   ]
  },
  {
   "cell_type": "markdown",
   "metadata": {},
   "source": [
    "### Media and example images"
   ]
  },
  {
   "cell_type": "markdown",
   "metadata": {},
   "source": [
    "**Image 1: CGLS – Lake Water Quality 2016-2024 (raster 300 m) - version 1**\n",
    "\n",
    "Turbidity is a measure of water clarity. In the image below of Lake Victoria—located at the border of Uganda, Kenya, and Tanzania—red indicates areas with higher turbidity, meaning the water is less clear and more turbid, while green represents lower turbidity values, indicating clearer water."
   ]
  },
  {
   "cell_type": "markdown",
   "metadata": {},
   "source": [
    "<img src=\"../_static/data_specs/CGLM_Lake_Water_Quality_specs/cgls_lwq300_2016_2024_turbidity_mean.png\" alt=\"CGLS lwq300_2016_2024 Turbidity mean\" width=\"550\" align=\"left\"/>"
   ]
  },
  {
   "cell_type": "markdown",
   "metadata": {},
   "source": [
    "**Image 2: CGLS – Lake Water Quality 2024 - present (raster 300 m) – version 2**\n",
    "\n",
    "In the image below, colors represent the percentage values of the Trophic State Index (TSI) in the water, with red indicating higher percentages and green indicating lower percentages. Lake Victoria, shown here, is situated at the intersection of Uganda, Kenya, and Tanzania on the African continent."
   ]
  },
  {
   "cell_type": "markdown",
   "metadata": {},
   "source": [
    "<img src=\"../_static/data_specs/CGLM_Lake_Water_Quality_specs/cgls_lwq300_2024_nrt_trophic_state_index.png\" alt=\"CGLS lwq300_2024 NRT Trophic State Index\" width=\"550\" align=\"left\"/>"
   ]
  },
  {
   "cell_type": "markdown",
   "metadata": {},
   "source": [
    "### License\n",
    "\n",
    "CC BY Attribution 4.0 International License"
   ]
  },
  {
   "cell_type": "markdown",
   "metadata": {},
   "source": [
    "### Acknowledgments\n",
    "\n",
    "The Copernicus Global Land Service Lake Water Quality products were produced by the European Commission, Joint Research Centre (JRC), and are freely provided via the Copernicus Land Monitoring Service. Data access and regional support were enabled by Digital Earth Africa."
   ]
  },
  {
   "cell_type": "markdown",
   "metadata": {},
   "source": [
    "## Data Access"
   ]
  },
  {
   "cell_type": "markdown",
   "metadata": {},
   "source": [
    "### Amazon Web Services S3"
   ]
  },
  {
   "cell_type": "markdown",
   "metadata": {},
   "source": [
    "The Digital Earth Africa Copernicus Global Land Service Lake Water Quality products can be accessed from the associated S3 bucket."
   ]
  },
  {
   "cell_type": "markdown",
   "metadata": {},
   "source": [
    "**Table 8: AWS data access details**"
   ]
  },
  {
   "cell_type": "markdown",
   "metadata": {},
   "source": [
    "|AWS S3 details | |\n",
    "|----------|-------------|\n",
    "|Bucket ARN | `arn:aws:s3:::deafrica-input-datasets`|\n",
    "| Product names| `cgls_lwq100_2019_2024`, `cgls_lwq100_2024_nrt`, `cgls_lwq300_2002_2012`, `cgls_lwq300_2016_2024`, `cgls_lwq300_2024_nrt` |"
   ]
  },
  {
   "cell_type": "markdown",
   "metadata": {},
   "source": [
    "The bucket is located in the region `af-south-1` (Cape Town)"
   ]
  },
  {
   "cell_type": "markdown",
   "metadata": {},
   "source": [
    "**Table 9: AWS file path convention**\n",
    "\n",
    "|File path element |  Description |Example |\n",
    "|----------|-------------|-----------------|\n",
    "|`product name`| `cgls_lwq100_2019_2024`, `cgls_lwq100_2024_nrt`, `cgls_lwq300_2002_2012`, `cgls_lwq300_2016_2024`, `cgls_lwq300_2024_nrt`| | \n",
    "|`version`| Product version | `1-0-0` |\n",
    "| `path` | Landsat path number ranging from `157` to `206`.|`165` | \n",
    "| `row` | Landsat row number ranging from `052` to `072`. | `052` |\n",
    "| `year` | Year the data was collected |`2019` |\n",
    "| `month`|  Month of the year the data was collected (with leading zeros)|`03`|\n",
    "|`day`| Day of the month the data was collected (with leading zeros)|`28` |"
   ]
  },
  {
   "cell_type": "markdown",
   "metadata": {},
   "source": [
    "### OGC Web Services (OWS)\n",
    "\n",
    "This product is available through DE Africa's OWS.\n",
    "\n",
    "**Table 10: OWS data access details.**\n",
    "\n",
    "|OWS details | |\n",
    "|----------|-------------|\n",
    "|Name | `DE Africa Services` |\n",
    "|Web Map Services (WMS) URL | `https://ows.digitalearth.africa/wms?version=1.3.0` |\n",
    "| Web Coverage Service (WCS) URL | `https://ows.digitalearth.africa/wcs?version=2.1.0`|\n",
    "| Layer names |  `cgls_lwq100_2019_2024`, `cgls_lwq100_2024_nrt`, `cgls_lwq300_2002_2012`, `cgls_lwq300_2016_2024`, `cgls_lwq300_2024_nrt` |\n",
    "\n",
    "Digital Earth Africa OWS details can be found at [https://ows.digitalearth.africa/](https://ows.digitalearth.africa/).\n",
    "\n",
    "For instructions on how to connect to OWS, see [this tutorial](../web_services/index.ipynb)."
   ]
  },
  {
   "cell_type": "markdown",
   "metadata": {},
   "source": [
    "### Open Data Cube (ODC)\n",
    "\n",
    "The Lake Water Quality collection can be accessed through the Digital Earth Africa ODC API, which is available through the [Digital Earth Africa Sandbox](https://sandbox.digitalearth.africa/hub/login).\n",
    "\n",
    "**ODC product name:**  `cgls_lwq100_2019_2024`, `cgls_lwq100_2024_nrt`, `cgls_lwq300_2002_2012`, `cgls_lwq300_2016_2024`, `cgls_lwq300_2024_nrt`"
   ]
  }
 ],
 "metadata": {
  "kernelspec": {
   "display_name": "Python 3 (ipykernel)",
   "language": "python",
   "name": "python3"
  },
  "language_info": {
   "codemirror_mode": {
    "name": "ipython",
    "version": 3
   },
   "file_extension": ".py",
   "mimetype": "text/x-python",
   "name": "python",
   "nbconvert_exporter": "python",
   "pygments_lexer": "ipython3",
   "version": "3.12.3"
  }
 },
 "nbformat": 4,
 "nbformat_minor": 4
}
