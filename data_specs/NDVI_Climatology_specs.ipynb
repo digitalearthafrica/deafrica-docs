{
 "cells": [
  {
   "cell_type": "markdown",
   "metadata": {},
   "source": [
    "# Normalised Difference Vegetation Index (NDVI) Climatology"
   ]
  },
  {
   "cell_type": "raw",
   "metadata": {
    "raw_mimetype": "text/restructuredtext"
   },
   "source": [
    ".. contents::\n",
    "   :local:"
   ]
  },
  {
   "cell_type": "markdown",
   "metadata": {},
   "source": [
    "**Date modified:** February 2022"
   ]
  },
  {
   "cell_type": "markdown",
   "metadata": {},
   "source": [
    "## Service overview"
   ]
  },
  {
   "cell_type": "markdown",
   "metadata": {},
   "source": [
    "### Description\n",
    "\n",
    "Digital Earth Africa's NDVI climatology product represents the long-term average baseline condition of vegetation for every Landsat pixel over the African continent. Both mean and standard deviation NDVI climatologies are available for each calender month.\n",
    "\n",
    "Some key features of the product are:\n",
    "\n",
    "* NDVI climatologies were developed using harmonized Landsat 5,7,and 8 satellite imagery.\n",
    "* Mean and standard deviation NDVI climatologies are produced for each calender month, using a temporal baseline period from 1984-2020 (inclusive)\n",
    "* Datasets have a spatial resolution of 30 metres\n",
    "\n",
    "The product contains 36 measurements, across three categories of data (12 measurements within each category, one for each month):\n",
    "\n",
    "   * `mean_<month>`: These measurements show the mean NDVI calculated from all available NDVI data from 1984-2020 for the given month.\n",
    "   \n",
    "   * `stddev_<month>`: These measurements show the standard deviation of NDVI values of all available NDVI data from 1984-2020 for the given month.\n",
    "   \n",
    "   * `count_<month>`: These measaurements show the number of clear observations that go into creating the mean and standard deviation measurements.\n",
    "   \n",
    "   \n",
    "> **Important Note:** Due to the inconsistent data availability of Landsat 5 over equatorial Africa, and due to persistent cloud coverage over these same regions, the quality of the long-term NDVI baseline is poor in equatorial Africa.  <ins>We recommend not using the product in locations where the clear obervation count is less than ~30 observations</ins>.  Below this, the standard deviation layers are prone to data artefacts owing to temporal smoothing operations performing poorly on sparse datasets, and residual cloudy pixels not being sufficiently 'averaged out' by a decent volume of input data.    \n",
    "\n",
    "A [Jupyter Notebook](https://github.com/digitalearthafrica/deafrica-sandbox-notebooks/blob/main/Datasets/NDVI_Climatology.ipynb) which demonstrates loading and using this dataset in the Sandbox is also available."
   ]
  },
  {
   "cell_type": "markdown",
   "metadata": {},
   "source": [
    "### Specifications"
   ]
  },
  {
   "cell_type": "markdown",
   "metadata": {},
   "source": [
    "**Table 1: NDVI Climatology specifications** "
   ]
  },
  {
   "cell_type": "markdown",
   "metadata": {},
   "source": [
    "|Specification | |\n",
    "|----------|-------------|\n",
    "|Product name| `ndvi_climatology_ls` |\n",
    "|Cell size - X (metres) | 30 |\n",
    "|Cell size - Y (metres) | 30 |\n",
    "|Coordinate reference system | EPSG: 6933 |\n",
    "|Temporal resolution | N/A |\n",
    "|Temporal range| 1984-2020 |\n",
    "|Parent dataset| Landsat 5,7,8 |\n",
    "|Update frequency| N/A |"
   ]
  },
  {
   "cell_type": "markdown",
   "metadata": {},
   "source": [
    "**Table 2: NDVI Climatology measurements**"
   ]
  },
  {
   "cell_type": "markdown",
   "metadata": {},
   "source": [
    "|Band ID| Description |Value range| Data type| NoData/Fill value|\n",
    "|----------|-------------|----------------|:---------:|:----------:|\n",
    "|mean_jan | Mean NDVI for January (1984-2020) |`0 - 1`| `float32` | `nan` |\n",
    "|mean_feb | Mean NDVI for February (1984-2020)  |`0 - 1`| `float32` | `nan` |\n",
    "|mean_mar | Mean NDVI for March (1984-2020)  |`0 - 1`| `float32` | `nan` |\n",
    "|mean_apr | Mean NDVI for April (1984-2020)  |`0 - 1`| `float32` | `nan` |\n",
    "|mean_may | Mean NDVI for May (1984-2020)  |`0 - 1`| `float32` | `nan` |\n",
    "|mean_jun | Mean NDVI for June (1984-2020)  |`0 - 1`| `float32` | `nan` |\n",
    "|mean_jul | Mean NDVI for July (1984-2020)  |`0 - 1`| `float32` | `nan` |\n",
    "|mean_aug | Mean NDVI for August (1984-2020)  |`0 - 1`| `float32` | `nan` |\n",
    "|mean_sep | Mean NDVI for September (1984-2020)  |`0 - 1`| `float32` | `nan` |\n",
    "|mean_oct | Mean NDVI for October (1984-2020)  |`0 - 1`| `float32` | `nan` |\n",
    "|mean_nov | Mean NDVI for November (1984-2020)  |`0 - 1`| `float32` | `nan` |\n",
    "|mean_dec | Mean NDVI for December (1984-2020)  |`0 - 1`| `float32` | `nan` |\n",
    "|stddev_jan | Standard Deviation of NDVI for January (1984-2020)  |`0 - 1`| `float32` | `nan` |\n",
    "|stddev_feb | Standard Deviation of NDVI for February (1984-2020)  |`0 - 1`| `float32` | `nan` |\n",
    "|stddev_mar | Standard Deviation of NDVI for March (1984-2020)  |`0 - 1`| `float32` | `nan` |\n",
    "|stddev_apr | Standard Deviation of NDVI for April (1984-2020)  |`0 - 1`| `float32` | `nan` |\n",
    "|stddev_may | Standard Deviation of NDVI for May (1984-2020)  |`0 - 1`| `float32` | `nan` |\n",
    "|stddev_jun | Standard Deviation of NDVI for June (1984-2020)  |`0 - 1`| `float32` | `nan` |\n",
    "|stddev_jul | Standard Deviation of NDVI for July (1984-2020)  |`0 - 1`| `float32` | `nan` |\n",
    "|stddev_aug | Standard Deviation of NDVI for August (1984-2020)  |`0 - 1`| `float32` | `nan` |\n",
    "|stddev_sep | Standard Deviation of NDVI for September (1984-2020)  |`0 - 1`| `float32` | `nan` |\n",
    "|stddev_oct | Standard Deviation of NDVI for October (1984-2020)  |`0 - 1`| `float32` | `nan` |\n",
    "|stddev_nov | Standard Deviation of NDVI for November (1984-2020)  |`0 - 1`| `float32` | `nan` |\n",
    "|stddev_dec | Standard Deviation of NDVI for December (1984-2020)  |`0 - 1`| `float32` | `nan` |\n",
    "|count_jan | Number of clear obs in January (1984-2020)  |`0 - ~160`| `int16` | `-999` |\n",
    "|count_feb | Number of clear obs in February (1984-2020)  |`0 - ~160`| `int16` | `-999` |\n",
    "|count_mar | Number of clear obs in March (1984-2020)  |`0 - ~160`| `int16` | `-999` |\n",
    "|count_apr | Number of clear obs in April (1984-2020)  |`0 - ~160`| `int16` | `-999` |\n",
    "|count_may | Number of clear obs in May (1984-2020)  |`0 - ~160`| `int16` | `-999` |\n",
    "|count_jun | Number of clear obs in June (1984-2020)  |`0 - ~160`| `int16` | `-999` |\n",
    "|count_jul | Number of clear obs in July (1984-2020)  |`0 - ~160`| `int16` | `-999` |\n",
    "|count_aug | Number of clear obs in August (1984-2020)  |`0 - ~160`| `int16` | `-999` |\n",
    "|count_sep | Number of clear obs in September (1984-2020)  |`0 - ~160`| `int16` | `-999` |\n",
    "|count_oct | Number of clear obs in October (1984-2020)  |`0 - ~160`| `int16` | `-999` |\n",
    "|count_nov | Number of clear obs in November (1984-2020)  |`0 - ~160`| `int16` | `-999` |\n",
    "|count_dec | Number of clear obs in December (1984-2020)  |`0 - ~160`| `int16` | `-999` |"
   ]
  },
  {
   "cell_type": "markdown",
   "metadata": {},
   "source": [
    "The specific temporal and geographic extents for the product can be explored as an interactive map on the [Metadata Explorer](https://explorer.digitalearth.africa/products/ndvi_climatology_ls). Data is available for the region shaded in blue.\n",
    "\n",
    "**Figure 1: The dataset coverage for the NDVI Climatology product**"
   ]
  },
  {
   "cell_type": "markdown",
   "metadata": {},
   "source": [
    "<img src=\"../_static/data_specs/NDVI_Climatology_specs/ndvi_clim_extent.PNG\" width=\"400\" align=\"left\"/>"
   ]
  },
  {
   "cell_type": "markdown",
   "metadata": {},
   "source": [
    "### Media and example images"
   ]
  },
  {
   "cell_type": "markdown",
   "metadata": {},
   "source": [
    "**Image 1: Animations of the NDVI Climatology layers. Left: Mean NDVI; Right: Std. Dev. NDVI**\n",
    "\n",
    "\n",
    "<img src=\"../_static/data_specs/NDVI_Climatology_specs/mean_std.gif\" width=\"800\" align=\"centre\"/>"
   ]
  },
  {
   "cell_type": "markdown",
   "metadata": {},
   "source": [
    "### License\n",
    "\n",
    "CC BY Attribution 4.0 International License"
   ]
  },
  {
   "cell_type": "markdown",
   "metadata": {},
   "source": [
    "## Data Access"
   ]
  },
  {
   "cell_type": "markdown",
   "metadata": {},
   "source": [
    "### Amazon Web Services S3\n",
    "\n",
    "The NDVI Climatology service is available in AWS S3 thanks to the Public Dataset Program."
   ]
  },
  {
   "cell_type": "markdown",
   "metadata": {},
   "source": [
    "**Table 3: AWS data access details**\n",
    "\n",
    "|AWS S3 details | |\n",
    "|----------|-------------|\n",
    "|Bucket ARN | `arn:aws:s3:::deafrica-services`|\n",
    "| Product name| `ndvi_climatology_ls` |"
   ]
  },
  {
   "cell_type": "markdown",
   "metadata": {},
   "source": [
    "The bucket is located in the region `af-south-1` (Cape Town).\n",
    "Additional region specifications can be applied as follows:\n",
    "\n",
    "`aws s3 ls --region=af-south-1 s3://deafrica-services/ndvi_climatology_ls/`\n",
    "\n",
    "The file paths follow the format:\n",
    "\n",
    "`<productname>/<version>/<x>/<y>/<timeperiod>/<x><y>_<timeperiod>_<band>.<extension>`"
   ]
  },
  {
   "cell_type": "markdown",
   "metadata": {},
   "source": [
    "**Table 4: AWS file path convention**\n",
    "\n",
    "|File path element |  Description |Example |\n",
    "|----------|-------------|-----------------|\n",
    "|`productname`| Product name | `ndvi_climatology_ls` | \n",
    "|`version` | Product version|`1.0.0` | \n",
    "| `x` | Tile number in the `x` direction. | `x17` |\n",
    "| `y` | Tile number in the `y` direction. | `y156` |\n",
    "| `timeperiod`| Year of data collection followed by period of time and time unit in the format `YYYY--P<period><unit>`. Time units are designated by capitalised letters, `Y` for years and `M` for months. |`1984--P37Y`|\n",
    "|`x_y_timeperiod_band.extension`| File name.  Combines `x`, `y`, `timeperiod` with `band`, using Band IDs, and file extensions. For most tiles, the file extension is `.tif`.   | |"
   ]
  },
  {
   "cell_type": "markdown",
   "metadata": {},
   "source": [
    "### Open Data Cube (ODC)\n",
    "\n",
    "The NDVI Climatology datasets can be accessed through the Digital Earth Africa ODC API, which is available through the [Digital Earth Africa Sandbox](https://sandbox.digitalearth.africa/hub/login).\n",
    "\n",
    "**ODC product name:** `ndvi_climatology_ls`\n",
    "\n",
    "For examples on how to use the ODC API, see the DE Africa [example notebook repository](https://github.com/digitalearthafrica/deafrica-sandbox-notebooks)."
   ]
  },
  {
   "cell_type": "markdown",
   "metadata": {},
   "source": [
    "### OGC Web Services (OWS)\n",
    "\n",
    "This service is available through DE Africa's OWS.\n",
    "\n",
    "**Table 5: OWS data access details.**\n",
    "\n",
    "|OWS details | |\n",
    "|----------|-------------|\n",
    "|Name | `DE Africa Services` |\n",
    "|Web Map Services (WMS) URL | `https://ows.digitalearth.africa/wms?version=1.3.0` |\n",
    "| Web Coverage Service (WCS) URL | `https://ows.digitalearth.africa/wcs?version=2.1.0`|\n",
    "| Layer names | `ndvi_climatology_ls` |\n",
    "\n",
    "Digital Earth Africa OWS details can be found at [https://ows.digitalearth.africa/](https://ows.digitalearth.africa/).\n",
    "\n",
    "For instructions on how to connect to OWS, see [this tutorial](../web_services/index.ipynb)."
   ]
  },
  {
   "cell_type": "markdown",
   "metadata": {},
   "source": [
    "## Technical information"
   ]
  },
  {
   "cell_type": "markdown",
   "metadata": {},
   "source": [
    "### Landsat Harmonization method\n",
    "\n",
    "Landsat satellites have the longest temporal record of Earth Observation data, covering nearly four decades and including landsat 5, 7 and 8 (and now Landsat 9). Ideally, the Landsat data record should be consistent over the Landsat sensor series, but Landsat-8 Operational Land Imager (OLI) has improved calibration over the previous Landsat-7 Enhanced Thematic Mapper (ETM +), and Landsat 5's ETM. The different qualities of the sensors can result in discontinuities when concatenating NDVI time-series across different sensors.\n",
    "\n",
    "To harmonize the different generations of Landsat sensors, 10,000 60 x 60m polygons were randomly disributed across the continent. At each sample location, a four year time series (2013-2016) of cloud-masked Landsat 7 and Landsat 8 images were loaded, and coincident Landsat 7 and Landsat 8 NDVI observations were retained. Coincident is defined here as acquisitions taken within two days of each other. In total, 35,189 coincident pixel obervations were collected (all pixels within the 60 x 60m polygons were kept).\n",
    "\n",
    "**Figure 1: The locations of coincident Landsat 7 and Landsat 8 images used to define the harmonization coefficients in eq 2. Points are coloured by the NDVI value of the Landsat 8 image.**\n",
    "\n",
    "<img src=\"../_static/data_specs/NDVI_Climatology_specs/harmonization_points.png\" width=\"400\" align=\"centre\"/>\n",
    "\n",
    "Coincident samples were used to linearly regress Landsat 8 NDVI against Landsat 7 NDVI, the results of this are shown in Figure 2a as a density scatter plot.  The linear relationship (eq 1.) between the two is expressed as (also represented by the red line in figure 2a):\n",
    "\n",
    "    eq.1:  NDVI_LS7 = 0.988 * NDVI_LS8 -0.015\n",
    "    \n",
    "To harmonize the datasets, Landsat 7 was transformed to better align with Landsat 8 using eq 2. Figure 2b plots the results after harmonization.\n",
    "\n",
    "    eq.2:  NDVI_LS7_harmonized = (NDVI_LS7 + 0.015) / 0.988\n",
    "    \n",
    "**Figure 2: a) Density scatter plots between Landsat 7 NDVI and Landsat 8 NDVI before harmonization. Red line shows the linear relationship, and the blackline shows the 1:1 line.  b) Density scatter plots between Landsat 7 NDVI and Landsat 8 NDVI _after_ harmonization. The red line is directly on top of the 1:1 line**\n",
    "\n",
    "<img src=\"../_static/data_specs/NDVI_Climatology_specs/density_scatter_plots.png\" width=\"800\" align=\"centre\"/>\n",
    "\n",
    "We can visualise how the harmonization improves consistency between the sensors by plotting a time-series of NDVI before and after harmonization (figure 3).\n",
    "\n",
    "\n",
    "**Figure 3: The impact of Landsat 7 harmonization on an NDVI timeseries.  Time-series is from an irrigated cropping region in Egypt.**\n",
    "\n",
    "<img src=\"../_static/data_specs/NDVI_Climatology_specs/ndvi_timeseries.PNG\" width=\"800\" align=\"centre\"/>\n",
    "\n"
   ]
  },
  {
   "cell_type": "markdown",
   "metadata": {},
   "source": [
    "---\n",
    "### NDVI Climatology Algorithm\n",
    "\n",
    "The procedure for calculating the NDVI climatologies is listed step-by-step below.  The code for reproducing the NDVI climatology product is publicly availabe [on github]( https://github.com/digitalearthafrica/ndvi-anomalies):\n",
    "\n",
    "1. Load a concatenated Landsat 5 and Landsat 7 time series\n",
    "    - Mask pixels in LS5 and LS7 where:\n",
    "        - cloud, and cloud shadows occur, and apply morphological operators opening + dilation (improves the cloud mask)\n",
    "        - Surface reflectance values > 65,455 or < 7272.72\n",
    "        - Blue band surface reflectance is > 20,910 (removes some cloud missed by Fmask)\n",
    "    \n",
    "2. Load landsat 8 timeseries\n",
    "    - Mask pixels in LS8 where:\n",
    "        - cloud, cloud shadows, and cirrus clouds occur, and apply morphological operators opening + dilation (improves the cloud mask)\n",
    "        - Surface reflectance values > 65,455 or < 7272.72\n",
    "        - Blue band surface reflectance is > 20,910 (removes some cloud missed by fmask)\n",
    "\n",
    "\n",
    "3. Calculate NDVI for each sensor\n",
    "4. Adjust Landsat 5-7 using `eq. 2`.\n",
    "5. Merge Landsat 5-7 time series with the Landsat 8 time-series\n",
    "6. Set as nodata pixels where NDVI is not between 0 and 1\n",
    "7. Apply a rolling mean temporal filter (window size = 3) to lesson the influence of noise and missed cloud in the time series\n",
    "8. Calculate monthly mean and standard deviation NDVI climatologies.\n"
   ]
  }
 ],
 "metadata": {
  "kernelspec": {
   "display_name": "Python 3 (ipykernel)",
   "language": "python",
   "name": "python3"
  },
  "language_info": {
   "codemirror_mode": {
    "name": "ipython",
    "version": 3
   },
   "file_extension": ".py",
   "mimetype": "text/x-python",
   "name": "python",
   "nbconvert_exporter": "python",
   "pygments_lexer": "ipython3",
   "version": "3.8.10"
  }
 },
 "nbformat": 4,
 "nbformat_minor": 4
}
