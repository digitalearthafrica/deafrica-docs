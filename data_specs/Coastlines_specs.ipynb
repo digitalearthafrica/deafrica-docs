{
 "cells": [
  {
   "cell_type": "markdown",
   "id": "99f5d2d8-c527-4d1d-9dc9-0e8ae27d506a",
   "metadata": {
   "raw_mimetype": "text/restructuredtext"
   },
   "source": [
    "# DE Africa Coastlines: A Coastline Monitoring Service"
   ]
  },
  {
   "cell_type": "raw",
   "id": "7c165782-6037-4684-bfea-c8a3bf4a6bb5",
   "metadata": {},
   "source": [
    ".. contents::\n",
    "   :local:"
   ]
  },
  {
   "cell_type": "markdown",
   "id": "8f09d2f8-6920-4d6c-8e98-e98c79cc5651",
   "metadata": {},
   "source": [
    "**Date modified:** 26 October 2022"
   ]
  },
  {
   "cell_type": "markdown",
   "id": "3b69e7eb-bb2c-462a-8033-d009d63b2aae",
   "metadata": {},
   "source": [
    "## Service Overview"
   ]
  },
  {
   "cell_type": "markdown",
   "id": "f9e0b371-20e6-4fd4-9725-e938922836d4",
   "metadata": {},
   "source": [
    "### Background\n",
    "\n",
    "The Digital Earth Africa Coastlines is a continental dataset that includes annual shorelines and rates of coastal change along the entire African coastline from 2000 to the present. \n",
    "\n",
    "The product combines satellite data from the Digital Earth Africa program with tidal modelling to map the typical location of the coastline at mean sea level each year. The product enables trends of coastal erosion and growth to be examined annually at both a local and continental scale, and for patterns of coastal change to be mapped historically and updated regularly as data continues to be acquired. This allows current rates of coastal change to be compared with that observed in previous years or decades. \n",
    "\n",
    "The ability to map shoreline positions for each year provides valuable insights into whether changes to the coastline are the result of particular events or actions, or a process of more gradual change over time. This information can enable scientists, managers, and policy makers to assess impact from the range of drivers impacting the coastlines and potentially assist planning and forecasting for future scenarios."
   ]
  },
  {
   "cell_type": "markdown",
   "id": "7085df4a-4e48-4d51-9e9d-db80fa9781e8",
   "metadata": {},
   "source": [
    "### Specifications"
   ]
  },
  {
   "cell_type": "markdown",
   "id": "fff4385e-69b6-4bdf-9ddf-a674545753a9",
   "metadata": {},
   "source": [
    "There are several datasets that are available as part of the Coastlines suite.\n",
    "\n",
    "A [Jupyter Notebook](https://docs.digitalearthafrica.org/en/latest/sandbox/notebooks/Datasets/Coastlines.html) which demonstrates loading and using Coastlines products in the Sandbox is also available. "
   ]
  },
  {
   "cell_type": "markdown",
   "id": "3d26b64f-4e89-40e7-a519-d4063bb2e554",
   "metadata": {},
   "source": [
    "**Table 1: Coastlines product datasets** "
   ]
  },
  {
   "cell_type": "markdown",
   "id": "7c5fef2f-f4d1-4bc4-984d-454760127512",
   "metadata": {},
   "source": [
    "|Product type |Product name |Data type|\n",
    "|:-------------|:-------------|:-------------|\n",
    "|Annual coastlines |`coastlines_v0.4.0_shorelines_annual`|Vector – line |\n",
    "|Rate of change statistics |`coastlines_v0.4.0_rates_of_change`|Vector – point |\n",
    "|Coastal change hotspots zoom 1 (15 km) |`coastlines_v0.4.0_hotspots_zoom_1`|Vector – point |\n",
    "|Coastal change hotspots zoom 2 (5 km) |`coastlines_v0.4.0_hotspots_zoom_2`|Vector – point |\n",
    "|Coastal change hotspots zoom 3 (1 km) |`coastlines_v0.4.0_hotspots_zoom_3`|Vector – point |"
   ]
  },
  {
   "cell_type": "markdown",
   "id": "ed46ef77-9c4c-441f-aabb-518978243573",
   "metadata": {},
   "source": [
    "**Table 2: Digital Earth Africa Coastlines extent**"
   ]
  },
  {
   "cell_type": "markdown",
   "id": "76588917-5ed5-4500-82b9-a53fbc30392e",
   "metadata": {},
   "source": [
    "|Specification | |\n",
    "|:-------------|:-------------|\n",
    "|Product name|DE Africa Coastlines |\n",
    "|Cell size - X (metres) | 30 |\n",
    "|Cell size - Y (metres) | 30 |\n",
    "|Coordinate reference system | ESPG:6933 |\n",
    "|Temporal resolution | Annually |\n",
    "|Temporal range| 2000 &ndash; present |\n",
    "|Parent dataset| Landsat Collection 2 Surface Reflectance |\n",
    "|Update frequency| TBD |"
   ]
  },
  {
   "cell_type": "markdown",
   "id": "92bbfa47-ebf2-4816-ad9d-d8d2cb5a31af",
   "metadata": {},
   "source": [
    "**Figure 1: DE Africa Coastlines suite geographic extent**"
   ]
  },
  {
   "cell_type": "markdown",
   "id": "3e4c9aae-1f50-408d-97d4-8d081d421b5f",
   "metadata": {},
   "source": [
    "<img src=\"../_static/data_specs/Coatlines_specs/coastline_extent.png\" alt=\"Coastlines data extent.\" width=\"500\" align=\"left\"/>"
   ]
  },
  {
   "cell_type": "markdown",
   "id": "a3973371-29b5-43eb-89b0-8a99ed00eecc",
   "metadata": {},
   "source": [
    "Digital Earth Africa Coastlines is a continental dataset that includes the rate of coastal change hotspots, with red hotspots representing coastal retreat and blue hotspots representing coastal growth."
   ]
  },
  {
   "cell_type": "markdown",
   "id": "9bab6ec9-645c-407b-acc6-4648623c333f",
   "metadata": {},
   "source": [
    "#### Annual Coastlines Shorelines"
   ]
  },
  {
   "cell_type": "markdown",
   "id": "989fda89-de6e-4151-89f8-1fdb34b79620",
   "metadata": {},
   "source": [
    "Annual shoreline vectors from 2000 that represent the median or ‘most representative’ position of the shoreline at approximately mean sea level tide (0 m Above Mean Sea Level) for each year. \n",
    "\n",
    "* Light-coloured lines (e.g. yellow) in the plot represent recent shorelines (e.g. 2020), while dark-coloured lines represent older shorelines (e.g. 2000).\n",
    "\n",
    "* Dashed shorelines have low certainty due to either few non-cloudy satellite observations, or unstable data caused by poor tidal modelling performance or high coastal variability., or aerosol issues."
   ]
  },
  {
   "cell_type": "markdown",
   "id": "6b67614e-c69f-4cef-abb5-6f4f5459e0e4",
   "metadata": {},
   "source": [
    "**Figure 2: Annual coastlines from DE Africa Coastlines visualised on the** [interactive DE Africa web map](https://maps.digitalearth.africa/#share=s-6nceOTGVGJCRs1azNjgslFqFgRV)"
   ]
  },
  {
   "cell_type": "markdown",
   "id": "d03d5f45-00e9-43ae-92c5-8ab6b1c6664a",
   "metadata": {},
   "source": [
    "<img src=\"../_static/data_specs/Coatlines_specs/annual_shoreline_layer.png\" alt=\"Annual shoreline vector layer.\" width=\"650\" align=\"left\"/>"
   ]
  },
  {
   "cell_type": "markdown",
   "id": "3772ea9e-e3dc-41b3-b4db-8c86ac8ff72d",
   "metadata": {},
   "source": [
    "##### Certainty Attribute\n",
    "\n",
    "* **Unstable data:** The quality of this shoreline is affected by unstable data (high MNDWI standard deviation). This may be caused by errors in the tidal model used to reduce the influence of tide, the presence of gently sloping intertidal mudflats or sandbars can lead to inaccurate shoreline mapping, or noisy satellite imagery caused by high levels of cloud. \n",
    "* **Insufficient data:** The quality of shorelines may be affected by limited good quality satellite observations (less than five clear observations after gapfilling). This can lead to noisier and less reliable shorelines."
   ]
  },
  {
   "cell_type": "markdown",
   "id": "4a6e2314-f4b9-4de5-8875-ba0de95da2cf",
   "metadata": {},
   "source": [
    "#### Rate of Change Statistics"
   ]
  },
  {
   "cell_type": "markdown",
   "id": "0819fdf8-467f-48f5-902a-8f8d3afab0a6",
   "metadata": {},
   "source": [
    "A point dataset providing robust rates of coastal change (in metres per year) for every 30 m along Africa’s non-rocky (e.g. sandy and muddy) coastlines. These rates are calculated by linearly regressing annual shoreline positions against time, using the most recent shoreline as a baseline.\n",
    "\n",
    "* Negative values (red points) indicate retreat (e.g. erosion), and positive values indicate growth (e.g. progradation) over time. By default, rates of change are shown for points with a statistically significant trend over time only. "
   ]
  },
  {
   "cell_type": "markdown",
   "id": "338f8e41-6041-43cc-9c8c-d91793c2acc1",
   "metadata": {},
   "source": [
    "**Table 3: Rate of change statistics attribute descriptions**"
   ]
  },
  {
   "cell_type": "markdown",
   "id": "d546a9a0-3124-4a2e-86df-31bc876b7c4e",
   "metadata": {},
   "source": [
    "| Attribute | |\n",
    "|-------------|-------------|\n",
    "|*rate_time* | Annual rates of change (in metres per year) calculated by linearly regressing annual shoreline distances against time (excluding outliers). Negative values indicate retreat and positive values indicate growth. |\n",
    "|*sig_time* | Significance (p-value) of the linear relationship between annual shoreline distances and time. Small values (e.g. p-value < 0.01) may indicate a coastline is undergoing consistent coastal change through time.  |\n",
    "|*se_time* | Standard error (in metres) of the linear relationship between annual shoreline distances and time. This can be used to generate confidence intervals around the rate of change given by rate_time (e.g. 95% confidence interval = se_time * 1.96). |\n",
    "|*outl_time* | Individual annual shoreline are noisy estimators of coastline position that can be influenced by environmental conditions (e.g. clouds, breaking waves, sea spray) or modelling issues (e.g. poor tidal modelling results or limited clear satellite observations). To obtain reliable rates of change, outlier shorelines are excluded using a robust Median Absolute Deviation outlier detection algorithm, and recorded in this column.  |\n",
    "|*sce* | Shoreline Change Envelope (SCE). A measure of the maximum change or variability across all annual shorelines, calculated by computing the maximum distance between any two annual shoreline (excluding outliers). This statistic excludes sub-annual shoreline variability. |\n",
    "|*nsm* | Net Shoreline Movement (NSM). The distance between the oldest (2000) and most recent annual shoreline (excluding outliers). Negative values indicate the coastline retreated between the oldest and most recent shoreline; positive values indicate growth. This statistic does not reflect sub-annual shoreline variability, so will underestimate the full extent of variability at any given location. |\n",
    "|*max_year, min_year* | The year that annual shorelines were at their maximum (i.e. located furthest towards the ocean) and their minimum (i.e. located furthest inland) respectively (excluding outliers). This statistic excludes sub-annual shoreline variability. |\n",
    "|*outl_time* | Individual annual shoreline are noisy estimators of coastline position that can be influenced by environmental conditions (e.g. clouds, breaking waves, sea spray) or modelling issues (e.g. poor tidal modelling results or limited clear satellite observations). To obtain reliable rates of change, outlier shorelines are excluded using a robust Median Absolute Deviation outlier detection algorithm, and recorded in this column.  |"
   ]
  },
  {
   "cell_type": "markdown",
   "id": "89f934eb-4e9b-4686-8f10-79c874b68b6c",
   "metadata": {},
   "source": [
    "**Figure 3: Rate of change statistics from DE Africa Coastlines visualised on the** [interactive DE Africa web map](https://maps.digitalearth.africa/#share=s-6nceOTGVGJCRs1azNjgslFqFgRV)"
   ]
  },
  {
   "cell_type": "markdown",
   "id": "9d5205ea-0b42-4be6-a2f5-3236111902e9",
   "metadata": {},
   "source": [
    "<img src=\"../_static/data_specs/Coatlines_specs/rate_of_change_statistic_layer.png\" alt=\"Rate of change statistics vector layer.\" width=\"650\" align=\"left\"/>"
   ]
  },
  {
   "cell_type": "markdown",
   "id": "1153c333-4924-45fc-90a3-c2a289bfde83",
   "metadata": {},
   "source": [
    "##### Certainty Attribute\n",
    "\n",
    "* **Offshore islands:** Points located in offshore island nations where Coastlines data is affected by high levels of noise, potentially related to aerosol issues in the input Landsat Collection 2 ARD data.      \n",
    "* **Likely rocky coastline:** Rates of change can be unreliable in areas with steep rocky/bedrock shorelines due to terrain shadow.\n",
    "* **Extreme value (> 200 m):** Extreme rate of change value (> 200 m per year change) are more likely to reflect modelling issues than real-world coastal change.\n",
    "* **High angular variability:** Annual shorelines at this location do not fall on an approximate line, making rates of change invalid.\n",
    "* **Insufficient observations:** Less than 15 valid annual shorelines at this location, which make the resulting rates of change more likely to be inaccurate."
   ]
  },
  {
   "cell_type": "markdown",
   "id": "af98fda0-58d4-4a78-90f7-94b0d1cf4fbf",
   "metadata": {},
   "source": [
    "#### Coastal Change Hotspots"
   ]
  },
  {
   "cell_type": "markdown",
   "id": "88d70ae8-2a91-4669-aac4-d8022791a881",
   "metadata": {},
   "source": [
    "A summary layer producing moving window hotspots of coastal change at three differing scales including 15 km, 5 km, and 1 km. This is useful for visualising regional or continental-scale patterns of coastal change."
   ]
  },
  {
   "cell_type": "markdown",
   "id": "e399e10c-0615-435f-8007-b587e8a01f89",
   "metadata": {},
   "source": [
    "**Figure 4: Coastal change hotspots from DE Africa Coastlines visualised on the** [interactive DE Africa web map](https://maps.digitalearth.africa/#share=s-6nceOTGVGJCRs1azNjgslFqFgRV)"
   ]
  },
  {
   "cell_type": "markdown",
   "id": "ee29def3-bce6-4b22-bfec-546972a3de06",
   "metadata": {},
   "source": [
    "<img src=\"../_static/data_specs/Coatlines_specs/coastal_change_hotspots_layer.png\" alt=\"Coastal change hotspot layer.\" width=\"650\" align=\"left\"/>"
   ]
  },
  {
   "cell_type": "markdown",
   "id": "0c2e6a31-1a77-423b-bc25-c4d07065cad5",
   "metadata": {},
   "source": [
    "##### Certainty Attribute\n",
    "\n",
    "* **Insufficient points:** Insufficient rates of change at this location to produce reliable hotspots."
   ]
  },
  {
   "cell_type": "markdown",
   "id": "9d9f9f4b-49db-4312-9b30-0e2dab921d34",
   "metadata": {},
   "source": [
    "### Processing "
   ]
  },
  {
   "cell_type": "markdown",
   "id": "dd27ae5f-b61d-4398-87ae-0380da118770",
   "metadata": {},
   "source": [
    "The Coastlines product is generated by applying the method described in [Bishop-Taylor et al. (2021)](https://doi.org/10.1016/j.rse.2021.112734) to Landsat Collection 2 Surface Reflectance data.\n",
    "\n",
    "The scripts used to produce the Coastlines are available from [the deafrica-coastlines github repository](https://github.com/digitalearthafrica/deafrica-coastlines)."
   ]
  },
  {
   "cell_type": "markdown",
   "id": "a049c37b-5c8e-4105-963b-e39e8f15a530",
   "metadata": {},
   "source": [
    "### Media and example images"
   ]
  },
  {
   "cell_type": "markdown",
   "id": "2fd28305-f089-43f0-b79f-806c42175aef",
   "metadata": {},
   "source": [
    "### Related services\n",
    "\n",
    "* [Landsat Collection 2 Surface Reflectance](https://docs.digitalearthafrica.org/en/latest/data_specs/Landsat_C2_SR_specs.html)"
   ]
  },
  {
   "cell_type": "markdown",
   "id": "8749b65f-da5d-4244-bc06-5c6e4a7f8ec2",
   "metadata": {},
   "source": [
    "### References\n",
    "\n",
    "Bishop-Taylor, R., Nanson, R., Sagar, S., Lymburner, L. (2021). Mapping Australia's dynamic coastline at mean sea level using three decades of Landsat imagery. Remote Sensing of Environment, 267, 112734. Available: https://doi.org/10.1016/j.rse.2021.112734\n",
    "\n",
    "Bishop-Taylor, R., Sagar, S., Lymburner, L., Alam, I., Sixsmith, J. (2019). Sub-pixel waterline extraction: characterising accuracy and sensitivity to indices and spectra. Remote Sensing, 11 (24):2984. Available: https://doi.org/10.3390/rs11242984"
   ]
  },
  {
   "cell_type": "markdown",
   "id": "210588f1-8301-459f-9ac6-ef4d9ca2281b",
   "metadata": {},
   "source": [
    "### License\n",
    "\n",
    "CC BY Attribution 4.0 International License"
   ]
  },
  {
   "cell_type": "markdown",
   "id": "debc3c24-7110-4809-b48a-6e8b8f8acbfc",
   "metadata": {},
   "source": [
    "### Acknowledgments\n",
    "\n",
    "The Coastlines algorithms incorporated in this product are the work of Robbi-Bishop Taylor, Rachel Nanson, Stephen Sagar, and Leo Lymburner, Geoscience Australia. Digital Earth Africa acknowledges the work done by the Centre de Suivi Ecologique (CSE), Dakar, in assessing the accuracy of the service with the participation of West African WACA  stakeholders. Acknowledgements also go to the Regional Center for Mapping Resources for  Development (RCMRD) for stakeholder engagement and feedback. Digital Earth Africa thanks the Digital Earth Africa Product Development task team for the co-design, the co-development and early feedback on the Service. "
   ]
  },
  {
   "cell_type": "markdown",
   "id": "818037d1-d434-41d1-a7ed-9bc6294984a5",
   "metadata": {},
   "source": [
    "## Data Access"
   ]
  },
  {
   "cell_type": "markdown",
   "id": "8190a964-55af-464c-9ebd-b83c1800c6e9",
   "metadata": {},
   "source": [
    "### Amazon Web Service S3"
   ]
  },
  {
   "cell_type": "markdown",
   "id": "28b74492-1e8f-4dc0-9060-d93598613749",
   "metadata": {},
   "source": [
    "The Digital Earth Africa Coastlines data can be accessed from the associated S3 bucket."
   ]
  },
  {
   "cell_type": "markdown",
   "id": "e8d22905-bb04-48df-815f-dd8490882ac0",
   "metadata": {},
   "source": [
    "**Table 4: AWS data access details**"
   ]
  },
  {
   "cell_type": "markdown",
   "id": "2a1c8149-266d-4393-b8cb-4645ea8911a7",
   "metadata": {},
   "source": [
    "|AWS S3 details | |\n",
    "|----------|-------------|\n",
    "|Bucket ARN | `arn:aws:s3:::deafrica-services`|\n",
    "| Product names| `coastlines` |\n",
    "| Region| `af-south-1` |"
   ]
  },
  {
   "cell_type": "markdown",
   "id": "f086ba48-9c27-4f32-abee-21a81486460b",
   "metadata": {},
   "source": [
    "Latest version of the Coastlines product can be downloaded from the links below:\n",
    "\n",
    "* [DE Africa Coastlines as a Geopackage](https://deafrica-services.s3.af-south-1.amazonaws.com/coastlines/v0.4.0/deafricacoastlines_v0.4.0.gpkg)\n",
    "* [DE Africa Coastlines as a Shapefile](https://deafrica-services.s3.af-south-1.amazonaws.com/coastlines/v0.4.0/deafricacoastlines_v0.4.0.shp.zip)\n"
   ]
  },
  {
   "cell_type": "markdown",
   "id": "4cff3c02-0cc2-42ee-b7ec-9158341703fc",
   "metadata": {},
   "source": [
    "### OGC Web Services (OWS)\n",
    "\n",
    "This product is available through DE Africa's OWS.\n",
    "\n",
    "**Table 5: OWS data access details**\n",
    "\n",
    "|OWS details | |\n",
    "|----------|-------------|\n",
    "|Name | `DE Africa Services` |\n",
    "|Web Map Services (WMS) URL | `https://geoserver.digitalearth.africa/geoserver/wms` |\n",
    "| Web Feature Services (WFS) URL | `https://geoserver.digitalearth.africa/geoserver/wfs`|\n",
    "| Layer names | `coastlines_v0.4.0`, `coastlines_v0.4.0_shorelines_annual`, `coastlines_v0.4.0_rates_of_change`, `coastlines_v0.4.0_hotspots_zoom_1`, `coastlines_v0.4.0_hotspots_zoom_2`, `coastlines_v0.4.0_hotspots_zoom_3`  |"
   ]
  },
  {
   "cell_type": "markdown",
   "id": "3f6205ec-02ef-461c-a7a1-8e7730cf0ad0",
   "metadata": {},
   "source": [
    "### Open Data Cube (ODC) \n",
    "\n",
    "The Coastlines product can be loaded and analysed in the DE Africa Sandbox following the [example Jupyter Notebook](https://github.com/digitalearthafrica/deafrica-sandbox-notebooks/blob/coastlines-notebook/Datasets/Coastlines.ipynb).\n",
    "\n",
    "For further information regarding the use of DE Africa Coastlines product, [visit the Digital Earth Africa Help Desk](https://helpdesk.digitalearthafrica.org/portal/en/kb/search/coastlines)."
   ]
  },
  {
   "cell_type": "markdown",
   "id": "7c9d56aa-9e94-4cae-b914-6aa30b5d0c86",
   "metadata": {},
   "source": [
    "## Technical information "
   ]
  },
  {
   "cell_type": "markdown",
   "id": "f2becb60-8b43-4fe6-8863-7ba0c2bd135f",
   "metadata": {},
   "source": [
    "### Shoreline delineation "
   ]
  },
  {
   "cell_type": "markdown",
   "id": "d363053c-d4db-4d29-a911-3b0996e7fc3d",
   "metadata": {},
   "source": [
    "Shorelines are mapped using Landsat satellite observations. For each observation, the modified normalised difference water index (MNDWI) is calculated from the green and shortwave infrared (SWIR) bands to identify water. The formula is \n",
    "\n",
    "$$ \\text{MNDWI} = \\frac{\\text{Green-SWIR}}{\\text{Green+SWIR}} $$\n",
    "\n",
    "When interpreting this index, values greater than 0 indicate water. \n"
   ]
  },
  {
   "cell_type": "markdown",
   "id": "fd33411d-790e-4520-9621-59072e09ecf4",
   "metadata": {},
   "source": [
    "### Accuracy and limitations "
   ]
  },
  {
   "cell_type": "markdown",
   "id": "dcea92d1-e32d-4bf8-95b7-2db0cf0eae72",
   "metadata": {},
   "source": [
    "#### Accuracy assessment \n",
    "\n",
    "The Centre de Suivi Ecologique, Dakar, has conducted a study to test the performance of the DE Africa Coastlines in collaboration with the member states of the WACA/ORLOA network (Investment Project for the Resilience of West African Coastal Zones / Regional Observatory of the West African Coast) Mauritania, Senegal, Gambia, Guinea Bissau, Republic of Guinea, Sierra Leone, Liberia, Côte d'Ivoire, Ghana, Togo, Benin, and Sao Tome and Principe. In each country, test sites have been selected depending on the size of the portion of the coast, the availability of reference data and metadata associated with each type of data. With imagery for each country having a consistant accuracy of 5 m. "
   ]
  },
  {
   "cell_type": "markdown",
   "id": "40675e4b-43fc-4ad6-9eb9-dfac4ad8dfbc",
   "metadata": {},
   "source": [
    "**Table 6: DE Africa Coastlines performance test locations and associated metadata**"
   ]
  },
  {
   "cell_type": "markdown",
   "id": "9ba68cdc-5726-4101-8d85-52e146169bba",
   "metadata": {},
   "source": [
    "| Country               | Image type              | Source                 | Acquisition date | Resolution (m) | Spectral bands |\n",
    "|-----------------------|-------------------------|------------------------|------------------|----------------|----------------|\n",
    "| Mauritania            | WorldView constellation | Google Earth © Maxar | 2 April 2021     | <1             | 3 bands RGB    |\n",
    "| Senegal               | WorldView Legion        | Technologies Maxar | 8 June 2021      | 0.5            | 4 bands RGBN |\n",
    "| Gambia                | WorldView constellation | Earth Google © Maxar | 9 January 2021   | <1             | 3 bands RGB    |\n",
    "| Guinea Bissau         | WorldView constellation | Google Earth © Maxar | 12 December 2018 | <1             | 3 bands RGB    |\n",
    "| Guinea                | WorldView constellation | Google Earth © Maxar | April 2017      | 1 <1           | 3 bands RGB    |\n",
    "| Liberia               | WorldView constellation | Google Earth © Maxar | 31 October 2021 | <1             | 3 bands RGB    |\n",
    "| Sierra Leone          | WorldView constellation | Google Earth © Maxar | 18 February 2018 | <1             | 3 bands RGB    |\n",
    "| Ivory Coast           | WorldView constellation | Google Earth © Maxar | 12 January 2021  | <1             | 3 bands RGB    |\n",
    "| Ghana                 | WorldView constellation | Google Earth © Maxar | 31 October 2018  | <1             | 3 bands RGB    |\n",
    "| Togo                  | WorldView constellation | Google Earth © Maxar | 17 October 2019  | <1             | 3 bands RGB    |\n",
    "| Benin                 | WorldView constellation | Google Earth © Maxar | 31 July 2019    | <1             | 3 bands RGB    |\n",
    "|                       | WorldView-1 Pan         | Maxar Technologies     | 1 June 2010     | 0.5            | 3 bands RGB    |\n",
    "| Sao Tomé and Principe | Pléiades                | CNES Airbus            | 21 October 2019 | <1             | 3 bands RGB    |"
   ]
  },
  {
   "cell_type": "markdown",
   "id": "99b2a7f1-8748-451a-9577-572df2b41971",
   "metadata": {},
   "source": [
    "*RGB = Red, Green, Blue, BRGN =Red, Green, Blue, Near Infrared*"
   ]
  },
  {
   "cell_type": "markdown",
   "id": "4f88e234-e818-420a-a87d-f21b3a706ba6",
   "metadata": {},
   "source": [
    "Accuracy indicators like root mean square error (RMSE), mean absolute error (MAE) and coefficient of determination (R<sup>2</sup>) are used to test the performance of the DE Africa tool in extracting coastlines with good precision along transects."
   ]
  },
  {
   "cell_type": "markdown",
   "id": "dea79e21-7308-4523-bb0a-776e59f07e37",
   "metadata": {},
   "source": [
    "(1) $$ \\text{RMSE} = \\sqrt{\\Sigma_{i=1}^{n}{\\frac{\\big({\\hat{y}_i - y_i})^2}{n}}}$$\n",
    "\n",
    "(2) $$ R^2 = 1 - \\frac{(\\Sigma_{i=1}^{n}({y_i - \\hat{y}_i})^2)}{(\\Sigma_{i=1}^{n}({y_{(i -)} \\overline{y}})^2)}$$\n",
    "\n",
    "(3) $$ \\text{MAE} = \\frac{1}{n}\\Sigma_{(i=1)}^{n}|\\hat{y}_i - y_i|$$ "
   ]
  },
  {
   "cell_type": "markdown",
   "id": "916a0fae-75f6-4f49-a976-aae290bd47ab",
   "metadata": {},
   "source": [
    "**Figure 5: Transect points along shoreline diagram**"
   ]
  },
  {
   "cell_type": "markdown",
   "id": "ab760aca-a8c5-49d9-a9c9-f10835bdc601",
   "metadata": {},
   "source": [
    "<img src=\"../_static/data_specs/Coatlines_specs/transect_points.png\" alt=\"Transect points along shoreline diagram\" width=\"350\" align=\"left\"/>\n"
   ]
  },
  {
   "cell_type": "markdown",
   "id": "2d6d920c-4640-489a-b603-9cc96c6bb0ad",
   "metadata": {},
   "source": [
    "Following the evaluation of the precision of the DE Africa Coastlines tool, the monitoring of the dynamics of the coastline was carried out on the site of Saly Portudal (Senegal), [as a case study](https://www.digitalearthafrica.org/media-center/blog/monitoring-coastal-erosion-saly-portudal-resort-mbour-senegal). The average RMSE obtained is around 7.27m. The results obtained are way below a pixel in size. In this study prove the reliability and relevance of the combined use of the DE Africa Coastlines tool with Landsat images for monitoring coastal erosion."
   ]
  },
  {
   "cell_type": "markdown",
   "id": "5f4aa4b3-e1ae-4485-9bb3-c0c356435989",
   "metadata": {},
   "source": [
    "**Table 7: DE Africa Coastlines performance test accuracy indicator results**"
   ]
  },
  {
   "cell_type": "markdown",
   "id": "7af7c2fa-8572-467e-a03c-7fa32836b0ee",
   "metadata": {},
   "source": [
    "| Country               | Min  | Max   | MAE   | RMSE  | RMSE (%) |  RMSE (Px) | Precision |\n",
    "|-----------------------|------|-------|-------|-------|----------|------------|-----------|\n",
    "| Mauritania            | 0.00 | 31.29 | 7.17  | 8.79  | 29.30    | 2/5        | Good      |\n",
    "| Senegal               | 0.36 | 10.17 | 4.51  | 5.42  | 18.07    | 1/5        | Very good |\n",
    "| Gambia                | 0.00 | 22.32 | 5.26  | 7.77  | 25.90    | 2/5        | Good      |\n",
    "| Guinea Bissau         | 0.37 | 16.00 | 6.41  | 7.80  | 26.00    | 2/5        | Good      |\n",
    "| Guinea                | 0.25 | 24.81 | 8.14  | 9.75  | 32.50    | 2/5        | Good      |\n",
    "| Liberia               | 0.12 | 17.15 | 8.21  | 9.31  | 31.03    | 2/5        | Good      |\n",
    "| Sierra Leone          | 0.02 | 21.43 | 6.21  | 7.87  | 26.23    | 2/5        | Good      |\n",
    "| Ivory Coast           | 0.15 | 12.50 | 4.34  | 5.48  | 18.27    | 1/5        | Very good |\n",
    "| Ghana                 | 2.43 | 17.44 | 10.33 | 10.91 | 36.37    | 2/5        | Good      |\n",
    "| Togo                  | 0.01 | 16.30 | 2.95  | 4.39  | 14.63    | 1/5        | Very good |\n",
    "| Benin                 | 0.00 | 14.85 | 4.83  | 5.61  | 18.70    | 1/5        | Very good |\n",
    "| Sao Tome and Principe | 0.02 | 12.19 | 2.64  | 4.12  | 13.73    | 1/5        | Very good |\n",
    "| Average               | 0.31 | 18.04 | 5.92  | 7.27  | 24.23    | 2/5        | Good      |"
   ]
  },
  {
   "cell_type": "markdown",
   "id": "75e0c0ed-897a-4893-b637-b5802ad01e14",
   "metadata": {},
   "source": [
    "**Table 8: Precision indicator values**"
   ]
  },
  {
   "cell_type": "markdown",
   "id": "b9033540-5987-452a-bfa8-b06901ac6384",
   "metadata": {},
   "source": [
    "| RMSE (Px)   | Precision |\n",
    "|-------------|-----------|\n",
    "| < 1/5 Px       | Very good |\n",
    "| 1/5 Px - 2/5 Px   | Good      |\n",
    "| 2/5 Px - 3/5 Px | Moderate  |\n",
    "| 3/5 Px - 4/5 Px | Low       |\n",
    "| > 4/5 Px      | Very low   |"
   ]
  },
  {
   "cell_type": "markdown",
   "id": "e42e4e22-d17a-4a79-8dde-c6c73d7ea323",
   "metadata": {},
   "source": [
    "#### Caveats and Limitations "
   ]
  },
  {
   "cell_type": "markdown",
   "id": "7acd88da-2b24-4373-b00f-1e242a709c33",
   "metadata": {},
   "source": [
    "**Annual shorelines** summarise the median (i.e. \"dominant\") position of the shoreline throughout the entire year, corrected to a consistent tide height (0 m AMSL). Annual shorelines will therefore not reflect shorter-term coastal variability, for example changes in shoreline position between low and high tide, seasonal effects, or short-lived influences of individual storms. This means that these annual shorelines will show lower variability than the true range of coastal variability observed along the African coastline.\n",
    "\n",
    "**Rates of change** do not assign a reason for change, and do not necessarily represent processes of coastal erosion or sea level rise. In locations undergoing rapid coastal development, the construction of new inlets or marinas may be represented as hotspots of coastline retreat, while the construction of ports or piers may be represented as hotspots of coastline growth. Rates of change points should therefore be evaluated with reference to the underlying annual coastlines and external data sources or imagery.\n",
    "\n",
    "**Rates of change statistics** may be inaccurate or invalid within complex mouthbars, or other coastal environments undergoing rapid non-linear change through time. In these regions, it is advisable to visually assess the underlying annual coastline data when interpreting rates of change to ensure these values are fit-for-purpose.\n",
    "\n",
    "#### Data quality issues\n",
    "\n",
    "**Annual shorelines** may be less accurate in regions with complex tidal dynamics or large tidal ranges, and low-lying intertidal flats where small tidal modelling errors can lead to large horizontal offsets in coastline positions. Annual shoreline accuracy in intertidal environments may also be reduced by the influence of wet muddy substrate or intertidal vegetation, which can make it difficult to extract a single unambiguous coastline. It is anticipated that future versions of this product will show improved results due to integrating more advanced methods for waterline detection in intertidal regions, and through improvements in tidal modelling methods.Shorelines may be noisier and more difficult to interpret in regions with low availability of satellite observations caused by persistent cloud cover. In these regions it can be difficult to obtain the minimum number of clear satellite observations required to generate clean, noise-free annual shorelines.\n",
    "\n",
    "* In some urban locations, the spectra of bright white buildings located near the coastline may be inadvertently confused with water, causing a land-ward offset from true shoreline positions.\n",
    "* Some areas of extremely dark and persistent shadows (e.g. steep coastal cliffs) may be inadvertently mapped as water, resulting in a landward offset from true shoreline positions.\n",
    "* Some relatively small islands in the Indian Ocean are not well mapped by this technique as the number of suitable cloudless data throughout the year are insufficient to create a representative annual shoreline. \n"
   ]
  }
 ],
 "metadata": {
  "kernelspec": {
   "display_name": "Python 3 (ipykernel)",
   "language": "python",
   "name": "python3"
  },
  "language_info": {
   "codemirror_mode": {
    "name": "ipython",
    "version": 3
   },
   "file_extension": ".py",
   "mimetype": "text/x-python",
   "name": "python",
   "nbconvert_exporter": "python",
   "pygments_lexer": "ipython3",
   "version": "3.8.10"
  }
 },
 "nbformat": 4,
 "nbformat_minor": 5
}
