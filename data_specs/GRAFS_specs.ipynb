{
 "cells": [
  {
   "cell_type": "markdown",
   "id": "8d825006-c5bb-497b-8544-957180f127d8",
   "metadata": {
    "tags": []
   },
   "source": [
    "# Global Root-zone moisture Analysis & Forecasting System (GRAFS)"
   ]
  },
  {
   "cell_type": "raw",
   "id": "709b51b6-5984-4d41-a5c3-c28487fae54e",
   "metadata": {
    "raw_mimetype": "text/restructuredtext",
    "tags": []
   },
   "source": [
    ".. contents::\n",
    "   :local:"
   ]
  },
  {
   "cell_type": "markdown",
   "id": "35904ee8-9f1d-4ca7-86e5-eaddc13c7555",
   "metadata": {},
   "source": [
    "**Date modified:** April 2022"
   ]
  },
  {
   "cell_type": "markdown",
   "id": "f6689813-17b1-41f1-b75f-b89b6c0c9fa7",
   "metadata": {},
   "source": [
    "## Product Overview"
   ]
  },
  {
   "cell_type": "markdown",
   "id": "01846e99-6497-4bbe-ba70-27fac4f0352d",
   "metadata": {},
   "source": [
    "### Background"
   ]
  },
  {
   "cell_type": "markdown",
   "id": "46159628-0428-4dad-85d0-a0f5b0de0961",
   "metadata": {},
   "source": [
    "Root-zone soil moisture is a measure of water stored in the soil that is accessible to plant roots, making it a major contributing factor to plant health and crop yield.\n",
    "\n",
    "The Global Root-zone moisture Analysis & Forecasting System (GRAFS) is produced by the [ANU Centre for Water and Landscape Dynamics](http://wald.anu.edu.au/).\n",
    "The model estimates the surface (0-5 cm) and root-zone (0-1 m) soil moisture at 10 km spatial resolution globally, using the precipitation measured by the Global Precipitation Measurement (GPM) mission and through assimilation of the soil moisture product from the [Soil Moisture Active/Passive](https://smap.jpl.nasa.gov/mission/description/) (SMAP) mission.\n",
    "\n",
    "This product is regularly updated and made available through National Computational Infrastructure's open access THREDDS data server. The product base url is https://dapds00.nci.org.au/thredds/dodsC/ub8/global/GRAFS/.\n",
    "\n",
    "For more information on this product, contact [Luigi Renzullo](mailto:Luigi.Renzullo@anu.edu.au) and [Siyuan Tian](mailto:siyuan.tian@anu.edu.au).\n",
    "\n",
    "A [Jupyter Notebook](https://github.com/digitalearthafrica/deafrica-sandbox-notebooks/blob/main/Datasets/Soil_Moisture.ipynb) which demonstrates loading and using this dataset in the Sandbox is also available."
   ]
  },
  {
   "cell_type": "markdown",
   "id": "53917bf4-e284-4912-9f53-d0260cbbeda5",
   "metadata": {},
   "source": [
    "### Specifications "
   ]
  },
  {
   "cell_type": "markdown",
   "id": "cfbc2642-30b0-42b0-9216-870c60dae21a",
   "metadata": {},
   "source": [
    "**Table 1: GRAFS product specifications**"
   ]
  },
  {
   "cell_type": "markdown",
   "id": "bb47ad16-35aa-48bf-8a6f-9a00e662c487",
   "metadata": {},
   "source": [
    "| **Specifications** |  |\n",
    "| :-- | :-- |\n",
    "| Product name |  Global Root-zone moisture Analysis and Forecasting System (GRAFS) | \n",
    "| Cell size - X (degree) |  0.1 |\n",
    "| Cell size - Y (degree) | -0.1 | \n",
    "| Coordinate reference system | EPSG:4326 |\n",
    "| Update frequency | Daily |\n",
    "| Temporal extent | 2015 - present |"
   ]
  },
  {
   "cell_type": "markdown",
   "id": "37bb1232-4b7d-48d7-9f68-7cc6fd79ecd8",
   "metadata": {},
   "source": [
    "### Processing"
   ]
  },
  {
   "cell_type": "markdown",
   "id": "7edef932-6e9f-4e87-96cd-2e22856c3d1d",
   "metadata": {},
   "source": [
    "The Global Root-zone moisture Analysis and Forecasting System (GRAFS) is a near-real time data assimilation system that combines complementary information from model simulations and satellite observations to provide soil moisture estimates at near surface and root-zone. In GRAFS, satellite soil moisture observations from Soil Moisture Active Passive (SMAP) are assimilated into a simple first-order autoregressive model that captures the soil moisture conditions in response to precipitation, namely, the Antecedent Precipitation Index (API) model. Satellite precipitation from Global Precipitation Measurement (GPM) is used to drive the API model to simulate near surface soil moisture at 5cm. The assimilation of SMAP data relies on the four-dimensional variational (4DVAR) method to adjust the modelled surface soil moisture towards observations within a 4-day assimilation window. Soil Water Index (SWI) is then derived from the analysed surface soil moisture using an exponential filter and represents the root-zone soil wetness at approximate 1m depth. The surface and root-zone wetness from GRAFS can be converted into absolute soil moisture content using soil physical properties to provide essential support for a wide variety of hydrological and agricultural applications. "
   ]
  },
  {
   "cell_type": "markdown",
   "id": "167214fd-9575-4d18-933e-1d64571214a3",
   "metadata": {},
   "source": [
    "### Media and example images"
   ]
  },
  {
   "cell_type": "markdown",
   "id": "bca020f1-1ae3-458a-8827-ab6b38f7eb17",
   "metadata": {},
   "source": [
    "**Figure 1: GRAFS surface soil moisture and rootzone soil moisture data for the Il Ngwesi region of Kenya from 01-07-2018 to 31-05-2019.**"
   ]
  },
  {
   "cell_type": "markdown",
   "id": "93a61ecb-3e74-435d-9bb0-895491cc512e",
   "metadata": {},
   "source": [
    "<img src=\"../_static/data_specs/GRAFS_specs/surface-rootzone-soil-moisture-plot.png\" alt=\"Soil Moisture and Root Moisture Plot\" width=\"500\" align=\"left\"/>"
   ]
  },
  {
   "cell_type": "markdown",
   "id": "aada8b38-bd4e-453c-a9fb-7af16b81b57f",
   "metadata": {},
   "source": [
    "*Credit: Contains surface soil moisture and rootzone soil moisture GRAFS data.*"
   ]
  },
  {
   "cell_type": "markdown",
   "id": "5699d7e5-de40-432b-a3fc-f4f10eb59dff",
   "metadata": {},
   "source": [
    "### License"
   ]
  },
  {
   "cell_type": "markdown",
   "id": "002a0664-c300-403d-aac9-16ab362ee257",
   "metadata": {},
   "source": [
    "The  Global Root-zone moisture Analysis and Forecasting System (GRAFS) product is provided under a  [Creative Commons 4.0 International (CC BY 4.0) License](https://creativecommons.org/licenses/by/4.0/)."
   ]
  },
  {
   "cell_type": "markdown",
   "id": "3e492e1d-53a2-4aee-add0-566207c13545",
   "metadata": {},
   "source": [
    "## Data Access"
   ]
  },
  {
   "cell_type": "markdown",
   "id": "d3f919bd-a3f3-43b8-a858-c6289981b08f",
   "metadata": {},
   "source": [
    "The GRAFS dataset is external to the Digital Earth Africa Open Data Cube. \n",
    "Digital Earth Africa provides the `load_soil_moisture()` function in the [Soil Moisture Notebook](https://docs.digitalearthafrica.org/fr/latest/sandbox/notebooks/Datasets/Soil_Moisture.html) to enable users to access the data from the National Computational Infrastructure’s THREDDS OPeNDAP service. \n",
    "The [Soil Moisture Notebook](https://docs.digitalearthafrica.org/fr/latest/sandbox/notebooks/Datasets/Soil_Moisture.html) shows how to query and load the dataset."
   ]
  }
 ],
 "metadata": {
  "kernelspec": {
   "display_name": "Python 3 (ipykernel)",
   "language": "python",
   "name": "python3"
  },
  "language_info": {
   "codemirror_mode": {
    "name": "ipython",
    "version": 3
   },
   "file_extension": ".py",
   "mimetype": "text/x-python",
   "name": "python",
   "nbconvert_exporter": "python",
   "pygments_lexer": "ipython3",
   "version": "3.8.10"
  },
  "widgets": {
   "application/vnd.jupyter.widget-state+json": {
    "state": {},
    "version_major": 2,
    "version_minor": 0
   }
  }
 },
 "nbformat": 4,
 "nbformat_minor": 5
}
