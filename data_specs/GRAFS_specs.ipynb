{
 "cells": [
  {
   "cell_type": "markdown",
   "id": "8d825006-c5bb-497b-8544-957180f127d8",
   "metadata": {
    "tags": []
   },
   "source": [
    "# Global Root-zone moisture Analysis & Forecasting System (GRAFS)"
   ]
  },
  {
   "cell_type": "raw",
   "id": "709b51b6-5984-4d41-a5c3-c28487fae54e",
   "metadata": {
    "raw_mimetype": "text/restructuredtext",
    "tags": []
   },
   "source": [
    ".. contents::\n",
    "   :local:"
   ]
  },
  {
   "cell_type": "markdown",
   "id": "35904ee8-9f1d-4ca7-86e5-eaddc13c7555",
   "metadata": {},
   "source": [
    "**Date modified:** March 2022"
   ]
  },
  {
   "cell_type": "markdown",
   "id": "f6689813-17b1-41f1-b75f-b89b6c0c9fa7",
   "metadata": {},
   "source": [
    "## Product Overview"
   ]
  },
  {
   "cell_type": "markdown",
   "id": "01846e99-6497-4bbe-ba70-27fac4f0352d",
   "metadata": {},
   "source": [
    "### Background"
   ]
  },
  {
   "cell_type": "markdown",
   "id": "46159628-0428-4dad-85d0-a0f5b0de0961",
   "metadata": {},
   "source": [
    "Root-zone soil moisture is a measure of water stored in the soil that is accessible to plant roots, making it a major contributing factor to plant health and crop yield.\n",
    "\n",
    "The Global Root-zone moisture Analysis & Forecasting System (GRAFS) is produced by the [ANU Centre for Water and Landscape Dynamics](http://wald.anu.edu.au/).\n",
    "The model estimates the surface (0-5 cm) and root-zone (0-1 m) soil moisture at 10 km spatial resolution globally, using the precipitation measured by the Global Precipitation Measurement (GPM) mission and through assimilation of the soil moisture product from the [Soil Moisture Active/Passive](https://smap.jpl.nasa.gov/mission/description/) (SMAP) mission.\n",
    "\n",
    "This product is regularly updated and made available through National Computational Infrastructure's open access THREDDS data server. The product base url is https://dapds00.nci.org.au/thredds/dodsC/ub8/global/GRAFS/.\n",
    "\n",
    "For more information on this product, contact [Luigi Renzullo](mailto:Luigi.Renzullo@anu.edu.au) and [Siyuan Tian](mailto:siyuan.tian@anu.edu.au).\n",
    "\n",
    "A [Jupyter Notebook](https://github.com/digitalearthafrica/deafrica-sandbox-notebooks/blob/main/Datasets/Soil_Moisture.ipynb) which demonstrates loading and using this dataset in the Sandbox is also available."
   ]
  },
  {
   "cell_type": "markdown",
   "id": "167214fd-9575-4d18-933e-1d64571214a3",
   "metadata": {},
   "source": [
    "## Media and example images"
   ]
  },
  {
   "cell_type": "markdown",
   "id": "bca020f1-1ae3-458a-8827-ab6b38f7eb17",
   "metadata": {},
   "source": [
    "**Figure 1: GRAFS surface soil moisture and rootzone soil moisture data for the Il Ngwesi region of Kenya from 01-07-2018 to 31-05-2019.**"
   ]
  },
  {
   "cell_type": "markdown",
   "id": "93a61ecb-3e74-435d-9bb0-895491cc512e",
   "metadata": {},
   "source": [
    "<img src=\"../_static/data_specs/GRAFS_specs/surface-rootzone-soil-moisture-plot.png\" alt=\"Soil Moisture and Root Moisture Plot\" width=\"500\" align=\"left\"/>"
   ]
  },
  {
   "cell_type": "markdown",
   "id": "aada8b38-bd4e-453c-a9fb-7af16b81b57f",
   "metadata": {},
   "source": [
    "*Credit: Contains surface soil moisture and rootzone soil moisture GRAFS data.*"
   ]
  },
  {
   "cell_type": "markdown",
   "id": "3e492e1d-53a2-4aee-add0-566207c13545",
   "metadata": {},
   "source": [
    "## Data Access"
   ]
  },
  {
   "cell_type": "markdown",
   "id": "d3f919bd-a3f3-43b8-a858-c6289981b08f",
   "metadata": {},
   "source": [
    "The GRAFS dataset is external to the Digital Earth Africa Open Data Cube. \n",
    "Digital Earth Africa provides the `load_soil_moisture()` function in the [Soil Moisture Notebook](https://docs.digitalearthafrica.org/fr/latest/sandbox/notebooks/Datasets/Soil_Moisture.html) to enable users to access the data from the National Computational Infrastructure’s THREDDS OPeNDAP service. \n",
    "The [Soil Moisture Notebook](https://docs.digitalearthafrica.org/fr/latest/sandbox/notebooks/Datasets/Soil_Moisture.html) shows how to query and load the dataset."
   ]
  }
 ],
 "metadata": {
  "kernelspec": {
   "display_name": "Python 3 (ipykernel)",
   "language": "python",
   "name": "python3"
  },
  "language_info": {
   "codemirror_mode": {
    "name": "ipython",
    "version": 3
   },
   "file_extension": ".py",
   "mimetype": "text/x-python",
   "name": "python",
   "nbconvert_exporter": "python",
   "pygments_lexer": "ipython3",
   "version": "3.8.10"
  }
 },
 "nbformat": 4,
 "nbformat_minor": 5
}
