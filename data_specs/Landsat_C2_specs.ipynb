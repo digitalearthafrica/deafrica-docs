{
 "cells": [
  {
   "cell_type": "markdown",
   "metadata": {},
   "source": [
    "# Landsat Collection 2 Level-2 "
   ]
  },
  {
   "cell_type": "raw",
   "metadata": {
    "raw_mimetype": "text/restructuredtext"
   },
   "source": [
    ".. contents::\n",
    "   :local:"
   ]
  },
  {
   "cell_type": "markdown",
   "metadata": {},
   "source": [
    "**Date modified:** 17 March 2021"
   ]
  },
  {
   "cell_type": "markdown",
   "metadata": {},
   "source": [
    "## Product overview"
   ]
  },
  {
   "cell_type": "markdown",
   "metadata": {},
   "source": [
    "### Background"
   ]
  },
  {
   "cell_type": "markdown",
   "metadata": {},
   "source": [
    "Digital Earth Africa (DE Africa) provides free and open access to a copy of [Landsat Collection 2 Level-2](https://www.usgs.gov/core-science-systems/nli/landsat/landsat-collection-2-level-2-science-products) products over Africa. These products are produced and provided by the United States Geological Survey (USGS).\n",
    "\n",
    "The [Landsat series](https://www.usgs.gov/core-science-systems/nli/landsat) of Earth Observation satellites, jointly led by USGS and NASA, have been continuously acquiring images of the Earth’s land surface since 1972. DE Africa provides data from Landsat 5, 7 and 8 satellites, including historical observations dating back to late 1980s and regularly updated new acquisitions.\n",
    "\n",
    "USGS Landsat Collection 2 was released early 2021 and offers improved processing, geometric accuracy, and radiometric calibration compared to previous Collection 1 products. The Level-2 products are endorsed by the Committee on Earth Observation Satellites (CEOS) to be Analysis Ready Data for Land (CARD4L)-compliant. This internationally recognized certification ensures these products have been processed to a minimum set of requirements and organized into a form that allows immediate analysis with a minimum of additional user effort and interoperability both through time and with other datasets.\n",
    "\n",
    "USGS Landsat Collection 2 Level-2 includes:\n",
    "\n",
    "* Surface Reflectance\n",
    "* Surface Temperature\n",
    "\n",
    "Surface reflectance is the fraction of incoming solar radiation that is reflected from Earth's surface. Variations in satellite measured radiance due to atmospheric properties have been corrected for so images acquired over the same area at different times are comparable and can be used readily to detect changes on Earth’s surface. \n",
    "\n",
    "Surface Temperature measures the Earth’s surface temperature and is an important geophysical parameter in global energy balance studies and hydrologic modeling. Surface temperature is also useful for monitoring crop and vegetation health, and extreme heat events such as natural disasters (e.g., volcanic eruptions, wildfires), and urban heat island effects. \n"
   ]
  },
  {
   "cell_type": "markdown",
   "metadata": {},
   "source": [
    "### Specifications"
   ]
  },
  {
   "cell_type": "markdown",
   "metadata": {},
   "source": [
    "DE Africa provides Landsat Collection 2 Level-2 from Landsat 5, 7 and 8 as seperate products. Relevant coverage and metadata can be viewed on DE Africa Metadata Exploer:\n",
    "\n",
    "* [Landsat 5 Collection 2 Level-2](https://explorer.digitalearth.africa/products/ls5_c2l2)\n",
    "* [Landsat 7 Collection 2 Level-2](https://explorer.digitalearth.africa/products/ls7_c2l2)\n",
    "* [Landsat 8 Collection 2 Level-2](https://explorer.digitalearth.africa/products/ls8_c2l2)"
   ]
  },
  {
   "cell_type": "markdown",
   "metadata": {},
   "source": [
    "#### Landsat 5"
   ]
  },
  {
   "cell_type": "markdown",
   "metadata": {},
   "source": [
    "**Table 1: Landsat 5 Collection 2 Level-2 product specifications**"
   ]
  },
  {
   "cell_type": "markdown",
   "metadata": {},
   "source": [
    "|Specification | |\n",
    "|----------|-------------|\n",
    "|Product name|Landsat 5 Collection 2 Level-2 | \n",
    "|Satellite| Landsat 5 |\n",
    "|Instrument| Multispectral Scanner (MSS), Thematic Mapper (TM)|\n",
    "|Number of bands | 19 |\n",
    "|Cell size - X (metres) | 30 |\n",
    "|Cell size - Y (metres) | 30 |\n",
    "|Coordinate reference system | Universal Transverse Mercator (UTM) |\n",
    "|Temporal resolution | Every 16 days |\n",
    "|Temporal range| 1984 - 2013 |\n",
    "|Parent dataset| [USGS Landsat Collection 2 Level-1](https://www.usgs.gov/land-resources/nli/landsat/landsat-collection-2-level-1-data) |\n",
    "|Update frequency| NA (archive)|"
   ]
  },
  {
   "cell_type": "markdown",
   "metadata": {},
   "source": [
    "**Table 2: Landsat 5 Collection 2 Level-2 measurements**\n",
    "\n",
    "|Band ID|Description |Units | Range | Data type| No data | Conversion <sup>&dagger;</sup> |\n",
    "|----------|-------------|----------------|----------------|:---------:|:----------:|:----------:|\n",
    "|SR\\_B1 | Surface reflectance band 1 (Blue) | Unitless | `1-65455`| `uint16` | `0` | 2.75e-05 \\* DN - 0.2 |\n",
    "|SR\\_B2 | Surface reflectance band 2 (Green) | Unitless | `1-65455`| `uint16` | `0` | 2.75e-05 \\* DN - 0.2 |\n",
    "|SR\\_B3 | Surface reflectance band 3 (Red) | Unitless | `1-65455`| `uint16` | `0` | 2.75e-05 \\* DN - 0.2 |\n",
    "|SR\\_B4 | Surface reflectance band 4 (Near-Infrared (NIR)) | Unitless | `1-65455`| `uint16` | `0` | 2.75e-05 \\* DN - 0.2 |\n",
    "|SR\\_B5 | Surface reflectance band 5 (Short Wavelength Infrared (SWIR) 1) | Unitless | `1-65455`| `uint16` | `0` | 2.75e-05 \\* DN - 0.2 |\n",
    "|SR\\_B7 | Surface reflectance band 7 (SWIR 2) | Unitless | `1-65455`| `uint16` | `0` | 2.75e-05 \\* DN - 0.2 |\n",
    "|ST\\_B6 | Surface temperature band 6 (Thermal Infrared) | Kelvin | `1-65535`| `uint16` | `0` | 0.00341802 \\* DN + 149.0 |\n",
    "|ST\\_TRAD | Thermal radiance | Wm$^{-2}$sr$^{-1}$$\\mu$m$^{-1}$ | `0-22000` | `int16` | `-9999` | 0.001 \\* DN |\n",
    "|ST\\_URAD | Upwell radiance | Wm$^{-2}$sr$^{-1}$$\\mu$m$^{-1}$ | `0-28000` | `int16` | `-9999` | 0.001 \\* DN |\n",
    "|ST\\_DRAD | Downwell radiance | Wm$^{-2}$sr$^{-1}$$\\mu$m$^{-1}$ | `0-28000` | `int16` | `-9999` | 0.001 \\* DN |\n",
    "|ST\\_ATRAN | Atmospheric transmittance | Unitless | `0-10000` | `int16` | `-9999` | 0.0001 \\* DN |\n",
    "|ST\\_EMIS | Emissivity | Unitless | `0-10000` | `int16` | `-9999` | 0.0001 \\* DN |\n",
    "|ST\\_EMSD | Emissivity standard deviation | Unitless | `0-10000` | `int16` | `-9999` | 0.0001 \\* DN |\n",
    "|ST\\_CDIST | Distance to cloud | Kilometers | `0-24000` | `int16` | `-9999` | 0.01 \\* DN |\n",
    "|QA\\_PIXEL | Pixel quality | Bit Index | `0-65535` | `uint16` | `1` | NA |\n",
    "|QA\\_RADSAT | Radiometric saturation | Bit Index | `0-65535` | `uint16` | NA | NA |\n",
    "|SR\\_ATMOS \\_OPACITY | Atmospheric opacity | Unitless | `0-32767` | `int16` | `-9999` | 0.001 \\* DN |\n",
    "|SR\\_CLOUD \\_QA | Cloud mask quality | Bit Index | `0-255` | `uint8` | NA | NA |\n",
    "|ST\\_QA | Surface temperature uncertainty | Kelvin | `0-32767` | `int16` | `-9999` | 0.01 \\* DN |\n",
    "\n",
    "\n",
    "&dagger; Physical measurement can be derived from the Digital Number (DN) stored in the product using the conversion equation listed. \n",
    "\n",
    "More inforamtion can be found from [Landsat 4-5 TM Collection 2 Level 2 Data Format Control Book](https://www.usgs.gov/media/files/landsat-4-5-tm-collection-2-level-2-data-format-control-book)"
   ]
  },
  {
   "cell_type": "markdown",
   "metadata": {},
   "source": [
    "#### Landsat 7"
   ]
  },
  {
   "cell_type": "markdown",
   "metadata": {},
   "source": [
    "**Table 3: Landsat 7 Collection 2 Level-2 product specifications**\n",
    "\n",
    "|Specification | |\n",
    "|----------|-------------|\n",
    "|Product name|Landsat 7 Collection 2 Level-2 |\n",
    "|Satellite| Landsat 7 |\n",
    "|Instrument| Enhanced Thematic Mapper (ETM+)|\n",
    "|Number of bands | 19 |\n",
    "|Cell size - X (metres) | 30 |\n",
    "|Cell size - Y (metres) | 30 |\n",
    "|Coordinate reference system | Universal Transverse Mercator (UTM) |\n",
    "|Temporal resolution | Every 16 days |\n",
    "|Temporal range| 2003 - Now |\n",
    "|Parent dataset| [USGS Landsat Collection 2 Level-1](https://www.usgs.gov/land-resources/nli/landsat/landsat-collection-2-level-1-data) |\n",
    "|Update frequency| Daily |"
   ]
  },
  {
   "cell_type": "markdown",
   "metadata": {},
   "source": [
    "**Table 4: Landsat 7 Collection 2 Level-2 measurements**\n",
    "\n",
    "|Band ID|Description |Units | Range | Data type| No data| Conversion &dagger; |\n",
    "|----------|-------------|----------------|----------------|:---------:|:----------:|:----------:|\n",
    "|SR\\_B1 | Surface reflectance band 1 (Blue) | Unitless | `1-65455`| `uint16` | `0` | 2.75e-05 \\* DN - 0.2 |\n",
    "|SR\\_B2 | Surface reflectance band 2 (Green) | Unitless | `1-65455`| `uint16` | `0` | 2.75e-05 \\* DN - 0.2 |\n",
    "|SR\\_B3 | Surface reflectance band 3 (Red) | Unitless | `1-65455`| `uint16` | `0` | 2.75e-05 \\* DN - 0.2 |\n",
    "|SR\\_B4 | Surface reflectance band 4 (NIR) | Unitless | `1-65455`| `uint16` | `0` | 2.75e-05 \\* DN - 0.2 |\n",
    "|SR\\_B5 | Surface reflectance band 5 (SWIR 1) | Unitless | `1-65455`| `uint16` | `0` | 2.75e-05 \\* DN - 0.2 |\n",
    "|SR\\_B7 | Surface reflectance band 7 (SWIR 2) | Unitless | `1-65455`| `uint16` | `0` | 2.75e-05 \\* DN - 0.2 |\n",
    "|ST\\_B6 | Surface temperature band 6 (Thermal Infrared) | Kelvin | `1-65535`| `uint16` | `0` | 0.00341802 \\* DN + 149.0 |\n",
    "|ST\\_TRAD | Thermal radiance | Wm$^{-2}$sr$^{-1}$$\\mu$m$^{-1}$ | `0-22000` | `int16` | `-9999` | 0.001 \\* DN |\n",
    "|ST\\_URAD | Upwell radiance | Wm$^{-2}$sr$^{-1}$$\\mu$m$^{-1}$ | `0-28000` | `int16` | `-9999` | 0.001 \\* DN |\n",
    "|ST\\_DRAD | Downwell radiance | Wm$^{-2}$sr$^{-1}$$\\mu$m$^{-1}$ | `0-28000` | `int16` | `-9999` | 0.001 \\* DN |\n",
    "|ST\\_ATRAN | Atmospheric transmittance | Unitless | `0-10000` | `int16` | `-9999` | 0.0001 \\* DN |\n",
    "|ST\\_EMIS | Emissivity | Unitless | `0-10000` | `int16` | `-9999` | 0.0001 \\* DN |\n",
    "|ST\\_EMSD | Emissivity standard deviation | Unitless | `0-10000` | `int16` | `-9999` | 0.0001 \\* DN |\n",
    "|ST\\_CDIST | Distance to cloud | Kilometers | `0-24000` | `int16` | `-9999` | 0.01 \\* DN |\n",
    "|QA\\_PIXEL | Pixel quality | Bit Index | `0-65535` | `uint16` | `1` | NA |\n",
    "|QA\\_RADSAT | Radiometric saturation | Bit Index | `0-65535` | `uint16` | NA | NA |\n",
    "|SR\\_ATMOS \\_OPACITY | Atmospheric opacity | Unitless | `0-32767` | `int16` | `-9999` | 0.001 \\* DN |\n",
    "|SR\\_CLOUD \\_QA | Cloud mask quality | Bit Index | `0-255` | `uint8` | NA | NA |\n",
    "|ST\\_QA | Surface temperature uncertainty | Kelvin | `0-32767` | `int16` | `-9999` | 0.01 \\* DN |\n",
    "\n",
    "\n",
    "&dagger; Physical measurement can be derived from the Digital Number (DN) stored in the product using the conversion equation listed. \n",
    "\n",
    "More inforamtion can be found from [Landsat 7 ETM+ Collection 2 Level 2 Data Format Control Book](https://www.usgs.gov/media/files/landsat-7-etm-collection-2-level-2-data-format-control-book)"
   ]
  },
  {
   "cell_type": "markdown",
   "metadata": {},
   "source": [
    "#### Landsat 8"
   ]
  },
  {
   "cell_type": "markdown",
   "metadata": {},
   "source": [
    "**Table 5: Landsat 8 Collection 2 Level-2 product specifications**\n",
    "\n",
    "|Specification | |\n",
    "|----------|-------------|\n",
    "|Product name|Landsat 8 Collection 2 Level-2 | \n",
    "|Satellite| Landsat 8 |\n",
    "|Instrument| Operational Land Imager (OLI), Thermal Infrared Sensor (TIRS)\n",
    "|Number of bands | 19 |\n",
    "|Cell size - X (metres) | 30 |\n",
    "|Cell size - Y (metres) | 30 |\n",
    "|Coordinate reference system | Universal Transverse Mercator (UTM) |\n",
    "|Temporal resolution | Every 16 days |\n",
    "|Temporal range| 2013 - Now |\n",
    "|Parent dataset| [USGS Landsat Collection 2 Level-1](https://www.usgs.gov/land-resources/nli/landsat/landsat-collection-2-level-1-data) |\n",
    "|Update frequency| Daily |"
   ]
  },
  {
   "cell_type": "markdown",
   "metadata": {},
   "source": [
    "**Table 6: Landsat 8 Collection 2 Level-2 measurements**\n",
    "\n",
    "|Band ID|Description |Units | Range | Data type| No data| Conversion &dagger; |\n",
    "|----------|-------------|----------------|----------------|:---------:|:----------:|:----------:|\n",
    "|SR_B1 | Surface reflectance band 1 (Coastal Aerosol) | Unitless | `1-65455`| `uint16` | `0` | 2.75e-05 \\* DN - 0.2 |\n",
    "|SR_B2 | Surface reflectance band 2 (Blue) | Unitless | `1-65455`| `uint16` | `0` | 2.75e-05 \\* DN - 0.2 |\n",
    "|SR_B3 | Surface reflectance band 3 (Green) | Unitless | `1-65455`| `uint16` | `0` | 2.75e-05 \\* DN - 0.2 |\n",
    "|SR_B4 | Surface reflectance band 4 (Red) | Unitless | `1-65455`| `uint16` | `0` | 2.75e-05 \\* DN - 0.2 |\n",
    "|SR_B5 | Surface reflectance band 5 (NIR) | Unitless | `1-65455`| `uint16` | `0` | 2.75e-05 \\* DN - 0.2 |\n",
    "|SR_B6 | Surface reflectance band 6 (SWIR 1) | Unitless | `1-65455`| `uint16` | `0` | 2.75e-05 \\* DN - 0.2 |\n",
    "|SR_B7 | Surface reflectance band 7 (SWIR 2) | Unitless | `1-65455`| `uint16` | `0` | 2.75e-05 \\* DN - 0.2 |\n",
    "|ST_B10 | Surface temperature band 10 (Thermal Infrared) | Kelvin | `1-65535`| `uint16` | `0` | 0.00341802 \\* DN + 149.0 |\n",
    "|ST_TRAD | Thermal radiance | Wm$^{-2}$sr$^{-1}$$\\mu$m$^{-1}$ | `0-22000` | `int16` | `-9999` | 0.001 \\* DN |\n",
    "|ST_URAD | Upwell radiance | Wm$^{-2}$sr$^{-1}$$\\mu$m$^{-1}$ | `0-28000` | `int16` | `-9999` | 0.001 \\* DN |\n",
    "|ST_DRAD | Downwell radiance | Wm$^{-2}$sr$^{-1}$$\\mu$m$^{-1}$ | `0-28000` | `int16` | `-9999` | 0.001 \\* DN |\n",
    "|ST_ATRAN | Atmospheric transmittance | Unitless | `0-10000` | `int16` | `-9999` | 0.0001 \\* DN |\n",
    "|ST_EMIS | Emissivity | Unitless | `0-10000` | `int16` | `-9999` | 0.0001 \\* DN |\n",
    "|ST_EMSD | Emissivity standard deviation | Unitless | `0-10000` | `int16` | `-9999` | 0.0001 \\* DN |\n",
    "|ST_CDIST | Distance to cloud | Kilometers | `0-24000` | `int16` | `-9999` | 0.01 \\* DN |\n",
    "|QA_PIXEL | Pixel quality | Bit Index | `0-65535` | `uint16` | `1` | NA |\n",
    "|QA_RADSAT | Radiometric saturation | Bit Index | `0-65535` | `uint16` | NA | NA |\n",
    "|SR_QA \\_AEROSOL | Aerosol level | Bit Index | `0-255` | `uint8` | `1` | NA |\n",
    "|ST_QA | Surface temperature uncertainty | Kelvin | `0-32767` | `int16` | `-9999` | 0.01 \\* DN |\n",
    "\n",
    "\n",
    "&dagger; Physical measurement can be derived from the Digital Number (DN) stored in the product using the conversion equation listed. \n",
    "\n",
    "More inforamtion can be found from [Landsat 8-9 OLI/TIRS Collection 2 Level 2 Data Format Control Book](https://www.usgs.gov/media/files/landsat-8-9-olitirs-collection-2-level-2-data-format-control-book)"
   ]
  },
  {
   "cell_type": "markdown",
   "metadata": {},
   "source": [
    "### Processing"
   ]
  },
  {
   "cell_type": "markdown",
   "metadata": {},
   "source": [
    "Landsat Collection 2 Level-2 products are processed by the U.S. Geological Survey from Collection 2 Level-1 inputs. \n",
    "Landsat 8 Operational Land Imager (OLI) surface reflectance products are generated using the Land Surface Reflectance Code (LaSRC) algorithm. Landsat 4-5 Thematic Mapper (TM) and Landsat 7 Enhanced Thematic Mapper (ETM+) surface reflectance products are generated using the Landsat Ecosystem Disturbance Adaptive Processing System (LEDAPS) algorithm.\n",
    "Landsat 5, 7 and 8 surface temperature products are generated using the Landsat surface temperature algorithm, developed in cooperation with the Rochester Institute of Technology and NASA Jet Propulsion Laboratory."
   ]
  },
  {
   "cell_type": "markdown",
   "metadata": {},
   "source": [
    "### Media and example images"
   ]
  },
  {
   "cell_type": "markdown",
   "metadata": {},
   "source": [
    "TBD"
   ]
  },
  {
   "cell_type": "markdown",
   "metadata": {},
   "source": [
    "### Related services"
   ]
  },
  {
   "cell_type": "markdown",
   "metadata": {},
   "source": [
    "* [Water Observatins from Space](https://explorer.digitalearth.africa/products/)"
   ]
  },
  {
   "cell_type": "markdown",
   "metadata": {},
   "source": [
    "### References\n",
    "\n",
    "[USGS Collection Level-2 website](https://www.usgs.gov/core-science-systems/nli/landsat/landsat-collection-2)\n"
   ]
  },
  {
   "cell_type": "markdown",
   "metadata": {},
   "source": [
    "### License\n",
    "\n",
    "CC BY Attribution 4.0 International License"
   ]
  },
  {
   "cell_type": "markdown",
   "metadata": {},
   "source": [
    "### Acknowledgements\n",
    "\n",
    "Landsat Collection 2 Level-2 products are provided by the U.S. Geological Survey."
   ]
  },
  {
   "cell_type": "markdown",
   "metadata": {},
   "source": [
    "## Data access"
   ]
  },
  {
   "cell_type": "markdown",
   "metadata": {},
   "source": [
    "### Amazon Web Services S3 "
   ]
  },
  {
   "cell_type": "markdown",
   "metadata": {},
   "source": [
    "Landsat Collection 2 Level-2 is available in AWS S3 thanks to the Public Dataset Program."
   ]
  },
  {
   "cell_type": "markdown",
   "metadata": {},
   "source": [
    "**Table 7: AWS data access details.**"
   ]
  },
  {
   "cell_type": "markdown",
   "metadata": {},
   "source": [
    "|AWS S3 details | |\n",
    "|----------|-------------|\n",
    "|Bucket path | `arn:aws:s3:::deafrica-landsat`|\n",
    "|Product name| `s5_c2l2`, `ls7_c2l2`, `ls8_c2l2`|\n",
    "|Filename | filename etc. any other AWS details |"
   ]
  },
  {
   "cell_type": "markdown",
   "metadata": {},
   "source": [
    "The bucket is in the AWS region `af-south-1` (Cape Town). Additional region specifications can be applied as follows:\n",
    "\n",
    "`aws s3 ls --region=af-south-1 s3://deafrica-landsat/`\n",
    "\n",
    "The file paths follow the format `<productname>/<version>/<x>/<y>/<timeperiod>/<x>_<y>_<timeperiod>_<band>.<extension>`.\n"
   ]
  },
  {
   "cell_type": "markdown",
   "metadata": {},
   "source": [
    "**Table 8: AWS file path convention.**\n",
    "\n",
    "|File path element |  Description |Example |\n",
    "|----------|-------------|-----------------|\n",
    "|`productname`| Product name | `ls5_c2l2` | \n",
    "|`version` | Product version|`0.0.1` | \n"
   ]
  },
  {
   "cell_type": "markdown",
   "metadata": {},
   "source": [
    "Digital Earth Africa public data can be explored at [https://data.digitalearth.africa/](https://data.digitalearth.africa/)."
   ]
  },
  {
   "cell_type": "markdown",
   "metadata": {},
   "source": [
    "### OGC Web Services (OWS)"
   ]
  },
  {
   "cell_type": "markdown",
   "metadata": {},
   "source": [
    "This product is available through DE Africa's OWS."
   ]
  },
  {
   "cell_type": "markdown",
   "metadata": {},
   "source": [
    "**Table 9: OWS data access details.**\n",
    "\n",
    "|OWS details | |\n",
    "|----------|-------------|\n",
    "|Name | `DE Africa Services` |\n",
    "|Web Map Services (WMS) URL | `https://ows.digitalearth.africa/wms?version=1.3.0` |\n",
    "| Web Coverage Service (WCS) URL | `https://ows.digitalearth.africa/wcs?version=2.1.0`|\n",
    "| Layer name | *insert layer name here*|"
   ]
  },
  {
   "cell_type": "markdown",
   "metadata": {},
   "source": [
    "Digital Earth Africa OWS details can be found at [https://ows.digitalearth.africa/](https://ows.digitalearth.africa/).\n",
    "\n",
    "For instructions on how to connect to OWS, see [this tutorial](https://training.digitalearthafrica.org/en/latest/OWS_tutorial.html)."
   ]
  },
  {
   "cell_type": "markdown",
   "metadata": {},
   "source": [
    "### Open Data Cube (ODC)"
   ]
  },
  {
   "cell_type": "markdown",
   "metadata": {},
   "source": [
    "The Landsat Collection 2 Level-2 products can be accessed through the Digital Earth Africa ODC API, which is available through the [Digital Earth Africa Sandbox](https://sandbox.digitalearth.africa/hub/login).\n",
    "\n",
    "**ODC product names:** `ls5_c2l2`, `ls7_c2l2`, `ls8_c2l2`\n",
    "\n",
    "Specific bands of data can be called by using either the default names or any of a band's alternative names, as listed in the table below. ODC `Datacube.load` commands without specified bands will load all bands."
   ]
  },
  {
   "cell_type": "markdown",
   "metadata": {},
   "source": [
    "**Table 10: Landsat 5 and Landsat 7 Collection 2 Level-2 (ODC product ls5_c2l2 and ls7_c2l2) band names.**\n",
    "\n",
    "|Band name| Alternative names|\n",
    "|----------|-------------|\n",
    "|SR_B1 | B1, band_1, blue |\n",
    "|SR_B2 | B2, band_2, green |\n",
    "|SR_B3 | B3, band_3, red |\n",
    "|SR_B4 | B4, band_4, nir |\n",
    "|SR_B5 | B5, band_5, swir_1 | \n",
    "|SR_B7 | B7, band_7, swir_2 |\n",
    "|ST_B6 | B6, band_6, surface_temperature, land_surface_temperature |\n",
    "|ST_TRAD | st_trad, thermal_radiance |\n",
    "|ST_URAD | st_urad, upwell_radiance |\n",
    "|ST_DRAD | st_drad, downwell_radiance |\n",
    "|ST_ATRAN | st_atran, atmospheric_transmittance |\n",
    "|ST_EMIS | st_emis, emissivity |\n",
    "|ST_EMSD | emissivity_stddev, emissivity_standard_deviation |\n",
    "|ST_CDIST | st_cdist, cloud_distance | \n",
    "|QA_PIXEL | quality_pixel, pixel_quality, pq |\n",
    "|QA_RADSAT | quality_radiometric_saturation, radiometric_saturation |\n",
    "|SR_ATMOS_OPACITY | st_atmos_opacity, atmos_op, atmospheric_opacity | \n",
    "|SR_CLOUD_QA | sr_cloud_qa, cloud_qa, qa_cloud |\n",
    "|ST_QA | quality_surface_temperature, surface_temperature |\n"
   ]
  },
  {
   "cell_type": "markdown",
   "metadata": {},
   "source": [
    "**Table 11: Landsat 8 Collection 2 Level-2 (ODC product ls8_c2l2) band names.**\n",
    "\n",
    "(Do we need lower case band names in alias?)\n",
    "\n",
    "|Band name| Alternative names| Fill value |\n",
    "|----------|-------------|:------:|\n",
    "|SR_B1 | B1, band_1, coastal_aerosol | 0 |\n",
    "|SR_B2 | B2, band_2, blue | 0 |\n",
    "|SR_B3 | B3, band_3, green | 0 |\n",
    "|SR_B4 | B4, band_4, red | 0 |\n",
    "|SR_B5 | B5, band_5, nir | 0 |\n",
    "|SR_B6 | B6, band_6, swir_1 |  0 |\n",
    "|SR_B7 | B7, band_7, swir_2 | 0 |\n",
    "|ST_B10 | B10, band_6, surface_temperature, land_surface_temperature | 0 |\n",
    "|ST_TRAD | st_trad, thermal_radiance | `-9999` |\n",
    "|ST_URAD | st_urad, upwell_radiance | `-9999` |\n",
    "|ST_DRAD | st_drad, downwell_radiance | `-9999` |\n",
    "|ST_ATRAN | st_atran, atmospheric_transmittance | `-9999` |\n",
    "|ST_EMIS | st_emis, emissivity | `-9999` |\n",
    "|ST_EMSD | emissivity_stddev, emissivity_standard_deviation | `-9999` |\n",
    "|ST_CDIST | st_cdist, cloud_distance | `-9999` |\n",
    "|QA_PIXEL | quality_pixel, pixel_quality, pq | `1` |\n",
    "|QA_RADSAT | quality_radiometric_saturation, radiometric_saturation | `0` |\n",
    "|SR_QA_AEROSOL | sr_qa_aerosol, aerosol_qa, qa_aerosol | `1` |\n",
    "|ST_QA | quality_surface_temperature, surface_temperature | `-9999` |\n"
   ]
  },
  {
   "cell_type": "markdown",
   "metadata": {},
   "source": [
    "Band names are case-sensitive. \n",
    "\n",
    "For examples on how to use the ODC API, see the DE Africa [example notebook repository](https://github.com/digitalearthafrica/deafrica-sandbox-notebooks)."
   ]
  },
  {
   "cell_type": "markdown",
   "metadata": {},
   "source": [
    "## Technical information"
   ]
  },
  {
   "cell_type": "markdown",
   "metadata": {},
   "source": [
    "### Surface Reflectance"
   ]
  },
  {
   "cell_type": "markdown",
   "metadata": {},
   "source": []
  },
  {
   "cell_type": "markdown",
   "metadata": {},
   "source": []
  },
  {
   "cell_type": "markdown",
   "metadata": {},
   "source": [
    "### Surface Temperature"
   ]
  },
  {
   "cell_type": "markdown",
   "metadata": {},
   "source": [
    "The surface temperature product is generated from the Landsat Collection 2 Level-1 thermal infrared bands, Top of Atmosphere (TOA) reflectance, TOA brightness temperature, Advanced Spaceborne Thermal Emission and Reflection Radiometer (ASTER) Global Emissivity Database (GED) data, ASTER Normalized Difference Vegetation Index (NDVI) data, and atmospheric profiles of geopotential height, specific humidity, and air temperature extracted from Goddard Earth Observing System (GEOS) Model Version 5 Forward Processing Instrument Teams (FP-IT) (for acquisitions from 2000 to present) or Modern Era Retrospective analysis for Research and Applications Version 2 (MERRA-2) (for acquisitions from 1982 to 1999).\n",
    "\n",
    "For more information and caveats of the product, visit the [Landsat Collection 2 Surface Temperature webpage](https://www.usgs.gov/core-science-systems/nli/landsat/landsat-collection-2-surface-temperature)."
   ]
  },
  {
   "cell_type": "markdown",
   "metadata": {},
   "source": [
    "The surface temperature product is provided at 30 m spatial sampling, however, the thermal sensors vary in spectral response, sensitivity and resolution.\n",
    "\n",
    "| Satellite | Sensor | Spetral Band | Wavelength (µm) | Spatial Resolution (m) |\n",
    "|:-------:|:-------:|:-------:|:-------:|:-------:|\n",
    "|Landsat 8 | Thermal Infrared Sensor (TIRS) | 10 | 10.60 - 11.19 | 100 \n",
    "|  |  | 11 | 11.50 - 12.51 | 100 \n",
    "|Landsat 7 | Enhanced Thematic Mapper Plus (ETM+) | 6 | 10.31 - 12.36 | 60\n",
    "|Landsat 5 | Thematic Mapper (TM) | 6 | 10.40 - 12.50 | 120\n"
   ]
  },
  {
   "cell_type": "markdown",
   "metadata": {},
   "source": [
    "Following measurements are useful for interperting the surface temperature products:\n",
    "\n",
    "| Name | Explanation |\n",
    "|----------|-------------|\n",
    "| Surface temperature (ST) | The temperature of the Earth’s surface in Kelvin (K).\n",
    "| Thermal radiance (ST_TRAD) | The values produced when thermal band reflectance is converted to radiance.\n",
    "| Upwell radiance (ST_URAD) | The amount of electromagnetic radiation reflected upward from the ground’s surface.\n",
    "| Downwellradiance (ST_DRAD) | The thermal energy radiated onto the ground by all objects in a hemisphere surrounding it.\n",
    "| Atmospheric transmittance (ST_ATRAN) | The ratio of the transmitted radiation to the total radiation incident upon the medium (atmosphere).\n",
    "| Emissivity (ST_EMIS) | The ratio of the energy radiated from a material’s surface to that radiated from a blackbody.\n",
    "| Emissivity_stdev (ST_EMSD) | The extent of deviation of the emissivity product. This layer is used along with cloud_distance to create the quality assessment product. \n",
    "| Distance to cloud (ST_CDIST) | The distance, in kilometers, that a pixel is from the nearest cloud pixel. This layer is used along with emissivity_stdev to create the quality assessment product.\n",
    "| Surface temperature uncertainty (ST_QA) | Provides the Surface Temperature product uncertainty using a combination of uncertainty values and distance to cloud values.\n"
   ]
  },
  {
   "cell_type": "code",
   "execution_count": null,
   "metadata": {},
   "outputs": [],
   "source": []
  }
 ],
 "metadata": {
  "kernelspec": {
   "display_name": "Python 3",
   "language": "python",
   "name": "python3"
  },
  "language_info": {
   "codemirror_mode": {
    "name": "ipython",
    "version": 3
   },
   "file_extension": ".py",
   "mimetype": "text/x-python",
   "name": "python",
   "nbconvert_exporter": "python",
   "pygments_lexer": "ipython3",
   "version": "3.6.9"
  }
 },
 "nbformat": 4,
 "nbformat_minor": 4
}
