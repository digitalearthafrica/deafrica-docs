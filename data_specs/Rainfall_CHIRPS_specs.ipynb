{
 "cells": [
  {
   "cell_type": "markdown",
   "id": "74d3699e-a68c-4681-b11e-1bc30d363ae8",
   "metadata": {},
   "source": [
    "# Rainfall - Climate Hazards Group InfraRed Precipitation with Station data (CHIRPS)"
   ]
  },
  {
   "cell_type": "raw",
   "id": "943254bc-6c32-42c4-bddd-dba94c624d34",
   "metadata": {},
   "source": [
    ".. contents::\n",
    "   :local:"
   ]
  },
  {
   "cell_type": "markdown",
   "id": "7962cd5e-df70-456f-ab09-9154cfb611a6",
   "metadata": {},
   "source": [
    "**Date modified:** 29 December 2021 "
   ]
  },
  {
   "cell_type": "markdown",
   "id": "bb626165-bd31-4f6c-99b4-370a4b0f6e0e",
   "metadata": {},
   "source": [
    "## Product overview"
   ]
  },
  {
   "cell_type": "markdown",
   "id": "ee517890-c329-4ad3-9f86-a8558998de43",
   "metadata": {},
   "source": [
    "### Background\n"
   ]
  },
  {
   "cell_type": "markdown",
   "id": "7d722d5a-90dd-4717-8940-395f940f7734",
   "metadata": {},
   "source": [
    "Digital Earth Africa (DE Africa) provides free and open access to a copy of the [Climate Hazards Group InfraRed Precipitation with Station data (CHIRPS)](https://www.chc.ucsb.edu/data/chirps) monthly and daily products over Africa. These products are produced and provided by the Climate Hazards Center.\n",
    "\n",
    "For more information on the product see the [CHIRPS data website](https://www.chc.ucsb.edu/data/chirps) and the [reference publication](https://doi.org/10.1038/sdata.2015.66)."
   ]
  },
  {
   "cell_type": "markdown",
   "id": "8e0273a6-89fa-4ffa-a58e-b1c18e66ca14",
   "metadata": {},
   "source": [
    "### Specifications "
   ]
  },
  {
   "cell_type": "markdown",
   "id": "ee804e1f-4dca-414b-a9f1-8c669a15fec4",
   "metadata": {},
   "source": [
    "#### Spatial and temporal coverage"
   ]
  },
  {
   "cell_type": "markdown",
   "id": "f2eba1c9-d9d9-41e3-ae7f-1820081bf229",
   "metadata": {},
   "source": [
    "DE Africa provides the monthly and daily CHIRPS datasets as two seperate products. \n",
    "The relevant metadata for the two products can be viewed on the DE Africa [Metadata Explorer](https://explorer.digitalearth.africa/products):\n",
    "\n",
    "* [Rainfall CHIRPS daily](https://explorer.digitalearth.africa/products/rainfall_chirps_daily)\n",
    "* [Rainfall CHIRPs monthly](https://explorer.digitalearth.africa/products/rainfall_chirps_monthly)"
   ]
  },
  {
   "cell_type": "markdown",
   "id": "6a71b6cc-0144-4848-a239-a632d966c2c3",
   "metadata": {},
   "source": [
    "**Table 1: Rainfall CHIRPS product specifications**"
   ]
  },
  {
   "cell_type": "markdown",
   "id": "0fe726ac-9d61-4569-b98d-b8254b8a2446",
   "metadata": {},
   "source": [
    "|Specification | | | \n",
    "|----------|-------------|-------------|\n",
    "|Product name|  rainfall_chirps_daily |  rainfall_chirps_monthly |\n",
    "|Cell size - X (metres) | 5000 | 5000 |\n",
    "|Cell size - Y (metres) | 5000 | 5000 |\n",
    "|Coordinate reference system | EPSG:4326 | EPSG:4326 |\n",
    "|Temporal resolution | 1 day | 30 days |\n",
    "|Temporal range| 1981 &ndash; present | 1981 &ndash; present |\n",
    "|Update frequency| Daily | Monthly |"
   ]
  },
  {
   "cell_type": "markdown",
   "id": "e48b69e8-35f6-4555-b022-96d3f5cac442",
   "metadata": {},
   "source": [
    "All the rainfall CHIRPS products have the same geographic extent. \n",
    "Data is available for the region shaded in blue. \n",
    "Specific temporal and geographic extents can be explored as an interactive map on the Digital Earth Africa [Metadata Explorer](https://explorer.digitalearth.africa/products). "
   ]
  },
  {
   "cell_type": "markdown",
   "id": "67d007ee-7077-4222-adc4-3f21df628c77",
   "metadata": {},
   "source": [
    "**Figure 1: `rainfall_chirps_monthly` product geographic extent**."
   ]
  },
  {
   "cell_type": "markdown",
   "id": "5ffca20d-c497-4e66-b439-e7dc06ad29f8",
   "metadata": {},
   "source": [
    "<img src=\"../_static/data_specs/Rainfall_CHIRPS_specs/chirps_geographic_extent.png\" alt=\"Rainfall CHIRPS Geographic Extent\" width=\"300\" align=\"left\"/>"
   ]
  },
  {
   "cell_type": "markdown",
   "id": "05653cbf-e540-4a9f-8583-f093cb7920ee",
   "metadata": {},
   "source": [
    "#### Measurements"
   ]
  },
  {
   "cell_type": "markdown",
   "id": "3e32df74-9d46-460c-8a5d-f6096d68003b",
   "metadata": {},
   "source": [
    "**Table 2: Rainfall CHIRPS measurements**"
   ]
  },
  {
   "cell_type": "markdown",
   "id": "fddebfa9-dcda-4ea3-b4c5-417802a41124",
   "metadata": {},
   "source": [
    "|Product name|Band ID| Description | Units | Data type| No data value|\n",
    "|----------|----------|-------------|----------------|:---------:|:----------:|\n",
    "| rainfall_chirps_monthly | rainfall | Monthly Atmospheric Precipitation |`mm`| `float32` | `-9999.0` |\n",
    "| rainfall_chirps_daily | rainfall | Daily Atmospheric Precipitation |`mm`| `float32` | `-9999.0` |"
   ]
  },
  {
   "cell_type": "markdown",
   "id": "6bed4ffd-6169-4332-aaf1-3705496ee1f5",
   "metadata": {},
   "source": [
    "### Processing"
   ]
  },
  {
   "cell_type": "markdown",
   "id": "2326a52a-4995-441b-aeb1-ac651277d040",
   "metadata": {},
   "source": [
    "The Climate Hazards group Infrared Precipitation with Stations (CHIRPS) algorithm was developed by the [Climate Hazards Center](https://www.chc.ucsb.edu/data/chirps) and is described in [Funk, C., Peterson, P., Landsfeld, M. et al. (2015)](https://doi.org/10.1038/sdata.2015.66)."
   ]
  },
  {
   "cell_type": "markdown",
   "id": "734d05a9-65f9-4551-9572-e433aaf132ba",
   "metadata": {},
   "source": [
    "### Media and example images\n",
    "\n",
    "**Figure 2: Animation of monthly Rainfall CHIRPS over Nigeria from 2020 to 2021.**\n",
    "\n",
    "Credit: Contains Rainfall CHIRPS Product courtesy of the Climate Hazards Center, processed by Digital Earth Africa.\n",
    "\n",
    "<img src=\"../_static/data_specs/Rainfall_CHIRPS_specs/animated_timeseries_rainfall.gif\" alt=\"Rainfall over Nigeria\" width=\"300\" align=\"left\"/>"
   ]
  },
  {
   "cell_type": "markdown",
   "id": "b3d75b08-2b87-45e3-bd2e-1d933b686531",
   "metadata": {},
   "source": [
    "### References"
   ]
  },
  {
   "cell_type": "markdown",
   "id": "79ee355c-a4fe-4d34-af91-0b51c6779278",
   "metadata": {},
   "source": [
    "Funk, C., Peterson, P., Landsfeld, M. et al. (2015). \n",
    "The climate hazards infrared precipitation with stations—a new environmental record for monitoring extremes. \n",
    "Sci Data 2, 150066. https://doi.org/10.1038/sdata.2015.66\n",
    "\n",
    "[CHIRPS webpage](https://www.chc.ucsb.edu/data/chirps)"
   ]
  },
  {
   "cell_type": "markdown",
   "id": "c5be801a-b9d7-4744-8b91-f62dc5fc6b6b",
   "metadata": {},
   "source": [
    "### License"
   ]
  },
  {
   "cell_type": "markdown",
   "id": "3c3246f4-f973-4cb9-9009-2a5a80682e36",
   "metadata": {},
   "source": [
    "CHIRPS data is in the public domain as registered with Creative Commons. \n",
    "To the extent possible under the law, [Pete Peterson](https://chc.ucsb.edu/people/pete-peterson) has waived all copyright and related or neighboring rights to Climate Hazards Group Infrared Precipitation with Stations (CHIRPS)."
   ]
  },
  {
   "cell_type": "markdown",
   "id": "321bde3b-d021-4ca9-a672-733a9289e037",
   "metadata": {},
   "source": [
    "### Acknowledgements"
   ]
  },
  {
   "cell_type": "markdown",
   "id": "bb2776e9-2457-4a23-ba99-4cae41898113",
   "metadata": {},
   "source": [
    "The CHIRPS monthly and daily products are provided by the Climate Hazards Center (CHC), UC Santa Barbara. "
   ]
  },
  {
   "cell_type": "markdown",
   "id": "5528d9f7-3526-430b-8166-d0ef03313ce3",
   "metadata": {},
   "source": [
    "## Data Access"
   ]
  },
  {
   "cell_type": "markdown",
   "id": "eaf983c7-3a84-4ef3-a3ed-a97ec12c9fa6",
   "metadata": {},
   "source": [
    "### Amazon Web Service S3"
   ]
  },
  {
   "cell_type": "markdown",
   "id": "73fdb16f-ba2b-420f-ab95-e334f155221f",
   "metadata": {},
   "source": [
    "The Digital Earth Africa CHIRPS products are available in AWS S3. "
   ]
  },
  {
   "cell_type": "markdown",
   "id": "d8ec39cb-9412-4e64-b75a-2654fbf823be",
   "metadata": {},
   "source": [
    "**Table 3: AWS data access details**"
   ]
  },
  {
   "cell_type": "markdown",
   "id": "a5c28b23-effd-42d7-a3ce-f651cca88a02",
   "metadata": {},
   "source": [
    "|AWS S3 details | |\n",
    "|----------|-------------|\n",
    "|Bucket ARD | `arn:aws:s3:::deafrica-input-datasets`|\n",
    "|Region | `af-south-1` |"
   ]
  },
  {
   "cell_type": "markdown",
   "id": "96ea9c12-97a2-49c1-8e78-458ce033ea83",
   "metadata": {},
   "source": [
    "The bucket is in the AWS region `af-south-1` (Cape Town). \n",
    "Additional region specifications can be applied as follows:\n",
    "\n",
    "`aws s3 ls --region=af-south-1 s3://deafrica-input-datasets/`\n",
    "\n",
    "The following file path conventions apply to the `rainfall_chirps_monthly` and `rainfall_chirps_daily` products respectively:\n",
    "\n",
    "`s3://deafrica-input-datasets/rainfall_chirps_monthly/` \n",
    "\n",
    "`s3://deafrica-input-datasets/rainfall_chirps_daily/<year>/<month>/`"
   ]
  },
  {
   "cell_type": "markdown",
   "id": "f9522834-e5a4-4db3-8540-d4385ad97949",
   "metadata": {},
   "source": [
    "### OGC Web Services (OWS)"
   ]
  },
  {
   "cell_type": "markdown",
   "id": "bbad062b-d64d-462d-9ce4-4e62496d937e",
   "metadata": {},
   "source": [
    "The CHIRPS product `rainfall_chirps_monthly` is available through the Digital Earth Africa's OWS. "
   ]
  },
  {
   "cell_type": "markdown",
   "id": "3839ef12-fc10-40f2-bdd9-dc50e821fc04",
   "metadata": {},
   "source": [
    "**Table 4: OWS data access details.**\n",
    "\n",
    "|OWS details | |\n",
    "|----------|-------------|\n",
    "|Name | `DE Africa Services` |\n",
    "|Web Map Services (WMS) URL | `https://ows.digitalearth.africa/wms?version=1.3.0` |\n",
    "| Web Coverage Service (WCS) URL | `https://ows.digitalearth.africa/wcs?version=2.1.0`|\n",
    "| Layer names | `rainfall_chirps_monthly`|\n",
    "\n",
    "Digital Earth Africa OWS details can be found at [https://ows.digitalearth.africa/](https://ows.digitalearth.africa/).\n",
    "\n",
    "For instructions on how to connect to OWS, see [this tutorial](../web_services/index.ipynb)."
   ]
  },
  {
   "cell_type": "markdown",
   "id": "45331565-b472-424c-8226-c1a46a1a4703",
   "metadata": {},
   "source": [
    "### Open Data Cube (ODC)"
   ]
  },
  {
   "cell_type": "markdown",
   "id": "81ea055e-5086-41c6-8db6-e5b642c433ac",
   "metadata": {},
   "source": [
    "The Rainfall - CHIRPS products can be accessed through the Digital Earth Africa ODC API, which is available through the [Digital Earth Africa Sandbox](https://sandbox.digitalearth.africa/hub/login).\n",
    "\n",
    "**ODC product names:** `rainfall_chirps_monthly`, `rainfall_chirps_daily`"
   ]
  },
  {
   "cell_type": "markdown",
   "id": "32d02674-b933-4da5-9e52-8c6882c8d29f",
   "metadata": {},
   "source": [
    "The products have only one specific band of data which can be called by using the default name, as listed in the table below. \n",
    "ODC `Datacube.load` commands without specified bands will load the band."
   ]
  },
  {
   "cell_type": "markdown",
   "id": "e77f548c-f8ca-41ab-b808-1cdf09ebdd13",
   "metadata": {},
   "source": [
    "**Table 3: ODC product `rainfall_chirps_monthly` and `rainfall_chirps_daily` band names.**"
   ]
  },
  {
   "cell_type": "markdown",
   "id": "36aeb523-9e55-43f8-af11-d55a9ef8570c",
   "metadata": {},
   "source": [
    "|Band name| Alternative names| Fill value |\n",
    "|----------|-------------|:------:|\n",
    "|rainfall | NaN | `-9999.0` |"
   ]
  },
  {
   "cell_type": "markdown",
   "id": "bfec0917-0ef7-4b71-8223-f05e203d63b8",
   "metadata": {},
   "source": [
    "## Technical Information "
   ]
  },
  {
   "cell_type": "markdown",
   "id": "2261e43a-fe42-4e37-9b2b-1e7bd0d0cd0f",
   "metadata": {},
   "source": [
    "Climate Hazards Group InfraRed Precipitation with Station data (CHIRPS) is a 35+ year quasi-global rainfall data set, spanning 50°S-50°N (and all longitudes) and ranging from 1981 to near-present. \n",
    "CHIRPS incorporates the Climate Hazards group Precipitation climatology (CHPclim) that incorporates satellite information to represent sparsely gauged locations, 0.05° resolution satellite-only CCD-based Climate Hazards group Infrared Precipitation (CHIRP) estimates, and in-situ station data to create gridded rainfall time series for trend analysis and seasonal drought monitoring.\n",
    "\n",
    "For more information on the CHIRPS product visit the [CHIRPS webpage](https://www.chc.ucsb.edu/data/chirps).\n"
   ]
  }
 ],
 "metadata": {
  "kernelspec": {
   "display_name": "Python 3 (ipykernel)",
   "language": "python",
   "name": "python3"
  },
  "language_info": {
   "codemirror_mode": {
    "name": "ipython",
    "version": 3
   },
   "file_extension": ".py",
   "mimetype": "text/x-python",
   "name": "python",
   "nbconvert_exporter": "python",
   "pygments_lexer": "ipython3",
   "version": "3.8.10"
  }
 },
 "nbformat": 4,
 "nbformat_minor": 5
}
