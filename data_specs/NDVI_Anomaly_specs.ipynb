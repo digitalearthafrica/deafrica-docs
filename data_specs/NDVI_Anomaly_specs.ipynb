{
 "cells": [
  {
   "cell_type": "markdown",
   "metadata": {},
   "source": [
    "# Monthly Normalised Difference Vegetation Index (NDVI) Anomaly"
   ]
  },
  {
   "cell_type": "raw",
   "metadata": {
    "raw_mimetype": "text/restructuredtext"
   },
   "source": [
    ".. contents::\n",
    "   :local:"
   ]
  },
  {
   "cell_type": "markdown",
   "metadata": {},
   "source": [
    "**Date modified:** Nov 2022"
   ]
  },
  {
   "cell_type": "markdown",
   "metadata": {},
   "source": [
    "## Service overview"
   ]
  },
  {
   "cell_type": "markdown",
   "metadata": {},
   "source": [
    "### Description\n",
    "\n",
    "Digital Earth Africa's Monthly NDVI Anomaly service provides estimate of vegetation condition, for each caldendar month, against the long-term baseline condition measured for the month from 1984 to 2020 in the [NDVI Climatology](https://docs.digitalearthafrica.org/en/latest/data_specs/NDVI_Climatology_specs.html). \n",
    "\n",
    "A standardised anomaly is calculated by subtracting the long-term mean from an observation of interest and then dividing the result by the long-term standard deviation. \n",
    "The equation below applies for monthly NDVI anomalies:\n",
    "\n",
    "\\begin{equation}\n",
    "\\text{Standardised anomaly }=\\frac{NDVI_{month, year}-NDVI_{month}}{\\sigma}\n",
    "\\end{equation}\n",
    "\n",
    "where $NDVI_{month, year}$ is the NDVI measured for a month in a year, $NDVI_{month}$ is the long-term mean for this month from 1984 to 2020, and $\\sigma$ is the long-term standard deviation. A standarised anomaly therefore measures the direction and significance of vegeation change against normal conditions. \n",
    "\n",
    "Postive NDVI anomaly values indicate vegetation is greener than average conditions, and are usually due to increased rainfall in a region. Negative values indicate additional plant stress relative to the long-term average. The NDVI anomaly service is therefore effective for understanding the extent, intensity and impact of a drought. \n",
    "\n",
    "Abrupt and significant negative anomalies may also be caused by fire disturbance.\n",
    "\n",
    "A [Jupyter Notebook](https://github.com/digitalearthafrica/deafrica-sandbox-notebooks/blob/main/Datasets/NDVI_Anomaly.ipynb) which demonstrates loading and using this dataset in the Sandbox is also available."
   ]
  },
  {
   "cell_type": "markdown",
   "metadata": {},
   "source": [
    "### Specifications"
   ]
  },
  {
   "cell_type": "markdown",
   "metadata": {},
   "source": [
    "**Table 1: NDVI Anomaly specifications** "
   ]
  },
  {
   "cell_type": "markdown",
   "metadata": {},
   "source": [
    "|Specification | |\n",
    "|----------|-------------|\n",
    "|Product name| `ndvi_anomaly` |\n",
    "|Cell size - X (metres) | 30 |\n",
    "|Cell size - Y (metres) | 30 |\n",
    "|Coordinate reference system | EPSG: 6933 |\n",
    "|Temporal resolution | N/A |\n",
    "|Temporal range| 2017 - now |\n",
    "|Parent dataset| Landsat 8, 9, Sentinel-2 |\n",
    "|Update frequency| Monthly |\n",
    "\n",
    "From September 2022, the Monthly NDVI Anomaly is generated as a low latency product, i.e. anomaly for a month is generated on the 5th day of the following month. This ensures data is available shortly after the end of a month and all Landat 9 and Sentinel-2 observations are included. Not all landsat 8 observations for the month will be used, because the Landsat 8 Surface Refelectance product from USGS has a latency of over 2 weeks (see [Landsat Collection 2 Generation Timeline](https://www.usgs.gov/media/images/landsat-collection-2-generation-timeline)).\n",
    "\n",
    "From January 2017 to August 2022, all available Landsat 8, Landsat 9 and Sentinel-2 observations are used in the calculation of the anomalies.\n"
   ]
  },
  {
   "cell_type": "markdown",
   "metadata": {},
   "source": [
    "**Table 2: NDVI Anomaly measurements**"
   ]
  },
  {
   "cell_type": "markdown",
   "metadata": {},
   "source": [
    "|Band ID| Description |Value range| Data type| NoData/Fill value|\n",
    "|----------|-------------|----------------|:---------:|:----------:|\n",
    "|ndvi_mean | Mean NDVI for a month |`0 - 1`| `float32` | `nan` |\n",
    "|ndvi_std_anomaly | Standardised NDVI anomaly for a month |`0 - 1`| `float32` | `nan` |\n",
    "|clear_count | Number of clear observations in a month |`0 - ~10`| `int8` | `0` |"
   ]
  },
  {
   "cell_type": "markdown",
   "metadata": {},
   "source": [
    "The specific temporal and geographic extents for the product can be explored as an interactive map on the [Metadata Explorer](https://explorer.digitalearth.africa/products/ndvi_anomaly). Data is available for the region shaded in blue.\n",
    "\n",
    "**Figure 1: The dataset coverage for the NDVI anomaly product**"
   ]
  },
  {
   "cell_type": "markdown",
   "metadata": {},
   "source": [
    "<img src=\"../_static/data_specs/NDVI_Anomaly_specs/NDVI_Anomaly_extent.JPG\" width=\"400\" align=\"left\"/>"
   ]
  },
  {
   "cell_type": "markdown",
   "metadata": {},
   "source": [
    "### Media and example images"
   ]
  },
  {
   "cell_type": "markdown",
   "metadata": {},
   "source": [
    "**Image 1: Mean NDVI and NDVI anomaly for June 2022 over Uganda**\n",
    "\n",
    "\n",
    "<img src=\"../_static/data_specs/NDVI_Anomaly_specs/NDVI_Anomaly_Uganda_202206.PNG\" width=\"800\" align=\"centre\"/>"
   ]
  },
  {
   "cell_type": "markdown",
   "metadata": {},
   "source": [
    "### License\n",
    "\n",
    "CC BY Attribution 4.0 International License"
   ]
  },
  {
   "cell_type": "markdown",
   "metadata": {},
   "source": [
    "## Data Access"
   ]
  },
  {
   "cell_type": "markdown",
   "metadata": {
    "tags": []
   },
   "source": [
    "### Amazon Web Services S3\n",
    "\n",
    "The NDVI Anomaly service is available in AWS S3 thanks to the Public Dataset Program.\n",
    "\n",
    "**Table 3: AWS data access details**\n",
    "\n",
    "|AWS S3 details | |\n",
    "|----------|-------------|\n",
    "|Bucket ARN | `arn:aws:s3:::deafrica-services`|\n",
    "| Product name| `ndvi_anomaly` |"
   ]
  },
  {
   "cell_type": "markdown",
   "metadata": {
    "jp-MarkdownHeadingCollapsed": true,
    "tags": []
   },
   "source": [
    "The bucket is located in the region `af-south-1` (Cape Town).\n",
    "Additional region specifications can be applied as follows:\n",
    "\n",
    "`aws s3 ls --region=af-south-1 s3://deafrica-services/ndvi_anomaly/`\n",
    "\n",
    "The file paths follow the format:\n",
    "\n",
    "`<productname>/<version>/<x>/<y>/<timeperiod>/<x><y>_<timeperiod>_<band>.<extension>`"
   ]
  },
  {
   "cell_type": "markdown",
   "metadata": {},
   "source": [
    "**Table 4: AWS file path convention**\n",
    "\n",
    "|File path element |  Description |Example |\n",
    "|----------|-------------|-----------------|\n",
    "|`productname`| Product name | `ndvi_anomaly` | \n",
    "|`version` | Product version|`1.0.0` | \n",
    "| `x` | Tile number in the `x` direction. | `x17` |\n",
    "| `y` | Tile number in the `y` direction. | `y156` |\n",
    "| `timeperiod`| Year and month of data collection followed by period of time and time unit in the format `YYYY-MM--P<period><unit>`. Time units are designated by capitalised letters, `Y` for years and `M` for months. |`2022-06--P1M`|\n",
    "|`x_y_timeperiod_band.extension`| File name.  Combines `x`, `y`, `timeperiod` with `band`, using Band IDs, and file extensions. For most tiles, the file extension is `.tif`.   | |"
   ]
  },
  {
   "cell_type": "markdown",
   "metadata": {},
   "source": [
    "### Open Data Cube (ODC)\n",
    "\n",
    "The NDVI Anomaly datasets can be accessed through the Digital Earth Africa ODC API, which is available through the [Digital Earth Africa Sandbox](https://sandbox.digitalearth.africa/hub/login).\n",
    "\n",
    "**ODC product name:** `ndvi_anomaly`\n",
    "\n",
    "For examples on how to use the ODC API, see the DE Africa [example notebook repository](https://github.com/digitalearthafrica/deafrica-sandbox-notebooks)."
   ]
  },
  {
   "cell_type": "markdown",
   "metadata": {},
   "source": [
    "### OGC Web Services (OWS)\n",
    "\n",
    "This service is available through DE Africa's OWS.\n",
    "\n",
    "**Table 3: OWS data access details.**\n",
    "\n",
    "|OWS details | |\n",
    "|----------|-------------|\n",
    "|Name | `DE Africa Services` |\n",
    "|Web Map Services (WMS) URL | `https://ows.digitalearth.africa/wms?version=1.3.0` |\n",
    "| Web Coverage Service (WCS) URL | `https://ows.digitalearth.africa/wcs?version=2.1.0`|\n",
    "| Layer names | `ndvi_anomaly` |\n",
    "\n",
    "Digital Earth Africa OWS details can be found at [https://ows.digitalearth.africa/](https://ows.digitalearth.africa/).\n",
    "\n",
    "For instructions on how to connect to OWS, see [this tutorial](../web_services/index.ipynb)."
   ]
  },
  {
   "cell_type": "markdown",
   "metadata": {},
   "source": [
    "## Technical information"
   ]
  },
  {
   "cell_type": "markdown",
   "metadata": {},
   "source": [
    "### Limitations\n",
    "\n",
    "Coverage and reliability of the NDVI Anomaly service depend on the availability and quality of both the NDVI Climatology and observations from the month of interest.\n",
    "Over equatorial Africa, the service is impacted by low quality of the long-term baseline and low number of cloud free images in a given month.\n",
    "\n",
    "Currently, the NDVI Anomalies are calulated for locations with more than 10 clear historical observations."
   ]
  },
  {
   "cell_type": "markdown",
   "metadata": {},
   "source": [
    "### Combining Sentinel-2 and Landsat\n",
    "\n",
    "The mean NDVI value for a month of interest is calculated combining measurements from Landsat 8, Landsat 9 and Sentinel-2.\n",
    "For Landsat 8 and Landsat 9, NDVI is calculated using Band 5 (NIR) and Band 4 (Red). \n",
    "For Sentinel-2, NDVI is calculated using Band 8A (NIR narrow) and Band 4 (Red).\n",
    "\n",
    "The code for reproducing the NDVI anomaly product is publicly availabe [on github]( https://github.com/digitalearthafrica/ndvi-anomalies)\n"
   ]
  }
 ],
 "metadata": {
  "kernelspec": {
   "display_name": "Python 3 (ipykernel)",
   "language": "python",
   "name": "python3"
  },
  "language_info": {
   "codemirror_mode": {
    "name": "ipython",
    "version": 3
   },
   "file_extension": ".py",
   "mimetype": "text/x-python",
   "name": "python",
   "nbconvert_exporter": "python",
   "pygments_lexer": "ipython3",
   "version": "3.8.10"
  }
 },
 "nbformat": 4,
 "nbformat_minor": 4
}
