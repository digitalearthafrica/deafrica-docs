{
 "cells": [
  {
   "cell_type": "markdown",
   "metadata": {},
   "source": [
    "# Annual GeoMAD"
   ]
  },
  {
   "cell_type": "raw",
   "metadata": {
    "raw_mimetype": "text/restructuredtext"
   },
   "source": [
    ".. contents::\n",
    "   :local:"
   ]
  },
  {
   "cell_type": "markdown",
   "metadata": {},
   "source": [
    "## Product overview"
   ]
  },
  {
   "cell_type": "markdown",
   "metadata": {},
   "source": [
    "### Background"
   ]
  },
  {
   "cell_type": "markdown",
   "metadata": {},
   "source": [
    "GeoMAD is the the Digital Earth Africa (DE Africa) Sentinel-2 annual geomedian and triple Median Absolute Deviation product. It is a cloud-free composite of Sentinel-2 satellite data compiled for each calendar year. It has two main components:\n",
    "\n",
    "* Geomedian\n",
    "* Median Absolute Deviations (MADs)\n",
    "\n",
    "The geomedian product combines measurements collected in each year to produce one representative, multispectral measurement for every 10 x 10 square metre unit of the African continent. The end result is a comprehensive dataset that can be used to generate true-colour images for visual inspection of anthropogenic or natural landmarks. The full spectral dataset can be used to develop more complex algorithms. The product leverages Sentinel-2’s high-frequency flyovers, with the annual time interval allowing for 70 to 140 satellite passes of any given location. This helps scope out perpetually cloudy areas. For each pixel, invalid data is discarded, and remaining observations are mathematically summarised using the geomedian statistic.\n",
    "\n",
    "Variations between the geomedian and the individual measurements are captured by the three Median Absolute Deviation (MAD) layers. These are higher-order statistical measurements calculating variation relative to the geomedian. The MAD layers can be used on their own or together with geomedian to gain insights about the land surface and understand change over time."
   ]
  },
  {
   "cell_type": "markdown",
   "metadata": {},
   "source": [
    "### Specifications"
   ]
  },
  {
   "cell_type": "markdown",
   "metadata": {},
   "source": [
    "The GeoMAD dataset is annual (one value per pixel per band per calendar year) and spans continental Africa. GeoMAD metadata can also be viewed on Digital Earth Africa's [Metadata Explorer](https://explorer.digitalearth.africa/products/ga_s2_gm)."
   ]
  },
  {
   "cell_type": "markdown",
   "metadata": {},
   "source": [
    "**Table 1: GeoMAD product specifications**"
   ]
  },
  {
   "cell_type": "markdown",
   "metadata": {},
   "source": [
    "|Specification | |\n",
    "|----------|-------------|\n",
    "|Product name|Annual Sentinel-2 GeoMAD | \n",
    "|Number of bands | 14 |\n",
    "|Cell size - X (metres) | 10 |\n",
    "|Cell size - Y (metres) | 10 |\n",
    "| Min. longitude | -5472500 |\n",
    "| Max. longitude| 4607500|\n",
    "| Min. latitude| -2687500|\n",
    "| Max. latitude |6337500 |\n",
    "|Coordinate reference system | EPSG: 6933 |\n",
    "|Temporal resolution | Annual |\n",
    "|Temporal range|  2017-01-01 00:00:00 &ndash; 2020-12-31 11:59:59 |\n",
    "|Parent dataset|  Sentinel-2 Level-2A|\n",
    "|Update frequency| Annual|"
   ]
  },
  {
   "cell_type": "markdown",
   "metadata": {},
   "source": [
    "**Table 2: GeoMAD measurements**"
   ]
  },
  {
   "cell_type": "markdown",
   "metadata": {},
   "source": [
    "|Band ID| Description |Measurement type| \n",
    "|----------|-------------|----------------|\n",
    "|B02 | Blue |Surface reflectance| \n",
    "|B03 | Green |Surface reflectance|\n",
    "|B04 | Red |Surface reflectance| \n",
    "|B05 | Red edge 1 |Surface reflectance| \n",
    "|B06 | Red edge 2 |Surface reflectance|\n",
    "|B07 | Red edge 3 |Surface reflectance| \n",
    "|B08 | Near infrared (NIR) |Surface reflectance|\n",
    "|B8A | Near infrared (NIR) &mdash; narrow |Surface reflectance|\n",
    "|B11 | Short-range infrared (SWIR) 1 |Surface reflectance| \n",
    "|B12 | Short-range infrared (SWIR) 2 |Surface reflectance| \n",
    "|SMAD | Spectral Median Absolute Deviation |Normalised ratio|\n",
    "|EMAD | Euclidean Median Absolute Deviation |Surface reflectance | \n",
    "|BCMAD | Bray-Curtis Median Absolute Deviation |Normalised ratio| \n",
    "|COUNT | Number of measurements | Count|\n",
    "\n",
    "|Band ID| Scale factor |Value range| Data type| No data value|\n",
    "|----------|-------------|----------------|:---------:|:----------:|\n",
    "|B02 | `0.0001` |`1 - 10000`| `uint16` | `0` |\n",
    "|B03 | `0.0001` |`1 - 10000`| `uint16` | `0` |\n",
    "|B04 | `0.0001` |`1 - 10000`| `uint16` | `0` |\n",
    "|B05 | `0.0001` |`1 - 10000`| `uint16` | `0` |\n",
    "|B06 | `0.0001` |`1 - 10000`| `uint16` | `0` |\n",
    "|B07 | `0.0001` |`1 - 10000`| `uint16` | `0` |\n",
    "|B08 | `0.0001` |`1 - 10000`| `uint16` | `0` |\n",
    "|B8A | `0.0001` |`1 - 10000`|`uint16` | `0` |\n",
    "|B11 | `0.0001` |`1 - 10000`| `uint16` | `0` |\n",
    "|B12 | `0.0001` |`1 - 10000`| `uint16` | `0` |\n",
    "|SMAD | None |`0 - 1`|`float32` | `NaN` |\n",
    "|EMAD | None |`0 - 31623` | `float32` | `NaN` |\n",
    "|BCMAD | None |`0 - 1`| `float32` | `NaN` |\n",
    "|COUNT | None | `1 - 139` |`uint16` | `0`|"
   ]
  },
  {
   "cell_type": "markdown",
   "metadata": {},
   "source": [
    "The GeoMAD dataset has fourteen bands of data which can be subdivided as follows:\n",
    "\n",
    "* **Geomedian &mdash; 10 bands:** The geomedian is calculated using ten spectral bands of Sentinel-2 data collected during one year. This results in the 10-band annual geomedian provided by the GeoMAD product. The ten bands are B02, B03, B04, B05, B06, B07, B08, B8A, B11, and B12. Note the raw Sentinel-2 product contains more bands, some of which are not used in GeoMAD.\n",
    "\n",
    "* **Median Absolute Deviations (MADs) &mdash; 3 bands:** Deviations from the annual geomedian are quantified through median absolute deviation calculations. The GeoMAD product utilises three MADs: Euclidean MAD (EMAD), spectral MAD (SMAD), and Bray-Curtis MAD (BCMAD). Each MAD is calculated using the same ten bands as in the geomedian.\n",
    "\n",
    "* **Count &mdash; 1 band:** The number of valid satellite measurements of a pixel for that calendar year. This is around 60 to 70 for most pixels, but doubles at areas of overlap between scenes. \"Count\" is not incorporated in either the geomedian or MADs calculations. It is intended for metadata analysis and data validation."
   ]
  },
  {
   "cell_type": "markdown",
   "metadata": {},
   "source": [
    "### Processing, lineage and algorithm"
   ]
  },
  {
   "cell_type": "markdown",
   "metadata": {},
   "source": [
    "The geomedian and MADs calculations are performed by the [hdstats](https://libraries.io/pypi/hdstats) package. 2017 &ndash; 2020 GeoMAD datasets use version 0.2."
   ]
  },
  {
   "cell_type": "markdown",
   "metadata": {},
   "source": [
    "### Media and example images"
   ]
  },
  {
   "cell_type": "markdown",
   "metadata": {},
   "source": [
    "**Image 1: Mangroves in Guinea-Bissau. 2019 geomedian, true-colour (RGB).**"
   ]
  },
  {
   "cell_type": "markdown",
   "metadata": {},
   "source": [
    "<img src=\"../_static/data_specs/GeoMAD_specs/image_guineabissau_rgb.JPG\" alt=\"Geomedian composite\" width=\"300\" align=\"left\"/>"
   ]
  },
  {
   "cell_type": "markdown",
   "metadata": {},
   "source": [
    "**Image 2: Croplands in South Africa. 2019 triple MADs, plotted as RGB.**"
   ]
  },
  {
   "cell_type": "markdown",
   "metadata": {},
   "source": [
    "<img src=\"../_static/data_specs/GeoMAD_specs/image_southafrica_mad.jpg\" alt=\"MADs\" width=\"400\" align=\"left\"/>"
   ]
  },
  {
   "cell_type": "markdown",
   "metadata": {},
   "source": [
    "### Related services"
   ]
  },
  {
   "cell_type": "markdown",
   "metadata": {},
   "source": [
    "This product\n",
    "\n",
    "* [Sentinel-2 Annual GeoMAD Metadata](https://explorer.digitalearth.africa/products/ga_s2_gm)\n",
    "* [Sentinel-2 Annual GeoMAD Sandbox load instructions](https://github.com/digitalearthafrica/deafrica-sandbox-notebooks/tree/master/Datasets)\n",
    "* [Sentinel-2 Annual GeoMAD on Digital Earth Africa Maps](placeholder)\n",
    "\n",
    "Similar products\n",
    "\n",
    "* [Digital Earth Africa Landsat Annual Geomedian 2018](https://explorer.digitalearth.africa/products/ga_ls8c_gm_2_annual/extents)"
   ]
  },
  {
   "cell_type": "markdown",
   "metadata": {},
   "source": [
    "## Data access"
   ]
  },
  {
   "cell_type": "markdown",
   "metadata": {},
   "source": [
    "### Open Data Cube (ODC)"
   ]
  },
  {
   "cell_type": "markdown",
   "metadata": {},
   "source": [
    "**Requirements:** ODC data can be accessed through an ODC-connected environment, such as Jupyter Notebooks in the [Digital Earth Africa Sandbox](https://sandbox.digitalearth.africa/hub/login)\n",
    "\n",
    "**Open Data Cube alias:** `gm_s2_annual`"
   ]
  },
  {
   "cell_type": "markdown",
   "metadata": {},
   "source": [
    "|Band name| Alternative aliases|\n",
    "|----------|-------------|\n",
    "|B02 | band_02, blue |\n",
    "|B03 | band_03, green |\n",
    "|B04 | band_04, red |\n",
    "|B05 | band_05, red_edge_1 |\n",
    "|B06 | band_06, red_edge_2 |\n",
    "|B07 | band_07, red_edge_3 |\n",
    "|B08 | band_08, nir, nir_1 |\n",
    "|B8A | band_8a, nir_narrow, nir_2 |\n",
    "|B11 | band_11, swir_1, swir_16 |\n",
    "|B12 | band_12, swir_2, swir_22 |\n",
    "|SMAD | smad, sdev, SDEV |\n",
    "|EMAD | emad, edev, EDEV |\n",
    "|BCMAD | bcmad, bcdev, BCDEV |\n",
    "|COUNT | count | "
   ]
  },
  {
   "cell_type": "markdown",
   "metadata": {},
   "source": [
    "Band names and aliases are case-sensitive."
   ]
  },
  {
   "cell_type": "markdown",
   "metadata": {},
   "source": [
    "### Amazon S3 "
   ]
  },
  {
   "cell_type": "markdown",
   "metadata": {},
   "source": [
    "**Requirements:** Amazon S3 account"
   ]
  },
  {
   "cell_type": "markdown",
   "metadata": {},
   "source": [
    "|Amazon S3 details | |\n",
    "|----------|-------------|\n",
    "|S3 bucket path | bucket path |\n",
    "|Filename | filename |"
   ]
  },
  {
   "cell_type": "markdown",
   "metadata": {},
   "source": [
    "### OGC Web Services (OWS)"
   ]
  },
  {
   "cell_type": "markdown",
   "metadata": {},
   "source": [
    "**Requirements:** GIS software such as QGIS or ArcGIS"
   ]
  },
  {
   "cell_type": "markdown",
   "metadata": {},
   "source": [
    "|OWS details | |\n",
    "|----------|-------------|\n",
    "|Name | `DE Africa Services` |\n",
    "|Web Map Services (WMS) URL | `https://ows.digitalearth.africa/wms?version=1.3.0` |\n",
    "| Web Coverage Service (WCS) URL | `https://ows.digitalearth.africa/wcs?version=2.1.0`|"
   ]
  },
  {
   "cell_type": "markdown",
   "metadata": {},
   "source": [
    "Digital Earth Africa OWS details can be found at [https://ows.digitalearth.africa/](https://ows.digitalearth.africa/).\n",
    "\n",
    "For instructions on how to connect to OWS, see [this tutorial](https://training.digitalearthafrica.org/en/latest/OWS_tutorial.html)."
   ]
  },
  {
   "cell_type": "markdown",
   "metadata": {},
   "source": [
    "## Technical information: Geomedian"
   ]
  },
  {
   "cell_type": "markdown",
   "metadata": {},
   "source": [
    "Pixel composites are created by compiling multiple satellite observations of the same area to form one representative image. They have become a staple to Earth observation research as combining measurements compensates for missing data, such as gaps caused by cloud cover. This results in comprehensive datasets that allow thorough analysis of large areas of interest.\n",
    "\n",
    "There are many ways of forming this image. GeoMAD uses the *geomedian* summary statistic to combine a year of data into one scientifically-rigorous composite. It produces one multispectral observation for each pixel on continental Africa. "
   ]
  },
  {
   "cell_type": "markdown",
   "metadata": {},
   "source": [
    "> The geomedian statistic is sometimes referred to as the \"geometric median\", as in the figure below. To remove ambiguity with other kinds of statistics with similar names, it is always referred to in DE Africa as the \"geomedian\"."
   ]
  },
  {
   "cell_type": "markdown",
   "metadata": {},
   "source": [
    "**Figure 1: Illustrated explanation of the geomedian.**"
   ]
  },
  {
   "cell_type": "markdown",
   "metadata": {},
   "source": [
    "<img src=\"../_static/data_specs/GeoMAD_specs/geomedian-composite_techspecs.png\" alt=\"Geomedian composite\" width=\"700\" align=\"left\"/>"
   ]
  },
  {
   "cell_type": "markdown",
   "metadata": {},
   "source": [
    "The figure above uses a three-dimensional example to illustrate how the geomedian is calculated for a single pixel containing multiple measurements of red, blue and green data. \n",
    "\n",
    "* The dataset has $N$ timesteps of satellite data. In the case of Figure 1, $N=20$\n",
    "* Each timestep contains $p$ bands. In this case, $p =3$ (one dimension each for red, green, blue)\n",
    "* Therefore each timestep can be represented by a 3-dimensional vector $\\mathbf{x}$. A single vector at timestep $t$, $\\mathbf{x}^{(t)}$, looks like this: \n",
    "\n",
    "\\begin{align*}\n",
    "\\mathbf{x}^{(t)} = \\begin{bmatrix}\n",
    "    x^{(t)}_{red} \\\\\n",
    "    x^{(t)}_{green}\\\\\n",
    "    x^{(t)}_{blue}\n",
    "\\end{bmatrix}\n",
    "\\end{align*}\n",
    "\n",
    "* The entire dataset can be represented as the collection of the vectors at every timestep $\\mathbf{x}^{(1)}, \\mathbf{x}^{(2)}, \\dots \\mathbf{x}^{(20)}$\n",
    "\n",
    "Projected onto a plane, it will look like the plot in Figure 1.2 &mdash; twenty points placed depending on their values of red, green and blue. The geomedian of this pixel is then the point where the Euclidean distance (straight-line distance) between all data points is minimised. This is depicted in Figure 1.3; for further information on Euclidean distance, see the section below on the **Euclidean MAD**."
   ]
  },
  {
   "cell_type": "markdown",
   "metadata": {},
   "source": [
    "Let's call the geomedian point in this example $\\mathbf{m}_\\text{example}$. Euclidean distance between a point $\\mathbf{x}$ and the data points $\\mathbf{x}^{(t)}$ is given by $\\lVert \\mathbf{x} - \\mathbf{x}^{(t)} \\rVert$. The point at which all twenty distances are minimised is found by taking the $\\mathrm{argmin}$; the argument of the minima. The geomedian can then be expressed by the following equation:"
   ]
  },
  {
   "cell_type": "markdown",
   "metadata": {},
   "source": [
    "\\begin{align*}\n",
    "\\mathbf{m}_\\text{example} = \\underset{\\mathbf{x} \\in \\mathbb{R}^3}{\\mathrm{argmin}} \\sum^{20}_{t=1} \\lVert \\mathbf{x} - \\mathbf{x}^{(t)} \\rVert\n",
    "\\end{align*}"
   ]
  },
  {
   "cell_type": "markdown",
   "metadata": {},
   "source": [
    "In this example, the resulting $\\mathbf{m}_\\text{example}$, like any $\\mathbf{x}$, will be a 3-dimensional vector, with a value each for red, green, and blue.\n",
    "\n",
    "\\begin{align*}\n",
    "\\mathbf{m}_\\text{example} =\\begin{bmatrix}\n",
    "    m_{red} \\\\\n",
    "    m_{green}\\\\\n",
    "    m_{blue}\n",
    "\\end{bmatrix}\n",
    "\\end{align*}"
   ]
  },
  {
   "cell_type": "markdown",
   "metadata": {},
   "source": [
    "> The geomedian point $\\mathbf{m}$ is not selected from one of the twenty data points. It is a separate vector with unique values that do not necessarily correspond to existing band values from the observation dataset."
   ]
  },
  {
   "cell_type": "markdown",
   "metadata": {},
   "source": [
    "The formula for the geomedian of a single pixel can be generalised for $p$ bands and $N$ timesteps, as given in [Roberts et al, 2017](https://ieeexplore.ieee.org/stamp/stamp.jsp?arnumber=8004469):\n",
    "\n",
    "\\begin{align*}\n",
    "\\mathbf{m} = \\underset{\\mathbf{x} \\in \\mathbb{R}^p}{\\mathrm{argmin}} \\sum^{N}_{t=1} \\lVert \\mathbf{x} - \\mathbf{x}^{(t)} \\rVert\n",
    "\\end{align*}"
   ]
  },
  {
   "cell_type": "markdown",
   "metadata": {},
   "source": [
    "In GeoMAD, the ten bands of the geomedian result in a 10-dimensional space. It is very difficult to illustrate this example in ten dimensions &mdash; but we can instead provide the equation, and form of the result. Here, the number of timesteps $N$ varies per pixel; pixels on the overlap between satellite swathes may have very large $N$ (up to around 140 per year), while pixels in the centre of the path are only observed once per flyover, and have $N$ closer to 70."
   ]
  },
  {
   "cell_type": "markdown",
   "metadata": {},
   "source": [
    "\\begin{align*}\n",
    "\\mathbf{m}_\\text{GeoMAD} = \\underset{\\mathbf{x} \\in \\mathbb{R}^{10}}{\\mathrm{argmin}} \\sum^{N}_{t=1} \\lVert \\mathbf{x} - \\mathbf{x}^{(t)} \\rVert =\n",
    "\\begin{bmatrix}\n",
    "    m_{B02} \\\\\n",
    "    m_{B03}\\\\\n",
    "    m_{B04}\\\\\n",
    "    m_{B05} \\\\\n",
    "    m_{B06}\\\\\n",
    "    m_{B07}\\\\\n",
    "    m_{B08} \\\\\n",
    "    m_{B8A}\\\\\n",
    "    m_{B11}\\\\\n",
    "    m_{B12}\n",
    "\\end{bmatrix}\n",
    "\\end{align*}"
   ]
  },
  {
   "cell_type": "markdown",
   "metadata": {},
   "source": [
    "This calculation is repeated for every pixel in the specified extent."
   ]
  },
  {
   "cell_type": "markdown",
   "metadata": {},
   "source": [
    "The significance of the geomedian is that all bands are considered simultaneously. This maintains the spectral relationship between bands, providing the most representative value. Additionally, the geomedian statistic reduces spatial noise and improves colour balance compared to similar statistics such as the median or medoid. \n",
    "\n",
    "The geomedian is therefore a vital foundational dataset for applications such as band index analysis on vegetation, water and urban area detection. It is also useful as a feature layer in machine learning algorithms."
   ]
  },
  {
   "cell_type": "markdown",
   "metadata": {},
   "source": [
    "> DE Africa provides an interactive geomedian visualisation available as a downloadable [Jupyter Notebook widget](https://training.digitalearthafrica.org/en/latest/Geomedian_widget.html). It graphically compares the geomedian to a median for a 3-D example. An example screenshot is shown below.\n",
    "\n",
    "> **Figure 2: Geomedian visualisation widget.**\n",
    "\n",
    "> <img src=\"../_static/data_specs/GeoMAD_specs/widget.PNG\" alt=\"Geomedian composite\" width=\"500\" align=\"left\"/>"
   ]
  },
  {
   "cell_type": "markdown",
   "metadata": {},
   "source": [
    "## Technical information: Triple Median Absolute Deviations (MADs)"
   ]
  },
  {
   "cell_type": "markdown",
   "metadata": {},
   "source": [
    "By definition, the geomedian smooths variations in the satellite data to pick the most central, representative value. Outlying extreme highs and lows are generally filtered out by the robustness of the geomedian calculation. However, it is still useful to know about the variation within the dataset. This results in a set of second-order statistics: the Median Absolute Deviations (MADs).\n",
    "\n",
    "MADs are change statistics based on the geomedian. They show how much variation each pixel underwent in the given timeframe. "
   ]
  },
  {
   "cell_type": "markdown",
   "metadata": {},
   "source": [
    "Let us break down the acronym \"MAD\"; as in the title, it stands for *median absolute deviation*:\n",
    "\n",
    "* This implies we have a collection of measurements\n",
    "* We then find the deviation of each measurement from a baseline value\n",
    "* We obtain one deviation for every measurement\n",
    "* These deviations are all absolute values, so each deviation is equal to or greater than 0\n",
    "* We then find the median, or middle value, of these deviations\n",
    "* This gives us a median absolute deviation\n"
   ]
  },
  {
   "cell_type": "markdown",
   "metadata": {},
   "source": [
    "In this case, our \"collection of measurements\" is satellite data from each flyover. Even for a single pixel, we have multiple measurements in the time axis: one from every pass. \n",
    "\n",
    "The \"baseline value\" is the annual geomedian, which provides one multispectral result for each pixel. \n",
    "\n",
    "The \"deviations\" here are three different *distance* or *dissimilarity* values. There are multiple ways of quantifying how change has occurred, so this product computes three different MADs for use in data analysis. We are calculating, in three separate ways, the deviation between the annual geomedian and a single flyover's measurement. These three values have been chosen to reflect a range of changes that appear in Earth observation data, and hence this section of the dataset is often referred to as \"triple MADs\". \n",
    "\n",
    "The three MADs used in DE Africa are:"
   ]
  },
  {
   "cell_type": "markdown",
   "metadata": {},
   "source": [
    "* Euclidean MAD, EMAD (based on Euclidean distance)\n",
    "* Spectral MAD, SMAD (based on cosine distance)\n",
    "* Bray-Curtis MAD, BCMAD (based on Bray-Curtis dissimilarity)\n",
    "\n",
    "Each will be explained in their own sections below. Example calculations with real numbers are in the appendix."
   ]
  },
  {
   "cell_type": "markdown",
   "metadata": {},
   "source": [
    "> Note there are many other types of statistical distances and dissimilarities that can be used for median absolute deviation analysis (for example: Manhattan distance, Canberra distance, [there are many](https://ricottalab.files.wordpress.com/2015/05/ricotta-podani-2017-ecocom-full.pdf) and they can all be used to calculate a MAD). However, in DE Africa, the terms \"triple MADs\" or \"MADs\" are always specifically referring to the three MADs included in the GeoMAD dataset: EMAD, SMAD, and BCMAD."
   ]
  },
  {
   "cell_type": "markdown",
   "metadata": {},
   "source": [
    "### Euclidean MAD (EMAD)"
   ]
  },
  {
   "cell_type": "markdown",
   "metadata": {},
   "source": [
    "The most logical place to start thinking about any of the MADs is the Euclidean MAD (EMAD). This is because EMAD comes from Euclidean distance, and Euclidean distance can be explained with a physical analogy: it is how we measure straight-line distances between points. In our three-dimensional world, it may look like this:"
   ]
  },
  {
   "cell_type": "markdown",
   "metadata": {},
   "source": [
    "**Figure 3: Euclidean distance in three dimensions.**\n",
    "\n",
    "<img src=\"../_static/data_specs/GeoMAD_specs/cartesian_euclidean.JPG\" alt=\"Euclidean\" width=\"400\" align=\"left\"/>"
   ]
  },
  {
   "cell_type": "markdown",
   "metadata": {},
   "source": [
    "In the case of satellite data, we are measuring the Euclidean distance between a pixel's geomedian value and a single multispectral measurement. The number of dimensions is equal to the number of bands in the data. In the illustration below, $m$ is the geomedian value and $\\mathbf{x}$ the measured value. In real data, there will be multiple measurements over a time period, so $t$ is the timestep number, otherwise noted in equations as superscript $(t)$.\n",
    "\n",
    "For example, if we had three bands of data (red, green and blue), and three timesteps of data, then we can calculate the Euclidean distances as follows:"
   ]
  },
  {
   "cell_type": "markdown",
   "metadata": {},
   "source": [
    "**Figure 4: Euclidean distance in three dimensions over three timesteps.**"
   ]
  },
  {
   "cell_type": "markdown",
   "metadata": {},
   "source": [
    "<img src=\"../_static/data_specs/GeoMAD_specs/bands_euclidean.JPG\" alt=\"Euclidean\" width=\"1000\" align=\"left\"/>"
   ]
  },
  {
   "cell_type": "markdown",
   "metadata": {},
   "source": [
    "Each timestep gives a separate Euclidean distance result. Then EMAD is the median of all those distances."
   ]
  },
  {
   "cell_type": "markdown",
   "metadata": {},
   "source": [
    "In most real life conditions, there will be more than three timesteps and more than three bands. A general expression of Euclidean distance for $p$ bands is given as:"
   ]
  },
  {
   "cell_type": "markdown",
   "metadata": {},
   "source": [
    "\\begin{align*}\n",
    "&\\text{Multispectral Euclidean distance for timestep }t \\\\\n",
    "=& \\sqrt{ \\left( x^{(t)}_{\\text{band 1}} - m_{\\text{band 1}} \\right)^2 + \\left( x^{(t)}_{\\text{band 2}} - m_{\\text{band 2}} \\right)^2  + \\dots  + \\left( x^{(t)}_{\\text{band p}} - m_{\\text{band p}} \\right)^2 }\\\\\n",
    "=& \\lVert \\mathbf{x}^{(t)} - m \\rVert_{\\mathbb{R}^p}\n",
    "\\end{align*}"
   ]
  },
  {
   "cell_type": "markdown",
   "metadata": {},
   "source": [
    "Then EMAD for $N$ timesteps is given by [Roberts et al, 2018](https://ieeexplore.ieee.org/abstract/document/8518312), as the median of the Euclidean distances from all the timesteps."
   ]
  },
  {
   "cell_type": "markdown",
   "metadata": {},
   "source": [
    "\\begin{align*}\n",
    "\\text{EMAD} = \\text{median} \\left( \\left\\{ \\lVert \\mathbf{x}^{(t)} - \\mathbf{m} \\rVert_{\\mathbb{R}^p}, t = 1, \\dots , N \\right\\}  \\right)\n",
    "\\end{align*}"
   ]
  },
  {
   "cell_type": "markdown",
   "metadata": {},
   "source": [
    "In GeoMAD, the MADs are calculated from the same ten bands used in the geomedian, therefore $p=10$. The result of $\\lVert \\mathbf{x}^{(t)} - \\mathbf{m} \\rVert_{\\mathbb{R}^p}$ is a positive scalar, so $\\text{EMAD}_\\text{GeoMAD}$ is a positive scalar number. As in the geomedian, $N$ is dependent on the number of satellite flyovers particular to that pixel."
   ]
  },
  {
   "cell_type": "markdown",
   "metadata": {},
   "source": [
    "\\begin{align*}\n",
    "\\text{EMAD}_\\text{GeoMAD} = \\text{median} \\left( \\left\\{ \\lVert \\mathbf{x}^{(t)} - \\mathbf{m} \\rVert_{\\mathbb{R}^{10}}, t = 1, \\dots , N \\right\\}  \\right)\n",
    "\\end{align*}\n",
    "\n",
    "\\begin{align*}\n",
    "\\lVert \\mathbf{x}^{(t)} - \\mathbf{m} \\rVert_{\\mathbb{R}^{10}} =& \\left( \\left( x^{(t)}_{\\text{B02}} - m_{\\text{B02}} \\right)^2 + \\left( x^{(t)}_{\\text{B03}} - m_{\\text{B03}} \\right)^2 + \\left( x^{(t)}_{\\text{B04}} - m_{\\text{B04}} \\right)^2 \\right.\\\\\n",
    "&\\left. + \\left( x^{(t)}_{\\text{B05}} - m_{\\text{B05}}  \\right)^2 + \\left( x^{(t)}_{\\text{B06}} - m_{\\text{B06}}  \\right)^2+ \\left( x^{(t)}_{\\text{B07}} - m_{\\text{B07}}  \\right)^2+ \\left( x^{(t)}_{\\text{B08}} - m_{\\text{B08}}  \\right)^2 \\right.\\\\\n",
    "&\\left. + \\left( x^{(t)}_{\\text{B8A}} - m_{\\text{B8A}}  \\right)^2+ \\left( x^{(t)}_{\\text{B11}} - m_{\\text{B11}}  \\right)^2+ \\left( x^{(t)}_{\\text{B12}} - m_{\\text{B12}}  \\right)^2 \\right)^{\\frac{1}{2}}\n",
    "\\end{align*}"
   ]
  },
  {
   "cell_type": "markdown",
   "metadata": {},
   "source": [
    "\n",
    "\n",
    "The maximum possible value for EMAD depends on the value ranges for each of the bands in the dataset. In the case of GeoMAD, which uses annual timescales of ten bands of Sentinel-2 data, valid EMAD values range from `0 - 31623`."
   ]
  },
  {
   "cell_type": "markdown",
   "metadata": {},
   "source": [
    "EMAD is useful for showing albedo shifts in satellite spectra."
   ]
  },
  {
   "cell_type": "markdown",
   "metadata": {},
   "source": [
    "### Spectral MAD (SMAD)"
   ]
  },
  {
   "cell_type": "markdown",
   "metadata": {},
   "source": [
    "The spectral MAD (SMAD) is based on the median absolute deviations in the cosine distance between the geomedian and individual measurements. \n",
    "\n",
    "In two dimensions, cosine distance can be graphically compared to Euclidean distance by the following figure:"
   ]
  },
  {
   "cell_type": "markdown",
   "metadata": {},
   "source": [
    "**Figure 5: Relative relationships between Euclidean and cosine distances.**"
   ]
  },
  {
   "cell_type": "markdown",
   "metadata": {},
   "source": [
    "<img src=\"../_static/data_specs/GeoMAD_specs/cosine_distance.JPG\" alt=\"Cosine distance\" width=\"400\" align=\"left\"/>"
   ]
  },
  {
   "cell_type": "markdown",
   "metadata": {},
   "source": [
    "In a general sense, cosine distance is related to the angle between the two points $\\theta$, while Euclidean distance is related to the straight-line distance between the two points $d$. Like Euclidean distance, points are more similar when the cosine distance between them is small. The value of the cosine distance is smaller when $\\theta$ is small (i.e. close to 0) or when $\\theta$ is close to 180$^{\\circ}$. "
   ]
  },
  {
   "cell_type": "markdown",
   "metadata": {},
   "source": [
    "Notice we could have a small cosine distance but a large Euclidean distance; for example, if the angle between the vectors is small, but one is much longer than the other. This is an important property of cosine distance (and thus SMAD) &mdash; unlike Euclidean distance, cosine distance is not skewed by the magnitude of the measurements."
   ]
  },
  {
   "cell_type": "markdown",
   "metadata": {},
   "source": [
    "Cosine distance is defined more formally as:"
   ]
  },
  {
   "cell_type": "markdown",
   "metadata": {},
   "source": [
    "\\begin{align*}\n",
    "\\text{Cosine distance (two dimensions)} = 1 - \\frac{x_1 y_1 + x_2 y_2}{ \\left( \\sqrt{ \\left( x_1\\right) ^2 + \\left( x_2\\right) ^2 } \\right) \\left( \\sqrt{ \\left( y_1\\right) ^2 + \\left( y_2\\right) ^2 } \\right)}\n",
    "\\end{align*}"
   ]
  },
  {
   "cell_type": "markdown",
   "metadata": {},
   "source": [
    "For more than two dimensions, we can generalise the cosine distance formula for a single pixel. For a multispectral measurement of $p$ bands at timestep $t$, $\\mathbf{x}^{(t)}$, and the geomedian at the same point $\\mathbf{m}$, the cosine distance is: "
   ]
  },
  {
   "cell_type": "markdown",
   "metadata": {},
   "source": [
    "\\begin{align*}\\small\n",
    "&\\text{Multispectral cosdist}\\left( \\mathbf{x}^{(t)}, m \\right) \\text{ for timestep } t  \\\\\n",
    "&= 1 - \\frac{ \\mathbf{x}^{(t)} \\cdot \\mathbf{m} }{ \\lVert \\mathbf{x}^{(t)} \\rVert \\ \\lVert \\mathbf{m} \\rVert} \\ \\text{ for }  \\mathbf{x}^{(t)}, \\mathbf{m} \\in \\mathbb{R}_{p}\\\\\n",
    "&=  1 - \\left( \\frac{\\left( x_{\\text{band 1}}^{(t)} \\right) \\left(m_{\\text{band 1}} \\right) + \\left( x_{\\text{band 2}}^{(t)} \\right) \\left(m_{\\text{band 2}} \\right) + \\cdots + \\left( x_{\\text{band p}}^{(t)} \\right) \\left(m_{\\text{band p}} \\right)}{ \\left(\\sqrt{\\left( x_{\\text{band 1}}^{(t)} \\right)^2 + \\cdots+ \\left( x_{\\text{band p}}^{(t)} \\right)^2} \\right) \\left( \\sqrt{\\left( m_{\\text{band 1}} \\right)^2 + \\cdots+ \\left( m_{\\text{band p}} \\right)^2 } \\right)} \\right)\n",
    "\\end{align*}"
   ]
  },
  {
   "cell_type": "markdown",
   "metadata": {},
   "source": [
    "Then for $N$ timesteps, SMAD is the median of the cosine distances."
   ]
  },
  {
   "cell_type": "markdown",
   "metadata": {},
   "source": [
    "\\begin{align*}\n",
    "\\text{SMAD} = \\text{median} \\left( \\left\\{ \\text{cosdist}\\left( \\mathbf{x}^{(t)}, \\mathbf{m} \\right), t = 1, \\dots , N \\right\\}  \\right)\n",
    "\\end{align*}"
   ]
  },
  {
   "cell_type": "markdown",
   "metadata": {},
   "source": [
    "The explicit expansion of the cosine distance for GeoMAD is ungainly, but for completeness it looks like this:"
   ]
  },
  {
   "cell_type": "markdown",
   "metadata": {},
   "source": [
    "\\begin{align*}\n",
    "\\text{cosdist}_\\text{GeoMAD} = \n",
    "\\end{align*}"
   ]
  },
  {
   "cell_type": "markdown",
   "metadata": {},
   "source": [
    "<img src=\"../_static/data_specs/GeoMAD_specs/cosdisteqn.JPG\" alt=\"Cosine distance equation\" width=\"850\" align=\"left\"/>"
   ]
  },
  {
   "cell_type": "markdown",
   "metadata": {},
   "source": [
    "As with the other distances and dissimilarities used in the MADs, this results in a positive scalar value, thus SMAD is a positive scalar. Valid values for SMAD fall between `0` &ndash; `1`."
   ]
  },
  {
   "cell_type": "markdown",
   "metadata": {},
   "source": [
    "In applications of Earth observation data, SMAD is useful for showing areas of land cover change. One reason is that SMAD is less affected by cloud; unlike EMAD, it is invariant to albedo changes, such as that caused by the diffusion of solar radiation. SMAD can also be used to track water bodies, as water has high variation in reflectance."
   ]
  },
  {
   "cell_type": "markdown",
   "metadata": {},
   "source": [
    "### Bray-Curtis MAD (BCMAD)"
   ]
  },
  {
   "cell_type": "markdown",
   "metadata": {},
   "source": [
    "The Bray-Curtis MAD (BCMAD) is calculated from the Bray-Curtis dissimilarity. The Bray-Curtis dissimilarity emphasises differences in each band between the measurement and the geomedian. "
   ]
  },
  {
   "cell_type": "markdown",
   "metadata": {},
   "source": [
    "For a single band of satellite data, the Bray-Curtis dissimilarity looks remarkably like a normalised band index. For example, if we only had red band data, it might look something like this:"
   ]
  },
  {
   "cell_type": "markdown",
   "metadata": {},
   "source": [
    "\\begin{align*}\n",
    "\\text{Single-band Bray-Curtis dissimilarity at timestep }t = \\frac{\\left| x_{\\text{red}}^{(t)} - m_{\\text{red}}\\right|}{ \\left| x_{\\text{red}}^{(t)} + m_{\\text{red}} \\right| } \n",
    "\\end{align*}"
   ]
  },
  {
   "cell_type": "markdown",
   "metadata": {},
   "source": [
    "It can be generalised to a multispectral dataset with $p$ bands:"
   ]
  },
  {
   "cell_type": "markdown",
   "metadata": {},
   "source": [
    "\\begin{align*}\n",
    "&\\text{Multispectral Bray-Curtis dissimilarity for timestep }t\\\\\n",
    "&= \\frac{\\left| x_{\\text{band 1}}^{(t)} - m_{\\text{band 1}}\\right| + \\left| x_{\\text{band 2}}^{(t)} - m_{\\text{band 2}} \\right| + \\dots + \\left| x_{\\text{band p}}^{(t)} - m_{\\text{band p}} \\right| }{ \\left| x_{\\text{band 1}}^{(t)} + m_{\\text{band 1}} \\right| + \\left| x_{\\text{band 2}}^{(t)} + m_{\\text{band 2}} \\right| + \\dots + \\left| x_{\\text{band p}}^{(t)} + m_{\\text{band p}} \\right|} \n",
    "\\end{align*}"
   ]
  },
  {
   "cell_type": "markdown",
   "metadata": {},
   "source": [
    "For the GeoMAD dataset, the Bray-Curtis dissimilarity equation can be expanded into:"
   ]
  },
  {
   "cell_type": "markdown",
   "metadata": {},
   "source": [
    "\\begin{align*}\n",
    "\\text{BC dissimilarity}_{\\text{GeoMAD}} = \n",
    "\\end{align*}"
   ]
  },
  {
   "cell_type": "markdown",
   "metadata": {},
   "source": [
    "<img src=\"../_static/data_specs/GeoMAD_specs/bcdissimilarityeqn.JPG\" alt=\"BC dissimilarity equation\" width=\"850\" align=\"left\"/>"
   ]
  },
  {
   "cell_type": "markdown",
   "metadata": {},
   "source": [
    "The Bray-Curtis dissimilarity will be maximised at a value of `1` when the measurements in each band are completely different. Conversely, the value of the dissimilarity will be small where each band is similar to the geomedian of that band."
   ]
  },
  {
   "cell_type": "markdown",
   "metadata": {},
   "source": [
    "As with the other MADs, the BCMAD is found by taking the median of all the Bray-Curtis dissimilarities from $N$ timesteps. For GeoMAD, $p=10$."
   ]
  },
  {
   "cell_type": "markdown",
   "metadata": {},
   "source": [
    "\\begin{align*}\n",
    "\\text{BCMAD} = \\text{median} \\left( \\left\\{ \\frac{\\left| \\mathbf{x}^{(t)} - \\mathbf{m}  \\right|_{\\mathbb{R}^p}}{\\left| \\mathbf{x}^{(t)} + \\mathbf{m}  \\right| _{\\mathbb{R}^p}}, t = 1, \\dots , N \\right\\}  \\right)\n",
    "\\end{align*}"
   ]
  },
  {
   "cell_type": "markdown",
   "metadata": {},
   "source": [
    "BCMAD takes on values from `0` &ndash; `1`. "
   ]
  },
  {
   "cell_type": "markdown",
   "metadata": {},
   "source": [
    "> The Bray-Curtis dissimilarity is not referred to as a \"distance\" because it does not obey the triangle (Schwarz) inequality."
   ]
  },
  {
   "cell_type": "markdown",
   "metadata": {},
   "source": [
    "## Credits"
   ]
  },
  {
   "cell_type": "markdown",
   "metadata": {},
   "source": [
    "### References\n",
    "\n",
    "Roberts, D., Mueller, N., & Mcintyre, A. (2017). High-dimensional pixel composites from earth observation time series. *IEEE Transactions on Geoscience and Remote Sensing*, 55(11), 6254–6264. https://doi.org/10.1109/TGRS.2017.2723896\n",
    "\n",
    "Roberts, D., Dunn, B., Mueller, N. (2018). Open Data Cube Products Using High-Dimensional Statistics of Time Series. 8647-8650. https://doi.org/10.1109/IGARSS.2018.8518312. "
   ]
  },
  {
   "cell_type": "markdown",
   "metadata": {},
   "source": [
    "### License\n",
    "\n",
    "[Apache License 2.0](https://github.com/digitalearthafrica/deafrica-docs/blob/main/LICENSE)"
   ]
  },
  {
   "cell_type": "markdown",
   "metadata": {},
   "source": [
    "### Acknowledgements\n",
    "\n",
    "The high-dimensional statistics algorithms incorporated in this product is the work of Dr Dale Roberts, Australian National University."
   ]
  },
  {
   "cell_type": "markdown",
   "metadata": {},
   "source": [
    "## Appendix"
   ]
  },
  {
   "cell_type": "markdown",
   "metadata": {},
   "source": [
    "### Example: calculating Euclidean distance\n",
    "\n",
    "Let's take a selection of bands from one pixel, from one timestep. For that pixel, we have both the measurements taken by the single satellite flyover, and the geomedian value. "
   ]
  },
  {
   "cell_type": "markdown",
   "metadata": {},
   "source": [
    "**Table A.1: Example multispectral data &mdash; one timestep, four bands**"
   ]
  },
  {
   "cell_type": "markdown",
   "metadata": {},
   "source": [
    "|Band|Surface reflectance measurement $x^{(t)}$| Surface reflectance geomedian $m$|\n",
    "|----------|-------------|----------------|\n",
    "| Blue | 1028 | 969 |\n",
    "| Green| 1468 | 1406|\n",
    "| Red| 2176 | 2032|\n",
    "| Near Infrared (NIR) 1 | 3090 | 3078 |"
   ]
  },
  {
   "cell_type": "markdown",
   "metadata": {},
   "source": [
    "Then the Euclidean distance for this pixel at this timestep, $t$, is:"
   ]
  },
  {
   "cell_type": "markdown",
   "metadata": {},
   "source": [
    "\\begin{align*}\n",
    "&\\text{Euclidean distance} \\\\\n",
    "\\tiny &= \\sqrt{\\left( x^{(t)}_{\\text{band 1}} - m_{\\text{band 1}} \\right)^2 + \\left( x^{(t)}_{\\text{band 2}} - m_{\\text{band 2}} \\right)^2  + \\dots  + \\left( x^{(t)}_{\\text{band p}} - m_{\\text{band p}} \\right)^2 }\\\\\n",
    "&= \\sqrt{\\left( x^{(t)}_{\\text{red}} - m_{\\text{red}} \\right)^2 + \\left( x^{(t)}_{\\text{green}} - m_{\\text{green}} \\right)^2  + \\left( x^{(t)}_{\\text{blue}} - m_{\\text{blue}} \\right)^2 + \\left( x^{(t)}_{\\text{nir1}} - m_{\\text{nir1}} \\right)^2}\\\\\n",
    "&= \\sqrt{\\left( 2176 - 2032 \\right)^2 + \\left( 1468 - 1406 \\right)^2  + \\left(1028 - 969 \\right)^2 + \\left( 3090 - 3078 \\right)^2}\\\\\n",
    "&= 167.9\n",
    "\\end{align*}"
   ]
  },
  {
   "cell_type": "markdown",
   "metadata": {},
   "source": [
    "To then find the EMAD of this dataset, the calculation for Euclidean distance would first need to be repeated for all the other timesteps (not provided in the example data)."
   ]
  },
  {
   "cell_type": "markdown",
   "metadata": {},
   "source": [
    "### Example: calculating cosine distance"
   ]
  },
  {
   "cell_type": "markdown",
   "metadata": {},
   "source": [
    "Using the example multispectral data from Table A.1, we can manually calculate the value of cosine distance for timestep $t$. "
   ]
  },
  {
   "cell_type": "markdown",
   "metadata": {},
   "source": [
    "\\begin{align*}\n",
    "&\\text{Cosine distance} \\\\\n",
    "&= 1 - \\left( \\frac{\\left( x_{\\text{band 1}}^{(t)} \\right) \\left(m_{\\text{band 1}} \\right) + \\left( x_{\\text{band 2}}^{(t)} \\right) \\left(m_{\\text{band 2}} \\right) + \\cdots + \\left( x_{\\text{band p}}^{(t)} \\right) \\left(m_{\\text{band p}} \\right)}{ \\left(\\sqrt{\\left( x_{\\text{band 1}}^{(t)} \\right)^2 + \\cdots+ \\left( x_{\\text{band p}}^{(t)} \\right)^2} \\right) \\left( \\sqrt{\\left( m_{\\text{band 1}} \\right)^2 + \\cdots+ \\left( m_{\\text{band p}} \\right)^2 } \\right)} \\right) \\\\\n",
    "&= 1 -\\\\\n",
    "& \\ \\frac{\\left( x_{\\text{blue}}^{(t)} \\right) \\left(m_{\\text{blue}} \\right) + \\left( x_{\\text{green}}^{(t)} \\right) \\left(m_{\\text{green}} \\right) + \\left( x_{\\text{red}}^{(t)} \\right) \\left(m_{\\text{red}} \\right) + \\left( x_{\\text{nir1}}^{(t)} \\right) \\left(m_{\\text{nir1}} \\right)}{\\sqrt{\\left( x_{\\text{blue}}^{(t)} \\right)^2 + \\left( x_{\\text{green}}^{(t)} \\right)^2 + \\left( x_{\\text{red}}^{(t)} \\right)^2+ \\left( x_{\\text{nir1}}^{(t)} \\right)^2}\\sqrt{\\left( m_{\\text{blue}} \\right)^2 + \\left( m_{\\text{green}} \\right)^2 + \\left( m_{\\text{red}} \\right)^2 + \\left( m_{\\text{nir1}} \\right)^2 } }\\\\\n",
    "&=  1 -\\\\\n",
    "& \\ \\frac{\\left( 1028 \\right) \\left(969 \\right) + \\left(1468 \\right) \\left(1406 \\right) + \\left(2176 \\right) \\left(2032\\right) + \\left( 3090 \\right) \\left(3078\\right)}{\\sqrt{\\left( 1028 \\right)^2 + \\left( 1468\\right)^2 + \\left( 2176 \\right)^2+ \\left(3090\\right)^2} \\sqrt{\\left( 969 \\right)^2 + \\left(1406 \\right)^2 + \\left( 2032\\right)^2 + \\left(3078 \\right)^2 }}\\\\\n",
    "&=0.0004176\n",
    "\\end{align*}"
   ]
  },
  {
   "cell_type": "markdown",
   "metadata": {},
   "source": [
    "### Example: calculating Bray-Curtis dissimilarity"
   ]
  },
  {
   "cell_type": "markdown",
   "metadata": {},
   "source": [
    "Using the example multispectral data from Table A.1, we can manually calculate the value of the Bray-Curtis dissimilarity for timestep $t$. "
   ]
  },
  {
   "cell_type": "markdown",
   "metadata": {},
   "source": [
    "\\begin{align*}\n",
    "&\\text{Bray-Curtis dissimilarity} \\\\\n",
    "&=  \\frac{\\left| x_{\\text{band 1}}^{(t)} - m_{\\text{band 1}}\\right| + \\left| x_{\\text{band 2}}^{(t)} - m_{\\text{band 2}} \\right| + \\dots + \\left| x_{\\text{band p}}^{(t)} - m_{\\text{band p}} \\right| }{ \\left| x_{\\text{band 1}}^{(t)} + m_{\\text{band 1}} \\right| + \\left| x_{\\text{band 2}}^{(t)} + m_{\\text{band 2}} \\right| + \\dots + \\left| x_{\\text{band p}}^{(t)} + m_{\\text{band p}} \\right|} \\\\\n",
    "&=  \\frac{\\left| x_{\\text{nir1}}^{(t)} - m_{\\text{nir1}}\\right| + \\left| x_{\\text{green}}^{(t)} - m_{\\text{green}} \\right| + \\left| x_{\\text{red}}^{(t)} - m_{\\text{red}} \\right| + \\left| x_{\\text{blue}}^{(t)} - m_{\\text{blue}} \\right|}{\\left| x_{\\text{nir1}}^{(t)} + m_{\\text{nir1}}\\right| + \\left| x_{\\text{green}}^{(t)} + m_{\\text{green}} \\right| + \\left| x_{\\text{red}}^{(t)} + m_{\\text{red}} \\right| + \\left| x_{\\text{blue}}^{(t)} + m_{\\text{blue}} \\right|} \\\\\n",
    "&= \\frac{\\left| 3090 - 3078\\right| + \\left| 1468 - 1406 \\right| + \\left|2176 - 2032 \\right| + \\left| 1028 - 969 \\right|}{\\left| 3090 + 3078\\right| + \\left| 1468 + 1406 \\right| + \\left|2176 + 2032 \\right| + \\left| 1028 + 969 \\right|}\\\\\n",
    "&= 0.01817\n",
    "\\end{align*}"
   ]
  }
 ],
 "metadata": {
  "kernelspec": {
   "display_name": "Python 3",
   "language": "python",
   "name": "python3"
  },
  "language_info": {
   "codemirror_mode": {
    "name": "ipython",
    "version": 3
   },
   "file_extension": ".py",
   "mimetype": "text/x-python",
   "name": "python",
   "nbconvert_exporter": "python",
   "pygments_lexer": "ipython3",
   "version": "3.6.9"
  }
 },
 "nbformat": 4,
 "nbformat_minor": 4
}
