{
 "cells": [
  {
   "cell_type": "markdown",
   "metadata": {},
   "source": [
    "# Sentinel-3 OLCI L2 LAND "
   ]
  },
  {
   "cell_type": "raw",
   "metadata": {
    "raw_mimetype": "text/restructuredtext"
   },
   "source": [
    ".. contents::\n",
    "   :local:"
   ]
  },
  {
   "cell_type": "markdown",
   "metadata": {},
   "source": [
    "**Date modified:** September 2025"
   ]
  },
  {
   "cell_type": "markdown",
   "metadata": {},
   "source": [
    "## Overview"
   ]
  },
  {
   "cell_type": "markdown",
   "metadata": {},
   "source": [
    "### Background\n",
    "\n",
    "The Sentinel-3 OLCI Level-2 Land Full Resolution (OL_2_LFR) product delivers high-quality, atmospherically corrected, satellite-derived observations for monitoring vegetation condition, canopy functioning, and land–atmosphere interactions. Acquired by the Ocean and Land Colour Instrument (OLCI) onboard the Sentinel-3A and Sentinel-3B satellites, the product provides global coverage at 300-meter resolution, with a revisit time of 1–2 days at the equator when both satellites are operational. The mission’s 21 spectral bands, spanning visible to near-infrared wavelengths, enable detailed retrievals of land bio-geophysical parameters.\n",
    "\n",
    "Key outputs include the OLCI Terrestrial Chlorophyll Index (OTCI), Green Instantaneous Fraction of Absorbed Photosynthetically Active Radiation (GIFAPAR), and Integrated/Total Column Water Vapour (IWV/TCWV), along with per-pixel quality and science flags. These products are derived using advanced atmospheric correction, cloud screening, and top-of-canopy reflectance retrieval algorithms, making them suitable for applications such as drought monitoring, vegetation productivity assessment, and agricultural early warning.\n",
    "\n",
    "Comprehensive documentation—including the OLCI Land Product User Guide, algorithm theoretical basis documents, and technical notices—is freely available to support researchers, environmental agencies, and operational monitoring services.\n",
    "\n",
    "Digital Earth Africa (DE Africa) provides open and free access to Sentinel-3 OLCI L2 Land Full Resolution products for the African continent via its cloud-hosted infrastructure and the DE Africa Sandbox. This enables direct analysis in cloud environments, integration with other DE Africa datasets, and large-scale time-series.\n",
    "\n",
    "***"
   ]
  },
  {
   "cell_type": "markdown",
   "metadata": {},
   "source": [
    "### Specifications"
   ]
  },
  {
   "cell_type": "markdown",
   "metadata": {},
   "source": [
    "Relevant coverage and metadata for each of the datasets can be viewed on DE Africa [Metadata Explorer](https://explorer.digitalearth.africa/products):\n",
    "\n",
    "- [s3_olci_l2_lfr:](https://explorer.digitalearth.africa/products/s3_olci_l2_lfr)\n",
    "\n",
    "A [Jupyter Notebook](https://github.com/digitalearthafrica/deafrica-sandbox-notebooks/blob/main/Datasets/CGLM_Lake_Water_Quality.ipynb) which demonstrates loading and using loading the products in the Sandbox is also available."
   ]
  },
  {
   "cell_type": "markdown",
   "metadata": {},
   "source": [
    "#### Sentinel-3 OLCI L2 Land Full Resolution Product"
   ]
  },
  {
   "cell_type": "markdown",
   "metadata": {},
   "source": [
    "| Specification                   | Sentinel-3 OLCI L2 Land Full Resolution (300 m) |\n",
    "| ------------------------------- | :---------------------------------------------: |\n",
    "| **Cell size (metres)**          |                    300 x 300                    |\n",
    "| **Coordinate Reference System** |                EPSG:4326 (WGS 84)               |\n",
    "| **Temporal resolution**         |                  Daily to 2-day                 |\n",
    "| **Temporal range**              |                  2016 – Present                 |\n",
    "| **Parent dataset**              |          Sentinel-3A/B OLCI (21 bands)          |\n",
    "| **Update frequency**            |       Near-Real-Time (<3 h) & NTC (\\~48 h)      |\n",
    "| **Access**                      |           Free and open via DE Africa           |\n"
   ]
  },
  {
   "cell_type": "markdown",
   "metadata": {},
   "source": [
    "### Sentinel-3 OLCI Land Measurements – Descriptions\n",
    "\n",
    "- **GIFAPAR (Green Instantaneous FAPAR)**  \n",
    "  Fraction of absorbed photosynthetically active radiation by green vegetation at observation time, indicating photosynthetic activity.  \n",
    "\n",
    "- **IWV_L (Integrated Water Vapour – Land)**  \n",
    "  Total column water vapour content in the atmosphere above each land pixel, expressed in kg/m².  \n",
    "\n",
    "- **OTCI (OLCI Terrestrial Chlorophyll Index)**  \n",
    "  Index sensitive to canopy chlorophyll content, derived from OLCI spectral bands to assess vegetation health.  \n",
    "\n",
    "- **RC681 (Rectified Reflectance – 681 nm)**  \n",
    "  Atmospherically corrected surface reflectance in the red band (681 nm), used in vegetation indices and biophysical models.  \n",
    "\n",
    "- **RC865 (Rectified Reflectance – 865 nm)**  \n",
    "  Atmospherically corrected surface reflectance in the near-infrared band (865 nm), paired with RC681 for vegetation monitoring.  \n",
    "\n",
    "- **LQSF (Land Quality & Science Flags)**  \n",
    "  Per-pixel quality flags indicating conditions such as land, water, cloud, or snow to support reliable analysis.  \n",
    "\n",
    "- **dataMask**  \n",
    "  Binary mask identifying valid (1) versus invalid (0) observations.  \n",
    "\n",
    "\n",
    "**Table 2: Sentinel-3 OLCI L2 Land Measurements**\n",
    "\n",
    "| Measurement                                   | Data Type             | Confidence / Quality Flags |\n",
    "| --------------------------------------------- | --------------------- | -------------------------- |\n",
    "| **GIFAPAR** (Green Instantaneous FAPAR)       | Vegetation Parameter  | No                         |\n",
    "| **IWV_L** (Integrated Water Vapour – Land)    | Atmospheric Parameter | No                         |\n",
    "| **OTCI** (OLCI Terrestrial Chlorophyll Index) | Vegetation Parameter  | No                         |\n",
    "| **RC681** (Rectified Reflectance – 681 nm)    | Reflectance Data      | No                         |\n",
    "| **RC865** (Rectified Reflectance – 865 nm)    | Reflectance Data      | No                         |\n",
    "| **LQSF** (Land Quality & Science Flags)       | Quality / Mask Info   | Yes                        |\n",
    "| **dataMask**                                  | Quality / Mask Info   | Yes                        |\n",
    "\n"
   ]
  },
  {
   "cell_type": "markdown",
   "metadata": {},
   "source": [
    "### Geographic Extent\n",
    "\n",
    "Specific temporal and geographic extents for the  product can be explored interactively using the Digital Earth Africa [Metadata Explorer](https://explorer.digitalearth.africa/s3_olci_l2_lfr). "
   ]
  },
  {
   "cell_type": "markdown",
   "metadata": {},
   "source": [
    "**Figure 1: Sentinel-3 OLCI L2 geographic extent**"
   ]
  },
  {
   "cell_type": "markdown",
   "metadata": {},
   "source": [
    "<img src=\"../_static/data_specs/Sentinel-3_OLCI_L2_LAND_specs/sen3_extent.png\" alt=\"Sentinel-3_OLCI_L2_LAND data extent\" width=\"500\" align=\"left\"/>"
   ]
  },
  {
   "cell_type": "markdown",
   "metadata": {},
   "source": [
    "### Processing\n",
    "\n",
    "The complete processing methodology for these products is detailed in the [Technical Manual](https://sentiwiki.copernicus.eu/web/s3-documents)."
   ]
  },
  {
   "cell_type": "markdown",
   "metadata": {},
   "source": [
    "### Media and example images"
   ]
  },
  {
   "cell_type": "markdown",
   "metadata": {},
   "source": [
    "*Image 1:  The image covers a central Congo Basin belt (evergreen lowland rainforest) in Democratic Republic of the Congo (DRC), northeastern part of the country—within Tshopo Province showing the Fraction of Absorbed Photosynthetically Active Radiation (green component) at the time of observation*\n"
   ]
  },
  {
   "cell_type": "markdown",
   "metadata": {},
   "source": [
    "<img src=\"../_static/data_specs/Sentinel-3_OLCI_L2_LAND_specs/GIFFA.png\" alt=\"\" width=\"550\" align=\"left\"/>"
   ]
  },
  {
   "cell_type": "markdown",
   "metadata": {},
   "source": [
    "*Image 2: The image covers a central Congo Basin belt (evergreen lowland rainforest) in Democratic Republic of the Congo (DRC), northeastern part of the country—within Tshopo Province showing the visualizes the OLCI Terrestrial Chlorophyll Index (OTCI)*\n",
    "\n"
   ]
  },
  {
   "cell_type": "markdown",
   "metadata": {},
   "source": [
    "<img src=\"../_static/data_specs/Sentinel-3_OLCI_L2_LAND_specs/OTCI.png\" alt=\"OCTI\" width=\"550\" align=\"left\"/>"
   ]
  },
  {
   "cell_type": "markdown",
   "metadata": {},
   "source": [
    "### License\n",
    "\n",
    "CC BY Attribution 4.0 International License"
   ]
  },
  {
   "cell_type": "markdown",
   "metadata": {},
   "source": [
    "### Acknowledgments\n",
    "\n",
    "The Sentinel-3 OLCI Level-2 Land Full Resolution products are produced by the European Space Agency (ESA) within the framework of the Copernicus Programme, and are freely provided via the Copernicus Open Access Hub and Copernicus Data Space Ecosystem. Data access and regional support are enabled by Digital Earth Africa."
   ]
  },
  {
   "cell_type": "markdown",
   "metadata": {},
   "source": [
    "## Data Access"
   ]
  },
  {
   "cell_type": "markdown",
   "metadata": {},
   "source": [
    "### Amazon Web Services S3"
   ]
  },
  {
   "cell_type": "markdown",
   "metadata": {},
   "source": [
    "The Digital Earth Africa Sentinel-3 OLCI L2 LAND  product can be accessed from the associated S3 bucket."
   ]
  },
  {
   "cell_type": "markdown",
   "metadata": {},
   "source": [
    "**Table 5: AWS data access details**"
   ]
  },
  {
   "cell_type": "markdown",
   "metadata": {},
   "source": [
    "|AWS S3 details | |\n",
    "|----------|-------------|\n",
    "|Bucket ARN | `arn:aws:s3:::deafrica-sentinel-3`|\n",
    "| Product name| `s3_olci_l2_lfr` |"
   ]
  },
  {
   "cell_type": "markdown",
   "metadata": {},
   "source": [
    "The bucket is located in the region `af-south-1` (Cape Town)"
   ]
  },
  {
   "cell_type": "markdown",
   "metadata": {},
   "source": [
    "**Table 6: AWS file path convention**\n",
    "\n",
    "|File path element |  Description |Example |\n",
    "|----------|-------------|-----------------|\n",
    "|`product name`| `s3_olci_l2_lfr`| | \n",
    "|`version`| Product version | `1-0-0` |\n",
    "| `path` |  path number ranging from `157` to `206`.|`165` | \n",
    "| `row` |  row number ranging from `052` to `072`. | `052` |\n",
    "| `year` | Year the data was collected |`2019` |\n",
    "| `month`|  Month of the year the data was collected (with leading zeros)|`03`|\n",
    "|`day`| Day of the month the data was collected (with leading zeros)|`28` |"
   ]
  },
  {
   "cell_type": "markdown",
   "metadata": {},
   "source": [
    "### OGC Web Services (OWS)\n",
    "\n",
    "This product is available through DE Africa's OWS.\n",
    "\n",
    "**Table 7: OWS data access details.**\n",
    "\n",
    "|OWS details | |\n",
    "|----------|-------------|\n",
    "|Name | `DE Africa Services` |\n",
    "|Web Map Services (WMS) URL | `https://ows.digitalearth.africa/wms?version=1.3.0` |\n",
    "| Web Coverage Service (WCS) URL | `https://ows.digitalearth.africa/wcs?version=2.1.0`|\n",
    "| Layer names |  `s3_olci_l2_lfr` |\n",
    "\n",
    "Digital Earth Africa OWS details can be found at [https://ows.digitalearth.africa/](https://ows.digitalearth.africa/).\n",
    "\n",
    "For instructions on how to connect to OWS, see [this tutorial](../web_services/index.ipynb)."
   ]
  },
  {
   "cell_type": "markdown",
   "metadata": {},
   "source": [
    "### Open Data Cube (ODC)\n",
    "\n",
    "The Lake Water Quality collection can be accessed through the Digital Earth Africa ODC API, which is available through the [Digital Earth Africa Sandbox](https://sandbox.digitalearth.africa/hub/login).\n",
    "\n",
    "**ODC product name:**  `s3_olci_l2_lfr`"
   ]
  }
 ],
 "metadata": {
  "kernelspec": {
   "display_name": "Python 3 (ipykernel)",
   "language": "python",
   "name": "python3"
  },
  "language_info": {
   "codemirror_mode": {
    "name": "ipython",
    "version": 3
   },
   "file_extension": ".py",
   "mimetype": "text/x-python",
   "name": "python",
   "nbconvert_exporter": "python",
   "pygments_lexer": "ipython3",
   "version": "3.12.3"
  }
 },
 "nbformat": 4,
 "nbformat_minor": 4
}
