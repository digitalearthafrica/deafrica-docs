{
 "cells": [
  {
   "cell_type": "markdown",
   "id": "b795eed0-6ea1-41a5-ab58-e0dbb16d57a0",
   "metadata": {},
   "source": [
    "# Planet NICFI"
   ]
  },
  {
   "cell_type": "raw",
   "id": "e749452e-5026-49e0-bd1e-05caa15b2d8b",
   "metadata": {
    "raw_mimetype": "text/restructuredtext",
    "tags": []
   },
   "source": [
    ".. contents::\n",
    "   :local:"
   ]
  },
  {
   "cell_type": "markdown",
   "id": "15993476-4bad-4b79-83bd-ab9986765527",
   "metadata": {},
   "source": [
    "**Date modified**: July 2024"
   ]
  },
  {
   "cell_type": "markdown",
   "id": "e5f75224-a35e-4d54-99db-dd962110b51d",
   "metadata": {},
   "source": [
    "## Product Overview"
   ]
  },
  {
   "cell_type": "markdown",
   "id": "39e8c947-eb36-46d8-886e-3fb8fdb3eac2",
   "metadata": {},
   "source": [
    "### Background"
   ]
  },
  {
   "cell_type": "markdown",
   "id": "89d5c9fd-7983-4196-84f9-ab470732bbae",
   "metadata": {},
   "source": [
    "Norway’s International Climate and Forests Initiative (NICFI) is an international development fund to help save the world’s tropical forests while improving the livelihoods of those who live off, in, and near the forests. In September 2020, the Norwegian Ministry of Climate and Environment awarded an international contract to Kongsberg Satellite Services (KSAT), with partners Planet and Airbus, to provide comprehensive access to high-resolution satellite monitoring of the tropics. As part of this Program, Planet partners with NICFI in making high-resolution satellite imagery of the tropics available free of charge to users advancing the NICFI Purpose of reducing and reversing tropical forest loss, combating climate change, conserving biodiversity, and facilitating sustainable development. Additional information on the program can be found on the [NICFI program website](https://www.planet.com/nicfi/).\n",
    "\n",
    "Digital Earth Africa has enabled users to view NICFI's latest monthly and biannual high-resolution (<5m) mosaics through the Maps platform. These visual mosaics offer optimised true colour imagery ideal for visual display and interpretation. Archival visual mosaics and analytic products can be accessed directly from Planet following instructions on the program website\n",
    "\n",
    "\n",
    "The Planet NICFI dataset is external to the Digital Earth Africa Open Data Cube. \n",
    "\n",
    "For more information on the Planet NICFI, see the [Planet NICFI](https://assets.planet.com/docs/NICFI_UserGuidesFAQ.pdf).\n",
    "\n",
    "A [Jupyter Notebook]() which demonstrates loading and using Planet NICFI data in the Sandbox is also available."
   ]
  },
  {
   "cell_type": "markdown",
   "id": "b6b4d9d8-3b0b-481e-b8f7-ed6b7d0436df",
   "metadata": {},
   "source": [
    "### Specifications"
   ]
  },
  {
   "cell_type": "markdown",
   "id": "0ac8da39-55bc-4cac-bf02-29f619654282",
   "metadata": {},
   "source": [
    "**Table 1: Planet Monthly Mosaic product specifications**"
   ]
  },
  {
   "cell_type": "markdown",
   "id": "b747167c-8c24-4339-9d4f-61122abffd5e",
   "metadata": {},
   "source": [
    "| Specifications     | | | \n",
    "| :--                | :-- | :-- |\n",
    "| Product name       | Planet Monthly Mosaic |Archive Planet biannual Mosaic|\n",
    "| Resolution (m) $\\dagger$  | 4.77 | 4.77 |\n",
    "| Temporal range | 2020-09 - Date| 2015-12 – 2020-08 |\n",
    "|Temporal resolution | Monthly | 6 months|\n",
    "| Update frequency | Monthly | NA (archive) |\n",
    "| Number of bands | Red, Green, Blue (3-band) | Red, Green, Blue (3-band) | \n",
    "| Latency | 5 days | NA | \n",
    "|API|https://api.digitalearth.africa/planet/tiles/basemaps/v1/planet-tiles/planet_medres_visual_year-month_mosaic/gmap/{z}/{x}/{y}.png| |"
   ]
  },
  {
   "cell_type": "markdown",
   "id": "6cbcd4bd-775e-440c-9d55-195eb57082db",
   "metadata": {
    "tags": []
   },
   "source": [
    "### Example image"
   ]
  },
  {
   "cell_type": "markdown",
   "id": "1c0586c2-c452-4e64-ba83-8543542ba0b4",
   "metadata": {},
   "source": [
    "**Figure 1:Planet Image for Dakar, Senegal**."
   ]
  },
  {
   "cell_type": "markdown",
   "id": "8a58afc2-b884-4796-b561-211c782210a8",
   "metadata": {},
   "source": [
    "<img src=\"../_static/data_specs/Planet_NICFI_specs/planet_dakar.jpg\" alt=\"planet image\" width=\"500\" align=\"center\"/>"
   ]
  },
  {
   "cell_type": "markdown",
   "id": "da8d1a19-fcf6-4001-911f-397e891418e8",
   "metadata": {},
   "source": [
    "### License"
   ]
  },
  {
   "cell_type": "markdown",
   "id": "bfd4b0df-c658-4a88-9cc7-aaa7462575a9",
   "metadata": {},
   "source": [
    "The Planet NICFI product is provided under a free of charge."
   ]
  },
  {
   "cell_type": "markdown",
   "id": "3a15a181-5278-43c2-9e9d-c4fc61a95b49",
   "metadata": {},
   "source": [
    "### Acknowledgements"
   ]
  },
  {
   "cell_type": "markdown",
   "id": "a3583030-537f-46ea-b9b0-d5dfe34e9457",
   "metadata": {},
   "source": [
    "Planet NICFI is produced by the Norway’s International Climate and Forests Initiative (NICFI)."
   ]
  }
 ],
 "metadata": {
  "kernelspec": {
   "display_name": "Python 3 (ipykernel)",
   "language": "python",
   "name": "python3"
  },
  "language_info": {
   "codemirror_mode": {
    "name": "ipython",
    "version": 3
   },
   "file_extension": ".py",
   "mimetype": "text/x-python",
   "name": "python",
   "nbconvert_exporter": "python",
   "pygments_lexer": "ipython3",
   "version": "3.10.12"
  }
 },
 "nbformat": 4,
 "nbformat_minor": 5
}
