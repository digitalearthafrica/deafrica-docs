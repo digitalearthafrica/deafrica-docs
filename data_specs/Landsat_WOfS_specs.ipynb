{
 "cells": [
  {
   "cell_type": "markdown",
   "metadata": {},
   "source": [
    "# Water Observations from Space"
   ]
  },
  {
   "cell_type": "raw",
   "metadata": {
    "raw_mimetype": "text/restructuredtext"
   },
   "source": [
    ".. contents::\n",
    "   :local:"
   ]
  },
  {
   "cell_type": "markdown",
   "metadata": {},
   "source": [
    "**Date modified:** 24 March 2021 "
   ]
  },
  {
   "cell_type": "markdown",
   "metadata": {},
   "source": [
    "> The WOfS product suite is currently a beta product generated from Landsat 8 satellite observations as part of a provisional Landsat Collection 2 surface reflectance product."
   ]
  },
  {
   "cell_type": "markdown",
   "metadata": {},
   "source": [
    "## Product overview"
   ]
  },
  {
   "cell_type": "markdown",
   "metadata": {},
   "source": [
    "### Background\n",
    "\n",
    "[Water Observations from Space (WOfS)](https://www.ga.gov.au/scientific-topics/community-safety/flood/wofs/about-wofs) are a suite of surface water products. They are generated using the WOfS classification algorithm on Landsat 8 satellite data. There are several WOfS products available for the African continent, as listed below:\n",
    "\n",
    "|Product Type| Description |\n",
    "|----------|----------------|\n",
    "| WOfS Feature Layer (WOFL)|WOfS slices generated per scene |\n",
    "| WOfS Annual Summary | The ratio (%) of wet to clear observations from each calendar year|\n",
    "| WOfS All-Time Summary| The ratio (%) of wet to clear observations over all time|\n",
    "\n",
    "\n",
    "\n",
    "* __WOfS Feature Layer (WOFL):__ Individual water-classified images are called Water Observation Feature Layers (WOFLs), and are created in a 1-to-1 relationship with the input satellite data. Hence there is one WOFL for each satellite dataset processed for the occurrence of water. For more information on bitmasking in WOFLs, see the section on [technical information](placeholder_URL).\n",
    "\n",
    "* __WOfS Annual/All-Time Summary:__ The percentage of time a pixel was classified as wet. This requires:\n",
    "\n",
    "    - Total number of clear observations for each pixel: the number of observations that were clear (no cloud or shadow) for the selected time period. The classification algorithm then assigns these as either wet, or dry.\n",
    "    - Total number of wet observation for each pixel: the number of observations that were clear *and* wet for the selected time period.\n",
    "\n",
    "The WOfS summaries are calculated as the ratio of clear wet observations to total clear observations, expressed as a percentage.\n",
    "\n",
    "$$ \\text{WOfS Summary} = \\frac{\\text{Number of Wet Observations}}{\\text{Number of (Wet + Dry) Observations}} \\times 100 $$\n",
    "\n",
    "\n"
   ]
  },
  {
   "cell_type": "markdown",
   "metadata": {},
   "source": [
    "### Specifications"
   ]
  },
  {
   "cell_type": "markdown",
   "metadata": {},
   "source": [
    "There are several datasets that are available as part of the WOfS suite. Relevant coverage and metadata can be viewed on DE Africa [Metadata Explorer](https://explorer.digitalearth.africa/products):\n",
    "\n",
    "* [WOFLs](https://explorer.digitalearth.africa/products/ga_ls8c_wofs_2)\n",
    "* [WOfS Annual Summary](https://explorer.digitalearth.africa/products/ga_ls8c_wofs_2_annual_summary)\n",
    "* [WOfS All-Time Summary](https://explorer.digitalearth.africa/products/ga_ls8c_wofs_2_summary)"
   ]
  },
  {
   "cell_type": "markdown",
   "metadata": {},
   "source": [
    "#### WOfS Feature Layer"
   ]
  },
  {
   "cell_type": "markdown",
   "metadata": {},
   "source": [
    "**Table 1: WOfS Feature Layer product specifications** "
   ]
  },
  {
   "cell_type": "markdown",
   "metadata": {},
   "source": [
    "|Specification | |\n",
    "|----------|-------------|\n",
    "|Product name|WOfS Feature Layer |\n",
    "|Cell size - X (metres) | 30 |\n",
    "|Cell size - Y (metres) | 30 |\n",
    "|Coordinate reference system | EPSG: 6933 |\n",
    "|Temporal resolution | 16 days |\n",
    "|Temporal range| 2013-03-19 &ndash; 2019-06-30 |\n",
    "|Parent dataset| Provisional Landsat 8 Collection 2|\n",
    "|Update frequency| Not applicable for beta products |"
   ]
  },
  {
   "cell_type": "markdown",
   "metadata": {},
   "source": [
    "**Table 2: WOfS Feature Layer measurements**"
   ]
  },
  {
   "cell_type": "markdown",
   "metadata": {},
   "source": [
    "|Band ID| Description |Value range| Data type| No data value|\n",
    "|----------|-------------|----------------|:---------:|:----------:|\n",
    "|water | WOFL water |`0 - 255`| `uint8` | `1` |"
   ]
  },
  {
   "cell_type": "markdown",
   "metadata": {},
   "source": [
    "Bit flags assign a unique decimal value to each characteristic. A pixel can hold multiple characteristics by summing the decimal values of each associated bit flag."
   ]
  },
  {
   "cell_type": "markdown",
   "metadata": {},
   "source": [
    "**Table 12: WOFL bit flags**"
   ]
  },
  {
   "cell_type": "markdown",
   "metadata": {},
   "source": [
    "|Bit|Flagging|Decimal Value|Description|\n",
    "|---|:--------:|:-------------:|:-----------:|\n",
    "|0 |no data |1 |1 = pixel masked out due to NO_DATA in source, 0 = valid data\n",
    "|1 |contiguity |2 |Pixel masked out due to lack of data contiguity\n",
    "|2 |sea |4 | Pixel masked out due to being over sea\n",
    "|3 |terrain shadow |8 |Pixel masked out due to terrain shadow\n",
    "|4 |high slope |16 |Pixel masked out due to high slope\n",
    "|5 |cloud shadow |32 |Pixel masked out due to cloud shadow\n",
    "|6 |cloud |64 |Pixel masked out due to cloud\n",
    "|7 |water observed |128 |Water present"
   ]
  },
  {
   "cell_type": "markdown",
   "metadata": {},
   "source": [
    "When using the WOFL data you will see these bit flags to indicate whether there is water in a certain location, or if it is instead masked by clouds or the terrain makes it difficult to identify water."
   ]
  },
  {
   "cell_type": "markdown",
   "metadata": {},
   "source": [
    "#### WOfS Annual Summary"
   ]
  },
  {
   "cell_type": "markdown",
   "metadata": {},
   "source": [
    "**Table 3: WOfS Annual Summary product specifications** "
   ]
  },
  {
   "cell_type": "markdown",
   "metadata": {},
   "source": [
    "|Specification | |\n",
    "|----------|-------------|\n",
    "|Product name|WOfS Annual Summary |\n",
    "|Cell size - X (metres) | 30 |\n",
    "|Cell size - Y (metres) | 30 |\n",
    "|Coordinate reference system | EPSG: 6933 |\n",
    "|Temporal resolution | Annual |\n",
    "|Temporal range|  2017 &ndash; 2019 |\n",
    "|Parent dataset| WOfS Feature Layer |\n",
    "|Update frequency| Not applicable for beta products|"
   ]
  },
  {
   "cell_type": "markdown",
   "metadata": {},
   "source": [
    "**Table 4: WOfS Annual Summary measurements** "
   ]
  },
  {
   "cell_type": "markdown",
   "metadata": {},
   "source": [
    "|Band ID| Description |Value range| Data type| No data value|\n",
    "|----------|-------------|----------------|:---------:|:----------:|\n",
    "|count_wet | How many times a pixel was wet |`1 - 65535`| `uint16` | `-1` |\n",
    "|count_clear | How many times a pixel was clear |`1 - 65535`| `uint16` | `-1` |\n",
    "|frequency | Frequency of water detection at a location |`0 - 1`| `float32` | `NaN` |"
   ]
  },
  {
   "cell_type": "markdown",
   "metadata": {},
   "source": [
    "#### WOfS All-Time Summary"
   ]
  },
  {
   "cell_type": "markdown",
   "metadata": {},
   "source": [
    "**Table 5: WOfS All-Time Summary specifications** "
   ]
  },
  {
   "cell_type": "markdown",
   "metadata": {},
   "source": [
    "|Specification | |\n",
    "|----------|-------------|\n",
    "|Product name|WOfS All-Time Summary |\n",
    "|Cell size - X (metres) | 30 |\n",
    "|Cell size - Y (metres) | 30 |\n",
    "|Coordinate reference system | EPSG: 6933 |\n",
    "|Temporal resolution | One summary for entire temporal range |\n",
    "|Temporal range| 2013-03-19 &ndash; 2019-06-30 |\n",
    "|Parent dataset|  WOfS Feature Layer |\n",
    "|Update frequency| Not applicable for beta products |"
   ]
  },
  {
   "cell_type": "markdown",
   "metadata": {},
   "source": [
    "**Table 6: WOfS All-Time Summary measurements** "
   ]
  },
  {
   "cell_type": "markdown",
   "metadata": {},
   "source": [
    "|Band ID| Description |Value range| Data type| No data value|\n",
    "|----------|-------------|----------------|:---------:|:----------:|\n",
    "|count_wet | How many times a pixel was wet |`1 - 65535`| `uint16` | `-1` |\n",
    "|count_clear | How many times a pixel was clear |`1 - 65535`| `uint16` | `-1` |\n",
    "|frequency | Frequency of water detection at a location |`0 - 1`| `float32` | `NaN` |"
   ]
  },
  {
   "cell_type": "markdown",
   "metadata": {},
   "source": [
    "All products in the WOfS suite have the same geographic extent. This is shown in Figure 1; data is available for the regions shaded in blue. Specific temporal and geographic extents can be explored as an interactive map on the Digital Earth Africa [Metadata Explorer](). Different WOfS products can be selected from the horizontal dropdown menu at the top of the page."
   ]
  },
  {
   "cell_type": "markdown",
   "metadata": {},
   "source": [
    "<img src=\"../_static/data_specs/Landsat_WOfS_specs/wofs_extent.JPG\" alt=\"S-2 GeoMAD data extent\" width=\"500\" align=\"left\"/>"
   ]
  },
  {
   "cell_type": "markdown",
   "metadata": {},
   "source": [
    "### Processing\n",
    "\n",
    "The [Water Observations from Space Detection Algorithm](https://github.com/GeoscienceAustralia/wofs) as described in [Mueller, 2016](https://doi.org/10.1016/j.rse.2015.11.003), is applied to the Landsat data to create the available WOfS products."
   ]
  },
  {
   "cell_type": "markdown",
   "metadata": {},
   "source": [
    "### Media and example images"
   ]
  },
  {
   "cell_type": "markdown",
   "metadata": {},
   "source": [
    "**Image 1: Tagrin Bay, Sierra Leone. WOfS All-Time Summary.**"
   ]
  },
  {
   "cell_type": "markdown",
   "metadata": {},
   "source": [
    "Colours indicate the percentage of times water was detected. Red is \"rarely water\", green is \"often water\", and blue is \"always water\"."
   ]
  },
  {
   "cell_type": "markdown",
   "metadata": {},
   "source": [
    "Credit: U.S. Geological Survey Landsat data was used in compiling this image."
   ]
  },
  {
   "cell_type": "markdown",
   "metadata": {},
   "source": [
    "<img src=\"../_static/data_specs/Landsat_WOfS_specs/wofs_sierra-leone_image.png\" alt=\"WOfS All-Time Summary over Tagrin Bay.\" width=\"450\" align=\"left\"/>"
   ]
  },
  {
   "cell_type": "markdown",
   "metadata": {},
   "source": [
    "### Related services\n",
    "\n",
    "* [Landsat Collection 2](placeholder)"
   ]
  },
  {
   "cell_type": "markdown",
   "metadata": {},
   "source": [
    "### References\n",
    "\n",
    "Mueller, N., Lewis, A., Roberts, D., Ring, S., Melrose, R., Sixsmith, J., Lymburner, L., McIntyre, A., Tan, P., Curnow, S., & Ip, A. (2016). Water observations from space: Mapping surface water from 25 years of Landsat imagery across Australia. Remote Sensing of Environment, 174, 341–352. [https://doi.org/10.1016/j.rse.2015.11.003]([https://doi.org/10.1016/j.rse.2015.11.003]) "
   ]
  },
  {
   "cell_type": "markdown",
   "metadata": {},
   "source": [
    "### License\n",
    "\n",
    "CC BY Attribution 4.0 International License"
   ]
  },
  {
   "cell_type": "markdown",
   "metadata": {},
   "source": [
    "### Acknowledgments\n",
    "\n",
    "The WOfS algorithms incorporated in this product are the work of Norman Mueller, Geoscience Australia, and Dr Dale Roberts, Australian National University."
   ]
  },
  {
   "cell_type": "markdown",
   "metadata": {},
   "source": [
    "## Data Access"
   ]
  },
  {
   "cell_type": "markdown",
   "metadata": {},
   "source": [
    "### Amazon Web Services S3"
   ]
  },
  {
   "cell_type": "markdown",
   "metadata": {},
   "source": [
    "**Table 7: AWS data access details**"
   ]
  },
  {
   "cell_type": "markdown",
   "metadata": {},
   "source": [
    "|AWS S3 details | |\n",
    "|----------|-------------|\n",
    "|Bucket ARN | `arn:aws:s3:::deafrica-services`|\n",
    "| Product name| |"
   ]
  },
  {
   "cell_type": "markdown",
   "metadata": {},
   "source": [
    "**Table 8: AWS file path convention**\n",
    "\n",
    "*this probably needs a table?*"
   ]
  },
  {
   "cell_type": "markdown",
   "metadata": {},
   "source": [
    "### OGC Web Services (OWS)\n",
    "\n",
    "This product is available through DE Africa's OWS.\n",
    "\n",
    "**Table 9: OWS data access details.**\n",
    "\n",
    "|OWS details | |\n",
    "|----------|-------------|\n",
    "|Name | `DE Africa Services` |\n",
    "|Web Map Services (WMS) URL | `https://ows.digitalearth.africa/wms?version=1.3.0` |\n",
    "| Web Coverage Service (WCS) URL | `https://ows.digitalearth.africa/wcs?version=2.1.0`|\n",
    "| Layer names | `ga_ls8c_wofs_2`, `wofs_2_annual_summary_frequency`, `wofs_2_summary_frequency` |\n",
    "\n",
    "Digital Earth Africa OWS details can be found at [https://ows.digitalearth.africa/](https://ows.digitalearth.africa/).\n",
    "\n",
    "For instructions on how to connect to OWS, see [this tutorial](https://training.digitalearthafrica.org/en/latest/OWS_tutorial.html)."
   ]
  },
  {
   "cell_type": "markdown",
   "metadata": {},
   "source": [
    "### Open Data Cube (ODC)\n",
    "\n",
    "The WOfS suite of datasets can be accessed through the Digital Earth Africa ODC API, which is available through the [Digital Earth Africa Sandbox](https://sandbox.digitalearth.africa/hub/login).\n",
    "\n",
    "**ODC product name:** `ga_ls8c_wofs_2`, `ga_ls8c_wofs_2_annual_summary`, `ga_ls8c_wofs_2_summary`"
   ]
  },
  {
   "cell_type": "markdown",
   "metadata": {},
   "source": [
    "**Table 10: WOFL ODC band names**"
   ]
  },
  {
   "cell_type": "markdown",
   "metadata": {},
   "source": [
    "|Band name| Alternative names|\n",
    "|----------|-------------|\n",
    "|water | -- |"
   ]
  },
  {
   "cell_type": "markdown",
   "metadata": {},
   "source": [
    "The Annual Summary and the All-Time Summary have the same band names in the ODC."
   ]
  },
  {
   "cell_type": "markdown",
   "metadata": {},
   "source": [
    "**Table 11: WOfS Annual/All-Time Summary ODC band names**"
   ]
  },
  {
   "cell_type": "markdown",
   "metadata": {},
   "source": [
    "|Band name| Alternative names|\n",
    "|----------|-------------|\n",
    "|count_wet | wet |\n",
    "|count_clear | clear |\n",
    "|frequency | freq |"
   ]
  },
  {
   "cell_type": "markdown",
   "metadata": {},
   "source": [
    "For examples on how to use the ODC API, see the DE Africa [example notebook repository](https://github.com/digitalearthafrica/deafrica-sandbox-notebooks)."
   ]
  },
  {
   "cell_type": "markdown",
   "metadata": {},
   "source": [
    "## Technical information"
   ]
  },
  {
   "cell_type": "markdown",
   "metadata": {},
   "source": [
    "### Methods\n",
    "\n",
    "The Water Observations from Space (WOfS) service for Africa was created using an algorithm that has been developed and well-tested in Australia ([Mueller 2016](https://www.sciencedirect.com/science/article/pii/S0034425715301929?via%3Dihub)). The WOfS algorithm maps surface water for every image scene using a supervised decision tree algorithm that considers surface reflectance measurements in selected spectral bands and a number of normalised difference indices. WOfS maps water at a spatial resolution of 30m by 30m. The WOfS product suite includes daily water observations and statistical summaries. Daily water observations, also known as Water Observation Feature Layers, detect water in each input satellite observation. The dataset can be used to map historical flood and to understand surface water dynamics; however, given the time between satellite passes (approximately once every 16 days), it is rare that the maximum extent of any given flood is captured.\n"
   ]
  },
  {
   "cell_type": "markdown",
   "metadata": {},
   "source": [
    "### Validation\n",
    "\n",
    "We selected a validation approach that provided insights on both the spatial and temporal accuracy of WOfS. We followed methods outlined in the DE Africa validation strategy and worked with a distributed team of regional analysts who provided regional expertise and knowledge of the landscape. We used a stratified random sampling scheme and assessed points as ‘truth’ through interpretation of imagery using a custom built tool in Collect Earth Online (CEO). Because of the large effort required to create a continental-scale multi-temporal reference dataset we selected a sampling design that is independent of the WOfS classification so that it can be used to compare future versions of WOfS (new algorithms, new products i.e. Sentinel-2) and other existing surface water maps (Global surface water map).\n",
    "\n",
    "One of our objectives was to create a reference dataset that would be sensitive to changes between water classifiers and source imagery. Because water classifiers typically do a good job mapping big open water bodies we masked out large water features with an area of more than 100 square km (sourced from the Food and Agriculture Organization of the United Nations (FAO)) from the sample frame. This focused validation on areas that are more challenging to map such as small water bodies with different colors, depths and surrounding environments and edges of waterbodies that often contain mixed pixels. By focusing our sample on the more difficult to map areas this sample scheme allows us to understand the limitations of WOfS and allows us to compare WOfS to other datasets that are available with higher sensitivity than a purely probabilistic sample. However, a sampling scheme focused on the more difficult to detect areas and not just the large waterbodies will result in lower accuracies if compared to other sample schemes that did not do large waterbody masking. "
   ]
  },
  {
   "cell_type": "markdown",
   "metadata": {},
   "source": [
    "### Accuracy\n",
    "\n",
    "At a continental-scale WOfS is able to identify about 80% of the labeled water features and 94% of its water classifications are correct. As a comparison, we have used this validation dataset to measure the accuracy of water classification provided as part of the Sentinel-2 analysis ready data (in a scene classification layer). The Sentinel-2 dataset is able to detect less than 60% of the labeled water features."
   ]
  }
 ],
 "metadata": {
  "kernelspec": {
   "display_name": "Python 3",
   "language": "python",
   "name": "python3"
  },
  "language_info": {
   "codemirror_mode": {
    "name": "ipython",
    "version": 3
   },
   "file_extension": ".py",
   "mimetype": "text/x-python",
   "name": "python",
   "nbconvert_exporter": "python",
   "pygments_lexer": "ipython3",
   "version": "3.6.9"
  }
 },
 "nbformat": 4,
 "nbformat_minor": 4
}
