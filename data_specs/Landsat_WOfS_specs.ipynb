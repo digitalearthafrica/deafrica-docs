{
 "cells": [
  {
   "cell_type": "markdown",
   "metadata": {},
   "source": [
    "# Water Observations from Space"
   ]
  },
  {
   "cell_type": "raw",
   "metadata": {
    "raw_mimetype": "text/restructuredtext"
   },
   "source": [
    ".. contents::\n",
    "   :local:"
   ]
  },
  {
   "cell_type": "markdown",
   "metadata": {},
   "source": [
    "**Date modified:** 02 March 2022 "
   ]
  },
  {
   "cell_type": "markdown",
   "metadata": {},
   "source": [
    "## Service overview"
   ]
  },
  {
   "cell_type": "markdown",
   "metadata": {},
   "source": [
    "### Background\n",
    "\n",
    "Water Observations from Space (WOfS) is a service that uses satellite images to provide historical surface water observations across the African continent. WOfS enables users to understand the location and movement of inland and coastal water over time. It shows where water is usually present; where it is seldom observed; and where inundation of the surface has been observed by satellite. \n",
    "\n",
    "The data are generated using the WOfS classification algorithm applied to Landsat satellite images. There are three WOfS products available in the collection for the African continent, as listed below:\n",
    "\n",
    "|Product Type| Description |\n",
    "|----------|----------------|\n",
    "| WOfS Feature Layer (WOFL)| Water and non-water classification generated per scene |\n",
    "| WOfS Annual Summary | The ratio of wet to clear observations for each calendar year|\n",
    "| WOfS All-Time Summary| The ratio of wet to clear observations for the full time period|\n",
    "\n",
    "\n",
    "\n",
    "* __WOfS Feature Layer (WOFL):__ Individual water-classified images are called Water Observation Feature Layers (WOFLs), and are created from the input satellite data. There is one WOFL for each satellite image processed showing the occurrence of water.\n",
    "\n",
    "\n",
    "* __WOfS Annual/All-Time Summary:__ The frequency of a pixel being classified as wet. This involves:\n",
    "\n",
    "    - Total number of clear observations for each pixel: the number of observations that were clear (no cloud, cloud shadow or terrain shadow) for the selected time period. The classification algorithm then assigns these as either wet, or dry.\n",
    "    - Total number of wet observation for each pixel: the number of observations that were clear *and* wet for the selected time period.\n",
    "\n",
    "The WOfS summaries are calculated as the ratio of clear wet observations to total clear observations.\n",
    "\n",
    "$$ \\text{WOfS Summary (Frequency) } = \\frac{\\text{Number of Clear and Wet Observations}}{\\text{Number of Clear Observations}} $$\n",
    "\n",
    "\n"
   ]
  },
  {
   "cell_type": "markdown",
   "metadata": {},
   "source": [
    "### Specifications"
   ]
  },
  {
   "cell_type": "markdown",
   "metadata": {},
   "source": [
    "Relevant coverage and metadata for each of the three WOfS products can be viewed on DE Africa [Metadata Explorer](https://explorer.digitalearth.africa/products):\n",
    "\n",
    "* [WOFLs](https://explorer.digitalearth.africa/products/wofs_ls)\n",
    "* [WOfS Annual Summary](https://explorer.digitalearth.africa/products/wofs_ls_summary_annual)\n",
    "* [WOfS All-Time Summary](https://explorer.digitalearth.africa/products/wofs_ls_summary_alltime)\n",
    "\n",
    "A [Jupyter Notebook](https://github.com/digitalearthafrica/deafrica-sandbox-notebooks/blob/main/Datasets/Water_Observations_from_Space.ipynb) which demonstrates loading and using WOfS products in the Sandbox is also available."
   ]
  },
  {
   "cell_type": "markdown",
   "metadata": {},
   "source": [
    "#### WOfS Feature Layer"
   ]
  },
  {
   "cell_type": "markdown",
   "metadata": {},
   "source": [
    "**Table 1: WOfS Feature Layer product specifications** "
   ]
  },
  {
   "cell_type": "markdown",
   "metadata": {},
   "source": [
    "|Specification | |\n",
    "|----------|-------------|\n",
    "|Product name|WOfS Feature Layer |\n",
    "|Cell size - X (metres) | 30 |\n",
    "|Cell size - Y (metres) | 30 |\n",
    "|Coordinate reference system | Universal Transverse Mercator (UTM) |\n",
    "|Temporal resolution | 16 days |\n",
    "|Temporal range| 1984 &ndash; present |\n",
    "|Parent dataset| Landsat Collection 2 Surface Reflectance |\n",
    "|Update frequency| Daily |"
   ]
  },
  {
   "cell_type": "markdown",
   "metadata": {},
   "source": [
    "**Table 2: WOfS Feature Layer measurements**"
   ]
  },
  {
   "cell_type": "markdown",
   "metadata": {},
   "source": [
    "|Band ID| Description |Value range| Data type| No data value|\n",
    "|----------|-------------|----------------|:---------:|:----------:|\n",
    "|water | WOFL water |`0 - 255`| `uint8` | `1` |"
   ]
  },
  {
   "cell_type": "markdown",
   "metadata": {},
   "source": [
    "The WOFL measurement `water` uses bit flags to allocate terrain characteristics to each pixel. Bit flags assign a unique decimal value to each characteristic. A pixel can hold multiple characteristics by summing the decimal values of each associated bit flag. "
   ]
  },
  {
   "cell_type": "markdown",
   "metadata": {},
   "source": [
    "**Table 3: WOfS Feature Layer bit flags**"
   ]
  },
  {
   "cell_type": "markdown",
   "metadata": {},
   "source": [
    "|Bit|Flagging|Decimal Value|Description|\n",
    "|---|:--------:|:-------------:|:-----------:|\n",
    "|0 |no data |1 |1 = pixel masked out due to NO_DATA in source, 0 = valid data\n",
    "|1 |non-contiguity |2 | At least one input band is missing or invalid\n",
    "|2 |low solar angle |4 | Solar incidence angle is less than 10 degrees\n",
    "|3 |terrain shadow |8 | Terrain shadow\n",
    "|4 |high slope |16 | Terrain slope (measured from SRTM) is larger than 12 degrees\n",
    "|5 |cloud shadow |32 | Cloud shadow\n",
    "|6 |cloud |64 | Cloud\n",
    "|7 |water observed |128 | Classified as water by the decision tree"
   ]
  },
  {
   "cell_type": "markdown",
   "metadata": {},
   "source": [
    "For example, a `water` value of `136` indicates water (`128`) AND terrain shadow (`8`) were observed for the pixel, whereas a value of `144` would indicate water (`128`) AND high slope (`16`).\n",
    "\n",
    "WOFLs are useful for identifying the presence of water at a certain point in time, or over short durations (less than one year), and can be best utilised by people with knowledge of water observations with satellites, and their limitations. For annual or historical data, users can access the pre-calculated summary products detailed below."
   ]
  },
  {
   "cell_type": "markdown",
   "metadata": {},
   "source": [
    "#### WOfS Annual Summary"
   ]
  },
  {
   "cell_type": "markdown",
   "metadata": {},
   "source": [
    "**Table 4: WOfS Annual Summary product specifications** "
   ]
  },
  {
   "cell_type": "markdown",
   "metadata": {},
   "source": [
    "|Specification | |\n",
    "|----------|-------------|\n",
    "|Product name|WOfS Annual Summary |\n",
    "|Cell size - X (metres) | 30 |\n",
    "|Cell size - Y (metres) | 30 |\n",
    "|Coordinate reference system | EPSG: 6933 |\n",
    "|Temporal resolution | Annual |\n",
    "|Temporal range|  1984 &ndash; present |\n",
    "|Parent dataset| WOfS Feature Layer |\n",
    "|Update frequency| Annual |\n",
    "|Update latency | 2 months from end of previous year |"
   ]
  },
  {
   "cell_type": "markdown",
   "metadata": {},
   "source": [
    "**Table 5: WOfS Annual Summary measurements** "
   ]
  },
  {
   "cell_type": "markdown",
   "metadata": {},
   "source": [
    "|Band ID| Description |Value range| Data type| No data value|\n",
    "|----------|-------------|----------------|:---------:|:----------:|\n",
    "|count_wet | How many times a pixel was wet |`0 - 32767`| `int16` | `-999` |\n",
    "|count_clear | How many times a pixel was clear |`0 - 32767`| `int16` | `-999` |\n",
    "|frequency | Frequency of water detection at a location |`0 - 1`| `float32` | `NaN` |"
   ]
  },
  {
   "cell_type": "markdown",
   "metadata": {},
   "source": [
    "#### WOfS All-Time Summary"
   ]
  },
  {
   "cell_type": "markdown",
   "metadata": {},
   "source": [
    "**Table 6: WOfS All-Time Summary specifications** "
   ]
  },
  {
   "cell_type": "markdown",
   "metadata": {},
   "source": [
    "|Specification | |\n",
    "|----------|-------------|\n",
    "|Product name|WOfS All-Time Summary |\n",
    "|Cell size - X (metres) | 30 |\n",
    "|Cell size - Y (metres) | 30 |\n",
    "|Coordinate reference system | EPSG: 6933 |\n",
    "|Temporal resolution | Single summary for the full temporal range |\n",
    "|Temporal range| 1984 &ndash; present |\n",
    "|Parent dataset|  WOfS Feature Layer |\n",
    "|Update frequency| Annual |\n",
    "|Update latency | 2 months from end of previous calendar year |"
   ]
  },
  {
   "cell_type": "markdown",
   "metadata": {},
   "source": [
    "**Table 7: WOfS All-Time Summary measurements** "
   ]
  },
  {
   "cell_type": "markdown",
   "metadata": {},
   "source": [
    "|Band ID| Description |Value range| Data type| No data value|\n",
    "|----------|-------------|----------------|:---------:|:----------:|\n",
    "|count_wet | How many times a pixel was wet |`0 - 32767`| `int16` | `-999` |\n",
    "|count_clear | How many times a pixel was clear |`0 - 32767`| `int16` | `-999` |\n",
    "|frequency | Frequency of water detection at a location |`0 - 1`| `float32` | `NaN` |"
   ]
  },
  {
   "cell_type": "markdown",
   "metadata": {},
   "source": [
    "All products in the WOfS collection have the same geographic extent. This is shown in Figure 1; data are available for the regions shaded in blue. Specific temporal and geographic extents can be explored as an interactive map on the Digital Earth Africa [Metadata Explorer](https://explorer.digitalearth.africa/products). Different WOfS products can be selected from the horizontal dropdown menu at the top of the page."
   ]
  },
  {
   "cell_type": "markdown",
   "metadata": {},
   "source": [
    "**Figure 1: Landsat WOfS colelction geographic extent**"
   ]
  },
  {
   "cell_type": "markdown",
   "metadata": {},
   "source": [
    "<img src=\"../_static/data_specs/Landsat_WOfS_specs/wofs_extent.PNG\" alt=\"S-2 GeoMAD data extent\" width=\"500\" align=\"left\"/>"
   ]
  },
  {
   "cell_type": "markdown",
   "metadata": {},
   "source": [
    "### Processing\n",
    "\n",
    "The [Water Observations from Space Detection Algorithm](https://github.com/GeoscienceAustralia/wofs) as described in [Mueller et al. (2016)](https://doi.org/10.1016/j.rse.2015.11.003), is applied to the Landsat data to create the available WOfS products."
   ]
  },
  {
   "cell_type": "markdown",
   "metadata": {},
   "source": [
    "### Media and example images"
   ]
  },
  {
   "cell_type": "markdown",
   "metadata": {},
   "source": [
    "**Image 1: Tagrin Bay, Sierra Leone. WOfS All-Time Summary.**\n",
    "\n",
    "Colours indicate the percentage of times water was detected. Red is \"rarely water\", green is \"often water\", and blue is \"always water\".\n",
    "\n",
    "Credit: U.S. Geological Survey Landsat data was used in compiling this image."
   ]
  },
  {
   "cell_type": "markdown",
   "metadata": {},
   "source": [
    "<img src=\"../_static/data_specs/Landsat_WOfS_specs/TagrinBay_WOfS_alltime.png\" alt=\"WOfS All-Time Summary over Tagrin Bay.\" width=\"550\" align=\"left\"/>"
   ]
  },
  {
   "cell_type": "markdown",
   "metadata": {},
   "source": [
    "**Image 2: Bui Dam inlet, Ghana. Animation of WOfS annual Summary from 2004 to 2021.**\n",
    "\n",
    "Intensity of colour indicates the percentage of times water was detected for that year. Dark blue is \"always water\", while light blue is \"rarely water\".\n",
    "\n",
    "Credit: U.S. Geological Survey Landsat data was used in compiling this image."
   ]
  },
  {
   "cell_type": "markdown",
   "metadata": {},
   "source": [
    "<img src=\"../_static/data_specs/Landsat_WOfS_specs/Bui_Ghana_WOfS_Annual.gif\" alt=\"WOfS Annual Summary over Bui Dam, animated.\" width=\"300\" align=\"left\"/>"
   ]
  },
  {
   "cell_type": "markdown",
   "metadata": {},
   "source": [
    "**Image 3: Shiroro Reservoir, Nigeria. A WOfS Feature Layer (WOFL) from 13 March 2021.**\n",
    "\n",
    "Colours are assigned by bit flag value. For more detail on WOFL bit flags, see Table 3.\n",
    "\n",
    "Credit: U.S. Geological Survey Landsat data was used in compiling this image. The plotting schema is attributed to the Digital Earth Australia [dea-tools](https://docs.dea.ga.gov.au/) package."
   ]
  },
  {
   "cell_type": "markdown",
   "metadata": {},
   "source": [
    "<img src=\"../_static/data_specs/Landsat_WOfS_specs/Shiroro_Reservoir_WOFL.png\" alt=\"WOFL over Shiroro Reservoir.\" width=\"650\" align=\"left\"/>"
   ]
  },
  {
   "cell_type": "markdown",
   "metadata": {},
   "source": [
    "### Related services\n",
    "\n",
    "* [Landsat Collection 2 Surface Reflectance](https://docs.digitalearthafrica.org/en/latest/data_specs/Landsat_C2_SR_specs.html)"
   ]
  },
  {
   "cell_type": "markdown",
   "metadata": {},
   "source": [
    "### References\n",
    "\n",
    "Mueller, N., Lewis, A., Roberts, D., Ring, S., Melrose, R., Sixsmith, J., Lymburner, L., McIntyre, A., Tan, P., Curnow, S., & Ip, A. (2016). Water observations from space: Mapping surface water from 25 years of Landsat imagery across Australia. Remote Sensing of Environment, 174, 341-352. [https://doi.org/10.1016/j.rse.2015.11.003]([https://doi.org/10.1016/j.rse.2015.11.003]) "
   ]
  },
  {
   "cell_type": "markdown",
   "metadata": {},
   "source": [
    "### License\n",
    "\n",
    "CC BY Attribution 4.0 International License"
   ]
  },
  {
   "cell_type": "markdown",
   "metadata": {},
   "source": [
    "### Acknowledgments\n",
    "\n",
    "The WOfS algorithms incorporated in this product are the work of Norman Mueller, Geoscience Australia, and Dr Dale Roberts, Australian National University."
   ]
  },
  {
   "cell_type": "markdown",
   "metadata": {},
   "source": [
    "## Data Access"
   ]
  },
  {
   "cell_type": "markdown",
   "metadata": {},
   "source": [
    "### Amazon Web Services S3"
   ]
  },
  {
   "cell_type": "markdown",
   "metadata": {},
   "source": [
    "The Digital Earth Africa WOfS data can be accessed from the associated S3 bucket."
   ]
  },
  {
   "cell_type": "markdown",
   "metadata": {},
   "source": [
    "**Table 8: AWS data access details**"
   ]
  },
  {
   "cell_type": "markdown",
   "metadata": {},
   "source": [
    "|AWS S3 details | |\n",
    "|----------|-------------|\n",
    "|Bucket ARN | `arn:aws:s3:::deafrica-services`|\n",
    "| Product names| `wofs_ls`, `wofs_ls_summary_annual`, `wofs_ls_summary_alltime` |"
   ]
  },
  {
   "cell_type": "markdown",
   "metadata": {},
   "source": [
    "The bucket is located in the region `af-south-1` (Cape Town)"
   ]
  },
  {
   "cell_type": "markdown",
   "metadata": {},
   "source": [
    "The following file path convention applies to WOFLs:\n",
    "\n",
    "`wofs_ls/<version>/<path>/<row>/<year>/<month>/<day>/`\n",
    "\n",
    "Annual Summaries omit `path`, `row`, `month` and `day`.\n",
    "\n",
    "`wofs_ls_summary_annual/<version>/<year>/`\n",
    "\n",
    "The All-Time Summary additionally drops `year`.\n",
    "\n",
    "`wofs_ls_summary_alltime/<version>/`"
   ]
  },
  {
   "cell_type": "markdown",
   "metadata": {},
   "source": [
    "**Table 9: AWS file path convention**\n",
    "\n",
    "|File path element |  Description |Example |\n",
    "|----------|-------------|-----------------|\n",
    "|`product name`|`wofs_ls`, `wofs_ls_summary_annual`, or `wofs_ls_summary_alltime` | `wofs_ls` | \n",
    "|`version`| Product version | `1-0-0` |\n",
    "| `path` | Landsat path number ranging from `157` to `206`.|`165` | \n",
    "| `row` | Landsat row number ranging from `052` to `072`. | `052` |\n",
    "| `year` | Year the data was collected |`2019` |\n",
    "| `month`|  Month of the year the data was collected (with leading zeros)|`03`|\n",
    "|`day`| Day of the month the data was collected (with leading zeros)|`28` |"
   ]
  },
  {
   "cell_type": "markdown",
   "metadata": {},
   "source": [
    "### OGC Web Services (OWS)\n",
    "\n",
    "This product is available through DE Africa's OWS.\n",
    "\n",
    "**Table 10: OWS data access details.**\n",
    "\n",
    "|OWS details | |\n",
    "|----------|-------------|\n",
    "|Name | `DE Africa Services` |\n",
    "|Web Map Services (WMS) URL | `https://ows.digitalearth.africa/wms?version=1.3.0` |\n",
    "| Web Coverage Service (WCS) URL | `https://ows.digitalearth.africa/wcs?version=2.1.0`|\n",
    "| Layer names | `wofs_ls`, `wofs_ls_summary_annual`, `wofs_ls_summary_alltime` |\n",
    "\n",
    "Digital Earth Africa OWS details can be found at [https://ows.digitalearth.africa/](https://ows.digitalearth.africa/).\n",
    "\n",
    "For instructions on how to connect to OWS, see [this tutorial](../web_services/index.ipynb)."
   ]
  },
  {
   "cell_type": "markdown",
   "metadata": {},
   "source": [
    "### Open Data Cube (ODC)\n",
    "\n",
    "The WOfS collection can be accessed through the Digital Earth Africa ODC API, which is available through the [Digital Earth Africa Sandbox](https://sandbox.digitalearth.africa/hub/login).\n",
    "\n",
    "**ODC product name:** `wofs_ls`, `wofs_ls_summary_annual`, `wofs_ls_summary_alltime`"
   ]
  },
  {
   "cell_type": "markdown",
   "metadata": {},
   "source": [
    "**Table 11: WOFL ODC band names**"
   ]
  },
  {
   "cell_type": "markdown",
   "metadata": {},
   "source": [
    "|Band name| Alternative names|\n",
    "|----------|-------------|\n",
    "|water | -- |"
   ]
  },
  {
   "cell_type": "markdown",
   "metadata": {},
   "source": [
    "The Annual Summary and the All-Time Summary have the same band names in the ODC."
   ]
  },
  {
   "cell_type": "markdown",
   "metadata": {},
   "source": [
    "**Table 12: WOfS Annual/All-Time Summary ODC band names**"
   ]
  },
  {
   "cell_type": "markdown",
   "metadata": {},
   "source": [
    "|Band name| Alternative names|\n",
    "|----------|-------------|\n",
    "|count_wet | wet |\n",
    "|count_clear | clear |\n",
    "|frequency | freq |"
   ]
  },
  {
   "cell_type": "markdown",
   "metadata": {},
   "source": [
    "For examples on how to use the ODC API, see the DE Africa [example notebook repository](https://github.com/digitalearthafrica/deafrica-sandbox-notebooks)."
   ]
  },
  {
   "cell_type": "markdown",
   "metadata": {},
   "source": [
    "## Technical information"
   ]
  },
  {
   "cell_type": "markdown",
   "metadata": {},
   "source": [
    "### Algorithm"
   ]
  },
  {
   "cell_type": "markdown",
   "metadata": {},
   "source": [
    "The Water Observations from Space Detection Algorithm uses a decision tree method using both spectral band measurements and derived indices as input datasets. It also utilised several ancillary datasets, including slope. \n",
    "\n",
    "An illustration of the decision tree is shown in Figure 2."
   ]
  },
  {
   "cell_type": "markdown",
   "metadata": {},
   "source": [
    "**Figure 2: WOfS Detection Algorithm decision tree. Tree branches are shown in green with endpoint for water and not-water displayed as blue and red respectively. Each branch indicates the variable used to split and the resulting balance of water and not-water samples created by the split. Source:** [Mueller et al. (2016)](https://doi.org/10.1016/j.rse.2015.11.003)."
   ]
  },
  {
   "cell_type": "markdown",
   "metadata": {},
   "source": [
    "<img src=\"../_static/data_specs/Landsat_WOfS_specs/wofs_algorithm.jpg\" alt=\"The decision tree underlying the WOfS algorithm.\" width=\"700\" align=\"left\"/>"
   ]
  },
  {
   "cell_type": "markdown",
   "metadata": {},
   "source": [
    "### Validation method\n",
    "\n",
    "The Digital Earth Africa validation task team has many years’ of combined experience validating satellite-derived maps in different regions of Africa, and a long history of collaborating with a wide variety of stakeholders. \n",
    "\n",
    "To validate WOfS data, the continent was divided into seven Agro-Ecological Zones (AEZ). Analysts from within each regional geospatial organization labelled a large set of sample points using image interpretation of satellite and aerial imagery. Analysts applied their regional and local knowledge to help define class labels and interpret any difficult features, creating a validation dataset that is both accurate and fit for purpose. To ensure WOfS is as accurate as possible, it was validated against a range of data points. 2900 sample points were generated, covering the African continent, including the main islands.\n",
    "\n",
    "Typically, water classifiers are adept at mapping large, open water bodies - so for this exercise, water features with an area of more than 100 square kilometres were masked out. This ensured that analysis remained focused on areas that are more challenging to map, such as small water bodies with different colours, depths and surrounding environments.\n",
    "\n",
    "Stratified random sampling was then performed to select locations with different water occurrences and waterbody types. By focusing the sample on the more difficult-to-map areas, this sample scheme allowed the Digital Earth Africa team to understand the limitations of WOfS, and meant that WOfS could be compared to other available datasets. It also resulted in overall accuracy for this exercise appearing lower than expected, since the ‘easy to map’ areas had been removed from the sample design. \n",
    "\n",
    "Next, analysts labelled each sample point using a visual interpretation of sample points provided by online tool, Collect Earth Online (CEO). CEO allowed multiple analysts to assess points as water or non-water using satellite and aerial images. The labelled sample points were then compared with the WOfS map, determining where the WOfS map service agrees - or disagrees - with the validation dataset.  \n",
    "\n",
    "The sampling design is independent of the WOfS classification, so this validation dataset can be used to provide quantitive comparisons with products such as future versions of WOfS, or other existing surface water maps.\n"
   ]
  },
  {
   "cell_type": "markdown",
   "metadata": {},
   "source": [
    "### Validation results"
   ]
  },
  {
   "cell_type": "markdown",
   "metadata": {},
   "source": [
    "At a continental-scale, WOfS is able to accurately identify about 80% of the labelled water features (Figure 3, right). 94% of its water classifications are correct (Figure 3, left). \n",
    "\n",
    "At the AEZ level, WOfS performs outstandingly in Eastern, Sahel and Northern AEZs with more than 85% of reference water features in these zones being correctly identified as water (Figure 3, centre). The reliability of this classification in the Eastern zone is also very high at more than 96%; and the WOfS classification in all seven AEZ proved to be reliable, with more than 84% user accuracy (Figure 3, left). The Western AEZ is a challenging zone with high cloud coverage and a wet climate, 77.5% of reference water features have been correctly identified as water in WOfS product, and 97.3% of these water features are actually water. "
   ]
  },
  {
   "cell_type": "markdown",
   "metadata": {},
   "source": [
    "**Figure 3: Overall WOfS accuracy, split by Agro-Ecological Zone.**"
   ]
  },
  {
   "cell_type": "markdown",
   "metadata": {},
   "source": [
    "<img src=\"../_static/data_specs/Landsat_WOfS_specs/aez_accuracy_map_wofs_ls_valid.png\" alt=\"WOfS accuracies mapped by Agro-Ecological Zone.\" width=\"700\" align=\"left\"/>"
   ]
  },
  {
   "cell_type": "markdown",
   "metadata": {},
   "source": [
    "#### Limitations on Validation"
   ]
  },
  {
   "cell_type": "markdown",
   "metadata": {},
   "source": [
    "During the WOfS validation assessment, a number of issues associated with input data, validation method and the WOfS algorithm were recognized. The validation results should be interpreted with the following caveats: \n",
    "\n",
    "* **Spatial resolution:** The WOfS product is based on 30 m resolution Landsat imagery while the validation data is produced using 10 m resolution Sentinel-2 imagery. WOfS has trouble in areas with mixed pixels (where a pixel covers both water and land). These areas tend to be on edges of lakes and in wetlands where there is a mix of water and vegetation. The Sentinel-2 imagery can identify these edges at a higher resolution than the current Landsat WOfS product.\n",
    "\n",
    "* **Temporal resolution:** Reference locations may have been observed on different dates by the Sentinel-2 and the Landsat satellites. If the water extent has changed between the dates, a mismatch in the classification is expected."
   ]
  },
  {
   "cell_type": "markdown",
   "metadata": {},
   "source": [
    "### Interpreting WOfS"
   ]
  },
  {
   "cell_type": "markdown",
   "metadata": {},
   "source": [
    "The WOfS service should be interpreted with caveats in the following situations: \n",
    "\n",
    "* **Mixed pixels:** Discretion should be used where a single pixel covers both water and land. These areas tend to occur on the edges of lakes, and in wetlands where there is a mix of water and vegetation.\n",
    "\n",
    "* **Turbid or dark water:** The WOfS algorithm is developed to identify a diverse range of waterbodies. However, the classifier may miss dark water surfaces or water with high concentration of sediments. In some cases, the impact can be mitigated by using a temporal summary of WOfS, such as the Annual Summary or All-Time Summary. A waterbody may be missed in a single observation, but over the course of the year it is mapped as water in other dates and therefore mapped as a waterbody in the summary products. \n",
    "\n",
    "* **Other environmental factors:** Sediment, floating vegetation and similar obstructions change the colour of water and can obfuscate water detection by WOfS.\n",
    "\n",
    "* **Inaccurate input data:** Inaccurate input surface reflectance may lead to false classification in WOfS. To maximize coverage, all pixels within a valid surface reflectance range (0-1) from Landsat Collection 2 are used to generate the WOFLs. When creating WOfS summaries, only WOFLs processed from Landsat Tier 1 data with good geometric accuracy are used.\n",
    "\n",
    "Note that WOfS is not intended for studying ocean. Validation has been centred around inland and near-coastal waterbodies.\n"
   ]
  }
 ],
 "metadata": {
  "kernelspec": {
   "display_name": "Python 3 (ipykernel)",
   "language": "python",
   "name": "python3"
  },
  "language_info": {
   "codemirror_mode": {
    "name": "ipython",
    "version": 3
   },
   "file_extension": ".py",
   "mimetype": "text/x-python",
   "name": "python",
   "nbconvert_exporter": "python",
   "pygments_lexer": "ipython3",
   "version": "3.8.10"
  }
 },
 "nbformat": 4,
 "nbformat_minor": 4
}
