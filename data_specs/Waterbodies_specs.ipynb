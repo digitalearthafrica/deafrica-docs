{
 "cells": [
  {
   "cell_type": "markdown",
   "id": "599393ef-6324-441b-b2c5-4c376f714fcc",
   "metadata": {},
   "source": [
    "# Waterbodies Monitoring (historical extent and surface area time series)"
   ]
  },
  {
   "cell_type": "raw",
   "id": "ba88292a-5ae4-42ac-8280-5b26759cbd47",
   "metadata": {
    "raw_mimetype": "text/restructuredtext"
   },
   "source": [
    ".. contents::\n",
    "   :local:"
   ]
  },
  {
   "cell_type": "markdown",
   "id": "2b2bd1c9-d502-443e-b88b-ee03e48bf5e9",
   "metadata": {},
   "source": [
    "**Date modified:** October 2024"
   ]
  },
  {
   "cell_type": "markdown",
   "id": "04743507-da92-4081-8c2d-e98d19c91e87",
   "metadata": {},
   "source": [
    "This is a beta product, released for evaluation by all users. The DE Africa team is working actively to validate and improve this product."
   ]
  },
  {
   "cell_type": "markdown",
   "id": "8d315355-213a-4eed-ad49-124b2b14614b",
   "metadata": {},
   "source": [
    "## Service Overview"
   ]
  },
  {
   "cell_type": "markdown",
   "id": "62a15e96-abcc-4a11-b965-4fcb7871fc79",
   "metadata": {},
   "source": [
    "### Background\n",
    "\n",
    "The Digital Earth Africa continental Waterbodies Monitoring Service identifies more than 700,000 water bodies from over three decades of satellite observations. This service maps persistent and seasonal water bodies and the change in their water surface area over time. Mapped water bodies may include, but are not limited to, lakes, ponds, man-made reservoirs, wetlands, and segments of some river systems.\n",
    " \n",
    "On a local, regional, and continental scale, this service helps improve our understanding of surface water dynamics and water availability and can be used for monitoring water bodies such as wetlands, lakes and dams in remote and/or inaccessible locations."
   ]
  },
  {
   "cell_type": "markdown",
   "id": "4e34fd4f-1953-45c5-bdd8-2090c2e7eb37",
   "metadata": {},
   "source": [
    "### Specifications"
   ]
  },
  {
   "cell_type": "markdown",
   "id": "ac47b52d-d05c-4f42-adfe-439685a56f21",
   "metadata": {},
   "source": [
    "There are several products available as part of the Waterbodies service.\n",
    "\n",
    "A [Jupyter Notebook](https://docs.digitalearthafrica.org/en/latest/sandbox/notebooks/Datasets/Waterbodies.html) that demonstrates loading and using the Waterbodies products in the Sandbox is also available. "
   ]
  },
  {
   "cell_type": "markdown",
   "id": "706b27e6-6793-4066-ab18-52057e47e119",
   "metadata": {},
   "source": [
    "**Table 1: Waterbodies Service products** "
   ]
  },
  {
   "cell_type": "markdown",
   "id": "edd93415-74d7-4213-b59d-1325e34fc5a7",
   "metadata": {},
   "source": [
    "|Product type |Description |Data type|\n",
    "|:-------------|:-------------|:-------------|\n",
    "|Waterbodies Historical Extent |Static water body outlines. The outlines map where water was present in at least 5% of clear satellite acquisitions since 1984. |Vector - polygon |\n",
    "|Waterbodies Surface Area Change |Dynamic time series of the wet, dry, and unobserved surface area as a proportion of the historical water body extent.|CSV |"
   ]
  },
  {
   "cell_type": "markdown",
   "id": "ad948c24-34fe-4fd2-81ee-33342a0f07cf",
   "metadata": {},
   "source": [
    "**Table 2: Waterbodies Service specifications** "
   ]
  },
  {
   "cell_type": "markdown",
   "id": "4fded38c-9bc7-4921-89a6-bf3dc10397b2",
   "metadata": {},
   "source": [
    "||||\n",
    "|-------------|-------------|-------------|\n",
    "|**Service name** |DE Africa Waterbodies Service |DE Africa Waterbodies Service|\n",
    "|**Product name** |Waterbodies Historical Extent |Waterbodies Surface Area Change |\n",
    "|**Coordinate reference system** |ESPG:4326 | -- |\n",
    "|**Temporal resolution** |Single historical extent derived from the full temporal range |16 days |\n",
    "|**Temporal range** |1984 - 2022 | 1984 - present |\n",
    "|**Parent dataset** |[WOfS All-Time Summary](https://docs.digitalearthafrica.org/en/latest/data_specs/Landsat_WOfS_specs.html#WOfS-All-Time-Summary) |[WOfS Feature Layer](https://docs.digitalearthafrica.org/en/latest/data_specs/Landsat_WOfS_specs.html#WOfS-Feature-Layer) |\n",
    "|**Update frequency** |Once every 3-5 years |Weekly |"
   ]
  },
  {
   "cell_type": "markdown",
   "id": "05b2612c-82d9-4674-8e2a-1f0e9534dfe7",
   "metadata": {},
   "source": [
    "**Figure 1: DE Africa Waterbodies Service geographic extent**"
   ]
  },
  {
   "cell_type": "markdown",
   "id": "1209db01-fbe3-4b5f-9eb1-f372076436d4",
   "metadata": {},
   "source": [
    "<img src=\"../_static/data_specs/Waterbodies_specs/waterbodies_extent.png\" alt=\"Coastlines data extent.\" width=\"500\" align=\"left\"/>"
   ]
  },
  {
   "cell_type": "markdown",
   "id": "0d951dd5-520f-4151-a3a1-10a9c2a06e3b",
   "metadata": {},
   "source": [
    "DE Africa Waterbodies is a continental service that includes the historical extent of individual water bodies and a time series of the surface area of water within the water body. This service uses the [Water Observations from Space](https://docs.digitalearthafrica.org/en/latest/data_specs/Landsat_WOfS_specs.html) products and has been generated within the bounds of the [HydroSHEDS version 1.1 Land Mask](https://www.hydrosheds.org/hydrosheds-core-downloads)."
   ]
  },
  {
   "cell_type": "markdown",
   "id": "08dc0673-31d3-49ad-aaa0-6aa65858fc8e",
   "metadata": {},
   "source": [
    "#### Waterbodies Historical Extent"
   ]
  },
  {
   "cell_type": "markdown",
   "id": "c8faf09c-cd42-4bbe-ba19-60bac3c1cc9f",
   "metadata": {},
   "source": [
    "**Table 3: Waterbodies Historical Extent attribute descriptions**"
   ]
  },
  {
   "cell_type": "markdown",
   "id": "6e1f1b62-730a-4e4b-8d63-175c8ce200fb",
   "metadata": {},
   "source": [
    "| Attribute | |\n",
    "| :- | :- |\n",
    "|*uid* | A unique identifier determined from the water body's location. Each water body polygon's uid is a geohash, which represents the lat/lon coordinates of the centre of the water body polygon mapped into a shorter character string. A geohash can be converted back into a lat/lon pair. |\n",
    "|*wb_id* | An alternative identifier that assigns an integer value to every water body. Water bodies with similar `wb_id` values are located close together. |\n",
    "|*area_m2* | The area of the waterbody, measured in metres squared. |\n",
    "|*length_m* | The length of the longest side of the water body, measured in metres. |\n",
    "|*perim_m* | The perimeter of the water body, measured in metres. |\n",
    "|*geometry* | The geometry of the water body in EPSG:4326. |\n",
    "|*last_obs_date* | The date of the most recent observation for a waterbody from the Surface Area Change product  |\n",
    "|*last_valid_obs_date* | The date of the most recent valid observation for a waterbody from the Surface Area Change product |\n",
    "|*last_valid_obs* | The most recent valid wetness observation for a waterbody from the Surface Area Change product  |\n",
    "|*last_attrs_update_date* | The most recent date the `last_obs_date` , `last_valid_obs_date` and `last_valid_obs`   attributes were updated. |\n",
    "\n",
    "> **Note**: \n",
    "> - For an observation to be valid, more than 85% of the water body's historical extent must have been observed and more than 95% of the water body's historical extent must have been clearly observed in the satellite acquisition (less than 5% of the water body's historical extent should have been classified as 'invalid' in the observation). \n",
    "> - Very large waterbodies are expected to have no valid observations as they cannot be captured in a single solar day. "
   ]
  },
  {
   "cell_type": "markdown",
   "id": "11feca65-db18-4e4f-a3ba-1e433dbd222b",
   "metadata": {},
   "source": [
    "#### Waterbodies Surface Area Change"
   ]
  },
  {
   "cell_type": "markdown",
   "id": "fd9eae04-e898-458d-becf-7067f697247a",
   "metadata": {},
   "source": [
    "**Table 4: Waterbodies Surface Area Change attribute descriptions**"
   ]
  },
  {
   "cell_type": "markdown",
   "id": "36b8af9b-689e-4e35-b9d8-ecbd68c2ff95",
   "metadata": {},
   "source": [
    "| Attribute | Description |\n",
    "|-------------|-------------|\n",
    "|*date* | The date of the satellite image acquisition used to measure the wet, dry, and invalid surface area of the water body. |\n",
    "|*area_wet_m2* |The total area within the water body's historical extent that has been classified as 'wet', measured in metres squared. |\n",
    "|*percent_wet* |The percentage of water body's historical extent that has been classified as 'wet'. |\n",
    "|*area_dry_m2* | The total area within the water body's historical extent that has been classified as 'dry', measured in metres squared.|\n",
    "|*percent_dry* | The percentage of the water body's historical extent that has been classified as 'dry'. |\n",
    "|*area_invalid_m2* | The total area within the water body's historical extent that has been classified as 'invalid', measured in metres squared. |\n",
    "|*percent_invalid* | The percentage of the water body's historical extent that has been classified as 'invalid'. An area is classified as 'invalid' if it was not clearly observed in the satellite acquisition. |\n",
    "|*area_observed_m2* | The total area within the water body's historical extent that was observed by the satellite on the given date. |\n",
    "|*percent_observed* | The percentage of the water body's historical extent that was observed by the satellite on the given date. This can be less than 100 for large water bodies that cannot be captured by a single scene. |"
   ]
  },
  {
   "cell_type": "markdown",
   "id": "b8fa751d-9c1c-4054-aba1-a8e87858a48e",
   "metadata": {},
   "source": [
    "### Processing"
   ]
  },
  {
   "cell_type": "markdown",
   "id": "ead03eb3-9d4c-47b3-9e70-7f4adab48043",
   "metadata": {},
   "source": [
    "The DE Africa Waterbodies  Historical Extent product is a static polygon-based view of the DE Africa Water Observations from Space All-Time Summary product. The historical extent represents where water has appeared in at least 5% of clear observations since 1984. It is not a capture of a water body's true extent in any given year, but a record of where water has appeared since 1984.\n",
    "\n",
    "Water body historical extent polygons are defined as contiguous sets of pixels that were classified as wet in at least 5% of clear observations since 1984. To be retained, the historical extent polygons must also include a contiguous set of pixels that were classified as wet in at least 10% of clear observations since 1984. This criteria helps to select permanent and seasonal water bodies while ignoring highly-irregular flooding events.\n",
    "\n",
    "For each water body, the Surface Area Change product provides the percentage of the historical extent that was classified as wet, dry, or invalid, for each Water Observation from Space Feature Layer scene that captured the water body. These measures are also provided as the area in metres squared. The invalid category captures classifications that are neither wet nor dry (e.g. cloud, cloud shadow, or missing). Percentage measurements are only provided when Water Observation from Space Feature Layer scenes clearly capture at least 85% of the historical extent in a single day and the percentage of invalid observations is less than 10%, which is considered enough of the water body to give a reliable percentage measurement of the wet and dry coverage.\n",
    "\n",
    "The scripts used to produce the DE Africa Waterbodies Historical Extent product and the DE Africa Waterbodies Surface Area Change product are available from the [Digital Earth Africa Waterbodies GitHub repository](https://github.com/digitalearthafrica/waterbodies)."
   ]
  },
  {
   "cell_type": "markdown",
   "id": "d4bd8f41-fccf-4e8f-9259-e5463fd7056f",
   "metadata": {},
   "source": [
    "### Related services\n",
    "\n",
    "* [Water Observations from Space Feature Layer](https://docs.digitalearthafrica.org/en/latest/data_specs/Landsat_WOfS_specs.html#WOfS-Feature-Layer)\n",
    "* [Water Observations from Space All-Time Summary](https://docs.digitalearthafrica.org/en/latest/data_specs/Landsat_WOfS_specs.html#WOfS-All-Time-Summary)"
   ]
  },
  {
   "cell_type": "markdown",
   "id": "46a97f0d-d534-4a52-9552-ec6594e96478",
   "metadata": {},
   "source": [
    "### References\n",
    "Krause, Claire E.; Newey, Vanessa; Alger, Matthew J.; Lymburner, Leo. 2021. \"Mapping and Monitoring the Multi-Decadal Dynamics of Australia’s Open Waterbodies Using Landsat\" Remote Sens. 13, no. 8: 1437. https://doi.org/10.3390/rs13081437\n",
    " \n",
    "Mueller, N., Lewis, A., Roberts, D., Ring, S., Melrose, R., Sixsmith, J., Lymburner, L., McIntyre, A., Tan, P., Curnow, S., & Ip, A. (2016). Water observations from space: Mapping surface water from 25 years of Landsat imagery across Australia. Remote Sensing of Environment, 174, 341–352. https://doi.org/10.1016/j.rse.2015.11.003\n"
   ]
  },
  {
   "cell_type": "markdown",
   "id": "ffc39b96-0893-43d4-87db-065a109a4ec7",
   "metadata": {},
   "source": [
    "### License\n",
    "\n",
    "CC BY Attribution 4.0 International License."
   ]
  },
  {
   "cell_type": "markdown",
   "id": "fe43c1fd-c6ac-4301-a12b-7313189345e7",
   "metadata": {},
   "source": [
    "### Acknowledgments\n",
    "\n",
    "The DE Africa Waterbodies workflow is adapted from the workflow originally developed by Geoscience Australia. Digital Earth Africa thanks the Digital Earth Africa Product Development task team for the co-design, the co-development and early feedback on the Service."
   ]
  },
  {
   "cell_type": "markdown",
   "id": "008e899a-4cb3-4b02-95dd-cfbb4b96da52",
   "metadata": {},
   "source": [
    "## Data Access"
   ]
  },
  {
   "cell_type": "markdown",
   "id": "6c2e9554-1dd9-455d-90f8-10bd375d023c",
   "metadata": {},
   "source": [
    "### Amazon Web Service S3\n",
    "The Digital Earth Africa Waterbodies products can be accessed from the associated S3 bucket."
   ]
  },
  {
   "cell_type": "markdown",
   "id": "7ae87c67-33db-472f-b152-5a74160c2fe7",
   "metadata": {},
   "source": [
    "**Table 5: AWS data access details**"
   ]
  },
  {
   "cell_type": "markdown",
   "id": "56da188a-13ff-4d7b-9162-b57d2699e5d7",
   "metadata": {},
   "source": [
    "|AWS S3 details | |\n",
    "|----------|-------------|\n",
    "|Bucket ARN | `arn:aws:s3:::deafrica-services`|\n",
    "| Product names| `waterbodies` |\n",
    "| Region| `af-south-1` |"
   ]
  },
  {
   "cell_type": "markdown",
   "id": "99e3781a-20f1-4d0d-a262-23cba34c895f",
   "metadata": {},
   "source": [
    "Version 0.0.3 (beta) of the DE Africa Waterbodies Historical Extent product can be downloaded from the links below:\n",
    "\n",
    "* [DE Africa Waterbodies Historical Extent as a Geopackage](https://deafrica-services.s3.af-south-1.amazonaws.com/waterbodies/v0.0.3/historical_extent/waterbodies.gpkg)\n",
    "* [DE Africa Waterbodies Historical Extent as a Shapefile](https://deafrica-services.s3.af-south-1.amazonaws.com/waterbodies/v0.0.3/historical_extent/waterbodies.shp.zip)"
   ]
  },
  {
   "cell_type": "markdown",
   "id": "44ce9654-4a35-49a3-a195-00b5834baf46",
   "metadata": {},
   "source": [
    "### OGC Web Services (OWS)\n",
    "\n",
    "This product is available through DE Africa's OWS."
   ]
  },
  {
   "cell_type": "markdown",
   "id": "a1b3a428-e15a-455f-8a2e-bf9043d8d636",
   "metadata": {},
   "source": [
    "**Table 6: OWS data access details**"
   ]
  },
  {
   "cell_type": "markdown",
   "id": "b3f6d454-0c27-4277-b2c4-917cd19f658c",
   "metadata": {},
   "source": [
    "|OWS details | |\n",
    "|----------|-------------|\n",
    "|Name | `DE Africa Services` |\n",
    "|Web Map Services (WMS) URL | `https://geoserver.digitalearth.africa/geoserver/wms` |\n",
    "| Web Feature Services (WFS) URL | `https://geoserver.digitalearth.africa/geoserver/wfs`|\n",
    "| Layer names | `DEAfrica_Waterbodies` |"
   ]
  },
  {
   "cell_type": "markdown",
   "id": "21d9f7f3-be46-42f3-9e96-4648d20230c9",
   "metadata": {},
   "source": [
    "### DE Africa Sandbox\n",
    "\n",
    "The Waterbodies Service can be loaded and analysed in the DE Africa Sandbox following the [example Jupyter Notebook](https://github.com/digitalearthafrica/deafrica-sandbox-notebooks/blob/main/Datasets/Waterbodies.ipynb).\n",
    " \n",
    "For further information regarding the use of DE Africa Water Bodies Service, [visit the Digital Earth Africa Help Desk](https://helpdesk.digitalearthafrica.org/portal/en/kb/search/waterbodies)."
   ]
  },
  {
   "cell_type": "markdown",
   "id": "99d0f43d-2378-4411-afb0-2aae96290559",
   "metadata": {},
   "source": [
    "## Technical information "
   ]
  },
  {
   "cell_type": "markdown",
   "id": "80e3638d-b6c0-489e-99ef-8449fc400242",
   "metadata": {},
   "source": [
    "The DE Africa Water Bodies Service is comprised of two main products:\n",
    "\n",
    "* **Waterbodies Historical Extent**: a polygon dataset of static water body outlines. The outlines map where water was observed in at least 5% of clear satellite acquisitions between 1984 and 2002.\n",
    "* **Waterbodies Surface Area Change**: a CSV time series capturing the wet, dry, and invalid surface area and percentage coverage for each individual water body polygon for every available Water Observations from Space Feature Layer scene.  "
   ]
  },
  {
   "cell_type": "markdown",
   "id": "359c1b7e-08ca-4277-ab79-a3a6dc6ce8fa",
   "metadata": {},
   "source": [
    "### Waterbodies Historical Extent"
   ]
  },
  {
   "cell_type": "markdown",
   "id": "58195a5e-58b4-4b8d-bb53-53e197a9ee5c",
   "metadata": {},
   "source": [
    "#### Update frequency\n",
    "The DE Africa Waterbodies Historical Extent product is currently generated as a one-off product from the DE Africa Water Observations from Space All-Time Summary product.\n",
    " \n",
    "#### Inaccuracies and limitations\n",
    "\n",
    "##### Missing water bodies\n",
    "There are a few factors why a water body might be missing from this service.\n",
    "\n",
    "* **It might be too small:** the Waterbodies Historical Extent only maps water bodies larger than 4,500m2 (5 Landsat pixels).\n",
    "* **It might not be wet enough:** the Waterbodies Historical Extent only maps water bodies that have been observed as wet 10% of the time between 1984 to 2022. If a water body fills infrequently, it may not meet this threshold.\n",
    "* **The waterbody might have too much vegetation surrounding it:** the DE Africa Water Observations from Space classifier, which determines where water is observed, does not work well where water is mixed with vegetation. If there is vegetation obscuring the water (like a tree leaning across a river or a wetland), the classifier may not see this as water and the water body may not be mapped.\n",
    "* **The water in the water body does not look like water:** dense sediment-filled water is often misclassified as land.\n",
    "* **The water body might be new:** newly constructed/formed water bodies will not be included in this service as they will not have been observed as wet at least 10% of the time between 1984 to 2022.\n",
    "\n",
    "##### Missing river segments\n",
    "The DE Africa Water Observations from Space Classifier, which determines where water is observed, does not work well where water is combined with vegetation. If there is vegetation obscuring the water (like a tree leaning across a river), the classifier may not see this as water, and the water body may be truncated, even though the river continues along underneath the vegetation.\n",
    " \n",
    "Additionally, the Water Observations from Space Feature Layers product (used to produce the Waterbodies Historical Extent product) has a pixel resolution of 30 metres by 30 metres. A pixel will only be classified as water where the pixel is almost entirely made up of water. For example, in areas where rivers narrow or contain large sandbanks, the pixel will include these other signatures and not be classified as water. Both of these factors mean that some rivers are not seen as continuous features in the Waterbodies Historical Extent product.\n",
    "\n",
    "##### Incomplete water bodies extent\n",
    "Some of the Waterbodies Historical Extent polygons contain holes or are irregularly shaped. \n",
    "This is caused by the DE Africa Water Observations from Space classifier not seeing parts of the water body frequently enough; a pixel must be clearly observed at least 60 times to be included. Additionally the DE Africa Water Observations from Space classifier that determines where water is observed does not work well where water is combined with vegetation. If there is vegetation obscuring the water (like a tree leaning across a river or a wetland), the classifier may not see this as water and the resulting mapped waterbody may contain holes.\n",
    "\n",
    "##### Water bodies fused instead of being separate\n",
    "Waterbodies Historical Extent polygons are mapped using classified pixels from the Water Observations from Space Feature Layers product. If a pixel is predominantly water, it will be mapped as water. Small levees or roads between adjacent water bodies will not necessarily separate the mapped water bodies if they are not large enough to influence the total make up of their pixel. This means that some separate water bodies are mapped as a single waterbody within the Waterbodies Historical Extent.\n",
    " \n",
    "##### Mapping flooded areas\n",
    "By design, we have excluded locations where water is seen only during extreme flood events. A wetness threshold of 10% was applied to the data, meaning that only water bodies observed as wet at least 10% of the time between 1984 and 2022 have been included. This threshold was determined to be sensitive enough to capture the locations of persistent water bodies, but not so sensitive as to pick up too many false positives like flood irrigation, flood events or soggy areas in the landscape."
   ]
  },
  {
   "cell_type": "markdown",
   "id": "3da9d36b-8246-4c3e-b3fd-5d14a82a0e2d",
   "metadata": {},
   "source": [
    "### Water Bodies Surface Area Change"
   ]
  },
  {
   "cell_type": "markdown",
   "id": "1dbbb4bb-72a4-4207-92f5-7825178720a1",
   "metadata": {},
   "source": [
    "#### Update frequency\n",
    "The DE Africa Waterbodies Surface Area Change product will be updated weekly. An individual time series may not be updated with new percentage coverage measurements within the expected 16 day cadence if it was cloudy on the days the relevant data was acquired and processed. Landsat satellites do not observe all of Africa at the same time. The dates of satellite observations are dependent on the date that the satellite observed that water body.\n",
    "\n",
    "All usable observations for each water body have been included in the Surface Area Change time series for that water body. Short or missing time series can result from frequent cloud cover, misclassification, or other processing issues. If less than 85% of the total water body is observed on any one day, or more than 10% is invalid due to cloud cover or missing data, then the wet and dry percentages are not provided in the Surface Area Change time series. Cloud cover leading to invalid data can be a particular problem in coastal regions.\n",
    "\n",
    "#### Inaccuracies and limitations\n",
    "\n",
    "##### Dealing with cloud cover\n",
    "Data used within DE Africa Waterbodies Surface Area Change product is cloud masked. When a significant fraction of a water body is not observed, due to cloud cover or missing data, estimation of wet area as a percentage of total area is not reliable. Therefore, the wet and dry percentages are not provided when less than 85% of the total water body is observed on any one day.\n",
    "\n",
    "##### Spurious measurements and outliers\n",
    "\n",
    "The DE Africa Waterbodies Surface Area Change product is derived from the DE Africa Water Observations from Space product. Any innaccuracies in this product will produce spurious measurements and outliers in the Surface Area Change Time Series. \n",
    "\n",
    "Two examples are shown in Figure 2. On the left, the circled observation in 2017 has a lower wet percentage than the previous two observations. This is because part of the water body is obscured by cloud cover, which can be seen in the corresponding Landsat true-color image and WOfS classification. On the right, the circled observation in 2019 has a much lower wet percentage than the previous two observations. This is because the WOfS algorithm has incorrectly classified much of the water body as dry, rather than wet, which can be seen in the corresponding Landsat true-color image and WOfS classification.\n",
    "\n",
    "Users should undertake their own analysis to investigate and remove spurious measurements and outliers from the time series as is appropriate to their use case. For example, In Figure 2, a rolling median was calculated using the previous three observations, which produces a smoothed trend that is more robust (but not completely immune) to outliers."
   ]
  },
  {
   "cell_type": "markdown",
   "id": "46fcda32-5415-48d4-85aa-481c47b0cf22",
   "metadata": {},
   "source": [
    "**Figure 2: Spurious measurements and outliers in the Waterbodies Surface Area Change Time Series**"
   ]
  },
  {
   "cell_type": "markdown",
   "id": "7be0155c-900a-474c-8dc5-f45e6ac5d250",
   "metadata": {},
   "source": [
    "<img src=\"../_static/data_specs/Waterbodies_specs/waterbodies_spurious_and_outliers.jpg\" alt=\"Spurious measurements and outliers in the Waterbodies Surface Area Change Time Series.\" width=\"500\" align=\"left\"/>"
   ]
  },
  {
   "cell_type": "markdown",
   "id": "e86c6c4e-0739-47f6-a703-f38cfec806b2",
   "metadata": {},
   "source": [
    "##### Irregularly spaced time series\n",
    "Landsat satellites do not observe all of Africa at the same time. The dates of satellite observations are dependent on the date that a satellite observed that water body. Currently, the Water Observations from Space Feature Layers product has a temporal resolution of 16 days.\n",
    "\n",
    "##### No distinction between water sources\n",
    "This service does not differentiate between water sources, whether the water is from a natural or artificial water supply\n",
    "\n",
    "##### No measurement of water body volume\n",
    "This service does not measure the volume of water in any water body. This tool detects the wet surface area of a water body. The wet surface area does not necessarily correlate to the volume of water in a storage. For example, a water body can be observed as wet with just a shallow covering of water."
   ]
  }
 ],
 "metadata": {
  "kernelspec": {
   "display_name": "Python 3 (ipykernel)",
   "language": "python",
   "name": "python3"
  },
  "language_info": {
   "codemirror_mode": {
    "name": "ipython",
    "version": 3
   },
   "file_extension": ".py",
   "mimetype": "text/x-python",
   "name": "python",
   "nbconvert_exporter": "python",
   "pygments_lexer": "ipython3",
   "version": "3.10.12"
  },
  "widgets": {
   "application/vnd.jupyter.widget-state+json": {
    "state": {},
    "version_major": 2,
    "version_minor": 0
   }
  }
 },
 "nbformat": 4,
 "nbformat_minor": 5
}
