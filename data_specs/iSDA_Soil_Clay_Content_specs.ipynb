{
 "cells": [
  {
   "cell_type": "markdown",
   "id": "d3e362b0-dbd2-424b-93fc-d8c6940b5ae4",
   "metadata": {},
   "source": [
    "# iSDA Soil Clay Content"
   ]
  },
  {
   "cell_type": "raw",
   "id": "e0c1ae98-4f5f-45ba-977d-9c513390348b",
   "metadata": {
    "raw_mimetype": "text/restructuredtext",
    "tags": []
   },
   "source": [
    ".. contents::\n",
    "   :local:"
   ]
  },
  {
   "cell_type": "markdown",
   "id": "0a7cc6df-948d-4559-92f4-39d3f0b6aebc",
   "metadata": {},
   "source": [
    "**Date modified:** 06 September 2023"
   ]
  },
  {
   "cell_type": "markdown",
   "id": "c09eee97-0c8a-4f17-93c7-f2bccd6cd48c",
   "metadata": {},
   "source": [
    "## Product Overview"
   ]
  },
  {
   "cell_type": "markdown",
   "id": "3ca72a64-3677-4c0e-a407-fcd07f39174e",
   "metadata": {},
   "source": [
    "### Background"
   ]
  },
  {
   "cell_type": "markdown",
   "id": "c03b3437-c6a7-4081-8daf-e49ba3578639",
   "metadata": {},
   "source": [
    "[iSDA soil](https://www.isda-africa.com/isdasoil/) is an open access soils data resource for the African continent. The key data products are spatial predictions of soil nutrient concentrations and soil properties, derived from predictive soil mapping (PSM) techniques.\n",
    "\n",
    "Soil clay content is one of three (sand, silt, clay) soil texture layers. Soil texture determines many other soil attributes, such as water and nutrient holding capacity."
   ]
  },
  {
   "cell_type": "markdown",
   "id": "3d0d5edd-f9af-41c1-9c46-a2eb300cc713",
   "metadata": {},
   "source": [
    "### Specifications"
   ]
  },
  {
   "cell_type": "markdown",
   "id": "9b069fc5-59d1-41c2-9682-a99019391ab0",
   "metadata": {},
   "source": [
    "#### Spatial and temporal coverage"
   ]
  },
  {
   "cell_type": "markdown",
   "id": "a9160c67-503f-4830-a96d-1bf793a62a85",
   "metadata": {},
   "source": [
    "**Table 1: iSDA soil clay content product specifications**"
   ]
  },
  {
   "cell_type": "markdown",
   "id": "6c7c0d62-4edc-4105-b584-d39e45360653",
   "metadata": {},
   "source": [
    "|Specification | |\n",
    "|----------|-------------|\n",
    "|Product name|  `isda_soil_clay_content` | \n",
    "|Cell size - X (metres) | 30|\n",
    "|Cell size - Y (metres) | 30| \n",
    "|Coordinate reference system | EPSG:3857 | \n",
    "|Update frequency| None | "
   ]
  },
  {
   "cell_type": "markdown",
   "id": "62fdbe5b-b3af-4e6d-9866-a0393e4b66df",
   "metadata": {},
   "source": [
    "Relevant metadata for the iSDA soil bedrock depth product, as well as the specific temporal and geographic extents for the product can be explored as an interactive map on the [DE Africa Metadata Explorer](https://explorer.digitalearth.africa/products/isda_soil_clay_content). \n",
    "Data is available for the shaded region. A [Jupyter Notebook](https://docs.digitalearthafrica.org/en/latest/sandbox/notebooks/Datasets/iSDAsoil.html) which demonstrates loading and using iSDA soil products in the Sandbox is also available."
   ]
  },
  {
   "cell_type": "markdown",
   "id": "3679367b-0b1b-435d-bbba-c1848d103a53",
   "metadata": {},
   "source": [
    "**Figure 1: iSDA soil clay content total geographic extent**"
   ]
  },
  {
   "cell_type": "markdown",
   "id": "d8b8526b-1a2f-4805-971c-28cb679dca53",
   "metadata": {},
   "source": [
    "<img src=\"../_static/data_specs/iSDA_Soil_Bedrock_Depth_specs/isda_geographic_extent.png\" alt=\"iSDA Soil Geographic Extent\" width=\"300\" align=\"left\"/>"
   ]
  },
  {
   "cell_type": "markdown",
   "id": "bcf766b3-2367-4a97-8633-2612bd866623",
   "metadata": {},
   "source": [
    "#### Measurements"
   ]
  },
  {
   "cell_type": "markdown",
   "id": "c78884a5-32b8-4635-b92b-37e20e88bb2c",
   "metadata": {},
   "source": [
    "**Table 2: iSDA soil clay content total product measurements**"
   ]
  },
  {
   "cell_type": "markdown",
   "id": "4e2340d9-885c-47ce-906a-e31348a0961d",
   "metadata": {},
   "source": [
    "| Band ID | Description | Units | Data type | No data$^\\dagger$ |\n",
    "|:------------------------------|:--------------|:--------|:--------|---------:|\n",
    "| mean_0_20 | Soil clay content, mean prediction 0-20cm | percent | float32 | NaN |\n",
    "| mean_20_50 | Soil clay content, mean prediction 20-50cm | percent | float32 | NaN |\n",
    "| stdev_0_20 | Soil clay content, prediction standard deviation 0-20cm | percent | float32 | NaN |\n",
    "| stdev_20_50 | Soil clay content, prediction standard deviation 20-50cm | percent | float32 | NaN |"
   ]
  },
  {
   "cell_type": "markdown",
   "id": "2c830377-198a-40c6-a7ca-c74d9a1f0531",
   "metadata": {},
   "source": [
    "### Media and example images"
   ]
  },
  {
   "cell_type": "markdown",
   "id": "48e89e84-0cd1-454f-962c-b16530f25c55",
   "metadata": {},
   "source": [
    "**Figure 2: iSDA soil clay content (%) in the Okavango Delta, Botswana.**"
   ]
  },
  {
   "cell_type": "markdown",
   "id": "59000d3c-a17e-4561-9190-badd383ebf73",
   "metadata": {},
   "source": [
    "<img src=\"../_static/data_specs/iSDA_Soil_Clay_Content_specs/isda_soil_clay_content_plot.png\" alt=\"iSDA Soil Clay Content\" width=\"700\" align=\"left\"/>"
   ]
  },
  {
   "cell_type": "markdown",
   "id": "ba5dde8d-651e-4514-89ab-9d177965c80f",
   "metadata": {},
   "source": [
    "### Related Services\n",
    "\n",
    "* [iSDA Soil Bedrock Depth](https://docs.digitalearthafrica.org/en/latest/data_specs/iSDA_Soil_Bedrock_Depth_specs.html)\n",
    "* [iSDA Soil Bulk Density](https://docs.digitalearthafrica.org/en/latest/data_specs/iSDA_Soil_Bulk_Density_specs.html)\n",
    "* [iSDA Soil Carbon Total](https://docs.digitalearthafrica.org/en/latest/data_specs/iSDA_Soil_Carbon_Total_specs.html)\n",
    "* [iSDA Soil Sand Content](https://docs.digitalearthafrica.org/en/latest/data_specs/iSDA_Soil_Sand_Content_specs.html)\n",
    "* [iSDA Soil Silt Content](https://docs.digitalearthafrica.org/en/latest/data_specs/iSDA_Soil_Silt_Content_specs.html)"
   ]
  },
  {
   "cell_type": "markdown",
   "id": "7519d955-16f1-4f5a-908c-d8eb0964bbb0",
   "metadata": {},
   "source": [
    "### References"
   ]
  },
  {
   "cell_type": "markdown",
   "id": "ee1b71a1-222b-4ce7-9da2-aa3d83cbd1e0",
   "metadata": {
    "tags": []
   },
   "source": [
    "Miller MAE, Shepherd KD, Kisitu B, Collinson J (2021) iSDAsoil: The first continent-scale soil property map at 30 m resolution provides a soil information revolution for Africa. PLoS Biol 19(11): e3001441. https://doi.org/10.1371/journal.pbio.3001441"
   ]
  },
  {
   "cell_type": "markdown",
   "id": "da135198-725c-4ce9-8466-dbb85d1e42d6",
   "metadata": {},
   "source": [
    "### License and Acknowledgements"
   ]
  },
  {
   "cell_type": "markdown",
   "id": "481f8842-54ad-4b55-a806-5b428cf07eca",
   "metadata": {},
   "source": [
    "This data is licensed under a Creative Commons by Attribution (CC BY 4.0) license.\n",
    "\n",
    "Credits: iSDA"
   ]
  },
  {
   "cell_type": "markdown",
   "id": "1a9d1ba4-af9c-4287-8346-2df56dd88a8b",
   "metadata": {},
   "source": [
    "## Data Access"
   ]
  },
  {
   "cell_type": "markdown",
   "id": "7db5fcf4-3c18-4295-9a3d-16b1fdf9d282",
   "metadata": {},
   "source": [
    "### Amazon web services S3\n",
    "\n",
    "iSDA layers are available in [AWS S3](https://registry.opendata.aws/isdasoil/), details below. iSDA has published [documentation](https://www.isda-africa.com/isdasoil/isdasoil-on-aws/) on accessing data through AWS."
   ]
  },
  {
   "cell_type": "markdown",
   "id": "7001bc40-4a23-4227-b9d2-3a70da49c53d",
   "metadata": {},
   "source": [
    "**Table 3: iSDA soil clay content access details through AWS.**"
   ]
  },
  {
   "cell_type": "markdown",
   "id": "0e2990a4-b0a1-485f-a4fb-f6d3d22ab5bf",
   "metadata": {},
   "source": [
    "|AWS S3 details| |\n",
    "|:------------------------------|:-------------------|\n",
    "| Product  | clay_content | \n",
    "| Bucket ARD | `arn:aws:s3:::isdasoil`  | \n",
    "| Region | `us-west-2` | "
   ]
  },
  {
   "cell_type": "markdown",
   "id": "929404c6-eb18-4f7e-989a-982d1e293af4",
   "metadata": {
    "tags": []
   },
   "source": [
    "### Open Data Cube (ODC)"
   ]
  },
  {
   "cell_type": "markdown",
   "id": "fb174cbf-e68e-4498-b99d-fd5fbbdd76c8",
   "metadata": {},
   "source": [
    "The iSDA soil clay content product can be accessed through the Digital Earth Africa ODC API, which is available through the [Digital Earth Africa Sandbox](https://sandbox.digitalearth.africa/hub/login).\n",
    "\n",
    "**ODC product name:** `isda_soil_clay_content`"
   ]
  },
  {
   "cell_type": "markdown",
   "id": "97de7070-4c2e-4f52-ad07-d6d4bfa35bdb",
   "metadata": {},
   "source": [
    "The `isda_soil_clay_content` has two layers: the estimate itself and standard deviation as a measure of prediction uncertainty. They can be called by using the default name or by the band’s alternative name as listed in the table below."
   ]
  },
  {
   "cell_type": "markdown",
   "id": "cede81bd-370a-41bf-87c4-436f75019dc3",
   "metadata": {},
   "source": [
    "**Table 4: iSDA soil clay content band names.**"
   ]
  },
  {
   "cell_type": "markdown",
   "id": "0056560e-fa48-4666-89da-e7b682e1b1a5",
   "metadata": {},
   "source": [
    "|Band name| Alternative names| Fill value |\n",
    "|:------------------------------|:-------------------|---------:|\n",
    "| mean_0_20               | MEAN_0_20         |      NaN |\n",
    "| mean_20_50                | MEAN_20_50         |      NaN |\n",
    "| stdev_0_20                | STDEV_0_20         |      NaN |\n",
    "| stdev_20_50                | STDEV_20_50         |      NaN |"
   ]
  },
  {
   "cell_type": "markdown",
   "id": "6c428a8c-2a61-4b79-a01a-167a64f2ab92",
   "metadata": {},
   "source": [
    "## Technical information"
   ]
  },
  {
   "cell_type": "markdown",
   "id": "700dd66f-1d35-4ef4-9056-379d2d2b4130",
   "metadata": {},
   "source": [
    "Spatial prediction of soil properties in the iSDA product suite was undertaken with five regression modelling algorithms. The prediction process utilises field data in combination with covariates such as topographic and surface reflectance data. Further technical information on iSDA products, and links to academic papers describing the methodology, can be found on the [iSDA technical information page](https://www.isda-africa.com/isdasoil/technical-information/)."
   ]
  }
 ],
 "metadata": {
  "kernelspec": {
   "display_name": "Python 3 (ipykernel)",
   "language": "python",
   "name": "python3"
  },
  "language_info": {
   "codemirror_mode": {
    "name": "ipython",
    "version": 3
   },
   "file_extension": ".py",
   "mimetype": "text/x-python",
   "name": "python",
   "nbconvert_exporter": "python",
   "pygments_lexer": "ipython3",
   "version": "3.10.12"
  },
  "widgets": {
   "application/vnd.jupyter.widget-state+json": {
    "state": {},
    "version_major": 2,
    "version_minor": 0
   }
  }
 },
 "nbformat": 4,
 "nbformat_minor": 5
}
