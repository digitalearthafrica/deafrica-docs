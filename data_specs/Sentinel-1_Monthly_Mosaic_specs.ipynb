{
 "cells": [
  {
   "cell_type": "markdown",
   "metadata": {},
   "source": [
    "# Sentinel-1 Monthly Mosaic"
   ]
  },
  {
   "cell_type": "raw",
   "metadata": {
    "raw_mimetype": "text/restructuredtext"
   },
   "source": [
    ".. contents::\n",
    "   :local:"
   ]
  },
  {
   "cell_type": "markdown",
   "metadata": {},
   "source": [
    "**Date modified:** 13 March 2025"
   ]
  },
  {
   "cell_type": "markdown",
   "metadata": {},
   "source": [
    "## Product overview"
   ]
  },
  {
   "cell_type": "markdown",
   "metadata": {},
   "source": [
    "### Background"
   ]
  },
  {
   "cell_type": "markdown",
   "metadata": {},
   "source": [
    "Synthetic Aperture Radar (SAR) sensor have the advantage of operating at wavelengths not impeded by cloud cover and can acquire data over a site during the day or night. The Sentinel-1 mission, part of the Copernicus joint initiative by the European Commission (EC) and the European Space Agency (ESA), provides reliable and repeated wide-area monitoring using its SAR instrument.\n",
    "\n",
    "[Sentinel-1 Monthly Mosaics](https://custom-scripts.sentinel-hub.com/custom-scripts/sentinel/sentinel1-monthly-mosaic/) are analysis-ready product of individual Sentinel-1 acquisitions. Sentinel-1 monthly mosaics are generated from Radiometric Terrain Corrected (RTC) backscatter data, with variations from changing observation geometries mitigated. RTC images acquired within a calendar month are combined using a multitemporal compositing algorithm. This algorithm calculates a weighted average of valid pixels, assigning higher weights to pixels with higher local resolution (e.g., slopes facing away from the sensor). This local resolution weighting approach minimizes noise and improves spatial homogeneity in the composites.\n",
    "\n",
    "More information on how the product is generated can be found in the [Copernicus Data Space Ecosystem Documentation](https://documentation.dataspace.copernicus.eu/Data/SentinelMissions/Sentinel1.html#sentinel-1-level-3-monthly-mosaics)\n",
    "\n",
    "DE Africa provides access to Sentinel-1 monthly mosaics generated from Interferometric Wide (IW) acquisition mode. The mosaics are organized in a UTM grid with tiles measuring 100 x 100 km and have a spatial resolution of 20 meters.\n",
    "\n",
    "Monthly mosaics offer reduced noise (as shown below) and improved spatial homogeneity compared to individual Sentinel-1 scenes. Their regular monthly spacing enables easy time series analysis, either alone or combined with other datasets. Combining acquisitions from different orbit directions and look angles can reduce radar shadow impacts in mosaics. However, in steep terrain, some areas may consistently fall into radar shadow, preventing reliable backscatter measurements. These areas are marked as NaN in the mosaic. When high temporal resolution is crucial, individual Sentinel-1 scenes offer greater flexibility for analysis."
   ]
  },
  {
   "cell_type": "markdown",
   "metadata": {},
   "source": [
    "A [Jupyter Notebook](https://github.com/digitalearthafrica/deafrica-sandbox-notebooks/blob/main/Datasets/Sentinel-1_Monthly_Mosaic_specs.ipynb) which demonstrates loading and using this dataset in the Sandbox is also available."
   ]
  },
  {
   "cell_type": "markdown",
   "metadata": {},
   "source": [
    "### Specifications"
   ]
  },
  {
   "cell_type": "markdown",
   "metadata": {},
   "source": [
    "Coverage and metadata for the Sentinel-1 backscatter can be viewed on DE Africa's [Metadata Explorer](https://explorer.digitalearth.africa/products/s1_rtc).\n",
    "\n",
    "**Table 1: Sentinel-1 Monthly Mosaics  product specifications**\n",
    "\n",
    "|Specification | |\n",
    "|----------|-------------|\n",
    "|Product name| s1_monthly_mosaic | \n",
    "|Polarisation | VV + VH |\n",
    "|Number of bands | 2 |\n",
    "|Cell size - X (degree) | 0.0002 |\n",
    "|Cell size - Y (degree) | 0.0002 |\n",
    "Coordinate reference system | UTM |\n",
    "|Temporal resolution | Monthly |\n",
    "|Temporal range|  2020-01-01  &ndash; present |\n",
    "|Spatial resolution | 20m |\n",
    "\n",
    "**Table 2: Sentinel-1 Monthly Mosaics  measurements**\n",
    "\n",
    "|Band ID| Description | Data type| No data value|\n",
    "|----------|-------------|:---------:|:----------:|\n",
    "|VV | Weighted average of valid normalized VV backscatter values measured over the month | `float32` | `NaN` |\n",
    "|VH | Weighted average of valid normalized VH backscatter values measured over the month | `float32` | `NaN` |\n",
    "\n",
    "The two-letter band names indicate the polarization of the light transmitted and received by the satellite. VV refers to the satellite sending out vertically-polarised light and receiving vertically-polarised light back, whereas VH refers to the satellite sending out vertically-polarised light and receiving horizontally-polarised light back."
   ]
  },
  {
   "cell_type": "markdown",
   "metadata": {},
   "source": [
    "### Processing"
   ]
  },
  {
   "cell_type": "markdown",
   "metadata": {},
   "source": [
    "The algorithm used to derive the product was run independently at pixel level. For each pixel and each band, a weighted average of the pixel values was calculated. The weights were calculated based on the local resolution (the inverse of the imaged area) that particular pixel. The imaged area is a function of the sensor configuration (look angle and azimuth) and the local terrain aspect and slope. If the slope is facing towards the sensor, the imaged area is small and returned intensity will be high, while if it is facing away from the sensor, the the imaged area is large and the returned intensity will be low or even zero for radar shadows [Small 2012](https://ieeexplore.ieee.org/abstract/document/6350465)."
   ]
  },
  {
   "cell_type": "markdown",
   "metadata": {},
   "source": [
    "### Media and example images"
   ]
  },
  {
   "cell_type": "markdown",
   "metadata": {},
   "source": [
    "<img src=\"../_static/data_specs/Sentinel-1_Monthly_Mosaic_specs/Sentinel-1_Monthly_Mosaic_1.png\" alt=\"False color backscatter over Okavango\" width=\"800\" align=\"left\"/>"
   ]
  },
  {
   "cell_type": "markdown",
   "metadata": {},
   "source": [
    "**Figure 1: Sentinel-1 Monthly Mosaic near Cape Town, South Africa .**"
   ]
  },
  {
   "cell_type": "markdown",
   "metadata": {},
   "source": [
    "<img src=\"../_static/data_specs/Sentinel-1_Monthly_Mosaic_specs/Sentinel-1_Monthly_Mosaic_2.png\" alt=\"False color backscatter over Okavango\" width=\"800\" align=\"left\"/>"
   ]
  },
  {
   "cell_type": "markdown",
   "metadata": {},
   "source": [
    "**Figure 2: Sentinel-1 Monthly Mosaic Weija Dam, Ghana.**"
   ]
  },
  {
   "cell_type": "markdown",
   "metadata": {},
   "source": [
    "### References"
   ]
  },
  {
   "cell_type": "markdown",
   "metadata": {},
   "source": [
    "Small, D. (2012). SAR backscatter multitemporal compositing via local resolution weighting. In 2012 IEEE International Geoscience and Remote Sensing Symposium (pp. 2253–2256). IEEE. https://doi.org/10.1109/IGARSS.2012.6350465"
   ]
  },
  {
   "cell_type": "markdown",
   "metadata": {},
   "source": [
    "### License"
   ]
  },
  {
   "cell_type": "markdown",
   "metadata": {},
   "source": [
    "Access to Sentinel data is free, full and open for the broad Regional, National, European and International user community. View [Terms and Conditions](https://scihub.copernicus.eu/twiki/do/view/SciHubWebPortal/TermsConditions)."
   ]
  },
  {
   "cell_type": "markdown",
   "metadata": {},
   "source": [
    "## Data access"
   ]
  },
  {
   "cell_type": "markdown",
   "metadata": {},
   "source": [
    "### Amazon Web Services S3 "
   ]
  },
  {
   "cell_type": "markdown",
   "metadata": {},
   "source": [
    "Sentinel-1 Montly dataset is available in AWS S3, sponsored by the [Public Dataset Program](https://registry.opendata.aws/s1_monthly_mosaic/).\n",
    "\n",
    "**Table 3: AWS data access details.**\n",
    "\n",
    "|AWS S3 details | |\n",
    "|----------|-------------|\n",
    "|Bucket ARN | `arn:aws:s3:::deafrica-sentinel-1`|\n",
    "|Product name | `s1_monthly_mosaic` |"
   ]
  },
  {
   "cell_type": "markdown",
   "metadata": {},
   "source": [
    "The bucket is in the AWS region `af-south-1` (Cape Town). Additional region specifications can be applied as follows:\n",
    "\n",
    "`aws s3 ls --region=af-south-1 s3://deafrica-sentinel-1/`\n",
    "\n",
    "The file paths follow the format `<product_name>/<tile_id>/<year>/<month>/<day>/<datatake_id>/`.\n",
    "\n",
    "The filenames follow the format `<product_name>_<datatake_id>_<tile_id>_<year>_<month>_<day>_<band>.<extension>.`"
   ]
  },
  {
   "cell_type": "markdown",
   "metadata": {},
   "source": [
    "### OGC Web Services (OWS)"
   ]
  },
  {
   "cell_type": "markdown",
   "metadata": {},
   "source": [
    "This product is available through DE Africa's OWS.\n",
    "\n",
    "**Table 4: OWS data access details.**\n",
    "\n",
    "|OWS details | |\n",
    "|----------|-------------|\n",
    "|Name | `DE Africa Services` |\n",
    "|Web Map Services (WMS) URL | `https://ows.digitalearth.africa/wms?version=1.3.0` |\n",
    "| Web Coverage Service (WCS) URL | `https://ows.digitalearth.africa/wcs?version=2.1.0`|\n",
    "| Layer name | s1_monthly_mosaic |\n",
    "\n",
    "Digital Earth Africa OWS details can be found at [https://ows.digitalearth.africa/](https://ows.digitalearth.africa/).\n",
    "\n",
    "For instructions on how to connect to OWS, see [this tutorial](../web_services/index.ipynb)."
   ]
  }
 ],
 "metadata": {
  "kernelspec": {
   "display_name": "Python 3 (ipykernel)",
   "language": "python",
   "name": "python3"
  },
  "language_info": {
   "codemirror_mode": {
    "name": "ipython",
    "version": 3
   },
   "file_extension": ".py",
   "mimetype": "text/x-python",
   "name": "python",
   "nbconvert_exporter": "python",
   "pygments_lexer": "ipython3",
   "version": "3.12.3"
  }
 },
 "nbformat": 4,
 "nbformat_minor": 4
}
