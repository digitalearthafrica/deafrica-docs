{
 "cells": [
  {
   "cell_type": "markdown",
   "id": "d3e362b0-dbd2-424b-93fc-d8c6940b5ae4",
   "metadata": {},
   "source": [
    "# World Settlement Footprint"
   ]
  },
  {
   "cell_type": "raw",
   "id": "e0c1ae98-4f5f-45ba-977d-9c513390348b",
   "metadata": {
    "raw_mimetype": "text/restructuredtext",
    "tags": []
   },
   "source": [
    ".. contents::\n",
    "   :local:"
   ]
  },
  {
   "cell_type": "markdown",
   "id": "0a7cc6df-948d-4559-92f4-39d3f0b6aebc",
   "metadata": {},
   "source": [
    "**Date modified:** 11 September 2023"
   ]
  },
  {
   "cell_type": "markdown",
   "id": "c09eee97-0c8a-4f17-93c7-f2bccd6cd48c",
   "metadata": {},
   "source": [
    "## Product Overview"
   ]
  },
  {
   "cell_type": "markdown",
   "id": "3ca72a64-3677-4c0e-a407-fcd07f39174e",
   "metadata": {},
   "source": [
    "### Background"
   ]
  },
  {
   "cell_type": "markdown",
   "id": "3f8a492f-7ba6-4011-8238-3276d764621e",
   "metadata": {},
   "source": [
    "According to the UN Department of Economics and Social Affairs, 9.7 billion people will inhabit the planet by the year 2050. 55% of the world's population presently resides in urban areas, and by 2050, that number is projected to increase to 68%. Rapid and haphazard urbanization, when paired with the problems posed by climate change, can increase air pollution, make people more susceptible to catastrophes, and cause problems with the management of resources like water, raw materials, and energy (Mapping Our Human Footprint From Space, 2023).\n",
    "\n",
    "To improve the understanding of current trends in global urbanisation, ESA and the German Aerospace Center (DLR), in collaboration with the Google Earth Engine team, are jointly developing the World Settlement Footprint – the world’s most comprehensive dataset on human settlement (G.D. Team, 2023).\n",
    "\n",
    "The World Settlement Footprint 2015 is a 10m (0.32 arc sec) resolution binary mask outlining the 2015 global settlement extent derived by jointly exploiting multitemporal Sentinel-1 radar and Landsat-8 optical satellite imagery (Marconcini et al., 2020).\n",
    "\n",
    "The World Settlement Footprint 2019 features data from the Copernicus Sentinel-1 and Sentinel-2 missions and provides information on global human settlements with unprecedented detail and precision (Marconcini et al., 2021).\n",
    "\n",
    "The World Settlement Footprint 2015 and 2019 data are now indexed in the DE Africa platform.\n",
    " \n",
    "#### Product User Manual\n",
    "\n",
    "[World Settlement Footprint](https://doi.org/10.1553/giscience2021_01_s33)\n",
    "\n",
    "\n",
    "A [Jupyter Notebook](https://github.com/digitalearthafrica/deafrica-sandbox-notebooks/blob/main/Datasets/World_Settlement_Footprint.ipynb) which demonstrates loading and using the  datasets in the Sandbox is also available."
   ]
  },
  {
   "cell_type": "markdown",
   "id": "3d0d5edd-f9af-41c1-9c46-a2eb300cc713",
   "metadata": {
    "tags": []
   },
   "source": [
    "### Specifications"
   ]
  },
  {
   "cell_type": "markdown",
   "id": "9b069fc5-59d1-41c2-9682-a99019391ab0",
   "metadata": {},
   "source": [
    "#### Spatial and temporal coverage"
   ]
  },
  {
   "cell_type": "markdown",
   "id": "2f1fd227-5b30-4bcb-9609-ee82b2a89dd6",
   "metadata": {},
   "source": [
    "The specific temporal and geographic extents for the product can be explored as an interactive map on the metadata for [2015](https://explorer.digitalearth.africa/products/wsf_2015) and [2019](https://explorer.digitalearth.africa/products/wsf_2019)."
   ]
  },
  {
   "cell_type": "markdown",
   "id": "a9160c67-503f-4830-a96d-1bf793a62a85",
   "metadata": {},
   "source": [
    "**Table 1: World Settlement Footprint product specifications**"
   ]
  },
  {
   "cell_type": "markdown",
   "id": "6c7c0d62-4edc-4105-b584-d39e45360653",
   "metadata": {},
   "source": [
    "|Specification | | |\n",
    "|----------|-------------|-------------|\n",
    "|Product name|  `wsf_2015` | `wsf_2019` |\n",
    "|Cell size - X |   10m | 10m | \n",
    "|Cell size - Y |  10m | 10m | \n",
    "|Coordinate reference system | `EPSG:4326`  | `EPSG:4326` | \n",
    "|Temporal resolution | NA |  NA |\n",
    "|Temporal range| 2015 |  2019 |\n",
    "|Update frequency| NA | NA |"
   ]
  },
  {
   "cell_type": "markdown",
   "id": "62fdbe5b-b3af-4e6d-9866-a0393e4b66df",
   "metadata": {},
   "source": [
    "Data is available for the region shaded in blue."
   ]
  },
  {
   "cell_type": "markdown",
   "id": "3679367b-0b1b-435d-bbba-c1848d103a53",
   "metadata": {},
   "source": [
    "**Figure 1: World Settlement Footprint product geographic extent**"
   ]
  },
  {
   "cell_type": "markdown",
   "id": "d8b8526b-1a2f-4805-971c-28cb679dca53",
   "metadata": {},
   "source": [
    "<img src=\"../_static/data_specs/ESA_WorldCover_specs/esa_worldcover_geographic_extent.png\" alt=\"ESA WorldCover Geographic Extent\" width=\"300\" align=\"left\"/>"
   ]
  },
  {
   "cell_type": "markdown",
   "id": "bcf766b3-2367-4a97-8633-2612bd866623",
   "metadata": {},
   "source": [
    "#### Measurements"
   ]
  },
  {
   "cell_type": "markdown",
   "id": "c78884a5-32b8-4635-b92b-37e20e88bb2c",
   "metadata": {},
   "source": [
    "**Table 2: World Settlement Footprint product measurements**"
   ]
  },
  {
   "cell_type": "markdown",
   "id": "4e2340d9-885c-47ce-906a-e31348a0961d",
   "metadata": {},
   "source": [
    "| Band ID | Description | Units | Data type | No data$^\\dagger$ |\n",
    "|:------------------------------|:--------------|:--------|:--------|---------:|\n",
    "| wsf_2015 | World Settlement Footprint 2015 | 1 | uint8 | 0.0 |\n",
    "| wsf_2019 | World Settlement Footprint 2019 | 1 | uint8 | 0.0 |"
   ]
  },
  {
   "cell_type": "markdown",
   "id": "adba0ca2-fd22-4d54-8979-be0b353ecb37",
   "metadata": {},
   "source": [
    "### Processing"
   ]
  },
  {
   "cell_type": "markdown",
   "id": "6dcc1738-fa41-4584-a5dc-4ca14ccd4318",
   "metadata": {},
   "source": [
    "The **World Settlement Footprint WSF 2015 version 2** (WSF2015 v2) is a 10m resolution binary mask outlining the extent of human settlements globally for the year 2015. Specifically, the WSF2015 v2 is a pilot product generated by combining multiple datasets.The **World Settlement Footprint (WSF) 2015** derived at 10m spatial resolution by means of 2014-2015 multitemporal Landsat-8 and Sentinel-1 imagery (of which ~217K and ~107K scenes have been processed, respectively). The High Resolution Settlement Layer (HRSL) generated by the Connectivity Lab team at Facebook through the employment of 2016 DigitalGlobe VHR satellite imagery and publicly released at 30m spatial resolution for 214 countries (Marconcini et al., 2020).\n",
    "\n",
    "The **World Settlement Footprint (WSF) 2019** is a 10m resolution binary mask outlining the extent of human settlements globally derived by means of 2019 multitemporal Sentinel-1 (S1) and Sentinel-2 (S2) imagery. Based on the hypothesis that settlements generally show a more stable behavior with respect to most land-cover classes, temporal statistics are calculated for both S1- and S2-based indices. In particular, a comprehensive analysis has been performed by exploiting a number of reference building outlines to identify the most suitable set of temporal features (ultimately including 6 from S1 and 25 from S2). Training points for the settlement and non-settlement class are then generated by thresholding specific features, which varies depending on the 30 climate types of the well-established Köppen Geiger scheme. Next, binary classification based on Random Forest is applied and, finally, a dedicated post-processing is performed where ancillary datasets are employed to further reduce omission and commission errors. Here, the whole classification process has been entirely carried out within the Google Earth Engine platform. To assess the high accuracy and reliability of the WSF2019, two independent crowd-sourcing-based validation exercises have been carried out with the support of Google and Mapswipe, respectively, where overall 1M reference labels have been collected based photointerpretation of very high-resolution optical imagery (Marconcini et al., 2021)."
   ]
  },
  {
   "cell_type": "markdown",
   "id": "2c830377-198a-40c6-a7ca-c74d9a1f0531",
   "metadata": {},
   "source": [
    "### Media and example images"
   ]
  },
  {
   "cell_type": "markdown",
   "id": "48e89e84-0cd1-454f-962c-b16530f25c55",
   "metadata": {},
   "source": [
    "**Figure 2: World Settlement Footprint over Kumasi, Ghana**"
   ]
  },
  {
   "cell_type": "markdown",
   "id": "59000d3c-a17e-4561-9190-badd383ebf73",
   "metadata": {},
   "source": [
    "<img src=\"../_static/data_specs/WSF/WorldSettlementFootprint_1.png\" alt=\"wsf 2015 and 2019\" width=\"600\" align=\"left\"/>"
   ]
  },
  {
   "cell_type": "markdown",
   "id": "665e68a2-8de2-43e6-bbdb-8c6c447f433d",
   "metadata": {},
   "source": [
    "**Figure 3: World Settlement Footprint over Harare, Zimbabwe**"
   ]
  },
  {
   "cell_type": "markdown",
   "id": "c5c2592b-c78d-44bf-8739-b79a66a7e2ec",
   "metadata": {},
   "source": [
    "<img src=\"../_static/data_specs/WSF/WorldSettlementFootprint_2.png\" alt=\"wsf 2015 and 2019\" width=\"600\" align=\"left\"/>"
   ]
  },
  {
   "cell_type": "markdown",
   "id": "7519d955-16f1-4f5a-908c-d8eb0964bbb0",
   "metadata": {},
   "source": [
    "### References"
   ]
  },
  {
   "cell_type": "markdown",
   "id": "ee1b71a1-222b-4ce7-9da2-aa3d83cbd1e0",
   "metadata": {},
   "source": [
    "Mapping our human footprint from space(Accessed on 2023 August). ESA - Mapping Our Human Footprint From Space. https://www.esa.int/Applications/Observing_the_Earth/Mapping_our_human_footprint_from_space\n",
    "\n",
    "Marconcini, M., Metz-Marconcini, A., Üreyen, S. et al. Outlining where humans live, the World Settlement Footprint 2015. Sci Data 7, 242 (2020). https://doi.org/10.1038/s41597-020-00580-5\n",
    "\n",
    "Mattia Marconcini, Annekatrin Metz-Marconcini, Thomas Esch and Noel Gorelick. Understanding Current Trends in Global Urbanisation - The World Settlement Footprint Suite. GI_Forum 2021, Issue 1, 33-38 (2021) https://austriaca.at/0xc1aa5576%200x003c9b4c.pdf\n",
    "\n",
    "G.D.Team (Accessed on 2023 August). EOC Geoservice Map Contexts. EOC Geoservice Map Contexts. https://geoservice.dlr.de/web/maps"
   ]
  },
  {
   "cell_type": "markdown",
   "id": "da135198-725c-4ce9-8466-dbb85d1e42d6",
   "metadata": {},
   "source": [
    "### License and Acknowledgements"
   ]
  },
  {
   "cell_type": "markdown",
   "id": "052ebd65-218b-4c9e-b3be-0874b7164684",
   "metadata": {},
   "source": [
    "The World Settlement Footprint is provided free of charge, without restriction of use. For the full license information see the [Creative Commons Attribution 4.0 International License](https://creativecommons.org/licenses/by/4.0/)."
   ]
  },
  {
   "cell_type": "markdown",
   "id": "1a9d1ba4-af9c-4287-8346-2df56dd88a8b",
   "metadata": {},
   "source": [
    "## Data Acess"
   ]
  },
  {
   "cell_type": "markdown",
   "id": "07582425-6810-47a1-9d15-6277f05e2817",
   "metadata": {},
   "source": [
    "### Amazon Web Service"
   ]
  },
  {
   "cell_type": "markdown",
   "id": "d601693c-c60a-436b-81c4-64277a468fcf",
   "metadata": {},
   "source": [
    "The World Settlement Footprint 10m 2015 and 2019 products are avaliable in AWS S3."
   ]
  },
  {
   "cell_type": "markdown",
   "id": "c2eb0c94-00e3-49cd-b21f-9cb4cdaf5483",
   "metadata": {},
   "source": [
    "**Table 3: AWS data acess details.**"
   ]
  },
  {
   "cell_type": "markdown",
   "id": "5576cd24-ae31-4d90-a1f2-a6ad20ab16a3",
   "metadata": {},
   "source": [
    "|AWS S3 details | |\n",
    "|----------|-------------|\n",
    "|Bucket ARD | `arn:aws:s3:::wsf_{year}`|\n",
    "|Bucket | `deafrica-input-datasets` |"
   ]
  },
  {
   "cell_type": "markdown",
   "id": "e2899e73-5710-4306-9b4d-fbc887736ab2",
   "metadata": {},
   "source": [
    "The products are hosted on the `wsf_{year}` S3 bucket in the AWS `deafrica-input-datasets`. \n",
    "\n",
    "The file paths follow the format:\n",
    "`s3://deafrica-input-datasets/wsf_{year}/`"
   ]
  },
  {
   "cell_type": "markdown",
   "id": "2be1d378-0d77-4da6-bd7a-42dcbd7429fe",
   "metadata": {},
   "source": [
    "### OGC Web Services (OWS)"
   ]
  },
  {
   "cell_type": "markdown",
   "id": "1b829dc7-a1dd-4c9e-b692-8acb125b7111",
   "metadata": {},
   "source": [
    "The World Settlement Footprint 10m product `wsf_2015` and `wsf_2019` are available through the Digital Earth Africa's OWS. "
   ]
  },
  {
   "cell_type": "markdown",
   "id": "e1dbadfa-634b-4cca-8dc2-8305d3c69ff3",
   "metadata": {},
   "source": [
    "**Table 4: OWS data access details.**"
   ]
  },
  {
   "cell_type": "markdown",
   "id": "bb548dd2-75af-42ac-b4aa-372d23ef3511",
   "metadata": {},
   "source": [
    "|OWS details | |\n",
    "|----------|-------------|\n",
    "|Name | `DE Africa Services` |\n",
    "|Web Map Services (WMS) URL | `https://ows.digitalearth.africa/wms` |\n",
    "| Web Coverage Service (WCS) URL | `https://ows.digitalearth.africa/wcs`|\n",
    "| Layer name | `wsf_{year}` |"
   ]
  },
  {
   "cell_type": "markdown",
   "id": "bd8f6cf5-63d6-47bb-8099-9cba792d91ba",
   "metadata": {},
   "source": [
    "Digital Earth Africa OWS details can be found at [https://ows.digitalearth.africa/](https://ows.digitalearth.africa/).\n",
    "\n",
    "For instructions on how to connect to OWS, see [this tutorial](../web_services/index.ipynb)."
   ]
  },
  {
   "cell_type": "markdown",
   "id": "929404c6-eb18-4f7e-989a-982d1e293af4",
   "metadata": {
    "tags": []
   },
   "source": [
    "### Open Data Cube (ODC)"
   ]
  },
  {
   "cell_type": "markdown",
   "id": "fb174cbf-e68e-4498-b99d-fd5fbbdd76c8",
   "metadata": {},
   "source": [
    "The World Settlement Footprint product can be accessed through the Digital Earth Africa ODC API, which is available through the [Digital Earth Africa Sandbox](https://sandbox.digitalearth.africa/hub/login).\n",
    "\n",
    "**ODC product name:** `wsf_{year}`"
   ]
  },
  {
   "cell_type": "markdown",
   "id": "97de7070-4c2e-4f52-ad07-d6d4bfa35bdb",
   "metadata": {},
   "source": [
    "The `wsf_{year}` product has only one specific band of data which can be called by using the default name, `wsf{year}`, as listed in the table below. \n",
    "ODC `Datacube.load` commands without specified bands will load the  `wsf_{year}`  band."
   ]
  },
  {
   "cell_type": "markdown",
   "id": "dfc010e6-5f0c-4804-979c-b374c669fb85",
   "metadata": {},
   "source": [
    "**Table 5: ODC product World Settlement Footprint band names.**"
   ]
  },
  {
   "cell_type": "markdown",
   "id": "0056560e-fa48-4666-89da-e7b682e1b1a5",
   "metadata": {},
   "source": [
    "|Band name| Alternative names| Fill value |\n",
    "| :-: | :-: | :-: |\n",
    "| wsf{year}                | NaN        |      `0.0` |"
   ]
  }
 ],
 "metadata": {
  "kernelspec": {
   "display_name": "Python 3 (ipykernel)",
   "language": "python",
   "name": "python3"
  },
  "language_info": {
   "codemirror_mode": {
    "name": "ipython",
    "version": 3
   },
   "file_extension": ".py",
   "mimetype": "text/x-python",
   "name": "python",
   "nbconvert_exporter": "python",
   "pygments_lexer": "ipython3",
   "version": "3.10.12"
  }
 },
 "nbformat": 4,
 "nbformat_minor": 5
}
