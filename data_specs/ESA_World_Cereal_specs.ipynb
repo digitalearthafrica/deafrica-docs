{
 "cells": [
  {
   "cell_type": "markdown",
   "metadata": {},
   "source": [
    "# ESA - WorldCereal"
   ]
  },
  {
   "cell_type": "raw",
   "metadata": {
    "raw_mimetype": "text/restructuredtext"
   },
   "source": [
    ".. contents::\n",
    "   :local:"
   ]
  },
  {
   "cell_type": "markdown",
   "metadata": {},
   "source": [
    "**Date modified:** August 2025"
   ]
  },
  {
   "cell_type": "markdown",
   "metadata": {},
   "source": [
    "## Overview"
   ]
  },
  {
   "cell_type": "markdown",
   "metadata": {},
   "source": [
    "### Background\n",
    "\n",
    "The ESA WorldCereal project delivers a globally consistent, satellite-derived system for monitoring cropland extent, crop types, and irrigation practices. Designed for seasonal agricultural monitoring at 10 m resolution, the system uses optical and radar data from Sentinel-1 SAR and Sentinel-2 MSI, enabling frequent, cloud-resilient observations across diverse agro-ecological zones. The initiative builds on earlier prototyping efforts and now provides a fully open-source, harmonized processing system accessible via the Copernicus Data Space Ecosystem (European Space Agency [ESA], 2025).\n",
    "\n",
    "Key outputs include annual temporary cropland extent, seasonal crop type classifications (e.g., cereals and maize), irrigation status, and associated confidence layers. These products are available globally but are particularly relevant for regions with food security challenges, such as sub-Saharan Africa and South Asia. Products are mapped using agro-ecological zones to account for regional planting calendars, and the system supports the co-creation of customized models using user-supplied in-situ reference data.\n",
    "\n",
    "All maps are provided in standardized spatial grids (EPSG:4326), with versioned outputs and quality metrics validated against ground observations. The platform also includes a global reference data module, enabling the sharing, curation, and retrieval of harmonized crop ground-truth data. Ongoing improvements in model training, algorithm optimization, and atmospheric correction enhance product accuracy and usability over time.\n",
    "\n",
    "Comprehensive documentation—including technical manuals, user guides, Jupyter Notebooks, and training resources—is freely available to support researchers, decision-makers, and agricultural monitoring agencies worldwide (European Space Agency [ESA], 2025).\n",
    "\n",
    "Digital Earth Africa (DE Africa) hosts these datasets for the African region, providing free and open access to both the data and associated tools through the DE Africa Sandbox. Below are the WorldCereal available via DE Africa."
   ]
  },
  {
   "cell_type": "markdown",
   "metadata": {},
   "source": [
    "#### **Temporary Cropland Extent 2021**\n",
    "\n",
    "This dataset provides a high-resolution map of temporary cropland extent, derived from Sentinel‑1 SAR and Sentinel‑2 MSI observations. It identifies areas under active cultivation (excluding permanent crops and pastures) at 10 m resolution for 2021. The product includes binary classification layers, offering a consistent and harmonized baseline for agricultural monitoring and land use planning. Mapping is performed per agro-ecological zone (AEZ) to account for local phenology. The dataset supports food security assessments, agricultural statistics, and environmental research. For more details, general information is available [here](https://esa-worldcereal.org/en/products/global-maps), and the Product Manual provides comprehensive technical guidance.\n",
    "\n",
    "---\n",
    "\n",
    "#### **Active CropLand**\n",
    "\n",
    "This dataset represents areas under active cultivation during the main agricultural seasons in 2021. Derived from Sentinel‑1 and Sentinel‑2 time series, it provides a binary classification of cropland—highlighting parcels with vegetation growth dynamics. Designed for seasonal monitoring, the dataset helps distinguish actively farmed areas from fallow or uncultivated land. Confidence layers and agro-ecological zone–specific modeling support accurate local interpretation.\n",
    "\n",
    "----\n",
    "\n",
    "#### **Maize Cropland**\n",
    "\n",
    "This product provides seasonal classification maps of maize for 2021. Derived from Sentinel-1 and Sentinel-2 time series, the dataset captures cropping patterns at 10 m resolution across agro-ecological zones. Each map is accompanied by a confidence layer. Designed to support regional and national crop monitoring systems, the data are especially useful for early warning, market forecasting, drought risk assessment, irrigation planning, and food security analyses. For more details, general information is available [here](https://esa-worldcereal.org/en/products/global-maps), and the Product Manual provides comprehensive technical guidance.  \n",
    "\n",
    "Below is a description of the maize-related products indexed in DE Africa, clarifying their distinctions—particularly important given how many include *maize* in their names:\n",
    "\n",
    "- **Active Main Maize**\n",
    "    Represents an **active cropland map for the main maize season** defined in each region. It captures general active cropland during that season—not restricted to maize alone.\n",
    "\n",
    "- **Main Maize**  \n",
    "  Refers specifically to a **maize crop map for the main maize season** defined in a region. This product captures **maize-only cultivation**.\n",
    "\n",
    "- **Irrigated Maize**  \n",
    "  Designed to identify **all active crops cultivated under both rainfed and irrigated conditions** during the main maize season. This helps distinguish water management practices associated with maize production.  \n",
    "\n",
    "---\n",
    "\n",
    "\n",
    "### **Winter Cereal Cropland**\n",
    "\n",
    "This product provides seasonal classification maps of key crop types—specifically **winter cereals (e.g., wheat, barley, rye)** for the year 2021. Generated from Sentinel-1 and Sentinel-2 time series, the dataset captures regional cropping patterns at **10 m resolution** across agro-ecological zones. Each map is accompanied by a corresponding confidence layer. Designed to support both regional and national crop monitoring systems, the data are especially useful for early warning, market forecasting, drought risk assessment, irrigation management, and food security assessments. For more details, general information is available [here](https://esa-worldcereal.org/en/products/global-maps), and the Product Manual provides comprehensive technical guidance.  \n",
    "\n",
    "Below are the winter cereal-related products indexed in DE Africa, with their definitions:\n",
    "\n",
    "- **Winter Cereal**  \n",
    "  Refers specifically to a **winter cereal crop map for the defined winter season** in a region. This product captures cropland planted with cereals such as wheat, barley, or rye.\n",
    "- **Irrigated Winter Cereal**  \n",
    "  Designed to identify **winter cereal cropland cultivated under both rainfed and irrigated conditions** during the winter season. This layer helps distinguish water management practices associated with winter cereal production.  \n",
    "\n",
    "\n",
    "---"
   ]
  },
  {
   "cell_type": "markdown",
   "metadata": {},
   "source": [
    "### Specifications"
   ]
  },
  {
   "cell_type": "markdown",
   "metadata": {},
   "source": [
    "Relevant coverage and metadata for each of the datasets can be viewed on DE Africa [Metadata Explorer](https://explorer.digitalearth.africa/products):\n",
    "\n",
    "- [WorldCereal Temporary Cropland Extent 2021 (raster 10 m), annual – version 1](https://explorer.digitalearth.africa/products/esa_worldcereal_temporarycrops)\n",
    "- [WorldCereal Active Cropland 2021 (raster 10 m), seasonal – version 1](https://explorer.digitalearth.africa/products/esa_worldcereal_activecropland)\n",
    "- [WorldCereal Maize – Main Season 2021 (raster 10 m), seasonal – version 1](https://explorer.digitalearth.africa/products/esa_worldcereal_maize_main)\n",
    "- [WorldCereal Maize – Active Season 2021 (raster 10 m), seasonal – version 1](https://explorer.digitalearth.africa/products/esa_worldcereal_maize_active)\n",
    "- [WorldCereal Maize – Irrigation 2021 (raster 10 m), seasonal – version 1](https://explorer.digitalearth.africa/products/esa_worldcereal_maize_irrigation)\n",
    "- [WorldCereal Winter Cereals 2021 (raster 10 m), seasonal – version 1](https://explorer.digitalearth.africa/products/esa_worldcereal_wintercereals)\n",
    "- [WorldCereal Winter Cereals – Irrigation 2021 (raster 10 m), seasonal – version 1](https://explorer.digitalearth.africa/products/esa_worldcereal_wintercereals_irrigation)"
   ]
  },
  {
   "cell_type": "markdown",
   "metadata": {},
   "source": [
    "#### WorldCereal Products"
   ]
  },
  {
   "cell_type": "markdown",
   "metadata": {},
   "source": [
    "**Specifications** "
   ]
  },
  {
   "cell_type": "markdown",
   "metadata": {},
   "source": [
    "**Table 1: Temporary Cropland Products**\n",
    "\n",
    "| Specification                   | WorldCereal Temporary Cropland 2021 (10 m) v1 |\n",
    "| ------------------------------- | :-------------------------------------------: |\n",
    "| **Cell size (metres)**          |                    10 x 10                    |\n",
    "| **Coordinate Reference System** |               EPSG:4326 (WGS 84)              |\n",
    "| **Temporal resolution**         |                     Annual                    |\n",
    "| **Temporal range**              |                      2021                     |\n",
    "| **Version**                     |                       1                       |\n",
    "| **Parent dataset**              |         Sentinel-1 SAR, Sentinel-2 MSI        |\n",
    "| **Update frequency**            |                Annual composite               |\n",
    "| **Access**                      |          Free and open via DE Africa          |\n",
    "\n",
    "\n",
    "---------------------------------\n",
    "\n",
    "**Table 2:  Maize-Specific Products (2021)**\n",
    "\n",
    "| Specification                   |  Maize – Active (`maize_active`) | Maize – Main Season (`maize_main`) | \n",
    "| ------------------------------- | :------------------------------: | :--------------------------------: | \n",
    "| **Cell size (metres)**          |              10 x 10             |               10 x 10              |  \n",
    "| **Coordinate Reference System** |        EPSG:4326 (WGS 84)        |         EPSG:4326 (WGS 84)         |\n",
    "| **Temporal resolution**         |             Seasonal             |              Seasonal              | \n",
    "| **Temporal range**              |               2021               |                2021                | \n",
    "| **Version**                     |                 1                |                  1                 |\n",
    "| **Parent dataset**              |  Sentinel-1 SAR, Sentinel-2 MSI  |   Sentinel-1 SAR, Sentinel-2 MSI   | \n",
    "| **Update frequency**            | Seasonal (per cropping calendar) |  Seasonal (per cropping calendar)  |  \n",
    "| **Access**                      |    Free and open via DE Africa   |     Free and open via DE Africa    | \n",
    "\n",
    "\n",
    "| Specification                   |  Maize – Irrigation (`maize_irrigation`) |\n",
    "| ------------------------------- | :-------------------------------------:  |\n",
    "| **Cell size (metres)**          |                 10 x 10                  |\n",
    "| **Coordinate Reference System** |           EPSG:4326 (WGS 84)             |\n",
    "| **Temporal resolution**         |               Seasonal                   |\n",
    "| **Temporal range**              |                  2021                    |\n",
    "| **Version**                     |                      1                   |\n",
    "| **Parent dataset**              |      Sentinel-1 SAR, Sentinel-2 MSI      |\n",
    "| **Update frequency**            |      Seasonal (per cropping calendar)    |\n",
    "| **Access**                      |       Free and open via DE Africa        |\n",
    "--------------------------------------\n",
    "\n",
    "**Table 3: Winter Cereals Products (2021)**\n",
    "\n",
    "| Specification                   | Winter Cereals (`wintercereals`) | Winter Cereals – Irrigation (`wintercereals_irrigation`) |\n",
    "| ------------------------------- | :------------------------------: | :------------------------------------------------------: |\n",
    "| **Cell size (metres)**          |              10 x 10             |                          10 x 10                         |\n",
    "| **Coordinate Reference System** |        EPSG:4326 (WGS 84)        |                    EPSG:4326 (WGS 84)                    |\n",
    "| **Temporal resolution**         |             Seasonal             |                         Seasonal                         |\n",
    "| **Temporal range**              |               2021               |                           2021                           |\n",
    "| **Version**                     |                 1                |                             1                            |\n",
    "| **Parent dataset**              |  Sentinel-1 SAR, Sentinel-2 MSI  |              Sentinel-1 SAR, Sentinel-2 MSI              |\n",
    "| **Update frequency**            | Seasonal (winter cropping zones) |             Seasonal (winter cropping zones)             |\n",
    "| **Access**                      |    Free and open via DE Africa   |                Free and open via DE Africa               |\n"
   ]
  },
  {
   "cell_type": "markdown",
   "metadata": {},
   "source": [
    "------------------------------------\n",
    "**Measurements**\n"
   ]
  },
  {
   "cell_type": "markdown",
   "metadata": {},
   "source": [
    "**Table 4: Measurement**\n",
    "\n",
    "| Measurement                         | Temporary Cropland (`temporarycrops`) | Active Cropland (`activecropland`) | \n",
    "| ----------------------------------- | :-----------------------------------: | :--------------------------------: | \n",
    "| **Binary Classification**           |                  Yes                  |                 Yes                | \n",
    "| **Crop Type (Maize/Winter Cereal)** |                   No                  |                 No                 |\n",
    "| **Irrigation Status**               |                   No                  |                 No                 |\n",
    "| **Confidence Layer**                |                  Yes                  |                 Yes                |\n",
    "\n",
    "\n",
    "\n",
    "| Measurement                         | Maize Main (`maize_main`) | Maize Irrigation (`maize_irrigation`)| \n",
    "| ----------------------------------- |:-----------------------:  | :-----------------------------------: |\n",
    "| **Binary Classification**           |           Yes             |                  Yes                  |\n",
    "| **Crop Type (Maize/Winter Cereal)** |           Yes             |                  Yes                  |\n",
    "| **Irrigation Status**               |            No             |                  Yes                  |\n",
    "| **Confidence Layer**                |           Yes             |                  Yes                  |\n",
    "\n",
    "| Measurement                         | Winter Cereals (`wintercereals`)  | Winter Cereals Irrigation (`wintercereals_irrigation`) |\n",
    "| ----------------------------------- |  :------------------------------: | :----------------------------------------------------: |\n",
    "| **Binary Classification**           |                Yes                |                           Yes                          |\n",
    "| **Crop Type (Maize/Winter Cereal)** |                Yes                |                           Yes                          |\n",
    "| **Irrigation Status**               |                No                 |                           Yes                          |\n",
    "| **Confidence Layer**                |                Yes                |                           Yes                          |"
   ]
  },
  {
   "cell_type": "markdown",
   "metadata": {},
   "source": [
    "### Geographic Extent\n",
    "\n",
    "All products in the WorldCereal collection share the same geographic extent, as illustrated in Figure 1; data are available for the regions shaded in blue. Specific temporal and geographic extents for each product can be explored interactively using the Digital Earth Africa [Metadata Explorer](https://explorer.digitalearth.africa/products). Different WorldCereal products can be selected from the horizontal dropdown menu at the top of the page."
   ]
  },
  {
   "cell_type": "markdown",
   "metadata": {},
   "source": [
    "**Figure 1: WorldCereal geographic extent**"
   ]
  },
  {
   "cell_type": "markdown",
   "metadata": {},
   "source": [
    "<img src=\"../_static/data_specs/ESA_World_Cereal_specs/thumbnail.png\" alt=\"ESA_World_Cereal_specs data extent\" width=\"500\" align=\"left\"/>"
   ]
  },
  {
   "cell_type": "markdown",
   "metadata": {},
   "source": [
    "### Processing\n",
    "\n",
    "The complete processing methodology for these products is detailed in the [Technical Manual](https://worldcereal.github.io/worldcereal-documentation/processing/overview.html)."
   ]
  },
  {
   "cell_type": "markdown",
   "metadata": {},
   "source": [
    "### Media and example images\n",
    "\n",
    "The images below present the WorldCereals data for a farmland area in Mozambique."
   ]
  },
  {
   "cell_type": "markdown",
   "metadata": {},
   "source": [
    "**Image 1: WorldCereal Temporary Cropland**"
   ]
  },
  {
   "cell_type": "markdown",
   "metadata": {},
   "source": [
    "<img src=\"../_static/data_specs/ESA_World_Cereal_specs/temporary.png\" alt=\"Temporary Cropland Extent 2021\" width=\"550\" align=\"left\"/>"
   ]
  },
  {
   "cell_type": "markdown",
   "metadata": {},
   "source": [
    "**Image 2: WorldCereal Active Cropland**"
   ]
  },
  {
   "cell_type": "markdown",
   "metadata": {},
   "source": [
    "<img src=\"../_static/data_specs/ESA_World_Cereal_specs/active_crop.png\" alt=\"Active Cropland 2021\" width=\"550\" align=\"left\"/>"
   ]
  },
  {
   "cell_type": "markdown",
   "metadata": {},
   "source": [
    "**Image 3: WorldCereal Main-Season Maize Cropland**"
   ]
  },
  {
   "cell_type": "markdown",
   "metadata": {},
   "source": [
    "<img src=\"../_static/data_specs/ESA_World_Cereal_specs/miaze_entent.png\" alt=\"Active Cropland for Maize\" width=\"550\" align=\"left\"/>"
   ]
  },
  {
   "cell_type": "markdown",
   "metadata": {},
   "source": [
    "**Image 4:  WorldCereal Winter Cereal Cropland**"
   ]
  },
  {
   "cell_type": "markdown",
   "metadata": {},
   "source": [
    "<img src=\"../_static/data_specs/ESA_World_Cereal_specs/winter_cereal.png\" alt=\"Active Cropland for Maize\" width=\"550\" align=\"left\"/>"
   ]
  },
  {
   "cell_type": "markdown",
   "metadata": {},
   "source": [
    "### License\n",
    "\n",
    "CC BY Attribution 4.0 International License"
   ]
  },
  {
   "cell_type": "markdown",
   "metadata": {},
   "source": [
    "### Acknowledgments\n",
    "\n",
    "The ESA WorldCereal products were produced by the European Space Agency (ESA) in collaboration with VITO and project partners, and are freely provided via the Copernicus Global Land Service. Data access and regional support is enable by Digital Earth Africa."
   ]
  },
  {
   "cell_type": "markdown",
   "metadata": {},
   "source": [
    "### References\n",
    "\n",
    "European Space Agency. (2025). Introducing WorldCereal. ESA. https://www.esa.int/Applications/Observing_the_Earth/Introducing_World_Cereal"
   ]
  },
  {
   "cell_type": "markdown",
   "metadata": {},
   "source": [
    "## Data Access"
   ]
  },
  {
   "cell_type": "markdown",
   "metadata": {},
   "source": [
    "### Amazon Web Services S3"
   ]
  },
  {
   "cell_type": "markdown",
   "metadata": {},
   "source": [
    "The Digital Earth Africa WorldCereal products can be accessed from the associated S3 bucket."
   ]
  },
  {
   "cell_type": "markdown",
   "metadata": {},
   "source": [
    "**Table 5: AWS data access details**"
   ]
  },
  {
   "cell_type": "markdown",
   "metadata": {},
   "source": [
    "|AWS S3 details | |\n",
    "|----------|-------------|\n",
    "| Bucket ARN    | `arn:aws:s3:::deafrica-input-datasets`                                                                  |\n",
    "| Product names  | `esa_worldcereal_temporarycrops`, `esa_worldcereal_activecropland`, `esa_worldcereal_maize_main`, `esa_worldcereal_maize_active`, `esa_worldcereal_maize_irrigation`, `esa_worldcereal_wintercereals`, `esa_worldcereal_wintercereals_irrigation` |\n"
   ]
  },
  {
   "cell_type": "markdown",
   "metadata": {},
   "source": [
    "The bucket is located in the region `af-south-1` (Cape Town)"
   ]
  },
  {
   "cell_type": "markdown",
   "metadata": {},
   "source": [
    "**Table 9: AWS file path convention**\n",
    "\n",
    "|File path element |  Description |Example |\n",
    "|----------|-------------|-----------------|\n",
    "|`product name`| `esa_worldcereal_temporarycrops`, `esa_worldcereal_activecropland`, `esa_worldcereal_maize_main`, `esa_worldcereal_maize_active`, `esa_worldcereal_maize_irrigation`, `esa_worldcereal_wintercereals`, `esa_worldcereal_wintercereals_irrigation`| | \n",
    "|`version`| Product version | `1-0-0` |\n"
   ]
  },
  {
   "cell_type": "markdown",
   "metadata": {},
   "source": [
    "### OGC Web Services (OWS)\n",
    "\n",
    "This product is available through DE Africa's OWS.\n",
    "\n",
    "**Table 10: OWS data access details.**\n",
    "\n",
    "|OWS details | |\n",
    "|----------|-------------|\n",
    "|Name | `DE Africa Services` |\n",
    "|Web Map Services (WMS) URL | `https://ows.digitalearth.africa/wms?version=1.3.0` |\n",
    "| Web Coverage Service (WCS) URL | `https://ows.digitalearth.africa/wcs?version=2.1.0`|\n",
    "| Layer names |  `esa_worldcereal_temporarycrops`, `esa_worldcereal_activecropland`, `esa_worldcereal_maize_main`, `esa_worldcereal_maize_active`, `esa_worldcereal_maize_irrigation`, `esa_worldcereal_wintercereals`, `esa_worldcereal_wintercereals_irrigation` |\n",
    "\n",
    "Digital Earth Africa OWS details can be found at [https://ows.digitalearth.africa/](https://ows.digitalearth.africa/).\n",
    "\n",
    "For instructions on how to connect to OWS, see [this tutorial](../web_services/index.ipynb)."
   ]
  },
  {
   "cell_type": "markdown",
   "metadata": {},
   "source": [
    "### Open Data Cube (ODC)\n",
    "\n",
    "The WorldCereal collection can be accessed through the Digital Earth Africa ODC API, which is available through the [Digital Earth Africa Sandbox](https://sandbox.digitalearth.africa/hub/login).\n",
    "\n",
    "**ODC product name:**  `esa_worldcereal_temporarycrops`, `esa_worldcereal_activecropland`, `esa_worldcereal_maize_main`, `esa_worldcereal_maize_active`, `esa_worldcereal_maize_irrigation`, `esa_worldcereal_wintercereals`, `esa_worldcereal_wintercereals_irrigation`"
   ]
  }
 ],
 "metadata": {
  "kernelspec": {
   "display_name": "Python 3 (ipykernel)",
   "language": "python",
   "name": "python3"
  },
  "language_info": {
   "codemirror_mode": {
    "name": "ipython",
    "version": 3
   },
   "file_extension": ".py",
   "mimetype": "text/x-python",
   "name": "python",
   "nbconvert_exporter": "python",
   "pygments_lexer": "ipython3",
   "version": "3.12.3"
  }
 },
 "nbformat": 4,
 "nbformat_minor": 4
}
