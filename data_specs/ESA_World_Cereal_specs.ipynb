{
 "cells": [
  {
   "cell_type": "markdown",
   "metadata": {},
   "source": [
    "# ESA - WorldCereal"
   ]
  },
  {
   "cell_type": "raw",
   "metadata": {
    "raw_mimetype": "text/restructuredtext"
   },
   "source": [
    ".. contents::\n",
    "   :local:"
   ]
  },
  {
   "cell_type": "markdown",
   "metadata": {},
   "source": [
    "**Date modified:** July 2025"
   ]
  },
  {
   "cell_type": "markdown",
   "metadata": {},
   "source": [
    "## Overview"
   ]
  },
  {
   "cell_type": "markdown",
   "metadata": {},
   "source": [
    "### Background\n",
    "The ESA WorldCereal project delivers a globally consistent, satellite-derived system for monitoring cropland extent, crop types, and irrigation practices. Designed for seasonal agricultural monitoring at 10-meter resolution, the system uses optical and radar data from Sentinel-1 SAR and Sentinel-2 MSI, enabling high-frequency, cloud-resilient observations across diverse agro-ecological zones. The initiative builds on earlier prototyping efforts and now provides a fully open-source, harmonized processing system accessible via the Copernicus Data Space Ecosystem.\n",
    "\n",
    "Key outputs include annual temporary cropland extent, seasonal crop type classifications (e.g., cereals and maize), irrigation status, and associated confidence layers. These products are available globally but are particularly relevant for regions with food security challenges, such as sub-Saharan Africa and South Asia. Products are mapped using agro-ecological zones to account for regional planting calendars, and the system supports the co-creation of customized models using user-supplied in-situ reference data.\n",
    "\n",
    "All maps are provided in standardized spatial grids (EPSG:4326), with versioned outputs and quality metrics validated against ground observations. The platform also includes a global reference data module, enabling the sharing, curation, and retrieval of harmonized crop ground-truth data. Ongoing improvements in model training, algorithm optimization, and atmospheric correction enhance product accuracy and usability over time.\n",
    "\n",
    "Comprehensive documentation—including technical manuals, user guides, Jupyter Notebooks, and training resources—is freely available to support researchers, decision-makers, and agricultural monitoring agencies worldwide.\n",
    "\n",
    "Digital Earth Africa (DE Africa) hosts these datasets for the African region, providing free and open access to both the data and associated tools through the DE Africa Sandbox. Below are the WorldCereal available via DE Africa."
   ]
  },
  {
   "cell_type": "markdown",
   "metadata": {},
   "source": [
    "- **WorldCereal Temporary Cropland Extent 2021 (raster 10 m), annual – version 1**\n",
    "\n",
    "This dataset provides a high-resolution global map of temporary cropland extent, derived from Sentinel‑1 SAR and Sentinel‑2 MSI observations. It identifies areas under active cultivation (excluding permanent crops and pastures) at 10 m spatial resolution for the year 2021. The product includes both binary classification and fractional cover (0–100%) layers, offering a consistent and harmonized baseline for agricultural monitoring and land use planning. Mapping is performed per agro-ecological zone (AEZ) to account for local phenology. The dataset supports food security assessments, agricultural statistics, and environmental research. For more details, general information is available [here](https://esa-worldcereal.org/en/products/global-maps), and the Product Manual provides comprehensive technical guidance.\n",
    "\n",
    "---\n",
    "\n",
    "- **WorldCereal Seasonal Crop Type Maps 2021 (raster 10 m), seasonal – version 1**\n",
    "\n",
    "This product offers seasonal classification maps of key global crop types—specifically **cereals (e.g., wheat, barley, rye)** and **maize**—for the year 2021. Generated from Sentinel-1 and Sentinel-2 time series, the dataset captures regional cropping patterns at 10 m resolution across agro-ecological zones. Separate maps are provided for **summer and winter cropping seasons**, each accompanied by confidence layers and quality flags. Designed to support regional and national crop monitoring systems, the data are especially useful for early warning, market forecasting, and food security planning. For more details, general information is available [here](https://esa-worldcereal.org/en/products/global-maps), and the Product Manual provides comprehensive technical guidance.\n",
    "\n",
    "---\n",
    "\n",
    "- **WorldCereal Irrigation Status Map 2021 (raster 10 m), seasonal – version 1**\n",
    "\n",
    "The irrigation map provides a global classification of irrigated versus non-irrigated croplands during the main agricultural seasons of 2021. Developed using time-series metrics from Sentinel‑1 and Sentinel‑2, this 10 m resolution dataset helps assess water-use patterns and support sustainable water resource management. It also includes confidence levels to indicate classification certainty. This product is particularly useful for drought risk assessment, irrigation planning, and policy analysis in water-scarce regions. For more details, general information is available [here](https://esa-worldcereal.org/en/products/global-maps), and the Product Manual provides comprehensive technical guidance.\n",
    "\n",
    "---\n",
    "\n",
    "- **WorldCereal Reference Data Module (RDM) 2021–present – version 1**\n",
    "\n",
    "The Reference Data Module is a curated, harmonized global repository of in-situ observations of cropland and crop type data. Designed to support both training and validation of remote sensing models, the RDM allows users to **upload**, **download**, and **share** reference data under different accessibility levels (private, restricted, or public). This module is critical for customizing models to local contexts and enhancing mapping accuracy through user-contributed ground truth. For more details, access the Reference Data Platform [here](https://esa-worldcereal.org/en/reference-data), and refer to the RDM Manual for technical guidance.\n",
    "\n",
    "---\n",
    "\n",
    "- **WorldCereal Processing System 2024–present (cloud-native) – version 2**\n",
    "\n",
    "The WorldCereal processing system is a cloud-based platform for on-demand cropland and crop type mapping using Sentinel‑1 and Sentinel‑2 imagery. Available via the Copernicus Data Space Ecosystem and integrated with openEO, the system allows users to:\n",
    "\n",
    "* Apply pre-trained global models.\n",
    "* Train custom models with local reference data.\n",
    "* Generate seasonal products for user-defined areas.\n",
    "\n",
    "This second version introduces improved scalability, interactive interfaces (Jupyter & Web UI), and enhanced documentation for ease of use. It is intended for use by governments, NGOs, and researchers focused on agricultural monitoring. For more details, general information is available [here](https://esa-worldcereal.org/en/products/worldcereal-system), and the System Manual provides comprehensive technical guidance."
   ]
  },
  {
   "cell_type": "markdown",
   "metadata": {},
   "source": [
    "### Specifications"
   ]
  },
  {
   "cell_type": "markdown",
   "metadata": {},
   "source": [
    "Relevant coverage and metadata for each of the datasets can be viewed on DE Africa [Metadata Explorer](https://explorer.digitalearth.africa/products):\n",
    "\n",
    "- [Lake Water Quality 2019-2024 (raster 100 m), 10-daily – version 1](https://explorer.digitalearth.africa/products/cgls_lwq100_2019_2024)\n",
    "- [Lake Water Quality 2024 - present (raster 100 m), 10-daily – version 2](https://explorer.digitalearth.africa/products/cgls_lwq100_2024_nrt)\n",
    "- [Lake Water Quality 2002-2012 (raster 300 m), 10-daily – version 1](https://explorer.digitalearth.africa/products/cgls_lwq300_2002_2012)\n",
    "- [Lake Water Quality 2016-2024 (raster 300 m), 10-daily – version 1](https://explorer.digitalearth.africa/products/cgls_lwq300_2016_2024)\n",
    "- [Lake Water Quality 2024 - present (raster 300 m), 10-daily – version 2](https://explorer.digitalearth.africa/products/cgls_lwq300_2024_nrt)\n",
    "\n",
    "A [Jupyter Notebook](https://github.com/digitalearthafrica/deafrica-sandbox-notebooks/blob/main/Datasets/CGLM_Lake_Water_Quality.ipynb) which demonstrates loading and using loading the products in the Sandbox is also available."
   ]
  },
  {
   "cell_type": "markdown",
   "metadata": {},
   "source": [
    "#### WorldCereal Products"
   ]
  },
  {
   "cell_type": "markdown",
   "metadata": {},
   "source": [
    "**Specifications** "
   ]
  },
  {
   "cell_type": "markdown",
   "metadata": {},
   "source": [
    "**Table 1: Temporary Cropland Extent Products**\n",
    "\n",
    "| Specification                   | WorldCereal Temporary Cropland 2021 (10 m) v1 |\n",
    "| ------------------------------- | :-------------------------------------------: |\n",
    "| **Cell size (metres)**          |                    10 x 10                    |\n",
    "| **Coordinate Reference System** |               EPSG:4326 (WGS 84)              |\n",
    "| **Temporal resolution**         |                     Annual                    |\n",
    "| **Temporal range**              |                      2021                     |\n",
    "| **Version**                     |                       1                       |\n",
    "| **Parent dataset**              |         Sentinel-1 SAR, Sentinel-2 MSI        |\n",
    "| **Update frequency**            |                Annual composite               |\n",
    "| **Access**                      |          Free and open via DE Africa          |\n",
    "\n",
    "\n",
    "---------------------------------\n",
    "\n",
    "**Table 2:  Maize-Specific Products (2021)**\n",
    "\n",
    "| Specification                   |  Maize – Active (`maize_active`) | Maize – Main Season (`maize_main`) | Maize – Irrigation (`maize_irrigation`) |\n",
    "| ------------------------------- | :------------------------------: | :--------------------------------: | :-------------------------------------: |\n",
    "| **Cell size (metres)**          |              10 x 10             |               10 x 10              |                 10 x 10                 |\n",
    "| **Coordinate Reference System** |        EPSG:4326 (WGS 84)        |         EPSG:4326 (WGS 84)         |            EPSG:4326 (WGS 84)           |\n",
    "| **Temporal resolution**         |             Seasonal             |              Seasonal              |                 Seasonal                |\n",
    "| **Temporal range**              |               2021               |                2021                |                   2021                  |\n",
    "| **Version**                     |                 1                |                  1                 |                    1                    |\n",
    "| **Parent dataset**              |  Sentinel-1 SAR, Sentinel-2 MSI  |   Sentinel-1 SAR, Sentinel-2 MSI   |      Sentinel-1 SAR, Sentinel-2 MSI     |\n",
    "| **Update frequency**            | Seasonal (per cropping calendar) |  Seasonal (per cropping calendar)  |     Seasonal (per cropping calendar)    |\n",
    "| **Access**                      |    Free and open via DE Africa   |     Free and open via DE Africa    |       Free and open via DE Africa       |\n",
    "\n",
    "\n",
    "------------------------------------------------\n",
    "\n",
    "**Table 3: Winter Cereals Products (2021)**\n",
    "\n",
    "| Specification                   | Winter Cereals (`wintercereals`) | Winter Cereals – Irrigation (`wintercereals_irrigation`) |\n",
    "| ------------------------------- | :------------------------------: | :------------------------------------------------------: |\n",
    "| **Cell size (metres)**          |              10 x 10             |                          10 x 10                         |\n",
    "| **Coordinate Reference System** |        EPSG:4326 (WGS 84)        |                    EPSG:4326 (WGS 84)                    |\n",
    "| **Temporal resolution**         |             Seasonal             |                         Seasonal                         |\n",
    "| **Temporal range**              |               2021               |                           2021                           |\n",
    "| **Version**                     |                 1                |                             1                            |\n",
    "| **Parent dataset**              |  Sentinel-1 SAR, Sentinel-2 MSI  |              Sentinel-1 SAR, Sentinel-2 MSI              |\n",
    "| **Update frequency**            | Seasonal (winter cropping zones) |             Seasonal (winter cropping zones)             |\n",
    "| **Access**                      |    Free and open via DE Africa   |                Free and open via DE Africa               |\n"
   ]
  },
  {
   "cell_type": "markdown",
   "metadata": {},
   "source": [
    "------------------------------------\n",
    "**Measurements**\n"
   ]
  },
  {
   "cell_type": "markdown",
   "metadata": {},
   "source": [
    "**Table 4: Measurement**\n",
    "\n",
    "| Measurement                         | Temporary Cropland (`temporarycrops`) | Active Cropland (`activecropland`) | Maize Main (`maize_main`) | Maize Irrigation (`maize_irrigation`) | Winter Cereals (`wintercereals`) | Winter Cereals Irrigation (`wintercereals_irrigation`) |\n",
    "| ----------------------------------- | :-----------------------------------: | :--------------------------------: | :-----------------------: | :-----------------------------------: | :------------------------------: | :----------------------------------------------------: |\n",
    "| **Binary Classification**           |                  Yes                  |                 Yes                |            Yes            |                  Yes                  |                Yes               |                           Yes                          |\n",
    "| **Crop Type (Maize/Winter Cereal)** |                   No                  |                 No                 |            Yes            |                  Yes                  |                Yes               |                           Yes                          |\n",
    "| **Irrigation Status**               |                   No                  |                 No                 |             No            |                  Yes                  |                No                |                           Yes                          |\n",
    "| **Fractional Cropland Cover (%)**   |                  Yes                  |                 No                 |             No            |                   No                  |                No                |                           No                           |\n",
    "| **Confidence Layer**                |                  Yes                  |                 Yes                |            Yes            |                  Yes                  |                Yes               |                           Yes                          |\n",
    "| **Agro-Ecological Zone (AEZ) Mask** |                  Yes                  |                 Yes                |            Yes            |                  Yes                  |                Yes               |                           Yes                          |\n"
   ]
  },
  {
   "cell_type": "markdown",
   "metadata": {},
   "source": [
    "### Geographic Extent\n",
    "\n",
    "All products in the Copernicus Lake Water Quality collection share the same geographic extent, as illustrated in Figure 1; data are available for the regions shaded in blue. Specific temporal and geographic extents for each product can be explored interactively using the Digital Earth Africa [Metadata Explorer](https://explorer.digitalearth.africa/products). Different Lake Water Quality products can be selected from the horizontal dropdown menu at the top of the page."
   ]
  },
  {
   "cell_type": "markdown",
   "metadata": {},
   "source": [
    "**Figure 1: Copernicus Lake Water Quality geographic extent**"
   ]
  },
  {
   "cell_type": "markdown",
   "metadata": {},
   "source": [
    "<img src=\"../_static/data_specs/CGLM_Lake_Water_Quality_specs/cgls_extent.png\" alt=\"Lake Water Quality data extent\" width=\"500\" align=\"left\"/>"
   ]
  },
  {
   "cell_type": "markdown",
   "metadata": {},
   "source": [
    "### Processing\n",
    "\n",
    "The complete processing methodology for these products is detailed in the Technical Manual."
   ]
  },
  {
   "cell_type": "markdown",
   "metadata": {},
   "source": [
    "### Media and example images"
   ]
  },
  {
   "cell_type": "markdown",
   "metadata": {},
   "source": [
    "**Image 1: CGLS – Lake Water Quality 2016-2024 (raster 300 m) - version 1**\n",
    "\n",
    "Turbidity is a measure of water clarity. In the image below of Lake Victoria—located at the border of Uganda, Kenya, and Tanzania—red indicates areas with higher turbidity, meaning the water is less clear and more turbid, while green represents lower turbidity values, indicating clearer water."
   ]
  },
  {
   "cell_type": "markdown",
   "metadata": {},
   "source": [
    "<img src=\"../_static/data_specs/CGLM_Lake_Water_Quality_specs/cgls_lwq300_2016_2024_turbidity_mean.png\" alt=\"CGLS lwq300_2016_2024 Turbidity mean\" width=\"550\" align=\"left\"/>"
   ]
  },
  {
   "cell_type": "markdown",
   "metadata": {},
   "source": [
    "**Image 2: CGLS – Lake Water Quality 2024 - present (raster 300 m) – version 2**\n",
    "\n",
    "In the image below, colors represent the percentage values of the Trophic State Index (TSI) in the water, with red indicating higher percentages and green indicating lower percentages. Lake Victoria, shown here, is situated at the intersection of Uganda, Kenya, and Tanzania on the African continent."
   ]
  },
  {
   "cell_type": "markdown",
   "metadata": {},
   "source": [
    "<img src=\"../_static/data_specs/CGLM_Lake_Water_Quality_specs/cgls_lwq300_2024_nrt_trophic_state_index.png\" alt=\"CGLS lwq300_2024 NRT Trophic State Index\" width=\"550\" align=\"left\"/>"
   ]
  },
  {
   "cell_type": "markdown",
   "metadata": {},
   "source": [
    "### License\n",
    "\n",
    "CC BY Attribution 4.0 International License"
   ]
  },
  {
   "cell_type": "markdown",
   "metadata": {},
   "source": [
    "### Acknowledgments\n",
    "\n",
    "The Copernicus Global Land Service - Lake Water Quality products were produced by the European Commission, Joint Research Centre (JRC), and are freely provided via the Copernicus Land Monitoring Service. Data access and regional support were enabled by Digital Earth Africa."
   ]
  },
  {
   "cell_type": "markdown",
   "metadata": {},
   "source": [
    "## Data Access"
   ]
  },
  {
   "cell_type": "markdown",
   "metadata": {},
   "source": [
    "### Amazon Web Services S3"
   ]
  },
  {
   "cell_type": "markdown",
   "metadata": {},
   "source": [
    "The Digital Earth Africa Copernicus Global Land Service Lake Water Quality products can be accessed from the associated S3 bucket."
   ]
  },
  {
   "cell_type": "markdown",
   "metadata": {},
   "source": [
    "**Table 8: AWS data access details**"
   ]
  },
  {
   "cell_type": "markdown",
   "metadata": {},
   "source": [
    "|AWS S3 details | |\n",
    "|----------|-------------|\n",
    "|Bucket ARN | `arn:aws:s3:::deafrica-input-datasets`|\n",
    "| Product names| `cgls_lwq100_2019_2024`, `cgls_lwq100_2024_nrt`, `cgls_lwq300_2002_2012`, `cgls_lwq300_2016_2024`, `cgls_lwq300_2024_nrt` |"
   ]
  },
  {
   "cell_type": "markdown",
   "metadata": {},
   "source": [
    "The bucket is located in the region `af-south-1` (Cape Town)"
   ]
  },
  {
   "cell_type": "markdown",
   "metadata": {},
   "source": [
    "**Table 9: AWS file path convention**\n",
    "\n",
    "|File path element |  Description |Example |\n",
    "|----------|-------------|-----------------|\n",
    "|`product name`| `cgls_lwq100_2019_2024`, `cgls_lwq100_2024_nrt`, `cgls_lwq300_2002_2012`, `cgls_lwq300_2016_2024`, `cgls_lwq300_2024_nrt`| | \n",
    "|`version`| Product version | `1-0-0` |\n",
    "| `path` | Landsat path number ranging from `157` to `206`.|`165` | \n",
    "| `row` | Landsat row number ranging from `052` to `072`. | `052` |\n",
    "| `year` | Year the data was collected |`2019` |\n",
    "| `month`|  Month of the year the data was collected (with leading zeros)|`03`|\n",
    "|`day`| Day of the month the data was collected (with leading zeros)|`28` |"
   ]
  },
  {
   "cell_type": "markdown",
   "metadata": {},
   "source": [
    "### OGC Web Services (OWS)\n",
    "\n",
    "This product is available through DE Africa's OWS.\n",
    "\n",
    "**Table 10: OWS data access details.**\n",
    "\n",
    "|OWS details | |\n",
    "|----------|-------------|\n",
    "|Name | `DE Africa Services` |\n",
    "|Web Map Services (WMS) URL | `https://ows.digitalearth.africa/wms?version=1.3.0` |\n",
    "| Web Coverage Service (WCS) URL | `https://ows.digitalearth.africa/wcs?version=2.1.0`|\n",
    "| Layer names |  `cgls_lwq100_2019_2024`, `cgls_lwq100_2024_nrt`, `cgls_lwq300_2002_2012`, `cgls_lwq300_2016_2024`, `cgls_lwq300_2024_nrt` |\n",
    "\n",
    "Digital Earth Africa OWS details can be found at [https://ows.digitalearth.africa/](https://ows.digitalearth.africa/).\n",
    "\n",
    "For instructions on how to connect to OWS, see [this tutorial](../web_services/index.ipynb)."
   ]
  },
  {
   "cell_type": "markdown",
   "metadata": {},
   "source": [
    "### Open Data Cube (ODC)\n",
    "\n",
    "The Lake Water Quality collection can be accessed through the Digital Earth Africa ODC API, which is available through the [Digital Earth Africa Sandbox](https://sandbox.digitalearth.africa/hub/login).\n",
    "\n",
    "**ODC product name:**  `cgls_lwq100_2019_2024`, `cgls_lwq100_2024_nrt`, `cgls_lwq300_2002_2012`, `cgls_lwq300_2016_2024`, `cgls_lwq300_2024_nrt`"
   ]
  }
 ],
 "metadata": {
  "kernelspec": {
   "display_name": "Python 3 (ipykernel)",
   "language": "python",
   "name": "python3"
  },
  "language_info": {
   "codemirror_mode": {
    "name": "ipython",
    "version": 3
   },
   "file_extension": ".py",
   "mimetype": "text/x-python",
   "name": "python",
   "nbconvert_exporter": "python",
   "pygments_lexer": "ipython3",
   "version": "3.12.3"
  }
 },
 "nbformat": 4,
 "nbformat_minor": 4
}
