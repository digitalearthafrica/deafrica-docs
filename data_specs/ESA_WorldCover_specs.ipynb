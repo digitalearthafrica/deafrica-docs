{
 "cells": [
  {
   "cell_type": "markdown",
   "id": "d3e362b0-dbd2-424b-93fc-d8c6940b5ae4",
   "metadata": {},
   "source": [
    "# ESA WorldCover"
   ]
  },
  {
   "cell_type": "raw",
   "id": "e0c1ae98-4f5f-45ba-977d-9c513390348b",
   "metadata": {
    "raw_mimetype": "text/restructuredtext",
    "tags": []
   },
   "source": [
    ".. contents::\n",
    "   :local:"
   ]
  },
  {
   "cell_type": "markdown",
   "id": "0a7cc6df-948d-4559-92f4-39d3f0b6aebc",
   "metadata": {},
   "source": [
    "**Date modified:** 31 July 2022"
   ]
  },
  {
   "cell_type": "markdown",
   "id": "c09eee97-0c8a-4f17-93c7-f2bccd6cd48c",
   "metadata": {},
   "source": [
    "## Product Overview"
   ]
  },
  {
   "cell_type": "markdown",
   "id": "3ca72a64-3677-4c0e-a407-fcd07f39174e",
   "metadata": {},
   "source": [
    "### Background"
   ]
  },
  {
   "cell_type": "markdown",
   "id": "3f8a492f-7ba6-4011-8238-3276d764621e",
   "metadata": {},
   "source": [
    "The ESA WorldCover product is a freely accessible global land cover map at 10m resolution for the year 2020 and 2021, based on both Sentinel-1 and Sentinel-2 data. \n",
    "The discrete classification map provides 11 land cover/land use classes and is defined using the Land Cover Classification System (LCCS) developed by the United Nations (UN) Food and Agricultre Organization (FAO). \n",
    "\n",
    "\n",
    "Digital Earth Africa provides free and open access to a copy of the ESA WorldCover 10m for 2020 and 2021 product over Africa. For more information on the ESA WorldCover product, see the [ESA WorldCover website](https://esa-worldcover.org/). \n",
    " \n",
    "#### Product User Manual\n",
    "\n",
    "[Product User Manual for ESA WorldCover 2020](https://esa-worldcover.s3.amazonaws.com/v100/2020/docs/WorldCover_PUM_V1.0.pdf)\n",
    "\n",
    "[Product User Manual for ESA WorldCover 2021](https://worldcover2021.esa.int/data/docs/WorldCover_PVR_V2.0.pdf)\n",
    "\n",
    "A [Jupyter Notebook](https://github.com/digitalearthafrica/deafrica-sandbox-notebooks/blob/main/Datasets/Landcover_Classification.ipynb) which demonstrates loading and using landcover datasets in the Sandbox is also available."
   ]
  },
  {
   "cell_type": "markdown",
   "id": "3d0d5edd-f9af-41c1-9c46-a2eb300cc713",
   "metadata": {
    "tags": []
   },
   "source": [
    "### Specifications"
   ]
  },
  {
   "cell_type": "markdown",
   "id": "9b069fc5-59d1-41c2-9682-a99019391ab0",
   "metadata": {},
   "source": [
    "#### Spatial and temporal coverage"
   ]
  },
  {
   "cell_type": "markdown",
   "id": "2f1fd227-5b30-4bcb-9609-ee82b2a89dd6",
   "metadata": {},
   "source": [
    "Relevant metadata for the ESA WorldCover product can be viewed on the DE Africa [Metadata Explorer](https://explorer.digitalearth.africa/products/esa_worldcover)."
   ]
  },
  {
   "cell_type": "markdown",
   "id": "a9160c67-503f-4830-a96d-1bf793a62a85",
   "metadata": {},
   "source": [
    "**Table 1: ESA WorldCover product specifications**"
   ]
  },
  {
   "cell_type": "markdown",
   "id": "6c7c0d62-4edc-4105-b584-d39e45360653",
   "metadata": {},
   "source": [
    "|Specification | |\n",
    "|----------|-------------|\n",
    "|Product name|  `esa_worldcover` |\n",
    "|Cell size - X (degrees) |  0.000083° (~10m)| \n",
    "|Cell size - Y (degrees) |  0.000083° (~10m) | \n",
    "|Coordinate reference system | `EPSG:4326` | \n",
    "|Temporal resolution | Annual | \n",
    "|Temporal range| 2020 - 2021|\n",
    "|Update frequency| Annual |"
   ]
  },
  {
   "cell_type": "markdown",
   "id": "62fdbe5b-b3af-4e6d-9866-a0393e4b66df",
   "metadata": {},
   "source": [
    "The specific temporal and geographic extents for the product can be explored as an interactive map on the [Metadata Explorer](https://explorer.digitalearth.africa/products/esa_worldcover). \n",
    "Data is available for the region shaded in blue."
   ]
  },
  {
   "cell_type": "markdown",
   "id": "3679367b-0b1b-435d-bbba-c1848d103a53",
   "metadata": {},
   "source": [
    "**Figure 1: ESA WorldCover product geographic extent**"
   ]
  },
  {
   "cell_type": "markdown",
   "id": "d8b8526b-1a2f-4805-971c-28cb679dca53",
   "metadata": {},
   "source": [
    "<img src=\"../_static/data_specs/ESA_WorldCover_specs/esa_worldcover_geographic_extent.png\" alt=\"ESA WorldCover Geographic Extent\" width=\"300\" align=\"left\"/>"
   ]
  },
  {
   "cell_type": "markdown",
   "id": "bcf766b3-2367-4a97-8633-2612bd866623",
   "metadata": {},
   "source": [
    "#### Measurements"
   ]
  },
  {
   "cell_type": "markdown",
   "id": "c78884a5-32b8-4635-b92b-37e20e88bb2c",
   "metadata": {},
   "source": [
    "**Table 2: ESA WorldCover product measurements**"
   ]
  },
  {
   "cell_type": "markdown",
   "id": "4e2340d9-885c-47ce-906a-e31348a0961d",
   "metadata": {},
   "source": [
    "| Band ID | Description | Units | Data type | No data$^\\dagger$ |\n",
    "|:------------------------------|:--------------|:--------|:--------|---------:|\n",
    "| classification | Land cover classification | 1 | uint8 | 0.0 |"
   ]
  },
  {
   "cell_type": "markdown",
   "id": "adba0ca2-fd22-4d54-8979-be0b353ecb37",
   "metadata": {},
   "source": [
    "### Processing"
   ]
  },
  {
   "cell_type": "markdown",
   "id": "6dcc1738-fa41-4584-a5dc-4ca14ccd4318",
   "metadata": {},
   "source": [
    "The ESA WorldCover global land cover product was generated using both Sentinel-2 multi-spectral imagery and Sentinel-1 C-band Synthetic Aperture Radar (SAR) imagery. The algorithm used to generate the product is based on the algorithm used to produce the dynamic annual Copernicus Global Land Service Land Cover map at 100m resolution (CGLS_LC100m). A summary of the algorithm is presented in the [Product User Manual](https://esa-worldcover.s3.amazonaws.com/v100/2020/docs/WorldCover_PUM_V1.0.pdf) for 2020 and [Product User Manual](https://worldcover2021.esa.int/data/docs/WorldCover_PVR_V2.0.pdf) for 2021."
   ]
  },
  {
   "cell_type": "markdown",
   "id": "2c830377-198a-40c6-a7ca-c74d9a1f0531",
   "metadata": {},
   "source": [
    "### Media and example images"
   ]
  },
  {
   "cell_type": "markdown",
   "id": "48e89e84-0cd1-454f-962c-b16530f25c55",
   "metadata": {},
   "source": [
    "**Figure 2: ESA WorldCover 2020 land cover classification data for Madagascar**"
   ]
  },
  {
   "cell_type": "markdown",
   "id": "59000d3c-a17e-4561-9190-badd383ebf73",
   "metadata": {},
   "source": [
    "<img src=\"../_static/data_specs/ESA_WorldCover_specs/esa-worldcover-madagascar-2020.png\" alt=\"ESA Worldcover Madagascar 2020\" width=\"600\" align=\"left\"/>"
   ]
  },
  {
   "cell_type": "markdown",
   "id": "665e68a2-8de2-43e6-bbdb-8c6c447f433d",
   "metadata": {},
   "source": [
    "**Figure 3: ESA WorldCover 2021 land cover classification data for Madagascar**"
   ]
  },
  {
   "cell_type": "markdown",
   "id": "c5c2592b-c78d-44bf-8739-b79a66a7e2ec",
   "metadata": {},
   "source": [
    "<img src=\"../_static/data_specs/ESA_WorldCover_specs/esa-worldcover-madagascar-2021.png\" alt=\"ESA Worldcover Madagascar 2021\" width=\"600\" align=\"left\"/>"
   ]
  },
  {
   "cell_type": "markdown",
   "id": "ffada0a7-68ca-460b-92b2-97d0e7ffbc73",
   "metadata": {},
   "source": [
    "© ESA WorldCover project 2021 / Contains modified Copernicus Sentinel data (2021) processed by ESA WorldCover consortium"
   ]
  },
  {
   "cell_type": "markdown",
   "id": "7519d955-16f1-4f5a-908c-d8eb0964bbb0",
   "metadata": {},
   "source": [
    "### References"
   ]
  },
  {
   "cell_type": "markdown",
   "id": "ee1b71a1-222b-4ce7-9da2-aa3d83cbd1e0",
   "metadata": {},
   "source": [
    "Zanaga, D., Van De Kerchove, R., De Keersmaecker, W., Souverijns, N., Brockmann, C., Quast, R., Wevers, J., Grosu, A., Paccini, A., Vergnaud, S., Cartus, O., Santoro, M., Fritz, S., Georgieva, I., Lesiv, M., Carter, S., Herold, M., Li, Linlin, Tsendbazar, N.E., Ramoino, F., Arino, O., 2021. ESA WorldCover 10 m 2020 v100. https://doi.org/10.5281/zenodo.5571936 \n",
    "\n",
    "\n",
    "Zanaga, D., Van De Kerchove, R.,Daems, D.,De Keersmaecker, W., Brockmann, C., Kirches, G., Wevers, J., Cartus, O., Santoro, M., Fritz, S., Lesiv, M., Herold, M., Tsendbazar, N.E., Xu, P., Ramoino, F., Arino, O. ESA WorldCover 10 m 2021 v200 https://zenodo.org/record/7254221"
   ]
  },
  {
   "cell_type": "markdown",
   "id": "da135198-725c-4ce9-8466-dbb85d1e42d6",
   "metadata": {},
   "source": [
    "### License and Acknowledgements"
   ]
  },
  {
   "cell_type": "markdown",
   "id": "052ebd65-218b-4c9e-b3be-0874b7164684",
   "metadata": {},
   "source": [
    "The ESA WorldCover product is provided free of charge, without restriction of use. For the full license information see the [Creative Commons Attribution 4.0 International License](https://creativecommons.org/licenses/by/4.0/)."
   ]
  },
  {
   "cell_type": "markdown",
   "id": "1a9d1ba4-af9c-4287-8346-2df56dd88a8b",
   "metadata": {},
   "source": [
    "## Data Acess"
   ]
  },
  {
   "cell_type": "markdown",
   "id": "07582425-6810-47a1-9d15-6277f05e2817",
   "metadata": {},
   "source": [
    "### Amazon Web Service"
   ]
  },
  {
   "cell_type": "markdown",
   "id": "d601693c-c60a-436b-81c4-64277a468fcf",
   "metadata": {},
   "source": [
    "The ESA WorldCover 10m 2020-2021 products are avaliable in AWS S3."
   ]
  },
  {
   "cell_type": "markdown",
   "id": "c2eb0c94-00e3-49cd-b21f-9cb4cdaf5483",
   "metadata": {},
   "source": [
    "**Table 3: AWS data acess details.**"
   ]
  },
  {
   "cell_type": "markdown",
   "id": "5576cd24-ae31-4d90-a1f2-a6ad20ab16a3",
   "metadata": {},
   "source": [
    "|AWS S3 details | |\n",
    "|----------|-------------|\n",
    "|Bucket ARD | `arn:aws:s3:::esa-worldcover`|\n",
    "|Region | `eu-central-1` |"
   ]
  },
  {
   "cell_type": "markdown",
   "id": "e2899e73-5710-4306-9b4d-fbc887736ab2",
   "metadata": {},
   "source": [
    "The products are hosted on the `esa-worldcover` S3 bucket in the AWS `eu-central-1` region. \n",
    "\n",
    "The file paths follow the format:\n",
    "`https://esa-worldcover.s3.eu-central-1.amazonaws.com/v100/{year}/map/`"
   ]
  },
  {
   "cell_type": "markdown",
   "id": "2be1d378-0d77-4da6-bd7a-42dcbd7429fe",
   "metadata": {},
   "source": [
    "### OGC Web Services (OWS)"
   ]
  },
  {
   "cell_type": "markdown",
   "id": "1b829dc7-a1dd-4c9e-b692-8acb125b7111",
   "metadata": {},
   "source": [
    "The ESA WorldCover 10m product `esa_worldcover` is available through the Digital Earth Africa's OWS. "
   ]
  },
  {
   "cell_type": "markdown",
   "id": "e1dbadfa-634b-4cca-8dc2-8305d3c69ff3",
   "metadata": {},
   "source": [
    "**Table 4: OWS data access details.**"
   ]
  },
  {
   "cell_type": "markdown",
   "id": "bb548dd2-75af-42ac-b4aa-372d23ef3511",
   "metadata": {},
   "source": [
    "|OWS details | |\n",
    "|----------|-------------|\n",
    "|Name | `DE Africa Services` |\n",
    "|Web Map Services (WMS) URL | `https://ows.digitalearth.africa/wms?version=1.3.0` |\n",
    "| Web Coverage Service (WCS) URL | `https://ows.digitalearth.africa/wcs?version=2.1.0`|\n",
    "| Layer name | `esa_worldcover_{year}` |"
   ]
  },
  {
   "cell_type": "markdown",
   "id": "bd8f6cf5-63d6-47bb-8099-9cba792d91ba",
   "metadata": {},
   "source": [
    "Digital Earth Africa OWS details can be found at [https://ows.digitalearth.africa/](https://ows.digitalearth.africa/).\n",
    "\n",
    "For instructions on how to connect to OWS, see [this tutorial](../web_services/index.ipynb)."
   ]
  },
  {
   "cell_type": "markdown",
   "id": "929404c6-eb18-4f7e-989a-982d1e293af4",
   "metadata": {
    "tags": []
   },
   "source": [
    "### Open Data Cube (ODC)"
   ]
  },
  {
   "cell_type": "markdown",
   "id": "fb174cbf-e68e-4498-b99d-fd5fbbdd76c8",
   "metadata": {},
   "source": [
    "The ESA WorldCover product can be accessed through the Digital Earth Africa ODC API, which is available through the [Digital Earth Africa Sandbox](https://sandbox.digitalearth.africa/hub/login).\n",
    "\n",
    "**ODC product name:** `esa_worldcover_{year}`"
   ]
  },
  {
   "cell_type": "markdown",
   "id": "97de7070-4c2e-4f52-ad07-d6d4bfa35bdb",
   "metadata": {},
   "source": [
    "The `esa_worldcover` product has only one specific band of data which can be called by using the default name, `classification`, as listed in the table below. \n",
    "ODC `Datacube.load` commands without specified bands will load the  `classification`  band."
   ]
  },
  {
   "cell_type": "markdown",
   "id": "dfc010e6-5f0c-4804-979c-b374c669fb85",
   "metadata": {},
   "source": [
    "**Table 5: ODC product esa_worldcover band names.**"
   ]
  },
  {
   "cell_type": "markdown",
   "id": "0056560e-fa48-4666-89da-e7b682e1b1a5",
   "metadata": {},
   "source": [
    "|Band name| Alternative names| Fill value |\n",
    "| :-: | :-: | :-: |\n",
    "| classification                | NaN        |      `0.0` |"
   ]
  },
  {
   "cell_type": "markdown",
   "id": "6c428a8c-2a61-4b79-a01a-167a64f2ab92",
   "metadata": {},
   "source": [
    "## Technical information"
   ]
  },
  {
   "cell_type": "markdown",
   "id": "0bde237d-35a3-4718-a3b4-50d6b394e01f",
   "metadata": {},
   "source": [
    "The ESA WorldCover product was independently validated with accuracies shown below:\n",
    "\n",
    "|Product name| Global | Africa  |\n",
    "| :-: | :-: | :-: |\n",
    "| ESA WorldCover 2020               | `74.4% ±0.1%`       |      `73.6% ±0.2%`|\n",
    "| ESA WorldCover 2021               | `76.7% ±0.5`        |      `76.5% ±1.3` |\n",
    "\n",
    "\n",
    "In terms of land cover types, tree cover and snow/ice, cropland, water body, and bare/sparse vegetation classes had high accuracies, while shrubs, herbaceous wetland, and moss/lichen classes\n",
    "were mapped with lower accuracies.  The validation dataset used was the multi-purpose Global Land Cover Validation dataset developed for Copernicus Global Land Service- Land Cover 100 product which was updated for the\n",
    "reference year 2020 by revisiting random and targeted (for land cover change) subsets.\n",
    "\n",
    "Overall, the WorldCover 2021 v200 product shows promising improvements in characterizing the\n",
    "World’s land cover at 10 m resolution making use of Sentinel 1 and Sentinel 2 data for the year 2021.\n",
    "Users of the map are encouraged to make use of the statistical accuracy analysis at the global and\n",
    "continental level to best apply the WorldCover product for their purposes. \n",
    "\n",
    "A detailed explanation of the validation results of the ESA WorldCover 10m product is presented in the:\n",
    "\n",
    "[Product Validation Report 2022](https://esa-worldcover.s3.amazonaws.com/v100/2020/docs/WorldCover_PVR_V1.1.pdf)\n",
    "\n",
    "[Product Validation Report 2021](https://worldcover2021.esa.int/data/docs/WorldCover_PVR_V2.0.pdf)"
   ]
  }
 ],
 "metadata": {
  "kernelspec": {
   "display_name": "Python 3 (ipykernel)",
   "language": "python",
   "name": "python3"
  },
  "language_info": {
   "codemirror_mode": {
    "name": "ipython",
    "version": 3
   },
   "file_extension": ".py",
   "mimetype": "text/x-python",
   "name": "python",
   "nbconvert_exporter": "python",
   "pygments_lexer": "ipython3",
   "version": "3.10.6"
  }
 },
 "nbformat": 4,
 "nbformat_minor": 5
}
