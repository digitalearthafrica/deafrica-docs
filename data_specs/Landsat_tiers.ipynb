{
 "cells": [
  {
   "cell_type": "markdown",
   "id": "97ca5bbb-e0f1-4bae-8d10-b483cbe7124a",
   "metadata": {},
   "source": [
    "# Landsat Collection 2 tiers"
   ]
  },
  {
   "cell_type": "raw",
   "id": "f413bd8a-7dfb-4213-b538-ce235a8d7a3b",
   "metadata": {
    "raw_mimetype": "text/restructuredtext"
   },
   "source": [
    ".. contents::\n",
    "   :local:"
   ]
  },
  {
   "cell_type": "markdown",
   "id": "0141c173-ceea-41e3-96f5-2aa672c302bb",
   "metadata": {},
   "source": [
    "**Date modified:** 22 December 2021"
   ]
  },
  {
   "cell_type": "markdown",
   "id": "62baaa11-7405-40ba-9de3-9495b0119d09",
   "metadata": {},
   "source": [
    "The Landsat Collection 2 tiers are the inventory structure used to categorise data products based on the data quality and level of processing. \n",
    "The purpose of the tiers is to support easier identification of suitable scenes for time-series pixel-level analysis and data stacking. "
   ]
  },
  {
   "cell_type": "markdown",
   "id": "ebba4b05-6b18-4a39-a265-323ec923310f",
   "metadata": {},
   "source": [
    "## Background\n",
    "\n",
    "The Landsat Collection 2 scenes are evaluated and categorised into 3 tiers:\n",
    "\n",
    "* Real time - not supported by DE Africa\n",
    "> This tier contains newly acquired imagery as all the scenes go here immediately after acquisition. \n",
    "After the final calibration, the scenes are transitioned to either Tier 1 or Tier 2 and removed from the Real-Time Tier. \n",
    "The radial Root Mean Square Error (RMSE) threshold of 12 meters for the georegestration image-to-image tolerances is used to determine whether the data goes into Tier 1 or Tier 2. \n",
    "Landsat 8 scenes are placed into the final tier within 14 to 16 days after acquisition while Landsat 7 scenes are placed within 26 days after acquisition.\n",
    "\n",
    "* Tier 1 - DE Africa Sandbox Analysis-Ready Data default\n",
    "> Landsat scenes whose RMSE is less than or equal to 12 metres are categorized into Tier 1.\n",
    "This tier contains Landsat scenes with the highest available radiometric and positional data quality and are **considered suitable for time-series analysis**.  \n",
    "\n",
    "* Tier 2 - Can be accessed through DE Africa Sandbox\n",
    "> Landsat scenes whose RMSE is greater than 12 metres are categorized into Tier 2.\n",
    "This tier contains all the scenes that fail to meet the Tier 1 criteria during processing.\n",
    "This failure to meet the RMSE 12 meter threshold could be due to less accurate orbital information (specific to older Landsat sensors), significant cloud cover which affects the radiometric calibration and  insufficient ground control points within the scenes."
   ]
  },
  {
   "cell_type": "markdown",
   "id": "38fc5703-958e-48df-9322-6a3f4b355463",
   "metadata": {},
   "source": [
    "## Landsat data tiers in Digital Earth Africa"
   ]
  },
  {
   "cell_type": "markdown",
   "id": "df497b8c-6398-4161-93ec-17e61e58b42c",
   "metadata": {},
   "source": [
    "Digital Earth Africa (DE Africa) provides free and open access to Landsat Collection 2 Level-2 products over Africa. The Landsat archive is produced and provided by the United States Geological Survey (USGS). \n",
    "\n",
    "Digital Earth Africa Landsat Collection 2 Level-2 includes:\n",
    "* [Surface Reflectance](./Landsat_C2_SR_specs.ipynb)\n",
    "* [Surface Temperature](./Landsat_C2_ST_specs.ipynb)"
   ]
  },
  {
   "cell_type": "markdown",
   "id": "4f003596-6014-43dc-8f55-2592737bc07d",
   "metadata": {},
   "source": [
    "### Tiers in the Digital Earth Africa Map\n",
    "\n",
    "[Access the Digital Earth Africa Map](https://maps.digitalearth.africa/)\n",
    "\n",
    "All available (Tier 1 and Tier 2) data is displayed when selecting Landsat daily surface reflectance or Landsat daily surface temperature.\n"
   ]
  },
  {
   "cell_type": "markdown",
   "id": "d4d69b8f-5a7d-4090-8029-244a9dd4363f",
   "metadata": {},
   "source": [
    "### Tiers in the Digital Earth Africa Sandbox\n",
    "\n",
    "[Access the Digital Earth Africa Sandbox](https://sandbox.digitalearth.africa/)\n",
    "\n",
    "Loading Landsat Analysis-Ready Data using the `load_ard` function loads **only Tier 1 data**. Tier 1 data is optimised for time-series analysis.\n",
    "\n",
    "Tier 2 data can be accessed using the `datacube.Datacube.load` function. By default, `datacube.Datacube.load` loads all available (Tier 1 and Tier 2) data. The tier can be specified using the optional argument `collection_category`, which takes strings`'T1`' or `'T2'` .\n",
    "\n",
    "```\n",
    "ds = dc.load(product=\"ls8_sr\",\n",
    "             x=(24.65, 24.75),\n",
    "             y=(-20.05, -20.15),\n",
    "             time=(\"2018-01-01\", \"2018-03-31\"),\n",
    "             measurements=['blue', 'green', 'red'],\n",
    "             output_crs='EPSG:6933',\n",
    "             resolution=(-30,30),\n",
    "             collection_category=\"T2\"\n",
    "             )\n",
    "```"
   ]
  },
  {
   "cell_type": "markdown",
   "id": "06f29a98-d414-4de3-a93f-5019184c0592",
   "metadata": {},
   "source": [
    "*An example of loading only Tier 2 data using* `datacube.Datacube.load` with the argument `collection_category=\"T2\"`."
   ]
  },
  {
   "cell_type": "markdown",
   "id": "439788d4-74b9-412e-bd0e-64c116cdf471",
   "metadata": {},
   "source": [
    "## References\n",
    "[USGS Landsat Collections - What are Tiers website](https://www.usgs.gov/media/videos/landsat-collections-what-are-tiers)\n",
    "\n",
    "[USGS Landsat Collection 2 website](https://www.usgs.gov/landsat-missions/landsat-collection-2)\n",
    "\n",
    "[Yale Center for Earth Observation Landsat Collection website](https://yceo.yale.edu/landsat-collections)\n",
    "\n",
    "[datacube.Datacube.load documentation](https://datacube-core.readthedocs.io/en/datacube-1.2.2/dev/generate/datacube.Datacube.load.html)"
   ]
  }
 ],
 "metadata": {
  "kernelspec": {
   "display_name": "Python 3 (ipykernel)",
   "language": "python",
   "name": "python3"
  },
  "language_info": {
   "codemirror_mode": {
    "name": "ipython",
    "version": 3
   },
   "file_extension": ".py",
   "mimetype": "text/x-python",
   "name": "python",
   "nbconvert_exporter": "python",
   "pygments_lexer": "ipython3",
   "version": "3.8.10"
  }
 },
 "nbformat": 4,
 "nbformat_minor": 5
}
