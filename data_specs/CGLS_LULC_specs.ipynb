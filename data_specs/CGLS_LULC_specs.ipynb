{
 "cells": [
  {
   "cell_type": "markdown",
   "id": "8127a8d5-2197-4a5a-b548-c0fd0d375aa3",
   "metadata": {},
   "source": [
    "#  Copernicus Global Land Service Global Land Cover at 100m spatial resolution\n"
   ]
  },
  {
   "cell_type": "raw",
   "id": "463f1762-952b-4c52-922b-b3dd2b850c61",
   "metadata": {
    "raw_mimetype": "text/restructuredtext",
    "tags": []
   },
   "source": [
    ".. contents::\n",
    "   :local:"
   ]
  },
  {
   "cell_type": "markdown",
   "id": "1aab76f8-b484-488a-97cf-0369f177a926",
   "metadata": {},
   "source": [
    "**Date modified:** 25 January 2021 "
   ]
  },
  {
   "cell_type": "markdown",
   "id": "cdf7b20e-aac4-400b-a181-d16a4db2ac6a",
   "metadata": {},
   "source": [
    "## Product Overview"
   ]
  },
  {
   "cell_type": "markdown",
   "id": "96e86988-2e8a-4d8c-92d9-0245090c708d",
   "metadata": {},
   "source": [
    "### Background"
   ]
  },
  {
   "cell_type": "markdown",
   "id": "9f478f52-f537-42ea-9753-c5d79596106a",
   "metadata": {},
   "source": [
    "Digital Earth Africa (DE Africa) provides free and open access to a copy of the Collection 3 (version 3) Copernicus Global Land Service Annual Dynamic Global Land Cover at 100 m spatial resolution (CGLS_LC100m) product over Africa for the years 2015 to 2019.  \n",
    "\n",
    "The CGLS_LC100m product is an annual collection of landcover layers produced by the Copernicus Global Land Monitoring Service (CGLS). Each mapping period, contains 14-15 layers:\n",
    "\n",
    "- One discrete land cover classification layer (provides 23 classes defined according to the FAO LCCS scheme)\n",
    "\n",
    "- Fractional cover layers for 10 land cover classes (bare/sparse vegetation, cropland, herbaceous grassland, moss & lichen, shrubland, tree, permanent snow & ice, built-up, permanent water, seasonal water)\n",
    "\n",
    "- One forest type layer (forest type for all pixels where tree cover fraction is bigger than 1 %)\n",
    "\n",
    "- One discrete classification probability layer (quality indicator of the classifier)\n",
    "\n",
    "- Data Density Indicator for PROBA-V UTM 100m input data (quality of the EO input data between 0 – 100 (0 = bad, 100 = perfect data))\n",
    "\n",
    "- Change Confidence Layer showing the certainty that a change occurred compared to the previous year (only delivered for layers produced in conso or nrt mode)\n",
    "\n",
    "DE Africa provides 13 of these layers which are described in the [Measurements](#Measurements) section.\n",
    "\n",
    "This page details how to access the CGLS_LC100m product through the DE Africa platforms. \n",
    "For more information on the dataset see the [product user manual](https://doi.org/10.5281/zenodo.4723921) and the [publication](https://doi.org/10.3390/rs12061044).\n"
   ]
  },
  {
   "cell_type": "markdown",
   "id": "e67bb21f-7d3e-4ba4-af07-a5a5b9f425fd",
   "metadata": {},
   "source": [
    "### Specifications"
   ]
  },
  {
   "cell_type": "markdown",
   "id": "6d8d1e1c-6aab-4ecb-9574-f524991a7659",
   "metadata": {},
   "source": [
    "#### Spatial and temporal coverage."
   ]
  },
  {
   "cell_type": "markdown",
   "id": "da69dc96-8e2e-4238-9973-a66cc1853f75",
   "metadata": {},
   "source": [
    "Relevant metadata for the Copernicus Global Land Service Land Use/Land Cover at 100 m  product can be viewed on the DE Africa [Metadata Explorer](https://explorer.digitalearth.africa/products/cgls_landcover)."
   ]
  },
  {
   "cell_type": "markdown",
   "id": "575d1bd4-a7f9-4903-b442-e425e3ea6d24",
   "metadata": {},
   "source": [
    "**Table 1: Copernicus Global Land Service Land Use/Land Cover at 100 m  product specifications.**"
   ]
  },
  {
   "cell_type": "markdown",
   "id": "557a76ce-4678-44b3-90c4-c84dfa41c7fe",
   "metadata": {},
   "source": [
    "|Specification | |\n",
    "|----------|-------------|\n",
    "|Product name|  `cgls_landcover` |\n",
    "|Cell size - X (degrees) | -0.001° (~100m) | \n",
    "|Cell size - Y (degrees) | -0.001° (~100m) | \n",
    "|Coordinate reference system | EPSG:4326 | \n",
    "|Temporal resolution | Annual | \n",
    "|Temporal range| 2015 &ndash; 2019|\n",
    "|Update frequency| Annual |"
   ]
  },
  {
   "cell_type": "markdown",
   "id": "c47119a4-0c07-4e1d-a9db-0db900e99cac",
   "metadata": {},
   "source": [
    "The specific temporal and  geographic extents for the product can be explored as an interactive map on the DE Africa [Metadata Explorer](https://explorer.digitalearth.africa/products/cgls_landcover).\n",
    "Data is available for the region shaded in blue. "
   ]
  },
  {
   "cell_type": "markdown",
   "id": "08bff1d8-819b-4140-964e-9612cecc284e",
   "metadata": {},
   "source": [
    "**Figure 1: Copernicus Global Land Service Land Use/Land Cover at 100 m product geographic extent.** "
   ]
  },
  {
   "cell_type": "markdown",
   "id": "7b29e822-ecca-451b-bb4e-1a677f331a44",
   "metadata": {},
   "source": [
    "<img src=\"../_static/data_specs/CGLS_LULC_specs/cgls_geographic_extent.png\" alt=\"CGLS Geographic Extent\" width=\"300\" align=\"left\"/>"
   ]
  },
  {
   "cell_type": "markdown",
   "id": "be97bcc4-2b39-46b7-ac38-ce15caff4f62",
   "metadata": {},
   "source": [
    "#### Measurements"
   ]
  },
  {
   "cell_type": "markdown",
   "id": "bd75c95d-4417-4e7a-9857-78622d3606bc",
   "metadata": {},
   "source": [
    "**Table 2: Copernicus Global Land Service Land Use/Land Cover at 100 m product measurements.**"
   ]
  },
  {
   "cell_type": "markdown",
   "id": "226342a2-6a9e-4ef7-9451-f4ae248c3286",
   "metadata": {},
   "source": [
    "| Band ID                   | Description   | Units   | Range   | Data type   |    No data$^\\dagger$ |\n",
    "|:------------------------------|:--------------|:--------|:--------|:--------|---------:|\n",
    "| classification                | Land cover classification  | 1       | 0 - 200        | uint8   |      255 |\n",
    "| forest_type                   | Forest type for all pixels with tree percentage vegetation cover bigger than 1 %               | percent | 0 - 5        | uint8   |      255 |\n",
    "| classification_probability    | Quality indicator (classification probability) of the discrete classification              | percent | 0 - 100         | uint8   |      255 |\n",
    "| bare_cover_fraction           | Percent vegetation cover for bare-sparse-vegetation land cover class              | percent |  0 - 100       | uint8   |      255 |\n",
    "| builtup_cover_fraction        | Percent ground cover for built-up land cover class             | percent |  0 - 100       | uint8   |      255 |\n",
    "| crops_cover_fraction          | Percent vegetation cover for cropland land cover class              | percent |  0 - 100       | uint8   |      255 |\n",
    "| grass_cover_fraction          | Percent vegetation cover for herbaceous vegetation land cover class              | percent |  0 - 100       | uint8   |      255 |\n",
    "| mosslichen_cover_fraction     | Percent vegetation cover for moss and lichen land cover class              | percent |  0 - 100       | uint8   |      255 |\n",
    "| permanentwater_cover_fraction | Percent ground cover for permanent water land cover class              | percent |  0 - 100       | uint8   |      255 |\n",
    "| seasonalwater_cover_fraction  | Percent ground cover for seasonal water land cover class              | percent |  0 - 100        | uint8   |      255 |\n",
    "| shrub_cover_fraction          | Percent vegetation cover for shrubland land cover class              | percent |   0 - 100       | uint8   |      255 |\n",
    "| snow_cover_fraction           | Percent ground cover for snow and ice land cover class              | percent |  0 - 100       | uint8   |      255 |\n",
    "| tree_cover_fraction           | Percent vegetation cover for forest land cover class              | percent |  0 - 100       | uint8   |      255 |\n",
    "\n",
    "$^\\dagger$ No data or fill value."
   ]
  },
  {
   "cell_type": "markdown",
   "id": "b2796790-4151-4ea5-8e02-e844028a1c87",
   "metadata": {},
   "source": [
    "### Processing"
   ]
  },
  {
   "cell_type": "markdown",
   "id": "3e10bad4-6dba-4130-bef0-d8358b795126",
   "metadata": {},
   "source": [
    "The Copernicus Global Land Service Annual Dynamic Global Land Cover at 100 m spatial resolution (CGLS_LC100m) product is generated by the Copernicus Global Land Monitoring Service (CGLS) using PROBA-V satellite observations as the main inputs. \n",
    "The [Copernicus Global Land Service: Land Cover 100m: version 3 Globe 2015-2019: Algorithm Theoretical Basis Document](https://doi.org/10.5281/zenodo.4723924) (ATBD) describes in detail the methodology used to produce the third collection of the 100m Land Cover product, the global annual maps for the period 2015-2019, including detailed technical descriptions of the algorithms, the ancillary data used, and the intermediate products produced."
   ]
  },
  {
   "cell_type": "markdown",
   "id": "08590c87-e644-4b3a-a755-28c2d0024569",
   "metadata": {},
   "source": [
    "### Media and example images "
   ]
  },
  {
   "cell_type": "markdown",
   "id": "1c5dd3c0-faa8-41da-96cd-6fc1454e17d3",
   "metadata": {},
   "source": [
    "**Figure 2: CGLS land cover classification data for Madagascar.**\n",
    "\n",
    "<img src=\"../_static/data_specs/CGLS_LULC_specs/cgls-madagascar-2019.png\" alt=\"CGLS 2019 Madagascar\" width=\"500\" align=\"left\"/>"
   ]
  },
  {
   "cell_type": "markdown",
   "id": "10b4d47c-5462-4207-9d24-5bf1d9cf9313",
   "metadata": {},
   "source": [
    "*Credit: Contains the CGLS Land Cover 100m product courtesy of the Copernicus Global Land Service, processed by Digital Earth Africa.*"
   ]
  },
  {
   "cell_type": "markdown",
   "id": "e093d2e5-1d83-45e9-9df6-c3a749bb539f",
   "metadata": {},
   "source": [
    "### References"
   ]
  },
  {
   "cell_type": "markdown",
   "id": "26d79d8c-a67d-4702-ad33-49cb89e30a7e",
   "metadata": {},
   "source": [
    "Buchhorn, M.; Smets, B.; Bertels, L.; Lesiv, M.; Tsendbazar, N.-E.; Masiliunas, D.; Linlin, L.; Herold, M.; Fritz, S. (2020). Copernicus  Global  Land  Service:  Land  Cover  100m:  Collection  3:  epoch 2019: Globe (Version V3.0.1). Zenodo. DOI: https://10.5281/zenodo.3939049;\n",
    "\n",
    "Marcel Buchhorn, Bruno Smets, Luc Bertels, Bert De Roo, Myroslava Lesiv, Nandin-Erdene Tsendbazar, Linlin Li, & Agnieszka Tarko. (2020). Copernicus Global Land Service: Land Cover 100m: version 3 Globe 2015-2019: Product User Manual (Dataset v3.0, doc issue 3.3). Zenodo. https://doi.org/10.5281/zenodo.3938963\n",
    "\n",
    "Marcel Buchhorn, Luc Bertels, Bruno Smets, Bert De Roo, Myroslava Lesiv, Nandin-Erdene Tsendbazar, Dainius Masiliunas, & Linlin Li. (2020). Copernicus Global Land Service: Land Cover 100m: version 3 Globe 2015-2019: Algorithm Theoretical Basis Document (Dataset v3.0, doc issue 3.3). Zenodo. https://doi.org/10.5281/zenodo.3938968\n",
    "\n",
    "Nandin-Erdene Tsendbazar, Agnieszka Tarko, Linlin Li, Martin Herold, Myroslava Lesiv, Steffen Fritz, & Victor Maus. (2020). Copernicus Global Land Service: Land Cover 100m: version 3 Globe 2015-2019: Validation Report (Dataset v3.0, doc issue 1.0). Zenodo. https://doi.org/10.5281/zenodo.3938974"
   ]
  },
  {
   "cell_type": "markdown",
   "id": "377b704e-549b-477a-94f4-77b2e4a28834",
   "metadata": {},
   "source": [
    "### License "
   ]
  },
  {
   "cell_type": "markdown",
   "id": "eb216650-8c8d-4bb4-8ed9-9832e58502ab",
   "metadata": {},
   "source": [
    "As an official product of the global component of the Copernicus Land Service, access to this land cover dataset, CGLS_LC100m, is fully free and open to all users."
   ]
  },
  {
   "cell_type": "markdown",
   "id": "758ccc2a-f0f0-4cf5-9005-1b6398fde4c1",
   "metadata": {},
   "source": [
    "### Acknowledgements"
   ]
  },
  {
   "cell_type": "markdown",
   "id": "4db2e3f8-4c6a-4cd1-a88b-61ebaa8ae4e4",
   "metadata": {},
   "source": [
    "The Copernicus Global Land Service Annual Dynamic Global Land Cover at 100 m spatial resolution product was generated by the Global component of the Land Service of Copernicus, the Earth Observation programme of the European Commission. \n",
    "The research leading to the current version of the product has received funding from various European Commission Research and Technical Development programs. \n",
    "The product is based on PROBA-V data provided by Belgian Science Policy Office (BELSPO) and distributed by VITO."
   ]
  },
  {
   "cell_type": "markdown",
   "id": "91e4eca1-5b83-4bf1-9d86-547673801284",
   "metadata": {},
   "source": [
    "## Data Access "
   ]
  },
  {
   "cell_type": "markdown",
   "id": "a044bed3-1901-4bf1-a9f7-17a93d3f268f",
   "metadata": {},
   "source": [
    "### Amazon Web Service"
   ]
  },
  {
   "cell_type": "markdown",
   "id": "d81e137d-c2d3-485d-a9ab-cd577b4a91e5",
   "metadata": {},
   "source": [
    "The Copernicus Global Land Service Land Use/Land Cover at 100 m product is avaliable in AWS S3."
   ]
  },
  {
   "cell_type": "markdown",
   "id": "d55cd3f6-63ae-4281-9c54-84ea28bb6ba3",
   "metadata": {},
   "source": [
    "**Table 3: AWS data acess details.**"
   ]
  },
  {
   "cell_type": "markdown",
   "id": "6bff830b-6696-4403-baaa-5239539ec7eb",
   "metadata": {},
   "source": [
    "|AWS S3 details | |\n",
    "|----------|-------------|\n",
    "|Bucket ARD | `arn:aws:s3:::deafrica-input-datasets`|\n",
    "|Region | `af-south-1` |"
   ]
  },
  {
   "cell_type": "markdown",
   "id": "2eb5b8f1-bf41-4ba9-978e-b767bc3f54ad",
   "metadata": {},
   "source": [
    "The bucket is in the AWS region `af-south-1` (Cape Town). Additional region specifications can be applied as follows:\n",
    "\n",
    "`aws s3 ls --region=af-south-1 s3://deafrica-input-datasets/`\n",
    "\n",
    "The file paths follow the format: \n",
    "`s3://deafrica-input-datasets/cgls_landcover/<year>/`.\n"
   ]
  },
  {
   "cell_type": "markdown",
   "id": "93010734-e864-460b-9c0c-2e8f2b5831b3",
   "metadata": {},
   "source": [
    "### OGC Web Services (OWS)"
   ]
  },
  {
   "cell_type": "markdown",
   "id": "b69871c3-99e4-4f7b-877f-e8d592d57236",
   "metadata": {},
   "source": [
    "The Copernicus Global Land Service, Land Use/Land Cover at 100 m product is not yet avaliable through Digital Earth Africa’s OWS."
   ]
  },
  {
   "cell_type": "markdown",
   "id": "c36dfce0-3e07-4663-bcda-a2e60552b579",
   "metadata": {},
   "source": [
    "### Open Data Cube (ODC)"
   ]
  },
  {
   "cell_type": "markdown",
   "id": "b6131301-45ed-423d-bc94-556a7ebe35d1",
   "metadata": {},
   "source": [
    "The Copernicus Global Land Service Land Use/Land Cover at 100 m product can be accessed through the Digital Earth Africa ODC API, which is available through the [Digital Earth Africa Sandbox](https://sandbox.digitalearth.africa/hub/login).\n",
    "\n",
    "**ODC product name:** `cgls_landcover`"
   ]
  },
  {
   "cell_type": "markdown",
   "id": "86e23b40-702e-4fb7-823f-a8e5d62b781c",
   "metadata": {},
   "source": [
    "Specific bands of data can be called by using either the default names or any of a band’s alternative names, as listed in the table below. \n",
    "ODC `Datacube.load` commands without specified bands will load all bands."
   ]
  },
  {
   "cell_type": "markdown",
   "id": "e813cda5-7244-485e-8f7d-8bbab0be211d",
   "metadata": {},
   "source": [
    "**Table 4: ODC product cgls_landcover band names**."
   ]
  },
  {
   "cell_type": "markdown",
   "id": "7a8e79eb-4784-48c9-9eb5-4951c4f09226",
   "metadata": {},
   "source": [
    "|Band name| Alternative names| Fill value |\n",
    "|:------------------------------|:-------------------|---------:|\n",
    "| classification                | class         |      `255` |\n",
    "| forest_type                   |                  |      `255` |\n",
    "| classification_probability    | prob          |      `255` |\n",
    "| bare_cover_fraction           | bare           |      `255` |\n",
    "| builtup_cover_fraction        | builtup        |      `255` |\n",
    "| crops_cover_fraction          | crops          |      `255` |\n",
    "| grass_cover_fraction          | grass          |      `255` |\n",
    "| mosslichen_cover_fraction     | mosslichen     |      `255` |\n",
    "| permanentwater_cover_fraction | permanentwater |      `255` |\n",
    "| seasonalwater_cover_fraction  | seasonalwater  |      `255` |\n",
    "| shrub_cover_fraction          | shrub          |      `255` |\n",
    "| snow_cover_fraction           | snow           |      `255` |\n",
    "| tree_cover_fraction           | tree           |      `255` |"
   ]
  },
  {
   "cell_type": "markdown",
   "id": "ef10dc5e-cc49-4a10-b663-ea1de87845fc",
   "metadata": {},
   "source": [
    "## Technical Information"
   ]
  },
  {
   "cell_type": "markdown",
   "id": "19c1be25-02c5-4277-b2c3-d1e6ed5fe96e",
   "metadata": {},
   "source": [
    "The 2019 global overall accuracy and the continental level overall accuracy for Africa of the discrete land cover layer of the CGLS_LC100m product at level 1 are `80.3 %` and `80.0 %` respectively. \n",
    "At level 2 the global overall accuracy and the continental level overall accuracy for Africa are `75.1 %` and `76.5 %` respectively. \n",
    "In the level 1 discrete land cover layer the closed and open forests classes are not seperated whereas at level 2 they are separated.\n",
    "\n",
    "For more information on the validation of the discrete land cover layer and fractional landcover layers of the CGLS_LC100m product,  see the [Copernicus Global Land Service: Land Cover 100m: version 3 Globe 2015-2019: Validation Report](https://doi.org/10.5281/zenodo.4723975)."
   ]
  }
 ],
 "metadata": {
  "kernelspec": {
   "display_name": "Python 3 (ipykernel)",
   "language": "python",
   "name": "python3"
  },
  "language_info": {
   "codemirror_mode": {
    "name": "ipython",
    "version": 3
   },
   "file_extension": ".py",
   "mimetype": "text/x-python",
   "name": "python",
   "nbconvert_exporter": "python",
   "pygments_lexer": "ipython3",
   "version": "3.8.10"
  }
 },
 "nbformat": 4,
 "nbformat_minor": 5
}
