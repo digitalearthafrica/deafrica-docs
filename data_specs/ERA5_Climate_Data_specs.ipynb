{
 "cells": [
  {
   "cell_type": "markdown",
   "id": "b795eed0-6ea1-41a5-ab58-e0dbb16d57a0",
   "metadata": {},
   "source": [
    "# ERA5 Climate Gridded Data"
   ]
  },
  {
   "cell_type": "raw",
   "id": "e749452e-5026-49e0-bd1e-05caa15b2d8b",
   "metadata": {
    "raw_mimetype": "text/restructuredtext",
    "tags": []
   },
   "source": [
    ".. contents::\n",
    "   :local:"
   ]
  },
  {
   "cell_type": "markdown",
   "id": "15993476-4bad-4b79-83bd-ab9986765527",
   "metadata": {},
   "source": [
    "**Date modified**: 09 February 2022"
   ]
  },
  {
   "cell_type": "markdown",
   "id": "e5f75224-a35e-4d54-99db-dd962110b51d",
   "metadata": {},
   "source": [
    "## Product Overview"
   ]
  },
  {
   "cell_type": "markdown",
   "id": "39e8c947-eb36-46d8-886e-3fb8fdb3eac2",
   "metadata": {},
   "source": [
    "### Background"
   ]
  },
  {
   "cell_type": "markdown",
   "id": "89d5c9fd-7983-4196-84f9-ab470732bbae",
   "metadata": {},
   "source": [
    "The European Centre for Medium Range Weather Forecasts (ECMWF) global climate reanalysis product, ERA5, is the 5th generation operational service which utilizes the best available observation data from satellites and in-situ stations, which are assimilated and processed using ECMWF's Integrated Forecast System. The dataset provides essential atmospheric meteorological parameters such as air temperature, pressure and wind at different altitudes, along with surface parameters like rainfall, and sea parameters like sea-surface temperature and wave height.\n",
    "\n",
    "The ERA5 Climate Gridded Data is available from 1979 to present and is nominally updated monthly. The dataset is external to the Digital Earth Africa platform. It is available and accessed from the [AWS Public Dataset Program](https://registry.opendata.aws/ecmwf-era5/). The [ERA5 Climate Gridded Data notebook](https://docs.digitalearthafrica.org/en/latest/sandbox/notebooks/Datasets/Climate_Data_ERA5_AWS.html) demonstrates how to access the ERA5 data from the [AWS Public Dataset Program](https://registry.opendata.aws/ecmwf-era5/)\n",
    "\n",
    "For offical information on this dataset, see [ERA5 data documentation from ECMWF](https://confluence.ecmwf.int/display/CKB/ERA5%3A+data+documentation)."
   ]
  },
  {
   "cell_type": "markdown",
   "id": "b6b4d9d8-3b0b-481e-b8f7-ed6b7d0436df",
   "metadata": {},
   "source": [
    "### Specifications"
   ]
  },
  {
   "cell_type": "markdown",
   "id": "a52487da-a781-4156-9d41-342b3f9fef44",
   "metadata": {},
   "source": [
    "#### Spatial and temporal coverage"
   ]
  },
  {
   "cell_type": "markdown",
   "id": "281c34a2-daf7-4514-ba1e-98950c1ceac2",
   "metadata": {},
   "source": [
    "#### Measurements"
   ]
  },
  {
   "cell_type": "markdown",
   "id": "63e400a5-8bc2-4365-83f5-a749d9b657aa",
   "metadata": {},
   "source": [
    "### Processing"
   ]
  },
  {
   "cell_type": "markdown",
   "id": "6cbcd4bd-775e-440c-9d55-195eb57082db",
   "metadata": {},
   "source": [
    "### Media and example images"
   ]
  },
  {
   "cell_type": "markdown",
   "id": "360a3252-937c-4fdd-b099-2204894e2bfc",
   "metadata": {},
   "source": [
    "### References"
   ]
  },
  {
   "cell_type": "markdown",
   "id": "445f75be-af2c-4d3e-af60-172ba2241057",
   "metadata": {},
   "source": [
    "Jon Olauson, \n",
    "ERA5: The new champion of wind power modelling?,\n",
    "Renewable Energy,\n",
    "Volume 126,\n",
    "2018,\n",
    "Pages 322-331,\n",
    "ISSN 0960-1481,\n",
    "https://doi.org/10.1016/j.renene.2018.03.056.\n",
    "(https://www.sciencedirect.com/science/article/pii/S0960148118303677)"
   ]
  },
  {
   "cell_type": "markdown",
   "id": "9d2cb485-c6c1-495e-af17-299f655609f0",
   "metadata": {},
   "source": [
    "[ERA5: data documentation](https://confluence.ecmwf.int/display/CKB/ERA5+data+documentation)"
   ]
  },
  {
   "cell_type": "markdown",
   "id": "86a731ef-59a7-4804-8d5b-d8cff351d7d3",
   "metadata": {},
   "source": [
    "[ERA5 Data on S3 via AWS Public Dataset Program](https://github.com/planet-os/notebooks/blob/master/aws/era5-pds.md#era5-data-on-s3-via-aws-public-dataset-program)"
   ]
  },
  {
   "cell_type": "markdown",
   "id": "da8d1a19-fcf6-4001-911f-397e891418e8",
   "metadata": {},
   "source": [
    "### License"
   ]
  },
  {
   "cell_type": "markdown",
   "id": "bfd4b0df-c658-4a88-9cc7-aaa7462575a9",
   "metadata": {},
   "source": [
    "Generated using Copernicus Climate Change Service Information 2018. See http://apps.ecmwf.int/datasets/licences/copernicus/ for additional information."
   ]
  },
  {
   "cell_type": "markdown",
   "id": "3a15a181-5278-43c2-9e9d-c4fc61a95b49",
   "metadata": {},
   "source": [
    "### Acknowledgements"
   ]
  },
  {
   "cell_type": "markdown",
   "id": "21d0b92f-882c-425a-9018-1dbe083a7f90",
   "metadata": {},
   "source": [
    "## Data access"
   ]
  },
  {
   "cell_type": "markdown",
   "id": "458a55d6-908f-47fe-b430-a8f5399e525c",
   "metadata": {},
   "source": [
    "### Amazon Web Services S3"
   ]
  },
  {
   "cell_type": "markdown",
   "id": "4c597939-f092-4f94-9898-52e42f512cad",
   "metadata": {},
   "source": [
    "The ERA5 data is available in AWS S3."
   ]
  },
  {
   "cell_type": "markdown",
   "id": "60a710f6-bac5-41ff-af77-9b90626c7965",
   "metadata": {},
   "source": [
    "**Table 3: AWS data access details**"
   ]
  },
  {
   "cell_type": "markdown",
   "id": "8352de15-e590-47e6-96b6-7b7bad4de0d6",
   "metadata": {},
   "source": [
    "|AWS S3 details | |\n",
    "|----------|-------------|\n",
    "|Bucket ARN | `arn:aws:s3:::era5-pds`|\n",
    "|Region | `us-east-1` |\n",
    "| Product name | `ecmwf-era5`|"
   ]
  },
  {
   "cell_type": "markdown",
   "id": "4a16b5a1-3861-414f-b490-70ce8c3b7ef9",
   "metadata": {},
   "source": [
    "The bucket is in the AWS region `af-south-1` (Cape Town). \n",
    "Additional region specifications can be applied as follows:\n",
    "\n",
    "`aws s3 ls --region=af-south-1 s3://deafrica-input-datasets/`\n",
    "\n",
    "The following file path conventions apply to the `rainfall_chirps_monthly` and `rainfall_chirps_daily` products respectively:\n",
    "\n",
    "`s3://deafrica-input-datasets/rainfall_chirps_monthly/` \n",
    "\n",
    "`s3://deafrica-input-datasets/rainfall_chirps_daily/<year>/<month>/`"
   ]
  },
  {
   "cell_type": "markdown",
   "id": "1ee67294-4ddd-4f8e-a4e6-5f1bd97e2d20",
   "metadata": {},
   "source": [
    "## Technical information"
   ]
  }
 ],
 "metadata": {
  "kernelspec": {
   "display_name": "Python 3 (ipykernel)",
   "language": "python",
   "name": "python3"
  },
  "language_info": {
   "codemirror_mode": {
    "name": "ipython",
    "version": 3
   },
   "file_extension": ".py",
   "mimetype": "text/x-python",
   "name": "python",
   "nbconvert_exporter": "python",
   "pygments_lexer": "ipython3",
   "version": "3.8.10"
  }
 },
 "nbformat": 4,
 "nbformat_minor": 5
}
