{
 "cells": [
  {
   "cell_type": "markdown",
   "id": "b795eed0-6ea1-41a5-ab58-e0dbb16d57a0",
   "metadata": {},
   "source": [
    "# ERA5 Climate Gridded Data"
   ]
  },
  {
   "cell_type": "raw",
   "id": "e749452e-5026-49e0-bd1e-05caa15b2d8b",
   "metadata": {
    "raw_mimetype": "text/restructuredtext",
    "tags": []
   },
   "source": [
    ".. contents::\n",
    "   :local:"
   ]
  },
  {
   "cell_type": "markdown",
   "id": "15993476-4bad-4b79-83bd-ab9986765527",
   "metadata": {},
   "source": [
    "**Date modified**: March 2022"
   ]
  },
  {
   "cell_type": "markdown",
   "id": "e5f75224-a35e-4d54-99db-dd962110b51d",
   "metadata": {},
   "source": [
    "## Product Overview"
   ]
  },
  {
   "cell_type": "markdown",
   "id": "39e8c947-eb36-46d8-886e-3fb8fdb3eac2",
   "metadata": {},
   "source": [
    "### Background"
   ]
  },
  {
   "cell_type": "markdown",
   "id": "89d5c9fd-7983-4196-84f9-ab470732bbae",
   "metadata": {},
   "source": [
    "The European Centre for Medium Range Weather Forecasts (ECMWF) global climate reanalysis product, ERA5,  is a comprehensive reanalysis, with data avaliable from 1979 (soon to be backed dated to January 1950) to near real time.\n",
    "This dataset provides a numerical assessment of the modern climate. \n",
    "The ERA5 dataset provides all essential atmospheric meteorological parameters such as air temperature, pressure and wind at different altitudes, along with surface parameters like rainfall, and sea parameters like sea-surface temperature and wave height.\n",
    "ERA5 is the fifth generation ECMWF atmospheric reanalyses of the global climate, and the first reanalysis produced as an operational service. \n",
    "\n",
    "The ERA5 dataset is produced using a similar process as a regular numerical weather forecast. It uses a data assimilation and forecast loop, taking into account most of the available meteorological observations and analysing them with a state of the art numerical model, producing a continuous, spatially consistent and homogeneous dataset. The ERA5 dataset produced contains one high resolution realisation at 31km horizontal resolution (referred to as \"reanalysis\" or \"HRES\") and a reduced resolution ten member ensemble (referred to as \"ensemble\" or \"EDA\").\n",
    "\n",
    "\n",
    "The ERA5 dataset is external to the Digital Earth Africa Open Data Cube. \n",
    "Digital Earth Africa provides the `load_era5()` and `load_era5_netcdf()` [wrapper functions](https://github.com/digitalearthafrica/deafrica-sandbox-notebooks/blob/main/Tools/deafrica_tools/load_era5.py) to enable users to access the data from the [AWS Public Dataset Program](https://registry.opendata.aws/ecmwf-era5/) in the Sandbox environment.\n",
    "The [ERA5 Climate Gridded Data notebook](https://docs.digitalearthafrica.org/en/latest/sandbox/notebooks/Datasets/Climate_Data_ERA5_AWS.html) demonstrates how to access and load the ERA5 data. \n",
    "\n",
    "For more information on the ERA5, see the [ERA5 data documentation from ECMWF](https://confluence.ecmwf.int/display/CKB/ERA5%3A+data+documentation)."
   ]
  },
  {
   "cell_type": "markdown",
   "id": "b6b4d9d8-3b0b-481e-b8f7-ed6b7d0436df",
   "metadata": {},
   "source": [
    "### Specifications"
   ]
  },
  {
   "cell_type": "markdown",
   "id": "0ac8da39-55bc-4cac-bf02-29f619654282",
   "metadata": {},
   "source": [
    "**Table 1: ERA5 product specifications.**"
   ]
  },
  {
   "cell_type": "markdown",
   "id": "b747167c-8c24-4339-9d4f-61122abffd5e",
   "metadata": {},
   "source": [
    "| Specifications     | | | \n",
    "| :--                | :-- | :-- |\n",
    "| Product name       | ECMWF ERA5 Reanalysis ||\n",
    "| Cell size - X (km)  $\\dagger$  | 31km  (~0.28°) for the ERA5 HRES | 63km (0.5625°) for the ERA5 EDA  |\n",
    "| Cell size - Y (km) $\\dagger$ | -31km  (~-0.28°) for the ERA5 HRES | -63km (0.5625°) for the ERA5 EDA |\n",
    "| Temporal Extent | 1979 - | |\n",
    "| Update frequency | Monthly | |\n",
    "| Data Format | NetCDF and Zarr | | \n",
    "\n",
    "\n",
    "$\\dagger$ Wave data are produced and archived at a reduced latitude/longitude grid with a resolution of 0.36° (HRES) and 1.0° (EDA)."
   ]
  },
  {
   "cell_type": "markdown",
   "id": "281c34a2-daf7-4514-ba1e-98950c1ceac2",
   "metadata": {},
   "source": [
    "#### Measurements"
   ]
  },
  {
   "cell_type": "markdown",
   "id": "95d559e6-a780-4e51-b4ec-a89058607746",
   "metadata": {},
   "source": [
    "15 surface or single level variables are available in Zarr format and are accessible using the `load_era5()` wrapper function to stream the data."
   ]
  },
  {
   "cell_type": "markdown",
   "id": "a9b20307-9f9f-4d1b-a7ef-88866c2d2c34",
   "metadata": {},
   "source": [
    "**Table 2: Measurements available in Zarr format.**"
   ]
  },
  {
   "cell_type": "markdown",
   "id": "b2acadc2-67ce-4907-8999-4523c88f0546",
   "metadata": {},
   "source": [
    "| Catagory | Variable | Name for query |\n",
    "|:--- |:--- |:--- |\n",
    "| Precipitation | Total precipitation | precipitation_amount_1hour_Accumulation|\n",
    "| Wind | 10 metre U wind component | eastward_wind_at_10_metres |\n",
    "| | 10 metre V wind component | northward_wind_at_10_metres|\n",
    "| | 100 metre U wind component | eastward_wind_at_100_metres|\n",
    "| | 100 metre V wind component | northward_wind_at_100_metres|\n",
    "| Temperature | 2 metre temperature | air_temperature_at_2_metres|\n",
    "| | 2 metres maximum temperature since previous post-processing | air_temperature_at_2_metres_1hour_Maximum|\n",
    "| | 2 metres minimum temperature since previous post-processing | air_temperature_at_2_metres_1hour_Minimum|\n",
    "| | 2 metre dew point temperature | dew_point_temperature_at_2_metres|\n",
    "| | Sea surface temperature | sea_surface_temperature|\n",
    "| Air Pressure | Mean sea level pressure | air_pressure_at_mean_sea_level|\n",
    "| | Surface pressure | surface_air_pressure|\n",
    "| Snow | Snow density | snow_density|\n",
    "| | Snow depth | lwe_thickness_of_surface_snow_amount|\n",
    "| Solar radiation | Surface solar radiation downwards | integral_wrt_time_of_surface_direct_downwelling_shortwave_flux_in_air_1hour_Accumulation|"
   ]
  },
  {
   "cell_type": "markdown",
   "id": "b2c1dc06-e1bf-4620-a725-8fa296a5e7c3",
   "metadata": {},
   "source": [
    "The following sea surface variables are only available in netcdf format, and can be downloaded using the `load_era5_netcdf()` function."
   ]
  },
  {
   "cell_type": "markdown",
   "id": "5a813166-0e90-4322-a4dc-211728ae3bdd",
   "metadata": {},
   "source": [
    "**Table 3: Measurements available in NetCDF format.**"
   ]
  },
  {
   "cell_type": "markdown",
   "id": "193240dc-5d0a-467d-a3d7-6faa1b2eccd9",
   "metadata": {},
   "source": [
    "| Catagory | Variable | Name for query |\n",
    "|:--- |:--- |:--- |\n",
    "| Wave | Mean wave period | sea_surface_wave_mean_period|\n",
    "| | Mean direction of waves | sea_surface_wave_from_direction|\n",
    "| | Significant height of combined wind waves and swell | significant_height_of_wind_and_swell_waves|"
   ]
  },
  {
   "cell_type": "markdown",
   "id": "63e400a5-8bc2-4365-83f5-a749d9b657aa",
   "metadata": {},
   "source": [
    "### Processing"
   ]
  },
  {
   "cell_type": "markdown",
   "id": "8e8589d6-6a15-4e29-96c9-f3a55eb8ad81",
   "metadata": {},
   "source": [
    "The ERA5 product is produced from the best available observation data from satellites and in-situ stations using 4D-Var data assimilation and model forecasts in CY41R2 of the [ECMWF Integrated Forecast System (IFS)](https://confluence.ecmwf.int/display/CKB/ECMWF+Model+Documentation).\n",
    "For more details on how the reanalysis product is produced see the [ERA5 data documentation](https://confluence.ecmwf.int/display/CKB/ERA5%3A+data+documentation)."
   ]
  },
  {
   "cell_type": "markdown",
   "id": "6cbcd4bd-775e-440c-9d55-195eb57082db",
   "metadata": {},
   "source": [
    "### Media and example images"
   ]
  },
  {
   "cell_type": "markdown",
   "id": "1c0586c2-c452-4e64-ba83-8543542ba0b4",
   "metadata": {},
   "source": [
    "**Figure 1: Maximum air temperature at 2 metres height for January 2021  for Africa**."
   ]
  },
  {
   "cell_type": "markdown",
   "id": "8a58afc2-b884-4796-b561-211c782210a8",
   "metadata": {},
   "source": [
    "<img src=\"../_static/data_specs/ERA5_Climate_Data_specs/africa-air-temperature.png\" alt=\"ERA5 Air Temperature\" width=\"500\" align=\"center\"/>"
   ]
  },
  {
   "cell_type": "markdown",
   "id": "841c013a-c12f-4625-bab9-d2ae73f77e66",
   "metadata": {},
   "source": [
    "*Credit: Contains ERA5 air temperature data generated using Copernicus Climate Change Service information 2021.*"
   ]
  },
  {
   "cell_type": "markdown",
   "id": "360a3252-937c-4fdd-b099-2204894e2bfc",
   "metadata": {},
   "source": [
    "### References"
   ]
  },
  {
   "cell_type": "markdown",
   "id": "445f75be-af2c-4d3e-af60-172ba2241057",
   "metadata": {},
   "source": [
    "Jon Olauson, \n",
    "ERA5: The new champion of wind power modelling?,\n",
    "Renewable Energy,\n",
    "Volume 126,\n",
    "2018,\n",
    "Pages 322-331,\n",
    "ISSN 0960-1481,\n",
    "https://doi.org/10.1016/j.renene.2018.03.056.\n",
    "(https://www.sciencedirect.com/science/article/pii/S0960148118303677)"
   ]
  },
  {
   "cell_type": "markdown",
   "id": "9d2cb485-c6c1-495e-af17-299f655609f0",
   "metadata": {},
   "source": [
    "[ERA5: data documentation](https://confluence.ecmwf.int/display/CKB/ERA5+data+documentation)"
   ]
  },
  {
   "cell_type": "markdown",
   "id": "86a731ef-59a7-4804-8d5b-d8cff351d7d3",
   "metadata": {},
   "source": [
    "[ERA5 Data on S3 via AWS Public Dataset Program](https://github.com/planet-os/notebooks/blob/master/aws/era5-pds.md#era5-data-on-s3-via-aws-public-dataset-program)"
   ]
  },
  {
   "cell_type": "markdown",
   "id": "ac1344ce-7751-4d89-aa06-8d8ebb809425",
   "metadata": {},
   "source": [
    "[ECMWF Reanalysis v5 (ERA5) website](https://www.ecmwf.int/en/forecasts/dataset/ecmwf-reanalysis-v5#:~:text=ERA5%20is%20produced%20by%20the,to%20a%20height%20of%2080km)"
   ]
  },
  {
   "cell_type": "markdown",
   "id": "da8d1a19-fcf6-4001-911f-397e891418e8",
   "metadata": {},
   "source": [
    "### License"
   ]
  },
  {
   "cell_type": "markdown",
   "id": "bfd4b0df-c658-4a88-9cc7-aaa7462575a9",
   "metadata": {},
   "source": [
    "The ERA5 product is provided under a free of charge, worldwide, non-exclusive, royalty free and perpetual license. See https://cds.climate.copernicus.eu/api/v2/terms/static/licence-to-use-copernicus-products.pdf for additional information."
   ]
  },
  {
   "cell_type": "markdown",
   "id": "3a15a181-5278-43c2-9e9d-c4fc61a95b49",
   "metadata": {},
   "source": [
    "### Acknowledgements"
   ]
  },
  {
   "cell_type": "markdown",
   "id": "a3583030-537f-46ea-b9b0-d5dfe34e9457",
   "metadata": {},
   "source": [
    "ERA5 is produced by the Copernicus Climate Change Service (C3S) at the European Centre for Medium-Range Weather Forecasts (ECMWF)."
   ]
  },
  {
   "cell_type": "markdown",
   "id": "21d0b92f-882c-425a-9018-1dbe083a7f90",
   "metadata": {},
   "source": [
    "## Data access"
   ]
  },
  {
   "cell_type": "markdown",
   "id": "458a55d6-908f-47fe-b430-a8f5399e525c",
   "metadata": {},
   "source": [
    "### Amazon Web Services S3"
   ]
  },
  {
   "cell_type": "markdown",
   "id": "4c597939-f092-4f94-9898-52e42f512cad",
   "metadata": {},
   "source": [
    "The ERA5 data is available on AWS S3 via the AWS Public Dataset Program."
   ]
  },
  {
   "cell_type": "markdown",
   "id": "60a710f6-bac5-41ff-af77-9b90626c7965",
   "metadata": {},
   "source": [
    "**Table 4: AWS data access details**"
   ]
  },
  {
   "cell_type": "markdown",
   "id": "8352de15-e590-47e6-96b6-7b7bad4de0d6",
   "metadata": {},
   "source": [
    "|AWS S3 details | |\n",
    "|----------|-------------|\n",
    "|Bucket ARN | `arn:aws:s3:::era5-pds`|\n",
    "|Region | `us-east-1` |\n",
    "| Product name | `ecmwf-era5`|"
   ]
  },
  {
   "cell_type": "markdown",
   "id": "4a16b5a1-3861-414f-b490-70ce8c3b7ef9",
   "metadata": {},
   "source": [
    "The ERA5 data is divided into distinct NetCDF granules organized by year, month, and variable name.\n",
    "\n",
    "The data is structured as follows:\n",
    "```\n",
    "/{year}/{month}/main.nc\n",
    "               /data/{var1}.nc\n",
    "                    /{var2}.nc\n",
    "                    /{....}.nc\n",
    "                    /{varN}.nc\n",
    "                    \n",
    "```\n",
    "where year is expressed as four digits (e.g. YYYY) and month as two digits (e.g. MM). Individual data variables (var1 through varN) use names corresponding to [NetCDF CF standard names convention](http://cfconventions.org/) plus any applicable additional info, such as vertical coordinate.\n",
    "\n",
    "A sample path for air temperature would take the following form:\n",
    "\n",
    "`/2008/01/data/air_temperature_at_2_metres.nc`"
   ]
  },
  {
   "cell_type": "markdown",
   "id": "0d29f717-7dac-4c3a-905c-5b9d1e8c9e25",
   "metadata": {},
   "source": [
    "The [ERA5 Climate Gridded Data notebook](https://docs.digitalearthafrica.org/en/latest/sandbox/notebooks/Datasets/Climate_Data_ERA5_AWS.html) demonstrates how to access the ERA5 data in the Sandbox environment using the `load_era5()` and `load_era5_netcdf()` wrapper functions. "
   ]
  },
  {
   "cell_type": "markdown",
   "id": "1ee67294-4ddd-4f8e-a4e6-5f1bd97e2d20",
   "metadata": {},
   "source": [
    "## Technical information"
   ]
  },
  {
   "cell_type": "markdown",
   "id": "17e68a5c-65f7-4797-a81c-a753cf7773ae",
   "metadata": {},
   "source": [
    "Information on the known issues with the ERA5 and the accuracy and uncertainity of the dataset is provided in the [ERA5 data documentation](https://confluence.ecmwf.int/display/CKB/ERA5%3A+data+documentation). "
   ]
  }
 ],
 "metadata": {
  "kernelspec": {
   "display_name": "Python 3 (ipykernel)",
   "language": "python",
   "name": "python3"
  },
  "language_info": {
   "codemirror_mode": {
    "name": "ipython",
    "version": 3
   },
   "file_extension": ".py",
   "mimetype": "text/x-python",
   "name": "python",
   "nbconvert_exporter": "python",
   "pygments_lexer": "ipython3",
   "version": "3.8.10"
  }
 },
 "nbformat": 4,
 "nbformat_minor": 5
}
