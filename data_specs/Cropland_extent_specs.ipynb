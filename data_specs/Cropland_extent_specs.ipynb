{
 "cells": [
  {
   "cell_type": "markdown",
   "metadata": {},
   "source": [
    "# Cropland extent maps for Africa"
   ]
  },
  {
   "cell_type": "raw",
   "metadata": {
    "raw_mimetype": "text/restructuredtext"
   },
   "source": [
    ".. contents::\n",
    "   :local:"
   ]
  },
  {
   "cell_type": "markdown",
   "metadata": {},
   "source": [
    "**Date modified:** 7 September 2021"
   ]
  },
  {
   "cell_type": "markdown",
   "metadata": {},
   "source": [
    "> The cropland extent map for Africa is currently only avilable for East and West Africa and is therefore labelled as a _provisional_ product.  Cropland extent maps for the other regions of Africa will be released in the latter part of 2021."
   ]
  },
  {
   "cell_type": "markdown",
   "metadata": {},
   "source": [
    "## Product overview"
   ]
  },
  {
   "cell_type": "markdown",
   "metadata": {},
   "source": [
    "### Background\n",
    "\n",
    "A central focus for governing bodies in Africa is the need to secure the necessary food sources to support their populations. It has been estimated that the current production of crops will need to double by 2050 to meet future needs for food production. Higher level crop-based products that can assist with managing food insecurity, such as cropping watering intensities, crop types, or crop productivity, require as a starting point precise and accurate cropland extent maps indicating where cropland occurs. Current cropland extent maps are either inaccurate, have coarse spatial resolutions, or are not updated regularly. An accurate, high-resolution, and regularly updated cropland area map for the African continent is therefore recognised as a gap in the current crop monitoring services.\n"
   ]
  },
  {
   "cell_type": "markdown",
   "metadata": {},
   "source": [
    "## Description\n",
    "\n",
    "Digital Earth Africa's cropland extent map for East and West Africa shows the location of croplands in the countries:\n",
    "\n",
    "* `crop_mask_eastern`: Tanzania, Kenya, Uganda, Ethiopia, Rwanda, and Burundi\n",
    "* `crop_mask_western`: Nigeria, Benin, Togo, Ghana, Cote d'Ivoire, Liberia, Sierra Leone, Guinea, and Guinea-Bissau\n",
    "\n",
    "Cropland is defined as:\n",
    "\n",
    "    \"a piece of land of minimum 0.04 ha (a single 10m x 10m pixel) that is sowed/planted\n",
    "    and harvest-able at least once within the 12 months after the sowing/planting date.\"\n",
    "\n",
    "This definition will exclude non-planted grazing lands and perennial crops which can be difficult for satellite imagery to differentiate from natural vegetation.\n",
    "\n",
    "The provisional cropland extent maps have a resolution of 10 metres, and were built using Copernicus Sentinel-2 satellite images from 2019.  The cropland extent maps were built seperately using extensive training data from East and West Africa, coupled with a Random Forest machine learning model. A detailed exploration of the methods used to produce the cropland extent map can be found in the Jupyter Notebooks in DE Africa's [crop-mask](https://github.com/digitalearthafrica/crop-mask) GitHub repository.\n",
    "\n",
    "Independent validation datasets suggest the East Africa cropland extent map has an **overall accuracy of 90.3 %, and an f-score of 0.85**, while the West Africa cropland extent map has an **overall accuracy of 83.6 %, and an f-score of 0.75**.  The algorithms for both regions tends to report more omission errors (labelling actual crops as non-crops) than commission errors (labelling non-crops as crops). Where commission errors occur, they tend to be focussed around wetlands and seasonal grasslands which spectrally resemble some kinds of cropping.\n",
    "\n",
    "The products contain three bands:\n",
    "\n",
    "   * `mask`: This band displays cropped regions as a binary map. Values of `1` indicate the presence of crops, while a value of `0` indicates the absence of cropping. This band is a _pixel-based_ cropland extent map, meaning the map displays the raw output of the pixel-based Random Forest classification.\n",
    "   \n",
    "   * `prob`: This band displays the prediction probabilities for the 'crop' class. As this product used a random forest classifier, the prediction probabilities refer to the percentage of trees that voted for the random forest classification. For example, if the model had 200 decision trees in the random forest, and 150 of the trees voted 'crop', the prediction probability is **150 / 200 x 100 = 75 %**. Thresholding this band at > 50 % will produce a map identical to `mask`. \n",
    "   \n",
    "   * `filtered`: This band displays cropped regions as a binary map. Values of `1` indicate the presence of crops, while a value of `0` indicates the absence of cropping. This band is an _object-based_ cropland extent map where the `mask` band has been filtered using an image segmentation algorithm (see [this paper](https://www.mdpi.com/2072-4292/6/7/6111/htm) for details on the algorithm used. During this process, segments smaller than 1 Ha (100 10m x 10m pixels) are merged with neighbouring segments, resulting in a map where the smallest classified region is 1 Ha is size. The `filtered` dataset is provided as a complement to the `mask` band; small commission errors are removed by object-based filtering, and the 'salt and pepper' effect typical of classifying pixels is diminished.  \n",
    "   "
   ]
  },
  {
   "cell_type": "markdown",
   "metadata": {},
   "source": [
    "### Specifications"
   ]
  },
  {
   "cell_type": "markdown",
   "metadata": {},
   "source": [
    "**Table 1: Cropland extent product specifications** "
   ]
  },
  {
   "cell_type": "markdown",
   "metadata": {},
   "source": [
    "|Specification | |\n",
    "|----------|-------------|\n",
    "|Product names| crop_mask_eastern, crop_mask_western |\n",
    "|Cell size - X (metres) | 10 |\n",
    "|Cell size - Y (metres) | 10 |\n",
    "|Coordinate reference system | EPSG: 6933 |\n",
    "|Temporal resolution | Annual |\n",
    "|Temporal range| 2019 |\n",
    "|Parent dataset| Sentinel-2 semi-annual geoMAD |\n",
    "|Update frequency| Annual |"
   ]
  },
  {
   "cell_type": "markdown",
   "metadata": {},
   "source": [
    "**Table 2: Cropland extent measurements**"
   ]
  },
  {
   "cell_type": "markdown",
   "metadata": {},
   "source": [
    "|Band ID| Description |Value range| Data type| NoData/Fill value|\n",
    "|----------|-------------|----------------|:---------:|:----------:|\n",
    "|mask | crop extent (pixel) |`0 - 1`| `uint8` | `0` |\n",
    "|prob | crop probability (pixel) |`0 - 100`| `uint8` | `0` |\n",
    "|filtered | crop extent (object-based) |`0 - 1`| `uint8` | `0` |"
   ]
  },
  {
   "cell_type": "markdown",
   "metadata": {},
   "source": [
    "**Figure 1: The dataset coverage for the provisional cropland extent maps; West Africa product (left) and East Africa product (right)**"
   ]
  },
  {
   "cell_type": "markdown",
   "metadata": {},
   "source": [
    "<img src=\"../_static/data_specs/Cropland_extent_spec/crop_mask_extent.PNG\" width=\"800\" align=\"left\"/>"
   ]
  },
  {
   "cell_type": "markdown",
   "metadata": {},
   "source": [
    "## Media and example images"
   ]
  },
  {
   "cell_type": "markdown",
   "metadata": {},
   "source": [
    "**Image 1: Example of East Africa cropland extent near Addis Ababa, Ethiopia.**\n",
    "\n",
    "_1.1:_ Cropland extent (pixel) for the entire East Africa region\n",
    "\n",
    "_1.2:_ True colour image\n",
    "\n",
    "_1.3:_ Cropland extent (pixel)\n",
    "\n",
    "_1.4:_ Cropland extent (object-filtered)\n",
    "\n",
    "_1.5:_ Crop probability; purple-to-pink regions show low probability, orange-yellow regions show high probability\n",
    "\n",
    "<img src=\"../_static/data_specs/Cropland_extent_spec/crop_mask_example_ethiopia_labelled.png\" width=\"1000\" align=\"left\"/>"
   ]
  },
  {
   "cell_type": "markdown",
   "metadata": {},
   "source": [
    "### License\n",
    "\n",
    "CC BY Attribution 4.0 International License"
   ]
  },
  {
   "cell_type": "markdown",
   "metadata": {},
   "source": [
    "## Data Access"
   ]
  },
  {
   "cell_type": "markdown",
   "metadata": {},
   "source": [
    "### Amazon Web Services S3\n",
    "\n",
    "The cropland extent product is available in AWS S3 thanks to the Public Dataset Program.\n",
    "\n",
    "|AWS S3 details | |\n",
    "|----------|-------------|\n",
    "|Bucket ARN | `arn:aws:s3:::deafrica-services`|\n",
    "| Product names| `crop_mask_eastern`, `crop_mask_western` |\n",
    "\n",
    "The bucket is located in the region `af-south-1` (Cape Town)\n",
    "\n",
    "The following file path convention applies to the crop mask:\n",
    "\n",
    "`s3://deafrica-services/crop_mask_eastern/1-0-0/<path>/<row>/<year>/`\n",
    "\n",
    "`s3://deafrica-services/crop_mask_western/1-0-0/<path>/<row>/<year>/`"
   ]
  },
  {
   "cell_type": "markdown",
   "metadata": {},
   "source": [
    "### Open Data Cube (ODC)\n",
    "\n",
    "The cropland extent datasets can be accessed through the Digital Earth Africa ODC API, which is available through the [Digital Earth Africa Sandbox](https://sandbox.digitalearth.africa/hub/login).\n",
    "\n",
    "**ODC product names:** `crop_mask_eastern` and `crop_mask_western`\n",
    "\n",
    "For examples on how to use the ODC API, see the DE Africa [example notebook repository](https://github.com/digitalearthafrica/deafrica-sandbox-notebooks)."
   ]
  },
  {
   "cell_type": "markdown",
   "metadata": {},
   "source": [
    "### OGC Web Services (OWS)\n",
    "\n",
    "This product is available through DE Africa's OWS.\n",
    "\n",
    "**Table 3: OWS data access details.**\n",
    "\n",
    "|OWS details | |\n",
    "|----------|-------------|\n",
    "|Name | `DE Africa Services` |\n",
    "|Web Map Services (WMS) URL | `https://ows.digitalearth.africa/wms?version=1.3.0` |\n",
    "| Web Coverage Service (WCS) URL | `https://ows.digitalearth.africa/wcs?version=2.1.0`|\n",
    "| Layer names | `crop_mask_eastern`, `crop_mask_western` |\n",
    "\n",
    "Digital Earth Africa OWS details can be found at [https://ows.digitalearth.africa/](https://ows.digitalearth.africa/).\n",
    "\n",
    "For instructions on how to connect to OWS, see [this tutorial](https://training.digitalearthafrica.org/en/latest/OWS_tutorial.html)."
   ]
  },
  {
   "cell_type": "markdown",
   "metadata": {},
   "source": [
    "## Technical information"
   ]
  },
  {
   "cell_type": "markdown",
   "metadata": {},
   "source": [
    "### Algorithm\n"
   ]
  },
  {
   "cell_type": "markdown",
   "metadata": {},
   "source": [
    "**Figure 2: The algorithm used to generate the cropland extent map for Eastern Africa.**\n",
    "\n",
    "<img src=\"../_static/data_specs/Cropland_extent_spec/crop_mask_algo_eastern.PNG\" width=\"1000\" align=\"left\"/>"
   ]
  },
  {
   "cell_type": "markdown",
   "metadata": {},
   "source": [
    "### Training and Validation data\n",
    "\n",
    "Reference data for the continental cropland extent map will be officially released when the remainder of the cropland extent maps are produced.  For now, the training and validation data can be downloaded directly from github:\n",
    "\n",
    "* Eastern cropland extent training data is located [here](https://github.com/digitalearthafrica/crop-mask/blob/main/testing/eastern_cropmask/data/Eastern_training_data_20210427.geojson)\n",
    "\n",
    "* Western cropland extent training data is [here](https://github.com/digitalearthafrica/crop-mask/blob/main/testing/western_cropmask/data/Western_training_data_20210609.geojson).\n",
    "\n",
    "* Validation data for Eastern Africa is located [here](https://github.com/digitalearthafrica/crop-mask/tree/main/testing/eastern_cropmask/data) as a shapefile and is called `validation_samples.shp`.\n",
    "\n",
    "* Validation data for Western Africa is located [here](https://github.com/digitalearthafrica/crop-mask/tree/main/testing/western_cropmask/data) as a shapefile and is called `validation_samples.shp`."
   ]
  },
  {
   "cell_type": "markdown",
   "metadata": {},
   "source": [
    "### Validation method\n",
    "\n",
    "Reference samples, used to both create and validate the cropland extent maps, were produced as part of the broader continental-scale cropland extent for Africa project lead by the Digital Earth Africa Establishment team. Polygons were labelled through the DE Africa distributed network of implementing partners as part of the DE Africa Validation Task Team. These partners include RCMRD, OSS, AfriGIST, AGRHYMET, NADMO, and DE Africa. \n",
    "\n",
    "The reference dataset was created using a stratified sampling design.  Samples were stratified at two levels.  First, samples were stratified by simplified Agro-Ecological Zones (AEZs). Second, within each AEZ, samples were stratified by a pre-existing, high-quality cropland extent map, namely the Global Food Security-Support Analysis Data (GFSAD) at 30m product. The GFSAD product was reprojected to 60 x 60m cells using ‘mode’ as the aggregating statistic. This increased the probability of samples falling within homogenous crop/non-crop regions. For each AEZ, 2,000 40 x 40 metre polygons were randomly generated, with polygons equally split between the crop and non-crop labels of the reprojected GFSAD product. \n",
    "\n",
    "Sample polygons for each AEZ were assessed using Collect Earth Online (CEO) tool developed by NASA SERVIR.  Analysts used image interpretation to classify each polygon as either ‘crop’, ‘non-crop’, ‘mixed’, or ‘unsure’; where the ‘crop’ and ‘non-crop’ labels was only selected if the sample region is homogeneously crop or non-crop.  Monthly Sentinel-2 mosaics, a two year NDVI time-series (2018-06 to 2020-06), and Bing ‘Aerial’ basemaps were available to assist the image interpretation. \n",
    "\n",
    "In total, around 11,000 training samples, and 1,800 validation samples were collected as shown in Figure 3 below.\n",
    "\n",
    "**Figure 3: Reference locations for the cropland extent maps.**\n",
    "\n",
    "_Left:_ Locations of the map validation samples, _Right:_ Locations of the training samples\n",
    "\n",
    "<img src=\"../_static/data_specs/Cropland_extent_spec/reference_points.png\" width=\"800\" align=\"left\"/>\n"
   ]
  },
  {
   "cell_type": "markdown",
   "metadata": {},
   "source": [
    "The accuracy of the method for collecting reference samples described above was independently evaluated by [Radiant Earth](https://www.radiant.earth/). Radiant Earth's team developed a visualisation app to validate a subset of labels collected using the CEO tool. The app retrieves Airbus SPOT imagery over the area of interest in four 6-month windows (covering the two-year of the training data specification). For each AEZ, the app would sequentially retrieve the images for each individual polygon, visualize all the available imagery and overlay the polygon on top of it. A member of Radiant's team would then interpret the class (Crop, No-Crop, Mixed) based on the guideline and examples provided by Digital Earth Africa, and record that in the app. After validating all polygons, a new GeoJSON file would be generated with the additional property for validation labels. The results of this independent validation of DE Africa's reference samples are shown in Table 4. The overall accuracy is 96.3 %, indicating that the reference samples are of a high quality and fit-for-purpose.\n",
    "\n",
    "**Table 4: Validation of the reference data samples**\n",
    "\n",
    "<img src=\"../_static/data_specs/Cropland_extent_spec/RE_validation_results.PNG\" width=\"350\" align=\"left\"/>\n"
   ]
  },
  {
   "cell_type": "markdown",
   "metadata": {},
   "source": [
    "### Validation results\n",
    "\n",
    "\n",
    "* The cropland extent map for **Eastern Africa** was validated using an isolated set of 300 samples (100 crop, 200 non-crop). The results are shown as a confusion matrix in Table 5.  The overall accuracy is 90.3%.  The producer's accuracy for the crop class is 81 % (omission error of 19 %), and the user's accuracy is 89 % (commission error of 11 %). \n",
    "\n",
    "**Table 5: Validation results for the Eastern Africa cropland extent map**\n",
    "\n",
    "<img src=\"../_static/data_specs/Cropland_extent_spec/eastern_validation_results.PNG\" width=\"400\" align=\"left\"/>\n"
   ]
  },
  {
   "cell_type": "markdown",
   "metadata": {},
   "source": [
    "* The cropland extent map for **Western Africa** was validated using an isolated set of 298 samples (97 crop, 201 non-crop). The results are shown as a confusion matrix in Table 6.  The overall accuracy is 83.6 %.  The producer's accuracy for the crop class is 74.2 % (omission error of 25.8 %), and the user's accuracy is 88.1 % (commission error of 11.9 %). \n",
    "\n",
    "**Table 6: Validation results for the Western Africa cropland extent map**\n",
    "\n",
    "<img src=\"../_static/data_specs/Cropland_extent_spec/western_validation_results.PNG\" width=\"410\" align=\"left\"/>"
   ]
  }
 ],
 "metadata": {
  "kernelspec": {
   "display_name": "Python 3",
   "language": "python",
   "name": "python3"
  },
  "language_info": {
   "codemirror_mode": {
    "name": "ipython",
    "version": 3
   },
   "file_extension": ".py",
   "mimetype": "text/x-python",
   "name": "python",
   "nbconvert_exporter": "python",
   "pygments_lexer": "ipython3",
   "version": "3.8.10"
  }
 },
 "nbformat": 4,
 "nbformat_minor": 4
}
