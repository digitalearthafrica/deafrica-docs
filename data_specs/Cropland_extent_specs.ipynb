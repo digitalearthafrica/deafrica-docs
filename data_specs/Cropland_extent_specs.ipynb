{
 "cells": [
  {
   "cell_type": "markdown",
   "metadata": {},
   "source": [
    "# Cropland extent map for Eastern Africa"
   ]
  },
  {
   "cell_type": "raw",
   "metadata": {
    "raw_mimetype": "text/restructuredtext"
   },
   "source": [
    ".. contents::\n",
    "   :local:"
   ]
  },
  {
   "cell_type": "markdown",
   "metadata": {},
   "source": [
    "**Date modified:** 20th June 2020"
   ]
  },
  {
   "cell_type": "markdown",
   "metadata": {},
   "source": [
    "> The Cropland extent map for Eastern Africa is currently a _provisional_ product generated from Sentinel 2 satellite observations, and will be operationalised in the latter part of 2021"
   ]
  },
  {
   "cell_type": "markdown",
   "metadata": {},
   "source": [
    "## Product overview"
   ]
  },
  {
   "cell_type": "markdown",
   "metadata": {},
   "source": [
    "### Background\n",
    "\n",
    "A central focus for governing bodies in Africa is the need to secure the necessary food sources to support their populations. It has been estimated that the current production of crops will need to double by 2050 to meet future needs for food production (GIS Geography, 2018). Higher level crop-based products that can assist with managing food insecurity, such as cropping watering intensities, crop types, or crop productivity, require as a starting point precise and accurate cropland extent maps indicating where cropland occurs. Current cropland extent maps are either inaccurate, have too coarse spatial resolutions, or are not updated regularly. An accurate, high-resolution, and regularly updated cropland area map for the African continent is therefore recognised as a gap in the current crop monitoring services.\n"
   ]
  },
  {
   "cell_type": "markdown",
   "metadata": {},
   "source": [
    "## Description\n",
    "\n",
    "Digital Earth Africa's cropland extent map for Eastern Africa shows the location of croplands in the countries of Tanzania, Kenya, Uganda, Ethiopia, Rwanda, and Burundi. Cropland is defined as:\n",
    "\n",
    "    \"a piece of land of minimum 0.04 ha (a single 10m x 10m pixel) that is sowed/planted and harvest-able at least once within the 12 months after the sowing/planting date.\"\n",
    "\n",
    "This definition will exclude non-planted grazing lands and perennial crops which can be difficult for satellite imagery to differentiate from natural vegetation.\n",
    "\n",
    "This provisional cropland extent map has a resolution of 10m, and was built using Copernicus Sentinel-2 satellite images from 2019.  The cropland extent map was produced using extensive training data from Eastern Africa, coupled with a Random Forest machine learning model. For a detailed exploration of the methods used to produce the cropland extent map, read the jupyter notebooks in DE Africa's [crop-mask](https://github.com/digitalearthafrica/crop-mask) github repository.\n",
    "\n",
    "An independent validation dataset suggests this product has an **overall accuracy of 90.3 %**. The algorithm tends to report more omission errors (labelling actual crops as non-crops) than commission errors (labelling non-crops as crops). Where commission errors occur they tend to be focussed around wetlands and seasonal grasslands (e.g. in the Serengeti) which spectrally resemble some kinds of cropping.\n",
    "\n",
    "The product contains three bands:\n",
    "   * `mask`: This band displays cropped regions as a binary map. Values of `1` indicate the presence of crops, while a value of `0` indicates the absence of cropping. This band is a _pixel-based_ cropland extent map, meaning the map displays the raw output of the pixel-based Random Forest classification.\n",
    "   * `prob`: This band displays the prediction probabilities for the 'crop' class. As this product used a random forest classifier, the prediction probabilities refer to the percentage of trees that voted for the random forest classification. For example, if the model had 200 decision trees in the random forest, and 150 of the trees voted 'crop', the prediction probability is **150 / 200 x 100 = 75 %**. Thresholding this band at 50.1 % will produce a map identical to `mask`. \n",
    "   * `filtered`: This band displays cropped regions as a binary map. Values of `1` indicate the presence of crops, while a value of `0` indicates the absence of cropping. This band is an _object-based_ cropland extent map, the `mask` band is filtered using image segmentation. During this process, segments smaller than 1 Ha (100 10m x 10m pixels) are merged with neighbouring segments, resulting in a map where the smallest classified region is 1 Ha is size. The 'filtered' summary is provided as this process removes small commission errors, and reduces the 'salt and pepper' effect typical of classifying pixels.\n",
    "   \n",
    "This product is accessible through OGC Web Service (https://ows.digitalearth.africa/), for analysis in DE Africa Sandbox JupyterLab (https://github.com/digitalearthafrica/deafrica-sandbox-notebooks/wiki) and for direct download from AWS S3 (https://data.digitalearth.africa/).\n",
    "\n"
   ]
  },
  {
   "cell_type": "markdown",
   "metadata": {},
   "source": [
    "### Specifications"
   ]
  },
  {
   "cell_type": "markdown",
   "metadata": {},
   "source": [
    "**Table 1: Cropland extent product specifications** "
   ]
  },
  {
   "cell_type": "markdown",
   "metadata": {},
   "source": [
    "|Specification | |\n",
    "|----------|-------------|\n",
    "|Product name| crop_mask_eastern |\n",
    "|Cell size - X (metres) | 10 |\n",
    "|Cell size - Y (metres) | 10 |\n",
    "|Coordinate reference system | EPSG: 6933 |\n",
    "|Temporal resolution | Annual |\n",
    "|Temporal range| 2019 |\n",
    "|Parent dataset| Sentinel-2 semi-annual geomedians |\n",
    "|Update frequency| Annual |"
   ]
  },
  {
   "cell_type": "markdown",
   "metadata": {},
   "source": [
    "**Table 2: Cropland extent measurements**"
   ]
  },
  {
   "cell_type": "markdown",
   "metadata": {},
   "source": [
    "|Band ID| Description |Value range| Data type| No data value|\n",
    "|----------|-------------|----------------|:---------:|:----------:|\n",
    "|mask | crop extent (pixel) |`0 - 1`| `uint8` | `255` |\n",
    "|prob | crop probability (pixel) |`0 - 100`| `uint8` | `255` |\n",
    "|filtered | crop extent (object-based) |`0 - 1`| `uint8` | `255` |"
   ]
  },
  {
   "cell_type": "markdown",
   "metadata": {},
   "source": [
    "**Figure 1: The dataset coverage for the Cropland extent map of Eastern Africa**"
   ]
  },
  {
   "cell_type": "markdown",
   "metadata": {},
   "source": [
    "<img src=\"../_static/data_specs/Cropland_extent_spec/crop_mask_eastern_extent.PNG\" width=\"500\" align=\"left\"/>"
   ]
  },
  {
   "cell_type": "markdown",
   "metadata": {},
   "source": [
    "### Media and example images"
   ]
  },
  {
   "cell_type": "markdown",
   "metadata": {},
   "source": [
    "### License\n",
    "\n",
    "CC BY Attribution 4.0 International License"
   ]
  },
  {
   "cell_type": "markdown",
   "metadata": {},
   "source": [
    "### Acknowledgments\n",
    "\n",
    "The WOfS algorithms incorporated in this product are the work of Norman Mueller, Geoscience Australia, and Dr Dale Roberts, Australian National University."
   ]
  },
  {
   "cell_type": "markdown",
   "metadata": {},
   "source": [
    "## Data Access"
   ]
  },
  {
   "cell_type": "markdown",
   "metadata": {},
   "source": [
    "## Technical information"
   ]
  },
  {
   "cell_type": "markdown",
   "metadata": {},
   "source": [
    "### Validation method\n",
    "\n",
    "\n"
   ]
  },
  {
   "cell_type": "markdown",
   "metadata": {},
   "source": [
    "### Validation results"
   ]
  },
  {
   "cell_type": "markdown",
   "metadata": {},
   "source": [
    "### Limitations and caveats"
   ]
  }
 ],
 "metadata": {
  "kernelspec": {
   "display_name": "Python 3",
   "language": "python",
   "name": "python3"
  },
  "language_info": {
   "codemirror_mode": {
    "name": "ipython",
    "version": 3
   },
   "file_extension": ".py",
   "mimetype": "text/x-python",
   "name": "python",
   "nbconvert_exporter": "python",
   "pygments_lexer": "ipython3",
   "version": "3.6.9"
  }
 },
 "nbformat": 4,
 "nbformat_minor": 4
}
