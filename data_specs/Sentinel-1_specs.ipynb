{
 "cells": [
  {
   "cell_type": "markdown",
   "metadata": {},
   "source": [
    "# Sentinel-1 SAR Backscatter"
   ]
  },
  {
   "cell_type": "raw",
   "metadata": {},
   "source": [
    ".. contents::\n",
    "   :local:"
   ]
  },
  {
   "cell_type": "markdown",
   "metadata": {},
   "source": [
    "**Date modified:** 24 March 2021"
   ]
  },
  {
   "cell_type": "markdown",
   "metadata": {},
   "source": [
    "## Product overview"
   ]
  },
  {
   "cell_type": "markdown",
   "metadata": {},
   "source": [
    "### Background"
   ]
  },
  {
   "cell_type": "markdown",
   "metadata": {},
   "source": [
    "Digital Earth Africa (DE Africa)'s Sentinel-1 backscatter product will be available to users in the second quarter of 2021. This product is developed to be compliant with the [CEOS Analysis Ready Data for Land](https://ceos.org/ard/) specifications. \n",
    "\n",
    "The Sentinel-1 mission, composed of a constellation of two C-band Synthetic Aperture Radar (SAR) satellites, are operated by ESA as part of the Copernicus Programme. The mission currently collects data every 12 days over Africa at a spatial resolution of approximately 20 m. \n",
    "\n",
    "Radar backscatter measures the amount of microwave radiation reflected back to the sensor from the ground surface. This measurement is sensitive to surface roughness, moisture content and viewing geometry. DE Africa provides Sentinel-1 backscatter as Radiometrically Terrain Corrected (RTC) gamma-0 (γ0) where variation due to changing observation geometries has been mitigated. \n",
    "\n",
    "The dual polarization (VV + VH) backcastter time series can be used in applications for forests, agriculture, wetlands and land cover classification. SAR’s ability to ‘see through’ clouds makes it critical for mapping and monitoring land cover changes in the wet tropics.\n"
   ]
  },
  {
   "cell_type": "markdown",
   "metadata": {},
   "source": [
    "### Specifications"
   ]
  },
  {
   "cell_type": "markdown",
   "metadata": {},
   "source": [
    "Coverage and metadata for the Sentinel-1 backscatter can be viewed on DE Africa's [Metadata Explorer](https://explorer.digitalearth.africa/products/s1_rtc).\n",
    "\n",
    "**Table 1: Sentinel-1 product specifications**\n",
    "\n",
    "|Specification | |\n",
    "|----------|-------------|\n",
    "|Product name| Sentinel-1 Radiometric Terrain Corrected SAR Backscatter | \n",
    "|Number of bands | 5 |\n",
    "|Cell size - X (degree) | 0.0002 |\n",
    "|Cell size - Y (degree) | 0.0002 |\n",
    "Coordinate reference system | EPSG: 4326 |\n",
    "|Temporal resolution | Every 12 days |\n",
    "|Temporal range|  2017-01-01  - Now |\n",
    "|Parent dataset|  [Sentinel-1 GRD](https://registry.opendata.aws/sentinel-1/) |\n",
    "|Update frequency| Daily |\n",
    "\n",
    "**Table 2: Sentinel-1 measurements**\n",
    "\n",
    "|Band ID| Description | Data type| No data value|\n",
    "|----------|-------------|:---------:|:----------:|\n",
    "|vv | Linear backscatter intensity in VV polarization | `float32` | `NaN` |\n",
    "|vh | Linear backscatter intensity in VH polarization | `float32` | `NaN` |\n",
    "|mask | Data mask | `uint8` | 0 |\n",
    "|area | Normalized scattering area | `float32` | `NaN` |\n",
    "|angle | Local incidence angle (degree) | `uint8` | 255 |\n",
    "\n",
    "**Table 3: Sentinel-1 data mask definition**\n",
    "\n",
    "| Value | Description |\n",
    "|----------|-------------|\n",
    "| 0 | Nodata|\n",
    "| 1 | Valid |\n",
    "| 2 | Invalid (in/near radar shadow) |"
   ]
  },
  {
   "cell_type": "markdown",
   "metadata": {},
   "source": [
    "### Processing"
   ]
  },
  {
   "cell_type": "markdown",
   "metadata": {},
   "source": [
    "DE Africa Sentinel-1 dataset is processed by Sinergise Sentinel Hub using ESA [Sentinel-1 GRD](https://registry.opendata.aws/sentinel-1/) as input. Radiometric terrain correction is applied using [Copernicus DEM](https://registry.opendata.aws/copernicus-dem/), following method developed in [D. Small 2011](https://doi.org/10.1109/TGRS.2011.2120616)."
   ]
  },
  {
   "cell_type": "markdown",
   "metadata": {},
   "source": [
    "### Media and example images"
   ]
  },
  {
   "cell_type": "markdown",
   "metadata": {},
   "source": [
    "TBA"
   ]
  },
  {
   "cell_type": "markdown",
   "metadata": {},
   "source": [
    "### Related services"
   ]
  },
  {
   "cell_type": "markdown",
   "metadata": {},
   "source": [
    "TBA"
   ]
  },
  {
   "cell_type": "markdown",
   "metadata": {},
   "source": [
    "### References"
   ]
  },
  {
   "cell_type": "markdown",
   "metadata": {},
   "source": [
    "D. Small, \"Flattening Gamma: Radiometric Terrain Correction for SAR Imagery,\" in IEEE Transactions on Geoscience and Remote Sensing, vol. 49, no. 8, pp. 3081-3093, Aug. 2011, doi: 10.1109/TGRS.2011.2120616. "
   ]
  },
  {
   "cell_type": "markdown",
   "metadata": {},
   "source": [
    "### License"
   ]
  },
  {
   "cell_type": "markdown",
   "metadata": {},
   "source": [
    "CC BY Attribution 4.0 International License"
   ]
  },
  {
   "cell_type": "markdown",
   "metadata": {},
   "source": [
    "### Acknowledgements"
   ]
  },
  {
   "cell_type": "markdown",
   "metadata": {},
   "source": [
    "## Data access"
   ]
  },
  {
   "cell_type": "markdown",
   "metadata": {},
   "source": [
    "### Amazon Web Services S3 "
   ]
  },
  {
   "cell_type": "markdown",
   "metadata": {},
   "source": [
    "DE Africa Sentinel-1 dataset is available in AWS S3 thanks to the Public Dataset Program.\n",
    "\n",
    "**Table 3: AWS data access details.**\n",
    "\n",
    "|AWS S3 details | |\n",
    "|----------|-------------|\n",
    "|Bucket path | `arn:aws:s3:::deafrica-sentinel-1`|\n",
    "\n",
    "The bucket is in the AWS region `af-south-1` (Cape Town). Additional region specifications can be applied as follows:\n",
    "\n",
    "`aws s3 ls --region=af-south-1 s3://deafrica-sentinel-1/`\n",
    "\n",
    "The file paths follow the format `s1_rtc/<tile_id>/<year>/<month>/<day>/<datatake_id>/<product-name>_<datatake_id>_<tile_id>_<year>_<month>_<day>_band.tif`.\n",
    "\n",
    "\n",
    "Digital Earth Africa public data can be explored at [https://data.digitalearth.africa/](https://data.digitalearth.africa/)."
   ]
  },
  {
   "cell_type": "markdown",
   "metadata": {},
   "source": [
    "### OGC Web Services (OWS)"
   ]
  },
  {
   "cell_type": "markdown",
   "metadata": {},
   "source": [
    "This product is available through DE Africa's OWS.\n",
    "\n",
    "**Table 5: OWS data access details.**\n",
    "\n",
    "|OWS details | |\n",
    "|----------|-------------|\n",
    "|Name | `DE Africa Services` |\n",
    "|Web Map Services (WMS) URL | `https://ows.digitalearth.africa/wms?version=1.3.0` |\n",
    "| Web Coverage Service (WCS) URL | `https://ows.digitalearth.africa/wcs?version=2.1.0`|\n",
    "| Layer name | *insert layer name here*|\n",
    "\n",
    "Digital Earth Africa OWS details can be found at [https://ows.digitalearth.africa/](https://ows.digitalearth.africa/).\n",
    "\n",
    "For instructions on how to connect to OWS, see [this tutorial](https://training.digitalearthafrica.org/en/latest/OWS_tutorial.html)."
   ]
  },
  {
   "cell_type": "markdown",
   "metadata": {},
   "source": [
    "### Open Data Cube (ODC)"
   ]
  },
  {
   "cell_type": "markdown",
   "metadata": {},
   "source": [
    "The Sentinel-1 dataset can be accessed through the DE Africa ODC API, which is available through the [DE Africa Sandbox](https://sandbox.digitalearth.africa/hub/login).\n",
    "\n",
    "**ODC product name:** `s1_rtc`\n",
    "\n",
    "Specific bands of data can be called by using either the default names or any of a band's alternative names, as listed in the table below. ODC `Datacube.load` commands without specified bands will load all bands.\n",
    "\n",
    "**Table 6: Sentinel-1 ODC band names.**\n",
    "\n",
    "|Band name| Alternative names|\n",
    "|----------|-------------|\n",
    "| vv | VV |\n",
    "| vh | VH |\n",
    "| mask | MASK |\n",
    "| area | AREA, normalised_scattering_area |\n",
    "| angle | ANGLE, local_incidence_angle |\n",
    "\n",
    "Band names are case-sensitive. \n",
    "\n",
    "For examples on how to use the ODC API, see the DE Africa [example notebook repository](https://github.com/digitalearthafrica/deafrica-sandbox-notebooks)."
   ]
  },
  {
   "cell_type": "markdown",
   "metadata": {},
   "source": [
    "## Technical information"
   ]
  },
  {
   "cell_type": "markdown",
   "metadata": {},
   "source": [
    "Radar backscatter measures the amount of microwave radiation reflected back to the sensor from the ground surface. \n",
    "Backcatter can be provided as Beta Naught (β0), Sigma Naught (σ0) or Gamma Naught (γ0), depend on the reference area used to estimate the backscatter. \n",
    "\n",
    "* β0 is measured in slant range plane\n",
    "* σ0 is measured relative to unit ground area\n",
    "* γ0 is measured relative to area perpendicular to the local look direction\n",
    "\n",
    "γ0 measurement is the least impacted by incidence angle variation of the signal. The figure below visualizes the respective reference area for the three types of measurement.\n",
    "\n",
    "\n",
    "Normalization areas for SAR backscatter.\n",
    "Source: Small (2011) ."
   ]
  },
  {
   "cell_type": "markdown",
   "metadata": {},
   "source": [
    "### Radiometric terrain correction"
   ]
  },
  {
   "cell_type": "markdown",
   "metadata": {},
   "source": [
    "### Geometric accuracy"
   ]
  }
 ],
 "metadata": {
  "kernelspec": {
   "display_name": "Python 3",
   "language": "python",
   "name": "python3"
  },
  "language_info": {
   "codemirror_mode": {
    "name": "ipython",
    "version": 3
   },
   "file_extension": ".py",
   "mimetype": "text/x-python",
   "name": "python",
   "nbconvert_exporter": "python",
   "pygments_lexer": "ipython3",
   "version": "3.6.9"
  }
 },
 "nbformat": 4,
 "nbformat_minor": 4
}
