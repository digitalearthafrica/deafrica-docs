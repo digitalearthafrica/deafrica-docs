{
 "cells": [
  {
   "cell_type": "markdown",
   "metadata": {},
   "source": [
    "# Sentinel-1 SAR Backscatter"
   ]
  },
  {
   "cell_type": "raw",
   "metadata": {
    "raw_mimetype": "text/restructuredtext"
   },
   "source": [
    ".. contents::\n",
    "   :local:"
   ]
  },
  {
   "cell_type": "markdown",
   "metadata": {},
   "source": [
    "**Date modified:** 23 August 2021"
   ]
  },
  {
   "cell_type": "markdown",
   "metadata": {},
   "source": [
    "## Product overview"
   ]
  },
  {
   "cell_type": "markdown",
   "metadata": {},
   "source": [
    "### Background"
   ]
  },
  {
   "cell_type": "markdown",
   "metadata": {},
   "source": [
    "The [Sentinel-1 mission](https://sentinel.esa.int/web/sentinel/missions/sentinel-1), composed of a constellation of two C-band Synthetic Aperture Radar (SAR) satellites, are operated by European Space Agency (ESA) as part of the Copernicus Programme. The mission currently collects data every 6 to 12 days over Africa at a spatial resolution of approximately 20 m.\n",
    "\n",
    "Radar backscatter measures the amount of microwave radiation reflected back to the sensor from the ground surface. This measurement is sensitive to surface roughness, moisture content and viewing geometry. DE Africa provides Sentinel-1 backscatter as Radiometrically Terrain Corrected (RTC) gamma-0 (γ0) where variation due to changing observation geometries has been mitigated. \n",
    "\n",
    "The dual polarisation backcastter time series can be used in applications for forests, agriculture, wetlands and land cover classification. SAR’s ability to ‘see through’ clouds makes it critical for mapping and monitoring land cover changes in the wet tropics."
   ]
  },
  {
   "cell_type": "markdown",
   "metadata": {},
   "source": [
    "<img src=\"../_static/data_specs/Sentinel-1_specs/CEOS_ARD_Logo_\" alt=\"CEOS ARD logo\" width=\"300\" align=\"left\"/>"
   ]
  },
  {
   "cell_type": "markdown",
   "metadata": {},
   "source": [
    "DE Africa's Sentinel-1 backscatter product is endorsed by the Committee on Earth Observation Satellites (CEOS) to be compliant with the [CEOS Analysis Ready Data (CARD)](https://ceos.org/ard/) specifications. This internationally-recognised certification ensures these products have been processed to a minimum set of requirements and organised into a form that allows immediate analysis with a minimum of additional user effort and interoperability both through time and with other datasets. "
   ]
  },
  {
   "cell_type": "markdown",
   "metadata": {},
   "source": [
    "A [Jupyter Notebook](https://github.com/digitalearthafrica/deafrica-sandbox-notebooks/blob/main/Datasets/Sentinel_1.ipynb) which demonstrates loading and using this dataset in the Sandbox is also available."
   ]
  },
  {
   "cell_type": "markdown",
   "metadata": {},
   "source": [
    "### Specifications"
   ]
  },
  {
   "cell_type": "markdown",
   "metadata": {},
   "source": [
    "Coverage and metadata for the Sentinel-1 backscatter can be viewed on DE Africa's [Metadata Explorer](https://explorer.digitalearth.africa/products/s1_rtc).\n",
    "\n",
    "**Table 1: Sentinel-1 product specifications**\n",
    "\n",
    "|Specification | |\n",
    "|----------|-------------|\n",
    "|Product name| Sentinel-1 Radiometric Terrain Corrected SAR Backscatter | \n",
    "|Instrument | C-SAR |\n",
    "|Frequency | C-band (5.405 GHz) |\n",
    "|Acquisition mode | Interferometric Wide swath (IW) |\n",
    "|Polarisation | VV + VH |\n",
    "|Number of bands | 5 |\n",
    "|Cell size - X (degree) | 0.0002 |\n",
    "|Cell size - Y (degree) | 0.0002 |\n",
    "Coordinate reference system | EPSG: 4326 |\n",
    "|Temporal resolution | Every 6 to 12 days |\n",
    "|Temporal range|  2018-07-01  &ndash; present |\n",
    "|Parent dataset|  [Sentinel-1 GRD](https://registry.opendata.aws/sentinel-1/) |\n",
    "|Update frequency| Daily |\n",
    "\n",
    "**Table 2: Sentinel-1 measurements**\n",
    "\n",
    "|Band ID| Description | Data type| No data value|\n",
    "|----------|-------------|:---------:|:----------:|\n",
    "|vv | Linear backscatter intensity in VV polarization | `float32` | `NaN` |\n",
    "|vh | Linear backscatter intensity in VH polarization | `float32` | `NaN` |\n",
    "|mask | Data mask | `uint8` | 0 |\n",
    "|area | Normalized scattering area | `float32` | `NaN` |\n",
    "|angle | Local incidence angle (degree) | `uint8` | 255 |\n",
    "\n",
    "**Table 3: Sentinel-1 data mask definition**\n",
    "\n",
    "| Value | Description |\n",
    "|----------|-------------|\n",
    "| 0 | Nodata|\n",
    "| 1 | Valid |\n",
    "| 2 | Invalid (in/near radar shadow) |"
   ]
  },
  {
   "cell_type": "markdown",
   "metadata": {},
   "source": [
    "### Processing"
   ]
  },
  {
   "cell_type": "markdown",
   "metadata": {},
   "source": [
    "DE Africa Sentinel-1 dataset is processed by Sinergise Sentinel Hub using ESA [Sentinel-1 GRD](https://registry.opendata.aws/sentinel-1/) as input. Radiometric terrain correction is applied using [Copernicus DEM](https://registry.opendata.aws/copernicus-dem/), following method developed in [D. Small 2011](https://doi.org/10.1109/TGRS.2011.2120616)."
   ]
  },
  {
   "cell_type": "markdown",
   "metadata": {},
   "source": [
    "### Media and example images"
   ]
  },
  {
   "cell_type": "markdown",
   "metadata": {},
   "source": [
    "<img src=\"../_static/data_specs/Sentinel-1_specs/s1_okavango.png\" alt=\"False color backscatter over Okavango\" width=\"600\" align=\"left\"/>"
   ]
  },
  {
   "cell_type": "markdown",
   "metadata": {},
   "source": [
    "**Figure 1: Sentinel-1 false color composite over an area in Okavango Delta, Botswana.**"
   ]
  },
  {
   "cell_type": "markdown",
   "metadata": {},
   "source": [
    "### Related services"
   ]
  },
  {
   "cell_type": "markdown",
   "metadata": {},
   "source": [
    "TBA"
   ]
  },
  {
   "cell_type": "markdown",
   "metadata": {},
   "source": [
    "### References"
   ]
  },
  {
   "cell_type": "markdown",
   "metadata": {},
   "source": [
    "D. Small, \"Flattening Gamma: Radiometric Terrain Correction for SAR Imagery,\" in IEEE Transactions on Geoscience and Remote Sensing, vol. 49, no. 8, pp. 3081-3093, Aug. 2011, doi: 10.1109/TGRS.2011.2120616. "
   ]
  },
  {
   "cell_type": "markdown",
   "metadata": {},
   "source": [
    "### License"
   ]
  },
  {
   "cell_type": "markdown",
   "metadata": {},
   "source": [
    "Access to Sentinel data is free, full and open for the broad Regional, National, European and International user community. View [Terms and Conditions](https://scihub.copernicus.eu/twiki/do/view/SciHubWebPortal/TermsConditions)."
   ]
  },
  {
   "cell_type": "markdown",
   "metadata": {},
   "source": [
    "## Data access"
   ]
  },
  {
   "cell_type": "markdown",
   "metadata": {},
   "source": [
    "### Amazon Web Services S3 "
   ]
  },
  {
   "cell_type": "markdown",
   "metadata": {},
   "source": [
    "DE Africa Sentinel-1 dataset is available in AWS S3, sponsored by the [Public Dataset Program](https://registry.opendata.aws/deafrica-sentinel-1/).\n",
    "\n",
    "**Table 4: AWS data access details.**\n",
    "\n",
    "|AWS S3 details | |\n",
    "|----------|-------------|\n",
    "|Bucket ARN | `arn:aws:s3:::deafrica-sentinel-1`|\n",
    "|Product name | `s1_rtc` |"
   ]
  },
  {
   "cell_type": "markdown",
   "metadata": {},
   "source": [
    "The bucket is in the AWS region `af-south-1` (Cape Town). Additional region specifications can be applied as follows:\n",
    "\n",
    "`aws s3 ls --region=af-south-1 s3://deafrica-sentinel-1/`\n",
    "\n",
    "The file paths follow the format `<product_name>/<tile_id>/<year>/<month>/<day>/<datatake_id>/`.\n",
    "\n",
    "The filenames follow the format `<product_name>_<datatake_id>_<tile_id>_<year>_<month>_<day>_<band>.<extension>.`"
   ]
  },
  {
   "cell_type": "markdown",
   "metadata": {},
   "source": [
    "**Table 5: AWS file path and name convention.**\n",
    "\n",
    "|File path element |  Description |Example |\n",
    "|----------|-------------|-----------------|\n",
    "|`productname`| Product name | `s1_rtc` | \n",
    "|`tile_id` | 1x1 deg tile labeld by southwest corner coordinates  | `N00E041` | \n",
    "| `year` | Observation year |  `2021` |\n",
    "| `month` | Observation month | `02` |\n",
    "| `day`| Observation day | `02` |\n",
    "| `datatake_id` | Sentinel-1 mission datatake ID (000001-FFFFFF) | `0445E6` |\n",
    "| `band`| band ID, `VV`, `VH`, `MASK`, `ANGLE`, `AREA`, `metadata` or `userdata` | `VV` |\n",
    "| `extension` | `.tif` for image files, `.json` or `.xml` for metadata files | `.tif` | \n",
    "\n",
    "For each Sentinel-1 tile, two metadata files are provided:\n",
    "\n",
    "* `_metadata.json` is a [STAC](https://stacspec.org/) compliant file.\n",
    "* `_metadata.xml` is a [CARD4L](https://ceos.org/ard/) compliant file."
   ]
  },
  {
   "cell_type": "markdown",
   "metadata": {},
   "source": [
    "### OGC Web Services (OWS)"
   ]
  },
  {
   "cell_type": "markdown",
   "metadata": {},
   "source": [
    "This product is available through DE Africa's OWS.\n",
    "\n",
    "**Table 6: OWS data access details.**\n",
    "\n",
    "|OWS details | |\n",
    "|----------|-------------|\n",
    "|Name | `DE Africa Services` |\n",
    "|Web Map Services (WMS) URL | `https://ows.digitalearth.africa/wms?version=1.3.0` |\n",
    "| Web Coverage Service (WCS) URL | `https://ows.digitalearth.africa/wcs?version=2.1.0`|\n",
    "| Layer name | s1_rtc |\n",
    "\n",
    "Digital Earth Africa OWS details can be found at [https://ows.digitalearth.africa/](https://ows.digitalearth.africa/).\n",
    "\n",
    "For instructions on how to connect to OWS, see [this tutorial](../web_services/index.ipynb)."
   ]
  },
  {
   "cell_type": "markdown",
   "metadata": {},
   "source": [
    "### Open Data Cube (ODC)"
   ]
  },
  {
   "cell_type": "markdown",
   "metadata": {},
   "source": [
    "The Sentinel-1 dataset can be accessed through the DE Africa ODC API, which is available through the [DE Africa Sandbox](https://sandbox.digitalearth.africa/hub/login).\n",
    "\n",
    "**ODC product name:** `s1_rtc`\n",
    "\n",
    "Specific bands of data can be called by using either the default names or any of a band's alternative names, as listed in the table below. ODC `Datacube.load` commands without specified bands will load all bands.\n",
    "\n",
    "**Table 7: Sentinel-1 ODC band names.**\n",
    "\n",
    "|Band name| Alternative names|\n",
    "|----------|-------------|\n",
    "| vv | VV |\n",
    "| vh | VH |\n",
    "| mask | MASK |\n",
    "| area | AREA, normalised_scattering_area |\n",
    "| angle | ANGLE, local_incidence_angle |\n",
    "\n",
    "Band names are case-sensitive. \n",
    "\n",
    "For examples on how to use the ODC API, see the DE Africa [example notebook repository](https://github.com/digitalearthafrica/deafrica-sandbox-notebooks)."
   ]
  },
  {
   "cell_type": "markdown",
   "metadata": {},
   "source": [
    "## Technical information"
   ]
  },
  {
   "cell_type": "markdown",
   "metadata": {},
   "source": [
    "### Radiometric terrain correction"
   ]
  },
  {
   "cell_type": "markdown",
   "metadata": {},
   "source": [
    "Radar backscatter can be provided as Beta Naught (β0), Sigma Naught (σ0) or Gamma Naught (γ0), depending on the reference area used to normalise the backscatter as shown in Figure 2.\n",
    "\n",
    "* β0 is normalised to an area defined in slant range plane\n",
    "* σ0 is normalised to ground area\n",
    "* γ0 is normalised to an area perpendicular to the line of sight\n"
   ]
  },
  {
   "cell_type": "markdown",
   "metadata": {},
   "source": [
    "<img src=\"../_static/data_specs/Sentinel-1_specs/small2011_fig2.gif\" alt=\"Normalization areas for SAR backscatter\" width=\"500\" align=\"left\"/>"
   ]
  },
  {
   "cell_type": "markdown",
   "metadata": {},
   "source": [
    "**Figure 2: Normalization areas for SAR backscatter.** Source: [Small 2011](https://doi.org/10.1109/TGRS.2011.2120616)."
   ]
  },
  {
   "cell_type": "markdown",
   "metadata": {},
   "source": [
    "When local terrain information is not available, an ellipsoidal Earth model can be used to define the reference areas. However, this may lead to significant inaccuracy in the normalised backscatter.\n",
    "\n",
    "Using knowledge of sensor geometry and a digital elevation model, local scattering (or illuminated) area can be esimated to achieve a radiometric terrain correction and minimise the impact of terrain on the measured backscatter. Such correction allows data collected with different viewing geometry to be combined or compared to detect real change on Earth surface."
   ]
  },
  {
   "cell_type": "markdown",
   "metadata": {},
   "source": [
    "<img src=\"../_static/data_specs/Sentinel-1_specs/rtc_lake_edward.png\" alt=\"Backscatter with and without RTC\" width=\"600\" align=\"left\"/>"
   ]
  },
  {
   "cell_type": "markdown",
   "metadata": {},
   "source": [
    "**Figure 3: Beta0 (left) and RTC Gamma0 (right) over an area near Lake Edward, Democratic Republic of the Congo. Backscatter variation due to terrain is minimized in RTC and contrast between different land cover types is increased.**"
   ]
  },
  {
   "cell_type": "markdown",
   "metadata": {},
   "source": [
    "### Geometric accuracy\n",
    "\n",
    "Absolute geometric accuracy of this product has been estimated to be within 6 metres (RMSE), using data processed over Corner Reflectors in Queensland Australia.\n"
   ]
  }
 ],
 "metadata": {
  "kernelspec": {
   "display_name": "Python 3 (ipykernel)",
   "language": "python",
   "name": "python3"
  },
  "language_info": {
   "codemirror_mode": {
    "name": "ipython",
    "version": 3
   },
   "file_extension": ".py",
   "mimetype": "text/x-python",
   "name": "python",
   "nbconvert_exporter": "python",
   "pygments_lexer": "ipython3",
   "version": "3.8.10"
  }
 },
 "nbformat": 4,
 "nbformat_minor": 4
}
