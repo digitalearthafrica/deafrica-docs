{
 "cells": [
  {
   "cell_type": "markdown",
   "id": "8bdbe333-348d-4487-a022-cf491a3a6309",
   "metadata": {},
   "source": [
    "# The odc-stac"
   ]
  },
  {
   "cell_type": "markdown",
   "id": "5fa44594-aa3d-4946-ab82-0e642ba64374",
   "metadata": {},
   "source": [
    "## What is the odc-stac?"
   ]
  },
  {
   "cell_type": "markdown",
   "id": "c711b29b-f659-4de1-b205-011bd2fb7024",
   "metadata": {},
   "source": [
    "The `odc-stac` is a set of tools for converting STAC metadata to the Open Data Cube data model.\n",
    "`odc-stac` allows you to load STAC items into `xarray` Datasets, and process them locally or disribute data loading and computation with [Dask](https://dask.org/)."
   ]
  },
  {
   "cell_type": "markdown",
   "id": "1a6628d9-aa3b-41fc-b8a4-6494e442f19c",
   "metadata": {},
   "source": [
    "The Open Data Cube (ODC) data model is based on 3 core concepts: Product, Dataset, Measurement.\n",
    "Datasets are a fundamental part of the ODC project. \n",
    "A dataset is *“The smallest aggregation of data independently described, inventoried, and managed”* (Definition of “Granule” from NASA EarthData Unified Metadata Model). \n",
    "A dataset can also be described as a container of metadata.\n",
    "Products are collections of datasets that share the same set of measurements and some subset of metadata.\n",
    "A measurement describes a single data variable of a Product or Dataset.\n",
    "For more information on the Open Data Cube project, see the [Open Data Cube website](https://www.opendatacube.org/) and the [Open Data Cube Manual](https://datacube-core.readthedocs.io/en/latest/)."
   ]
  },
  {
   "cell_type": "markdown",
   "id": "2d49a30f-2f40-4466-9889-35ac8430dd58",
   "metadata": {},
   "source": [
    "The SpatioTemporal Asset Catalog (STAC) specification is a newer specification developed to provide a common language to describe a range of geospatial information (spatial temporal assets) so it can be more easily indexed and discovered. \n",
    "A spatiotemporal asset is any file that represents information about the earth captured in a certain space and time.\n",
    "A UML diagram of the STAC model is provided [here](https://github.com/radiantearth/stac-spec/blob/master/STAC-UML.pdf#toolbar=0).\n",
    "\n",
    "There are 3 component specifications that together make up the core STAC specification. \n",
    "These are the STAC Item, STAC Catalog, and STAC Collection specifications. \n",
    "These specifications define related JSON object types connected by link relations. \n",
    "The STAC item object represents an unit of inseparable data and metadata, typically representing a single scene of data at one place at one time. \n",
    "The STAC Catalog is a very simple construct that provides a flexible structure to link various STAC Items or other STAC Catalogs together to be crawled or browsed.\n",
    "A STAC Collection provides additional information about a spatio-temporal collection of data by extending a STAC Catalog directly, layering on additional fields to enable description of things like the spatial and temporal extent of the data, the license, keywords, providers, etc. \n",
    "\n",
    "The STAC specification can be extended using stac-extensions. \n",
    "These extensions allow data providers to fully the describe the spatial information they wish to expose as SpatioTemporal Asset Catalogs (STAC). \n",
    "Extensions to the core STAC specification provide additional JSON fields that can be used to better describe spatial data. The Electro-Optical extension specification provides an STAC Item property, `eo:bands`. \n",
    "This property is used to describe the available spectral bands in a spatial-temporal asset. \n",
    "The band's `common_name` is the name that is commonly used to refer to that band's spectral properties. \n",
    "For more information on the STAC specification see the [STAC website](https://stacspec.org/) and the [STAC Github repository](https://github.com/radiantearth/stac-spec)."
   ]
  },
  {
   "cell_type": "markdown",
   "id": "66907103-1343-4064-838d-56ab012e4121",
   "metadata": {},
   "source": [
    "As seen in the above, ODC and STAC use different terminology for otherwise similar concepts. "
   ]
  },
  {
   "cell_type": "markdown",
   "id": "6c149f63-75e4-4a00-89d7-333c05ca74b9",
   "metadata": {},
   "source": [
    "**Table 1: Comparison between ODC and STAC concepts.**"
   ]
  },
  {
   "cell_type": "markdown",
   "id": "b0cec86d-019b-4ba7-a83c-cedb6764c12c",
   "metadata": {},
   "source": [
    "| STAC       | ODC                    | Description                                      | \n",
    "| :--        | :--                    | :--                                              |\n",
    "| [Collection](https://pystac.readthedocs.io/en/latest/api/pystac.html#pystac.Collection) | [Product](https://opendatacube.readthedocs.io/en/latest/about-core-concepts/products.html) or [DatasetType](https://datacube-core.readthedocs.io/en/latest/api/core-classes/datasetType.html#datacube.model.DatasetType) | Collection of observations across space and time |\n",
    "| [Item](https://pystac.readthedocs.io/en/latest/api/pystac.html#pystac.Item)      | [Dataset](https://datacube-core.readthedocs.io/en/latest/api/core-classes/dataset.html#datacube.model.Dataset)                | Single observation (specific time and place), multi-channel |\n",
    "| [Asset](https://pystac.readthedocs.io/en/latest/api/pystac.html#pystac.Asset)      | [Measurement](https://datacube-core.readthedocs.io/en/latest/api/core-classes/measurement.html#datacube.model.Measurement)           | Component of a single observation |\n",
    "| [Band](https://github.com/stac-extensions/eo#band-object)         | [Measurement](https://datacube-core.readthedocs.io/en/latest/api/core-classes/measurement.html#datacube.model.Measurement)             | Pixel plane within a multi-plane asset |\n",
    "| [Common Name](https://github.com/stac-extensions/eo#common-band-names)  | Alias                  | Refer to the same band by different  |"
   ]
  },
  {
   "cell_type": "markdown",
   "id": "9351b0d7-bb3f-4bac-8125-f772ef7e6200",
   "metadata": {},
   "source": [
    "## Why use odc-stac? "
   ]
  },
  {
   "cell_type": "markdown",
   "id": "f4a984b1-c8d6-42d2-96a5-933209467f33",
   "metadata": {},
   "source": [
    "The Open Data Cube (ODC) is an open source solution for accessing, managing, and analyzing large quantities of Geographic Information System (GIS) data - namely Earth observation (EO) data by presenting a common analytical framework composed of a series of data structures and tools which facilitate the organization and analysis of large gridded data collections."
   ]
  },
  {
   "cell_type": "markdown",
   "id": "142d3f81-8adc-4bfa-85a9-f88b93757724",
   "metadata": {},
   "source": [
    "The SpatioTemporal Asset Catalog (STAC) specification is a widely used open specification that allows providers of spatiotemporal assets (Imagery, SAR, Point Clouds, Data Cubes, Full Motion Video, etc) to expose their data as SpatioTemporal Asset Catalogs (STAC), so that new code doesn't need to be written whenever a new dataset or API is released."
   ]
  },
  {
   "cell_type": "markdown",
   "id": "65a78496-055f-472d-9cd1-bc2ee7b51ada",
   "metadata": {},
   "source": [
    "The `odc-stac` tooling allows indexing and loading of STAC compliant data into the Open Data Cube by transforming the associated metadata into a format understood by the Open Data Cube. \n",
    "This allows users to access Digital Earth Africa products outside of the Digital Earth Africa managed platforms like the Analysis Sandbox or Web Services for GIS platforms.\n",
    "Digital Earth Africa data is stored on Amazon Web Services in several publicly accessible S3 buckets.\n",
    "The Digital Earth Africa STAC endpoint is: https://explorer.digitalearth.africa/stac/.\n",
    "For an example on using the `odc-stac`, see the [Access Sentinel 2 Analysis Ready Data from Digital Earth Africa notebook](https://odc-stac.readthedocs.io/en/latest/notebooks/stac-load-S2-deafrica.html)."
   ]
  },
  {
   "cell_type": "markdown",
   "id": "099ab1a7-bbb9-4e51-9d4e-28aeb7f29100",
   "metadata": {},
   "source": [
    "For more on the `odc-stac` see the [odc-stac documentation](https://odc-stac.readthedocs.io/en/latest), the [example notebooks](https://odc-stac.readthedocs.io/en/latest/examples.html) and the [odc-stac Github repository](https://github.com/opendatacube/odc-stac)."
   ]
  },
  {
   "cell_type": "markdown",
   "id": "8d8cd34a-58f5-43ae-85e5-ce7f96f1b8d0",
   "metadata": {},
   "source": [
    "**References**"
   ]
  },
  {
   "cell_type": "markdown",
   "id": "db79208b-ad0f-48ab-bd2b-8a988f467070",
   "metadata": {},
   "source": [
    "[odc-stac Github repository](https://github.com/opendatacube/odc-stac)"
   ]
  },
  {
   "cell_type": "markdown",
   "id": "4a7f9e43-f8ed-4aec-869f-ea42bb0398ce",
   "metadata": {},
   "source": [
    "[odc-stac Documentation](https://odc-stac.readthedocs.io/en/latest)"
   ]
  },
  {
   "cell_type": "markdown",
   "id": "3a5fe85c-7058-4be0-947d-4076de8a8118",
   "metadata": {},
   "source": [
    "[STAC Github repository](https://github.com/radiantearth/stac-spec)"
   ]
  },
  {
   "cell_type": "markdown",
   "id": "6c429ab2-8639-4dda-8056-5e7edef14cd2",
   "metadata": {},
   "source": [
    "[STAC website](https://stacspec.org/)"
   ]
  },
  {
   "cell_type": "markdown",
   "id": "5edfd753-4fa3-47b0-9030-6ad4f99f512a",
   "metadata": {},
   "source": [
    "[STAC Electro-Optical (EO) Extension Specification Github repository](https://github.com/stac-extensions/eo#common-band-names)"
   ]
  },
  {
   "cell_type": "markdown",
   "id": "352f36c1-a8b9-4767-84da-56f0510cb891",
   "metadata": {},
   "source": [
    "[Open Data Cube Manual](https://datacube-core.readthedocs.io/en/latest/)"
   ]
  }
 ],
 "metadata": {
  "kernelspec": {
   "display_name": "Python 3 (ipykernel)",
   "language": "python",
   "name": "python3"
  },
  "language_info": {
   "codemirror_mode": {
    "name": "ipython",
    "version": 3
   },
   "file_extension": ".py",
   "mimetype": "text/x-python",
   "name": "python",
   "nbconvert_exporter": "python",
   "pygments_lexer": "ipython3",
   "version": "3.8.10"
  }
 },
 "nbformat": 4,
 "nbformat_minor": 5
}
