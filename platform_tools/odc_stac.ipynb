{
 "cells": [
  {
   "cell_type": "markdown",
   "id": "e884f6e5",
   "metadata": {
    "tags": []
   },
   "source": [
    "# odc-stac"
   ]
  },
  {
   "cell_type": "markdown",
   "id": "18f253df-3719-4221-853f-ddd0a16ae47c",
   "metadata": {},
   "source": [
    "## Background"
   ]
  },
  {
   "cell_type": "markdown",
   "id": "ef820e17-7276-4ad5-a72b-d42b17e379c6",
   "metadata": {},
   "source": [
    "### Why use odc-stac?\n",
    "\n",
    "The Digital Earth Africa Analysis Sandbox is a cloud-based user computational platform that operates through a managed Jupyter Lab environment. \n",
    "This environment provides users with direct access to an installed and pre-configured Open Data Cube instance containing all of Digital Earth Africa's earth observation data. \n",
    "The Analysis Sandbox also provides users with limited computing resources for interacting with and analyzing Digital Earth Africa's earth observation data. \n",
    "To use the Digital Earth Africa Analysis Sandbox, open http://sandbox.digitalearth.africa/ in your browser, and follow the instructions [here](https://docs.digitalearthafrica.org/en/latest/sandbox/access.html) to create an account and get started. \n",
    "\n",
    "Some of the limitations of using the Analysis Sandbox include:\n",
    "\n",
    "- Being a managed environment, the user is limited in how much they can customize the Analysis Sandbox to suit their needs. If you wish to use modules/packages outside the pre-loaded packages in the default Analysis Sandbox, you will need to reinstall them everytime you start up your Analysis Sandbox environment as they do not persist. \n",
    "\n",
    "- Carrying out an analysis over a large area like an entire country or for the entire continent of Africa can be challenging even with the larger 32GB environment  provided. \n",
    "\n",
    "- Accessing datasets from sources other than Digital Earth Africa requires downloading the data onto your local machine, then uploading the data into the Analysis Sandbox. "
   ]
  },
  {
   "cell_type": "markdown",
   "id": "c716bc44-3bb2-4a04-83f1-3269a294eef8",
   "metadata": {},
   "source": [
    "The `odc-stac` can is a suitable alternative to using the Analyis Sandbox. \n",
    "The `odc-stac` is a set of tools for converting [STAC](https://stacspec.org/en) metadata to the [Open Data Cube](https://www.opendatacube.org/) data model.\n",
    "`odc-stac` allows you to load STAC items into `xarray` Datasets, and process them locally or disribute data loading and computation with [Dask](https://dask.org/).\n",
    "\n",
    "**Table 1: Comparison between ODC and STAC concepts.**\n",
    "\n",
    "| STAC       | ODC                    | Description                                      | \n",
    "| :--        | :--                    | :--                                              |\n",
    "| [Collection](https://pystac.readthedocs.io/en/latest/api/pystac.html#pystac.Collection) | [Product](https://opendatacube.readthedocs.io/en/latest/about-core-concepts/products.html) or [DatasetType](https://datacube-core.readthedocs.io/en/latest/api/core-classes/datasetType.html#datacube.model.DatasetType) | Collection of observations across space and time |\n",
    "| [Item](https://pystac.readthedocs.io/en/latest/api/pystac.html#pystac.Item)      | [Dataset](https://datacube-core.readthedocs.io/en/latest/api/core-classes/dataset.html#datacube.model.Dataset)                | Single observation (specific time and place), multi-channel |\n",
    "| [Asset](https://pystac.readthedocs.io/en/latest/api/pystac.html#pystac.Asset)      | [Measurement](https://datacube-core.readthedocs.io/en/latest/api/core-classes/measurement.html#datacube.model.Measurement)           | Component of a single observation |\n",
    "| [Band](https://github.com/stac-extensions/eo#band-object)         | [Measurement](https://datacube-core.readthedocs.io/en/latest/api/core-classes/measurement.html#datacube.model.Measurement)             | Pixel plane within a multi-plane asset |\n",
    "| [Common Name](https://github.com/stac-extensions/eo#common-band-names)  | Alias                  | Refer to the same band by different  |"
   ]
  },
  {
   "cell_type": "markdown",
   "id": "2f448165-ff3a-4275-9d4e-457762e23af5",
   "metadata": {},
   "source": [
    "Digital Earth Africa stores a range of data products on Amazon Web Service's Simple Cloud Storage (S3) with free public access. \n",
    "Digital Earth Africa also provides a SpatioTemporal Asset Catalog (STAC) endpoint for listing or searching the metadata, e.g. bounding box (area of interest coordinates), collection and date and time, for this archive here: https://explorer.digitalearth.africa/stac.\n",
    "Using the STAC endpoint provided, the `odc-stac` module gives you the ability to access Digital Earth Africa's earth observation data outside of the Analysis Sandbox, on your own resources, whether locally or on a cloud service such as Amazon Web Services (AWS), from the python environment of your choice, in the same format (as an `xarray.Dataset`) as you would in the Analysis Sandbox. You can also use `odc-stac` to load other STAC compliant earth observation data as an `xarray.Dataset`."
   ]
  },
  {
   "cell_type": "markdown",
   "id": "d54379c4-7f75-46c0-ac41-672279219239",
   "metadata": {},
   "source": [
    "### Getting started with odc-stac\n",
    "\n",
    "Instructions on how to install the `odc-stac` module into your Python environment are provided [here](https://odc-stac.readthedocs.io/en/latest/intro.html#installation). \n",
    "\n",
    "Example notebooks on how you can use `odc-stac` can be viewed here:\n",
    "\n",
    "- [Access Sentinel 2 Analysis Ready Data from Digital Earth Africa](https://odc-stac.readthedocs.io/en/latest/notebooks/stac-load-S2-deafrica.html)\n",
    "\n",
    "- [Access Sentinel 2 Data from AWS](https://odc-stac.readthedocs.io/en/latest/notebooks/stac-load-e84-aws.html#)\n",
    "\n",
    "- [Access Sentinel 2 Data on Planetary Computer](https://odc-stac.readthedocs.io/en/latest/notebooks/stac-load-S2-ms.html)\n",
    "\n",
    "To download and run this notebooks, visit the [odc-stac Github repository](https://github.com/opendatacube/odc-stac/tree/develop/notebooks).\n",
    "\n",
    "For more on the `odc-stac` see the [odc-stac documentation](https://odc-stac.readthedocs.io/en/latest) and the [odc-stac Github repository](https://github.com/opendatacube/odc-stac)."
   ]
  },
  {
   "cell_type": "markdown",
   "id": "8ca1555e-cc5c-450f-ac68-00295d5fb623",
   "metadata": {},
   "source": [
    "## Description\n",
    "\n",
    "This notebook demonstrate a simple analysis workflow based on the Digital Earth Africa Annual Landsat-8 and Landsat-9 GeoMAD product. \n",
    "\n",
    "We will load the Annual Landsat-8 and Landsat-9 GeoMAD data using the `odc` `stac_load` function then calculate the Modified Normalized Difference Water Index (MNDWI).\n",
    "We will then compare the results of the water classification of the MNDWI index to the WOfS Annual Summaries product. "
   ]
  },
  {
   "cell_type": "markdown",
   "id": "8834e82f",
   "metadata": {},
   "source": [
    "## Load Packages"
   ]
  },
  {
   "cell_type": "code",
   "execution_count": 11,
   "id": "69cddc01",
   "metadata": {},
   "outputs": [],
   "source": [
    "import pprint\n",
    "\n",
    "import matplotlib.pyplot as plt\n",
    "import numpy as np\n",
    "import seaborn as sns\n",
    "from get_product_config import get_product_config\n",
    "from pystac_client import Client\n",
    "\n",
    "from odc.stac import configure_rio, stac_load"
   ]
  },
  {
   "cell_type": "markdown",
   "id": "d33ea655",
   "metadata": {},
   "source": [
    "## Set Collection Configuration"
   ]
  },
  {
   "cell_type": "markdown",
   "id": "3b881b22",
   "metadata": {},
   "source": [
    "The purpose of the configuration dictionary is to supply some optional STAC extensions that a data source might be missing. This missing information includes,  pixel data type, nodata value, unit attribute and band aliases. The configuration dictionary is passed to the `odc.stac.load` `stac_cfg=` parameter in order to supply the missing information at load time. \n",
    "\n",
    "The configuration is per collection per asset and is determined from the product's definition. The Annual Landsat-8 and Landsat-9 GeoMAD product definition is available at https://explorer.digitalearth.africa/products/gm_ls8_ls9_annual."
   ]
  },
  {
   "cell_type": "code",
   "execution_count": 13,
   "id": "ce651608",
   "metadata": {},
   "outputs": [
    {
     "name": "stdout",
     "output_type": "stream",
     "text": [
      "{'gm_ls8_ls9_annual': {'aliases': {'BCDEV': 'BCMAD',\n",
      "                                   'EDEV': 'EMAD',\n",
      "                                   'SDEV': 'SMAD',\n",
      "                                   'band_2': 'SR_B2',\n",
      "                                   'band_3': 'SR_B3',\n",
      "                                   'band_4': 'SR_B4',\n",
      "                                   'band_5': 'SR_B5',\n",
      "                                   'band_6': 'SR_B6',\n",
      "                                   'band_7': 'SR_B7',\n",
      "                                   'bcdev': 'BCMAD',\n",
      "                                   'bcmad': 'BCMAD',\n",
      "                                   'blue': 'SR_B2',\n",
      "                                   'count': 'COUNT',\n",
      "                                   'edev': 'EMAD',\n",
      "                                   'emad': 'EMAD',\n",
      "                                   'green': 'SR_B3',\n",
      "                                   'nir': 'SR_B5',\n",
      "                                   'red': 'SR_B4',\n",
      "                                   'sdev': 'SMAD',\n",
      "                                   'smad': 'SMAD',\n",
      "                                   'swir_1': 'SR_B6',\n",
      "                                   'swir_2': 'SR_B7'},\n",
      "                       'assets': {'BCMAD': {'data_type': 'float32',\n",
      "                                            'nodata': 'NaN',\n",
      "                                            'unit': '1'},\n",
      "                                  'COUNT': {'data_type': 'uint16',\n",
      "                                            'nodata': 0,\n",
      "                                            'unit': '1'},\n",
      "                                  'EMAD': {'data_type': 'float32',\n",
      "                                           'nodata': 'NaN',\n",
      "                                           'unit': '1'},\n",
      "                                  'SMAD': {'data_type': 'float32',\n",
      "                                           'nodata': 'NaN',\n",
      "                                           'unit': '1'},\n",
      "                                  'SR_B2': {'data_type': 'uint16',\n",
      "                                            'nodata': 0,\n",
      "                                            'unit': '1'},\n",
      "                                  'SR_B3': {'data_type': 'uint16',\n",
      "                                            'nodata': 0,\n",
      "                                            'unit': '1'},\n",
      "                                  'SR_B4': {'data_type': 'uint16',\n",
      "                                            'nodata': 0,\n",
      "                                            'unit': '1'},\n",
      "                                  'SR_B5': {'data_type': 'uint16',\n",
      "                                            'nodata': 0,\n",
      "                                            'unit': '1'},\n",
      "                                  'SR_B6': {'data_type': 'uint16',\n",
      "                                            'nodata': 0,\n",
      "                                            'unit': '1'},\n",
      "                                  'SR_B7': {'data_type': 'uint16',\n",
      "                                            'nodata': 0,\n",
      "                                            'unit': '1'}}}}\n"
     ]
    }
   ],
   "source": [
    "product_name = \"gm_ls8_ls9_annual\"\n",
    "# Set the profile to specify that the product is a Digital Earth Africa product.\n",
    "profile = \"deafrica\"\n",
    "config = get_product_config(product_name, profile)\n",
    "pprint.pprint(config)"
   ]
  },
  {
   "cell_type": "markdown",
   "id": "99dde76f",
   "metadata": {},
   "source": [
    "## Set AWS Configuration"
   ]
  },
  {
   "cell_type": "markdown",
   "id": "6c407166",
   "metadata": {},
   "source": [
    "Digital Earth Africa data is stored on S3 in Cape Town, Africa. To load the data, we must configure rasterio with the appropriate AWS S3 endpoint. This can be done with the `odc.stac.configure_rio` function. Documentation for this function is available at https://odc-stac.readthedocs.io/en/latest/_api/odc.stac.configure_rio.html#odc.stac.configure_rio.\n",
    "\n",
    "The configuration below must be used when loading any Digital Earth Africa data through the STAC API."
   ]
  },
  {
   "cell_type": "code",
   "execution_count": 21,
   "id": "232c0831",
   "metadata": {},
   "outputs": [
    {
     "ename": "AttributeError",
     "evalue": "module 'odc.stac' has no attribute 'configure_rio'",
     "output_type": "error",
     "traceback": [
      "\u001b[0;31m---------------------------------------------------------------------------\u001b[0m",
      "\u001b[0;31mAttributeError\u001b[0m                            Traceback (most recent call last)",
      "\u001b[0;32m/tmp/ipykernel_1005/1852879725.py\u001b[0m in \u001b[0;36m<module>\u001b[0;34m\u001b[0m\n\u001b[0;32m----> 1\u001b[0;31m odc.stac.configure_rio(\n\u001b[0m\u001b[1;32m      2\u001b[0m     \u001b[0mcloud_defaults\u001b[0m\u001b[0;34m=\u001b[0m\u001b[0;32mTrue\u001b[0m\u001b[0;34m,\u001b[0m\u001b[0;34m\u001b[0m\u001b[0;34m\u001b[0m\u001b[0m\n\u001b[1;32m      3\u001b[0m     \u001b[0maws\u001b[0m\u001b[0;34m=\u001b[0m\u001b[0;34m{\u001b[0m\u001b[0;34m\"aws_unsigned\"\u001b[0m\u001b[0;34m:\u001b[0m \u001b[0;32mTrue\u001b[0m\u001b[0;34m}\u001b[0m\u001b[0;34m,\u001b[0m\u001b[0;34m\u001b[0m\u001b[0;34m\u001b[0m\u001b[0m\n\u001b[1;32m      4\u001b[0m     \u001b[0mAWS_S3_ENDPOINT\u001b[0m\u001b[0;34m=\u001b[0m\u001b[0;34m\"s3.af-south-1.amazonaws.com\"\u001b[0m\u001b[0;34m,\u001b[0m\u001b[0;34m\u001b[0m\u001b[0;34m\u001b[0m\u001b[0m\n\u001b[1;32m      5\u001b[0m )\n",
      "\u001b[0;31mAttributeError\u001b[0m: module 'odc.stac' has no attribute 'configure_rio'"
     ]
    }
   ],
   "source": [
    "odc.stac.configure_rio(\n",
    "    cloud_defaults=True,\n",
    "    aws={\"aws_unsigned\": True},\n",
    "    AWS_S3_ENDPOINT=\"s3.af-south-1.amazonaws.com\",\n",
    ")"
   ]
  },
  {
   "cell_type": "markdown",
   "id": "93bd0b8b",
   "metadata": {},
   "source": [
    "## Connect to the Digital Earth Africa STAC Catalog"
   ]
  },
  {
   "cell_type": "code",
   "execution_count": null,
   "id": "85420312",
   "metadata": {},
   "outputs": [],
   "source": [
    "# Open the stac catalogue.\n",
    "catalog = Client.open(\"https://explorer.digitalearth.africa/stac\")"
   ]
  },
  {
   "cell_type": "markdown",
   "id": "25494cd6",
   "metadata": {},
   "source": [
    "## Find STAC Items to Load"
   ]
  },
  {
   "cell_type": "markdown",
   "id": "bc96eae1",
   "metadata": {},
   "source": [
    "### Define query parameters"
   ]
  },
  {
   "cell_type": "markdown",
   "id": "5c2be8ce",
   "metadata": {},
   "source": [
    ">**Note**: The Annual  Landsat-8 and Landsat-9 GeoMAD composite is available for the years **2021** - **present**."
   ]
  },
  {
   "cell_type": "markdown",
   "id": "aad6ed15",
   "metadata": {},
   "source": [
    "One way to set the study area/bounding box is to set a central latitude and longitude coordinate pair, `(central_lat, central_lon)`, then specify how many degrees to include either side of the central latitude and longitude, known as the `buffer`.\n",
    "Together, these parameters specify a square study area, as shown below:"
   ]
  },
  {
   "cell_type": "markdown",
   "id": "8599c37d",
   "metadata": {},
   "source": [
    "<img src=data:image/png;base64,iVBORw0KGgoAAAANSUhEUgAAAYcAAAFxCAYAAACY1WR6AAABP2lDQ1BJQ0MgUHJvZmlsZQAAKJFjYGASSCwoyGFhYGDIzSspCnJ3UoiIjFJgf8LAyMALhJIMOonJxQWOAQE+QCUMMBoVfLsGVA0El3VBZuU/k/OVlHfeeU1YLSF1XW8MpnoUwJWSWpwMpP8AcVJyQVEJAwNjApCtXF5SAGK3ANkiRUBHAdkzQOx0CHsNiJ0EYR8AqwkJcgayrwDZAskZiSlA9hMgWycJSTwdiQ21FwQ4go3M3YxNDQg4lXRQklpRAqKd8wsqizLTM0oUHIEhlKrgmZesp6NgZGAEtBIU3hDVn2+Aw5FRjAMhlrqDgcGkGSh4EyGW/Y6BYc8iBga+dwgxVX0g/zYDw6G0gsSiRLgDGL+xFKcZG0HY3NsZGFin/f//OZyBgV2TgeHv9f//f2/////vMgYG5lsMDAe+AQD5yl5yhXNSmAAAAFZlWElmTU0AKgAAAAgAAYdpAAQAAAABAAAAGgAAAAAAA5KGAAcAAAASAAAARKACAAQAAAABAAABh6ADAAQAAAABAAABcQAAAABBU0NJSQAAAFNjcmVlbnNob3Th8h9EAAAB1mlUWHRYTUw6Y29tLmFkb2JlLnhtcAAAAAAAPHg6eG1wbWV0YSB4bWxuczp4PSJhZG9iZTpuczptZXRhLyIgeDp4bXB0az0iWE1QIENvcmUgNS40LjAiPgogICA8cmRmOlJERiB4bWxuczpyZGY9Imh0dHA6Ly93d3cudzMub3JnLzE5OTkvMDIvMjItcmRmLXN5bnRheC1ucyMiPgogICAgICA8cmRmOkRlc2NyaXB0aW9uIHJkZjphYm91dD0iIgogICAgICAgICAgICB4bWxuczpleGlmPSJodHRwOi8vbnMuYWRvYmUuY29tL2V4aWYvMS4wLyI+CiAgICAgICAgIDxleGlmOlBpeGVsWERpbWVuc2lvbj4zOTE8L2V4aWY6UGl4ZWxYRGltZW5zaW9uPgogICAgICAgICA8ZXhpZjpVc2VyQ29tbWVudD5TY3JlZW5zaG90PC9leGlmOlVzZXJDb21tZW50PgogICAgICAgICA8ZXhpZjpQaXhlbFlEaW1lbnNpb24+MzY5PC9leGlmOlBpeGVsWURpbWVuc2lvbj4KICAgICAgPC9yZGY6RGVzY3JpcHRpb24+CiAgIDwvcmRmOlJERj4KPC94OnhtcG1ldGE+Cj53QhEAAC4JSURBVHgB7d0JlBXFucDxb2bYN5FNUBZZVCTyXGMkEo1Gg0tcg4pxASXqCZro80jUmBijR48+l/eiSd7xAHE3xuASccHg9kSNu8YF3DCiKKvKDgJDv/oKqum79J17596Zrrn973Nmbt/q6qrqX93pr5fqOzWBmYQJAQQQQACBiEBtZJ5ZBBBAAAEErADBgQ8CAggggECOAMEhh4QEBBBAAAGCA58BBBBAAIEcAYJDDgkJCCCAAAIEBz4DCCCAAAI5AgSHHBISEEAAAQQIDnwGEEAAAQRyBAgOOSQkIIAAAggQHPgMIIAAAgjkCBAcckhIQAABBBAgOPAZQAABBBDIESA45JCQgAACCCAg+q2s5Uxz584NJkyYEHTu3Fm/3ZUfDPgM8BngM5DAZ0D3wbov1n1yJaYaLaScGDlq1Cj5xz/+UU4RrIsAAgggUCGBH/7wh/L444+XXVrZwaGurk42btxYdkMoAIGkBAZInQySWnla1ifVBOpFoGICtbW1Ul9fX3Z5Zd9zIDCU3QcUkLDAWGkr46SdCQ9MCLR8gUrtk/l7aPmfBbagDIHtzVnDAdJG3GsZRbEqAlUlUPZlpZqamhyQMm9j5JRHAgJNJTD7xPGy+J77bfEdhu0ke739gog5LWdCoKUINNU+mL+ClvIJoJ0VF1g9631ZfO+DYbnZ78MFzCCQQgGCQwo7nU3eJDD3iv8SM5oigyNfWkYG3iCQEgGCQ0o6ms3MFIg7S7Dpf9tyNpG5Fu8QSI8AwSE9fc2WRgTmXp571uAWF1rm8vCKQLULEByqvYfZvhyB1e++J4sLnB1w9pBDRkIKBRitlMJOT/smb1yzVupXrgwZ/tl7J3vvYc+3npc22/S06bXt20td505hHmYQ8FWgqUYrtfJ1g2kXAk0lUNvePPBmftzUpmcPWbdwkbTu1cP8bAoObhmvCKRVgMtKae15thsBBBAoIEBwKIDDIgQQQCCtAgSHtPY8240AAggUECA4FMBhEQIIIJBWAYJDWnue7UYAAQQKCBAcCuCwCAEEEEirAMEhrT3PdocC7luE840XDzMxg0DKBAgOKetwNhcBBBAoRoDgUIwSeRBAAIGUCRAcUtbhbC4CCCBQjADBoRgl8iCAAAIpEyA4pKzD2VwEEECgGAGCQzFK5EEAAQRSJkBwSFmHs7l5BIJgU2JNTZ6FJCGQTgGCQzr7na1GAAEECgoQHArysBABBBBIpwDBIZ39zlYjgAACBQUIDgV5WIgAAgikU4DgkM5+Z6sRQACBggIEh4I8LEQAAQTSKUBwSGe/s9VRAYayRjWYR8AKEBz4ICCAAAII5AgQHHJISEAAAQQQIDjwGUAAAQQQyBEgOOSQkIAAAgggQHDgM4AAAgggkCNAcMghIQEBBBBAgODAZwABhrLyGUAgR4DgkENCAgIIIIAAwYHPAAIIIIBAjgDBIYeEBAQQQAABggOfAQQQQACBHAGCQw4JCQgggAACBAc+AwgggAACOQIEhxwSEtImEGweylpTU5O2TWd7EYgVIDjE0rAAAQQQSK8AwSG9fc+WI4AAArECBIdYGhYggAAC6RUgOKS379lyBBBAIFaA4BBLwwIEEEAgvQIEh/T2PVvuBPjiPSfBKwKhAMEhpGAGAQQQQMAJEBycBK8IIIAAAqEAwSGkYAYBBBBAwAkQHJwErwgggAACoQDBIaRgBgEEEEDACRAcnASvCCCAAAKhAMEhpGAmtQIMZU1t17Ph8QIEh3gbliCAAAKpFSA4pLbr2XAEEEAgXoDgEG/DEgQQQCC1AgSH1HY9G44AAgjECxAc4m1YggACCKRWgOCQ2q5nwxFAAIF4AYJDvA1L0iLAUNa09DTbWYIAwaEELLIigAACaREgOKSlp9lOBBBAoAQBgkMJWGRFAAEE0iJAcEhLT7OdCCCAQAkCBIcSsMiKAAIIpEWgVVo2lO1EoBSBZ555RmbMmCEnn3yy7LzzzqWsWlTeadOmycyZM2XDhg1y9NFHy3777WfXW7hwodx2223y6aefSt++feXcc8+V9u3bF1UmmRCopADBoZKalNUiBYLNQ1lramrC9uvO+4YbbpAhQ4ZUPDhcc801ctFFF4V1zZo1ywaHZcuWya677ioaINz0/e9/X/bZZx/3llcEmk2A4NBs1FSEwCaB66+/3s7cd999svvuu8uCBQvs+7vuussGBg0It99+u3z00UcydOhQ2BBIRIDgkAg7laZVYMWKFbJ48WLZbrvt5Nhjj7UMAwcOtK9z5syxryeddJL069fP/qTVie1OXoAb0sn3AS1oAQJ6dP/+++/Lxo0bc1qraatXr85J1wRNj66jl4506tKli32N/iq0TPPp5a+PP/44PNOIrqvzWs+aNWts8rp16+Sdd96xgSg7H+8RKEaA4FCMEnlSKzBv3jw59NBDpU+fPvYST/fu3eXqq6/O8Pj5z38uHTt2lPvvvz8jferUqTZdbyrrdMQRR0j//v3t/OzZs6W2ttb+/OUvf7GvU6ZMsctOOOEE+/6YY46x7/Wm9a9+9Svp2rWrDB482LZF23PnnXfa5e7XxRdfLB06dJA77rhDdtxxRxk+fLjNq2crTAiUKsBlpVLFyJ8qgUsvvVTatm0rp5xyiuiRvd6o1p1wz549Zfz48dZi/fr1Ga8OKDv94IMPtjv9hx56yJapO3+9Ca6jocaMGSMvvfSSPTPYc889ZYcddpCRI0faok477TQbCDTfBRdcIC+++KJMnz7dtkmDUjSI6AqnnnqqtG7dWkaNGiUffvihrcO1iVcEihYwp6plTaaiIPunrAJZGYFmFniuS7/g/6RrsGHZ8rDm888/336uzdF68Morr4Tpl19+uU3fZZddwrQzzjjDpt1zzz1hms7cfffdNv2ss84K0z/77DObNmzYsDDNzZhgY5fde++9Lil47bXXAhNAggEDBgTmDCBMnzx5ss271157hWmuza1atQrMMNwwnZnqFsje/+r7SkxcVjKSTCkXKPCtrCYYiNkBh0ATJkyQuro6ez1/1apVYXpTzTzxxBP2XsPYsWOlXbt29rkIvcx0yCGH2Cr1voLZEWRUb4KEHHTQQRlpvEGgVAGCQ6li5E+VQKdOnTK2V+856CUlnaLPI2RkquAbvSykkwYpvVTkfvQBOZ3Wrl0r2fcUGP5qafhVpgD3HMoEZPX0CdTX19uN1jOI6JR9BB9d1th5PUvQSe8fHHDAATnFaKDKN/IpJyMJCJQoQHAoEYzs6RJwQ0PdVi9atEi+/PJLe2nJHb3rCCGdND06xQ1vjeZpaH7QoEE2iz4sd+GFFzaUneUIVEyAy0oVo6SgahS45JJL7Cgit236dLM+T7DvvvvaAKHp2267rV388MMPu2zy6quvysSJE8P3jZ0ZMWKEXfWWW24RDUzRSdvhno2IpjOPQCUEOHOohCJlVK3A0qVLZf/997eXdfQSz6OPPmq3VZ87cNOPf/xjO7xVh5fqjeCtttrK5os+/Obylvqq5emP3pjW7106/vjjpVu3bjJ//nx55JFHRIOHGd1UarHkR6BBAc4cGiQiQxoF3P0EfaBMnznQZxM0MOg1fn1oTe8BuEkfTNNvUtVr/08++aQ8+OCD9ov0XCAxQ0td1vBsI5rmFro09+rSH3jgATn77LNl+fLlcuONN8pll10mN998s33gbfTo0S6buPXca7iAGQQaIVCj42EbsV64SvSbLF1imUW6YnhFoFkEnu/cV+pXrpJ9V8yTuk4dbZ1601nvN7jRSvoleBow3Pcg5WuYnino9yNpANGnmXVauXKl/cptF2w0TYfA6qijNm3a6Ntw0jr1PkXnzp3DtOiM/l3pV3lrmfqEtJ5BRCetX5dxgzqqUv3zTbUPJjhU/2eHLWxAIF9waGAVFiPgjUBTBQcuK3nTxTQEAQQQ8EeA4OBPX9ASBBBAwBsBgoM3XUFDEEAAAX8ECA7+9AUtQQABBLwRIDh40xU0BAEEEPBHgODgT1/QkqQE3Ghu878VmBBAYJMAwYFPAgIIIIBAjgDBIYeEBAQQQAABggOfAQQQQACBHAGCQw4JCQgggAACBAc+AwgggAACOQIEhxwSEhBAAAEECA58BlIv4L5FON8XmKUeB4DUChAcUtv1bDgCCCAQL0BwiLdhCQIIIJBaAYJDarueDUcAAQTiBQgO8TYsQQABBFIrQHBIbdez4QgggEC8AMEh3oYlCCCAQGoFCA6p7Xo2PBTgW1lDCmYQcAIEByfBKwIIIIBAKEBwCCmYQQABBBBwAgQHJ8ErAggggEAoQHAIKZhBAAEEEHACBAcnwSsCCCCAQChAcAgpmEEAAQQQcAIEByfBa3oFGMqa3r5ny2MFCA6xNCxAAAEE0itAcEhv37PlCCCAQKwAwSGWhgUIIIBAegUIDunte7YcAQQQiBUgOMTSsAABBBBIrwDBIb19z5YjgAACsQIEh1gaFqRGINi8pTWp2WI2FIEGBQgODRKRAQEEEEifAMEhfX3OFiOAAAINChAcGiQiAwIIIJA+AYJD+vqcLUYAAQQaFCA4NEhEBgQQQCB9AgSH9PU5W4wAAgg0KEBwaJCIDNUuEGz+VtaaGsayVntfs33FCxAcirciJwIIIJAaAYJDarqaDUUAAQSKFyA4FG9FTgQQQCA1AgSH1HQ1G4oAAggUL0BwKN6KnAgggEBqBAgOqelqNhQBBBAoXoDgULwVOatVYPNQVmEoa7X2MNvVCAGCQyPQWAUBBBCodgGCQ7X3MNuHAAIINEKA4NAINFZBAAEEql2A4FDtPcz2IYAAAo0QIDg0Ao1VEEAAgWoXIDhUew+zfQgggEAjBAgOjUBjlSoTYChrlXUom1MJAYJDJRQpAwEEEKgyAYJDlXUom4MAAghUQoDgUAlFykAAAQSqTIDgUGUdyuYggAAClRBoVYlCKAMBBBCopMCGDRvkyiuvlO7du8s555xTyaLDsqZNmyYzZ84Urevoo4+W/fbbzy6LSw9XTMlMjfn/uUE525rv/+6WWWQ5zWFdBEoWmNm6pwRmB/G99YulphXHSyUDNsEKK1askC5dukj//v1l7ty5Fa/hmmuukYsuuigsd9SoUTJ9+nSJSw8zejjTVPtg/hI87Gya1MwC7viIb2VtZvjkqrv++utt5ffdd5/svvvusmDBAvs+Lj25liZXM2cOydlTsycCM1v1kKC+Xr63YYnU1NV50qp0N6Mpzxxc2dttt53MmzcvhI5LDzN4OtNUZw7ckPa0w2kWAghsEVi3bp3Mnj1bvv766y2JkblvvvnG3juIJNnZ9evXy9q1azOSly1bZt/rZavoFJcezaMBRNuh7ck3aTvqzYGGTl988YXN697ny+9zGsHB596hbQggIJMmTZI+ffrIsGHD7A3qvffeWz755JNQZuHChdK+fXvZY489wjQ3o5eMOnToIEuWLLFJRxxxhL2PoW90J19bW2t/9t9//7zpb775pl3vjTfekD333FO22mor245OnTrJkUceKYsWLbLL9deqVatsXXpze+LEidK3b1+b9+KLLw7ztKQZ7jm0pN6irQikTODTTz+VM888U4YPHy7HHXecPP744/LKK6/IgQceKB988IG0MgMI9MhcB8HoWUL2pGm6TEck6XTwwQfbYPDQQw9J27Zt5ZhjjjH/ALDG7sS7du0q2em9e/eWWbNmyT777GPLOP3006VHjx5yxx13iI5q0hvZr7/+ui1j48aNoj8PP/yw/dlxxx2lV69e0rFjx+xmtYz3Bq6syWyljnbK+CmrQFZGoJkFnq3rHvyfdA02btjQzDVTXZzA8uXLw33KuHHjArOTt1nNWUJgdth22dSpU23a559/bt8PHTo0pzizg7bL5s+fHy777LPPbJo5EwnTdCYu3Zwh2Pw33XRTmF/bM3DgQJtugoFNj7bZBKHAXHoK8zflTPb+V99XYuKykpFkQgABPwX0yHvy5Mn2DEFbqO/HjBljG/viiy82eaPNTlaeeOIJad26tYwfP96ePUTPQrQBb731VkY79JLTnXfeadfJWNDC3nBZqYV1GM2tvIDuAHTKN+qj8rVRYikC7dq1k7qsEWTmDMEWofcamnrSm8qrV6+21ei9i3zT4sWLM5K7detmg1hGYgt8Q3BogZ1Gk8sX+Pe8L+X51+fIrDkL5JURJ8qijlvL4HMny9BBvWXY4N6y7x6DZWDf7uVXRAkVF3Cjf7KDhgvylazQnSXojeurrroqb9F6A7oaJ4JDNfYq2xQrsHT5Gvnv25+SqdPfkHpz89BOXXrZFw0U+nP/DJE6szMYfcju8p+nHihdu7SPLY8FTSugQ0b1Jq/unN2kN4h1GjBggH11R/Rffvmlfe9+6XrZw1jdsmJfdcSRXlLSsvRrPFrszeViNziSb4t4JJFZBKpRYM5nS+Toc26Wvz76mtSbS0ltO/WUjt0HSZc+w6Vr/73sq77XdF2u+TS/rseUjIA+uTx27Njw2QF9aO2ee+6xjdHhpzrpKCM3XNXdh9CduY4s0tFO5Ux6dqJDZ/Vs5brrrsspaunSpXY0VM6CKkjgCekq6EQ2oWEBPWMYfd4kmbdgqdS16SgdewyRutbtYlesX79WVi35SOrXrZK+vbvK1P85gzOIWK3KL3BPK7uShwwZIiNHjpQZM2aIGZ0kI0aMkBdeeMEtFjOiSW677Tb7HIRe5nnuuefk/fffD5eb0Uqiw1J10gDTr18/O3z13XffDfPEpWtZ+qV8etnqsMMOk912283eB9FA9NRTT8nbb78tO++8s7g2N9X3QYUNzZrJd6+sEpfYOHPIguZtdQr89g+P2MDQqm0n6dx7WMHAoAIaODSf5teAouszNZ+AXkbSnZ4+h6BfkKdnALfeeqv9DqTDDz9cHnkksz/0qF6fYfjqq69kypQpopeYdJTT6NGjbaOj9yfcvD4jEZ3i0jUo6YglfQjvscces/cerrjiChuAjjrqKBtotBzX5uxyo3U0Zt6M45V1XyxozKplrcOZQ1l8rNwSBF5791M5aeKtUlNbZy4d/YfUtmpTdLM3blgny+e/JcHGernr2nGy57f6F70uGcsT0FFCbdq0scNY9astzHMIMmjQIHsJKa5kzaejmHbYYQcbXPQhOP1x9yXcevo0s95L0PKjU1y6y7Ny5Ur7dLbee9Czj+xAoG3WIKMP2FVq2rBsubzYZyfpc+Y46XfhedKmzzYZRTfVmQPBIYOZN9UoMPHaB2Ta029Lu622k/Zd+5a8iWuWzpO1yz6XIw4YLtdOPKbk9VkBgXIENixdJi9svb0torZ9O+lz1mnS75fnhkGiqYIDl5XK6TXWbRECL7/1iW1nm46NG5rq1nPltIiNppFVKbBxzVr5/H/+V14evJvMOf8SWbdgy3c7VXqDMy+6Vbp0ykPAA4HFX620rahrFX8DulAz3XqLliyXZ2u21qfltmSPzGccwUXSM/LrmpFlmetsKTaaJ2Perp6//ox8cXVk1V/UOpGybAuj7yPzRW1LVv2Z6xSxXc20/VGXyCZm9F3xFjHbVaSFnjlkTzZI/PefZP7Nt8jZ0l7+It/IV7J5aHZ25ka+Jzg0Eo7VUiyw+YlqKxCZ3/ScdWkujVmntBrIXc0CG1evkR9KG5lvAsP9JkBUciI4VFKTsrwU6Nmtkyz8coXUb1hrRiGV/kCbrqdTrx5dZL/A/D+BSECIzmcMH4zJYwuKLMtcxy7d9CuSJ1qHLsxcJxJeYtbJyL+pgE11FJjPWCdabtHrbKkiu/3R97H1ROuMzptiS10nI3+B9kfbFZ3PqD7jjW3Mlg2NLMuoM5IeLdeuGFkWt86Gr5fKWz84aks9m+da9+whfS84R3a68D9ljf3u05wsZSUQHMriY+WWILD3f2xvb0ivW/Vlo25I63o6aTl2il5niMxHLh5sylfE78asU0SxZKkiAQ0O0al1r57SzwSFPhN+KnUdO8gaM4KpKSZuSDeFKmV6JTDmsD1te75ZsUB0aGopk+bX9XRy5ZSyPnkRKFtg89mFBoVB114ue3/8pvSd+AsbGMouu0ABBIcCOCyqDgF9NmHUyGH2WYVVSz40Z/bF3bjTfDa/ecZB1+cZh+r4PLS0ragxz2MMuu6KTUHhgp83eVBwPjzn4CR4rWoBvj6jqrs31RuXMeJrs0TG/YtG6hAcGgnHai1PQL9Ab/wld8oCMyRVhyq27djDfD1GZ/tdS7Wt28rG9eafw5vvUtrwzQr5ZpX5sj1zOt/b3ISecuXJMrhfj5a3wbQ4FQIEh1R0MxvZ1AJ5v7I7T6V8ZXceFJK8FCA4eNktNKqlCkT/2c97Hy+QT774Srbfthv/7KeldmiK201wSHHns+kIIIBAnEBTBQdGK8WJk44AAgikWIDgkOLOZ9MRQACBOAGCQ5wM6QgggECKBQgOKe58Nh0BBBCIEyA4xMmQjgACCKRYgOCQ4s5n0xFAAIE4AYJDnEwF0/Wfne+33372H6VXsFhvi3rmmWfkkksukdmzZ5fcxg0bNsjvfvc7+cMf/lDyuqxQWKBc23L6tXDLcpeecsopcvjhh8vGjcV9D1ZuCaSUK0BwKFewiPVvvvlmmTlzpnTu3LmI3C0/y7Rp0+Sqq66SF198seSNWbNmjVx22WVy7bXXlrwuKxQWKNe2nH4t3LLcpW3atJFHH31UZsyYkbuQlGYRIDg0MXN9fb388Y9/tLWMGTOmiWsrrvhHHnlEfvvb38q8efOKW6GF5FqxYoU967jzzjtbSIszm9nS25+5NeW9c38rf/7zn8sriLUbLUBwaDRdcSvqGcMXX3whe+21lwwePLi4lZo4l+48L7/8cnnnnXeauKbmLV6d9ayjpV6Sauntr2RvH3jggdKzZ0958MEHRS/LMjW/AMGhic3vv/9+W4M7EspX3VdffSXvvfeerF69Ot9im6ZHlXoNf926/P+s5ptvzDeKmrMUN3300UeybFnuPyZ3y+Neo+XozkrrjJar63322Wfy1ltvyeLFi+OKaZL0lStX2va8//77sn79+iapI1qobveHH35Y8AxLvxr5448/lgULNv1DoOj6Oq/XzPVyjpu0H7XMUq+lR8vRz4AG9mz/5vZx2+Re1UA/d3HbFt0GXaeQRV1dnYwePdp+3u+55x5XBa/NKWA+3GVNpq36T2wzfsoqsMpW3n333a3NK6+8krNlTzzxRLDjjjuGdm3btg3OPPPMYO3atWHe119/Pdhjjz0C8/0pNl/r1q2DI444Ili4cGGYx+wUgtra2uBHP/pRcNdddwW9e/e2eXUdcwQW5jVnMWE5rs80T5cuXWxZ0XIuuOCCMO/EiRMDszMOfv3rX4dlu/X32WefwAS2sC06c/7559v6zSWBjPRi3ixfvtyu279//zD7yy+/bLfD7DDsMq27Q4cOgbmvEeb5wQ9+ELZXl+t26c/1118f5il2xuy0grPOOito165dWN9OO+0UPPXUU2ER6nHxxRdbO2eh7nfccUeYR2d++ctf2jIef/xx22+tWrWy79X8lltuCfM21H5Xzu233x4MGDDAlqEe6lWMj1aUzzZsQBEz+frVBNDgiiuuCHr16hVaqZs5GArMEX9GqW4bGrJwK5mgYMs87bTTXBKveQTc5y/6midbyUnmK+vLm6INcvPllVg9a+tOXnfm6mKOqjI27KWXXgp3ZkceeWTwi1/8Ihg6dKjNa27C2bzvvvtuYG7M2R3/+PHjgwsvvDDYdtttbZ7ddtstMEdiNp/7o3f+AwcODMaNGxeY03Kb94QTTrD5/v3vfwcnnnhioDtezfud73zH/hH/7Gc/y1uOBq6RI0cG5lJNoO3VdXbYYYdAA4cZURRoGzRtxIgRdn33K99OxC1r6NVtSzQ4HHroodbBHEnaHZHuuNVF69YdjU7XXXddYEa32LSOHTva7dId1JNPPtlQlTnLDzvsMFuOtuHss88Ojj/+eNuP++67b5j35JNPtnl23nnnwFyiC3QdDdDaJnO2GOZzFpqunwUN4AcffLDNp8Fr1qxZNm9D7c8uZ9SoUcGgQYMCDWTF+Ggl+WzDhhYx49oQDfqnnnqq3ZZu3boF+hnVvtluu+1s2vDhwwMzQios2a3fkIVb4fnnn7fl7L///i6J1zwC6pn9kydbyUkEh5LJil/BnGLbTtOdgtuRu7X1A68dqjtZN+kf0u9///vA3Ci2SRo0NM9NN93kstgjeN35a/rDDz9s090fvaYdd9xxNo8ueOONN2w+PVqN/pHqTlPzPvbYY2G5OhMtR3dg5vJFuFx3QuZGdsZ2mMtWgRmBZcvSsw43uZ1AdCfiljX06toQDQ7PPfdc8Omnn2aseumll9p69azGTXoGo9ulQa+x09NPP23L2GabbcIzLi3LXMYJpkyZYot97bXXbGDXI3h1cdPkyZPtuub+kksKz6LUSbfDTUcffbTNG+3/Qu13ptqX7uDBlVWsTz5bV0Yxr64Nrl+dg54FmUtlYRHz588P+vXrZ7dPz3Tc5NYvxkLXmTt3ri1Dy2KKF9DPfPZPfO7il3DPwag21fT111/bos3RvvnHYzVhNXot+5///KeYoCHnnXdemK7XWc0ZhJgjLw3aYi472TzmiEx0jLr+6GR23PZVr/tHJ3NqL3fffbeYHYhNNkf2Ynaydr1FixZFsxac79Spk+hNa22fmzTNHB1nbIfZKYg5k7BZ4q65u/XLeTVH7GJ2EBlF6A1+ncyOKCO93DdmR2uLMGdeop5u+ta3viWnn366fav9ov0zduxYMZdQwr455JBD7HK9H6DLo9OVV14puh1uMoHfzn7++ecuqahXs4OVgw46KCNvc/pEKzYHJ6HDkCFDwkXm8pr89Kc/te+dZ7jQzBRroX835mxM1CjuXlu0XOYrK9CqssVRWlRg1apV9m3Xrl2jyfaGrn7YzZGn6A4236Q3g90NanN9PV+WnBuSuqNygcGt0KNHDzFH3WFZLr3Qq7lEkLFjdHn1ZqOOBNLnF3SnrNvnbnpn7wzdOpV41bJvu+02mTp1qnzyySeigc5csrNFV7pe3UadzCU++5rvl95Q1klHfOlP9qRtM2cUGX2rwTU6ab/o5Po4uqzQfL52NadPtG3Oatddd40m2/lddtnFvupnL3sq1kI/y+YSobVcunRp3s9kdtm8r5wAwaFyljkluYfeso9u3eiV6NlE9sruLEGPnPSBsnyTuTSRLzkjrVAdGRkbePPBBx/YI98lS5bI3nvvbc8idPv0DCN7+xooquTFenZ144032p2tnr3oEaXudDRYVHoqpW/MdX854IADcpqgQzDjgr7LXKl+0fKa08e1X1/d0bx+RrMnN8JNz4YbmuIs9OBDg6xO7du3b6gYlldYgOBQYdBocVtvvbV9q0MOdYioGY1k3+sZg056uqwffhdEbOLmX3379rWXdXT43znnnGOPoKLLKzFfynBQM7JGNDBoW8w9kLD6Z599tkmDg+4g/vSnP4mePb399tv2MplWPn369NjgUMp2hRuyeWb77be3czq0OG4yN4LtIjMSTcwggbhsjU4vpf2N8Wl0w7JWNPe+bIr2S/ZkBlPYJHfZMXt5Me/dQ5p6BpHvb6SYMsjTeIHckN/4slgzS0Cv9+sRj572R68t645Or2HrTuCGG24I19L3epniX//6l+gRlx6h6xGYGckS5nEzeprd2Esq7g/NjJRxxTX46v5QzY3aMK/uFNylhTCxwjN6L0PPotRDj8h10oCpD0dlT2679DkIzZM9PfDAA2KGn9rnErKXufff/va37awGw+h9GjOk2D5VrgvN6Ky8eTRR63WX2mymEn411P58RZXik2/9ctLcPRRz09le7nNl6WdFvzJGJzPs2iWX/Oo+c2bUXMnrskL5Apw5lG8YW4Lu0MxwPjHj0O0OyR1x6gq/+c1vRB+Mu+yyy+w1fA0keqNTH6jSm616Hffqq6+2X9inebQMvcGsZeo1fzPm3h5Jm6GUsfXHLdDApJMZn24fKjPPTIgZuRSX3aZ/97vftZeQNJjpQ3satG699VYxI2AKrlfuQj061RucuhPUS0rmeQAxw1cl341ODVzdu3e3T9Sa5y9Eb5KaoaPyk5/8xDbjmmuuETMkV7RM8zxJ3qYde+yxMmzYMNHAqWcG+uVv6qNfOWKeN7Ffz6E3hPVH+0v7yQx1Fb1Po5fXNJ8Gj3vvvTdv+YUSG2p/vnVL8cm3fjlpaqufixdeeMEeyGgg0M/n3//+dxtYjzrqKNEnnRs7maHXdlXtB6YEBMzRZ1mTaXKTDKMqq1EerXzRRRdZH3NdOKdVOjTS7MxCPx2ff+6552Y8BKfj9M3OKnwmQr3N2UhgdmLhMEodRmqu29px79mV6ENquo65kRsu0iGN3/ve98J63VDBQuWYo/fgjDPOCMfym1P9QIdjjjPPU2j5JqiF5buHnaLDGMOFDczka4O5dBWYnWDYXn3YbNKkSXabdZx9dNKHANXHfS7d8FPNY26S2vSHHnooukrOvBkMEOhzBGZHF5ajDzNqO9ykQ1j1GQh9GM/Vpa/6bMhf//pXly18CC7bwlwWs+tlP+AV1/5CpsX65LMNG1rETL426HBm3YaouX6m9QFBcyacUWq+9TVDnIUJLtZIhwgzxQtEP39uPj538UtqNKspsNFTvptJZRbZ6Lb4uOKrr74qeqlCh6fq107k89J0vXasR4HuvkT2tpg/bHvqrqM3dFhn9qgkHfWiR23Z6+tNQ71cpetlT3qkq0f+Wq9+C6ZOceW4dbUdehTfp08fW6aeQejonGj5emlF8zV0U9aVmf2arw1apl5m0O3WG9I6qZlub7aF3t/Ro0695+Mug+nZlh7R61nTm2++mbNOdhv0vd6cnjNnjujIIj17yTfpZ11vjuv2qomeQUSnQhZ6v0kvMWq/Rad87S9Ujq5brE8+22jdheYLtUGXqbn2h94vyzcVWj/bQj+XOpRYLynq582N7spXbtrT8u1TKrEPJjg0wydLd0h6mUIvhbjrtM1QLVVEBPQSiN7E1udL3H2FyGJmPRPQUXD6Px203/SrwpniBZoqOHDPId68YkvM103YB6j+9re/pS446GieYoac6tG/eeJWssfAV6IT9IxD79HofR4CwyZRNdFhuHo039Ck92eaYlRWoXrdPRv922FKRoDg0AzuJ510kpivAvDmK7ubYZPDKnSEkRu6Gybmmcm+NJQnS6OT9DKHXk5h2iKgT7/rsF33PMKWJblz2Q9x5uaofIreyNb/nmi+ZqbyhVNiUQJcViqKiUwIIICAnwJNdVmJ5xz87G9ahQACCCQqQHBIlJ/KEUAAAT8FCA5+9gutQgABBBIVIDgkyk/lCCCAgJ8CBAc/+4VWIYAAAokKEBwS5adyBBBAwE8BgoOf/UKrEEAAgUQFCA6J8lM5Aggg4KcAwcHPfqFVCCCAQKICBIdE+akcAQQQ8FOA4OBnv9AqBBBAIFEBgkOi/FSOAAII+ClAcPCzX2gVAgggkKgAwSFRfipHAAEE/BQgOPjZL7QKAQQQSFSA4JAoP5UjgAACfgoQHPzsF1qFAAIIJCpAcEiUn8oRQAABPwUIDn72C61CAAEEEhUgOCTKT+UIIICAnwIEBz/7hVYhgAACiQoQHBLlp3IEEEDATwGCg5/9QqsQQACBRAUIDonyUzkCCCDgpwDBwc9+oVUIIIBAogIEh0T5qRwBBBDwU4Dg4Ge/0CoEEEAgUQGCQ6L8VI4AAgj4KUBw8LNfaBUCCCCQqADBIVF+KkcAAQT8FCA4+NkvtAoBBBBIVIDgkCg/lSOAAAJ+ChAc/OwXWoUAAggkKkBwSJSfyhFAAAE/BQgOfvYLrUIAAQQSFSA4JMpP5QgggICfAgQHP/uFViGAAAKJChAcEuWncgQQQMBPAYKDn/1CqxBAAIFEBQgOifJTOQIIIOCnAMHBz36hVQgggECiAgSHRPmpHAEEEPBTgODgZ7/QKgQQQCBRAYJDovxUjgACCPgpQHDws19oFQIIIJCoAMEhUX4qRwABBPwUIDj42S+0CgEEEEhUgOCQKD+VI4AAAn4KEBz87BdahQACCCQqQHBIlJ/KEUAAAT8FCA5+9gutQgABBBIVIDgkyk/lCCCAgJ8CBAc/+4VWIYAAAokKEBwS5adyBBBAwE8BgoOf/UKrEEAAgUQFCA6J8lM5Aggg4KcAwcHPfqFVCCCAQKICBIdE+akcAQQQ8FOA4OBnv9AqBBBAIFEBgkOi/FSOAAII+ClAcPCzX2gVAgggkKgAwSFRfipHAAEE/BQgOPjZL7QKAQQQSFSA4JAoP5UjgAACfgoQHPzsF1qFAAIIJCpAcEiUn8oRQAABPwUIDn72C61CAAEEEhUgOCTKT+UIIICAnwIEBz/7hVYhgAACiQoQHBLlp3IEEEDATwGCg5/9QqsQQACBRAUIDonyUzkCCCDgpwDBwc9+oVUIIIBAogIEh0T5qRwBBBDwU4Dg4Ge/0CoEEEAgUQGCQ6L8VI4AAgj4KUBw8LNfaBUCCCCQqADBIVF+KkcAAQT8FCA4+NkvtAoBBBBIVIDgkCg/lSOAAAJ+ChAc/OwXWoUAAggkKkBwSJSfyhFAAAE/BQgOfvYLrUIAAQQSFSA4JMpP5QgggICfAgQHP/uFViGAAAKJChAcEuWncgQQQMBPAYKDn/1CqxBAAIFEBQgOifJTOQIIIOCnAMHBz36hVQgggECiAgSHRPmpHAEEEPBTgODgZ7/QKgQQQCBRAYJDovxUjgACCPgpQHDws19oFQIIIJCoAMEhUX4qRwABBPwUIDj42S+0CgEEEEhUgOCQKD+VI4AAAn4KEBz87BdahQACCCQqQHBIlJ/KEUAAAT8FCA5+9gutQgABBBIVIDgkyk/lCCCAgJ8CBAc/+4VWIYAAAokKEBwS5adyBBBAwE8BgoOf/UKrEEAAgUQFCA6J8lM5Aggg4KcAwcHPfqFVCCCAQKICBIdE+akcAQQQ8FOA4OBnv9AqBBBAIFEBgkOi/FSOAAII+ClAcPCzX2gVAgggkKgAwSFRfipHAAEE/BQgOPjZL7QKAQQQSFSA4JAoP5UjgAACfgoQHPzsF1qFAAIIJCpAcEiUn8oRQAABPwUIDn72C61CAAEEEhUgOCTKT+UIIICAnwIEBz/7hVYhgAACiQoQHBLlp3IEEEDATwGCg5/9QqsQQACBRAUIDonyUzkCCCDgpwDBwc9+oVUIIIBAogIEh0T5qRwBBBDwU4Dg4Ge/0CoEEEAgUQGCQ6L8VI4AAgj4KUBw8LNfaBUCCCCQqADBIVF+KkcAAQT8FCA4+NkvtAoBBBBIVIDgkCg/lSOAAAJ+CrRqimbV1NQ0RbGUiQACCCDQTAKcOTQTNNUggAACLUmg7OBQW1t2ES3Ji7YigAACXgtUap9c9p79oIMO8hqKxiGAAAJpEqjUPrns4DBp0iSZMGGCdO7cOU3+bCsCCCDglYDug3VfrPvkSkw1gZkqURBlIIAAAghUj0DZZw7VQ8GWIIAAAgg4AYKDk+AVAQQQQCAUIDiEFMwggAACCDgBgoOT4BUBBBBAIBQgOIQUzCCAAAIIOAGCg5PgFQEEEEAgFCA4hBTMIIAAAgg4AYKDk+AVAQQQQCAUIDiEFMwggAACCDgBgoOT4BUBBBBAIBQgOIQUzCCAAAIIOAGCg5PgFQEEEEAgFCA4hBTMIIAAAgg4AYKDk+AVAQQQQCAUIDiEFMwggAACCDgBgoOT4BUBBBBAIBQgOIQUzCCAAAIIOIH/B64z66yE1ZPkAAAAAElFTkSuQmCC width=\"250\" height=\"250\">"
   ]
  },
  {
   "cell_type": "code",
   "execution_count": null,
   "id": "3b7768a5",
   "metadata": {},
   "outputs": [],
   "source": [
    "# Set the central latitude and longitude.\n",
    "central_lat = -5.9460\n",
    "central_lon = 35.5188\n",
    "\n",
    "# Set the buffer to load around the central coordinates.\n",
    "buffer = 0.03\n",
    "\n",
    "# Compute the bounding box for the study area\n",
    "study_area_lat = (central_lat - buffer, central_lat + buffer)\n",
    "study_area_lon = (central_lon - buffer, central_lon + buffer)\n",
    "\n",
    "# Set the bounding box.\n",
    "# [xmin, ymin, xmax, ymax] in latitude and longitude (EPSG:4326).\n",
    "bbox = [study_area_lon[0], study_area_lat[0], study_area_lon[1], study_area_lat[1]]"
   ]
  },
  {
   "cell_type": "code",
   "execution_count": null,
   "id": "8bc1eb66",
   "metadata": {},
   "outputs": [],
   "source": [
    "# Set a start and end date.\n",
    "start_date = \"2021\"\n",
    "end_date = \"2021\"\n",
    "\n",
    "# Set the STAC collections.\n",
    "collections = [product_name]"
   ]
  },
  {
   "cell_type": "markdown",
   "id": "ae0818b4",
   "metadata": {},
   "source": [
    "### Construct a query and get items from the Digital Earth Africa STAC Catalog"
   ]
  },
  {
   "cell_type": "code",
   "execution_count": null,
   "id": "5bc5816d",
   "metadata": {},
   "outputs": [],
   "source": [
    "# Build a query with the set parameters\n",
    "query = catalog.search(\n",
    "    bbox=bbox, collections=collections, datetime=f\"{start_date}/{end_date}\"\n",
    ")\n",
    "\n",
    "# Search the STAC catalog for all items matching the query\n",
    "items = list(query.get_items())\n",
    "print(f\"Found: {len(items):d} datasets\")"
   ]
  },
  {
   "cell_type": "markdown",
   "id": "41ae69d7",
   "metadata": {},
   "source": [
    "## Load the GeoMAD data "
   ]
  },
  {
   "cell_type": "markdown",
   "id": "08f4883e",
   "metadata": {},
   "source": [
    "In this step, we specify the desired coordinate system, resolution (here 30m), and bands to load.  We will load 2 spectral satellite bands: `green` and `swir_1`. Since the band aliases are contained in the `config` dictionary, bands can be loaded using these aliases instead of the band number e.g. `\"swir_1\"` instead of `\"SR_B6\"`. \n",
    "\n",
    "We also pass the bounding box to the `stac_load` function to only load the requested data. The data will be lazy-loaded with dask, meaning that is won't be loaded into memory until necessary, such as when it is displayed."
   ]
  },
  {
   "cell_type": "code",
   "execution_count": null,
   "id": "ab9a2432",
   "metadata": {},
   "outputs": [],
   "source": [
    "# Specify the bands to load, the desired crs and resolution.\n",
    "measurements = (\"green\", \"swir_1\")\n",
    "crs = \"EPSG:6933\"\n",
    "resolution = 30"
   ]
  },
  {
   "cell_type": "code",
   "execution_count": null,
   "id": "9432bd1e",
   "metadata": {},
   "outputs": [],
   "source": [
    "# Load the dataset.\n",
    "ds_ls = stac_load(\n",
    "    items,\n",
    "    bands=measurements,\n",
    "    crs=crs,\n",
    "    resolution=resolution,\n",
    "    chunks={},\n",
    "    stac_cfg=config,\n",
    "    bbox=bbox,\n",
    ").squeeze()"
   ]
  },
  {
   "cell_type": "code",
   "execution_count": null,
   "id": "c5a384c2",
   "metadata": {},
   "outputs": [],
   "source": [
    "# View the xarray.Dataset.\n",
    "ds_ls"
   ]
  },
  {
   "cell_type": "markdown",
   "id": "75b1900a",
   "metadata": {
    "tags": []
   },
   "source": [
    "## Compute the MNDWI index\n",
    "\n",
    "After loading the data, you can perform standard `xarray` operations, such as calculating the Modified Normalized Difference Water Index (MNDWI).\n",
    "\n",
    "$$\n",
    "\\begin{aligned}\n",
    "\\text{MNDWI} = \\frac{\\text{Green} - \\text{SWIR}}{\\text{Green} + \\text{SWIR}}\n",
    "\\end{aligned}\n",
    "$$\n",
    "\n",
    ">**Note:** The `.compute()` method triggers Dask to load the data into memory."
   ]
  },
  {
   "cell_type": "code",
   "execution_count": null,
   "id": "38b15f6f",
   "metadata": {},
   "outputs": [],
   "source": [
    "# Normalize the data by dividing the data by 10,000.\n",
    "ds_ls = ds_ls / 10000\n",
    "# Calculate the MNDWI index.\n",
    "ds_ls[\"MNDWI\"] = (ds_ls.green - ds_ls.swir_1) / (ds_ls.green + ds_ls.swir_1)\n",
    "# Convert the xarray.Dataset to a DataArray.\n",
    "mndwi = ds_ls.MNDWI.compute()"
   ]
  },
  {
   "cell_type": "markdown",
   "id": "45fe781f",
   "metadata": {},
   "source": [
    "If a pixel's `MNDWI` value is greater than `0`, i.e. `MNDWI`>`0` then the pixel is classified as water."
   ]
  },
  {
   "cell_type": "code",
   "execution_count": null,
   "id": "d2b0ff2f",
   "metadata": {},
   "outputs": [],
   "source": [
    "water_mndwi = mndwi.where(mndwi > 0.5, np.nan)\n",
    "water_mndwi = water_mndwi.where(np.isnan(water_mndwi), 1)"
   ]
  },
  {
   "cell_type": "markdown",
   "id": "b824f667",
   "metadata": {},
   "source": [
    "## Load the WOfS Annual Summaries"
   ]
  },
  {
   "cell_type": "code",
   "execution_count": null,
   "id": "9be9ae54",
   "metadata": {},
   "outputs": [],
   "source": [
    "# Set the collection configuration.\n",
    "product_name = \"wofs_ls_summary_annual\"\n",
    "config = get_product_config(product_name, profile)\n",
    "\n",
    "# Set the STAC collections.\n",
    "collections = [product_name]\n",
    "\n",
    "# Build a query with the set parameters.\n",
    "query = catalog.search(\n",
    "    bbox=bbox, collections=collections, datetime=f\"{start_date}/{end_date}\"\n",
    ")\n",
    "\n",
    "# Search the STAC catalog for all items matching the query.\n",
    "items = list(query.get_items())\n",
    "print(f\"Found: {len(items):d} datasets\")"
   ]
  },
  {
   "cell_type": "code",
   "execution_count": null,
   "id": "5910d86d",
   "metadata": {},
   "outputs": [],
   "source": [
    "# Specify the bands to load.\n",
    "measurements = \"frequency\"\n",
    "\n",
    "# Load the dataset.\n",
    "ds_wofs_annual = stac_load(\n",
    "    items,\n",
    "    bands=measurements,\n",
    "    crs=crs,\n",
    "    resolution=resolution,\n",
    "    chunks={},\n",
    "    stac_cfg=config,\n",
    "    bbox=bbox,\n",
    ").squeeze()\n",
    "\n",
    "# View the xarray.Dataset.\n",
    "ds_wofs_annual"
   ]
  },
  {
   "cell_type": "code",
   "execution_count": null,
   "id": "f367c53e",
   "metadata": {},
   "outputs": [],
   "source": [
    "# Convert the xarray.Dataset to a DataArray.\n",
    "wofs_annual = ds_wofs_annual.frequency.compute()"
   ]
  },
  {
   "cell_type": "markdown",
   "id": "7c789852",
   "metadata": {},
   "source": [
    "If the frequency with which a pixel is classified as water is greater than `0.20`, i.e. `wofs_annual`  > `0.20`, then the pixel classified as regular open water during the year."
   ]
  },
  {
   "cell_type": "code",
   "execution_count": null,
   "id": "4f11dfa0",
   "metadata": {},
   "outputs": [],
   "source": [
    "water_wofs_annual = wofs_annual.where(wofs_annual > 0.20, np.nan)\n",
    "water_wofs_annual = water_wofs_annual.where(np.isnan(water_wofs_annual), 1)"
   ]
  },
  {
   "cell_type": "markdown",
   "id": "2ceab5f6",
   "metadata": {},
   "source": [
    "## Plot the MNDWI and WOfS water extents"
   ]
  },
  {
   "cell_type": "code",
   "execution_count": null,
   "id": "11f4905d",
   "metadata": {},
   "outputs": [],
   "source": [
    "# Plot.\n",
    "fig, ax = plt.subplots(1, 2, figsize=(14, 6))\n",
    "water_mndwi.plot(ax=ax[0])\n",
    "water_wofs_annual.plot(ax=ax[1])\n",
    "\n",
    "ax[0].set_title(\"Landsat 8-9 GeoMAD MNDWI water extent 2021\")\n",
    "ax[1].set_title(\"WOfS Annual Summary water extent 2021\")\n",
    "plt.tight_layout();"
   ]
  }
 ],
 "metadata": {
  "kernelspec": {
   "display_name": "Python 3 (ipykernel)",
   "language": "python",
   "name": "python3"
  },
  "language_info": {
   "codemirror_mode": {
    "name": "ipython",
    "version": 3
   },
   "file_extension": ".py",
   "mimetype": "text/x-python",
   "name": "python",
   "nbconvert_exporter": "python",
   "pygments_lexer": "ipython3",
   "version": "3.8.10"
  },
  "widgets": {
   "application/vnd.jupyter.widget-state+json": {
    "state": {},
    "version_major": 2,
    "version_minor": 0
   }
  }
 },
 "nbformat": 4,
 "nbformat_minor": 5
}
