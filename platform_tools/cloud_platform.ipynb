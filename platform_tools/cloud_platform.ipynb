{
 "cells": [
  {
   "cell_type": "markdown",
   "metadata": {},
   "source": [
    "# Accessing Cloud Computing Platforms"
   ]
  },
  {
   "cell_type": "markdown",
   "metadata": {},
   "source": [
    "Directly accessing Digital Earth Africa (DE Africa) data in an environment of choice provides significant advantages, including the flexibility to scale compute resources in the cloud and the ability to integrate DE Africa datasets with user-generated or third-party data. Beyond the DE Africa Sandbox, two widely adopted platforms—Google Colab and Amazon SageMaker Studio Lab—offer accessible options for running DE Africa workflows. \n",
    "\n",
    "[Google Colab](https://colab.research.google.com/) is a free, browser-based environment that comes preloaded with popular data science and geospatial libraries, GPU/TPU acceleration, and seamless integration with Google Drive and GitHub. [Amazon SageMaker Studio Lab](https://studiolab.sagemaker.aws/), in contrast, provides a JupyterLab-style interface with persistent storage, free CPU/GPU resources, and integration with AWS services, with the option to scale into full Amazon SageMaker for enterprise-level applications. By linking DE Africa’s Direct Data Access through these platforms, users can load and analyze Analysis Ready Data (ARD) products—such as Fractional Cover or Water Observations from Space—and fuse them with other datasets, enabling reproducible, large-scale analyses that are both collaborative and cloud-optimized.\n",
    "\n",
    "> Both Colab and SageMaker have free tiers that are sufficient for running most notebooks; however, for larger applications and upscaling, users may consider purchasing larger compute instances through commercial cloud providers"
   ]
  },
  {
   "cell_type": "markdown",
   "metadata": {},
   "source": [
    "## Setting Up DE Africa Direct Access\n",
    "\n",
    "To make it easier for users to start working with Digital Earth Africa datasets outside the Sandbox, a ready-to-use tutorial and demonstration notebook have been prepared. These resources guide you through the setup process and show how to load and analyze data using Direct Access packages."
   ]
  },
  {
   "cell_type": "markdown",
   "metadata": {},
   "source": [
    "### Steps to Get Started\n",
    "\n",
    "1. **Open the GitHub page**  \n",
    "   Go to the [Direct Access GitHub page](https://github.com/digitalearthafrica/deafrica-direct-access/blob/main/DEAfrica_loading_demonstration.ipynb).\n",
    "\n",
    "2. **Select the demonstration notebook**  \n",
    "   Open the notebook file `DEAfrica_loading_demonstration.ipynb`.\n",
    "\n",
    "3. **Launch in a cloud environment**  \n",
    "   Use the **“Open in Colab”** button (or copy the notebook into **Amazon SageMaker Studio Lab**).\n",
    "\n",
    "4. **Install the required packages**  \n",
    "   Follow the setup cells in the notebook to install and configure the **DE Africa Direct Access packages**.\n",
    "\n",
    "5. **Run the examples**  \n",
    "   Execute the notebook cells to load and visualize **Digital Earth Africa datasets** such as *USGS Landsat Collection 2 Level-2 Surface Reflectance*, *Water Observations*, or *GeoMAD composites*.  \n",
    "\n",
    "6. **Continue with more notebooks**  \n",
    "   Once you confirm the demonstration notebook runs successfully, explore the other notebooks provided in:  \n",
    "   - [Datasets folder](https://github.com/digitalearthafrica/deafrica-direct-access/tree/main/Datasets)  \n",
    "   - [Real World Examples folder](https://github.com/digitalearthafrica/deafrica-direct-access/tree/main/Real_world_examples)  \n",
    "   - [Use Cases folder](https://github.com/digitalearthafrica/deafrica-direct-access/tree/main/Use_cases)  \n",
    "\n",
    "\n",
    "   **Recommended order:**\n",
    "\n",
    "    \n",
    "   1. Start with the **Datasets** notebooks to practice loading and working with different Digital Earth Africa products.\n",
    "      \n",
    "   2. Move on to the **Real World Examples** to see how the data can be applied in practical analysis.\n",
    "  \n",
    "   3. Finally, explore the **Use Cases** to understand how DE Africa data and tools support decision-making across sectors.  \n",
    "\n",
    "   These additional notebooks also run on the online platforms (**Colab**, **SageMaker**) and will help you become more familiar with how **Direct Access** works in practice.\n"
   ]
  },
  {
   "cell_type": "markdown",
   "metadata": {},
   "source": [
    "### Accessing DE Africa Tools Outside the Sandbox\n",
    "\n",
    "Apart from having direct access to **Digital Earth Africa datasets**, many of the tools and functions available in the **DE Africa Sandbox** can also be used in external cloud environments. This means you are not limited to the Sandbox — the same functions can be imported and run in **Google Colab**, **Amazon SageMaker Studio Lab**, or other Jupyter-based environments.  \n",
    "\n",
    "Examples of available functions include:  \n",
    "- `deafrica_display_map` for interactive map visualization.  \n",
    "- `deafrica_rgb` plotting functions for quick rendering of satellite imagery.\n",
    "- `calculate_indices` for computing vegetation, water, and other spectral indices.  \n",
    "- `xr_rasterize` for converting vector data to raster grids. \n",
    "\n",
    "As demonstrated in the **loading notebook** — and other example notebooks — these functions work seamlessly once the required packages are installed, making it possible to replicate Sandbox workflows in any supported environment.  \n",
    "\n",
    "---\n",
    "\n",
    "> ⚠️ **Note:** Cloud computing platforms such as Google Colab and SageMaker Studio Lab have their own **core-based infrastructure** rather than a native **ODC environment**.  \n",
    "> - Functions that depend heavily on ODC (e.g., `dc.load` and `load_ard`) may not work as expected.  \n",
    "> - However, most Sandbox-supported functions that rely on widely used Python libraries such as **xarray**, **geopandas**, and **scipy** are fully supported and can be executed without issue.\n"
   ]
  },
  {
   "cell_type": "markdown",
   "metadata": {},
   "source": [
    "---\n",
    "\n",
    "## Conclusion  \n",
    "Using **DE Africa Direct Access** with cloud platforms like **Google Colab** and **Amazon SageMaker Studio Lab** gives users flexibility beyond the Sandbox. While some ODC-dependent workflows may not run natively, the majority of DE Africa tools and functions can be used effectively. This makes it possible to build reproducible, scalable, and collaborative workflows that integrate DE Africa datasets with other data sources, opening up broader opportunities for research, innovation, and decision-making.\n",
    "\n",
    "---\n",
    "\n",
    "## 💡 **Feedback**  \n",
    "If you have any feedback on **DE Africa data and services**, please contact us at:  \n",
    "📧 [helpdesk@digitalearthafrica.org](mailto:helpdesk@digitalearthafrica.org)\n",
    "\n",
    "---\n",
    "## 🚀 **Looking Ahead**  \n",
    "The **DE Africa team** will continue to improve these tools and services to make it easier for users to flexibly access, analyze, and integrate data in the environments of their choice."
   ]
  }
 ],
 "metadata": {
  "kernelspec": {
   "display_name": "Python 3 (ipykernel)",
   "language": "python",
   "name": "python3"
  },
  "language_info": {
   "codemirror_mode": {
    "name": "ipython",
    "version": 3
   },
   "file_extension": ".py",
   "mimetype": "text/x-python",
   "name": "python",
   "nbconvert_exporter": "python",
   "pygments_lexer": "ipython3",
   "version": "3.12.3"
  },
  "widgets": {
   "application/vnd.jupyter.widget-state+json": {
    "state": {},
    "version_major": 2,
    "version_minor": 0
   }
  }
 },
 "nbformat": 4,
 "nbformat_minor": 4
}
