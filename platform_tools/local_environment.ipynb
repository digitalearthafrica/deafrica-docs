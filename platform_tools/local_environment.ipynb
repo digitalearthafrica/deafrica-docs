{
 "cells": [
  {
   "cell_type": "markdown",
   "metadata": {},
   "source": [
    "# Local Environment"
   ]
  },
  {
   "cell_type": "markdown",
   "metadata": {},
   "source": [
    "Directly accessing Digital Earth Africa (DE Africa) data in a local environment also provides significant advantages, including the flexibility to configure compute resources on your own machine and the ability to integrate DE Africa datasets with user-generated or third-party data. Beyond the DE Africa Sandbox, users can install Python locally and run DE Africa workflows in environments such as Jupyter Notebook or JupyterLab, giving full control over package installation, storage, and processing."
   ]
  },
  {
   "cell_type": "markdown",
   "metadata": {},
   "source": [
    "## Setting up Google Service Account\n",
    "\n",
    "A [Google service account](https://cloud.google.com/iam/docs/service-account-overview) is a special type of Google account that belongs to your application or a virtual machine (VM), instead of to an individual end-user. It is typically used when your application needs to access Google Cloud services programmatically, without requiring human intervention.\n",
    "\n",
    "Follow the steps below create one service\n",
    "\n",
    "1. Go to [Google Cloud](https://console.cloud.google.com/)\n",
    "\n",
    "2. On the top left click on the `select a project`\n",
    "\n",
    "<img align=\"middle\" src=\"../_static/platform_tools/googledrive_access/1.jpg\" alt=\"\" width=\"500\">\n",
    "\n",
    "3. A dialogue box will open. On the top right of the dialogue box, click on `NEW PROJECT`.\n",
    "\n",
    "<img align=\"middle\" src=\"../_static/platform_tools/googledrive_access/2.jpg\" alt=\"\" width=\"500\">\n",
    "\n",
    "4. A new page will open, on the page either keep the default name or provide your own details, afterwards click on the `CREATE` button.\n",
    "\n",
    "<img align=\"middle\" src=\"../_static/platform_tools/googledrive_access/3.jpg\" alt=\"\" width=\"500\">\n",
    "\n",
    "5. A new page will open for you. In the top left, click on 3 horizontal line and choose `APIs AND Service`.Click on the `APIs and Service` choose `Credentials` on the left.\n",
    "\n",
    "<img align=\"middle\" src=\"../_static/platform_tools/googledrive_access/4.jpg\" alt=\"\" width=\"500\">\n",
    "\n",
    "6. At the `Credentials` page, click on `Create Credentials` and select `Service account`\n",
    "\n",
    "<img align=\"middle\" src=\"../_static/platform_tools/googledrive_access/5.jpg\" alt=\"\" width=\"500\">\n",
    "\n",
    "7. Fill in the details provided below, for this example, the `deafricaconnection` name was used, but you can use any name of your choice. Click on the `create and continue`\n",
    "\n",
    "<img align=\"middle\" src=\"../_static/platform_tools/googledrive_access/6.jpg\" alt=\"\" width=\"500\">\n",
    "\n",
    "8. The next step is to choose the role, `Grant this service account access to project`, under select role go to `Basic` and choose `Onwer`. After that click on `continue` and then click on `Done` buttton.\n",
    "\n",
    "<img align=\"middle\" src=\"../_static/platform_tools/googledrive_access/7.jpg\" alt=\"\" width=\"500\">\n",
    "\n",
    "10. The image below will show up, under the service account click on the edit button, and it will open the account created.\n",
    "\n",
    "<img align=\"middle\" src=\"../_static/platform_tools/googledrive_access/8.jpg\" alt=\"\" width=\"500\">\n",
    "\n",
    "\n",
    "11. On the detail page `copy the service account email` and keep it, as it will be used later on\n",
    "\n",
    "<img align=\"middle\" src=\"../_static/platform_tools/googledrive_access/9.jpg\" alt=\"\" width=\"500\">\n",
    "\n",
    "12. Click on the `KEYS`, at this section click on `ADD KEY` and choose `JSON`, click on `CREATE` button. A json file will be downloaded unto your machine and rename it to `credentials.json`\n",
    "\n",
    "<img align=\"middle\" src=\"../_static/platform_tools/googledrive_access/10.jpg\" alt=\"\" width=\"500\">"
   ]
  },
  {
   "cell_type": "markdown",
   "metadata": {
    "tags": []
   },
   "source": [
    "## Enabling Google API \n",
    "\n",
    "1. Visit https://console.cloud.google.com/apis/library/drive.googleapis.com\n",
    "\n",
    "2. Make sure the project you created is shown in the dropdown beside Google Cloud\n",
    "\n",
    "3. Click on the `ENABLE` button to enable the Google API"
   ]
  },
  {
   "cell_type": "markdown",
   "metadata": {},
   "source": [
    "## Setting up Google Drive Folder\n",
    "\n",
    "1. Open the Google Drive, and `Create` a folder, give it any name of your choice.\n",
    "\n",
    "2. Once the folder is created, right click on the folder and click on share.\n",
    "\n",
    "3. Share the folder with the service account email that was copied earlier, and set permission to `editor`. Click on `Done`.\n",
    "\n",
    "4. Open the created folder and copy the highlighed text in the url as shown in the image below as it will be used later on.\n",
    "\n",
    "<img align=\"middle\" src=\"../_static/platform_tools/googledrive_access/g1.jpg\" alt=\"\" width=\"500\">"
   ]
  },
  {
   "cell_type": "markdown",
   "metadata": {},
   "source": [
    "## Connecting Folder to DE Africa sandbox\n",
    "\n",
    "1. Log into your DE Africa Sandbox account.\n",
    "\n",
    "2. Locate the `Supplementary_data` Folder, open it and  look for `DriveCredentials` folder.\n",
    "\n",
    "3. Upload the `credential.json` file in the `DriveCredentials` folder.\n",
    "\n",
    "4. Create a text file on your desktop and remane it to `googledrive_id.txt`\n",
    "\n",
    "5. Open the text file and paste the text copied from the Google Drive folder url earlier on. \n",
    "\n",
    "6. Upload the `googledrive_id.txt` file in the `DriveCredentials` folder. if you want to use another folder in google drive,update the id in the `googledrive_id.txt` file.\n",
    "\n",
    "7. After the steps above, locate the notebook `Integrating_with_Google_Drive.ipynb` in the `Frequently_used_code` Folder in the DE Africa Sandbox. The `Integrating_with_Google_Drive.ipynb` notebook gives step by step guide on using python functions to upload and download files from your google drive."
   ]
  },
  {
   "cell_type": "markdown",
   "metadata": {},
   "source": [
    "# Direct Access on Local Environment vs Cube-in-a-Box\n",
    "\n",
    "Running **DE Africa Direct Access** in a local environment (e.g., installing Python and using Jupyter Notebook or JupyterLab) is different from using **Cube-in-a-Box**.  \n",
    "\n",
    "- In a **local setup**, you install the necessary Python packages and run notebooks directly on your own machine. This gives you flexibility and control, but some **ODC core functionalities** (e.g., `dc.load`) may not be fully available without additional setup.  \n",
    "\n",
    "- **Cube-in-a-Box**, on the other hand, comes prepackaged with a complete **Open Data Cube (ODC)** environment, fully configured inside a Docker container. This setup includes all ODC core functionality out-of-the-box and is designed for users who want a ready-to-use, fully featured data cube environment.  \n",
    "\n",
    "👉 If you want more information on **Cube-in-a-Box**, check it here: [Cube-in-a-Box Documentation](cube-in-a-box.ipynb)"
   ]
  }
 ],
 "metadata": {
  "kernelspec": {
   "display_name": "Python 3 (ipykernel)",
   "language": "python",
   "name": "python3"
  },
  "language_info": {
   "codemirror_mode": {
    "name": "ipython",
    "version": 3
   },
   "file_extension": ".py",
   "mimetype": "text/x-python",
   "name": "python",
   "nbconvert_exporter": "python",
   "pygments_lexer": "ipython3",
   "version": "3.12.3"
  },
  "widgets": {
   "application/vnd.jupyter.widget-state+json": {
    "state": {},
    "version_major": 2,
    "version_minor": 0
   }
  }
 },
 "nbformat": 4,
 "nbformat_minor": 4
}
