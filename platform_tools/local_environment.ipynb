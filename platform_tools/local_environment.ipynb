{
 "cells": [
  {
   "cell_type": "markdown",
   "metadata": {},
   "source": [
    "# Accessing DE Africa Data and Functionality via Local Environments"
   ]
  },
  {
   "cell_type": "markdown",
   "metadata": {},
   "source": [
    "Directly accessing Digital Earth Africa (DE Africa) data in a local environment also provides significant advantages, including the flexibility to configure compute resources on your own machine and the ability to integrate DE Africa datasets with user-generated or third-party data. Beyond the DE Africa Sandbox, users can install Python locally and run DE Africa workflows in environments such as Jupyter Notebook, JupyterLab, or even Python IDLE. For more advanced applications, DE Africa workflows can also be integrated into Python-based web services such as Django or Flask, enabling the development of interactive dashboards, APIs, and decision-support tools. This approach gives users full control over package installation, storage, and processing while extending DE Africa capabilities into web and operational systems.\n",
    "\n",
    "***"
   ]
  },
  {
   "cell_type": "markdown",
   "metadata": {},
   "source": [
    "## Getting Started in a Local Environment\n",
    "\n",
    "Before you can use **DE Africa Direct Access** locally, make sure the necessary software is installed. Using **Anaconda** is recommended because it simplifies environment management and brings most required packages into one place.  \n",
    "\n",
    "Alternatively, you can install **Python** directly and use **pip** to install the needed packages.  \n",
    "\n",
    "---\n",
    "\n",
    "#### 1. Install Anaconda\n",
    "- 📥 [Download Anaconda for Windows, macOS, and Linux](https://www.anaconda.com/download)  \n",
    "\n",
    "After installation, open your **terminal** (Command Prompt on Windows, Terminal on macOS/Linux) and create a new environment:   \n",
    "```bash\n",
    "conda create -n deafrica_env python=3.10\n",
    "conda activate deafrica_env\n",
    "````\n",
    "\n",
    "#### 2. Install Python (if not using Anaconda)\n",
    "\n",
    "📥 Download [Python for Windows](https://www.python.org/downloads/windows/) or  [ Python for macOS/Linux](https://www.python.org/downloads/)\n",
    "\n",
    "⚠️ On Windows: make sure to check the box “Add Python to PATH” during installation.\n",
    "\n",
    "After installation, open your terminal and confirm Python is installed:\n",
    "````bash\n",
    "python --version\n",
    "````\n",
    "\n",
    "#### 3. Install Required Packages Using pip\n",
    "Run the following in your terminal:\n",
    "\n",
    "````bash \n",
    "pip install pystac odc-stac osmnx pystac_client session-info odc-algo matplotlib deafrica-tools --quiet\n",
    "````\n",
    "\n",
    "#### 5. Install Jupyter Notebook or JupyterLab\n",
    "\n",
    "If you installed Anaconda, Jupyter Notebook and JupyterLab are already included.\n",
    "\n",
    "If you installed Python manually, add Jupyter using your terminal:\n",
    "````bash \n",
    "pip install notebook jupyterlab\n",
    "````\n",
    "\n",
    "Official guides:\n",
    "* [Jupyter Notebook Installation](https://jupyter.org/install)\n",
    "* [JupyterLab Installation](https://jupyterlab.readthedocs.io/en/stable/getting_started/installation.html)\n",
    "\n",
    "#### 5. To launch Jupyter after installation:\n",
    "\n",
    "To launch Jupyter after installation, run in your terminal:\n",
    "- **Start Jupyter Notebook**\n",
    "````bash\n",
    "jupyter notebook\n",
    "````\n",
    "\n",
    "- **Start JupyterLab**\n",
    "````bash\n",
    "jupyter lab\n",
    "````\n",
    "\n",
    "#### 6. After setup, you can run DE Africa Direct Access notebooks in:\n",
    "\n",
    "* Jupyter Notebook\n",
    "* JupyterLab\n",
    "* Python IDLE"
   ]
  },
  {
   "cell_type": "markdown",
   "metadata": {},
   "source": [
    "***\n",
    "### Troubleshooting\n",
    "\n",
    "#### hdstats build error (Windows/macOS/Linux)\n",
    "**Symptom**\n",
    "    *note: Failed building wheel for hdstats*\n",
    "    *ERROR: Failed to build installable wheels for some pyproject.toml based projects (hdstats)*\n",
    "\n",
    "✅ Here's how to fix it on Windows:\n",
    "\n",
    "#### 🔧 Step 1: Install Microsoft C++ Build Tools\n",
    "\n",
    "Go to this link:\n",
    "👉 [Visual Studio](https://visualstudio.microsoft.com/visual-cpp-build-tools/)\n",
    "\n",
    "#### Step 2: Click **Download Build Tools**\n",
    "\n",
    "#### Step 3: When the installer launches:\n",
    "\n",
    "* Select \"C++ build tools\"\n",
    "\n",
    "* Make sure “Windows 10 SDK” or \"Windows 11 SDK\" is also checked\n",
    "\n",
    "* Click Install\n",
    "\n",
    "* Once installed, restart your system (recommended)\n"
   ]
  },
  {
   "cell_type": "markdown",
   "metadata": {},
   "source": [
    "***\n",
    "### Local Environment vs Cube-in-a-Box\n",
    "\n",
    "Running **DE Africa Direct Access** in a local environment (e.g., installing Python and using Jupyter Notebook or JupyterLab) is different from using **Cube-in-a-Box**.  \n",
    "\n",
    "- In a **local setup**, you install the necessary Python packages and run notebooks directly on your own machine. This gives you flexibility and control, but some **ODC core functionalities** (e.g., `dc.load`) may not be fully available without additional setup.  \n",
    "\n",
    "- **Cube-in-a-Box**, on the other hand, comes prepackaged with a complete **Open Data Cube (ODC)** environment, fully configured inside a Docker container. This setup includes all ODC core functionality out-of-the-box and is designed for users who want a ready-to-use, fully featured data cube environment.  \n",
    "\n",
    "👉 If you want more information on **Cube-in-a-Box**, check it here: [Cube-in-a-Box Documentation](cube-in-a-box.ipynb)\n"
   ]
  },
  {
   "cell_type": "markdown",
   "metadata": {},
   "source": [
    "\n",
    "***\n",
    "### Accessing DE Africa Tools in a Local Environment\n",
    "\n",
    "In addition to cloud platforms, many of the tools and functions available in the **DE Africa Sandbox** can also be used in a **local environment** once the required packages are installed.  \n",
    "This means you can run workflows directly on your own machine using **Jupyter Notebook**, **JupyterLab**, or even **Python IDLE**.  \n",
    "For more advanced applications, DE Africa tools can also be integrated into **Python web frameworks** such as **Django** or **Flask**, enabling the development of interactive dashboards, APIs, and decision-support tools.  \n",
    "\n",
    "Examples of available functions include:  \n",
    "- `deafrica_display_map` for interactive map visualization.  \n",
    "- `deafrica_rgb` plotting functions for quick rendering of satellite imagery.  \n",
    "- `calculate_indices` for computing vegetation, water, and other spectral indices.  \n",
    "- `xr_rasterize` for converting vector data to raster grids.  \n",
    "\n",
    "As demonstrated in the **loading notebook** — and other example notebooks — these functions run effectively in local environments, making it possible to replicate Sandbox workflows while maintaining full control over your compute resources, storage, and package management.  \n",
    "\n",
    "---\n",
    "\n",
    "> ⚠️ **Note:** Local environments do not come preconfigured with a full **ODC core setup** (unlike [Cube-in-a-Box](cube-in-a-box.ipynb) or the [Sandbox](https://sandbox.digitalearth.africa/)).  \n",
    "> - Functions that depend on ODC (e.g., `dc.load` and `load_ard`) will not work without additional configuration.  \n",
    "> - However, most functions that rely on common Python libraries such as **xarray**, **geopandas**, and **scipy** are fully supported and run without issue.  \n",
    "\n",
    "---\n",
    "\n",
    "Local environments are ideal for users who want **full customization, offline control, and the flexibility to integrate DE Africa workflows into larger applications** while still benefiting from the majority of DE Africa tools outside the Sandbox.\n"
   ]
  },
  {
   "cell_type": "markdown",
   "metadata": {},
   "source": [
    "---\n",
    "\n",
    "## Conclusion  \n",
    "Using DE Africa Direct Access in a local environment such as Python with Jupyter Notebook, JupyterLab, or Python IDLE provides users with flexibility beyond the Sandbox. Moreover, the integration of DE Africa workflows into Python web frameworks like Django or Flask opens up opportunities to build interactive dashboards, web applications, and decision-support tools. While certain ODC-dependent workflows may require additional setup, most DE Africa tools and functions run effectively in these environments. This versatility enables researchers, developers, and institutions to create reproducible, scalable, and operational workflows, combining DE Africa datasets with other sources to support innovation and real-world decision-making.\n",
    "\n",
    "---\n",
    "\n",
    "## 💡 **Feedback**  \n",
    "If you have any feedback on **DE Africa data and services**, please contact us at:  \n",
    "📧 [helpdesk@digitalearthafrica.org](mailto:helpdesk@digitalearthafrica.org)\n",
    "\n",
    "---\n",
    "## 🚀 **Looking Ahead**  \n",
    "The **DE Africa team** will continue to improve these tools and services to make it easier for users to flexibly access, analyze, and integrate data in the environments of their choice."
   ]
  }
 ],
 "metadata": {
  "kernelspec": {
   "display_name": "Python 3 (ipykernel)",
   "language": "python",
   "name": "python3"
  },
  "language_info": {
   "codemirror_mode": {
    "name": "ipython",
    "version": 3
   },
   "file_extension": ".py",
   "mimetype": "text/x-python",
   "name": "python",
   "nbconvert_exporter": "python",
   "pygments_lexer": "ipython3",
   "version": "3.12.3"
  },
  "widgets": {
   "application/vnd.jupyter.widget-state+json": {
    "state": {},
    "version_major": 2,
    "version_minor": 0
   }
  }
 },
 "nbformat": 4,
 "nbformat_minor": 4
}
