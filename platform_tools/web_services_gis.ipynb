{
 "cells": [
  {
   "cell_type": "markdown",
   "metadata": {},
   "source": [
    "# Web Services for GIS"
   ]
  },
  {
   "cell_type": "markdown",
   "metadata": {},
   "source": [
    "## Web Map Service / Web Coverage Service"
   ]
  },
  {
   "cell_type": "markdown",
   "metadata": {},
   "source": [
    "A Web Map Service (WMS) is an Open Geospatial Consortium (OGC) standard that allows users to remotely access georeferenced map images via secure hypertext transfer protocol (HTTPS) requests.\n",
    "\n",
    "DE Africa provides two types of maps services:\n",
    "\n",
    "* Web Map Service (WMS) - A standard protocol for serving georeferenced map images over the internet that are generated from a map server using data from a GIS database. It is important to note that with a WMS, you are essentially getting an image of geospatial data (i.e. JPG, GIF, PNG file). While this has its uses, it is an image only, and therefore does not contain any of the underlying geospatial data that was used to create the image.\n",
    "* Web Coverage Service (WCS) - A standard protocol for serving coverage data which returns data with its original semantics (instead of just pictures) which may be interpreted, extrapolated, etc., and not just portrayed. Essentially, a WCS can be thought of as the raw geospatial raster data behind an image. Using a WCS, you can pull the raw raster information you need to perform further analysis.\n",
    "* Web Map Tile Service (WMTS) - A standard protocol for serving pre-rendered georeferenced map tiles over the internet, comparable to WMS. The primary distinction between WMS and WMTS is how data is supplied to the client; WMS delivers map data as a single image, whereas WMTS serves map data as a series of tiles pre-rendered on the server side at different scales and cached on the client-side resulting in faster delivery and less bandwidth.                                                                                                               \n",
    "\n",
    "\n",
    "So, to give a quick summarisation, a WMS is simply an image of a map. You can almost think of this like taking a screenshot of Google Maps. A WMTS is identical to a WMS, except that the images are pre-generated and saved as small map tiles that span the whole map area and at several scales. A WCS is the raw raster data, so for example, if you are working with a WCS containing Landsat imagery, you can effectively chunk off the piece you are interested in and download the full multispectral image at the spatial resolution of the original image. The beauty of these services is that you can grab only the information you need. So, rather than retrieving a file that contains the data you are seeking and possibly much more, you can confine your download to only your area of interest, allowing you to get what you need and no more.\n",
    "\n",
    "For more information, see this article on the [difference between GIS web services](https://www.l3harrisgeospatial.com/Learn/Blogs/Blog-Details/ArtMID/10198/ArticleID/16289/Web-Mapping-Service-Web-Coverage-Service-or-Web-Feature-Service-%E2%80%93-What%E2%80%99s-the-Difference).\n",
    "\n",
    "The tutorials below cover:\n",
    "\n",
    "* Setting up WMS\n",
    "* Adding WMS-T (time-supported) layers\n",
    "* Connecting to WCS\n",
    "* Connecting to WMTS\n",
    "\n",
    "The tutorials have been created with QGIS3 and ArcGIS Pro 3.0.3. The same processes can be used to connect other Desktop GIS applications. [QGIS](https://qgis.org/en/site/) is a free and open-source desktop GIS application. You can download it from https://qgis.org/en/site/."
   ]
  },
  {
   "cell_type": "markdown",
   "metadata": {},
   "source": [
    "## Tutorial: Setting up WMS"
   ]
  },
  {
   "cell_type": "markdown",
   "metadata": {},
   "source": [
    "This tutorial shows how to set up the Web Map Services in QGIS and ArcGIS Pro, and use it with other data on your computer such as drone imagery, vector or raster data. This may be useful for you if you cannot upload the data to the DE Africa Map or the DE Africa Sandbox due to uploading due to size or internet bandwidth. It may also be useful if you feel more comfortable doing analysis in a GIS application."
   ]
  },
  {
   "cell_type": "markdown",
   "metadata": {},
   "source": [
    "**How to connect to WMS using QGIS**"
   ]
  },
  {
   "cell_type": "markdown",
   "metadata": {},
   "source": [
    "1. Launch QGIS.\n",
    "2. On the Menu Bar click on **Layer**.\n",
    "3. A sub-menu tab will show below Layer; click on **Add Layer**, choose **Add WMS/WMTS Layer**.\n",
    "\n",
    "    <img align=\"middle\" src=\"../_static/platform_tools/web_services_gis/ows_tutorial_1.png\" alt=\"QGIS - Add Layer\" width=\"500\">\n",
    "\n",
    "4. A dialogue will open as shown below. Click on the **New** button.\n",
    "\n",
    "    <img align=\"middle\" src=\"../_static/platform_tools/web_services_gis/ows_tutorial_2.png\" alt=\"QGIS - New Layer\" width=\"500\">\n",
    "\n",
    "5. A dialogue will open, as shown below: Provide the following details, these can be found at the URL https://ows.digitalearth.africa/.\n",
    "\n",
    "    `Name: DE Africa Services`\n",
    "\n",
    "    `URL:  https://ows.digitalearth.africa/wms?version=1.3.0 `\n",
    "\n",
    "    <img align=\"middle\" src=\"../_static/platform_tools/web_services_gis/ows_tutorial_3.png\" alt=\"QGIS - Create New Connection\" width=\"300\">\n",
    "\n",
    "6. After providing the details above, click on **OK**.\n",
    "7. The previous dialogue will show up, in the dropdown above the **New** button, you will see DE Africa Services. If it is not there click the dropdown button below and select it.\n",
    "8. The **Connect** button will be activated, click on it to load the layers. Anytime this page is open, because the connection has already been established, click on **Connect** to load the data.\n",
    "\n",
    "    <img align=\"middle\" src=\"../_static/platform_tools/web_services_gis/ows_tutorial_4.png\" alt=\"QGIS - View Connection\" width=\"500\">\n",
    "\n",
    "9. The layer will be loaded as shown below in the dialogue.\n",
    "10. Navigate through layers and choose the layer you will need to display on the Map Page.\n",
    "11. After selecting the layer, click on **Add** button at the bottom of the dialogue.\n",
    "12. Close the dialogue, the selected layer will be loaded onto the Map Page.\n"
   ]
  },
  {
   "cell_type": "markdown",
   "metadata": {},
   "source": [
    "**How to connect to WMS using ArcGIS Pro**"
   ]
  },
  {
   "cell_type": "markdown",
   "metadata": {},
   "source": [
    "1. Launch ArcGIS Pro.\n",
    "2. On the Menu Bar click on **Insert**.\n",
    "3. In the **Project** group, click on **Connections** and a dropdown menu will appear below **Connections**; click on **Server** and choose **Add WMS Server**.\n",
    "\n",
    "    <img align=\"middle\" src=\"../_static/platform_tools/web_services_gis/ows_arcgis_tutorial_1.png\" alt=\"ArcGIS - Add WMS server\" width=\"500\">\n",
    "\n",
    "4. A dialogue will open, as shown below: Provide the server URL, which can be found at the URL https://ows.digitalearth.africa/.\n",
    "\n",
    "    `URL:  https://ows.digitalearth.africa/wms?version=1.3.0 `\n",
    "\n",
    "    <img align=\"middle\" src=\"../_static/platform_tools/web_services_gis/ows_arcgis_tutorial_2.png\" alt=\"ArcGIS - Create New WMS Connection\" width=\"300\">\n",
    "\n",
    "5. After providing the server URL above, click on **OK**.\n",
    "6. This will add the Digital Earth Africa WMS Server to the **Catalog** pane, under **Servers**.\n",
    "\n",
    "    <img align=\"middle\" src=\"../_static/platform_tools/web_services_gis/ows_arcgis_tutorial_3.png\" alt=\"ArcGIS - WMS to catalog\" width=\"500\">\n",
    "7. Navigate through layers and choose the layer you will need to display on the Map view.\n",
    "8. After selecting the layer, right click on the layer and select **Add to Current Map** (alternatively, you can drag and drop the layer onto the Map view).\n",
    "9. The selected layer will be loaded onto the Map view."
   ]
  },
  {
   "cell_type": "markdown",
   "metadata": {},
   "source": [
    "**For web developers**\n",
    "\n",
    "The sites below provide instructions on how to load these map services onto your platform.\n",
    "\n",
    "https://leafletjs.com/examples/wms/wms.html\n",
    "\n",
    "https://openlayers.org/en/latest/examples/wms-tiled.html\n",
    "\n",
    "https://docs.microsoft.com/en-us/bingmaps/v8-web-control/map-control-concepts/layers/wms-tile-layer-example\n",
    "\n"
   ]
  },
  {
   "cell_type": "markdown",
   "metadata": {},
   "source": [
    "## Tutorial: Add WMS-T (time-supported) layers"
   ]
  },
  {
   "cell_type": "markdown",
   "metadata": {},
   "source": [
    "Digital Earth Africa web services support WMS-T (WMS with time). WMS-T layers allow users to navigate different time periods."
   ]
  },
  {
   "cell_type": "markdown",
   "metadata": {},
   "source": [
    "**How to add WMS-T layers using QGIS** "
   ]
  },
  {
   "cell_type": "markdown",
   "metadata": {},
   "source": [
    "1. Connect to the Web Map Service in QGIS by following the instructions in [Setting up WMS tutorial](#Tutorial:-Setting-up-WMS).\n",
    "2. In the QGIS **Browser Panel** navigate to the **WMS/WMTS** provider item and expand it to show the **DE Africa Services** connection. \n",
    "\n",
    "    <img align=\"middle\" src=\"../_static/platform_tools/web_services_gis/ows_tutorial_7.png\" alt=\"QGIS - View Connection\" width=\"300\">\n",
    "\n",
    "3. Select a WMS-T layer from the **DE Africa Services** connection layers by either double clicking on the layer item in the **Browser Panel** or right clicking on it and selecting **Add Layer to Project** to add the layer onto the map canvas.\n",
    "\n",
    "    <img align=\"middle\" src=\"../_static/platform_tools/web_services_gis/ows_tutorial_8.png\" alt=\"QGIS - Add Temporal Layer to Project\" width=\"300\">\n",
    "\n",
    "4. The layer will be loaded in the **Layers Panel** with a clock symbol ![temporal indicator](../_static/platform_tools/web_services_gis/mIndicatorTemporal.svg) next it to indicate that it is a temporal layer. \n",
    "\n",
    "    <img align=\"middle\" src=\"../_static/platform_tools/web_services_gis/ows_tutorial_9.png\" alt=\"QGIS - View Temporal Layer in Layer Panel\" width=\"500\">\n"
   ]
  },
  {
   "cell_type": "markdown",
   "metadata": {},
   "source": [
    "**How to use the QGIS Temporal Controller with WMS-T layers**"
   ]
  },
  {
   "cell_type": "markdown",
   "metadata": {},
   "source": [
    "To use the **Temporal Controller** for WMS-T layers, ensure that in the Temporal section of the layer's **Layer Properties**, the **Dynamic Temporal Control** is selected. You can select the time range to be **Automatic** or **Fixed time range**.\n",
    "\n",
    "For the **Automatic** setting, the temporal handling is delegated to the data provider and time based filtering is applied to the features of the layer such that the features will be visualized for the animation range set by the **Temporal Controller**.\n",
    "    \n",
    "<img align=\"middle\" src=\"../_static/platform_tools/web_services_gis/ows_tutorial_10.png\" alt=\"QGIS - Dynamic Temporal Control - Automatic\" width=\"500\">\n",
    "    \n",
    "For the **Fixed time range** setting the user manually sets the temporal range in which all the features of the layer will be visualised only if the animation range from the **Temporal Controller**  is within this temporal range.\n",
    "    \n",
    "<img align=\"middle\" src=\"../_static/platform_tools/web_services_gis/ows_tutorial_11.png\" alt=\"QGIS - Dynamic Temporal Control - Fixed time range\" width=\"500\">\n",
    "    \n",
    "1. On the **Map Navigation Toolbar** select the clock symbol for the **Temporal Controller Panel** to activate the **Temporal Controller** dock widget. \n",
    "\n",
    "    <img align=\"middle\" src=\"../_static/platform_tools/web_services_gis/ows_tutorial_12.png\" alt=\"QGIS - Activate Temporal Controller Dock Widget\" width=\"500\">\n",
    "\n",
    "    **Temporal controller** dock widget activated after click on the **Temporal Controller** toolbar icon.\n",
    " \n",
    "    <img align=\"middle\" src=\"../_static/platform_tools/web_services_gis/ows_tutorial_13.png\" alt=\"QGIS - Temporal Controller Dock Widget\" width=\"500\">\n",
    "\n",
    "3. To turn on the Fixed range temporal navigation, select the **Fixed range temporal navigation** icon ![Temporal Navigation Fixed Range](../_static/platform_tools/web_services_gis/mTemporalNavigationFixedRange.svg) on the **Temporal Controller Panel** and set the time range for the layer features to be visualized. \n",
    "\n",
    "    <img align=\"middle\" src=\"../_static/platform_tools/web_services_gis/ows_tutorial_14.png\" alt=\"QGIS - Fixed Range Temporal Navigation\" width=\"500\">\n",
    "\n",
    "4. To turn on the Animated temporal navigation, select the **Animated temporal navigation** icon ![Temporal Navigation Animated](../_static/platform_tools/web_services_gis/mTemporalNavigationAnimated.svg) on the **Temporal Controller Panel**, and set animation range and the time step for the animation.  \n",
    "\n",
    "    <img align=\"middle\" src=\"../_static/platform_tools/web_services_gis/ows_tutorial_15.png\" alt=\"QGIS - Animated Temporal Navigation - Animation Range\" width=\"500\">\n",
    "\n",
    "    &#8291;\n",
    "    \n",
    "    <img align=\"middle\" src=\"../_static/platform_tools/web_services_gis/ows_tutorial_16.png\" alt=\"QGIS - Animated Temporal Navigation - Time Step\" width=\"500\">\n",
    "\n",
    "5. Click on the **Play** icon ![play](../_static/platform_tools/web_services_gis/forward.svg) to view the animation. \n",
    "\n",
    "    <img align=\"middle\" src=\"../_static/platform_tools/web_services_gis/ows_tutorial_17.gif\" alt=\"QGIS - Play Animation\" width=\"500\">\n",
    "\n",
    "6. To rewind the animation to the beginning i.e. the start of the animation range, click on the **Rewind to start** icon ![rewindToStart](../_static/platform_tools/web_services_gis/rewindToStart.svg).\n",
    "\n",
    "    <img align=\"middle\" src=\"../_static/platform_tools/web_services_gis/ows_tutorial_28.gif\" alt=\"QGIS - Rewind Animation to Start\" width=\"500\">\n",
    "\n",
    "7. To go back to the previous frame of the animation, click on the **Go to previous frame** icon ![previous](../_static/platform_tools/web_services_gis/previous.svg). The time difference (time step) between consecutive frames is determined by the **Step** defined by the user. \n",
    "\n",
    "    <img align=\"middle\" src=\"../_static/platform_tools/web_services_gis/ows_tutorial_29.gif\" alt=\"QGIS - Rewind Animation to Previous Frame\" width=\"500\">\n",
    "\n",
    "8. To rewind the animation, click on the **Reverse** icon ![back](../_static/platform_tools/web_services_gis/back.svg).\n",
    "\n",
    "    <img align=\"middle\" src=\"../_static/platform_tools/web_services_gis/ows_tutorial_30.gif\" alt=\"QGIS - Rewind Animation\" width=\"500\">\n",
    "\n",
    "9. To go to the next frame of the animation, click on the **Go to next frame** icon ![next](../_static/platform_tools/web_services_gis/next.svg). The time difference (time step) between consecutive frames is determined by the **Step** defined by the user. \n",
    "\n",
    "    <img align=\"middle\" src=\"../_static/platform_tools/web_services_gis/ows_tutorial_31.gif\" alt=\"QGIS - Forward Animation to Next Frame\" width=\"500\">\n",
    "\n",
    "6. To fast forward the animation to the end i.e. skip to the end of the animation range, click on the **Fast forward to end** icon ![skipToEnd](../_static/platform_tools/web_services_gis/skipToEnd.svg).\n",
    "\n",
    "    <img align=\"middle\" src=\"../_static/platform_tools/web_services_gis/ows_tutorial_32.gif\" alt=\"QGIS - Forward Animation to End\" width=\"500\">\n"
   ]
  },
  {
   "cell_type": "markdown",
   "metadata": {},
   "source": [
    "**How to export the  animation from QGIS Temporal Controller**"
   ]
  },
  {
   "cell_type": "markdown",
   "metadata": {},
   "source": [
    "1. The animation can be exported from the QGIS temporal controller as a series of images. To export the animation click on the **Export animation** icon ![save](../_static/platform_tools/web_services_gis/mActionFileSave.svg) on the **Temporal Controller Panel**.\n",
    "\n",
    "    <img align=\"middle\" src=\"../_static/platform_tools/web_services_gis/ows_tutorial_18.png\" alt=\"QGIS - Export Animation\" width=\"500\">\n",
    "\n",
    "2. In the **Export Map animation** dialogue, specify: \n",
    "    * The naming template to be used for labelling the images. \n",
    "    * The output directory where the images will be saved.\n",
    "    * The map extent to be covered by the images. \n",
    "    * The width and height of the images. \n",
    "    * The temporal range and time step for the animation.\n",
    "    \n",
    "    <img align=\"middle\" src=\"../_static/platform_tools/web_services_gis/ows_tutorial_19.png\" alt=\"QGIS - Export Animation Options\" width=\"300\">\n",
    "\n",
    "3. The exported images will be saved in the specified ouput directory. Using your preferred software, you can use the images to create an animation. \n",
    "\n",
    "    <img align=\"middle\" src=\"../_static/platform_tools/web_services_gis/ows_tutorial_20.png\" alt=\"QGIS - Exported Animation as Images\" width=\"500\">\n",
    "    \n",
    "    &#8291;\n",
    "\n",
    "    <img align=\"middle\" src=\"../_static/platform_tools/web_services_gis/ows_tutorial_33.gif\" alt=\"GIF from Exported Animation Images\" width=\"500\">\n"
   ]
  },
  {
   "cell_type": "markdown",
   "metadata": {},
   "source": [
    "**How to use the WMS-T layers in QGIS without the Temporal Controller** "
   ]
  },
  {
   "cell_type": "markdown",
   "metadata": {},
   "source": [
    "1. To use the WMS-T layers in QGIS without the Temporal Controller, first disable the **Dynamic Temporal Control** in the layer's **Layer Properties** to enable the **Static WMS-T Temporal Range** settings. The default setting is the **Server default** temporal range for visualizing the layer features. This is a predefined temporal range set by the data service provider.\n",
    "\n",
    "    You will notice after disabling **Dynamic Temporal Control** that the layer no longer has the temporal indicator symbol ![temporal indicator](../_static/platform_tools/web_services_gis/mIndicatorTemporal.svg) next to the layer name in the **Layers Panel**, this means that the layer is no longer considered a temporal layer by QGIS, hence can't be used by the **Temporal Controller**.\n",
    "\n",
    "    <img align=\"middle\" src=\"../_static/platform_tools/web_services_gis/ows_tutorial_21.png\" alt=\"QGIS - Disable Dynamic Temporal Control\" width=\"300\">\n",
    "    \n",
    "    &#8291;\n",
    "    \n",
    "    <img align=\"middle\" src=\"../_static/platform_tools/web_services_gis/ows_tutorial_22.png\" alt=\"QGIS - Static WMS-T Layer\" width=\"500\">\n",
    "\n",
    "2. Using the **Predefined range** you can set the temporal range for the layer features to be visualized using the **Start date** and **End date**. A time-based filter will be applied to the layer and the fetched features will be the features within the predefined temporal range.\n",
    "\n",
    "    <img align=\"middle\" src=\"../_static/platform_tools/web_services_gis/ows_tutorial_23.png\" alt=\"QGIS - Static WMS-T Temporal Range - Predefined Range\" width=\"300\">\n",
    "\n",
    "3. To use the **Follow project's temporal range** setting, the project temporal range in the **Temporal** section (Project > Properties> Temporal) of the **Project Properties** must be set. After setting the project temporal range, applying this setting will result in fetching the WMS layer features that are within the projects temporal range.\n",
    "\n",
    "    <img align=\"middle\" src=\"../_static/platform_tools/web_services_gis/ows_tutorial_24.png\" alt=\"QGIS - Set Project Temporal Range\" width=\"300\">\n",
    "    \n",
    "    &#8291;\n",
    "\n",
    "    <img align=\"middle\" src=\"../_static/platform_tools/web_services_gis/ows_tutorial_25.png\" alt=\"QGIS - Static WMS-T Temporal Range - Follow Project's Temporal Range\" width=\"300\">\n",
    "    \n",
    "    &#8291;\n",
    "\n",
    "    <img align=\"middle\" src=\"../_static/platform_tools/web_services_gis/ows_tutorial_26.png\" alt=\"QGIS - View Static WMS-T Layer Features in Project Temporal Range\" width=\"500\">"
   ]
  },
  {
   "cell_type": "markdown",
   "metadata": {},
   "source": [
    "**WMS-T Settings**"
   ]
  },
  {
   "cell_type": "markdown",
   "metadata": {},
   "source": [
    "You can also specify the time slice mode used for both the **Dynamic Temporal Control** and the **Static WMS-T Temporal Range**. There are four options available for the time slice mode: \n",
    "\n",
    "* **Use Whole Temporal Range**: Allows the user to set the temporal range for the layer features to be visualized/plotted. \n",
    "* **Match to Start of Range**: The layer features visualized will be features that match the start of the layer's time range. \n",
    "* **Match to End of Range**: The layer features visualized will be features that match the end of the layer's time range.\n",
    "* **Closest Match to Start of Range**: Visualizes the layer features whose date and time stamp are the closest to the start of the defined temporal range. \n",
    "* **Closet Match to End of Range**: Visualizes the layer features whose date and time stamp are the closest to the end of the defined temporal range. \n",
    "\n",
    "You can also enable the option for **Ignoring time components** which allows QGIS to only consider the dates when applying a time based filter to the layer features based on a defined temporal range, without considering the time component.\n",
    "\n",
    "<img align=\"middle\" src=\"../_static/platform_tools/web_services_gis/ows_tutorial_27.png\" alt=\"QGIS - WMS-T Settings\" width=\"300\">"
   ]
  },
  {
   "cell_type": "markdown",
   "metadata": {},
   "source": [
    "**How to add WMS-T layers using ArcGIS Pro** "
   ]
  },
  {
   "cell_type": "markdown",
   "metadata": {},
   "source": [
    "1. Connect to the Web Map Service in ArcGIS by following the instructions in [Setting up WMS tutorial](#Tutorial:-Setting-up-WMS).\n",
    "2. In the **Catalog** pane, navigate to  **Servers** and expand it to show the **Digital Earth Africa - OGC Web Services on ows.digitalearth.africa.wms** connection.\n",
    "\n",
    "3. Select a WMS-T layer from the **Digital Earth Africa - OGC Web Services on ows.digitalearth.africa.wms** connection layers. To add the layer to the map view, right click on the layer and select **Add to Current Map** (alternatively, you can drag and drop the layer onto the Map view).\n",
    "\n",
    "    <img align=\"middle\" src=\"../_static/platform_tools/web_services_gis/ows_arcgis_tutorial_4.png\" alt=\"ArcGIS - Add Temporal layer to Project\" width=\"300\">\n",
    "\n",
    "4. The layer will be loaded onto the Map view with a contextual **Time** tab added to the **Menu** bar and a **Time Slider** ay the top of the map view, indicating that it is a temporal layer. \n",
    "\n",
    "    <img align=\"middle\" src=\"../_static/platform_tools/web_services_gis/ows_arcgis_tutorial_5.png\" alt=\"QGIS - View Temporal Layer in Layer Panel\" width=\"500\">\n"
   ]
  },
  {
   "cell_type": "markdown",
   "metadata": {},
   "source": [
    "**How to use the ArcGIS Pro Time Slider with WMS-T layers**"
   ]
  },
  {
   "cell_type": "markdown",
   "metadata": {},
   "source": [
    "1. To use the **Time Slider** for WMS-T layers, hover over the **Time Slider** to  see its controls.On the left side of the **Time Slider** icon, click on **Time disabled** ![time disabled](../_static/platform_tools/web_services_gis/time_disabled.svg) to change it to **Time enabled** ![time enabled](../_static/platform_tools/web_services_gis/time_enabled.svg).   \n",
    "\n",
    "    \n",
    "   <img align=\"middle\" src=\"../_static/platform_tools/web_services_gis/ows_arcgis_tutorial_6.png\" alt=\"ArcGIS - Enable Time\" width=\"500\">\n",
    "\n",
    "2. You can configure the time settings on your layer. Click on the **Time** tab in the **Menu** bar. In the **Snapping** group, check the **Time Snapping** check box.\n",
    "3. Under the **Time Snapping** check box, click on the **Time Snap Interval** dropdown and select **Years**. \n",
    "    \n",
    "    *This corresponds to the yearly intervals of the data.*\n",
    "4. In the **Current Time** group, change the **Span** setting to 0 and press the **Enter** key. \n",
    "    \n",
    "    *This ensures that only one year's woth of data displays at a time.*\n",
    "\n",
    "   <img align=\"middle\" src=\"../_static/platform_tools/web_services_gis/ows_arcgis_tutorial_7.png\" alt=\"ArcGIS - Time slider configuration\" width=\"500\">\n",
    "   \n",
    "\n",
    "5. In the **Playback** group, click **Play all steps** ![play all steps](../_static/platform_tools/web_services_gis/play_all_steps.svg).\n",
    "\n",
    "    <img align=\"middle\" src=\"../_static/platform_tools/web_services_gis/ows_arcgis_tutorial_8.gif\" alt=\"ArcGIS - play all steps\" width=\"500\">\n",
    "\n",
    "6. To set the time slider controls backwards according to the step setting (i.e., move back one time step), click on the **Step Back** icon ![step back](../_static/platform_tools/web_services_gis/step_back.svg).\n",
    "\n",
    "    <img align=\"middle\" src=\"../_static/platform_tools/web_services_gis/ows_arcgis_tutorial_9.gif\" alt=\"ArcGIS - step back\" width=\"500\">\n",
    "    \n",
    "7. To set the time slider controls forward according to the step setting (i.e., move forward one time step), click on the **Step Forward** icon ![step forward](../_static/platform_tools/web_services_gis/step_forward.svg).\n",
    "    \n",
    "    <img align=\"middle\" src=\"../_static/platform_tools/web_services_gis/ows_arcgis_tutorial_10.gif\" alt=\"ArcGIS - step forward\" width=\"500\">\n",
    "\n",
    "8. To set the relative speed of the visualisation by adjusting the amount of pause between steps, use the **Adjust Playback Speed** icon ![adjust playback speed](../_static/platform_tools/web_services_gis/adjust_playback_speed.svg).\n",
    "   \n",
    "    <img align=\"middle\" src=\"../_static/platform_tools/web_services_gis/ows_arcgis_tutorial_11.gif\" alt=\"ArcGIS - adjust playback speed\" width=\"500\">\n",
    "    \n",
    "9. To set whether the playback of all steps begins by moving forward or backward in time through the data, click on the **Direction** icon ![direction](../_static/platform_tools/web_services_gis/direction.svg).\n",
    "\n",
    "    <img align=\"middle\" src=\"../_static/platform_tools/web_services_gis/ows_arcgis_tutorial_12.gif\" alt=\"ArcGIS - direction\" width=\"500\">\n",
    "    \n",
    "11. To set the playback to continue to loop in the same direction after it has reached the last step at the end of the time slider, click on the **Repeat** icon ![repeat](../_static/platform_tools/web_services_gis/repeat.svg).\n",
    "\n",
    "    <img align=\"middle\" src=\"../_static/platform_tools/web_services_gis/ows_arcgis_tutorial_13.gif\" alt=\"ArcGIS - repeat\" width=\"500\">\n",
    "\n",
    "12. To set the playback to continue to loop in the opposite direction after it has reached the last step at the end of the time slider, click on the **Reverse** icon ![reverse](../_static/platform_tools/web_services_gis/reverse.svg).\n",
    "\n",
    "    <img align=\"middle\" src=\"../_static/platform_tools/web_services_gis/ows_arcgis_tutorial_14.gif\" alt=\"ArcGIS - reverse\" width=\"500\">"
   ]
  },
  {
   "cell_type": "markdown",
   "metadata": {},
   "source": [
    "**How to export the  animation from ArcGIS Time Slider**"
   ]
  },
  {
   "cell_type": "markdown",
   "metadata": {},
   "source": [
    "1. To export the animation, click on the **View** tab. In the **Animation** group, click **Add**.\n",
    "2. An empty **Animation Timeline** pane appers undeer the Map view. On the **Menu** bar, a contextual **Animation** tab appears.\n",
    "\n",
    "   <img align=\"middle\" src=\"../_static/platform_tools/web_services_gis/ows_arcgis_tutorial_15.png\" alt=\"ArcGIS - Empty Animation Timeline\" width=\"500\">\n",
    "\n",
    "3. Before you create keyframes for the animation, you will zoom to the correct map extent. In the **Contents** pane, right click on the layer and **Zoom To layer**.\n",
    "4. On the **Menu** bar, click the **Animation** tab. In the **Create** group, click **Impoer Animation** and click **Time Slider Steps**.\n",
    "\n",
    "   <img align=\"middle\" src=\"../_static/platform_tools/web_services_gis/ows_arcgis_tutorial_16.png\" alt=\"ArcGIS - Time slider Steps\" width=\"500\">\n",
    "   \n",
    "5. The **Animation Timeline** pane populates with keyframes (It takes a few moments for the images to display in the keyframes). The first keyframe represents the animation at zero seconds (00:00.0000). Each subsequent keyframe corresponds to the data for one year.\n",
    "\n",
    "   <img align=\"middle\" src=\"../_static/platform_tools/web_services_gis/ows_arcgis_tutorial_17.png\" alt=\"ArcGIS - Animation timeline population\" width=\"500\">\n",
    "   \n",
    "6. On the **Animation tab**, in the **Playback** group, the **Duration** setting tells you the length of the the animatiton. You can replace the duration value (e.g., 00:30 - which will make the duration of the animation 30 seconds).\n",
    "7. As the animation plays, you may want to show which year the data represents. To do so, yo will add dynamic text - information that updates during the playback.\n",
    "\n",
    "    In the **Animation Timeline** pane, under **keyframe Gallery**, click on the first keyframe to select it and scroll to the end of the gallery, press and hold the **Shift** key, then click the last keyframe. This will select all the key frames in your animation. \n",
    "    \n",
    "    *The dynamic text you add in the next step will be applied to all the selected keyframes - in other words, thoughout the animation.*\n",
    "\n",
    "      <img align=\"middle\" src=\"../_static/platform_tools/web_services_gis/ows_arcgis_tutorial_18.png\" alt=\"ArcGIS - keyframe gallery selection\" width=\"500\">\n",
    "\n",
    "8. On the **Menu** bar, on the **Animation** tab, in the **Overlay** group, expand the **Overlay** gallery.\n",
    "\n",
    "      <img align=\"middle\" src=\"../_static/platform_tools/web_services_gis/ows_arcgis_tutorial_19.png\" alt=\"ArcGIS - Overlay gallery\" width=\"300\">\n",
    "      \n",
    "9. In the **Overlay** gallery, under  **Dynamic test**, click **Map Time**.\n",
    "      <img align=\"middle\" src=\"../_static/platform_tools/web_services_gis/ows_arcgis_tutorial_20.png\" alt=\"ArcGIS - Overlay gallery\" width=\"200\">\n",
    "10. In the dynamic text box that appears on the Map view, replace the default two-line expression with `<dyn type=\"animation\" property=\"startTime\" format=\"yyyy\"/>`   \n",
    "    *The expression created a single label, rather than a start and end time, and formats it display the year ratheer than a full date*\n",
    "    <img align=\"middle\" src=\"../_static/platform_tools/web_services_gis/ows_arcgis_tutorial_21.png\" alt=\"ArcGIS - keyframe gallery selection\" width=\"500\">\n",
    "    \n",
    "11. In the **Playback** group of the **Animation** tab, click on **Play** (*Do not click **Play** on the **Time Slider** as the changes you have made to the animation are not reflected in the **Time Sllider** playback*.\n",
    "\n",
    "    <img align=\"middle\" src=\"../_static/platform_tools/web_services_gis/ows_arcgis_tutorial_22.gif\" alt=\"ArcGIS - play animation\" width=\"500\">\n",
    "    \n",
    "12. On the **Animation** tab, in the **Export** group, click **Movie Export** ![movie export](../_static/platform_tools/web_services_gis/export_animation.svg)\n",
    "\n",
    "13. In the **Export Movie** pane, in the **File Name** box, give your animation an appropriate name. \n",
    "\n",
    "    Optionally, click **Browse** ![browse](../_static/platform_tools/web_services_gis/browse.svg) and browse to a different folder to save the video.\n",
    "    \n",
    "    Then click **Export**.\n",
    "    <img align=\"middle\" src=\"../_static/platform_tools/web_services_gis/ows_arcgis_tutorial_23.png\" alt=\"ArcGIS - Export movie\" width=\"200\">"
   ]
  },
  {
   "cell_type": "markdown",
   "metadata": {},
   "source": [
    "## Tutorial: How to connect WCS"
   ]
  },
  {
   "cell_type": "markdown",
   "metadata": {},
   "source": [
    "**How to connect to WCS using QGIS**"
   ]
  },
  {
   "cell_type": "markdown",
   "metadata": {},
   "source": [
    "1. Launch QGIS.\n",
    "2. On the Menu Bar click on **Layer**.\n",
    "3. A sub-menu tab will show below Layer; click on **Add Layer**, choose **Add WCS Layer**.\n",
    "\n",
    "    <img align=\"middle\" src=\"../_static/platform_tools/web_services_gis/ows_tutorial_5.png\" alt=\"QGIS - Add WCS\" width=\"500\">\n",
    "\n",
    "4. Click on the **New** button.\n",
    "5. A dialogue will open, as shown below: Provide the following details, these can be found at the URL https://ows.digitalearth.africa/\n",
    "\n",
    "    `Name: DE Africa Services`\n",
    "\n",
    "    `URL:  https://ows.digitalearth.africa/wcs?version=2.1.0`\n",
    "\n",
    "    <img align=\"middle\" src=\"../_static/platform_tools/web_services_gis/ows_tutorial_6.png\" alt=\"QGIS - WCS Connection\" width=\"300\">\n",
    " \n",
    "6. After providing the details above, click on **OK**.\n",
    "7. The previous dialogue will show up, in the dropdown above the New button, you will see DE Africa Services, if it is not there click the dropdown button below and select it.\n",
    "8. The **Connect** button will be activated, click on it to load the layers. Anytime this page is open, because the connection has already been established, click on the **Connect** button to load the data.\n",
    "9. The layer will be loaded as shown below in the dialogue.\n",
    "\n",
    "    <img align=\"middle\" src=\"../_static/platform_tools/web_services_gis/ows_tutorial_4.png\" alt=\"QGIS - Loaded WCS\" width=\"500\">\n",
    "\n",
    "10. Navigate through layers and choose the layer you will need to display on the Map Page. With WCS you can select Time and Format of Image.\n",
    "11. After selecting the layer click on the **Add** button at the bottom of the dialogue.\n"
   ]
  },
  {
   "cell_type": "markdown",
   "metadata": {},
   "source": [
    "**How to connect to WCS using ArcGIS Pro**"
   ]
  },
  {
   "cell_type": "markdown",
   "metadata": {},
   "source": [
    "1. Launch ArcGIS Pro.\n",
    "2. On the Menu Bar click on **Insert**.\n",
    "3. In the **Project** group, click on **Connections** and a dropdown menu will appear below **Connections**; click on **Server** and choose **Add WCS Server**.\n",
    "\n",
    "    <img align=\"middle\" src=\"../_static/platform_tools/web_services_gis/ows_arcgis_tutorial_24.png\" alt=\"ArcGIS - Add WCS server\" width=\"500\">\n",
    "\n",
    "4. A dialogue will open, as shown below: Provide the server URL, which can be found at the URL https://ows.digitalearth.africa/.\n",
    "\n",
    "    `URL:  https://ows.digitalearth.africa/wcs?version=1.3.0 `\n",
    "\n",
    "    <img align=\"middle\" src=\"../_static/platform_tools/web_services_gis/ows_arcgis_tutorial_25.png\" alt=\"ArcGIS - Create New WCS Connection\" width=\"300\">\n",
    "\n",
    "5. After providing the server URL above, click on **OK**.\n",
    "6. This will add the Digital Earth Africa WCS Server to the **Catalog** pane, under **Servers**.\n",
    "\n",
    "    <img align=\"middle\" src=\"../_static/platform_tools/web_services_gis/ows_arcgis_tutorial_26.png\" alt=\"ArcGIS - WCS to catalog\" width=\"500\">\n",
    "7. Navigate through layers and choose the layer you will need to display on the Map view.\n",
    "8. After selecting the layer, right click on the layer and select **Add to Current Map** (alternatively, you can drag and drop the layer onto the Map view).\n",
    "9. The selected layer will be loaded onto the Map view.\n"
   ]
  },
  {
   "cell_type": "markdown",
   "metadata": {},
   "source": [
    "## Tutorial: How to connect WMTS"
   ]
  },
  {
   "cell_type": "markdown",
   "metadata": {},
   "source": [
    "**How to connect to WMTS using ArcGIS Pro**"
   ]
  },
  {
   "cell_type": "markdown",
   "metadata": {},
   "source": [
    "1. Launch ArcGIS Pro.\n",
    "2. On the Menu Bar click on **Insert**.\n",
    "3. In the **Project** group, click on **Connections** and a dropdown menu will appear below **Connections**; click on **Server** and choose **Add WMTS Server**.\n",
    "\n",
    "    <img align=\"middle\" src=\"../_static/platform_tools/web_services_gis/ows_arcgis_tutorial_27.png\" alt=\"ArcGIS - Add WMTS server\" width=\"500\">\n",
    "\n",
    "4. A dialogue will open, as shown below: Provide the server URL, which can be found at the URL https://ows.digitalearth.africa/.\n",
    "\n",
    "    `URL:  https://ows.digitalearth.africa/wmts?version=1.0.0 `\n",
    "\n",
    "    <img align=\"middle\" src=\"../_static/platform_tools/web_services_gis/ows_arcgis_tutorial_28.png\" alt=\"ArcGIS - Create New WCS Connection\" width=\"300\">\n",
    "\n",
    "5. After providing the server URL above, click on **OK**.\n",
    "6. This will add the Digital Earth Africa WMTS Server to the **Catalog** pane, under **Servers**.\n",
    "\n",
    "    <img align=\"middle\" src=\"../_static/platform_tools/web_services_gis/ows_arcgis_tutorial_29.png\" alt=\"ArcGIS - WCS to catalog\" width=\"500\">\n",
    "7. Navigate through layers and choose the layer you will need to display on the Map view.\n",
    "8. After selecting the layer, right click on the layer and select **Add to Current Map** (alternatively, you can drag and drop the layer onto the Map view).\n",
    "9. The selected layer will be loaded onto the Map view.\n"
   ]
  }
 ],
 "metadata": {
  "kernelspec": {
   "display_name": "Python 3 (ipykernel)",
   "language": "python",
   "name": "python3"
  },
  "language_info": {
   "codemirror_mode": {
    "name": "ipython",
    "version": 3
   },
   "file_extension": ".py",
   "mimetype": "text/x-python",
   "name": "python",
   "nbconvert_exporter": "python",
   "pygments_lexer": "ipython3",
   "version": "3.8.10"
  },
  "widgets": {
   "application/vnd.jupyter.widget-state+json": {
    "state": {},
    "version_major": 2,
    "version_minor": 0
   }
  }
 },
 "nbformat": 4,
 "nbformat_minor": 4
}
