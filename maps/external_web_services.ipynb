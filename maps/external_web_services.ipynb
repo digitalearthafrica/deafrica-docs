{
 "cells": [
  {
   "cell_type": "markdown",
   "metadata": {},
   "source": [
    "# Integrating External Web Services"
   ]
  },
  {
   "cell_type": "markdown",
   "metadata": {},
   "source": [
    "The DE Africa platform is built on top of open standards and can integrate with a range of external web services. Some examples of external services are included on this page."
   ]
  },
  {
   "cell_type": "markdown",
   "metadata": {},
   "source": [
    "## Norway's International Climate and Forests Initiative Data program (NICFI)\n",
    "\n",
    "NICFI has arranged for non-commercial users to be able to access high-resolution, analysis-ready mosaics over the world's tropics. It's possible to integrate the visual layers into DE Africa's Maps application or to download the data to use in the DE Africa Sandbox. For more information, see [Planet's NICFI page](https://www.planet.com/nicfi/).\n",
    "\n",
    "### Steps to load NICFI visual layers in Maps\n",
    "\n",
    "1. Sign up for the program on the [NICFI home page](https://www.planet.com/nicfi/#sign-up)\n",
    "2. Once you have access, copy your `API_KEY` from your [\"My Settings\"](https://www.planet.com/account/#/user-settings) page on the Planet website\n",
    "3. Copy this URL, and add your `API_KEY` to the end: `https://api.planet.com/basemaps/v1/mosaics/wmts?api_key=YOURKEYGOESHERE`\n",
    "4. Go to [DE Africa Maps](https://maps.digitalearth.africa/) and do the following:\n",
    "    * Click \"Explore map data\"\n",
    "    * Click \"My Data\"\n",
    "    * Click \"Web Data\"\n",
    "    * Pasted the above URL into the \"Step 2\" section, and click \"Add\"\n",
    "\n",
    "<img align=\"middle\" src=\"../_static/maps/nicfi_maps.jpg\" alt=\"NICFI in DE Africa Maps.\" width=600>\n",
    "\n",
    "When you've added one of the mosaics, you can visualise it across Africa in context with DE Africa data, such as the Sentinel-2 GeoMAD."
   ]
  }
 ],
 "metadata": {
  "interpreter": {
   "hash": "aee8b7b246df8f9039afb4144a1f6fd8d2ca17a180786b69acc140d282b71a49"
  },
  "kernelspec": {
   "display_name": "Python 3 (ipykernel)",
   "language": "python",
   "name": "python3"
  },
  "language_info": {
   "codemirror_mode": {
    "name": "ipython",
    "version": 3
   },
   "file_extension": ".py",
   "mimetype": "text/x-python",
   "name": "python",
   "nbconvert_exporter": "python",
   "pygments_lexer": "ipython3",
   "version": "3.8.10"
  },
  "widgets": {
   "application/vnd.jupyter.widget-state+json": {
    "state": {},
    "version_major": 2,
    "version_minor": 0
   }
  }
 },
 "nbformat": 4,
 "nbformat_minor": 4
}
