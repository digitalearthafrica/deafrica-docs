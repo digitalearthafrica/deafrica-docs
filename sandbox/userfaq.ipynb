{
 "cells": [
  {
   "cell_type": "markdown",
   "metadata": {},
   "source": [
    "# Sandbox Frequently Asked Questions"
   ]
  },
  {
   "cell_type": "markdown",
   "metadata": {},
   "source": [
    "Having issues with the Sandbox? Check out this FAQ before \n",
    "contacting our support team."
   ]
  },
  {
   "cell_type": "raw",
   "metadata": {
    "raw_mimetype": "text/restructuredtext"
   },
   "source": [
    ".. contents::\n",
    "   :local:"
   ]
  },
  {
   "cell_type": "markdown",
   "metadata": {},
   "source": [
    "## Sandbox verification code email not received\n",
    "\n",
    "Please check the spam and junk folders in your email inbox."
   ]
  },
  {
   "cell_type": "markdown",
   "metadata": {},
   "source": [
    "## Kernel crash or restart\n",
    "\n",
    "The Digital Earth Africa Sandbox has a finite amount of processing power allocated to each user. This means if you attempt to load or calculate a lot of data, the kernel may crash. You will have to rerun your notebook to continue working. However, if the notebook is still demanding too many resources, it will crash again. You can prevent kernel crashes by:\n",
    "\n",
    "   * Decreasing the area selected for data processing\n",
    "   * Shortening the time extent\n",
    "   * Shutting down kernels of notebooks you have finished using: open the    notebook and select **Kernel -> Shut Down Kernel**\n",
    "   \n",
    "These actions reduce the memory load of your computation on the Sandbox."
   ]
  },
  {
   "cell_type": "markdown",
   "metadata": {},
   "source": [
    "## File Save Error: 502 Bad Gateway\n",
    "\n",
    "Your disk may be full. Users are allocated a finite space for \n",
    "files. Delete large files to free up more disk space. You can back up\n",
    "files to your local drive by right-clicking the file and selecting \n",
    "\"Download\". Note that large files may take a long time to download."
   ]
  },
  {
   "cell_type": "markdown",
   "metadata": {},
   "source": [
    "## Pod not responding\n",
    "\n",
    "If you demand too much compute from the Sandbox, it can cause the pod to stop responding. The kernel will not be able to be restarted and all further compute requests will not run. You may experience a 502 Gateway error. Please contact the support team at helpdesk@digitalearthafrica.org with details."
   ]
  },
  {
   "cell_type": "markdown",
   "metadata": {},
   "source": [
    "## Pod failed to spawn\n",
    "\n",
    "This can intermittently happen when logging in to the Sandbox and starting \n",
    "up a server. Follow the prompts to retry the spawn. If the problem persists after more than 6 retries, please send an email to helpdesk@digitalearthafrica.org."
   ]
  },
  {
   "cell_type": "markdown",
   "metadata": {},
   "source": [
    "## Dask spill to disk errors\n",
    "\n",
    "Dask-enabled notebooks may throw errors such as \"No space left on device\". This is caused by Dask spilling data to disk when memory limits are reached.\n",
    "\n",
    "We suggest trying the following options: \n",
    "\n",
    "1. Edit the Dask config file to prevent spilling to disk. Open a Terminal from the Sandbox Launcher. Using ``vi`` or another text editor of your choice, open ``dask/distributed.yaml`` by typing the following code into the Terminal line and pressing the ``Enter`` key.\n",
    "   \n",
    "   ``vi ~/.config/dask/distributed.yaml``\n",
    "   \n",
    "   Use arrow keys to navigate the file and press ``i`` to start editing. As instructed [here](https://docs.dask.org/en/latest/setup/hpc.html), change the following settings to match:\n",
    "      \n",
    "        distributed:\n",
    "            worker:\n",
    "               memory:\n",
    "                  target: false  # don't spill to disk\n",
    "                  spill: false  # don't spill to disk\n",
    "                  pause: 0.80  # pause execution at 80% memory use\n",
    "                  terminate: 0.95  # restart the worker at 95% use\n",
    "                \n",
    "                \n",
    "   Once you have edited the settings, press the following keys: ``Esc``, ``:``, ``w``, ``q``, ``Enter``. This writes to the file then closes it.\n",
    "\n",
    "2. Enforce temporary directory filepath to a location outside the user's ``home`` directory. Set the location inside a `.ipynb` notebook code cell by running the following code:\n",
    "\n",
    "        import dask\n",
    "        dask.config.set({'temporary_directory': '/tmpfs'})"
   ]
  }
 ],
 "metadata": {
  "kernelspec": {
   "display_name": "Python 3",
   "language": "python",
   "name": "python3"
  },
  "language_info": {
   "codemirror_mode": {
    "name": "ipython",
    "version": 3
   },
   "file_extension": ".py",
   "mimetype": "text/x-python",
   "name": "python",
   "nbconvert_exporter": "python",
   "pygments_lexer": "ipython3",
   "version": "3.6.9"
  }
 },
 "nbformat": 4,
 "nbformat_minor": 4
}
