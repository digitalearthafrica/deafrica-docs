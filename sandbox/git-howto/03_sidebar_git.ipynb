{
 "cells": [
  {
   "cell_type": "markdown",
   "metadata": {},
   "source": [
    "# Git with the Git menu"
   ]
  },
  {
   "cell_type": "markdown",
   "metadata": {},
   "source": [
    "Now we've connected to Git, we can use it to version control. How does Git do this?\n",
    "\n",
    "To make file or code changes without impacting working code already on the repository, we make separate \"copies\" of the repository code, called **branches**. \n",
    "\n",
    "* The `master` branch contains all the most up-to-date and tested code\n",
    "* Every time you want to add a new feature or test code, you make a new branch\n",
    "* The new branch contains all of the code from `master`, but any changes made to that branch do not affect `master`\n",
    "* Once you are confident your changes are working, you can request to add your changes back to `master` in a Pull Request (covered in a later section of the guide)\n",
    "\n",
    "Creating new branches to work from follows one of the key principles of code contributing. It is considered good practice to keep any new work separate so it can be tested and reviewed before it is published."
   ]
  },
  {
   "cell_type": "markdown",
   "metadata": {},
   "source": [
    "## Check your fork is up to date"
   ]
  },
  {
   "cell_type": "markdown",
   "metadata": {},
   "source": [
    "The quickest way to check your fork is the latest version of the original repo is by going to your GitHub account and looking at your forks. The fork URL might have a similar structure to:\n",
    "```\n",
    "https://github.com/<your_username>/deafrica-sandbox-notebooks\n",
    "```\n",
    "\n",
    "If your fork is behind, there will be a banner at the top of the page saying \"This branch is XYZ commits behind digitalearthafrica:master.\" An example is shown in the image below.\n",
    "\n",
    "<img align=\"middle\" src=\"../../_static/sandbox/git-howto/fetch-upstream.png\" alt=\"This branch is behind by 12 commits.\" width=\"500\">\n",
    "\n",
    "In this example, 12 changes, or commits, have been made by other people since the fork was last synced with the original. \n",
    "\n",
    "To make them even again, click **Fetch upstream**, then select **Fetch and merge**.\n"
   ]
  },
  {
   "cell_type": "markdown",
   "metadata": {},
   "source": [
    "## Access the Git menu"
   ]
  },
  {
   "cell_type": "markdown",
   "metadata": {},
   "source": [
    "1. Open up the Sandbox and navigate to the folder of the `deafrica-sandbox-notebooks` clone, in your `dev` folder. If you have not set up the `dev` folder and repository clone yet, please follow the instructions in the previous section on [connecting to Git](./02_connect_git.ipynb).\n",
    "\n",
    "> Check the file path at the top of the folder sidebar is `/dev/deafrica-sandbox-notebooks/`. \n",
    "\n",
    "<img align=\"middle\" src=\"../../_static/sandbox/git-howto/gitmenu1.png\" alt=\"Select the Git menu.\" width=\"400\">"
   ]
  },
  {
   "cell_type": "markdown",
   "metadata": {},
   "source": [
    "2. Click the **Git** icon on the sidebar menu. It is a grey diamond shape with two lines running through it. This will take you to the Git menu.\n",
    "\n",
    "<img align=\"middle\" src=\"../../_static/sandbox/git-howto/gitmenu2.png\" alt=\"Git menu.\" width=\"400\">"
   ]
  },
  {
   "cell_type": "markdown",
   "metadata": {},
   "source": [
    "## Git menu: a breakdown"
   ]
  },
  {
   "cell_type": "markdown",
   "metadata": {},
   "source": [
    "The Git menu tells you about what repository you are editing and lets you access the most common Git version control functions. We will go through some of the buttons on the menu, and then show how they are used through a demo example you can try yourself.\n",
    "\n",
    "> Don't be concerned if you are confused by all the menu items. Try the example exercise below: the concepts will make more sense when you use them."
   ]
  },
  {
   "cell_type": "markdown",
   "metadata": {},
   "source": [
    "<img align=\"middle\" src=\"../../_static/sandbox/git-howto/menunumbers.png\" alt=\"Parts of the Git menu.\" width=\"400\">"
   ]
  },
  {
   "cell_type": "markdown",
   "metadata": {},
   "source": [
    "1. **Current Repository:** This tells me I am currently in my clone of `deafrica-sandbox-notebooks`. By default (and convention) your clone will have the same name as its parent repository. The Current Repository is selected by whichever folder your File Browser is navigated to, which is why it was important to check your file path earlier.\n",
    "\n",
    "2. **Current Branch:** This tells me I am on the `master` branch. Click the dropdown arrow to create a new branch, or view and select other branches.\n",
    "\n",
    "3. **Pull latest changes:** This performs a Git Pull. Changes to the remote version of this fork (for example, if you synced with the master through **Fetch upstream** earlier) will be pulled down to this clone on the Sandbox. If you are not sure if you have pulled all recent changes to your clone, you should click this button now.\n",
    "\n",
    "4. **Push committed changes:** When you have made changes to the local clone of the repository, you can send them to the remote version by \"committing the change\", then \"pushing\". The following example tutorial will demonstrate both those actions.\n",
    "\n",
    "5. **Refresh the repository to detect local and remote changes:** Use this to check your menu is displaying the latest information.\n",
    "\n",
    "6. **Staged:** Files listed here have been changed, and these changes are ready for confirmation, or *commit*. Committing will allow these changes to be pushed to the remote repo.\n",
    "\n",
    "7. **Changed:** Files which are being version-tracked, and have been modified, will show up here. These changes are not yet committed, so they will not be pushed to the remote repo.\n",
    "\n",
    "8. **Untracked:** These files are not being version controlled. They will not be part of the GitHub repo on any branch. Generally, new files are listed here. This is because Git doesn't know yet whether the files are related to your work."
   ]
  },
  {
   "cell_type": "markdown",
   "metadata": {},
   "source": [
    "## Git concepts"
   ]
  },
  {
   "cell_type": "markdown",
   "metadata": {},
   "source": [
    "* **Branch:**\n",
    "* **Pull:**\n",
    "* **Commit:**\n",
    "* **Push:**\n",
    "* **Upstream:**"
   ]
  },
  {
   "cell_type": "markdown",
   "metadata": {},
   "source": [
    "## Example: Use the Git menu to make a new branch and add a file"
   ]
  },
  {
   "cell_type": "markdown",
   "metadata": {},
   "source": [
    "All the menu items and new concepts can be best understood by following this tutorial. We will use the sidebar Git menu to make a new branch, add a file, commit the changes, and push the changes to the remote.\n",
    "\n",
    "1. \n",
    "\n",
    "<img align=\"middle\" src=\"../../_static/sandbox/git-howto/tut-1.PNG\" alt=\"Make a new branch\" width=\"400\">\n",
    "\n",
    "2.\n",
    "<img align=\"middle\" src=\"../../_static/sandbox/git-howto/tut-2.PNG\" alt=\"Make a new branch\" width=\"400\">"
   ]
  },
  {
   "cell_type": "markdown",
   "metadata": {},
   "source": [
    "## Git checklist"
   ]
  },
  {
   "cell_type": "markdown",
   "metadata": {},
   "source": [
    "Things to check when you log into the Sandbox and start working on your open-source code project:"
   ]
  },
  {
   "cell_type": "markdown",
   "metadata": {},
   "source": [
    "* Which **branch** are you on? Is that the correct branch to be working from?\n",
    "* Have you **pulled** and merged the latest changes from the repository?"
   ]
  },
  {
   "cell_type": "markdown",
   "metadata": {},
   "source": [
    "You can check these things by accessing the Git menu and looking at **Current Repository** and **Current Branch**."
   ]
  },
  {
   "cell_type": "markdown",
   "metadata": {},
   "source": []
  },
  {
   "cell_type": "markdown",
   "metadata": {},
   "source": []
  },
  {
   "cell_type": "markdown",
   "metadata": {},
   "source": []
  },
  {
   "cell_type": "markdown",
   "metadata": {},
   "source": []
  },
  {
   "cell_type": "markdown",
   "metadata": {},
   "source": [
    "## Common issues"
   ]
  },
  {
   "cell_type": "markdown",
   "metadata": {},
   "source": [
    "* **Unable to detect a Git repository.** This can happen if you have not logged into Git on the Sandbox. Follow the instructions on [connecting to Git](./02_connect_git.ipynb). Secondly, check your File Browser is navigated to your clone folder. If it is in the Home page or just in the `dev` folder, those aren't GitHub repositories.\n",
    "\n",
    "* **I can't find my file, but I know I made a new file.** Are you on the correct branch? If you switch to a different branch, your new file may not appear if it has been tracked in a different branch.\n",
    "\n",
    "* **I pushed my changes to my fork but I can't see them on the GitHub website.** Did you add and commit the files which were changed? Are you looking at the `master` branch of your fork when your changes were actually on a different branch? `master` is displayed by default on the website. Click the `branch` dropdown to see different branches on your fork.\n",
    "\n",
    "* **I am \"XYZ number of commits behind `digitalearthafrica:master`\".** You have not pulled and merged the latest changes from the original repository. Click the **Fetch upstream** button on the fork's GitHub webpage to fetch and merge the latest updates. Then, click the **Pull** button in the Sandbox to update your local clone. For minimum conflicts, this should be done before committing the changes and pushing to your fork.\n"
   ]
  },
  {
   "cell_type": "markdown",
   "metadata": {},
   "source": [
    "## Next steps"
   ]
  },
  {
   "cell_type": "markdown",
   "metadata": {},
   "source": []
  }
 ],
 "metadata": {
  "kernelspec": {
   "display_name": "Python 3",
   "language": "python",
   "name": "python3"
  },
  "language_info": {
   "codemirror_mode": {
    "name": "ipython",
    "version": 3
   },
   "file_extension": ".py",
   "mimetype": "text/x-python",
   "name": "python",
   "nbconvert_exporter": "python",
   "pygments_lexer": "ipython3",
   "version": "3.8.10"
  }
 },
 "nbformat": 4,
 "nbformat_minor": 4
}
