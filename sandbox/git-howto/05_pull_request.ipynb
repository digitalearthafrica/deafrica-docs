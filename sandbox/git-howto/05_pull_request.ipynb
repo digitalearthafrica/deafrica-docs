{
 "cells": [
  {
   "cell_type": "markdown",
   "metadata": {},
   "source": [
    "# Make a pull request (PR)"
   ]
  },
  {
   "cell_type": "raw",
   "metadata": {
    "raw_mimetype": "text/restructuredtext"
   },
   "source": [
    ".. contents::\n",
    "   :local:"
   ]
  },
  {
   "cell_type": "markdown",
   "metadata": {},
   "source": [
    "A pull request, often shortened to PR, is the process by which code is contributed back to the central repository. It merges the changes from one branch into another. Often, the changes are being merged into the `main` or `master` branch, but PRs can be used to merge a branch with any other branch, both within the central repository and from a fork to the central repository.\n",
    "\n",
    "Here you will have made a fork of the `deafrica-sandbox-notebooks` repository, so the PR consists of the following steps:\n",
    "\n",
    "1. Ensure your changes are on a branch that is up to date with `digitalearthafrica:master`\n",
    "2. Open a PR between your fork's branch and `digitalearthafrica/deafrica-sandbox-notebooks`\n",
    "3. Describe the changes made in your branch\n",
    "4. Submit the PR for review\n",
    "\n",
    "Since we have not made any substantial contribution to the repository in the previous example tutorials, this demonstration PR will *not* be submitted."
   ]
  },
  {
   "cell_type": "markdown",
   "metadata": {},
   "source": [
    "## Check your remote branch is up to date"
   ]
  },
  {
   "cell_type": "markdown",
   "metadata": {},
   "source": [
    "On your GitHub fork of the repository, use the branch dropdown to select the branch with the changes you want to propose.\n",
    "The header should say \n",
    "```\n",
    "This branch is XYZ commits ahead of digitalearthafrica:master.\n",
    "```\n",
    "Those commits are your proposed changes. If the branch is behind, perform a fetch upstream and merge."
   ]
  },
  {
   "cell_type": "markdown",
   "metadata": {},
   "source": [
    "## Open a pull request\n",
    "\n",
    "Click **Contribute** and select **Open pull request**. "
   ]
  },
  {
   "cell_type": "markdown",
   "metadata": {},
   "source": [
    "<img align=\"middle\" src=\"../../_static/sandbox/git-howto/pr-1.PNG\" alt=\"Contribute button.\" width=\"500\">"
   ]
  },
  {
   "cell_type": "markdown",
   "metadata": {},
   "source": [
    "## Describe your changes\n",
    "\n",
    "This is an important step to communicate why you want to make changes to the repository. The `deafrica-sandbox-notebooks` has a default PR template: proposed changes should be summarised and the code quality checklist reviewed."
   ]
  },
  {
   "cell_type": "markdown",
   "metadata": {},
   "source": [
    "<img align=\"middle\" src=\"../../_static/sandbox/git-howto/pr-2.PNG\" alt=\"Open PR template.\" width=\"600\">"
   ]
  },
  {
   "cell_type": "markdown",
   "metadata": {},
   "source": [
    "Change the title to something more informative, and fill in the description.\n",
    "\n",
    "At the top of the page, we can see the PR will request a merge from the user's fork, from a branch called `git-test`, to the base repository `digitalearthafrica/deafrica-sandbox-notebooks` branch of `master`.\n",
    "\n",
    "When the PR submission has been filled out, select **Create pull request**."
   ]
  },
  {
   "cell_type": "markdown",
   "metadata": {},
   "source": [
    "## What happens next?\n",
    "\n",
    "The PR becomes publicly visible. Depending on the repository settings, one or more contributors will need to review and approve the PR before it can be merged. This may involve editing your changes, or leaving comments or suggestions for improvement before merging can occur."
   ]
  },
  {
   "cell_type": "markdown",
   "metadata": {},
   "source": [
    "## When should I make a PR?"
   ]
  },
  {
   "cell_type": "markdown",
   "metadata": {},
   "source": [
    "PRs should do at least one of the following:\n",
    "\n",
    "* Fix an open issue on the repo\n",
    "* Improve existing code by removing typos or increasing efficiency\n",
    "* Expand on existing code \n",
    "\n",
    "It is good practice to have a working familiarity with the repository before proposing large changes. If in doubt, get in contact with the repository owners."
   ]
  },
  {
   "cell_type": "markdown",
   "metadata": {},
   "source": [
    "## GitHub wiki tutorial and other resources\n",
    "\n",
    "A concise version of steps to open a PR can be found on the [deafrica-sandbox-notebooks wiki](https://github.com/digitalearthafrica/deafrica-sandbox-notebooks/wiki/Guide-to-working-with-your-own-copy-of-the-DE-Africa-Notebooks#creating-a-pull-request).\n",
    "\n",
    "Additionally, you may find this summary tutorial from [dataschool.io](https://www.dataschool.io/how-to-contribute-on-github/) useful.\n",
    "\n",
    "Read error messages carefully and use Google (or your preferred search engine)! Forums such as Stackexchange have the answers to many Git problems."
   ]
  },
  {
   "cell_type": "markdown",
   "metadata": {},
   "source": [
    "## Bonus: Make this tutorial better!"
   ]
  },
  {
   "cell_type": "markdown",
   "metadata": {},
   "source": [
    "Contributions to this tutorial can be made through a pull request to the Digital Earth Africa Read the Docs repository at [https://github.com/digitalearthafrica/deafrica-docs](https://github.com/digitalearthafrica/deafrica-docs). It will then undergo the collaborative review process described above.\n",
    "\n",
    "*Digital Earth Africa Read the Docs content is mostly written in Markdown in Jupyter Notebooks with some formatting in ReStructuredText (RST).*"
   ]
  },
  {
   "cell_type": "markdown",
   "metadata": {},
   "source": [
    "## Conclusion"
   ]
  },
  {
   "cell_type": "markdown",
   "metadata": {},
   "source": [
    "Thanks for joining us on the journey towards Git literacy. We hope you found it useful!"
   ]
  }
 ],
 "metadata": {
  "kernelspec": {
   "display_name": "Python 3",
   "language": "python",
   "name": "python3"
  },
  "language_info": {
   "codemirror_mode": {
    "name": "ipython",
    "version": 3
   },
   "file_extension": ".py",
   "mimetype": "text/x-python",
   "name": "python",
   "nbconvert_exporter": "python",
   "pygments_lexer": "ipython3",
   "version": "3.8.10"
  }
 },
 "nbformat": 4,
 "nbformat_minor": 4
}
