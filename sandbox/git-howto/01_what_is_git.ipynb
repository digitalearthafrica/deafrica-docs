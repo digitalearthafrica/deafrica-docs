{
 "cells": [
  {
   "cell_type": "markdown",
   "metadata": {},
   "source": [
    "# What is Git?"
   ]
  },
  {
   "cell_type": "markdown",
   "metadata": {},
   "source": [
    "## Introduction to Git and GitHub"
   ]
  },
  {
   "cell_type": "markdown",
   "metadata": {},
   "source": [
    "The DE Africa Sandbox can be used with the version control software **Git**. Git is free and open-source, and is an industry standard for maintaining code bases used by multiple users. \n",
    "It keeps track of:\n",
    "\n",
    "* Files\n",
    "* Changes to file contents\n",
    "* Who added the changes\n",
    "* Who approved the changes\n",
    "* When these changes were made\n",
    "\n",
    "It also allows files to be copied, so changes can be made away from the original files, and has rollback features to remove unwanted changes.\n",
    "\n",
    "One of the Git service providers is a website called **GitHub**. GitHub allows Git users to better manage their files and projects.\n",
    "\n",
    "The DE Africa Analysis Sandbox has integrated compatibility with Git and GitHub. Connecting your Sandbox to Git via a GitHub account is an excellent way of accessing the DE Africa analysis code, which uses Python in Jupyter Notebooks. It allows you to make your own changes and develop new analyses, without affecting existing code. It is also important for collaboration, as you can publish your changes so they can be viewed, reviewed, and edited by your co-workers."
   ]
  },
  {
   "cell_type": "markdown",
   "metadata": {},
   "source": [
    "## Why should I use it?"
   ]
  },
  {
   "cell_type": "markdown",
   "metadata": {},
   "source": [
    "Benefits of using Git:\n",
    "\n",
    "* Become familiar with a free version control software used worldwide\n",
    "* Experiment with DE Africa code without worrying about breaking it\n",
    "* Back up your DE Africa analysis work to GitHub\n",
    "* Easily share your code via its GitHub URL\n",
    "* Gain basic command-line interface experience"
   ]
  },
  {
   "cell_type": "markdown",
   "metadata": {},
   "source": [
    "## Git concepts"
   ]
  },
  {
   "cell_type": "markdown",
   "metadata": {},
   "source": [
    "In each section of this guide on Git, new Git terminology will be introduced in a section called **Git concepts**."
   ]
  },
  {
   "cell_type": "markdown",
   "metadata": {},
   "source": [
    "* **Repository:** Often shortened to 'repo'. A Git repository is like a folder that lives on GitHub. It contains all the files related to your project. For example, all of the DE Africa Sandbox documentation has been added to a repository called `deafrica-sandbox-notebooks`. Even if you don't have a GitHub account, you can view the files on the repo's [GitHub website](https://github.com/digitalearthafrica/deafrica-sandbox-notebooks). To edit or suggest contributions to them, you will need to log in to GitHub. You can do this with most public repos."
   ]
  },
  {
   "cell_type": "markdown",
   "metadata": {},
   "source": [
    "## Create a GitHub account"
   ]
  },
  {
   "cell_type": "markdown",
   "metadata": {},
   "source": [
    "You will need a GitHub account to access files in GitHub repositories. There is a free account option which is suitable for DE Africa purposes.\n",
    "\n",
    "Sign up at https://github.com/join."
   ]
  },
  {
   "cell_type": "markdown",
   "metadata": {},
   "source": [
    "Click **Next** to learn how to connect your GitHub account to the DE Africa Sandbox."
   ]
  }
 ],
 "metadata": {
  "kernelspec": {
   "display_name": "Python 3",
   "language": "python",
   "name": "python3"
  },
  "language_info": {
   "codemirror_mode": {
    "name": "ipython",
    "version": 3
   },
   "file_extension": ".py",
   "mimetype": "text/x-python",
   "name": "python",
   "nbconvert_exporter": "python",
   "pygments_lexer": "ipython3",
   "version": "3.8.10"
  }
 },
 "nbformat": 4,
 "nbformat_minor": 4
}
