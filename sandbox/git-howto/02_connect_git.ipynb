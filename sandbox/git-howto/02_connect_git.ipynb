{
 "cells": [
  {
   "cell_type": "markdown",
   "metadata": {},
   "source": [
    "# Connect to Git"
   ]
  },
  {
   "cell_type": "markdown",
   "metadata": {},
   "source": [
    "Now you have a GitHub account, we will link it to your Sandbox. This allows you to access GitHub repositories directly from the Sandbox.\n",
    "\n",
    "As we saw in the previous section, you can view files from the GitHub website. However, accessing them directly from the Sandbox allows files to be copied and edited. This is particularly useful for working on coding and analysis.\n",
    "\n",
    "To do this, we will set Git settings using the Terminal console in the DE Africa Sandbox. You will need both a GitHub account and a DE Africa Sandbox account. Make sure you activate GitHub two-factor authentication, as you will need it to authorise Git actions from inside the Sandbox.\n",
    "\n",
    "For more information on GitHub security mechanisms, see this article on [configuring two-factor authentication](https://docs.github.com/en/github/authenticating-to-github/securing-your-account-with-two-factor-authentication-2fa/configuring-two-factor-authentication) or read about [how to create a personal account token](https://docs.github.com/en/github/authenticating-to-github/keeping-your-account-and-data-secure/creating-a-personal-access-token)."
   ]
  },
  {
   "cell_type": "markdown",
   "metadata": {},
   "source": [
    "## Log in to Git on the Sandbox"
   ]
  },
  {
   "cell_type": "markdown",
   "metadata": {},
   "source": [
    "1. Log in to the Digital Earth Africa Sandbox at https://sandbox.digitalearth.africa/hub/login. "
   ]
  },
  {
   "cell_type": "markdown",
   "metadata": {},
   "source": [
    "2. Open a Terminal window from the Launcher by clicking on the Terminal icon.\n",
    "\n",
    "<img align=\"middle\" src=\"../../_static/sandbox/git-howto/launcher-terminal.png\" alt=\"The DE Africa Sandbox Jupyterlab launcher.\" width=\"500\">"
   ]
  },
  {
   "cell_type": "markdown",
   "metadata": {},
   "source": [
    "3. Terminal will open to show a blinking cursor. This is the command line. We will use it to set your Git login.\n",
    "\n",
    "<img align=\"middle\" src=\"../../_static/sandbox/git-howto/terminal-screen.png\" alt=\"The DE Africa Sandbox Jupyterlab terminal.\" width=\"500\">"
   ]
  },
  {
   "cell_type": "markdown",
   "metadata": {},
   "source": [
    "4. Type the following text, replacing `your-github-username` with your GitHub username. Make sure to put it inside the quotation marks.\n",
    "\n",
    "```\n",
    "git config --global user.name \"your-github-username\"\n",
    "\n",
    "```\n",
    "\n",
    "Press `Enter`. The command line will go to the next line.\n",
    "\n",
    "<img align=\"middle\" src=\"../../_static/sandbox/git-howto/terminal-username.png\" alt=\"Set your Git username.\" width=\"500\">"
   ]
  },
  {
   "cell_type": "markdown",
   "metadata": {},
   "source": [
    "5. Now set your email. Your email address has to match the email registered to your GitHub username.\n",
    "\n",
    "```\n",
    "git config --global user.email \"email@example.com\"\n",
    "```\n",
    "\n",
    "Press `Enter`."
   ]
  },
  {
   "cell_type": "markdown",
   "metadata": {},
   "source": [
    "Congratulations! You have successfully linked your GitHub account to your DE Africa Sandbox. You can now track changes and make your own code copies to edit. The next steps on **forking** and **cloning** show you how to do that."
   ]
  },
  {
   "cell_type": "markdown",
   "metadata": {},
   "source": [
    "## Fork the DE Africa Sandbox Notebooks repository"
   ]
  },
  {
   "cell_type": "markdown",
   "metadata": {},
   "source": [
    "Forking a repository allows you to make a personal copy of a project. This way, you do not need to be an admin or member of an open-source project to experiment on or contribute to the code. \n",
    "\n",
    "1. Visit the home page of the [DE Africa Sandbox Notebooks repository](https://github.com/digitalearthafrica/deafrica-sandbox-notebooks).\n",
    "2. Click the **Fork** button in the top-right corner of the page.\n",
    "\n",
    "<img align=\"middle\" src=\"../../_static/sandbox/git-howto/fork.png\" alt=\"Fork a repo from the GitHub website.\" width=\"600\">"
   ]
  },
  {
   "cell_type": "markdown",
   "metadata": {},
   "source": [
    "When the fork is complete, you'll be taken to your forked copy of the repository. The header for the repository should now be `<username>/deafrica-sandbox-notebooks`, rather than `digitalearthafrica/deafrica-sandbox-notebooks`. We will refer to this repo as **your fork**."
   ]
  },
  {
   "cell_type": "markdown",
   "metadata": {},
   "source": [
    "<img align=\"middle\" src=\"../../_static/sandbox/git-howto/fork2.png\" alt=\"A forked repo.\" width=\"400\">"
   ]
  },
  {
   "cell_type": "markdown",
   "metadata": {},
   "source": [
    "This is all on the GitHub website. You can see all the files are there, but you cannot edit them from the website. We will now make a copy of your fork, or **clone**, inside the DE Africa Sandbox, so you can edit files there. First, we will introduce some relevant Git concepts. "
   ]
  },
  {
   "cell_type": "markdown",
   "metadata": {},
   "source": [
    "## Git concepts"
   ]
  },
  {
   "cell_type": "markdown",
   "metadata": {},
   "source": [
    "* **Local:** Your computer, device, or account you are working on. In this case, your local machine is your DE Africa Sandbox. This is because no one else can see or access any files in your Sandbox account (including changes you have made) unless you publish them. This makes it \"local\" to you. Repositories you have copied to your local machine are called \"local repositories\".\n",
    "* **Remote:** Mostly used to describe repositories hosted online, such as on the GitHub website. A remote repository is often accessible by multiple team members, and may even be public-facing. In most cases, such as in our examples here, the remote repo should contain the most up-to-date version of the files.\n",
    "* **Fork:** \"A fork is a copy of a repository. Forking a repository allows you to freely experiment with changes without affecting the original project.\" as defined by [GitHub Docs](https://docs.github.com/en/get-started/quickstart/fork-a-repo). At time of forking, the original repo and your fork are exactly the same. \n",
    "* **Clone:** Copying a remote repository to your local machine. Cloning a remote repo makes a local repo. At the timing of cloning, the remote repo and local repo are exactly the same. Any changes made to either repo after this point are not automatically synced. We will cover pushing and pulling changes between repos in the next section. \n",
    "\n",
    "> Difference between a fork and a clone: When you fork a remote repository, like when you press the **Fork** button, you have a *remote* copy of the *remote* repository. Cloning then allows you to make a *local* copy of the *remote* repo. This is generally done to allow editing."
   ]
  },
  {
   "cell_type": "markdown",
   "metadata": {},
   "source": [
    "## Clone your Sandbox Notebooks fork"
   ]
  },
  {
   "cell_type": "markdown",
   "metadata": {},
   "source": [
    "1. Log in to the Digital Earth Africa Sandbox."
   ]
  },
  {
   "cell_type": "markdown",
   "metadata": {},
   "source": [
    "2. Create a new folder to store your copied repos in. By convention we will call it `dev`, although you can name it something else. Click the **New Folder** button and name your folder `dev`, then double-click the folder to navigate inside it. It is currently empty."
   ]
  },
  {
   "cell_type": "markdown",
   "metadata": {},
   "source": [
    "<img align=\"middle\" src=\"../../_static/sandbox/git-howto/newfolder.png\" alt=\"New folder.\" width=\"500\">"
   ]
  },
  {
   "cell_type": "markdown",
   "metadata": {},
   "source": [
    "<img align=\"middle\" src=\"../../_static/sandbox/git-howto/dev1.png\" alt=\"dev folder.\" width=\"400\">"
   ]
  },
  {
   "cell_type": "markdown",
   "metadata": {},
   "source": [
    "<img align=\"middle\" src=\"../../_static/sandbox/git-howto/dev2.png\" alt=\"Inside dev folder.\" width=\"400\">"
   ]
  },
  {
   "cell_type": "markdown",
   "metadata": {},
   "source": [
    "3. Click the last symbol on the Folder menu bar. This opens the Clone Repository option.\n",
    "\n",
    "<img align=\"middle\" src=\"../../_static/sandbox/git-howto/clone1.png\" alt=\"Clone button.\" width=\"400\">\n",
    "\n",
    "<img align=\"middle\" src=\"../../_static/sandbox/git-howto/clone2.png\" alt=\"Clone button.\" width=\"300\">"
   ]
  },
  {
   "cell_type": "markdown",
   "metadata": {},
   "source": [
    "4. The Clone URI can be found on each repository's GitHub webpage. We want to clone your fork, so we will go to your fork page. If you cannot find it you can access it from **User > Your repositories** in the top right corner of the GitHub website. \n",
    "\n",
    "Near the top of the page, it should say \"This branch is even with digitalearthafrica:master.\" This means your fork is the same as the original Sandbox Notebooks repo.\n",
    "\n",
    "> If it does not say that, don't worry. We will fix any inconsistencies between repos in the next part of this guide. You can continue to follow all the steps on this page.\n",
    "\n",
    "Click the **Code** button to open the dropdown, and click the clipboard icon to copy the URI. It should begin with `https:// ...`.\n",
    "\n",
    "<img align=\"middle\" src=\"../../_static/sandbox/git-howto/clone3.png\" alt=\"Clone on GitHub.\" width=\"400\">"
   ]
  },
  {
   "cell_type": "markdown",
   "metadata": {},
   "source": [
    "5. Come back to your Sandbox page and paste the URI into the box. Click **Clone**.\n",
    "\n",
    "<img align=\"middle\" src=\"../../_static/sandbox/git-howto/clone4.png\" alt=\"Paste and clone.\" width=\"400\">"
   ]
  },
  {
   "cell_type": "markdown",
   "metadata": {},
   "source": [
    "6. After a few moments, a folder will appear in your `/dev` folder. This is a clone of your fork of the DE Africa Sandbox Notebooks repo. Well done!\n",
    "\n",
    "<img align=\"middle\" src=\"../../_static/sandbox/git-howto/clone5.png\" alt=\"Clone successful.\" width=\"400\">"
   ]
  },
  {
   "cell_type": "markdown",
   "metadata": {},
   "source": [
    "If you open the folder and explore its contents, you will see they should look exactly the same as your fork, which is the same as the remote repo on https://github.com/digitalearthafrica/deafrica-sandbox-notebooks."
   ]
  },
  {
   "cell_type": "markdown",
   "metadata": {},
   "source": [
    "> Why do I have to fork then clone? Can I clone straight from `digitalearthafrica/deafrica-sandbox-notebooks`? The answer is you can clone the original repo without forking, but you cannot contribute any edits from that direct clone unless you have been added as a member of the Digital Earth Africa Sandbox Notebooks repo. Forking and cloning is best practice for contributing to open-source projects as described in [this article](https://opensource.com/article/19/11/first-open-source-contribution-fork-clone).\n",
    "\n",
    "Find out more about cloning from remote to local in this [git clone tutorial](https://www.atlassian.com/git/tutorials/setting-up-a-repository/git-clone)."
   ]
  },
  {
   "cell_type": "markdown",
   "metadata": {},
   "source": [
    "## I need more Git help!\n",
    "\n",
    "Git can be confusing at the start. It can look intimidating to set up, especially if you are not familiar with command-line interfaces. Take your time to read and follow this guide carefully. If you are having trouble:\n",
    "\n",
    "* Check for typos. Command-line commands are sensitive to spelling errors, whitespaces, punctuation and upper/lower case.\n",
    "* Look up any error messages. Git is very widely used; the Internet has plenty of resources on how to fix different error messages.\n",
    "* Ask a question. DE Africa is part of the Open Data Cube initiative, which has an active Slack community at http://slack.opendatacube.org/ and is a great place to ask for help. "
   ]
  },
  {
   "cell_type": "markdown",
   "metadata": {},
   "source": [
    "## Next steps"
   ]
  },
  {
   "cell_type": "markdown",
   "metadata": {},
   "source": [
    "We defined above that *at the timing of cloning, the remote repo and local repo are exactly the same. Any changes made to either repo after this point are not automatically synced*. So what happens if someone else makes a change (such as a code improvement, bug fix, or new examples) to the remote repo? Your copy of the content in your Sandbox account will be out of date. The next section is about how we grab those new changes from the remote repo and download them to our local repo. "
   ]
  },
  {
   "cell_type": "markdown",
   "metadata": {},
   "source": [
    "Oppositely, we can also make changes on our local repo and contribute them to the remote repo. Then, everyone who uses that code can download your improvements and additions. We will show you how to apply these changes in a way which allows everyone to see who made the changes, what the changes are, and confirm whether these changes should be added to the main repository &mdash; the version control abilities of Git. \n",
    "\n",
    "To do both these things, we will first need to understand how to use Git to track file changes through the graphical user interface on the Sandbox. This is a great option for new Git users as an alternative to the command-line interface. Select **Next** to continue."
   ]
  }
 ],
 "metadata": {
  "kernelspec": {
   "display_name": "Python 3",
   "language": "python",
   "name": "python3"
  },
  "language_info": {
   "codemirror_mode": {
    "name": "ipython",
    "version": 3
   },
   "file_extension": ".py",
   "mimetype": "text/x-python",
   "name": "python",
   "nbconvert_exporter": "python",
   "pygments_lexer": "ipython3",
   "version": "3.8.10"
  }
 },
 "nbformat": 4,
 "nbformat_minor": 4
}
