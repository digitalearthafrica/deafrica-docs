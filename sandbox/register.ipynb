{
 "cells": [
  {
   "cell_type": "markdown",
   "metadata": {},
   "source": [
    "# Register"
   ]
  },
  {
   "cell_type": "markdown",
   "metadata": {},
   "source": [
    "The Sandbox is free to use.\n",
    "Visit [sandbox.digitalearth.africa](https://sandbox.digitalearth.africa>) to sign up for a new account, or sign in if you have an existing account. A verification code will be sent to the email address you register with.\n",
    "\n",
    "If you are unable to find the verification code email, **please check your junk or spam folder**."
   ]
  },
  {
   "cell_type": "markdown",
   "metadata": {},
   "source": [
    "## Create an account\n",
    "\n",
    "1. Visit [https://sandbox.digitalearth.africa/](https://sandbox.digitalearth.africa/) and click **Login or Sign up**.\n",
    "2. Click **Sign up**.\n",
    "3. Fill in the **Username**, **Name**, **Email** and **Password** fields. Passwords must be at least 8 characters, and contain at minimum a lower case letter, an upper case letter and a number. Record your username securely as it will be required to reset your password should you forget it.\n",
    "\n",
    "<img align=\"middle\" src=\"../_static/sandbox/sandbox-register-form.PNG\" alt=\"The DE Africa Sandbox new user registration page.\" width=\"300\">\n",
    "\n",
    "4. Click **Sign up**.\n",
    "5. A verification code will have been sent to your nominated email address. Enter the verification code and click **Confirm Account**. This will automatically log you in.\n",
    "\n",
    "<img align=\"middle\" src=\"../_static/sandbox/sandbox-confirm-account.png\" alt=\"The DE Africa Sandbox new user confirm account page.\" width=\"300\">"
   ]
  },
  {
   "cell_type": "raw",
   "metadata": {
    "raw_mimetype": "text/restructuredtext"
   },
   "source": [
    ".. note::\n",
    "    If you have not received the verification code email, please check your spam or junk mail folders."
   ]
  },
  {
   "cell_type": "markdown",
   "metadata": {},
   "source": [
    "6. You will be prompted to select a sever from Server Options. For regular users, only the default environment is available. Select **Default environment** and click **Start**.\n",
    "\n",
    "<img align=\"middle\" src=\"../_static/sandbox/sandbox-default-env.png\" alt=\"The DE Africa Sandbox start server page.\" width=\"500\">\n",
    "\n",
    "The server will start up; this can take a few minutes. You will automatically be redirected to the Sandbox environment. \n",
    "\n",
    "The Sandbox runs completely in-browser and all necessary software is provided. No additional installation or configuration is required."
   ]
  }
 ],
 "metadata": {
  "kernelspec": {
   "display_name": "Python 3",
   "language": "python",
   "name": "python3"
  },
  "language_info": {
   "codemirror_mode": {
    "name": "ipython",
    "version": 3
   },
   "file_extension": ".py",
   "mimetype": "text/x-python",
   "name": "python",
   "nbconvert_exporter": "python",
   "pygments_lexer": "ipython3",
   "version": "3.8.10"
  }
 },
 "nbformat": 4,
 "nbformat_minor": 4
}
