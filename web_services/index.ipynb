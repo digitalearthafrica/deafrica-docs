{
 "cells": [
  {
   "cell_type": "markdown",
   "metadata": {},
   "source": [
    "# Web Services for GIS"
   ]
  },
  {
   "cell_type": "markdown",
   "metadata": {},
   "source": [
    "## Web Map Service / Web Coverage Service"
   ]
  },
  {
   "cell_type": "markdown",
   "metadata": {},
   "source": [
    "A Web Map Service (WMS) is an Open Geospatial Consortium (OGC) standard that allows users to remotely access georeferenced map images via secure hypertext transfer protocol (HTTPS) requests.\n",
    "\n",
    "DE Africa provides two types of maps services:\n",
    "\n",
    "* Web Map Service (WMS) – A standard protocol for serving georeferenced map images over the internet that are generated from a map server using data from a GIS database. It is important to note that with a WMS, you are essentially getting an image of geospatial data (i.e. JPG, GIF, PNG file). While this has its uses, it is an image only, and therefore does not contain any of the underlying geospatial data that was used to create the image.\n",
    "* Web Coverage Service (WCS) – A standard protocol for serving coverage data which returns data with its original semantics (instead of just pictures) which may be interpreted, extrapolated, etc., and not just portrayed. Essentially, a WCS can be thought of as the raw geospatial raster data behind an image. Using a WCS, you can pull the raw raster information you need to perform further analysis.\n",
    "\n",
    "So, to give a quick summarisation, a WMS is simply an image of a map. You can almost think of this like taking a screenshot of Google Maps. A WCS is the raw raster data, so for example, if you are working with a WCS containing Landsat imagery, you can effectively chunk off the piece you are interested in and download the full multispectral image at the spatial resolution of the original image. The beauty of these services is that you can grab only the information you need. So, rather than retrieving a file that contains the data you are seeking and possibly much more, you can confine your download to only your area of interest, allowing you to get what you need and no more.\n",
    "\n",
    "For more information, see this article on the [difference between GIS web services](https://www.l3harrisgeospatial.com/Learn/Blogs/Blog-Details/ArtMID/10198/ArticleID/16289/Web-Mapping-Service-Web-Coverage-Service-or-Web-Feature-Service-%E2%80%93-What%E2%80%99s-the-Difference).\n",
    "\n",
    "The tutorials below cover setting up WMS and connecting to WCS."
   ]
  },
  {
   "cell_type": "markdown",
   "metadata": {},
   "source": [
    "## Tutorial: Setting up WMS"
   ]
  },
  {
   "cell_type": "markdown",
   "metadata": {},
   "source": [
    "This tutorial shows how to set up the Web Map Services in QGIS, and use it with other data on your computer such as drone imagery, vector or raster data. This may be useful for you if you cannot upload the data to the DE Africa Map or the DE Africa Sandbox due to uploading due to size or internet bandwidth. It may also be useful if you feel more comfortable doing analysis in a GIS application.\n",
    "\n",
    "Although this tutorial focuses on QGIS, the same process can be used to connect other Desktop GIS applications. [QGIS](https://qgis.org/en/site/) is a free and open-source desktop GIS application. You can download it from https://qgis.org/en/site/."
   ]
  },
  {
   "cell_type": "markdown",
   "metadata": {},
   "source": [
    "**How to connect to WMS using QGIS**"
   ]
  },
  {
   "cell_type": "markdown",
   "metadata": {},
   "source": [
    "1. Launch QGIS.\n",
    "2. On the Menu Bar click on **Layer**.\n",
    "3. A sub-menu tab will show below Layer; click on **Add Layer**, choose **Add WMS/WMTS Layer**.\n",
    "\n",
    "<img align=\"middle\" src=\"../_static/web_services/ows_tutorial_1.png\" alt=\"QGIS - Add Layer\" width=\"500\">\n",
    "\n",
    "4. A dialogue will open as shown below. Click on the **New** button.\n",
    "\n",
    "<img align=\"middle\" src=\"../_static/web_services/ows_tutorial_2.png\" alt=\"QGIS - New Layer\" width=\"500\">\n",
    "\n",
    "5. A dialogue will open, as shown below: Provide the following details, these can be found at the URL https://ows.digitalearth.africa/.\n",
    "\n",
    "`Name: DE Africa Services`\n",
    "\n",
    "`URL:  https://ows.digitalearth.africa/wms?version=1.3.0 `\n",
    "\n",
    "<img align=\"middle\" src=\"../_static/web_services/ows_tutorial_3.png\" alt=\"QGIS - Create New Connection\" width=\"300\">\n",
    "\n",
    "6. After providing the details above, click on **OK**.\n",
    "7. The previous dialogue will show up, in the dropdown above the **New** button, you will see DE Africa Services. If it is not there click the dropdown button below and select it.\n",
    "8. The **Connect** button will be activated, click on it to load the layers. Anytime this page is open, because the connection has already been established, click on **Connect** to load the data.\n",
    "\n",
    "<img align=\"middle\" src=\"../_static/web_services/ows_tutorial_4.png\" alt=\"QGIS - View Connection\" width=\"500\">\n",
    "\n",
    "9. The layer will be loaded as shown below in the dialogue.\n",
    "10. Navigate through layers and choose the layer you will need to display on the Map Page.\n",
    "11. After selecting the layer, click on **Add** button at the bottom of the dialogue.\n",
    "12. Close the dialogue, the selected layer will be loaded onto the Map Page.\n"
   ]
  },
  {
   "cell_type": "markdown",
   "metadata": {},
   "source": [
    "**For web developers**\n",
    "\n",
    "The sites below provide instructions on how to load these map services onto your platform.\n",
    "\n",
    "https://leafletjs.com/examples/wms/wms.html\n",
    "\n",
    "https://openlayers.org/en/latest/examples/wms-tiled.html\n",
    "\n",
    "https://docs.microsoft.com/en-us/bingmaps/v8-web-control/map-control-concepts/layers/wms-tile-layer-example\n",
    "\n"
   ]
  },
  {
   "cell_type": "markdown",
   "metadata": {},
   "source": [
    "## Adding WMS-T(WMS with time support) layers in QGIS"
   ]
  },
  {
   "cell_type": "markdown",
   "metadata": {},
   "source": [
    "**How to add WMS-T layers using QGIS** "
   ]
  },
  {
   "cell_type": "markdown",
   "metadata": {},
   "source": [
    "1. Connect to the Web Map Service in QGIS by following the instructions in [Setting up WMS tutorial](#tutorial-setting-up-wms).\n",
    "2. In the QGIS Browser Panel navigate to the WMS/WMTS location and expand it to show the DE Africa Services resource. \n",
    "\n",
    "<img align=\"middle\" src=\"../_static/web_services/ows_tutorial_7.png\" alt=\"QGIS - WMS-T layers\" width=\"300\">\n",
    "\n",
    "3. Select a WMS-T layer from the DE Africa Services resource by either double clicking on the layer in the Browser Panel or right clicking on it and selecting Add Layer to Project to add the layer onto the map canvas.\n",
    "\n",
    "<img align=\"middle\" src=\"../_static/web_services/ows_tutorial_8.png\" alt=\"QGIS - WMS-T layers\" width=\"300\">\n",
    "\n",
    "4. The name of the loaded WMS-T layer is displayed in the Layers Panel with a clock symbol next it to indicate that it is a temporal layer. \n",
    "\n",
    "<img align=\"middle\" src=\"../_static/web_services/ows_tutorial_9.png\" alt=\"QGIS - WMS-T layers\" width=\"500\">\n"
   ]
  },
  {
   "cell_type": "markdown",
   "metadata": {},
   "source": [
    "**How to use the QGIS Temporal Controller with WMS-T layers**"
   ]
  },
  {
   "cell_type": "markdown",
   "metadata": {},
   "source": [
    "1. To use the Temporal Controller for WMS-T layers, ensure that in the Temporal section of the layer's Layer Properties, the **Dynamic Temporal Control** is selected. You can select the time range to be Automatic or Fixed time range. For the Automatic setting, the temporal handling is delegated to the data provider and the layer will be visualized for the animation time range set. Fixed time range setting is where the user sets the temporal range in which the layer will be visualised if the animation time is within this range. \n",
    "\n",
    "<img align=\"middle\" src=\"../_static/web_services/ows_tutorial_10.png\" alt=\"QGIS - WMS-T layers\" width=\"500\">\n",
    "\n",
    "<img align=\"middle\" src=\"../_static/web_services/ows_tutorial_11.png\" alt=\"QGIS - WMS-T layers\" width=\"500\">\n",
    "\n",
    "2. On the Map Navigation Toolbar select the clock symbol for the Temporal Controller Panel to activate the Temporal Controller Panel. \n",
    "\n",
    "<img align=\"middle\" src=\"../_static/web_services/ows_tutorial_12.png\" alt=\"QGIS - WMS-T layers\" width=\"500\">\n",
    "\n",
    "<img align=\"middle\" src=\"../_static/web_services/ows_tutorial_13.png\" alt=\"QGIS - WMS-T layers\" width=\"500\">\n",
    "\n",
    "3. To turn on the temporal navigation, select the Fixed range temporal navigation on the Temporal Controller Panel and set the time range for the animation. \n",
    "\n",
    "<img align=\"middle\" src=\"../_static/web_services/ows_tutorial_14.png\" alt=\"QGIS - WMS-T layers\" width=\"500\">\n",
    "\n",
    "4. Next, select the Animated temporal navigation (play icon) on the Temporal Controller Panel and set the time step for the animation.  \n",
    "\n",
    "<img align=\"middle\" src=\"../_static/web_services/ows_tutorial_15.png\" alt=\"QGIS - WMS-T layers\" width=\"500\">\n",
    "\n",
    "<img align=\"middle\" src=\"../_static/web_services/ows_tutorial_16.png\" alt=\"QGIS - WMS-T layers\" width=\"500\">\n",
    "\n",
    "5. Click on play to view the animation. \n",
    "\n",
    "<img align=\"middle\" src=\"../_static/web_services/ows_tutorial_17.gif\" alt=\"QGIS - WMS-T layers\" width=\"500\">"
   ]
  },
  {
   "cell_type": "markdown",
   "metadata": {},
   "source": [
    "**How to export the  animation from QGIS Temporal Controller**"
   ]
  },
  {
   "cell_type": "markdown",
   "metadata": {},
   "source": [
    "1. The animation can be exported from the QGIS temporal controller as a series of images. To export the animation click on the Export animation icon on the Temporal Controller Panel.\n",
    "\n",
    "<img align=\"middle\" src=\"../_static/web_services/ows_tutorial_18.png\" alt=\"QGIS - WMS-T layers\" width=\"500\">\n",
    "\n",
    "2. In the Export animation dialogue, specify: \n",
    "    * The naming template to be used for labelling the images. \n",
    "    * The output directory where the images will be saved.\n",
    "    * The map extent to be covered by the images. \n",
    "    * The width and height of the images. \n",
    "    * The temporal range and time step for the animation.\n",
    "    \n",
    "<img align=\"middle\" src=\"../_static/web_services/ows_tutorial_19.png\" alt=\"QGIS - WMS-T layers\" width=\"300\">\n",
    "\n",
    "3. The exported images will be saved in the specified ouput directory. \n",
    "\n",
    "<img align=\"middle\" src=\"../_static/web_services/ows_tutorial_20.png\" alt=\"QGIS - WMS-T layers\" width=\"500\">\n",
    "\n",
    "4. Using your preferred software you can use the images to create an animation."
   ]
  },
  {
   "cell_type": "markdown",
   "metadata": {},
   "source": [
    "## Tutorial: How to connect WCS"
   ]
  },
  {
   "cell_type": "markdown",
   "metadata": {},
   "source": [
    "This tutorial shows how to create a Web Coverage Service connection using QGIS. "
   ]
  },
  {
   "cell_type": "markdown",
   "metadata": {},
   "source": [
    "1. Launch QGIS.\n",
    "2. On the Menu Bar click on **Layer**.\n",
    "3. A sub-menu tab will show below Layer; click on **Add Layer**, choose **Add WCS Layer**.\n",
    "\n",
    "<img align=\"middle\" src=\"../_static/web_services/ows_tutorial_5.png\" alt=\"QGIS - Add WCS\" width=\"500\">\n",
    "\n",
    "4. Click on the **New** button.\n",
    "5. A dialogue will open, as shown below: Provide the following details, these can be found at the URL https://ows.digitalearth.africa/\n",
    "\n",
    "`Name: DE Africa Services`\n",
    "\n",
    "`URL:  https://ows.digitalearth.africa/wcs?version=2.1.0`\n",
    "\n",
    "<img align=\"middle\" src=\"../_static/web_services/ows_tutorial_6.png\" alt=\"QGIS - WCS Connection\" width=\"300\">\n",
    " \n",
    "6. After providing the details above, click on **OK**.\n",
    "7. The previous dialogue will show up, in the dropdown above the New button, you will see DE Africa Services, if it is not there click the dropdown button below and select it.\n",
    "8. The **Connect** button will be activated, click on it to load the layers. Anytime this page is open, because the connection has already been established, click on the **Connect** button to load the data.\n",
    "9. The layer will be loaded as shown below in the dialogue.\n",
    "\n",
    "<img align=\"middle\" src=\"../_static/web_services/ows_tutorial_4.png\" alt=\"QGIS - Loaded WCS\" width=\"500\">\n",
    "\n",
    "10. Navigate through layers and choose the layer you will need to display on the Map Page. With WCS you can select Time and Format of Image.\n",
    "11. After selecting the layer click on the **Add** button at the bottom of the dialogue.\n"
   ]
  }
 ],
 "metadata": {
  "kernelspec": {
   "display_name": "Python 3 (ipykernel)",
   "language": "python",
   "name": "python3"
  },
  "language_info": {
   "codemirror_mode": {
    "name": "ipython",
    "version": 3
   },
   "file_extension": ".py",
   "mimetype": "text/x-python",
   "name": "python",
   "nbconvert_exporter": "python",
   "pygments_lexer": "ipython3",
   "version": "3.8.10"
  }
 },
 "nbformat": 4,
 "nbformat_minor": 4
}
