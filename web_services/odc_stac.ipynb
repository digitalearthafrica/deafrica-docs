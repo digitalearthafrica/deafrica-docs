{
 "cells": [
  {
   "cell_type": "markdown",
   "id": "8bdbe333-348d-4487-a022-cf491a3a6309",
   "metadata": {},
   "source": [
    "# The odc-stac"
   ]
  },
  {
   "cell_type": "markdown",
   "id": "aba8eb08-694c-4380-b278-563abfedef15",
   "metadata": {},
   "source": [
    "## Why use odc-stac?"
   ]
  },
  {
   "cell_type": "markdown",
   "id": "d9d9c2f1-1e2e-4045-b98c-23aecd38a0c4",
   "metadata": {},
   "source": [
    "The Digital Earth Africa Sandbox is a managed environment based on JupyterLab.\n",
    "This environment provides users with direct access to an installed and pre-cconfigured Open Data Cube instance containing all of Digital Earth Africa's earth observation data. \n",
    "The Sandbox also provides users with limited computing resources for interacting with and analyzing Digital Earth Africa's earth observation data. \n",
    "To use the Digital Earth Africa Sandbox, you need to open http://sandbox.digitalearth.africa/ in your browser, create an account and log in using your credentials. \n",
    "One of the limitations of the Sandbox is that carrying out an analysis over a large area like an entire country or for the entire continent of Africa can challenging even with the larger 32GB environment. Another limitation is that being a managed environment, the user is limited in how much they can customize the Sandbox.  \n",
    "\n",
    "This is where `odc-stac` can come in.\n",
    "Digital Earth Africa stores a range of data products on Amazon Web Service's Simple Cloud Storage (S3) with free public access. \n",
    "Digital Earth Africa also provides a SpatioTemporal Asset Catalog (STAC) endpoint for listing or searching the metadata, e.g. bounding box (area of interest coordinates), collection and date and time, for this archive here: https://explorer.digitalearth.africa/stac.\n",
    "Using the STAC enpoint provided, the `odc-stac` tooling gives you the ability to access Digital Earth Africa's earth observation data outside of the Sandbox in the same format, as an `xarray.Dataset`, as you would in the Analysis Sandbox.\n",
    "This is because the `odc-stac` Python library allows you to load data into an `xarray` from STAC items from a STAC catalog. An example of this is provided here: [Access Sentinel 2 Analysis Ready Data from Digital Earth Africa notebook](https://odc-stac.readthedocs.io/en/latest/notebooks/stac-load-S2-deafrica.html).\n",
    "You can also use `odc-stac` to load other STAC compliant earth observation data as an `xarray.Dataset`.\n",
    "\n",
    "Using `odc-stac` means that, you can set up your own custom analysis environment locally or remotely and be able access,, interact with and analyze Digital Earth Africa's earth observation data in the same format as you would in the Sandbox. "
   ]
  },
  {
   "cell_type": "markdown",
   "id": "6ea96f59-96df-4cf3-adf9-b3de2ff36a7e",
   "metadata": {},
   "source": [
    "## Getting started with odc-stac."
   ]
  },
  {
   "cell_type": "markdown",
   "id": "c5b5f4be-a8c4-4a88-ba15-2eeac14247a6",
   "metadata": {},
   "source": [
    "Instructions on how to install `odc-stac` are provided [here](https://odc-stac.readthedocs.io/en/latest/intro.html#installation).\n",
    "Example notebooks on how you can use `odc-stac` can be found [here](https://odc-stac.readthedocs.io/en/latest/examples.html)"
   ]
  },
  {
   "cell_type": "markdown",
   "id": "2c51cc30-690a-4b67-b550-50d0a9cd6dd7",
   "metadata": {},
   "source": [
    "For more on the `odc-stac` see the [odc-stac documentation](https://odc-stac.readthedocs.io/en/latest) and the [odc-stac Github repository](https://github.com/opendatacube/odc-stac)."
   ]
  },
  {
   "cell_type": "markdown",
   "id": "5fa44594-aa3d-4946-ab82-0e642ba64374",
   "metadata": {},
   "source": [
    "## What is the odc-stac?"
   ]
  },
  {
   "cell_type": "markdown",
   "id": "c711b29b-f659-4de1-b205-011bd2fb7024",
   "metadata": {},
   "source": [
    "The `odc-stac` is a set of tools for converting STAC metadata to the Open Data Cube data model.\n",
    "`odc-stac` allows you to load STAC items into `xarray` Datasets, and process them locally or disribute data loading and computation with [Dask](https://dask.org/)."
   ]
  },
  {
   "cell_type": "markdown",
   "id": "b84550db-b2cd-441d-9d98-c90d928df0d2",
   "metadata": {},
   "source": [
    "The Open Data Cube (ODC) project is an open source solution for accessing, managing, and analyzing large quantities of Geographic Information System (GIS) data - namely Earth observation (EO) data by presenting a common analytical framework composed of a series of data structures and tools which facilitate the organization and analysis of large gridded data collections.\n",
    "The Open Data Cube (ODC) data model is based on 3 core concepts: Product, Dataset, Measurement.\n",
    "Datasets are a fundamental part of the ODC project. \n",
    "A dataset is *“The smallest aggregation of data independently described, inventoried, and managed”* (Definition of “Granule” from NASA EarthData Unified Metadata Model). \n",
    "A dataset can also be described as a container of metadata.\n",
    "Products are collections of datasets that share the same set of measurements and some subset of metadata.\n",
    "A measurement describes a single data variable of a Product or Dataset.\n",
    "For more information on the Open Data Cube project, see the [Open Data Cube website](https://www.opendatacube.org/) and the [Open Data Cube Manual](https://datacube-core.readthedocs.io/en/latest/)."
   ]
  },
  {
   "cell_type": "markdown",
   "id": "971c4ce4-054e-4217-8243-3af18fdb3a93",
   "metadata": {},
   "source": [
    "The SpatioTemporal Asset Catalog (STAC) specification is a newer, widely used, open specification that allows providers of spatiotemporal assets (Imagery, SAR, Point Clouds, Data Cubes, Full Motion Video, etc) to expose their data as SpatioTemporal Asset Catalogs (STAC), so that new code doesn't need to be written whenever a new dataset or API is released. \n",
    "This makes their data more easily indexed and discovered.\n",
    "A spatiotemporal asset is any file that represents information about the earth captured in a certain space and time.\n",
    "A UML diagram of the STAC model is provided [here](https://github.com/radiantearth/stac-spec/blob/master/STAC-UML.pdf#toolbar=0)."
   ]
  },
  {
   "cell_type": "markdown",
   "id": "68be4ba1-4d19-4bd1-9db5-c50b6938203b",
   "metadata": {},
   "source": [
    "There are 3 component specifications that together make up the core STAC specification. \n",
    "These are the STAC Item, STAC Catalog, and STAC Collection specifications. \n",
    "These specifications define related JSON object types connected by link relations. \n",
    "The STAC item object represents an unit of inseparable data and metadata, typically representing a single scene of data at one place at one time. \n",
    "The STAC Catalog is a very simple construct that provides a flexible structure to link various STAC Items or other STAC Catalogs together to be crawled or browsed.\n",
    "A STAC Collection provides additional information about a spatio-temporal collection of data by extending a STAC Catalog directly, layering on additional fields to enable description of things like the spatial and temporal extent of the data, the license, keywords, providers, etc. "
   ]
  },
  {
   "cell_type": "markdown",
   "id": "a371e122-d77d-4520-957b-ac8ea9664046",
   "metadata": {},
   "source": [
    "The STAC specification can be extended using stac-extensions. \n",
    "These extensions allow data providers to fully the describe the spatial information they wish to expose as SpatioTemporal Asset Catalogs (STAC). \n",
    "Extensions to the core STAC specification provide additional JSON fields that can be used to better describe spatial data. The Electro-Optical extension specification provides an STAC Item property, `eo:bands`. \n",
    "This property is used to describe the available spectral bands in a spatial-temporal asset. \n",
    "The band's `common_name` is the name that is commonly used to refer to that band's spectral properties. \n",
    "For more information on the STAC specification see the [STAC website](https://stacspec.org/) and the [STAC Github repository](https://github.com/radiantearth/stac-spec)."
   ]
  },
  {
   "cell_type": "markdown",
   "id": "66907103-1343-4064-838d-56ab012e4121",
   "metadata": {},
   "source": [
    "As seen in the above, ODC and STAC use different terminology for otherwise similar concepts. "
   ]
  },
  {
   "cell_type": "markdown",
   "id": "6c149f63-75e4-4a00-89d7-333c05ca74b9",
   "metadata": {},
   "source": [
    "**Table 1: Comparison between ODC and STAC concepts.**"
   ]
  },
  {
   "cell_type": "markdown",
   "id": "b0cec86d-019b-4ba7-a83c-cedb6764c12c",
   "metadata": {},
   "source": [
    "| STAC       | ODC                    | Description                                      | \n",
    "| :--        | :--                    | :--                                              |\n",
    "| [Collection](https://pystac.readthedocs.io/en/latest/api/pystac.html#pystac.Collection) | [Product](https://opendatacube.readthedocs.io/en/latest/about-core-concepts/products.html) or [DatasetType](https://datacube-core.readthedocs.io/en/latest/api/core-classes/datasetType.html#datacube.model.DatasetType) | Collection of observations across space and time |\n",
    "| [Item](https://pystac.readthedocs.io/en/latest/api/pystac.html#pystac.Item)      | [Dataset](https://datacube-core.readthedocs.io/en/latest/api/core-classes/dataset.html#datacube.model.Dataset)                | Single observation (specific time and place), multi-channel |\n",
    "| [Asset](https://pystac.readthedocs.io/en/latest/api/pystac.html#pystac.Asset)      | [Measurement](https://datacube-core.readthedocs.io/en/latest/api/core-classes/measurement.html#datacube.model.Measurement)           | Component of a single observation |\n",
    "| [Band](https://github.com/stac-extensions/eo#band-object)         | [Measurement](https://datacube-core.readthedocs.io/en/latest/api/core-classes/measurement.html#datacube.model.Measurement)             | Pixel plane within a multi-plane asset |\n",
    "| [Common Name](https://github.com/stac-extensions/eo#common-band-names)  | Alias                  | Refer to the same band by different  |"
   ]
  },
  {
   "cell_type": "markdown",
   "id": "8d8cd34a-58f5-43ae-85e5-ce7f96f1b8d0",
   "metadata": {},
   "source": [
    "**References**"
   ]
  },
  {
   "cell_type": "markdown",
   "id": "db79208b-ad0f-48ab-bd2b-8a988f467070",
   "metadata": {},
   "source": [
    "[odc-stac Github repository](https://github.com/opendatacube/odc-stac)"
   ]
  },
  {
   "cell_type": "markdown",
   "id": "4a7f9e43-f8ed-4aec-869f-ea42bb0398ce",
   "metadata": {},
   "source": [
    "[odc-stac Documentation](https://odc-stac.readthedocs.io/en/latest)"
   ]
  },
  {
   "cell_type": "markdown",
   "id": "3a5fe85c-7058-4be0-947d-4076de8a8118",
   "metadata": {},
   "source": [
    "[STAC Github repository](https://github.com/radiantearth/stac-spec)"
   ]
  },
  {
   "cell_type": "markdown",
   "id": "6c429ab2-8639-4dda-8056-5e7edef14cd2",
   "metadata": {},
   "source": [
    "[STAC website](https://stacspec.org/)"
   ]
  },
  {
   "cell_type": "markdown",
   "id": "5edfd753-4fa3-47b0-9030-6ad4f99f512a",
   "metadata": {},
   "source": [
    "[STAC Electro-Optical (EO) Extension Specification Github repository](https://github.com/stac-extensions/eo#common-band-names)"
   ]
  },
  {
   "cell_type": "markdown",
   "id": "352f36c1-a8b9-4767-84da-56f0510cb891",
   "metadata": {},
   "source": [
    "[Open Data Cube Manual](https://datacube-core.readthedocs.io/en/latest/)"
   ]
  }
 ],
 "metadata": {
  "kernelspec": {
   "display_name": "Python 3 (ipykernel)",
   "language": "python",
   "name": "python3"
  },
  "language_info": {
   "codemirror_mode": {
    "name": "ipython",
    "version": 3
   },
   "file_extension": ".py",
   "mimetype": "text/x-python",
   "name": "python",
   "nbconvert_exporter": "python",
   "pygments_lexer": "ipython3",
   "version": "3.8.10"
  }
 },
 "nbformat": 4,
 "nbformat_minor": 5
}
