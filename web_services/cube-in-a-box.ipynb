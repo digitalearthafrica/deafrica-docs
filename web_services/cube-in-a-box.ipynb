{
 "cells": [
  {
   "cell_type": "markdown",
   "id": "0b8fd991-af4e-43cd-918c-cbf9c0dc90da",
   "metadata": {},
   "source": [
    "# Cube in a Box (CIAB)"
   ]
  },
  {
   "cell_type": "markdown",
   "id": "dfcbb48d-0599-44ef-a5b7-b1da9435b785",
   "metadata": {},
   "source": [
    "# Why use the Cube in a Box?"
   ]
  },
  {
   "cell_type": "markdown",
   "id": "1de5e70a-1d60-4730-9c41-e14fe4d874d9",
   "metadata": {},
   "source": [
    "The Cube in a Box and the Digital Earth Africa Analysis Sandbox are both deployments of the Open Data Cube.\n",
    "\n",
    "The Digital Earth Africa Analysis Sandbox is a cloud deployment of the Open Data Cube. This environment is externally hosted and managed by Digital Earth Africa and consists of :\n",
    "\n",
    "- An Amazon Web Service instance of cloud computing \n",
    "\n",
    "- A JupyterLab platform for conducting analysis\n",
    "\n",
    "- Direct access to an Open Data Cube instance containing all of Digital Earth Africa's earth observation data. \n",
    "\n",
    "- Pre-loaded Jupyter notebooks demonstrating how to use the Open Data Cube to conduct earth observation analysis \n",
    "\n",
    "The Sandbox is the simplest way to getting started with the Open Data Cube.\n",
    "It provides a limited, but free compute resource to explore Digital Earth Africa's earth observation data and analysis tools for ad-hoc report generation and rapid development of new algorithms.\n",
    "Being an externally managed environment, the Sandbox only allows access to products indexed by Digital Earth Africa into the Open Data Cube instance. \n",
    "\n",
    "The Cube in a Box (CIAB) is a distributable, ready to run reference install of an independent Open Data Cube. \n",
    "It allows you to create your own Open Data Cube environment, similar to the Sandbox.\n",
    "If you are looking to install the Open Data Cube on your own resources, whether locally or on a cloud service such as Amazon Web Services (AWS) then the Cube in a Box is a great option. \n",
    "This Open Data Cube instance is specifically maintained and customized by the user. \n",
    "You can index Digital Earth Africa earth observation data and index (add) your own data, be it commercial, in-situ, or derived products into your self managed Open Data Cube instance. "
   ]
  },
  {
   "cell_type": "markdown",
   "id": "038d1141-8381-4458-9329-dec96ae19a94",
   "metadata": {},
   "source": [
    "## Getting started with Cube in a Box"
   ]
  },
  {
   "cell_type": "markdown",
   "id": "eb1a0077-7840-43d7-9892-810e9bcfdca7",
   "metadata": {},
   "source": [
    "Installing the Cube in a Box requires you to have Docker and Docker-Compose installed.\n",
    "To install the Digital Earth Africa's Cube in a Box, clone the the Github repository [digitalearthafrica/cube-in-a-box](https://github.com/digitalearthafrica/cube-in-a-box) and follow the [detialed install instructions](https://github.com/digitalearthafrica/cube-in-a-box/blob/main/docs/Detailed_Install.md). \n",
    "\n",
    "You can deploy the Cube in a Box to AWS using this [magic link](https://console.aws.amazon.com/cloudformation/home?#/stacks/new?stackName=cube-in-a-box&templateURL=https://deafrica-dev-cfn.s3.af-south-1.amazonaws.com/cube-in-a-box/cube-in-a-box-cloudformation.yml). \n",
    "You need to be logged in to the AWS Console to deploy using this URL. \n",
    "Once logged in, click the link, and follow the prompts including settings a bounding box region of interest, EC2 instance type and password for Jupyter.\n",
    "\n",
    "There is a notebook provided in the [Cube in a Box Github repository](https://github.com/digitalearthafrica/cube-in-a-box/blob/main/notebooks/Indexing_More_Data.ipynb) that shows how to index more data into the Cube in a Box."
   ]
  },
  {
   "cell_type": "markdown",
   "id": "c34ddfbd-58a6-4dbe-bebf-c432a86b5845",
   "metadata": {},
   "source": [
    "## Technical information"
   ]
  },
  {
   "cell_type": "markdown",
   "id": "b50666e2-b7b2-4f5a-8e7f-366a4ed4c0a0",
   "metadata": {},
   "source": [
    "The Open Data Cube is a collection of software that is designed to:\n",
    "- Catalogue large amounts of Earth Observation data\n",
    "\n",
    "- Provide a Python based API for high performance querying and data access\n",
    "\n",
    "- Give scientists and other users easy ability to perform Exploratory Data Analysis\n",
    "\n",
    "- Allow scalable continent scale processing of the stored data\n",
    "\n",
    "- Track the provenance of all the contained data to allow for quality control and updates\n",
    "\n",
    "The Open Data Cube is composed of the following: \n",
    "\n",
    "- Data: The data can be stored on a file system, either in local directories of GeoTIFFs or NetCDF files, or stored on an object store like AWS’ S3 as Cloud Optimised GeoTIFFs.\n",
    "\n",
    "- An index: This is a PostgreSQL database that contains an index pointing to where the actual data is stored. The index enables a user to ask for data at a time and location, without needing to know specifically where the required files are stored and how to access them.\n",
    "\n",
    "- Software : The Open Data Cube python library is the core of the ODC. Other Software include Jupyter Notebooks built on the ODC python library which one can use to explore the data indexed.  \n",
    "\n",
    "\n",
    "**Figure 1: Technical Components of the Open Data Cube**\n",
    "\n",
    "<img src=\"https://miro.medium.com/max/1400/1*2XgL8GGYEvDcOpiqZaWJ7Q.png\" alt=\"ODC technical components\" width=\"500\" align=\"center\"/>\n",
    "\n",
    "*Image from the What is the Open Data Cube? by Alex Leith.*\n",
    "\n",
    "\n",
    "The ODC can be deployed on various computing platforms. \n",
    "Possible deployments include:\n",
    "\n",
    "- Local deployment (e.g., high-end workstation)\n",
    "\n",
    "- Cloud (e.g., Amazon Web Services)\n",
    "\n",
    "- High Performance Computing infrastructure (e.g., NCI) "
   ]
  },
  {
   "cell_type": "markdown",
   "id": "c66c51be-56c0-49fa-9150-a4fbafcc7934",
   "metadata": {},
   "source": [
    "References\n",
    "\n",
    "[The Open Data Cube website](https://www.opendatacube.org/installation)\n",
    "\n",
    "[The Open Data Cube Manual](https://datacube-core.readthedocs.io/en/latest/)\n",
    "\n",
    "[What is the Open Data Cube?](https://medium.com/opendatacube/what-is-open-data-cube-805af60820d7)\n",
    "\n",
    "[Cube in a Box Github repositry](https://github.com/digitalearthafrica/cube-in-a-box)"
   ]
  }
 ],
 "metadata": {
  "kernelspec": {
   "display_name": "Python 3 (ipykernel)",
   "language": "python",
   "name": "python3"
  },
  "language_info": {
   "codemirror_mode": {
    "name": "ipython",
    "version": 3
   },
   "file_extension": ".py",
   "mimetype": "text/x-python",
   "name": "python",
   "nbconvert_exporter": "python",
   "pygments_lexer": "ipython3",
   "version": "3.8.10"
  }
 },
 "nbformat": 4,
 "nbformat_minor": 5
}
